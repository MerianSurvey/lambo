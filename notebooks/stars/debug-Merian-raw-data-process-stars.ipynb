{
 "cells": [
  {
   "cell_type": "markdown",
   "metadata": {},
   "source": [
    "### Process the real (raw) Merian data\n",
    "1. Scale the image to `ZP = 27.0` (same as HSC).\n",
    "2. Subtract background. **TODO: Have to consider the effect of background subtraction and image scaling on the weight map.**\n",
    "3. Extract PSF at a given position\n",
    "    \n",
    "    Download and install `psfex`: https://github.com/esheldon/psfex\n",
    "\n",
    "    Documentation: https://psfex.readthedocs.io/en/latest/GettingStarted.html"
   ]
  },
  {
   "cell_type": "code",
   "execution_count": 1,
   "metadata": {},
   "outputs": [],
   "source": [
    "%load_ext autoreload\n",
    "%autoreload 2"
   ]
  },
  {
   "cell_type": "code",
   "execution_count": 3,
   "metadata": {},
   "outputs": [],
   "source": [
    "import numpy as np\n",
    "import matplotlib.pyplot as plt\n",
    "\n",
    "import astropy.units as u\n",
    "from astropy import wcs\n",
    "from astropy.io import fits\n",
    "from astropy.table import Table, Column, hstack, vstack, QTable\n",
    "from astropy.coordinates import SkyCoord, match_coordinates_sky\n",
    "from astropy.visualization import make_lupton_rgb\n",
    "from astropy.utils.data import download_file, clear_download_cache\n",
    "\n",
    "import kuaizi\n",
    "from kuaizi.display import display_single, SEG_CMAP\n",
    "from kuaizi.download import download_decals_cutout\n",
    "from kuaizi import DECaLS_pixel_scale, DECaLS_zeropoint\n",
    "\n",
    "import pickle\n",
    "from IPython.display import clear_output"
   ]
  },
  {
   "cell_type": "code",
   "execution_count": 4,
   "metadata": {},
   "outputs": [],
   "source": [
    "import sep\n",
    "from kuaizi.utils import save_to_fits\n",
    "import os\n",
    "import sys"
   ]
  },
  {
   "cell_type": "code",
   "execution_count": 5,
   "metadata": {},
   "outputs": [
    {
     "data": {
      "text/plain": [
       "'/scratch/gpfs/jiaxuanl/Data/Merian/'"
      ]
     },
     "execution_count": 5,
     "metadata": {},
     "output_type": "execute_result"
    }
   ],
   "source": [
    "kuaizi.set_env(project='Merian', name='', data_dir='/scratch/gpfs/jiaxuanl/Data')"
   ]
  },
  {
   "cell_type": "code",
   "execution_count": 31,
   "metadata": {},
   "outputs": [],
   "source": [
    "obj_cat = Table.read('./Catalogs/stars/hsc_merian_n708_n540_deep_cosmos_isolated_pts_calib_use.fits')"
   ]
  },
  {
   "cell_type": "code",
   "execution_count": 32,
   "metadata": {},
   "outputs": [],
   "source": [
    "obj_cat.sort('hsc_index')\n",
    "\n",
    "obj_cat['half_size'] = np.ones(len(obj_cat)) * 10 * u.arcsec\n",
    "obj_cat.rename_column('hsc_coord_ra', 'ra')\n",
    "obj_cat.rename_column('hsc_coord_dec', 'dec')\n",
    "obj_cat.rename_column('hsc_index', 'ID')\n",
    "obj_cat['name'] = obj_cat['ID']\n",
    "\n",
    "obj_cat[:500].write('./Cutout/stars/stars_obj_cat.fits', overwrite=True)"
   ]
  },
  {
   "cell_type": "markdown",
   "metadata": {},
   "source": [
    "---"
   ]
  },
  {
   "cell_type": "markdown",
   "metadata": {},
   "source": [
    "### First generate N708/N540 using `merian_batch_cutout.py`"
   ]
  },
  {
   "cell_type": "code",
   "execution_count": 35,
   "metadata": {},
   "outputs": [],
   "source": [
    "obj_cat = Table.read('./Cutout/stars/stars-2022-04-25.fits')\n",
    "obj_cat.remove_column('prefix')\n",
    "obj_cat.write('./Cutout/stars/stars-2022-04-25_test.fits', overwrite=True)"
   ]
  },
  {
   "cell_type": "code",
   "execution_count": 36,
   "metadata": {},
   "outputs": [
    {
     "data": {
      "text/html": [
       "<i>Table length=500</i>\n",
       "<table id=\"table47362338800400\" class=\"table-striped table-bordered table-condensed\">\n",
       "<thead><tr><th>name</th><th>dir</th><th>chunk</th><th>ra</th><th>dec</th><th>half_size</th></tr></thead>\n",
       "<thead><tr><th></th><th></th><th></th><th></th><th></th><th>arcsec</th></tr></thead>\n",
       "<thead><tr><th>int64</th><th>bytes57</th><th>int64</th><th>float64</th><th>float64</th><th>float64</th></tr></thead>\n",
       "<tr><td>1832</td><td>/scratch/gpfs/jiaxuanl/Data/Merian/Cutout/stars/1/1832</td><td>1</td><td>150.57554178560906</td><td>1.5358103525310651</td><td>10.0</td></tr>\n",
       "<tr><td>2434</td><td>/scratch/gpfs/jiaxuanl/Data/Merian/Cutout/stars/1/2434</td><td>1</td><td>150.5977313187183</td><td>1.5525960498245008</td><td>10.0</td></tr>\n",
       "<tr><td>2748</td><td>/scratch/gpfs/jiaxuanl/Data/Merian/Cutout/stars/1/2748</td><td>1</td><td>150.57399042963755</td><td>1.5567145951470487</td><td>10.0</td></tr>\n",
       "<tr><td>4699</td><td>/scratch/gpfs/jiaxuanl/Data/Merian/Cutout/stars/1/4699</td><td>1</td><td>150.40380380129065</td><td>1.49689354484757</td><td>10.0</td></tr>\n",
       "<tr><td>5001</td><td>/scratch/gpfs/jiaxuanl/Data/Merian/Cutout/stars/1/5001</td><td>1</td><td>150.426597888368</td><td>1.5046642515908644</td><td>10.0</td></tr>\n",
       "<tr><td>5822</td><td>/scratch/gpfs/jiaxuanl/Data/Merian/Cutout/stars/1/5822</td><td>1</td><td>150.49456462822224</td><td>1.5146563642355966</td><td>10.0</td></tr>\n",
       "<tr><td>6013</td><td>/scratch/gpfs/jiaxuanl/Data/Merian/Cutout/stars/2/6013</td><td>2</td><td>150.4575937127335</td><td>1.5126010410439896</td><td>10.0</td></tr>\n",
       "<tr><td>6478</td><td>/scratch/gpfs/jiaxuanl/Data/Merian/Cutout/stars/2/6478</td><td>2</td><td>150.35294495348842</td><td>1.5206949177759064</td><td>10.0</td></tr>\n",
       "<tr><td>6585</td><td>/scratch/gpfs/jiaxuanl/Data/Merian/Cutout/stars/2/6585</td><td>2</td><td>150.42903118954624</td><td>1.5209427761997791</td><td>10.0</td></tr>\n",
       "<tr><td>...</td><td>...</td><td>...</td><td>...</td><td>...</td><td>...</td></tr>\n",
       "<tr><td>293627</td><td>/scratch/gpfs/jiaxuanl/Data/Merian/Cutout/stars/82/293627</td><td>82</td><td>149.61023770945752</td><td>1.7794240082193244</td><td>10.0</td></tr>\n",
       "<tr><td>293952</td><td>/scratch/gpfs/jiaxuanl/Data/Merian/Cutout/stars/82/293952</td><td>82</td><td>149.62499816941005</td><td>1.7785378528802276</td><td>10.0</td></tr>\n",
       "<tr><td>294449</td><td>/scratch/gpfs/jiaxuanl/Data/Merian/Cutout/stars/83/294449</td><td>83</td><td>149.7279078080279</td><td>1.7852414753622952</td><td>10.0</td></tr>\n",
       "<tr><td>295686</td><td>/scratch/gpfs/jiaxuanl/Data/Merian/Cutout/stars/83/295686</td><td>83</td><td>149.63586301069384</td><td>1.7956033417744082</td><td>10.0</td></tr>\n",
       "<tr><td>295711</td><td>/scratch/gpfs/jiaxuanl/Data/Merian/Cutout/stars/83/295711</td><td>83</td><td>149.61526755053623</td><td>1.794850275020739</td><td>10.0</td></tr>\n",
       "<tr><td>295938</td><td>/scratch/gpfs/jiaxuanl/Data/Merian/Cutout/stars/83/295938</td><td>83</td><td>149.67029853797126</td><td>1.7985482047630594</td><td>10.0</td></tr>\n",
       "<tr><td>296428</td><td>/scratch/gpfs/jiaxuanl/Data/Merian/Cutout/stars/83/296428</td><td>83</td><td>149.5983407360921</td><td>1.8004285036470493</td><td>10.0</td></tr>\n",
       "<tr><td>296489</td><td>/scratch/gpfs/jiaxuanl/Data/Merian/Cutout/stars/83/296489</td><td>83</td><td>149.73337339304928</td><td>1.8033432883209666</td><td>10.0</td></tr>\n",
       "<tr><td>296877</td><td>/scratch/gpfs/jiaxuanl/Data/Merian/Cutout/stars/84/296877</td><td>84</td><td>149.66797943868784</td><td>1.8076872202600105</td><td>10.0</td></tr>\n",
       "<tr><td>297938</td><td>/scratch/gpfs/jiaxuanl/Data/Merian/Cutout/stars/84/297938</td><td>84</td><td>149.71449792792046</td><td>1.813282580879083</td><td>10.0</td></tr>\n",
       "</table>"
      ],
      "text/plain": [
       "<Table length=500>\n",
       " name                             dir                            ... half_size\n",
       "                                                                 ...   arcsec \n",
       "int64                           bytes57                          ...  float64 \n",
       "------ --------------------------------------------------------- ... ---------\n",
       "  1832    /scratch/gpfs/jiaxuanl/Data/Merian/Cutout/stars/1/1832 ...      10.0\n",
       "  2434    /scratch/gpfs/jiaxuanl/Data/Merian/Cutout/stars/1/2434 ...      10.0\n",
       "  2748    /scratch/gpfs/jiaxuanl/Data/Merian/Cutout/stars/1/2748 ...      10.0\n",
       "  4699    /scratch/gpfs/jiaxuanl/Data/Merian/Cutout/stars/1/4699 ...      10.0\n",
       "  5001    /scratch/gpfs/jiaxuanl/Data/Merian/Cutout/stars/1/5001 ...      10.0\n",
       "  5822    /scratch/gpfs/jiaxuanl/Data/Merian/Cutout/stars/1/5822 ...      10.0\n",
       "  6013    /scratch/gpfs/jiaxuanl/Data/Merian/Cutout/stars/2/6013 ...      10.0\n",
       "  6478    /scratch/gpfs/jiaxuanl/Data/Merian/Cutout/stars/2/6478 ...      10.0\n",
       "  6585    /scratch/gpfs/jiaxuanl/Data/Merian/Cutout/stars/2/6585 ...      10.0\n",
       "   ...                                                       ... ...       ...\n",
       "293627 /scratch/gpfs/jiaxuanl/Data/Merian/Cutout/stars/82/293627 ...      10.0\n",
       "293952 /scratch/gpfs/jiaxuanl/Data/Merian/Cutout/stars/82/293952 ...      10.0\n",
       "294449 /scratch/gpfs/jiaxuanl/Data/Merian/Cutout/stars/83/294449 ...      10.0\n",
       "295686 /scratch/gpfs/jiaxuanl/Data/Merian/Cutout/stars/83/295686 ...      10.0\n",
       "295711 /scratch/gpfs/jiaxuanl/Data/Merian/Cutout/stars/83/295711 ...      10.0\n",
       "295938 /scratch/gpfs/jiaxuanl/Data/Merian/Cutout/stars/83/295938 ...      10.0\n",
       "296428 /scratch/gpfs/jiaxuanl/Data/Merian/Cutout/stars/83/296428 ...      10.0\n",
       "296489 /scratch/gpfs/jiaxuanl/Data/Merian/Cutout/stars/83/296489 ...      10.0\n",
       "296877 /scratch/gpfs/jiaxuanl/Data/Merian/Cutout/stars/84/296877 ...      10.0\n",
       "297938 /scratch/gpfs/jiaxuanl/Data/Merian/Cutout/stars/84/297938 ...      10.0"
      ]
     },
     "execution_count": 36,
     "metadata": {},
     "output_type": "execute_result"
    }
   ],
   "source": [
    "obj_cat"
   ]
  },
  {
   "cell_type": "code",
   "execution_count": null,
   "metadata": {},
   "outputs": [],
   "source": []
  },
  {
   "cell_type": "markdown",
   "metadata": {},
   "source": [
    "### Also need to generate HSC cutouts"
   ]
  },
  {
   "cell_type": "code",
   "execution_count": 37,
   "metadata": {},
   "outputs": [],
   "source": [
    "sys.path.append('/home/jiaxuanl/Research/Merian/merian_tractor/scripts')\n",
    "from s18a_batch_cutout import batch_cutout"
   ]
  },
  {
   "cell_type": "code",
   "execution_count": 24,
   "metadata": {},
   "outputs": [],
   "source": [
    "DATADIR=\"/scratch/gpfs/jiaxuanl/Data/\"\n",
    "LSBGDIR=\"/scratch/gpfs/jiaxuanl/Data/Merian/\""
   ]
  },
  {
   "cell_type": "code",
   "execution_count": 30,
   "metadata": {},
   "outputs": [
    {
     "name": "stdout",
     "output_type": "stream",
     "text": [
      "\n",
      " Number of jobs: 3\n",
      "\n",
      " Number of galaxies: 2\n",
      "    - Generate cutouts for 2 galaxies in g-band.\n",
      "    - Generate cutouts for 2 galaxies in r-band.\n",
      "    - Generate cutouts for 2 galaxies in i-band.\n",
      "    - Generate cutouts for 2 galaxies in z-band.\n",
      "    - Generate cutouts for 2 galaxies in y-band.\n",
      "Elapsed time: 63.74 s\n"
     ]
    }
   ],
   "source": [
    "batch_cutout(DATADIR, \n",
    "             LSBGDIR + \"/Cutout/stars/stars-2022-04-25_n708_test.fits\", \n",
    "             catalog_dir='./Catalogs/stars/',\n",
    "             low=0, high=None, size='half_size', unit='arcsec', \n",
    "             bands='grizy', name='name', prefix='s18a_wide', njobs=3,\n",
    "             overwrite=False)"
   ]
  },
  {
   "cell_type": "code",
   "execution_count": 150,
   "metadata": {},
   "outputs": [
    {
     "data": {
      "text/plain": [
       "'./Cutout/magellan_spec/1/296216/s18a_wide_296216'"
      ]
     },
     "execution_count": 150,
     "metadata": {},
     "output_type": "execute_result"
    }
   ],
   "source": [
    "obj['prefix'].replace('./Cutout/', './Cutout/' +\n",
    "                        obj['dir'].replace(\n",
    "                            '/scratch/gpfs/jiaxuanl/Data/Merian/Cutout/', '') + '/')"
   ]
  },
  {
   "cell_type": "code",
   "execution_count": null,
   "metadata": {},
   "outputs": [],
   "source": []
  },
  {
   "cell_type": "code",
   "execution_count": null,
   "metadata": {},
   "outputs": [],
   "source": []
  },
  {
   "cell_type": "code",
   "execution_count": null,
   "metadata": {},
   "outputs": [],
   "source": []
  }
 ],
 "metadata": {
  "kernelspec": {
   "display_name": "Python 3",
   "language": "python",
   "name": "python3"
  },
  "language_info": {
   "codemirror_mode": {
    "name": "ipython",
    "version": 3
   },
   "file_extension": ".py",
   "mimetype": "text/x-python",
   "name": "python",
   "nbconvert_exporter": "python",
   "pygments_lexer": "ipython3",
   "version": "3.7.8"
  }
 },
 "nbformat": 4,
 "nbformat_minor": 2
}
