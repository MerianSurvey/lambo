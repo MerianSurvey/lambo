{
 "cells": [
  {
   "cell_type": "markdown",
   "metadata": {},
   "source": [
    "### Process the real (raw) Merian data\n",
    "1. Scale the image to `ZP = 27.0` (same as HSC).\n",
    "2. Subtract background. **TODO: Have to consider the effect of background subtraction and image scaling on the weight map.**\n",
    "3. Extract PSF at a given position\n",
    "    \n",
    "    Download and install `psfex`: https://github.com/esheldon/psfex\n",
    "\n",
    "    Documentation: https://psfex.readthedocs.io/en/latest/GettingStarted.html"
   ]
  },
  {
   "cell_type": "code",
   "execution_count": 1,
   "metadata": {},
   "outputs": [],
   "source": [
    "%load_ext autoreload\n",
    "%autoreload 2"
   ]
  },
  {
   "cell_type": "code",
   "execution_count": 61,
   "metadata": {},
   "outputs": [],
   "source": [
    "import numpy as np\n",
    "import matplotlib.pyplot as plt\n",
    "\n",
    "import astropy.units as u\n",
    "from astropy import wcs\n",
    "from astropy.io import fits\n",
    "from astropy.table import Table, Column, hstack, vstack, QTable\n",
    "from astropy.coordinates import SkyCoord, match_coordinates_sky\n",
    "from astropy.visualization import make_lupton_rgb\n",
    "from astropy.utils.data import download_file, clear_download_cache\n",
    "\n",
    "import kuaizi\n",
    "from kuaizi.display import display_single, SEG_CMAP\n",
    "from kuaizi.download import download_decals_cutout\n",
    "from kuaizi import DECaLS_pixel_scale, DECaLS_zeropoint\n",
    "\n",
    "import pickle\n",
    "from IPython.display import clear_output"
   ]
  },
  {
   "cell_type": "code",
   "execution_count": 3,
   "metadata": {},
   "outputs": [],
   "source": [
    "import sep\n",
    "from kuaizi.utils import save_to_fits\n",
    "import os\n",
    "import sys"
   ]
  },
  {
   "cell_type": "code",
   "execution_count": 5,
   "metadata": {},
   "outputs": [
    {
     "data": {
      "text/plain": [
       "'/scratch/gpfs/jiaxuanl/Data/Merian/'"
      ]
     },
     "execution_count": 5,
     "metadata": {},
     "output_type": "execute_result"
    }
   ],
   "source": [
    "kuaizi.set_env(project='Merian', name='', data_dir='/scratch/gpfs/jiaxuanl/Data')"
   ]
  },
  {
   "cell_type": "code",
   "execution_count": 125,
   "metadata": {},
   "outputs": [],
   "source": [
    "obs_cat = QTable.read('./Catalogs/magellan/cosmos_imacs_z.fits')\n",
    "cosmos_cat = QTable.read('./Catalogs/magellan/COSMOS_IMACS_targets.fits')\n",
    "\n",
    "flag = np.in1d(cosmos_cat['OBJID'].astype('S16').data, obs_cat['id'].data)\n",
    "obs_cat = obs_cat[np.in1d(obs_cat['id'].data, cosmos_cat[flag]['OBJID'])]\n",
    "cosmos_cat = cosmos_cat[flag]\n",
    "\n",
    "obs_cat['id'] = obs_cat['id'].astype(int)\n",
    "\n",
    "obs_cat.sort('id')\n",
    "cosmos_cat.sort('OBJID')\n",
    "\n",
    "assert np.sum(cosmos_cat['OBJID'].data != obs_cat['id']) == 0, 'two catalogs do not match'\n",
    "obj_cat = hstack([cosmos_cat, obs_cat])\n",
    "obj_cat['half_size'] = np.ones(len(obj_cat)) * 10 * u.arcsec\n",
    "obj_cat.rename_column('RA', 'ra')\n",
    "obj_cat.rename_column('DEC', 'dec')\n",
    "obj_cat.rename_column('OBJID', 'name')\n",
    "obj_cat.write('./Cutout/magellan_spec/magellan_spec_obj_cat.fits', overwrite=True)"
   ]
  },
  {
   "cell_type": "markdown",
   "metadata": {},
   "source": [
    "---"
   ]
  },
  {
   "cell_type": "code",
   "execution_count": 137,
   "metadata": {},
   "outputs": [],
   "source": [
    "obj_cat = Table.read('./Cutout/magellan_spec/magellan_spec-2022-04-20_n708_done.fits')\n",
    "obj_cat.remove_column('PREFIX')\n",
    "obj_cat.write('./Cutout/magellan_spec/magellan_spec-2022-04-20_n708_test.fits', overwrite=True)"
   ]
  },
  {
   "cell_type": "markdown",
   "metadata": {},
   "source": [
    "### Also need to generate HSC cutouts"
   ]
  },
  {
   "cell_type": "code",
   "execution_count": 139,
   "metadata": {},
   "outputs": [],
   "source": [
    "sys.path.append('/home/jiaxuanl/Research/Merian/merian_tractor/scripts')\n",
    "from s18a_batch_cutout import batch_cutout"
   ]
  },
  {
   "cell_type": "code",
   "execution_count": 152,
   "metadata": {},
   "outputs": [],
   "source": [
    "DATADIR=\"/scratch/gpfs/jiaxuanl/Data/\"\n",
    "LSBGDIR=\"/scratch/gpfs/jiaxuanl/Data/Merian/\""
   ]
  },
  {
   "cell_type": "code",
   "execution_count": null,
   "metadata": {},
   "outputs": [
    {
     "name": "stdout",
     "output_type": "stream",
     "text": [
      "\n",
      " Number of jobs: 3\n",
      "\n",
      " Number of galaxies: 759\n",
      "    - Generate cutouts for 759 galaxies in g-band.\n",
      "    - Generate cutouts for 759 galaxies in r-band.\n",
      "    - Generate cutouts for 759 galaxies in i-band.\n",
      "    - Generate cutouts for 759 galaxies in z-band.\n"
     ]
    }
   ],
   "source": [
    "batch_cutout(DATADIR, \n",
    "             LSBGDIR + \"/Cutout/magellan_spec/magellan_spec-2022-04-20_n708_test.fits\", \n",
    "             low=0, high=None, size='half_size', unit='arcsec', \n",
    "             bands='grizy', name='name', prefix='s18a_wide', njobs=3,\n",
    "             overwrite=False)"
   ]
  },
  {
   "cell_type": "code",
   "execution_count": 144,
   "metadata": {},
   "outputs": [
    {
     "data": {
      "text/html": [
       "<i>Row index=0</i>\n",
       "<table id=\"table47747790268880\">\n",
       "<thead><tr><th>name</th><th>dir</th><th>chunk</th><th>ra</th><th>dec</th><th>half_size</th><th>cutout_size</th><th>prefix</th><th>RA</th><th>DEC</th><th>radius</th><th>image_flag [5]</th><th>psf_flag [5]</th></tr></thead>\n",
       "<thead><tr><th></th><th></th><th></th><th></th><th></th><th>arcsec</th><th></th><th></th><th></th><th></th><th>arcsec</th><th></th><th></th></tr></thead>\n",
       "<thead><tr><th>int64</th><th>bytes65</th><th>int64</th><th>float64</th><th>float64</th><th>float64</th><th>float64</th><th>bytes25</th><th>float64</th><th>float64</th><th>float64</th><th>bool</th><th>bool</th></tr></thead>\n",
       "<tr><td>296216</td><td>/scratch/gpfs/jiaxuanl/Data/Merian/Cutout/magellan_spec/1/296216</td><td>1</td><td>149.63458645739482</td><td>1.748167461843215</td><td>10.0</td><td>10.0</td><td>./Cutout/s18a_wide_296216</td><td>149.63458645739482</td><td>1.748167461843215</td><td>10.0</td><td>False .. False</td><td>False .. False</td></tr>\n",
       "</table>"
      ],
      "text/plain": [
       "<Row index=0>\n",
       " name                                dir                                chunk         ra                dec        half_size cutout_size           prefix                  RA                DEC         radius image_flag [5]  psf_flag [5] \n",
       "                                                                                                                     arcsec                                                                              arcsec                              \n",
       "int64                              bytes65                              int64      float64            float64       float64    float64            bytes25               float64            float64      float64      bool           bool     \n",
       "------ ---------------------------------------------------------------- ----- ------------------ ----------------- --------- ----------- ------------------------- ------------------ ----------------- ------- -------------- --------------\n",
       "296216 /scratch/gpfs/jiaxuanl/Data/Merian/Cutout/magellan_spec/1/296216     1 149.63458645739482 1.748167461843215      10.0        10.0 ./Cutout/s18a_wide_296216 149.63458645739482 1.748167461843215    10.0 False .. False False .. False"
      ]
     },
     "execution_count": 144,
     "metadata": {},
     "output_type": "execute_result"
    }
   ],
   "source": [
    "obj = Table.read('./Catalogs/s18a_wide_cutout_cat_.fits')[0]\n",
    "obj"
   ]
  },
  {
   "cell_type": "code",
   "execution_count": null,
   "metadata": {},
   "outputs": [],
   "source": []
  },
  {
   "cell_type": "code",
   "execution_count": 150,
   "metadata": {},
   "outputs": [
    {
     "data": {
      "text/plain": [
       "'./Cutout/magellan_spec/1/296216/s18a_wide_296216'"
      ]
     },
     "execution_count": 150,
     "metadata": {},
     "output_type": "execute_result"
    }
   ],
   "source": [
    "obj['prefix'].replace('./Cutout/', './Cutout/' +\n",
    "                        obj['dir'].replace(\n",
    "                            '/scratch/gpfs/jiaxuanl/Data/Merian/Cutout/', '') + '/')"
   ]
  },
  {
   "cell_type": "code",
   "execution_count": null,
   "metadata": {},
   "outputs": [],
   "source": []
  },
  {
   "cell_type": "code",
   "execution_count": null,
   "metadata": {},
   "outputs": [],
   "source": []
  },
  {
   "cell_type": "code",
   "execution_count": 25,
   "metadata": {},
   "outputs": [],
   "source": [
    "# N708\n",
    "for obj in obj_cat[:]:\n",
    "    file = os.path.join(obj['dir'], f'{obj[\"PREFIX\"]}_N708_deepCoadd_calexp.fits')\n",
    "    newfile = file.replace('/projects/MERIAN/poststamps/g09_broadcut_new', \n",
    "                           '/scratch/gpfs/jiaxuanl/Data/Merian/Cutout/_new/')\n",
    "    os.system(f'cp {file} {newfile}')\n",
    "    \n",
    "    file = os.path.join(obj['dir'], f'{obj[\"PREFIX\"]}_N708_psf.fits')\n",
    "    newfile = file.replace('/projects/MERIAN/poststamps/g09_broadcut_new', \n",
    "                           '/scratch/gpfs/jiaxuanl/Data/Merian/Cutout/_new/')\n",
    "    os.system(f'cp {file} {newfile}')"
   ]
  },
  {
   "cell_type": "code",
   "execution_count": 26,
   "metadata": {},
   "outputs": [],
   "source": [
    "# N540\n",
    "for obj in obj_cat[:]:\n",
    "    file = os.path.join(obj['dir'], f'{obj[\"PREFIX\"]}_n540_deepCoadd_calexp.fits')\n",
    "    file = file.replace('g09_broadcut_new', 'g09_broadcut')\n",
    "    newfile = file.replace('/projects/MERIAN/poststamps/g09_broadcut', \n",
    "                           '/scratch/gpfs/jiaxuanl/Data/Merian/Cutout/_new/')\n",
    "    newfile = newfile.replace('n540', 'N540')\n",
    "    os.system(f'cp {file} {newfile}')\n",
    "    \n",
    "    file = os.path.join(obj['dir'], f'{obj[\"PREFIX\"]}_n540_psf.fits')\n",
    "    file = file.replace('g09_broadcut_new', 'g09_broadcut')\n",
    "    newfile = file.replace('/projects/MERIAN/poststamps/g09_broadcut', \n",
    "                           '/scratch/gpfs/jiaxuanl/Data/Merian/Cutout/_new/')\n",
    "    newfile = newfile.replace('n540', 'N540')\n",
    "    os.system(f'cp {file} {newfile}')"
   ]
  },
  {
   "cell_type": "code",
   "execution_count": null,
   "metadata": {},
   "outputs": [],
   "source": []
  },
  {
   "cell_type": "code",
   "execution_count": 49,
   "metadata": {},
   "outputs": [
    {
     "data": {
      "text/html": [
       "<i>Row index=499</i>\n",
       "<table id=\"table47913219609040\">\n",
       "<thead><tr><th>ID</th><th>PREFIX</th><th>dir</th><th>chunk</th><th>ra</th><th>dec</th><th>half_size</th><th>name</th><th>N708_tractor_flux</th><th>g_tractor_flux</th><th>r_tractor_flux</th><th>i_tractor_flux</th><th>z_tractor_flux</th><th>y_tractor_flux</th><th>tractor_sersic_index</th><th>tractor_re</th><th>g_gaap_mag</th><th>r_gaap_mag</th><th>i_gaap_mag</th><th>z_gaap_mag</th><th>y_gaap_mag</th><th>N708_gaap_mag</th><th>N540_gaap_mag</th><th>z_cosmos</th><th>mass_cosmos</th><th>ID_yifei</th></tr></thead>\n",
       "<thead><tr><th></th><th></th><th></th><th></th><th></th><th></th><th>arcsec</th><th></th><th></th><th></th><th></th><th></th><th></th><th></th><th></th><th></th><th></th><th></th><th></th><th></th><th></th><th></th><th></th><th></th><th></th><th></th></tr></thead>\n",
       "<thead><tr><th>int64</th><th>bytes30</th><th>bytes65</th><th>int64</th><th>float64</th><th>float64</th><th>float64</th><th>bytes26</th><th>float64</th><th>float64</th><th>float64</th><th>float64</th><th>float64</th><th>float64</th><th>float64</th><th>float64</th><th>float64</th><th>float64</th><th>float64</th><th>float64</th><th>float64</th><th>float64</th><th>float64</th><th>float64</th><th>float64</th><th>int64</th></tr></thead>\n",
       "<tr><td>43158584464269160</td><td>g09_broadcut_43158584464269160</td><td>/projects/MERIAN/poststamps/g09_broadcut_new/21/43158584464269160</td><td>21</td><td>150.24015958954186</td><td>1.6278470294283613</td><td>8.966204135530264</td><td>cosmos_43158584464269160_y</td><td>0.31933787339460457</td><td>0.27624915307852543</td><td>0.5774337596535115</td><td>0.7590125450373362</td><td>0.9010435911305796</td><td>1.0549070561963656</td><td>0.0</td><td>0.46970513203725595</td><td>23.851113120039912</td><td>23.035300837876484</td><td>22.781219061594122</td><td>22.529853898129744</td><td>22.52245767517013</td><td>22.88666185808163</td><td>23.353810700829325</td><td>0.3319000005722046</td><td>9.04985</td><td>230148</td></tr>\n",
       "</table>"
      ],
      "text/plain": [
       "<Row index=499>\n",
       "        ID                    PREFIX                                            dir                                chunk         ra                dec             half_size                name             N708_tractor_flux     g_tractor_flux     r_tractor_flux     i_tractor_flux     z_tractor_flux     y_tractor_flux   tractor_sersic_index      tractor_re         g_gaap_mag         r_gaap_mag         i_gaap_mag         z_gaap_mag         y_gaap_mag      N708_gaap_mag     N540_gaap_mag         z_cosmos      mass_cosmos ID_yifei\n",
       "                                                                                                                                                                     arcsec                                                                                                                                                                                                                                                                                                                                                                        \n",
       "      int64                  bytes30                                          bytes65                              int64      float64            float64            float64               bytes26                 float64             float64            float64            float64            float64            float64             float64              float64            float64            float64            float64            float64            float64           float64           float64            float64         float64    int64  \n",
       "----------------- ------------------------------ ----------------------------------------------------------------- ----- ------------------ ------------------ ----------------- -------------------------- ------------------- ------------------- ------------------ ------------------ ------------------ ------------------ -------------------- ------------------- ------------------ ------------------ ------------------ ------------------ ----------------- ----------------- ------------------ ------------------ ----------- --------\n",
       "43158584464269160 g09_broadcut_43158584464269160 /projects/MERIAN/poststamps/g09_broadcut_new/21/43158584464269160    21 150.24015958954186 1.6278470294283613 8.966204135530264 cosmos_43158584464269160_y 0.31933787339460457 0.27624915307852543 0.5774337596535115 0.7590125450373362 0.9010435911305796 1.0549070561963656                  0.0 0.46970513203725595 23.851113120039912 23.035300837876484 22.781219061594122 22.529853898129744 22.52245767517013 22.88666185808163 23.353810700829325 0.3319000005722046     9.04985   230148"
      ]
     },
     "execution_count": 49,
     "metadata": {},
     "output_type": "execute_result"
    }
   ],
   "source": [
    "obj"
   ]
  },
  {
   "cell_type": "code",
   "execution_count": null,
   "metadata": {},
   "outputs": [],
   "source": []
  }
 ],
 "metadata": {
  "kernelspec": {
   "display_name": "Python 3 (ipykernel)",
   "language": "python",
   "name": "python3"
  },
  "language_info": {
   "codemirror_mode": {
    "name": "ipython",
    "version": 3
   },
   "file_extension": ".py",
   "mimetype": "text/x-python",
   "name": "python",
   "nbconvert_exporter": "python",
   "pygments_lexer": "ipython3",
   "version": "3.10.4"
  }
 },
 "nbformat": 4,
 "nbformat_minor": 2
}
