{
 "cells": [
  {
   "cell_type": "code",
   "execution_count": 1,
   "metadata": {},
   "outputs": [
    {
     "name": "stdout",
     "output_type": "stream",
     "text": [
      "Overriding default configuration file with /projects/HSC/LSST/stack_20220527/conda/envs/lsst-scipipe-4.1.0/share/eups/Linux64/dustmaps_cachedata/g41a3ec361e+62d12e78cb/config/.dustmapsrc\n"
     ]
    }
   ],
   "source": [
    "import os, sys\n",
    "import glob\n",
    "import numpy as np\n",
    "sys.path.append(os.path.join(os.getenv('LAMBO_HOME'), 'lambo/scripts/'))\n",
    "\n",
    "from hsc_gaap.gaap import findReducedPatches\n",
    "from hsc_gaap.check_gaap_run import checkRun\n",
    "%load_ext autoreload\n",
    "%autoreload 2\n"
   ]
  },
  {
   "cell_type": "code",
   "execution_count": 8,
   "metadata": {},
   "outputs": [],
   "source": [
    "tracts = [8282, 8283, 8284, 8285, 8286, 9326, 9327, 9328, 9329, 8522, 8523, 8526, 8527, 8768, 8769, 9010, 9011, 9071, 9072, 9073,\n",
    "          9074, 9075, 9076, 9077, 9078, 9079, 9080, 9081, 9082, 9083, 9084, 9086, 9086, 9087, 9088, 9089, 9090, 9091, 9092, 9096,\n",
    "          9097, 9098, 9099, 9100, 9101, 9102, 9103, 9104, 9131, 9132, 9133, 9134, 9135, 9136, 9226, 9227, 9313, 9314, 9315, 9316, \n",
    "          9317, 9318, 9319, 9320, 9321, 9322, 9323, 9324, 9325, 9330, 9331, 9332, 9333, 9334, 9335, 9336, 9339, 9340, 9341, 9342,  \n",
    "          9343, 9344, 9345, 9346, 9347, 9373, 9374, 9375, 9376, 9377, 9378, 9379, 9455, 9456, 9457, 9458, 9459, 9465, 9466, 9467,\n",
    "          9468, 9469, 9470, 9471, 9556, 9557, 9558, 9559, 9560, 9561, 9562, 9563, 9564, 9565, 9568, 9586, 9587, 9594, 9813, 9836, \n",
    "          10059, 10284]"
   ]
  },
  {
   "cell_type": "code",
   "execution_count": 20,
   "metadata": {},
   "outputs": [],
   "source": [
    "newtracts=[9812, 9814, 9829, 9830, 9831, 9832, 9834, 9835, 10054, 10055, 10056, 10071, 10072, 10073, 10074, 10075, 10076, 10077]"
   ]
  },
  {
   "cell_type": "code",
   "execution_count": 2,
   "metadata": {},
   "outputs": [],
   "source": [
    "newertracts = [9566, 9567, 9568, 9569, 9570, 9571, 9572, \n",
    "               9573, 9574, 9575, 9576, 9577, 9578, 9579,\n",
    "               9580, 9582, 9583, 9584, 9585, 9587, \n",
    "               9588, 9589, 9590, 9591, 9592, 9593, 9594, 9595, 9596]"
   ]
  },
  {
   "cell_type": "code",
   "execution_count": 5,
   "metadata": {},
   "outputs": [
    {
     "name": "stdout",
     "output_type": "stream",
     "text": [
      "[9575, 9576, 9577, 9578, 9579, 9580, 9582, 9583, 9584, 9585, 9587, 9588, 9589, 9590, 9591, 9592, 9593, 9594, 9595, 9596]\n"
     ]
    }
   ],
   "source": [
    "print(newertracts[9:])"
   ]
  },
  {
   "cell_type": "code",
   "execution_count": 3,
   "metadata": {},
   "outputs": [
    {
     "name": "stdout",
     "output_type": "stream",
     "text": [
      "TRACT: 9566\n",
      "NO PROBLEMS\n",
      "\n",
      "TRACT: 9567\n",
      "NO PROBLEMS\n",
      "\n",
      "TRACT: 9568\n",
      "NO PROBLEMS\n",
      "\n",
      "TRACT: 9569\n",
      "NO PROBLEMS\n",
      "\n",
      "TRACT: 9570\n",
      "NO PROBLEMS\n",
      "\n",
      "TRACT: 9571\n",
      "NO PROBLEMS\n",
      "\n",
      "TRACT: 9572\n",
      "NO PROBLEMS\n",
      "\n",
      "TRACT: 9573\n",
      "NO PROBLEMS\n",
      "\n",
      "TRACT: 9574\n",
      "NO PROBLEMS\n",
      "\n",
      "TRACT: 9575\n",
      "NO PROBLEMS\n",
      "\n",
      "TRACT: 9576\n",
      "NO PROBLEMS\n",
      "\n",
      "TRACT: 9577\n",
      "NO PROBLEMS\n",
      "\n",
      "TRACT: 9578\n",
      "NO PROBLEMS\n",
      "\n",
      "TRACT: 9579\n",
      "NO PROBLEMS\n",
      "\n",
      "TRACT: 9580\n",
      "NO PROBLEMS\n",
      "\n",
      "TRACT: 9582\n",
      "NO PROBLEMS\n",
      "\n",
      "TRACT: 9583\n",
      "NO PROBLEMS\n",
      "\n",
      "TRACT: 9584\n",
      "NO PROBLEMS\n",
      "\n",
      "TRACT: 9585\n",
      "NO PROBLEMS\n",
      "\n",
      "TRACT: 9587\n",
      "NO PROBLEMS\n",
      "\n",
      "TRACT: 9588\n",
      "NO PROBLEMS\n",
      "\n",
      "TRACT: 9589\n",
      "NO PROBLEMS\n",
      "\n",
      "TRACT: 9590\n",
      "NO PROBLEMS\n",
      "\n",
      "TRACT: 9591\n",
      "NO PROBLEMS\n",
      "\n",
      "TRACT: 9592\n",
      "NO PROBLEMS\n",
      "\n",
      "TRACT: 9593\n",
      "NO PROBLEMS\n",
      "\n",
      "TRACT: 9594\n",
      "NO PROBLEMS\n",
      "\n",
      "TRACT: 9595\n",
      "NO PROBLEMS\n",
      "\n",
      "TRACT: 9596\n",
      "NO PROBLEMS\n",
      "\n"
     ]
    }
   ],
   "source": [
    "for tract in newertracts:\n",
    "    problems = checkRun(tract)"
   ]
  },
  {
   "cell_type": "code",
   "execution_count": 34,
   "metadata": {},
   "outputs": [
    {
     "name": "stdout",
     "output_type": "stream",
     "text": [
      "TRACT: 10054\n",
      "NO PROBLEMS\n",
      "\n"
     ]
    }
   ],
   "source": [
    "problems = checkRun(10054)"
   ]
  },
  {
   "cell_type": "code",
   "execution_count": 27,
   "metadata": {},
   "outputs": [
    {
     "data": {
      "text/plain": [
       "array([ 3, 12, 20, 21, 29, 30, 39, 40, 48, 57])"
      ]
     },
     "execution_count": 27,
     "metadata": {},
     "output_type": "execute_result"
    }
   ],
   "source": [
    "problems"
   ]
  },
  {
   "cell_type": "code",
   "execution_count": 34,
   "metadata": {},
   "outputs": [
    {
     "data": {
      "text/plain": [
       "0"
      ]
     },
     "execution_count": 34,
     "metadata": {},
     "output_type": "execute_result"
    }
   ],
   "source": [
    "len(problems)"
   ]
  },
  {
   "cell_type": "code",
   "execution_count": 35,
   "metadata": {},
   "outputs": [
    {
     "name": "stdout",
     "output_type": "stream",
     "text": [
      "\n"
     ]
    }
   ],
   "source": [
    "print(\", \".join(np.array(problems).astype(str)))"
   ]
  },
  {
   "attachments": {},
   "cell_type": "markdown",
   "metadata": {},
   "source": [
    "---"
   ]
  },
  {
   "attachments": {},
   "cell_type": "markdown",
   "metadata": {},
   "source": [
    "# Fixing blending matching"
   ]
  },
  {
   "cell_type": "code",
   "execution_count": 2,
   "metadata": {},
   "outputs": [],
   "source": [
    "from hsc_gaap.run_gaap import matchBlendedness"
   ]
  },
  {
   "cell_type": "code",
   "execution_count": 3,
   "metadata": {},
   "outputs": [],
   "source": [
    "blenderror ='Traceback (most recent call last):\\n  File \"/scratch/gpfs/am2907/Merian/gaap/lambo/scripts/hsc_gaap/run_gaap.py\", line 198, in <module>\\n    fire.Fire(runGaapRowColumn)\\n  File \"/projects/HSC/LSST/stack_20220527/conda/envs/lsst-scipipe-4.1.0/lib/python3.10/site-packages/fire/core.py\", line 141, in Fire\\n    component_trace = _Fire(component, args, parsed_flag_args, context, name)\\n  File \"/projects/HSC/LSST/stack_20220527/conda/envs/lsst-scipipe-4.1.0/lib/python3.10/site-packages/fire/core.py\", line 475, in _Fire\\n    component, remaining_args = _CallAndUpdateTrace(\\n  File \"/projects/HSC/LSST/stack_20220527/conda/envs/lsst-scipipe-4.1.0/lib/python3.10/site-packages/fire/core.py\", line 691, in _CallAndUpdateTrace\\n    component = fn(*varargs, **kwargs)\\n  File \"/scratch/gpfs/am2907/Merian/gaap/lambo/scripts/hsc_gaap/run_gaap.py\", line 133, in runGaapRowColumn\\n    matchBlendedness(tract, patch_cols, patch_rows, repo=repo)\\n  File \"/scratch/gpfs/am2907/Merian/gaap/lambo/scripts/hsc_gaap/run_gaap.py\", line 187, in matchBlendedness\\n    abs(gaapCat[\"g_ap03Flux\"] - blendCat[\"g_apertureflux10_S20A\"][ind]) < 10)\\n  File \"/projects/HSC/LSST/stack_20220527/conda/envs/lsst-scipipe-4.1.0/lib/python3.10/site-packages/astropy/table/table.py\", line 1872, in __getitem__\\n    return self.columns[item]\\n  File \"/projects/HSC/LSST/stack_20220527/conda/envs/lsst-scipipe-4.1.0/lib/python3.10/site-packages/astropy/table/table.py\", line 246, in __getitem__\\n    return OrderedDict.__getitem__(self, item)\\nKeyError: \\'g_ap03Flux\\''\n",
    "repo = \"/scratch/gpfs/am2907/Merian/gaap/\""
   ]
  },
  {
   "cell_type": "code",
   "execution_count": 13,
   "metadata": {},
   "outputs": [],
   "source": [
    "def fixBlendMatching(tract, repo = '/scratch/gpfs/am2907/Merian/gaap/', blenderror=blenderror):\n",
    "    \n",
    "    # Find patches that didn't match\n",
    "    print(f'TRACT: {tract}')\n",
    "    problem_patches=[]\n",
    "\n",
    "    patches = findReducedPatches(tract)\n",
    "    dir = os.path.join(repo, f\"log/{tract}/\")\n",
    "    logs = np.array(glob.glob(dir + \"*.o\"))\n",
    "    logs_patches = np.array([log.split(\"/\")[-1].split(\".\")[0] for log in logs]).astype(int)\n",
    "    logs, logs_patches = logs[logs_patches.argsort()], logs_patches[logs_patches.argsort()]\n",
    "    \n",
    "    if len(logs) != len(patches):\n",
    "        print(\"MISSING PATCHES\")\n",
    "\n",
    "    error3 = \"Matched GAaP table with S20A blendedness\"\n",
    "    for i, log in enumerate(logs):\n",
    "        logfile = open(log, \"r\").read()\n",
    "\n",
    "        if error3 not in logfile:\n",
    "            problem_patches.append(logs_patches[i])\n",
    "\n",
    "    for patch in problem_patches:\n",
    "        print(f'PATCH: {patch}')\n",
    "        log = logs[logs_patches==patch][0]\n",
    "        logfile = open(log, \"r\").read()\n",
    "        message = matchBlendedness(tract, [patch%9], [patch//9], repo=repo, matchdist=0.5, matchmag=10)\n",
    "        if type(message) is not str:\n",
    "            continue\n",
    "        newlog_cntnt = logfile.split(blenderror)[0] + f\"\\n {message} \\n\" + logfile.split(blenderror)[1]\n",
    "        newlog = open(log, \"w\")\n",
    "        newlog.write(newlog_cntnt)\n",
    "        newlog.close()"
   ]
  },
  {
   "cell_type": "code",
   "execution_count": 5,
   "metadata": {},
   "outputs": [],
   "source": [
    "blenderror='Traceback (most recent call last):\\n  File \"/scratch/gpfs/am2907/Merian/gaap/lambo/scripts/hsc_gaap/run_gaap.py\", line 202, in <module>\\n    fire.Fire(runGaapRowColumn)\\n  File \"/projects/HSC/LSST/stack_20220527/conda/envs/lsst-scipipe-4.1.0/lib/python3.10/site-packages/fire/core.py\", line 141, in Fire\\n    component_trace = _Fire(component, args, parsed_flag_args, context, name)\\n  File \"/projects/HSC/LSST/stack_20220527/conda/envs/lsst-scipipe-4.1.0/lib/python3.10/site-packages/fire/core.py\", line 475, in _Fire\\n    component, remaining_args = _CallAndUpdateTrace(\\n  File \"/projects/HSC/LSST/stack_20220527/conda/envs/lsst-scipipe-4.1.0/lib/python3.10/site-packages/fire/core.py\", line 691, in _CallAndUpdateTrace\\n    component = fn(*varargs, **kwargs)\\n  File \"/scratch/gpfs/am2907/Merian/gaap/lambo/scripts/hsc_gaap/run_gaap.py\", line 134, in runGaapRowColumn\\n    matchBlendedness(tract, patch_cols, patch_rows, repo=repo)\\n  File \"/scratch/gpfs/am2907/Merian/gaap/lambo/scripts/hsc_gaap/run_gaap.py\", line 185, in matchBlendedness\\n    ind, dist, _ = _gaap.match_to_catalog_sky(_blend)\\n  File \"/projects/HSC/LSST/stack_20220527/conda/envs/lsst-scipipe-4.1.0/lib/python3.10/site-packages/astropy/coordinates/sky_coordinate.py\", line 1386, in match_to_catalog_sky\\n    res = match_coordinates_sky(self, catalogcoord,\\n  File \"/projects/HSC/LSST/stack_20220527/conda/envs/lsst-scipipe-4.1.0/lib/python3.10/site-packages/astropy/coordinates/matching.py\", line 143, in match_coordinates_sky\\n    raise ValueError(\\'The catalog for coordinate matching cannot be a \\'\\nValueError: The catalog for coordinate matching cannot be a scalar or length-0.'"
   ]
  },
  {
   "cell_type": "code",
   "execution_count": 129,
   "metadata": {},
   "outputs": [],
   "source": [
    "tract=8527"
   ]
  },
  {
   "cell_type": "code",
   "execution_count": 12,
   "metadata": {},
   "outputs": [
    {
     "name": "stdout",
     "output_type": "stream",
     "text": [
      "TRACT: 8527\n",
      "PATCH: 75\n",
      "Blend catalog empty - cannot match!\n"
     ]
    }
   ],
   "source": [
    "fixBlendMatching(8527, blenderror=blenderror)"
   ]
  },
  {
   "attachments": {},
   "cell_type": "markdown",
   "metadata": {},
   "source": [
    "---"
   ]
  },
  {
   "cell_type": "code",
   "execution_count": 38,
   "metadata": {},
   "outputs": [],
   "source": [
    "tract = 9574\n",
    "repo = '/scratch/gpfs/am2907/Merian/gaap/'"
   ]
  },
  {
   "cell_type": "code",
   "execution_count": 39,
   "metadata": {},
   "outputs": [],
   "source": [
    "\n",
    "patches = findReducedPatches(tract)\n",
    "dir = os.path.join(repo, f\"log/{tract}/\")\n",
    "logs = np.array(glob.glob(dir + \"*.o\"))\n",
    "logs_patches = np.array([log.split(\"/\")[-1].split(\".\")[0] for log in logs]).astype(int)\n",
    "logs, logs_patches = logs[logs_patches.argsort()], logs_patches[logs_patches.argsort()]"
   ]
  },
  {
   "cell_type": "code",
   "execution_count": 40,
   "metadata": {},
   "outputs": [],
   "source": [
    "error = 'Traceback (most recent call last):\\n  File \"/scratch/gpfs/am2907/Merian/gaap/lambo/scripts/hsc_gaap/run_gaap.py\", line 210, in <module>\\n    fire.Fire(runGaapRowColumn)\\n  File \"/projects/HSC/LSST/stack_20220527/conda/envs/lsst-scipipe-4.1.0/lib/python3.10/site-packages/fire/core.py\", line 141, in Fire\\n    component_trace = _Fire(component, args, parsed_flag_args, context, name)\\n  File \"/projects/HSC/LSST/stack_20220527/conda/envs/lsst-scipipe-4.1.0/lib/python3.10/site-packages/fire/core.py\", line 475, in _Fire\\n    component, remaining_args = _CallAndUpdateTrace(\\n  File \"/projects/HSC/LSST/stack_20220527/conda/envs/lsst-scipipe-4.1.0/lib/python3.10/site-packages/fire/core.py\", line 691, in _CallAndUpdateTrace\\n    component = fn(*varargs, **kwargs)\\n  File \"/scratch/gpfs/am2907/Merian/gaap/lambo/scripts/hsc_gaap/run_gaap.py\", line 139, in runGaapRowColumn\\n    compileCatalogs(tract, repo= \"/scratch/gpfs/am2907/Merian/gaap/\", alltracts=False, rewrite=True)\\n  File \"/scratch/gpfs/am2907/Merian/gaap/lambo/scripts/hsc_gaap/compile_catalogs.py\", line 20, in compileCatalogs\\n    for tract in tracts:\\nTypeError: \\'int\\' object is not iterable'"
   ]
  },
  {
   "cell_type": "code",
   "execution_count": 41,
   "metadata": {},
   "outputs": [
    {
     "name": "stdout",
     "output_type": "stream",
     "text": [
      "PATCH: 0\n",
      "PATCH: 1\n",
      "PATCH: 2\n",
      "PATCH: 3\n",
      "PATCH: 4\n",
      "PATCH: 5\n",
      "PATCH: 6\n",
      "PATCH: 7\n",
      "PATCH: 8\n",
      "PATCH: 9\n",
      "PATCH: 10\n",
      "PATCH: 11\n",
      "PATCH: 12\n",
      "PATCH: 13\n",
      "PATCH: 14\n",
      "PATCH: 15\n",
      "PATCH: 17\n",
      "PATCH: 18\n",
      "PATCH: 19\n",
      "PATCH: 20\n",
      "PATCH: 21\n",
      "PATCH: 22\n",
      "PATCH: 23\n",
      "PATCH: 24\n",
      "PATCH: 25\n",
      "PATCH: 26\n",
      "PATCH: 27\n",
      "PATCH: 28\n",
      "PATCH: 29\n",
      "PATCH: 30\n",
      "PATCH: 31\n",
      "PATCH: 32\n",
      "PATCH: 33\n",
      "PATCH: 34\n",
      "PATCH: 35\n",
      "PATCH: 36\n",
      "PATCH: 37\n",
      "PATCH: 38\n",
      "PATCH: 39\n",
      "PATCH: 40\n",
      "PATCH: 41\n",
      "PATCH: 42\n",
      "PATCH: 43\n",
      "PATCH: 44\n",
      "PATCH: 45\n",
      "PATCH: 46\n",
      "PATCH: 47\n",
      "PATCH: 48\n",
      "PATCH: 49\n",
      "PATCH: 50\n",
      "PATCH: 51\n",
      "PATCH: 52\n",
      "PATCH: 53\n",
      "PATCH: 54\n",
      "PATCH: 55\n",
      "PATCH: 56\n",
      "PATCH: 57\n",
      "PATCH: 58\n",
      "PATCH: 59\n",
      "PATCH: 60\n",
      "PATCH: 61\n",
      "PATCH: 62\n",
      "PATCH: 63\n",
      "PATCH: 64\n",
      "PATCH: 65\n",
      "PATCH: 66\n",
      "PATCH: 67\n",
      "PATCH: 68\n",
      "PATCH: 69\n",
      "PATCH: 70\n",
      "PATCH: 71\n",
      "PATCH: 72\n",
      "PATCH: 73\n",
      "PATCH: 74\n",
      "PATCH: 75\n",
      "PATCH: 76\n",
      "PATCH: 77\n",
      "PATCH: 78\n",
      "PATCH: 79\n",
      "PATCH: 80\n"
     ]
    }
   ],
   "source": [
    "for patch in logs_patches:\n",
    "    log = logs[logs_patches==patch][0]\n",
    "    logfile = open(log, \"r\").read()\n",
    "    if error in logfile:\n",
    "        print(f'PATCH: {patch}')\n",
    "        newlog_cntnt = logfile.split(error)[0] + logfile.split(error)[1]\n",
    "        newlog = open(log, \"w\")\n",
    "        newlog.write(newlog_cntnt)\n",
    "        newlog.close()"
   ]
  },
  {
   "attachments": {},
   "cell_type": "markdown",
   "metadata": {},
   "source": [
    "---"
   ]
  }
 ],
 "metadata": {
  "kernelspec": {
   "display_name": "Python 3 (ipykernel)",
   "language": "python",
   "name": "python3"
  },
  "orig_nbformat": 4,
  "vscode": {
   "interpreter": {
    "hash": "31f2aee4e71d21fbe5cf8b01ff0e069b9275f58929596ceb00d14d90e3e16cd6"
   }
  }
 },
 "nbformat": 4,
 "nbformat_minor": 2
}
