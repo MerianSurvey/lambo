{
 "cells": [
  {
   "cell_type": "code",
   "execution_count": 5,
   "metadata": {},
   "outputs": [],
   "source": [
    "import os, sys\n",
    "import glob\n",
    "import numpy as np\n",
    "sys.path.append(os.path.join(os.getenv('LAMBO_HOME'), 'lambo/scripts/'))\n",
    "\n",
    "from hsc_gaap.gaap import findReducedPatches\n",
    "from hsc_gaap.check_gaap_run import checkRun\n"
   ]
  },
  {
   "cell_type": "code",
   "execution_count": 8,
   "metadata": {},
   "outputs": [],
   "source": [
    "tracts = [8282, 8283, 8284, 8285, 8286, 9326, 9327, 9328, 9329, 8522, 8523, 8526, 8527, 8768, 8769, 9010, 9011, 9071, 9072, 9073,\n",
    "          9074, 9075, 9076, 9077, 9078, 9079, 9080, 9081, 9082, 9083, 9084, 9086, 9086, 9087, 9088, 9089, 9090, 9091, 9092, 9096,\n",
    "          9097, 9098, 9099, 9100, 9101, 9102, 9103, 9104, 9131, 9132, 9133, 9134, 9135, 9136, 9226, 9227, 9313, 9314, 9315, 9316, \n",
    "          9317, 9318, 9319, 9320, 9321, 9322, 9323, 9324, 9325, 9330, 9331, 9332, 9333, 9334, 9335, 9336, 9339, 9340, 9341, 9342,  \n",
    "          9343, 9344, 9345, 9346, 9347, 9373, 9374, 9375, 9376, 9377, 9378, 9379, 9455, 9456, 9457, 9458, 9459, 9465, 9466, 9467,\n",
    "          9468, 9469, 9470, 9471, 9556, 9557, 9558, 9559, 9560, 9561, 9562, 9563, 9564, 9565, 9568, 9586, 9587, 9594, 9813, 9836, \n",
    "          10059, 10284]"
   ]
  },
  {
   "cell_type": "code",
   "execution_count": 18,
   "metadata": {},
   "outputs": [
    {
     "data": {
      "text/plain": [
       "9347"
      ]
     },
     "execution_count": 18,
     "metadata": {},
     "output_type": "execute_result"
    }
   ],
   "source": [
    "tracts[84]"
   ]
  },
  {
   "cell_type": "code",
   "execution_count": 19,
   "metadata": {},
   "outputs": [
    {
     "name": "stdout",
     "output_type": "stream",
     "text": [
      "TRACT: 9314\n",
      "NO PROBLEMS\n",
      "\n",
      "TRACT: 9315\n",
      "NO PROBLEMS\n",
      "\n",
      "TRACT: 9316\n",
      "NO PROBLEMS\n",
      "\n",
      "TRACT: 9317\n",
      "NO PROBLEMS\n",
      "\n",
      "TRACT: 9318\n",
      "NO PROBLEMS\n",
      "\n",
      "TRACT: 9319\n",
      "NO PROBLEMS\n",
      "\n",
      "TRACT: 9320\n",
      "NO PROBLEMS\n",
      "\n",
      "TRACT: 9321\n",
      "NO PROBLEMS\n",
      "\n",
      "TRACT: 9322\n",
      "NO PROBLEMS\n",
      "\n",
      "TRACT: 9323\n",
      "NO PROBLEMS\n",
      "\n",
      "TRACT: 9324\n",
      "NO PROBLEMS\n",
      "\n",
      "TRACT: 9325\n",
      "NO PROBLEMS\n",
      "\n",
      "TRACT: 9330\n",
      "NO PROBLEMS\n",
      "\n",
      "TRACT: 9331\n",
      "NO PROBLEMS\n",
      "\n",
      "TRACT: 9332\n",
      "NO PROBLEMS\n",
      "\n",
      "TRACT: 9333\n",
      "NO PROBLEMS\n",
      "\n",
      "TRACT: 9334\n",
      "NO PROBLEMS\n",
      "\n",
      "TRACT: 9335\n",
      "NO PROBLEMS\n",
      "\n",
      "TRACT: 9336\n",
      "NO PROBLEMS\n",
      "\n",
      "TRACT: 9339\n",
      "NO PROBLEMS\n",
      "\n",
      "TRACT: 9340\n",
      "NO PROBLEMS\n",
      "\n",
      "TRACT: 9341\n",
      "NO PROBLEMS\n",
      "\n",
      "TRACT: 9342\n",
      "NO PROBLEMS\n",
      "\n",
      "TRACT: 9343\n",
      "NO PROBLEMS\n",
      "\n",
      "TRACT: 9344\n",
      "NO PROBLEMS\n",
      "\n",
      "TRACT: 9345\n",
      "NO PROBLEMS\n",
      "\n",
      "TRACT: 9346\n",
      "NO PROBLEMS\n",
      "\n",
      "TRACT: 9347\n",
      "NO PROBLEMS\n",
      "\n"
     ]
    }
   ],
   "source": [
    "for tract in tracts[57:85]:\n",
    "    problems = checkRun(tract)"
   ]
  },
  {
   "cell_type": "code",
   "execution_count": 7,
   "metadata": {},
   "outputs": [
    {
     "name": "stdout",
     "output_type": "stream",
     "text": [
      "TRACT: 9081\n",
      "NO PROBLEMS\n",
      "\n"
     ]
    }
   ],
   "source": [
    "problems = checkRun(9081)"
   ]
  },
  {
   "cell_type": "code",
   "execution_count": 54,
   "metadata": {},
   "outputs": [
    {
     "data": {
      "text/plain": [
       "(3, 5)"
      ]
     },
     "execution_count": 54,
     "metadata": {},
     "output_type": "execute_result"
    }
   ],
   "source": [
    "48%9,48//9"
   ]
  },
  {
   "cell_type": "code",
   "execution_count": 34,
   "metadata": {},
   "outputs": [
    {
     "data": {
      "text/plain": [
       "0"
      ]
     },
     "execution_count": 34,
     "metadata": {},
     "output_type": "execute_result"
    }
   ],
   "source": [
    "len(problems)"
   ]
  },
  {
   "cell_type": "code",
   "execution_count": 35,
   "metadata": {},
   "outputs": [
    {
     "name": "stdout",
     "output_type": "stream",
     "text": [
      "\n"
     ]
    }
   ],
   "source": [
    "print(\", \".join(np.array(problems).astype(str)))"
   ]
  },
  {
   "attachments": {},
   "cell_type": "markdown",
   "metadata": {},
   "source": [
    "---"
   ]
  },
  {
   "attachments": {},
   "cell_type": "markdown",
   "metadata": {},
   "source": [
    "# Fixing blending matching"
   ]
  },
  {
   "cell_type": "code",
   "execution_count": 101,
   "metadata": {},
   "outputs": [],
   "source": [
    "%load_ext autoreload\n",
    "%autoreload 2"
   ]
  },
  {
   "cell_type": "code",
   "execution_count": 102,
   "metadata": {},
   "outputs": [
    {
     "name": "stdout",
     "output_type": "stream",
     "text": [
      "yay\n"
     ]
    }
   ],
   "source": [
    "from hsc_gaap.run_gaap import matchBlendedness"
   ]
  },
  {
   "cell_type": "code",
   "execution_count": 11,
   "metadata": {},
   "outputs": [],
   "source": [
    "blenderror ='Traceback (most recent call last):\\n  File \"/scratch/gpfs/am2907/Merian/gaap/lambo/scripts/hsc_gaap/run_gaap.py\", line 198, in <module>\\n    fire.Fire(runGaapRowColumn)\\n  File \"/projects/HSC/LSST/stack_20220527/conda/envs/lsst-scipipe-4.1.0/lib/python3.10/site-packages/fire/core.py\", line 141, in Fire\\n    component_trace = _Fire(component, args, parsed_flag_args, context, name)\\n  File \"/projects/HSC/LSST/stack_20220527/conda/envs/lsst-scipipe-4.1.0/lib/python3.10/site-packages/fire/core.py\", line 475, in _Fire\\n    component, remaining_args = _CallAndUpdateTrace(\\n  File \"/projects/HSC/LSST/stack_20220527/conda/envs/lsst-scipipe-4.1.0/lib/python3.10/site-packages/fire/core.py\", line 691, in _CallAndUpdateTrace\\n    component = fn(*varargs, **kwargs)\\n  File \"/scratch/gpfs/am2907/Merian/gaap/lambo/scripts/hsc_gaap/run_gaap.py\", line 133, in runGaapRowColumn\\n    matchBlendedness(tract, patch_cols, patch_rows, repo=repo)\\n  File \"/scratch/gpfs/am2907/Merian/gaap/lambo/scripts/hsc_gaap/run_gaap.py\", line 187, in matchBlendedness\\n    abs(gaapCat[\"g_ap03Flux\"] - blendCat[\"g_apertureflux10_S20A\"][ind]) < 10)\\n  File \"/projects/HSC/LSST/stack_20220527/conda/envs/lsst-scipipe-4.1.0/lib/python3.10/site-packages/astropy/table/table.py\", line 1872, in __getitem__\\n    return self.columns[item]\\n  File \"/projects/HSC/LSST/stack_20220527/conda/envs/lsst-scipipe-4.1.0/lib/python3.10/site-packages/astropy/table/table.py\", line 246, in __getitem__\\n    return OrderedDict.__getitem__(self, item)\\nKeyError: \\'g_ap03Flux\\''\n",
    "repo = \"/scratch/gpfs/am2907/Merian/gaap/\""
   ]
  },
  {
   "cell_type": "code",
   "execution_count": 8,
   "metadata": {},
   "outputs": [],
   "source": [
    "def fixBlendMatching(tract, repo = '/scratch/gpfs/am2907/Merian/gaap/', blenderror=blenderror):\n",
    "    \n",
    "    # Find patches that didn't match\n",
    "    print(f'TRACT: {tract}')\n",
    "    problem_patches=[]\n",
    "\n",
    "    patches = findReducedPatches(tract)\n",
    "    dir = os.path.join(repo, f\"log/{tract}/\")\n",
    "    logs = np.array(glob.glob(dir + \"*.o\"))\n",
    "    logs_patches = np.array([log.split(\"/\")[-1].split(\".\")[0] for log in logs]).astype(int)\n",
    "    logs, logs_patches = logs[logs_patches.argsort()], logs_patches[logs_patches.argsort()]\n",
    "    \n",
    "    if len(logs) != len(patches):\n",
    "        print(\"MISSING PATCHES\")\n",
    "\n",
    "    error3 = \"KeyError: 'g_ap03Flux'\"\n",
    "    for i, log in enumerate(logs):\n",
    "        logfile = open(log, \"r\").read()\n",
    "\n",
    "        if error3 in logfile:\n",
    "            problem_patches.append(logs_patches[i])\n",
    "\n",
    "    for patch in problem_patches:\n",
    "        print(f'PATCH: {patch}')\n",
    "        log = logs[logs_patches==patch][0]\n",
    "        logfile = open(log, \"r\").read()\n",
    "        message = matchBlendedness(tract, [patch%9], [patch//9], repo=repo, matchdist=0.5, matchmag=10)\n",
    "        newlog_cntnt = logfile.split(blenderror)[0] + f\"\\n {message} \\n\" + logfile.split(blenderror)[1]\n",
    "        newlog = open(log, \"w\")\n",
    "        newlog.write(newlog_cntnt)\n",
    "        newlog.close()"
   ]
  },
  {
   "cell_type": "code",
   "execution_count": 129,
   "metadata": {},
   "outputs": [],
   "source": [
    "tract=8526"
   ]
  },
  {
   "cell_type": "code",
   "execution_count": 13,
   "metadata": {},
   "outputs": [
    {
     "name": "stdout",
     "output_type": "stream",
     "text": [
      "TRACT: 9010\n",
      "PROBLEM IN PATCH 0: Catalog not saved\n",
      "PROBLEM IN PATCH 0: Failed for 5 bands\n",
      "PROBLEM IN PATCH 1: Failed for 3 bands\n",
      "PROBLEM IN PATCH 2: Failed for 2 bands\n",
      "\n"
     ]
    },
    {
     "data": {
      "text/plain": [
       "array([0, 1, 2])"
      ]
     },
     "execution_count": 13,
     "metadata": {},
     "output_type": "execute_result"
    }
   ],
   "source": [
    "checkRun(9010)"
   ]
  },
  {
   "cell_type": "code",
   "execution_count": 10,
   "metadata": {},
   "outputs": [
    {
     "name": "stdout",
     "output_type": "stream",
     "text": [
      "TRACT: 8769\n"
     ]
    }
   ],
   "source": [
    "# fixBlendMatching(8769)"
   ]
  },
  {
   "attachments": {},
   "cell_type": "markdown",
   "metadata": {},
   "source": [
    "---"
   ]
  },
  {
   "cell_type": "code",
   "execution_count": 12,
   "metadata": {},
   "outputs": [],
   "source": [
    "tract = 9081\n",
    "repo = '/scratch/gpfs/am2907/Merian/gaap/'"
   ]
  },
  {
   "cell_type": "code",
   "execution_count": 41,
   "metadata": {},
   "outputs": [],
   "source": [
    "\n",
    "patches = findReducedPatches(tract)\n",
    "dir = os.path.join(repo, f\"log/{tract}/\")\n",
    "logs = np.array(glob.glob(dir + \"*.o\"))\n",
    "logs_patches = np.array([log.split(\"/\")[-1].split(\".\")[0] for log in logs]).astype(int)\n",
    "logs, logs_patches = logs[logs_patches.argsort()], logs_patches[logs_patches.argsort()]"
   ]
  },
  {
   "cell_type": "code",
   "execution_count": 46,
   "metadata": {},
   "outputs": [
    {
     "data": {
      "text/plain": [
       "array([54, 55, 56, 57, 58, 59, 60, 61, 62, 64, 65, 66, 67, 68, 69, 70, 72,\n",
       "       73, 74, 75, 76, 77, 78, 79, 80])"
      ]
     },
     "execution_count": 46,
     "metadata": {},
     "output_type": "execute_result"
    }
   ],
   "source": [
    "logs_patches"
   ]
  },
  {
   "cell_type": "code",
   "execution_count": 44,
   "metadata": {},
   "outputs": [
    {
     "data": {
      "text/plain": [
       "array([54, 55, 56, 57, 58, 59, 60, 61, 62, 63, 64, 65, 66, 67, 68, 69, 70,\n",
       "       72, 73, 74, 75, 76, 77, 78, 79, 80])"
      ]
     },
     "execution_count": 44,
     "metadata": {},
     "output_type": "execute_result"
    }
   ],
   "source": [
    "patches"
   ]
  },
  {
   "attachments": {},
   "cell_type": "markdown",
   "metadata": {},
   "source": [
    "---"
   ]
  },
  {
   "cell_type": "code",
   "execution_count": 4,
   "metadata": {},
   "outputs": [],
   "source": [
    "from astropy.table import Table"
   ]
  },
  {
   "cell_type": "code",
   "execution_count": 21,
   "metadata": {},
   "outputs": [],
   "source": [
    "tract = 8280\n",
    "patch = 72"
   ]
  },
  {
   "cell_type": "code",
   "execution_count": 20,
   "metadata": {},
   "outputs": [
    {
     "data": {
      "text/plain": [
       "(0, 7)"
      ]
     },
     "execution_count": 20,
     "metadata": {},
     "output_type": "execute_result"
    }
   ],
   "source": [
    "63 %9, 63//9"
   ]
  },
  {
   "cell_type": "code",
   "execution_count": 22,
   "metadata": {},
   "outputs": [],
   "source": [
    "test = Table.read(repo + f\"S20A/gaapTable/{tract}/{patch%9},{patch//9}/objectTable_{tract}_{patch%9},{patch//9}_S20A.fits\")\n",
    "\n",
    "patch = 63\n",
    "test2 = Table.read(repo + f\"S20A/gaapTable/{tract}/{patch%9},{patch//9}/objectTable_{tract}_{patch%9},{patch//9}_S20A.fits\")"
   ]
  },
  {
   "cell_type": "code",
   "execution_count": 26,
   "metadata": {},
   "outputs": [
    {
     "data": {
      "text/plain": [
       "949"
      ]
     },
     "execution_count": 26,
     "metadata": {},
     "output_type": "execute_result"
    }
   ],
   "source": [
    "len(test.colnames)"
   ]
  },
  {
   "cell_type": "code",
   "execution_count": 28,
   "metadata": {},
   "outputs": [
    {
     "data": {
      "text/plain": [
       "949"
      ]
     },
     "execution_count": 28,
     "metadata": {},
     "output_type": "execute_result"
    }
   ],
   "source": [
    "len(test2.colnames)"
   ]
  },
  {
   "cell_type": "code",
   "execution_count": 34,
   "metadata": {},
   "outputs": [],
   "source": [
    "c2 = test2.colnames\n",
    "c2.sort()"
   ]
  },
  {
   "cell_type": "code",
   "execution_count": 35,
   "metadata": {},
   "outputs": [],
   "source": [
    "c1 = test.colnames\n",
    "c1.sort()"
   ]
  },
  {
   "cell_type": "code",
   "execution_count": 38,
   "metadata": {},
   "outputs": [
    {
     "data": {
      "text/plain": [
       "True"
      ]
     },
     "execution_count": 38,
     "metadata": {},
     "output_type": "execute_result"
    }
   ],
   "source": [
    "c2==c1"
   ]
  }
 ],
 "metadata": {
  "kernelspec": {
   "display_name": "Python 3 (ipykernel)",
   "language": "python",
   "name": "python3"
  },
  "language_info": {
   "codemirror_mode": {
    "name": "ipython",
    "version": 3
   },
   "file_extension": ".py",
   "mimetype": "text/x-python",
   "name": "python",
   "nbconvert_exporter": "python",
   "pygments_lexer": "ipython3",
   "version": "3.10.5"
  },
  "orig_nbformat": 4,
  "vscode": {
   "interpreter": {
    "hash": "31f2aee4e71d21fbe5cf8b01ff0e069b9275f58929596ceb00d14d90e3e16cd6"
   }
  }
 },
 "nbformat": 4,
 "nbformat_minor": 2
}
