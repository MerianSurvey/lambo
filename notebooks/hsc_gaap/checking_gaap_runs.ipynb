{
 "cells": [
  {
   "cell_type": "code",
   "execution_count": 2,
   "metadata": {},
   "outputs": [
    {
     "name": "stdout",
     "output_type": "stream",
     "text": [
      "Overriding default configuration file with /projects/HSC/LSST/stack_20220527/conda/envs/lsst-scipipe-4.1.0/share/eups/Linux64/dustmaps_cachedata/g41a3ec361e+62d12e78cb/config/.dustmapsrc\n"
     ]
    }
   ],
   "source": [
    "import os, sys\n",
    "import glob\n",
    "import numpy as np\n",
    "sys.path.append(os.path.join(os.getenv('LAMBO_HOME'), 'lambo/scripts/'))\n",
    "\n",
    "from hsc_gaap.gaap import findReducedPatches\n"
   ]
  },
  {
   "cell_type": "code",
   "execution_count": 3,
   "metadata": {},
   "outputs": [],
   "source": [
    "def checkRun(tract, repo = '/scratch/gpfs/am2907/Merian/gaap/', output=True):\n",
    "    if output:\n",
    "        print(f'TRACT: {tract}')\n",
    "    problem_patches=[]\n",
    "\n",
    "    patches = findReducedPatches(tract)\n",
    "    dir = os.path.join(repo, f\"log/{tract}/\")\n",
    "    logs = np.array(glob.glob(dir + \"*.o\"))\n",
    "    logs_patches = np.array([log.split(\"/\")[-1].split(\".\")[0] for log in logs]).astype(int)\n",
    "    logs, logs_patches = logs[logs_patches.argsort()], logs_patches[logs_patches.argsort()]\n",
    "\n",
    "    if len(logs) != len(patches):\n",
    "        print(\"MISSING PATCHES\")\n",
    "\n",
    "    error1 = \"Wrote GAaP table to \"\n",
    "    error2 = \"Running GAaP only on filters\"\n",
    "    error3 = \"KeyError: 'g_ap03Flux'\"\n",
    "    for i, log in enumerate(logs):\n",
    "        logfile = open(log, \"r\").read()\n",
    "        \n",
    "        if error1 not in logfile:\n",
    "            if output:\n",
    "                print (f'PROBLEM IN PATCH {logs_patches[i]}: Catalog not saved')\n",
    "            problem_patches.append(logs_patches[i])\n",
    "\n",
    "        if (error2 in logfile):\n",
    "            if output:\n",
    "                print (f'PROBLEM IN PATCH {logs_patches[i]}: Missing some filter images')\n",
    "            problem_patches.append(logs_patches[i])\n",
    "        \n",
    "        elif (logfile.count(\"Finished the GAaP measureTask for band\") < 5):\n",
    "            if output:\n",
    "                print (f'PROBLEM IN PATCH {logs_patches[i]}: Failed for {5 - logfile.count(\"Finished the GAaP measureTask for band\")} bands')\n",
    "            problem_patches.append(logs_patches[i])\n",
    "\n",
    "        if error3 in logfile:\n",
    "            if output:\n",
    "                print (f'PROBLEM IN PATCH {logs_patches[i]}: Blend matching failed')\n",
    "            problem_patches.append(logs_patches[i])\n",
    "\n",
    "    if (len(problem_patches)==0) & (len(logs) == len(patches)):\n",
    "        print (\"NO PROBLEMS\")\n",
    "    print()\n",
    "\n",
    "    return np.unique(problem_patches)"
   ]
  },
  {
   "cell_type": "code",
   "execution_count": 23,
   "metadata": {},
   "outputs": [
    {
     "name": "stdout",
     "output_type": "stream",
     "text": [
      "TRACT: 9074\n",
      "PROBLEM IN PATCH 58: Failed for 3 bands\n",
      "PROBLEM IN PATCH 63: Failed for 1 bands\n",
      "PROBLEM IN PATCH 64: Failed for 2 bands\n",
      "PROBLEM IN PATCH 67: Failed for 2 bands\n",
      "PROBLEM IN PATCH 68: Failed for 1 bands\n",
      "PROBLEM IN PATCH 71: Failed for 2 bands\n",
      "PROBLEM IN PATCH 72: Failed for 1 bands\n",
      "PROBLEM IN PATCH 78: Failed for 1 bands\n",
      "\n"
     ]
    }
   ],
   "source": [
    "problems = checkRun(9074)"
   ]
  },
  {
   "cell_type": "code",
   "execution_count": 24,
   "metadata": {},
   "outputs": [
    {
     "data": {
      "text/plain": [
       "8"
      ]
     },
     "execution_count": 24,
     "metadata": {},
     "output_type": "execute_result"
    }
   ],
   "source": [
    "len(problems)"
   ]
  },
  {
   "cell_type": "code",
   "execution_count": 25,
   "metadata": {},
   "outputs": [
    {
     "name": "stdout",
     "output_type": "stream",
     "text": [
      "58, 63, 64, 67, 68, 71, 72, 78\n"
     ]
    }
   ],
   "source": [
    "print(\", \".join(np.array(problems).astype(str)))"
   ]
  },
  {
   "attachments": {},
   "cell_type": "markdown",
   "metadata": {},
   "source": [
    "---"
   ]
  },
  {
   "attachments": {},
   "cell_type": "markdown",
   "metadata": {},
   "source": [
    "# Fixing blending matching"
   ]
  },
  {
   "cell_type": "code",
   "execution_count": 101,
   "metadata": {},
   "outputs": [],
   "source": [
    "%load_ext autoreload\n",
    "%autoreload 2"
   ]
  },
  {
   "cell_type": "code",
   "execution_count": 102,
   "metadata": {},
   "outputs": [
    {
     "name": "stdout",
     "output_type": "stream",
     "text": [
      "yay\n"
     ]
    }
   ],
   "source": [
    "from hsc_gaap.run_gaap import matchBlendedness"
   ]
  },
  {
   "cell_type": "code",
   "execution_count": 7,
   "metadata": {},
   "outputs": [],
   "source": [
    "blenderror ='Traceback (most recent call last):\\n  File \"/scratch/gpfs/am2907/Merian/gaap/lambo/scripts/hsc_gaap/run_gaap.py\", line 198, in <module>\\n    fire.Fire(runGaapRowColumn)\\n  File \"/projects/HSC/LSST/stack_20220527/conda/envs/lsst-scipipe-4.1.0/lib/python3.10/site-packages/fire/core.py\", line 141, in Fire\\n    component_trace = _Fire(component, args, parsed_flag_args, context, name)\\n  File \"/projects/HSC/LSST/stack_20220527/conda/envs/lsst-scipipe-4.1.0/lib/python3.10/site-packages/fire/core.py\", line 475, in _Fire\\n    component, remaining_args = _CallAndUpdateTrace(\\n  File \"/projects/HSC/LSST/stack_20220527/conda/envs/lsst-scipipe-4.1.0/lib/python3.10/site-packages/fire/core.py\", line 691, in _CallAndUpdateTrace\\n    component = fn(*varargs, **kwargs)\\n  File \"/scratch/gpfs/am2907/Merian/gaap/lambo/scripts/hsc_gaap/run_gaap.py\", line 133, in runGaapRowColumn\\n    matchBlendedness(tract, patch_cols, patch_rows, repo=repo)\\n  File \"/scratch/gpfs/am2907/Merian/gaap/lambo/scripts/hsc_gaap/run_gaap.py\", line 187, in matchBlendedness\\n    abs(gaapCat[\"g_ap03Flux\"] - blendCat[\"g_apertureflux10_S20A\"][ind]) < 10)\\n  File \"/projects/HSC/LSST/stack_20220527/conda/envs/lsst-scipipe-4.1.0/lib/python3.10/site-packages/astropy/table/table.py\", line 1872, in __getitem__\\n    return self.columns[item]\\n  File \"/projects/HSC/LSST/stack_20220527/conda/envs/lsst-scipipe-4.1.0/lib/python3.10/site-packages/astropy/table/table.py\", line 246, in __getitem__\\n    return OrderedDict.__getitem__(self, item)\\nKeyError: \\'g_ap03Flux\\''\n",
    "repo = \"/scratch/gpfs/am2907/Merian/gaap/\""
   ]
  },
  {
   "cell_type": "code",
   "execution_count": 8,
   "metadata": {},
   "outputs": [],
   "source": [
    "def fixBlendMatching(tract, repo = '/scratch/gpfs/am2907/Merian/gaap/', blenderror=blenderror):\n",
    "    \n",
    "    # Find patches that didn't match\n",
    "    print(f'TRACT: {tract}')\n",
    "    problem_patches=[]\n",
    "\n",
    "    patches = findReducedPatches(tract)\n",
    "    dir = os.path.join(repo, f\"log/{tract}/\")\n",
    "    logs = np.array(glob.glob(dir + \"*.o\"))\n",
    "    logs_patches = np.array([log.split(\"/\")[-1].split(\".\")[0] for log in logs]).astype(int)\n",
    "    logs, logs_patches = logs[logs_patches.argsort()], logs_patches[logs_patches.argsort()]\n",
    "    \n",
    "    if len(logs) != len(patches):\n",
    "        print(\"MISSING PATCHES\")\n",
    "\n",
    "    error3 = \"KeyError: 'g_ap03Flux'\"\n",
    "    for i, log in enumerate(logs):\n",
    "        logfile = open(log, \"r\").read()\n",
    "\n",
    "        if error3 in logfile:\n",
    "            problem_patches.append(logs_patches[i])\n",
    "\n",
    "    for patch in problem_patches:\n",
    "        print(f'PATCH: {patch}')\n",
    "        log = logs[logs_patches==patch][0]\n",
    "        logfile = open(log, \"r\").read()\n",
    "        message = matchBlendedness(tract, [patch%9], [patch//9], repo=repo, matchdist=0.5, matchmag=10)\n",
    "        newlog_cntnt = logfile.split(blenderror)[0] + f\"\\n {message} \\n\" + logfile.split(blenderror)[1]\n",
    "        newlog = open(log, \"w\")\n",
    "        newlog.write(newlog_cntnt)\n",
    "        newlog.close()"
   ]
  },
  {
   "cell_type": "code",
   "execution_count": 129,
   "metadata": {},
   "outputs": [],
   "source": [
    "tract=8526"
   ]
  },
  {
   "cell_type": "code",
   "execution_count": 13,
   "metadata": {},
   "outputs": [
    {
     "name": "stdout",
     "output_type": "stream",
     "text": [
      "TRACT: 9010\n",
      "PROBLEM IN PATCH 0: Catalog not saved\n",
      "PROBLEM IN PATCH 0: Failed for 5 bands\n",
      "PROBLEM IN PATCH 1: Failed for 3 bands\n",
      "PROBLEM IN PATCH 2: Failed for 2 bands\n",
      "\n"
     ]
    },
    {
     "data": {
      "text/plain": [
       "array([0, 1, 2])"
      ]
     },
     "execution_count": 13,
     "metadata": {},
     "output_type": "execute_result"
    }
   ],
   "source": [
    "checkRun(9010)"
   ]
  },
  {
   "cell_type": "code",
   "execution_count": 10,
   "metadata": {},
   "outputs": [
    {
     "name": "stdout",
     "output_type": "stream",
     "text": [
      "TRACT: 8769\n"
     ]
    }
   ],
   "source": [
    "fixBlendMatching(8769)"
   ]
  },
  {
   "cell_type": "code",
   "execution_count": null,
   "metadata": {},
   "outputs": [],
   "source": []
  }
 ],
 "metadata": {
  "kernelspec": {
   "display_name": "Python 3 (ipykernel)",
   "language": "python",
   "name": "python3"
  },
  "language_info": {
   "codemirror_mode": {
    "name": "ipython",
    "version": 3
   },
   "file_extension": ".py",
   "mimetype": "text/x-python",
   "name": "python",
   "nbconvert_exporter": "python",
   "pygments_lexer": "ipython3",
   "version": "3.10.5"
  },
  "orig_nbformat": 4,
  "vscode": {
   "interpreter": {
    "hash": "31f2aee4e71d21fbe5cf8b01ff0e069b9275f58929596ceb00d14d90e3e16cd6"
   }
  }
 },
 "nbformat": 4,
 "nbformat_minor": 2
}
