{
 "cells": [
  {
   "cell_type": "code",
   "execution_count": 1,
   "id": "cfa4fc4b",
   "metadata": {},
   "outputs": [],
   "source": [
    "%load_ext autoreload\n",
    "%autoreload 2\n",
    "\n",
    "import numpy as np\n",
    "import time\n",
    "import matplotlib.pyplot as plt\n",
    "from astropy.io import fits\n",
    "from astropy.table import Table, hstack\n",
    "import sys\n",
    "sys.path.append('/home/jiaxuanl/Research/Merian/merian_tractor/scripts/')"
   ]
  },
  {
   "cell_type": "code",
   "execution_count": 12,
   "id": "2aef9c36",
   "metadata": {},
   "outputs": [],
   "source": [
    "from hsc_gaap.gaap import joinCatBands, joinCatPatches, joinMerianCatPatches"
   ]
  },
  {
   "cell_type": "code",
   "execution_count": 9,
   "id": "ce5d1138",
   "metadata": {},
   "outputs": [],
   "source": [
    "# cat = joinCatBands(patch=23, filters='ri', hsc_type='S20A')"
   ]
  },
  {
   "cell_type": "code",
   "execution_count": 30,
   "id": "81f1f85e",
   "metadata": {},
   "outputs": [
    {
     "name": "stderr",
     "output_type": "stream",
     "text": [
      "WARNING: MergeConflictWarning: Cannot merge meta key 'NOISE_EXPOSURE_ID' types <class 'int'> and <class 'int'>, choosing NOISE_EXPOSURE_ID=794876 [astropy.utils.metadata]\n",
      "WARNING: MergeConflictWarning: Cannot merge meta key 'NOISE_EXPOSURE_ID' types <class 'int'> and <class 'int'>, choosing NOISE_EXPOSURE_ID=794877 [astropy.utils.metadata]\n",
      "WARNING: MergeConflictWarning: Cannot merge meta key 'NOISE_EXPOSURE_ID' types <class 'int'> and <class 'int'>, choosing NOISE_EXPOSURE_ID=794878 [astropy.utils.metadata]\n"
     ]
    }
   ],
   "source": [
    "cat = joinCatPatches(patches=[22, 23, 24, 25], filters='gri', hsc_type='S20A')"
   ]
  },
  {
   "cell_type": "code",
   "execution_count": 31,
   "id": "d7849eff",
   "metadata": {},
   "outputs": [
    {
     "name": "stderr",
     "output_type": "stream",
     "text": [
      "WARNING: The unit 'nmgy' could not be saved in native FITS format and cannot be recovered in reading. It can roundtrip within astropy by using QTable both to write and read back, though one has to enable the unit before reading. [astropy.io.fits.convenience]\n",
      "WARNING: VerifyWarning: Keyword name 'BASE_CIRCULARAPERTUREFLUX_RADII' is greater than 8 characters or contains characters not allowed by the FITS standard; a HIERARCH card will be created. [astropy.io.fits.card]\n",
      "WARNING: VerifyWarning: Keyword name 'NOISE_SEED_MULTIPLIER' is greater than 8 characters or contains characters not allowed by the FITS standard; a HIERARCH card will be created. [astropy.io.fits.card]\n",
      "WARNING: VerifyWarning: Keyword name 'NOISE_SOURCE' is greater than 8 characters or contains characters not allowed by the FITS standard; a HIERARCH card will be created. [astropy.io.fits.card]\n",
      "WARNING: VerifyWarning: Keyword name 'NOISE_OFFSET' is greater than 8 characters or contains characters not allowed by the FITS standard; a HIERARCH card will be created. [astropy.io.fits.card]\n",
      "WARNING: VerifyWarning: Keyword name 'NOISE_EXPOSURE_ID' is greater than 8 characters or contains characters not allowed by the FITS standard; a HIERARCH card will be created. [astropy.io.fits.card]\n"
     ]
    }
   ],
   "source": [
    "cat.write('/tigress/jiaxuanl/public_html/Merian/gri_S20A_patch22_25.fits')"
   ]
  },
  {
   "cell_type": "code",
   "execution_count": null,
   "id": "a3a3ea3f",
   "metadata": {},
   "outputs": [],
   "source": []
  },
  {
   "cell_type": "code",
   "execution_count": 32,
   "id": "fab24c02",
   "metadata": {},
   "outputs": [],
   "source": [
    "merian = joinMerianCatPatches(patches=[22, 23, 24, 25], tract=9813)"
   ]
  },
  {
   "cell_type": "code",
   "execution_count": 33,
   "id": "c37aaa20",
   "metadata": {},
   "outputs": [],
   "source": [
    "merian.write('/tigress/jiaxuanl/public_html/Merian/Merian_patch22_25.fits', overwrite=True)"
   ]
  },
  {
   "cell_type": "code",
   "execution_count": 34,
   "id": "272cf389",
   "metadata": {},
   "outputs": [
    {
     "data": {
      "text/plain": [
       "0"
      ]
     },
     "execution_count": 34,
     "metadata": {},
     "output_type": "execute_result"
    }
   ],
   "source": [
    "np.sum(cat['id'] != merian['objectId'])"
   ]
  },
  {
   "cell_type": "code",
   "execution_count": null,
   "id": "b3aec608",
   "metadata": {},
   "outputs": [],
   "source": []
  },
  {
   "cell_type": "code",
   "execution_count": null,
   "id": "c63cb1f3",
   "metadata": {},
   "outputs": [],
   "source": []
  }
 ],
 "metadata": {
  "kernelspec": {
   "display_name": "Python 3 (ipykernel)",
   "language": "python",
   "name": "python3"
  },
  "language_info": {
   "codemirror_mode": {
    "name": "ipython",
    "version": 3
   },
   "file_extension": ".py",
   "mimetype": "text/x-python",
   "name": "python",
   "nbconvert_exporter": "python",
   "pygments_lexer": "ipython3",
   "version": "3.10.5"
  }
 },
 "nbformat": 4,
 "nbformat_minor": 5
}
