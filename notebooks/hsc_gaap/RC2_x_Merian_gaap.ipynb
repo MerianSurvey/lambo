{
 "cells": [
  {
   "cell_type": "code",
   "execution_count": 1,
   "id": "a13ed325",
   "metadata": {},
   "outputs": [],
   "source": [
    "import numpy as np\n",
    "import time\n",
    "import matplotlib\n",
    "import matplotlib.pyplot as plt\n",
    "import lsst.meas.base\n",
    "import lsst.pex.config\n",
    "import lsst.afw.display as afwDisplay\n",
    "import lsst.afw.geom as afwGeom\n",
    "import lsst.afw.table\n",
    "import lsst.meas.algorithms\n",
    "import lsst.meas.deblender\n",
    "import lsst.pex.exceptions\n",
    "import lsst.meas.extensions.gaap\n",
    "import cProfile, pstats"
   ]
  },
  {
   "cell_type": "markdown",
   "id": "35b40246",
   "metadata": {},
   "source": [
    "## Try gaap with reference catalog"
   ]
  },
  {
   "cell_type": "code",
   "execution_count": 190,
   "id": "0adc2aaa",
   "metadata": {},
   "outputs": [],
   "source": [
    "# Load Merian catalog as reference\n",
    "filt = 'N708'\n",
    "tract = 9813\n",
    "patch = 79\n",
    "\n",
    "import lsst.daf.butler as dafButler\n",
    "butler = dafButler.Butler('/projects/MERIAN/repo/')\n",
    "dataId = dict(tract=tract, patch=patch, band=filt)\n",
    "refCat = butler.get(\n",
    "    'deepCoadd_forced_src',\n",
    "    collections='DECam/runs/merian/dr1_wide',\n",
    "    dataId=dataId,\n",
    "    instrument='DECam',\n",
    "    skymap='hsc_rings_v1',\n",
    ")\n",
    "refCat = refCat[:1000]\n",
    "refExposure = butler.get(\n",
    "    'deepCoadd_calexp',\n",
    "    collections='DECam/runs/merian/dr1_wide',\n",
    "    dataId=dataId,\n",
    "    instrument='DECam',\n",
    "    skymap='hsc_rings_v1',\n",
    ")"
   ]
  },
  {
   "cell_type": "code",
   "execution_count": 191,
   "id": "deb42724",
   "metadata": {},
   "outputs": [],
   "source": [
    "# exposure = lsst.afw.image.ExposureF(\"/projects/MERIAN/repo/S20A/9813/8,7.fits\")\n",
    "exposure = lsst.afw.image.ExposureF(\n",
    "    \"/projects/MERIAN/repo/HSC/runs/RC2/w_2022_04/DM-33402/20220128T212035Z/deepCoadd_calexp/9813/79/i/deepCoadd_calexp_9813_79_i_hsc_rings_v1_HSC_runs_RC2_w_2022_04_DM-33402_20220128T212035Z.fits\")\n",
    "# exposure = lsst.afw.image.ExposureF(\n",
    "#     \"/projects/MERIAN/repo/DECam/runs/merian/dr1_wide/20220921T193246Z/deepCoadd_calexp/9813/79/N708/deepCoadd_calexp_9813_79_N708_hsc_rings_v1_DECam_runs_merian_dr1_wide_20220921T193246Z.fits\")"
   ]
  },
  {
   "cell_type": "code",
   "execution_count": 192,
   "id": "d5253ab5",
   "metadata": {},
   "outputs": [],
   "source": [
    "measureConfig = lsst.meas.base.ForcedMeasurementConfig()\n",
    "measureConfig.plugins.names.add(\"ext_gaap_GaapFlux\")\n",
    "measureConfig.plugins.names.add(\"base_SdssShape\")\n",
    "measureConfig.plugins.names.add(\"base_SdssCentroid\")\n",
    "measureConfig.plugins.names.add(\"ext_gaap_GaapFlux\")\n",
    "measureConfig.plugins[\"ext_gaap_GaapFlux\"].doMeasure = True  # Set it to False for timing comparison\n",
    "measureConfig.plugins[\"ext_gaap_GaapFlux\"].doPsfPhotometry = True\n",
    "measureConfig.plugins[\"ext_gaap_GaapFlux\"].doOptimalPhotometry = False\n",
    "measureConfig.plugins[\"ext_gaap_GaapFlux\"].sigmas = [0.25, 0.5, 0.75, 1.0]#, 1.5, 2.0, 2.5, 3.0]\n",
    "measureTask2 = lsst.meas.base.ForcedMeasurementTask(refSchema=refCat.schema, config=measureConfig)"
   ]
  },
  {
   "cell_type": "code",
   "execution_count": 193,
   "id": "bca6b5df",
   "metadata": {},
   "outputs": [],
   "source": [
    "catalog = measureTask2.generateMeasCat(refExposure, refCat, refExposure.wcs, refCat.getIdFactory())\n",
    "# measureTask2.attachTransformedFootprints(catalog, refCat, refExposure, refExposure.wcs)"
   ]
  },
  {
   "cell_type": "code",
   "execution_count": 195,
   "id": "63b43c7a",
   "metadata": {},
   "outputs": [
    {
     "name": "stdout",
     "output_type": "stream",
     "text": [
      "# Starting the measureTask at  Tue Nov  1 21:09:25 2022\n",
      "# Finished measureTask in 61.76 seconds.\n"
     ]
    }
   ],
   "source": [
    "print(\"# Starting the measureTask at \", time.ctime())\n",
    "t1 = time.time()\n",
    "measureTask2.run(catalog, exposure, refCat=refCat, refWcs=refExposure.wcs)\n",
    "t2 = time.time()\n",
    "print(\"# Finished measureTask in %.2f seconds.\" % (t2-t1))\n",
    "cat2 = catalog.copy(deep=True).asAstropy()"
   ]
  },
  {
   "cell_type": "code",
   "execution_count": 196,
   "id": "0d7b7922",
   "metadata": {},
   "outputs": [
    {
     "data": {
      "text/plain": [
       "[]"
      ]
     },
     "execution_count": 196,
     "metadata": {},
     "output_type": "execute_result"
    },
    {
     "data": {
      "image/png": "[encoded data removed]",
      "text/plain": [
       "<Figure size 432x288 with 1 Axes>"
      ]
     },
     "metadata": {
      "needs_background": "light"
     },
     "output_type": "display_data"
    }
   ],
   "source": [
    "plt.scatter(catalog['ext_gaap_GaapFlux_1_15x_1_0_instFlux'], refCat['ext_gaap_GaapFlux_1_15x_1_0_instFlux'], s=1)\n",
    "\n",
    "plt.loglog()"
   ]
  },
  {
   "cell_type": "code",
   "execution_count": 197,
   "id": "c974e25e",
   "metadata": {},
   "outputs": [
    {
     "data": {
      "text/plain": [
       "[]"
      ]
     },
     "execution_count": 197,
     "metadata": {},
     "output_type": "execute_result"
    },
    {
     "data": {
      "image/png": "[encoded data removed]",
      "text/plain": [
       "<Figure size 432x288 with 1 Axes>"
      ]
     },
     "metadata": {
      "needs_background": "light"
     },
     "output_type": "display_data"
    }
   ],
   "source": [
    "plt.scatter(catalog['base_PsfFlux_instFlux'], refCat['base_PsfFlux_instFlux'], s=1)\n",
    "\n",
    "plt.loglog()"
   ]
  },
  {
   "cell_type": "code",
   "execution_count": 207,
   "id": "b15823d8",
   "metadata": {},
   "outputs": [],
   "source": [
    "cat2['coord_ra'] = cat2['coord_ra'].to(u.deg)"
   ]
  },
  {
   "cell_type": "code",
   "execution_count": 208,
   "id": "773b328a",
   "metadata": {},
   "outputs": [],
   "source": [
    "cat2['coord_dec'] = cat2['coord_dec'].to(u.deg)"
   ]
  },
  {
   "cell_type": "code",
   "execution_count": 214,
   "id": "c4886dd5",
   "metadata": {},
   "outputs": [],
   "source": [
    "a = exposure.getPhotoCalib()"
   ]
  },
  {
   "cell_type": "code",
   "execution_count": 221,
   "id": "b7b2fa49",
   "metadata": {},
   "outputs": [
    {
     "data": {
      "text/plain": [
       "57.543993733715425"
      ]
     },
     "execution_count": 221,
     "metadata": {},
     "output_type": "execute_result"
    }
   ],
   "source": [
    "a.instFluxToNanojansky(1)"
   ]
  },
  {
   "cell_type": "code",
   "execution_count": 212,
   "id": "a68f285d",
   "metadata": {},
   "outputs": [],
   "source": [
    "cat2.write('./my_own_gaap_rc2_79.fits', overwrite=True)"
   ]
  },
  {
   "cell_type": "code",
   "execution_count": null,
   "id": "bbd8abd9",
   "metadata": {},
   "outputs": [],
   "source": []
  },
  {
   "cell_type": "code",
   "execution_count": null,
   "id": "b369e893",
   "metadata": {},
   "outputs": [],
   "source": []
  },
  {
   "cell_type": "code",
   "execution_count": 198,
   "id": "8f6d17c0",
   "metadata": {},
   "outputs": [
    {
     "data": {
      "text/plain": [
       "<matplotlib.collections.PathCollection at 0x2b8b199e47c0>"
      ]
     },
     "execution_count": 198,
     "metadata": {},
     "output_type": "execute_result"
    },
    {
     "data": {
      "image/png": "[encoded data removed]",
      "text/plain": [
       "<Figure size 432x288 with 1 Axes>"
      ]
     },
     "metadata": {
      "needs_background": "light"
     },
     "output_type": "display_data"
    }
   ],
   "source": [
    "plt.scatter(catalog['coord_ra'], catalog['coord_dec'], s=1)\n",
    "plt.scatter(refCat['coord_ra'], refCat['coord_dec'], s=1)"
   ]
  },
  {
   "cell_type": "code",
   "execution_count": null,
   "id": "e3b75582",
   "metadata": {},
   "outputs": [],
   "source": []
  },
  {
   "cell_type": "code",
   "execution_count": null,
   "id": "4392711a",
   "metadata": {},
   "outputs": [],
   "source": []
  },
  {
   "cell_type": "code",
   "execution_count": 200,
   "id": "a10513ec",
   "metadata": {},
   "outputs": [
    {
     "name": "stderr",
     "output_type": "stream",
     "text": [
      "/tmp/ipykernel_109914/1805351082.py:1: RuntimeWarning: invalid value encountered in power\n",
      "  plt.hist(0.168 * ((cat2['base_SdssShape_xx'] * cat2['base_SdssShape_yy'] - cat2['base_SdssShape_xy']**2))**0.25,\n",
      "/tmp/ipykernel_109914/1805351082.py:4: RuntimeWarning: invalid value encountered in power\n",
      "  plt.hist(0.168 * ((refCat['base_SdssShape_xx'] * refCat['base_SdssShape_yy'] - refCat['base_SdssShape_xy']**2))**0.25,\n"
     ]
    },
    {
     "data": {
      "text/plain": [
       "(array([1.73963134, 0.46082949, 1.50921659, 2.23502304, 2.00460829,\n",
       "        0.94470046, 0.34562212, 0.17281106, 0.13824885, 0.0921659 ,\n",
       "        0.02304147, 0.05760369, 0.06912442, 0.01152074, 0.04608295,\n",
       "        0.03456221, 0.03456221, 0.04608295, 0.01152074, 0.02304147]),\n",
       " array([0. , 0.1, 0.2, 0.3, 0.4, 0.5, 0.6, 0.7, 0.8, 0.9, 1. , 1.1, 1.2,\n",
       "        1.3, 1.4, 1.5, 1.6, 1.7, 1.8, 1.9, 2. ]),\n",
       " [<matplotlib.patches.Polygon at 0x2b8b19a2b340>])"
      ]
     },
     "execution_count": 200,
     "metadata": {},
     "output_type": "execute_result"
    },
    {
     "data": {
      "image/png": "[encoded data removed]",
      "text/plain": [
       "<Figure size 432x288 with 1 Axes>"
      ]
     },
     "metadata": {
      "needs_background": "light"
     },
     "output_type": "display_data"
    }
   ],
   "source": [
    "plt.hist(0.168 * ((cat2['base_SdssShape_xx'] * cat2['base_SdssShape_yy'] - cat2['base_SdssShape_xy']**2))**0.25,\n",
    "         range=(0, 2), bins=20, histtype='step', density=True)\n",
    "\n",
    "plt.hist(0.168 * ((refCat['base_SdssShape_xx'] * refCat['base_SdssShape_yy'] - refCat['base_SdssShape_xy']**2))**0.25,\n",
    "         range=(0, 2), bins=20, histtype='step', density=True)"
   ]
  },
  {
   "cell_type": "code",
   "execution_count": null,
   "id": "5ce475e2",
   "metadata": {},
   "outputs": [],
   "source": []
  }
 ],
 "metadata": {
  "kernelspec": {
   "display_name": "Python 3 (ipykernel)",
   "language": "python",
   "name": "python3"
  },
  "language_info": {
   "codemirror_mode": {
    "name": "ipython",
    "version": 3
   },
   "file_extension": ".py",
   "mimetype": "text/x-python",
   "name": "python",
   "nbconvert_exporter": "python",
   "pygments_lexer": "ipython3",
   "version": "3.10.5"
  }
 },
 "nbformat": 4,
 "nbformat_minor": 5
}
