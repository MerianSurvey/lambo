{
 "cells": [
  {
   "attachments": {},
   "cell_type": "markdown",
   "metadata": {},
   "source": [
    "# Gaap pipeline \n",
    "\n",
    "Use this notebook to run `gaap` photometry on Merian-reduced data.\n",
    "\n",
    "Make sure that you are in the right environment! When activating the jupyter notebook:\n",
    "\n",
    "        module load anaconda3/2022.5\n",
    "        . /scratch/gpfs/am2907/Merian/gaap/lambo/scripts/setup_env_w40.sh\n",
    "        jupyter notebook"
   ]
  },
  {
   "cell_type": "code",
   "execution_count": 1,
   "metadata": {},
   "outputs": [
    {
     "name": "stdout",
     "output_type": "stream",
     "text": [
      "Overriding default configuration file with /scratch/gpfs/HSC/LSST/stack_20230302/conda/envs/lsst-scipipe-4.0.1/share/eups/Linux64/dustmaps_cachedata/g41a3ec361e+ac198e9f13/config/.dustmapsrc\n"
     ]
    }
   ],
   "source": [
    "import lsst.daf.butler as dafButler\n",
    "import numpy as np\n",
    "import glob\n",
    "import os, sys\n",
    "sys.path.append(os.path.join(os.getenv('LAMBO_HOME'), 'lambo/scripts/'))\n",
    "from hsc_gaap.deploy_gaap_array import deploy_training_job\n",
    "from hsc_gaap.check_gaap_run import checkRun\n",
    "from hsc_gaap.find_patches_to_reduce import * \n",
    "from hsc_gaap.compile_catalogs import compileCatalogs\n",
    "\n",
    "%load_ext autoreload\n",
    "%autoreload 2"
   ]
  },
  {
   "attachments": {},
   "cell_type": "markdown",
   "metadata": {},
   "source": [
    "---\n",
    "# Step 1: What patches do we need to reduce?"
   ]
  },
  {
   "attachments": {},
   "cell_type": "markdown",
   "metadata": {},
   "source": [
    "We want to identify patches that have the necessary merian data products for `gaap` processing and have not already been processed. Patches need to have:\n",
    "\n",
    "- deepCoadd_ref\n",
    "- deepCoadd_meas\n",
    "- deepCoadd_scarletModelData\n",
    "- deepCoadd_calexp\n"
   ]
  },
  {
   "attachments": {},
   "cell_type": "markdown",
   "metadata": {},
   "source": [
    "Get a list of all Merian tracts with reduced data, and we will search through them to see which patches fit our criteria:"
   ]
  },
  {
   "cell_type": "code",
   "execution_count": 13,
   "metadata": {},
   "outputs": [],
   "source": [
    "repo = '/scratch/gpfs/am2907/Merian/gaap'"
   ]
  },
  {
   "cell_type": "code",
   "execution_count": 14,
   "metadata": {},
   "outputs": [],
   "source": [
    "output_collection = \"DECam/runs/merian/dr1_wide\"\n",
    "data_type = \"deepCoadd_calexp\"\n",
    "skymap = \"hsc_rings_v1\"\n",
    "butler = dafButler.Butler('/projects/MERIAN/repo/', collections=output_collection, skymap=skymap)"
   ]
  },
  {
   "cell_type": "code",
   "execution_count": 15,
   "metadata": {},
   "outputs": [],
   "source": [
    "\n",
    "patches = np.array([[data_id['tract'], data_id[\"patch\"]] for data_id in butler.registry.queryDataIds (['tract','patch'], datasets=data_type, \n",
    "                                                 collections=output_collection, skymap=skymap)])\n",
    "patches = patches[patches[:, 0].argsort()]\n",
    "tracts, idx = np.unique(patches[:,0], return_index=True) \n",
    "patches_by_tract = np.split(patches[:,1] ,idx[1:])"
   ]
  },
  {
   "cell_type": "code",
   "execution_count": 17,
   "metadata": {},
   "outputs": [
    {
     "name": "stdout",
     "output_type": "stream",
     "text": [
      "285 tracts with necessary data products\n"
     ]
    }
   ],
   "source": [
    "tracts_n708 = []\n",
    "for tract in tracts:\n",
    "    patches = findReducedPatches(tract)\n",
    "    if len(patches) > 0:\n",
    "        tracts_n708.append(tract)\n",
    "\n",
    "tracts_n708 = np.array(tracts_n708)\n",
    "print(f\"{len(tracts_n708)} tracts with necessary data products\")"
   ]
  },
  {
   "attachments": {},
   "cell_type": "markdown",
   "metadata": {},
   "source": [
    "Save a csv with the info if you want:"
   ]
  },
  {
   "cell_type": "code",
   "execution_count": 8,
   "metadata": {},
   "outputs": [],
   "source": [
    "# saveMerianReducedPatchList(tracts, os.path.join(repo, \"reducedPatches_N708.csv\"))"
   ]
  },
  {
   "attachments": {},
   "cell_type": "markdown",
   "metadata": {},
   "source": [
    "Now find patches that haven't yet been `gaap` processed:"
   ]
  },
  {
   "cell_type": "code",
   "execution_count": 18,
   "metadata": {},
   "outputs": [
    {
     "name": "stdout",
     "output_type": "stream",
     "text": [
      "114 tracts to be reduced\n"
     ]
    }
   ],
   "source": [
    "tracts_n708_nogaap = []\n",
    "for tract in tracts:\n",
    "    patches_mer  = findReducedPatches(tract)\n",
    "    patches_gaap = findGaapReducedPatches(tract, repo=repo)\n",
    "    if len(set(patches_mer) - set(patches_gaap)) > 0:\n",
    "        tracts_n708_nogaap.append(tract)\n",
    "        \n",
    "print(f\"{len(tracts_n708_nogaap)} tracts to be reduced\")"
   ]
  },
  {
   "cell_type": "code",
   "execution_count": null,
   "metadata": {},
   "outputs": [],
   "source": [
    "# saveGaapReducedPatchList(tracts, os.path.join(repo, \"GaapReduced.csv\"))"
   ]
  },
  {
   "cell_type": "code",
   "execution_count": 12,
   "metadata": {},
   "outputs": [
    {
     "name": "stdout",
     "output_type": "stream",
     "text": [
      "Saved file to /scratch/gpfs/am2907/Merian/gaap/notGaapReduced.csv.\n"
     ]
    }
   ],
   "source": [
    "# saveGaapNotReducedPatchList(tracts, os.path.join(repo, \"notGaapReduced.csv\"), notionformat=False)"
   ]
  },
  {
   "attachments": {},
   "cell_type": "markdown",
   "metadata": {},
   "source": [
    "If you want, you can see how many patches need to be reduced for each tract:"
   ]
  },
  {
   "cell_type": "code",
   "execution_count": 19,
   "metadata": {},
   "outputs": [
    {
     "name": "stdout",
     "output_type": "stream",
     "text": [
      "5543 patches to be reduced\n"
     ]
    }
   ],
   "source": [
    "npatches = [len(list(set(findReducedPatches(tract))- set(findGaapReducedPatches(tract, repo=repo)))) \n",
    "            for tract in tracts_n708_nogaap]\n",
    "print(f\"{sum(npatches)} patches to be reduced\")"
   ]
  },
  {
   "cell_type": "code",
   "execution_count": 20,
   "metadata": {},
   "outputs": [
    {
     "name": "stdout",
     "output_type": "stream",
     "text": [
      "It will take ~ 92.4 hours to download HSC images for 5543 patches\n",
      "It will take ~ 3.3 TBs to download HSC images for 5543 patches\n",
      "Once the data has been downloaded, it will take ~ 138.6 hours to run gaap on 5543 patches\n",
      "It will take ~ 1.2 TBs to save the gaap catalogs for 5543 patches\n"
     ]
    }
   ],
   "source": [
    "print(f\"It will take ~ {sum(npatches)/60:.1f} hours to download HSC images for {sum(npatches)} patches\")\n",
    "print(f\"It will take ~ {sum(npatches)*.6/1000:.1f} TBs to download HSC images for {sum(npatches)} patches\")\n",
    "print(f\"Once the data has been downloaded, it will take ~ {sum(npatches)/20/2:.1f} hours to run gaap on {sum(npatches)} patches\")\n",
    "print(f\"It will take ~ {sum(npatches)*.212/1000:.1f} TBs to save the gaap catalogs for {sum(npatches)} patches\")\n"
   ]
  },
  {
   "cell_type": "code",
   "execution_count": 17,
   "metadata": {},
   "outputs": [
    {
     "name": "stdout",
     "output_type": "stream",
     "text": [
      "TRACT:9618, 8\n",
      "TRACT:9619, 48\n",
      "TRACT:9620, 81\n",
      "TRACT:9621, 29\n",
      "TRACT:9697, 25\n",
      "TRACT:9698, 80\n",
      "TRACT:9699, 80\n",
      "TRACT:9700, 79\n",
      "TRACT:9701, 79\n",
      "TRACT:9702, 73\n",
      "TRACT:9703, 8\n",
      "TRACT:9707, 27\n",
      "TRACT:9708, 72\n",
      "TRACT:9709, 77\n",
      "TRACT:9710, 76\n",
      "TRACT:9711, 76\n",
      "TRACT:9712, 42\n",
      "TRACT:9713, 42\n",
      "TRACT:9714, 14\n",
      "TRACT:9798, 13\n",
      "TRACT:9799, 74\n",
      "TRACT:9800, 81\n",
      "TRACT:9801, 81\n",
      "TRACT:9802, 81\n",
      "TRACT:9803, 81\n",
      "TRACT:9804, 81\n",
      "TRACT:9805, 81\n",
      "TRACT:9806, 81\n",
      "TRACT:9807, 81\n",
      "TRACT:9808, 80\n",
      "TRACT:9809, 79\n",
      "TRACT:9810, 79\n",
      "TRACT:9811, 75\n",
      "TRACT:9812, 4\n",
      "TRACT:9814, 2\n",
      "TRACT:9815, 81\n",
      "TRACT:9816, 80\n",
      "TRACT:9817, 80\n",
      "TRACT:9818, 80\n",
      "TRACT:9819, 81\n",
      "TRACT:9820, 54\n",
      "TRACT:9821, 2\n",
      "TRACT:9828, 37\n",
      "TRACT:9833, 81\n",
      "TRACT:9837, 69\n",
      "TRACT:9838, 64\n",
      "TRACT:9839, 5\n",
      "TRACT:9862, 21\n",
      "TRACT:9863, 9\n",
      "TRACT:9939, 4\n",
      "TRACT:9940, 50\n",
      "TRACT:9941, 81\n",
      "TRACT:9942, 81\n",
      "TRACT:9943, 81\n",
      "TRACT:9944, 64\n",
      "TRACT:9945, 2\n",
      "TRACT:9949, 9\n",
      "TRACT:9950, 41\n",
      "TRACT:9951, 41\n",
      "TRACT:9952, 41\n",
      "TRACT:9953, 41\n",
      "TRACT:10040, 5\n",
      "TRACT:10041, 65\n",
      "TRACT:10042, 81\n",
      "TRACT:10043, 81\n",
      "TRACT:10044, 79\n",
      "TRACT:10045, 79\n",
      "TRACT:10046, 81\n",
      "TRACT:10047, 81\n",
      "TRACT:10048, 81\n",
      "TRACT:10049, 69\n",
      "TRACT:10050, 62\n",
      "TRACT:10051, 79\n",
      "TRACT:10052, 80\n",
      "TRACT:10053, 78\n",
      "TRACT:10055, 4\n",
      "TRACT:10057, 80\n",
      "TRACT:10058, 80\n",
      "TRACT:10060, 81\n",
      "TRACT:10061, 81\n",
      "TRACT:10062, 50\n",
      "TRACT:10070, 2\n",
      "TRACT:10078, 4\n",
      "TRACT:10182, 6\n",
      "TRACT:10183, 34\n",
      "TRACT:10184, 59\n",
      "TRACT:10185, 81\n",
      "TRACT:10186, 27\n",
      "TRACT:10283, 27\n",
      "TRACT:10285, 42\n",
      "TRACT:10286, 43\n",
      "TRACT:10287, 41\n",
      "TRACT:10288, 36\n",
      "TRACT:10289, 36\n",
      "TRACT:10290, 36\n",
      "TRACT:10291, 19\n",
      "TRACT:10292, 11\n",
      "TRACT:10293, 28\n",
      "TRACT:10294, 26\n",
      "TRACT:10295, 26\n",
      "TRACT:10296, 26\n",
      "TRACT:10297, 24\n",
      "TRACT:10298, 23\n",
      "TRACT:10299, 19\n",
      "TRACT:10300, 18\n",
      "TRACT:10301, 18\n",
      "TRACT:10302, 17\n",
      "TRACT:10303, 14\n",
      "TRACT:10304, 9\n",
      "TRACT:10426, 15\n",
      "TRACT:10427, 33\n",
      "TRACT:10428, 2\n"
     ]
    }
   ],
   "source": [
    "for tract, npatch in zip(tracts_n708_nogaap, npatches):\n",
    "    if npatch > 0:\n",
    "        print (f'TRACT:{tract}, {npatch}')"
   ]
  },
  {
   "attachments": {},
   "cell_type": "markdown",
   "metadata": {},
   "source": [
    "---\n",
    "# Step 2: Download the data\n",
    "\n",
    "We need to download the HSC data for all of the tracts we need to reduce. *Be warned, this takes a while and uses a lot of storage.*\n",
    "\n",
    "It is recommended to run the following in a bash screen because depending on how much data you need to download, it can take many hours.\n",
    "\n",
    "The following will download images for tract 9813 to `/scratch/gpfs/am2907/Merian/gaap/S20A/deepCoadd_calexp/9813` and the blendedness catalogs to `/scratch/gpfs/am2907/Merian/gaap/S20A/gaapTable/9813`:\n",
    "- Unless `--only_merian=False`, this will only download the patches that have been reduced by Merian.\n",
    "- You can download all of the Merian-reduced data in one go if you set `--alltracts=True`. Be careful with this, because it is ****lots**** of data!"
   ]
  },
  {
   "attachments": {},
   "cell_type": "markdown",
   "metadata": {},
   "source": [
    "    screen -L -S downloadtract    \n",
    "    \n",
    "    cd /scratch/gpfs/am2907/Merian/gaap\n",
    "    . lambo/scripts/setup_env_w40.sh\n",
    "    python3 lambo/scripts/hsc_gaap/download_S20A.py --tract=9813 --outdir=\"/scratch/gpfs/am2907/Merian/gaap/\"\n"
   ]
  },
  {
   "attachments": {},
   "cell_type": "markdown",
   "metadata": {},
   "source": [
    "To exit screen do `ctrl a d` and to reattach do `screen -r downloaddata`"
   ]
  },
  {
   "attachments": {},
   "cell_type": "markdown",
   "metadata": {},
   "source": [
    "---\n",
    "# Step 3: Make slurm scripts and submit"
   ]
  },
  {
   "attachments": {},
   "cell_type": "markdown",
   "metadata": {},
   "source": [
    "Write one slurm script for each tract – each of which is a job array with one job for each patch. \n",
    "You can submit the scripts as you write them if you want, but beware that there is an upper limit for the number of jobs you can submit at once to the queue."
   ]
  },
  {
   "cell_type": "code",
   "execution_count": 21,
   "metadata": {},
   "outputs": [],
   "source": [
    "for tract in tracts_n708_nogaap[:1]:\n",
    "    deploy_training_job(tract, filter_jobs=5,\n",
    "                        python_file='lambo/scripts/hsc_gaap/run_gaap.py',\n",
    "                        name='gaap', email=\"am2907@princeton.edu\", outname = None, \n",
    "                        repo='/scratch/gpfs/am2907/Merian/gaap', scriptdir=\"/scratch/gpfs/am2907/Merian/gaap/\", \n",
    "                        submit=False, fixpatches=False)"
   ]
  },
  {
   "attachments": {},
   "cell_type": "markdown",
   "metadata": {},
   "source": [
    "The gaap reduction will save one catalog for each patch to (for example):\n",
    "\n",
    "        /scratch/gpfs/am2907/Merian/gaap/S20A/gaapTable/9813/0,0/objectTable_9813_0,0_S20A.fits"
   ]
  },
  {
   "attachments": {},
   "cell_type": "markdown",
   "metadata": {},
   "source": [
    "---\n",
    "# Step 4: Check on it!"
   ]
  },
  {
   "attachments": {},
   "cell_type": "markdown",
   "metadata": {},
   "source": [
    "You can check on the logs while the jobs are running to check for any glaring problems:\n",
    "- `logs/gaapPhot_array_9813_0.o` \n",
    "- `logs/gaap_9813_0.log`"
   ]
  },
  {
   "attachments": {},
   "cell_type": "markdown",
   "metadata": {},
   "source": [
    "One the jobs are done running (for a given tract), you can check how things went. "
   ]
  },
  {
   "cell_type": "code",
   "execution_count": null,
   "metadata": {},
   "outputs": [],
   "source": [
    "for tract in tracts_n708_nogaap:\n",
    "    problems = checkRun(tract)"
   ]
  },
  {
   "cell_type": "code",
   "execution_count": 25,
   "metadata": {},
   "outputs": [
    {
     "name": "stdout",
     "output_type": "stream",
     "text": [
      "TRACT: 9617\n",
      "NO PROBLEMS\n",
      "\n"
     ]
    },
    {
     "data": {
      "text/plain": [
       "array([], dtype=float64)"
      ]
     },
     "execution_count": 25,
     "metadata": {},
     "output_type": "execute_result"
    }
   ],
   "source": [
    "checkRun(9617)"
   ]
  },
  {
   "attachments": {},
   "cell_type": "markdown",
   "metadata": {},
   "source": [
    "You might get issues like \"Failed for 3 bands\" - this could be because HSC images don't exist for all bands. So it might not be an issue you can fix!"
   ]
  },
  {
   "attachments": {},
   "cell_type": "markdown",
   "metadata": {},
   "source": [
    "---\n",
    "# Step 4: Merge catalogs"
   ]
  },
  {
   "attachments": {},
   "cell_type": "markdown",
   "metadata": {},
   "source": [
    "If everything is looking good, you can merge the patch catalogs into a tract-level catalog. \n",
    "\n",
    "It's recommended to run this step in a screen in terminal, because it takes some time!\n",
    "\n",
    "But here is an example:"
   ]
  },
  {
   "cell_type": "code",
   "execution_count": 28,
   "metadata": {},
   "outputs": [
    {
     "name": "stdout",
     "output_type": "stream",
     "text": [
      "COMPILING CATALOG FOR TRACT 9617 WITH 13 PATCHES\n",
      "COMPILED TABLE OF 279484 ROWS and 69 COLUMNS\n",
      "WROTE TABLE TO /scratch/gpfs/am2907/Merian/gaap/S20A/gaapTable/9617/objectTable_9617_S20A.fits\n"
     ]
    }
   ],
   "source": [
    "compileCatalogs([9617], repo, alltracts=False, rewrite=False)"
   ]
  },
  {
   "attachments": {},
   "cell_type": "markdown",
   "metadata": {},
   "source": [
    "        python3 lambo/scripts/hsc_gaap/compile_catalogs.py --tracts==\"[9327,9328,9329,9813,9812]\"\n",
    "\n",
    "This will save a catalog to (for example):\n",
    "        \n",
    "        /scratch/gpfs/am2907/Merian/gaap/S20A/gaapTable/9813/objectTable_9813_S20A.fits"
   ]
  },
  {
   "attachments": {},
   "cell_type": "markdown",
   "metadata": {},
   "source": [
    "If you want to change the columns that are used for the compiled catalog, edit these files:\n",
    "\n",
    "        lambo/scripts/hsc_gaap/keep_table_columns_gaap.txt\n",
    "        lambo/scripts/hsc_gaap/keep_table_columns_merian.txt"
   ]
  },
  {
   "attachments": {},
   "cell_type": "markdown",
   "metadata": {},
   "source": [
    "And you're all done!"
   ]
  }
 ],
 "metadata": {
  "kernelspec": {
   "display_name": "Python 3 (ipykernel)",
   "language": "python",
   "name": "python3"
  },
  "language_info": {
   "codemirror_mode": {
    "name": "ipython",
    "version": 3
   },
   "file_extension": ".py",
   "mimetype": "text/x-python",
   "name": "python",
   "nbconvert_exporter": "python",
   "pygments_lexer": "ipython3",
   "version": "3.10.9"
  },
  "orig_nbformat": 4
 },
 "nbformat": 4,
 "nbformat_minor": 2
}
