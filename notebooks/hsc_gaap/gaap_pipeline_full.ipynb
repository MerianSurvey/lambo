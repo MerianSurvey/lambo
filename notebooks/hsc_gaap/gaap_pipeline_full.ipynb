{
 "cells": [
  {
   "attachments": {},
   "cell_type": "markdown",
   "metadata": {},
   "source": [
    "# Gaap pipeline \n",
    "\n",
    "Use this notebook to run `gaap` photometry on Merian-reduced data.\n",
    "\n",
    "Make sure that you are in the right environment! When activating the jupyter notebook:\n",
    "\n",
    "        module load anaconda3/2022.5\n",
    "        . /scratch/gpfs/am2907/Merian/gaap/lambo/scripts/setup_env_w40.sh\n",
    "        jupyter notebook"
   ]
  },
  {
   "cell_type": "code",
   "execution_count": 101,
   "metadata": {},
   "outputs": [
    {
     "name": "stdout",
     "output_type": "stream",
     "text": [
      "The autoreload extension is already loaded. To reload it, use:\n",
      "  %reload_ext autoreload\n"
     ]
    }
   ],
   "source": [
    "import lsst.daf.butler as dafButler\n",
    "import numpy as np\n",
    "import glob\n",
    "import os, sys\n",
    "sys.path.append(os.path.join(os.getenv('LAMBO_HOME'), 'lambo/scripts/'))\n",
    "from hsc_gaap.deploy_gaap_array import deploy_training_job\n",
    "from hsc_gaap.check_gaap_run import checkRun\n",
    "from hsc_gaap.find_patches_to_reduce import * \n",
    "from hsc_gaap.compile_catalogs import compileCatalogs\n",
    "from tqdm import tqdm\n",
    "\n",
    "%load_ext autoreload\n",
    "%autoreload 2"
   ]
  },
  {
   "attachments": {},
   "cell_type": "markdown",
   "metadata": {},
   "source": [
    "---\n",
    "# Step 1: What patches do we need to reduce?"
   ]
  },
  {
   "attachments": {},
   "cell_type": "markdown",
   "metadata": {},
   "source": [
    "We want to identify patches that have the necessary merian data products for `gaap` processing and have not already been processed. Patches need to have:\n",
    "\n",
    "- deepCoadd_ref\n",
    "- deepCoadd_meas\n",
    "- deepCoadd_scarletModelData\n",
    "- deepCoadd_calexp\n"
   ]
  },
  {
   "attachments": {},
   "cell_type": "markdown",
   "metadata": {},
   "source": [
    "Get a list of all Merian tracts with reduced data, and we will search through them to see which patches fit our criteria:"
   ]
  },
  {
   "cell_type": "code",
   "execution_count": 102,
   "metadata": {},
   "outputs": [],
   "source": [
    "repo = '/scratch/gpfs/am2907/Merian/gaap'"
   ]
  },
  {
   "cell_type": "code",
   "execution_count": 103,
   "metadata": {},
   "outputs": [],
   "source": [
    "output_collection = \"DECam/runs/merian/dr1_wide\"\n",
    "data_type = \"deepCoadd_calexp\"\n",
    "skymap = \"hsc_rings_v1\"\n",
    "butler = dafButler.Butler('/projects/MERIAN/repo/', collections=output_collection, skymap=skymap)"
   ]
  },
  {
   "cell_type": "code",
   "execution_count": 104,
   "metadata": {},
   "outputs": [],
   "source": [
    "\n",
    "patches = np.array([[data_id['tract'], data_id[\"patch\"]] for data_id in butler.registry.queryDataIds (['tract','patch'], datasets=data_type, \n",
    "                                                 collections=output_collection, skymap=skymap)])\n",
    "patches = patches[patches[:, 0].argsort()]\n",
    "tracts, idx = np.unique(patches[:,0], return_index=True) \n",
    "patches_by_tract = np.split(patches[:,1] ,idx[1:])"
   ]
  },
  {
   "attachments": {},
   "cell_type": "markdown",
   "metadata": {},
   "source": [
    "Now find patches with necessary data products in N708:"
   ]
  },
  {
   "cell_type": "code",
   "execution_count": 105,
   "metadata": {},
   "outputs": [
    {
     "name": "stderr",
     "output_type": "stream",
     "text": [
      "100%|███████████████████████████████████████████████████████████████████████████████████████████████████| 355/355 [04:08<00:00,  1.43it/s]"
     ]
    },
    {
     "name": "stdout",
     "output_type": "stream",
     "text": [
      "14319 patches in 285 tracts with necessary data products in N708\n"
     ]
    },
    {
     "name": "stderr",
     "output_type": "stream",
     "text": [
      "\n"
     ]
    }
   ],
   "source": [
    "tracts_n708 = []\n",
    "patches_n708 = []\n",
    "for tract in tqdm(tracts):\n",
    "    patches = findReducedPatches(tract)\n",
    "    if len(patches) > 0:\n",
    "        tracts_n708.append(tract)\n",
    "        patches_n708.append(patches)\n",
    "\n",
    "tracts_n708 = np.array(tracts_n708)\n",
    "print(f\"{sum([len(p) for p in patches_n708])} patches in {len(tracts_n708)} tracts with necessary data products in N708\")"
   ]
  },
  {
   "attachments": {},
   "cell_type": "markdown",
   "metadata": {},
   "source": [
    "And in N540:"
   ]
  },
  {
   "cell_type": "code",
   "execution_count": 106,
   "metadata": {},
   "outputs": [
    {
     "name": "stderr",
     "output_type": "stream",
     "text": [
      "100%|███████████████████████████████████████████████████████████████████████████████████████████████████| 355/355 [04:11<00:00,  1.41it/s]"
     ]
    },
    {
     "name": "stdout",
     "output_type": "stream",
     "text": [
      "15259 patches in 318 tracts with necessary data products in N540\n"
     ]
    },
    {
     "name": "stderr",
     "output_type": "stream",
     "text": [
      "\n"
     ]
    }
   ],
   "source": [
    "tracts_n540 = []\n",
    "patches_n540 = []\n",
    "for tract in tqdm(tracts):\n",
    "    patches = findReducedPatches(tract, band=\"N540\")\n",
    "    if len(patches) > 0:\n",
    "        tracts_n540.append(tract)\n",
    "        patches_n540.append(patches)\n",
    "\n",
    "tracts_n540 = np.array(tracts_n540)\n",
    "print(f\"{sum([len(p) for p in patches_n540])} patches in {len(tracts_n540)} tracts with necessary data products in N540\")"
   ]
  },
  {
   "attachments": {},
   "cell_type": "markdown",
   "metadata": {},
   "source": [
    "We might be interested in seeing which patches have only one but not both bands:"
   ]
  },
  {
   "cell_type": "code",
   "execution_count": 107,
   "metadata": {},
   "outputs": [
    {
     "name": "stderr",
     "output_type": "stream",
     "text": [
      "100%|████████████████████████████████████████████████████████████████████████████████████████████████| 355/355 [00:00<00:00, 18194.66it/s]\n"
     ]
    }
   ],
   "source": [
    "n708_non540_tracts = []\n",
    "n708_non540_patches = []\n",
    "n540_non708_tracts = []\n",
    "n540_non708_patches = []\n",
    "for tract in tqdm(tracts):\n",
    "    if tract in tracts_n540:\n",
    "        patches_n540_i = patches_n540[np.where(tracts_n540 == tract)[0][0]]\n",
    "    else:\n",
    "        patches_n540_i=[]\n",
    "    if tract in tracts_n708:\n",
    "        patches_n708_i = patches_n708[np.where(tracts_n708 == tract)[0][0]]\n",
    "    else:\n",
    "        patches_n708_i=[]\n",
    "        \n",
    "    n708_non540 = list(set(patches_n708_i) - set(patches_n540_i))\n",
    "    n540_non708 = list(set(patches_n540_i) - set(patches_n708_i))\n",
    "\n",
    "    if len(n708_non540)>0:\n",
    "        n708_non540_tracts.append(tract)\n",
    "        n708_non540_patches.append(n708_non540)\n",
    "\n",
    "    if len(n540_non708)>0:\n",
    "        n540_non708_tracts.append(tract)\n",
    "        n540_non708_patches.append(n540_non708)\n",
    "\n",
    "numpatches_n540_only = sum([len(p) for p in n540_non708_patches])\n",
    "numpatches_n708_only = sum([len(p) for p in n708_non540_patches])\n",
    "numpatches_total = sum([len(p) for p in patches_by_tract])\n",
    "    "
   ]
  },
  {
   "cell_type": "code",
   "execution_count": 108,
   "metadata": {},
   "outputs": [
    {
     "name": "stdout",
     "output_type": "stream",
     "text": [
      "There are 3831 patches in 115 tracts that have N540 and no N708 \n",
      "There are 2891 patches in 89 tracts that have N708 and no N540 \n",
      "There are 26690 with both N540 and N708\n"
     ]
    }
   ],
   "source": [
    "print(f\"There are {numpatches_n540_only} patches in {len(n540_non708_tracts)} tracts that have N540 and no N708 \")\n",
    "print(f\"There are {numpatches_n708_only} patches in {len(n708_non540_tracts)} tracts that have N708 and no N540 \")\n",
    "print(f'There are {numpatches_total - numpatches_n708_only - numpatches_n540_only} with both N540 and N708')"
   ]
  },
  {
   "attachments": {},
   "cell_type": "markdown",
   "metadata": {},
   "source": [
    "Save a csv with the info if you want:"
   ]
  },
  {
   "cell_type": "code",
   "execution_count": 109,
   "metadata": {},
   "outputs": [],
   "source": [
    "# saveMerianReducedPatchList(tracts, os.path.join(repo, \"reducedPatches_N708.csv\"))\n",
    "# saveMerianReducedPatchList(tracts, os.path.join(repo, \"reducedPatches_N540.csv\"), band=\"N540\")"
   ]
  },
  {
   "attachments": {},
   "cell_type": "markdown",
   "metadata": {},
   "source": [
    "Now find patches that haven't yet been `gaap` processed:\n",
    "\n",
    "- N708 here is all patches that have N708 (whether they have N540 also or not)\n",
    "- N540 is patches with only N540"
   ]
  },
  {
   "cell_type": "code",
   "execution_count": 110,
   "metadata": {},
   "outputs": [
    {
     "name": "stderr",
     "output_type": "stream",
     "text": [
      "100%|███████████████████████████████████████████████████████████████████████████████████████████████████| 285/285 [00:29<00:00,  9.79it/s]"
     ]
    },
    {
     "name": "stdout",
     "output_type": "stream",
     "text": [
      "5 patches in 2 tracts to be reduced with N708\n"
     ]
    },
    {
     "name": "stderr",
     "output_type": "stream",
     "text": [
      "\n"
     ]
    }
   ],
   "source": [
    "tracts_n708_nogaap = []\n",
    "patches_n708_nogaap = []\n",
    "for i, tract in enumerate(tqdm(tracts_n708)):\n",
    "    patches_mer  = patches_n708[i]\n",
    "    patches_gaap = findGaapReducedPatches(tract, repo=repo)\n",
    "    if len(set(patches_mer) - set(patches_gaap)) > 0:\n",
    "        tracts_n708_nogaap.append(tract)\n",
    "        patches_n708_nogaap.append(list(set(patches_mer) - set(patches_gaap)))\n",
    "\n",
    "\n",
    "numpatches_n708_nogaap = sum([len(p) for p in patches_n708_nogaap])\n",
    "print(f\"{numpatches_n708_nogaap} patches in {len(tracts_n708_nogaap)} tracts to be reduced with N708\")"
   ]
  },
  {
   "cell_type": "code",
   "execution_count": 111,
   "metadata": {},
   "outputs": [
    {
     "name": "stderr",
     "output_type": "stream",
     "text": [
      "100%|███████████████████████████████████████████████████████████████████████████████████████████████████| 115/115 [00:10<00:00, 10.49it/s]"
     ]
    },
    {
     "name": "stdout",
     "output_type": "stream",
     "text": [
      "1042 patches in 43 tracts to be reduced with only N540\n"
     ]
    },
    {
     "name": "stderr",
     "output_type": "stream",
     "text": [
      "\n"
     ]
    }
   ],
   "source": [
    "tracts_n540_nogaap = []\n",
    "patches_n540_nogaap = []\n",
    "for i, tract in enumerate(tqdm(n540_non708_tracts)):\n",
    "    patches_mer  = n540_non708_patches[i]\n",
    "    patches_gaap = findGaapReducedPatches(tract, repo=repo)\n",
    "    if len(set(patches_mer) - set(patches_gaap)) > 0:\n",
    "        tracts_n540_nogaap.append(tract)\n",
    "        patches_n540_nogaap.append(list(set(patches_mer) - set(patches_gaap)))\n",
    "\n",
    "numpatches_n540_nogaap = sum([len(p) for p in patches_n540_nogaap])\n",
    "print(f\"{numpatches_n540_nogaap} patches in {len(tracts_n540_nogaap)} tracts to be reduced with only N540\")"
   ]
  },
  {
   "cell_type": "code",
   "execution_count": 112,
   "metadata": {},
   "outputs": [],
   "source": [
    "tracts_notcompiled_N708 = [tract for tract in tracts_n708 if not hasCompiledCatalog(tract)]\n",
    "tracts_notcompiled_N540 = [tract for tract in tracts_n540 if not hasCompiledCatalog(tract)]"
   ]
  },
  {
   "cell_type": "code",
   "execution_count": 113,
   "metadata": {},
   "outputs": [],
   "source": [
    "# saveGaapReducedPatchList(tracts, os.path.join(repo, \"GaapReduced.csv\"))\n",
    "# saveGaapNotReducedPatchList(tracts, os.path.join(repo, \"notGaapReduced.csv\"), notionformat=False)\n",
    "# saveGaapNotReducedPatchList(tracts_n540_nogaap, os.path.join(repo, \"notGaapReduced_N540.csv\"), patches = patches_n540_nogaap,\n",
    "#                             notionformat=True, band=\"N540\")"
   ]
  },
  {
   "cell_type": "code",
   "execution_count": 114,
   "metadata": {},
   "outputs": [
    {
     "name": "stdout",
     "output_type": "stream",
     "text": [
      "It will take ~ 17.4 hours to download HSC images for 1042 patches\n",
      "It will take ~ 0.6 TBs to download HSC images for 1042 patches\n",
      "Once the data has been downloaded, it will take ~ 26.1 hours to run gaap on 1042 patches\n",
      "It will take ~ 0.2 TBs to save the gaap catalogs for 1042 patches\n"
     ]
    }
   ],
   "source": [
    "npatches = numpatches_n540_nogaap# + numpatches_n708_nogaap\n",
    "print(f\"It will take ~ {npatches/60:.1f} hours to download HSC images for {npatches} patches\")\n",
    "print(f\"It will take ~ {npatches*.6/1000:.1f} TBs to download HSC images for {npatches} patches\")\n",
    "print(f\"Once the data has been downloaded, it will take ~ {npatches/20/2:.1f} hours to run gaap on {npatches} patches\")\n",
    "print(f\"It will take ~ {npatches*.212/1000:.1f} TBs to save the gaap catalogs for {npatches} patches\")\n"
   ]
  },
  {
   "attachments": {},
   "cell_type": "markdown",
   "metadata": {},
   "source": [
    "---\n",
    "# Step 2: Download the data\n",
    "\n",
    "We need to download the HSC data for all of the tracts we need to reduce. *Be warned, this takes a while and uses a lot of storage.*\n",
    "\n",
    "It is recommended to run the following in a bash screen because depending on how much data you need to download, it can take many hours.\n",
    "\n",
    "The following will download images for tract 9813 to `/scratch/gpfs/am2907/Merian/gaap/S20A/deepCoadd_calexp/9813` and the blendedness catalogs to `/scratch/gpfs/am2907/Merian/gaap/S20A/gaapTable/9813`:\n",
    "- Unless `--only_merian=False`, this will only download the patches that have been reduced by Merian.\n",
    "- You can download all of the Merian-reduced data in one go if you set `--alltracts=True`. Be careful with this, because it is ****lots**** of data!"
   ]
  },
  {
   "attachments": {},
   "cell_type": "markdown",
   "metadata": {},
   "source": [
    "    screen -L -S downloadtract    \n",
    "    \n",
    "    cd /scratch/gpfs/am2907/Merian/gaap\n",
    "    . lambo/scripts/setup_env_w40.sh\n",
    "    python3 lambo/scripts/hsc_gaap/download_S20A.py --tract=9813 --outdir=\"/scratch/gpfs/am2907/Merian/gaap/\"\n"
   ]
  },
  {
   "attachments": {},
   "cell_type": "markdown",
   "metadata": {},
   "source": [
    "To exit screen do `ctrl a d` and to reattach do `screen -r downloaddata`"
   ]
  },
  {
   "attachments": {},
   "cell_type": "markdown",
   "metadata": {},
   "source": [
    "---\n",
    "# Step 3: Make slurm scripts and submit"
   ]
  },
  {
   "attachments": {},
   "cell_type": "markdown",
   "metadata": {},
   "source": [
    "Write one slurm script for each tract – each of which is a job array with one job for each patch. \n",
    "You can submit the scripts as you write them if you want, but beware that there is an upper limit for the number of jobs you can submit at once to the queue."
   ]
  },
  {
   "cell_type": "code",
   "execution_count": 18,
   "metadata": {},
   "outputs": [
    {
     "data": {
      "text/plain": [
       "[10041]"
      ]
     },
     "execution_count": 18,
     "metadata": {},
     "output_type": "execute_result"
    }
   ],
   "source": [
    "tracts_n708_nogaap[2:3]"
   ]
  },
  {
   "cell_type": "code",
   "execution_count": 19,
   "metadata": {},
   "outputs": [
    {
     "name": "stdout",
     "output_type": "stream",
     "text": [
      "Submitted batch job 9993542\n"
     ]
    }
   ],
   "source": [
    "for tract in tracts_n708_nogaap[2:3]:\n",
    "    deploy_training_job(tract, band = \"N708\", filter_jobs=5,\n",
    "                        python_file='lambo/scripts/hsc_gaap/run_gaap.py',\n",
    "                        name='gaap', email=\"am2907@princeton.edu\", outname = None, \n",
    "                        repo='/scratch/gpfs/am2907/Merian/gaap', scriptdir=\"/scratch/gpfs/am2907/Merian/gaap/\", \n",
    "                        submit=True, fixpatches=False)"
   ]
  },
  {
   "cell_type": "code",
   "execution_count": 49,
   "metadata": {},
   "outputs": [
    {
     "name": "stdout",
     "output_type": "stream",
     "text": [
      "\n",
      "Submitted batch job 9993706\n"
     ]
    }
   ],
   "source": [
    "deploy_training_job(10050, band = \"N708\", filter_jobs=5,\n",
    "                    python_file='lambo/scripts/hsc_gaap/run_gaap.py',\n",
    "                    name='gaap', email=\"am2907@princeton.edu\", outname = None, \n",
    "                    repo='/scratch/gpfs/am2907/Merian/gaap', scriptdir=\"/scratch/gpfs/am2907/Merian/gaap/\", \n",
    "                    submit=True, fixpatches=True)"
   ]
  },
  {
   "cell_type": "code",
   "execution_count": 91,
   "metadata": {},
   "outputs": [
    {
     "name": "stdout",
     "output_type": "stream",
     "text": [
      "Submitted batch job 10003993\n"
     ]
    }
   ],
   "source": [
    "deploy_training_job(9373, band = \"N540\", filter_jobs=5,\n",
    "                        python_file='lambo/scripts/hsc_gaap/run_gaap.py',\n",
    "                        name='gaap', email=\"am2907@princeton.edu\", outname = None, \n",
    "                        repo='/scratch/gpfs/am2907/Merian/gaap', scriptdir=\"/scratch/gpfs/am2907/Merian/gaap/\", \n",
    "                        submit=True, fixpatches=False)"
   ]
  },
  {
   "cell_type": "code",
   "execution_count": 93,
   "metadata": {},
   "outputs": [
    {
     "data": {
      "text/plain": [
       "9461"
      ]
     },
     "execution_count": 93,
     "metadata": {},
     "output_type": "execute_result"
    }
   ],
   "source": [
    "tracts_n540_nogaap[73]"
   ]
  },
  {
   "cell_type": "code",
   "execution_count": 94,
   "metadata": {},
   "outputs": [
    {
     "name": "stdout",
     "output_type": "stream",
     "text": [
      "Submitted batch job 10004004\n",
      "Submitted batch job 10004005\n",
      "Submitted batch job 10004006\n",
      "Submitted batch job 10004007\n",
      "Submitted batch job 10004008\n",
      "Submitted batch job 10004009\n",
      "Submitted batch job 10004010\n",
      "Submitted batch job 10004011\n",
      "Submitted batch job 10004012\n",
      "Submitted batch job 10004013\n",
      "Submitted batch job 10004014\n",
      "Submitted batch job 10004015\n",
      "Submitted batch job 10004016\n",
      "Submitted batch job 10004017\n",
      "Submitted batch job 10004018\n",
      "Submitted batch job 10004019\n",
      "Submitted batch job 10004020\n",
      "Submitted batch job 10004021\n",
      "Submitted batch job 10004022\n",
      "Submitted batch job 10004023\n",
      "Submitted batch job 10004024\n",
      "Submitted batch job 10004025\n",
      "Submitted batch job 10004026\n",
      "Submitted batch job 10004027\n",
      "Submitted batch job 10004028\n",
      "Submitted batch job 10004029\n",
      "Submitted batch job 10004030\n",
      "Submitted batch job 10004031\n",
      "Submitted batch job 10004032\n",
      "Submitted batch job 10004033\n",
      "Submitted batch job 10004034\n",
      "Submitted batch job 10004035\n",
      "Submitted batch job 10004039\n",
      "Submitted batch job 10004040\n",
      "Submitted batch job 10004041\n",
      "Submitted batch job 10004042\n",
      "Submitted batch job 10004043\n",
      "Submitted batch job 10004044\n",
      "Submitted batch job 10004045\n",
      "Submitted batch job 10004046\n",
      "Submitted batch job 10004047\n",
      "Submitted batch job 10004048\n"
     ]
    }
   ],
   "source": [
    "for tract in tracts_n540_nogaap[73:]:\n",
    "    deploy_training_job(tract, band = \"N540\", filter_jobs=5,\n",
    "                        python_file='lambo/scripts/hsc_gaap/run_gaap.py',\n",
    "                        name='gaap', email=\"am2907@princeton.edu\", outname = None, \n",
    "                        repo='/scratch/gpfs/am2907/Merian/gaap', scriptdir=\"/scratch/gpfs/am2907/Merian/gaap/\", \n",
    "                        submit=True, fixpatches=False)"
   ]
  },
  {
   "attachments": {},
   "cell_type": "markdown",
   "metadata": {},
   "source": [
    "The gaap reduction will save one catalog for each patch to (for example):\n",
    "\n",
    "        /scratch/gpfs/am2907/Merian/gaap/S20A/gaapTable/9813/0,0/objectTable_9813_0,0_S20A.fits"
   ]
  },
  {
   "attachments": {},
   "cell_type": "markdown",
   "metadata": {},
   "source": [
    "---\n",
    "# Step 4: Check on it!"
   ]
  },
  {
   "attachments": {},
   "cell_type": "markdown",
   "metadata": {},
   "source": [
    "You can check on the logs while the jobs are running to check for any glaring problems:\n",
    "- `logs/gaapPhot_array_9813_0.o` \n",
    "- `logs/gaap_9813_0.log`"
   ]
  },
  {
   "attachments": {},
   "cell_type": "markdown",
   "metadata": {},
   "source": [
    "One the jobs are done running (for a given tract), you can check how things went. "
   ]
  },
  {
   "cell_type": "code",
   "execution_count": 78,
   "metadata": {},
   "outputs": [
    {
     "name": "stdout",
     "output_type": "stream",
     "text": [
      "[9809, 9810, 9811, 9815, 9816, 9817, 9818, 9819, 9820, 9821, 9828, 9833, 9837, 9838, 9839, 9862, 9863, 9939, 9940, 9941, 9942, 9943, 9944, 9945, 9949, 9950, 9951, 9952, 9953, 10040, 10041, 10042, 10043, 10044, 10045, 10046, 10047, 10048, 10049, 10050, 10051, 10052, 10053, 10057, 10058, 10060, 10061, 10062, 10070, 10078, 10182, 10183, 10184, 10185, 10186, 10283, 10284, 10285, 10286, 10287, 10288, 10289, 10290, 10291, 10292, 10293, 10294, 10295, 10296, 10297, 10298, 10299, 10300, 10301, 10302, 10303, 10304, 10426, 10427, 10428]\n"
     ]
    }
   ],
   "source": [
    "print(tracts_notcompiled_N708[30:])"
   ]
  },
  {
   "cell_type": "code",
   "execution_count": 47,
   "metadata": {},
   "outputs": [
    {
     "name": "stdout",
     "output_type": "stream",
     "text": [
      "TRACT: 9942\n",
      "NO PROBLEMS\n",
      "\n",
      "TRACT: 9943\n",
      "NO PROBLEMS\n",
      "\n",
      "TRACT: 9944\n",
      "NO PROBLEMS\n",
      "\n",
      "TRACT: 9945\n",
      "NO PROBLEMS\n",
      "\n",
      "TRACT: 9949\n",
      "NO PROBLEMS\n",
      "\n",
      "TRACT: 9950\n",
      "NO PROBLEMS\n",
      "\n",
      "TRACT: 9951\n",
      "NO PROBLEMS\n",
      "\n",
      "TRACT: 9952\n",
      "NO PROBLEMS\n",
      "\n",
      "TRACT: 9953\n",
      "NO PROBLEMS\n",
      "\n",
      "TRACT: 10040\n",
      "NO PROBLEMS\n",
      "\n",
      "TRACT: 10041\n",
      "PROBLEM IN PATCH 3: Catalog not saved\n",
      "PROBLEM IN PATCH 3: Failed for 5 bands\n",
      "PROBLEM IN PATCH 6: Catalog not saved\n",
      "PROBLEM IN PATCH 6: Failed for 5 bands\n",
      "PROBLEM IN PATCH 10: Catalog not saved\n",
      "PROBLEM IN PATCH 10: Failed for 5 bands\n",
      "PROBLEM IN PATCH 14: Catalog not saved\n",
      "PROBLEM IN PATCH 14: Failed for 5 bands\n",
      "\n",
      "TRACT: 10042\n",
      "NO PROBLEMS\n",
      "\n",
      "TRACT: 10043\n",
      "NO PROBLEMS\n",
      "\n",
      "TRACT: 10044\n",
      "NO PROBLEMS\n",
      "\n",
      "TRACT: 10045\n",
      "NO PROBLEMS\n",
      "\n",
      "TRACT: 10046\n",
      "NO PROBLEMS\n",
      "\n",
      "TRACT: 10047\n",
      "NO PROBLEMS\n",
      "\n",
      "TRACT: 10048\n",
      "NO PROBLEMS\n",
      "\n",
      "TRACT: 10049\n",
      "NO PROBLEMS\n",
      "\n",
      "TRACT: 10050\n",
      "PROBLEM IN PATCH 39: Catalog not saved\n",
      "PROBLEM IN PATCH 40: Catalog not saved\n",
      "PROBLEM IN PATCH 40: Failed for 5 bands\n",
      "PROBLEM IN PATCH 41: Catalog not saved\n",
      "PROBLEM IN PATCH 41: Failed for 5 bands\n",
      "PROBLEM IN PATCH 45: Catalog not saved\n",
      "PROBLEM IN PATCH 45: Failed for 5 bands\n",
      "PROBLEM IN PATCH 46: Catalog not saved\n",
      "PROBLEM IN PATCH 46: Failed for 5 bands\n",
      "PROBLEM IN PATCH 47: Catalog not saved\n",
      "PROBLEM IN PATCH 47: Failed for 5 bands\n",
      "PROBLEM IN PATCH 48: Catalog not saved\n",
      "PROBLEM IN PATCH 48: Failed for 5 bands\n",
      "PROBLEM IN PATCH 49: Catalog not saved\n",
      "PROBLEM IN PATCH 49: Failed for 5 bands\n",
      "PROBLEM IN PATCH 50: Catalog not saved\n",
      "PROBLEM IN PATCH 50: Failed for 5 bands\n",
      "PROBLEM IN PATCH 54: Catalog not saved\n",
      "PROBLEM IN PATCH 54: Failed for 5 bands\n",
      "PROBLEM IN PATCH 55: Catalog not saved\n",
      "PROBLEM IN PATCH 55: Failed for 5 bands\n",
      "PROBLEM IN PATCH 56: Catalog not saved\n",
      "PROBLEM IN PATCH 56: Failed for 5 bands\n",
      "PROBLEM IN PATCH 57: Catalog not saved\n",
      "PROBLEM IN PATCH 57: Failed for 5 bands\n",
      "PROBLEM IN PATCH 58: Catalog not saved\n",
      "PROBLEM IN PATCH 58: Failed for 5 bands\n",
      "PROBLEM IN PATCH 59: Catalog not saved\n",
      "PROBLEM IN PATCH 59: Failed for 5 bands\n",
      "PROBLEM IN PATCH 63: Catalog not saved\n",
      "PROBLEM IN PATCH 63: Failed for 5 bands\n",
      "PROBLEM IN PATCH 64: Catalog not saved\n",
      "PROBLEM IN PATCH 64: Failed for 5 bands\n",
      "PROBLEM IN PATCH 65: Catalog not saved\n",
      "PROBLEM IN PATCH 65: Failed for 5 bands\n",
      "PROBLEM IN PATCH 66: Catalog not saved\n",
      "PROBLEM IN PATCH 66: Failed for 5 bands\n",
      "PROBLEM IN PATCH 67: Catalog not saved\n",
      "PROBLEM IN PATCH 67: Failed for 5 bands\n",
      "PROBLEM IN PATCH 68: Catalog not saved\n",
      "PROBLEM IN PATCH 68: Failed for 5 bands\n",
      "PROBLEM IN PATCH 72: Catalog not saved\n",
      "PROBLEM IN PATCH 72: Failed for 5 bands\n",
      "PROBLEM IN PATCH 73: Catalog not saved\n",
      "PROBLEM IN PATCH 73: Failed for 5 bands\n",
      "PROBLEM IN PATCH 74: Catalog not saved\n",
      "PROBLEM IN PATCH 74: Failed for 5 bands\n",
      "PROBLEM IN PATCH 75: Catalog not saved\n",
      "PROBLEM IN PATCH 75: Failed for 5 bands\n",
      "PROBLEM IN PATCH 76: Catalog not saved\n",
      "PROBLEM IN PATCH 76: Failed for 5 bands\n",
      "PROBLEM IN PATCH 77: Catalog not saved\n",
      "PROBLEM IN PATCH 77: Failed for 5 bands\n",
      "\n",
      "TRACT: 10051\n",
      "MISSING PATCHES\n",
      "PROBLEM IN PATCH 0: Catalog not saved\n",
      "PROBLEM IN PATCH 0: Failed for 5 bands\n",
      "PROBLEM IN PATCH 1: Catalog not saved\n",
      "PROBLEM IN PATCH 1: Failed for 5 bands\n",
      "PROBLEM IN PATCH 2: Catalog not saved\n",
      "PROBLEM IN PATCH 2: Failed for 5 bands\n",
      "PROBLEM IN PATCH 3: Catalog not saved\n",
      "PROBLEM IN PATCH 3: Failed for 5 bands\n",
      "PROBLEM IN PATCH 4: Catalog not saved\n",
      "PROBLEM IN PATCH 4: Failed for 5 bands\n",
      "\n",
      "TRACT: 10052\n",
      "MISSING PATCHES\n",
      "\n",
      "TRACT: 10053\n",
      "MISSING PATCHES\n",
      "\n",
      "TRACT: 10057\n",
      "MISSING PATCHES\n",
      "\n",
      "TRACT: 10058\n",
      "MISSING PATCHES\n",
      "\n",
      "TRACT: 10060\n",
      "MISSING PATCHES\n",
      "\n",
      "TRACT: 10061\n",
      "MISSING PATCHES\n",
      "\n",
      "TRACT: 10062\n",
      "MISSING PATCHES\n",
      "\n",
      "TRACT: 10070\n",
      "MISSING PATCHES\n",
      "\n",
      "TRACT: 10078\n",
      "MISSING PATCHES\n",
      "\n",
      "TRACT: 10182\n",
      "MISSING PATCHES\n",
      "\n",
      "TRACT: 10183\n",
      "NO PROBLEMS\n",
      "\n",
      "TRACT: 10184\n",
      "NO PROBLEMS\n",
      "\n",
      "TRACT: 10185\n",
      "PROBLEM IN PATCH 18: Missing some filter images\n",
      "PROBLEM IN PATCH 27: Missing some filter images\n",
      "PROBLEM IN PATCH 36: Missing some filter images\n",
      "PROBLEM IN PATCH 45: Missing some filter images\n",
      "PROBLEM IN PATCH 54: Missing some filter images\n",
      "PROBLEM IN PATCH 55: Missing some filter images\n",
      "PROBLEM IN PATCH 56: Missing some filter images\n",
      "PROBLEM IN PATCH 63: Missing some filter images\n",
      "PROBLEM IN PATCH 64: Missing some filter images\n",
      "PROBLEM IN PATCH 65: Missing some filter images\n",
      "PROBLEM IN PATCH 72: Missing some filter images\n",
      "PROBLEM IN PATCH 73: Missing some filter images\n",
      "PROBLEM IN PATCH 74: Missing some filter images\n",
      "\n",
      "TRACT: 10186\n",
      "PROBLEM IN PATCH 15: Missing some filter images\n",
      "PROBLEM IN PATCH 22: Missing some filter images\n",
      "PROBLEM IN PATCH 23: Missing some filter images\n",
      "PROBLEM IN PATCH 24: Missing some filter images\n",
      "PROBLEM IN PATCH 25: Missing some filter images\n",
      "PROBLEM IN PATCH 26: Missing some filter images\n",
      "PROBLEM IN PATCH 33: Missing some filter images\n",
      "PROBLEM IN PATCH 34: Missing some filter images\n",
      "PROBLEM IN PATCH 35: Missing some filter images\n",
      "PROBLEM IN PATCH 44: Missing some filter images\n",
      "PROBLEM IN PATCH 52: Missing some filter images\n",
      "PROBLEM IN PATCH 53: Missing some filter images\n",
      "PROBLEM IN PATCH 61: Missing some filter images\n",
      "PROBLEM IN PATCH 62: Missing some filter images\n",
      "PROBLEM IN PATCH 71: Missing some filter images\n",
      "PROBLEM IN PATCH 80: Missing some filter images\n",
      "\n",
      "TRACT: 10283\n",
      "NO PROBLEMS\n",
      "\n",
      "TRACT: 10284\n",
      "NO PROBLEMS\n",
      "\n",
      "TRACT: 10285\n",
      "NO PROBLEMS\n",
      "\n",
      "TRACT: 10286\n",
      "PROBLEM IN PATCH 36: Missing some filter images\n",
      "PROBLEM IN PATCH 37: Missing some filter images\n",
      "\n",
      "TRACT: 10287\n",
      "PROBLEM IN PATCH 42: Missing some filter images\n",
      "PROBLEM IN PATCH 43: Missing some filter images\n",
      "PROBLEM IN PATCH 44: Missing some filter images\n",
      "\n",
      "TRACT: 10288\n",
      "NO PROBLEMS\n",
      "\n",
      "TRACT: 10289\n",
      "NO PROBLEMS\n",
      "\n",
      "TRACT: 10290\n",
      "NO PROBLEMS\n",
      "\n",
      "TRACT: 10291\n",
      "NO PROBLEMS\n",
      "\n",
      "TRACT: 10292\n",
      "NO PROBLEMS\n",
      "\n",
      "TRACT: 10293\n",
      "NO PROBLEMS\n",
      "\n",
      "TRACT: 10294\n",
      "NO PROBLEMS\n",
      "\n",
      "TRACT: 10295\n",
      "NO PROBLEMS\n",
      "\n",
      "TRACT: 10296\n",
      "NO PROBLEMS\n",
      "\n",
      "TRACT: 10297\n",
      "NO PROBLEMS\n",
      "\n",
      "TRACT: 10298\n",
      "NO PROBLEMS\n",
      "\n",
      "TRACT: 10299\n",
      "NO PROBLEMS\n",
      "\n",
      "TRACT: 10300\n",
      "NO PROBLEMS\n",
      "\n",
      "TRACT: 10301\n",
      "NO PROBLEMS\n",
      "\n",
      "TRACT: 10302\n",
      "NO PROBLEMS\n",
      "\n",
      "TRACT: 10303\n",
      "NO PROBLEMS\n",
      "\n",
      "TRACT: 10304\n",
      "NO PROBLEMS\n",
      "\n",
      "TRACT: 10426\n",
      "NO PROBLEMS\n",
      "\n",
      "TRACT: 10427\n",
      "PROBLEM IN PATCH 0: Missing some filter images\n",
      "PROBLEM IN PATCH 1: Missing some filter images\n",
      "PROBLEM IN PATCH 2: Missing some filter images\n",
      "PROBLEM IN PATCH 9: Missing some filter images\n",
      "PROBLEM IN PATCH 10: Missing some filter images\n",
      "PROBLEM IN PATCH 11: Missing some filter images\n",
      "\n",
      "TRACT: 10428\n",
      "PROBLEM IN PATCH 8: Missing some filter images\n",
      "PROBLEM IN PATCH 17: Missing some filter images\n",
      "\n"
     ]
    }
   ],
   "source": [
    "for tract in tracts_notcompiled_N708[50:]:\n",
    "    problems = checkRun(tract, band=\"N708\")"
   ]
  },
  {
   "cell_type": "code",
   "execution_count": 99,
   "metadata": {},
   "outputs": [
    {
     "name": "stdout",
     "output_type": "stream",
     "text": [
      "TRACT: 9007\n",
      "NO PROBLEMS\n",
      "\n"
     ]
    },
    {
     "data": {
      "text/plain": [
       "array([], dtype=float64)"
      ]
     },
     "execution_count": 99,
     "metadata": {},
     "output_type": "execute_result"
    }
   ],
   "source": [
    "checkRun(9007, band=\"N540\")"
   ]
  },
  {
   "cell_type": "code",
   "execution_count": 100,
   "metadata": {},
   "outputs": [
    {
     "data": {
      "text/plain": [
       "[46, 47]"
      ]
     },
     "execution_count": 100,
     "metadata": {},
     "output_type": "execute_result"
    }
   ],
   "source": [
    "patches_n540_nogaap[24]"
   ]
  },
  {
   "cell_type": "code",
   "execution_count": 98,
   "metadata": {},
   "outputs": [
    {
     "data": {
      "text/plain": [
       "9085"
      ]
     },
     "execution_count": 98,
     "metadata": {},
     "output_type": "execute_result"
    }
   ],
   "source": [
    "tracts_n540_nogaap[24]"
   ]
  },
  {
   "cell_type": "code",
   "execution_count": 95,
   "metadata": {},
   "outputs": [
    {
     "name": "stdout",
     "output_type": "stream",
     "text": [
      "TRACT: 9008\n",
      "NO PROBLEMS\n",
      "\n",
      "TRACT: 9009\n",
      "NO PROBLEMS\n",
      "\n",
      "TRACT: 9010\n",
      "NO PROBLEMS\n",
      "\n",
      "TRACT: 9011\n",
      "NO PROBLEMS\n",
      "\n",
      "TRACT: 9085\n",
      "PROBLEM IN PATCH 50: Catalog not saved\n",
      "PROBLEM IN PATCH 50: Failed for 5 bands\n",
      "PROBLEM IN PATCH 51: Failed for 2 bands\n",
      "PROBLEM IN PATCH 54: Failed for 2 bands\n",
      "PROBLEM IN PATCH 55: Failed for 3 bands\n",
      "PROBLEM IN PATCH 56: Failed for 3 bands\n",
      "PROBLEM IN PATCH 58: Failed for 3 bands\n",
      "PROBLEM IN PATCH 59: Catalog not saved\n",
      "PROBLEM IN PATCH 59: Failed for 5 bands\n",
      "PROBLEM IN PATCH 61: Failed for 3 bands\n",
      "PROBLEM IN PATCH 62: Catalog not saved\n",
      "PROBLEM IN PATCH 62: Failed for 5 bands\n",
      "PROBLEM IN PATCH 65: Failed for 2 bands\n",
      "PROBLEM IN PATCH 66: Failed for 2 bands\n",
      "PROBLEM IN PATCH 67: Failed for 1 bands\n",
      "PROBLEM IN PATCH 68: Failed for 2 bands\n",
      "PROBLEM IN PATCH 75: Failed for 2 bands\n",
      "\n",
      "TRACT: 9097\n",
      "NO PROBLEMS\n",
      "\n",
      "TRACT: 9098\n",
      "NO PROBLEMS\n",
      "\n",
      "TRACT: 9099\n",
      "NO PROBLEMS\n",
      "\n",
      "TRACT: 9102\n",
      "NO PROBLEMS\n",
      "\n",
      "TRACT: 9103\n",
      "NO PROBLEMS\n",
      "\n",
      "TRACT: 9104\n",
      "NO PROBLEMS\n",
      "\n",
      "TRACT: 9105\n",
      "NO PROBLEMS\n",
      "\n",
      "TRACT: 9106\n",
      "NO PROBLEMS\n",
      "\n",
      "TRACT: 9107\n",
      "NO PROBLEMS\n",
      "\n",
      "TRACT: 9108\n",
      "NO PROBLEMS\n",
      "\n",
      "TRACT: 9109\n",
      "NO PROBLEMS\n",
      "\n",
      "TRACT: 9110\n",
      "NO PROBLEMS\n",
      "\n",
      "TRACT: 9111\n",
      "NO PROBLEMS\n",
      "\n",
      "TRACT: 9112\n",
      "NO PROBLEMS\n",
      "\n",
      "TRACT: 9113\n",
      "NO PROBLEMS\n",
      "\n",
      "TRACT: 9125\n",
      "NO PROBLEMS\n",
      "\n",
      "TRACT: 9126\n",
      "NO PROBLEMS\n",
      "\n",
      "TRACT: 9128\n",
      "NO PROBLEMS\n",
      "\n",
      "TRACT: 9129\n",
      "NO PROBLEMS\n",
      "\n",
      "TRACT: 9130\n",
      "PROBLEM IN PATCH 70: Missing some filter images\n",
      "\n",
      "TRACT: 9131\n",
      "NO PROBLEMS\n",
      "\n",
      "TRACT: 9247\n",
      "NO PROBLEMS\n",
      "\n",
      "TRACT: 9248\n",
      "NO PROBLEMS\n",
      "\n",
      "TRACT: 9249\n",
      "NO PROBLEMS\n",
      "\n",
      "TRACT: 9250\n",
      "NO PROBLEMS\n",
      "\n",
      "TRACT: 9251\n",
      "NO PROBLEMS\n",
      "\n",
      "TRACT: 9252\n",
      "NO PROBLEMS\n",
      "\n",
      "TRACT: 9253\n",
      "NO PROBLEMS\n",
      "\n",
      "TRACT: 9340\n",
      "NO PROBLEMS\n",
      "\n",
      "TRACT: 9341\n",
      "NO PROBLEMS\n",
      "\n",
      "TRACT: 9346\n",
      "NO PROBLEMS\n",
      "\n",
      "TRACT: 9347\n",
      "NO PROBLEMS\n",
      "\n",
      "TRACT: 9348\n",
      "NO PROBLEMS\n",
      "\n",
      "TRACT: 9349\n",
      "NO PROBLEMS\n",
      "\n",
      "TRACT: 9350\n",
      "NO PROBLEMS\n",
      "\n",
      "TRACT: 9351\n",
      "NO PROBLEMS\n",
      "\n",
      "TRACT: 9352\n",
      "NO PROBLEMS\n",
      "\n",
      "TRACT: 9353\n",
      "NO PROBLEMS\n",
      "\n",
      "TRACT: 9354\n",
      "NO PROBLEMS\n",
      "\n",
      "TRACT: 9355\n",
      "NO PROBLEMS\n",
      "\n",
      "TRACT: 9356\n",
      "NO PROBLEMS\n",
      "\n",
      "TRACT: 9367\n",
      "NO PROBLEMS\n",
      "\n",
      "TRACT: 9368\n",
      "NO PROBLEMS\n",
      "\n",
      "TRACT: 9369\n",
      "NO PROBLEMS\n",
      "\n",
      "TRACT: 9371\n",
      "NO PROBLEMS\n",
      "\n",
      "TRACT: 9372\n",
      "NO PROBLEMS\n",
      "\n",
      "TRACT: 9373\n",
      "MISSING PATCHES\n",
      "PROBLEM IN PATCH 1: Catalog not saved\n",
      "PROBLEM IN PATCH 1: Failed for 5 bands\n",
      "PROBLEM IN PATCH 2: Catalog not saved\n",
      "PROBLEM IN PATCH 2: Failed for 5 bands\n",
      "PROBLEM IN PATCH 3: Catalog not saved\n",
      "PROBLEM IN PATCH 3: Failed for 5 bands\n",
      "PROBLEM IN PATCH 4: Catalog not saved\n",
      "PROBLEM IN PATCH 4: Failed for 5 bands\n",
      "PROBLEM IN PATCH 5: Catalog not saved\n",
      "PROBLEM IN PATCH 5: Failed for 5 bands\n",
      "PROBLEM IN PATCH 6: Catalog not saved\n",
      "PROBLEM IN PATCH 6: Failed for 5 bands\n",
      "PROBLEM IN PATCH 7: Catalog not saved\n",
      "PROBLEM IN PATCH 7: Failed for 5 bands\n",
      "PROBLEM IN PATCH 8: Catalog not saved\n",
      "PROBLEM IN PATCH 8: Failed for 5 bands\n",
      "PROBLEM IN PATCH 11: Catalog not saved\n",
      "PROBLEM IN PATCH 11: Failed for 5 bands\n",
      "PROBLEM IN PATCH 12: Catalog not saved\n",
      "PROBLEM IN PATCH 12: Failed for 5 bands\n",
      "PROBLEM IN PATCH 13: Catalog not saved\n",
      "PROBLEM IN PATCH 13: Failed for 5 bands\n",
      "PROBLEM IN PATCH 14: Catalog not saved\n",
      "PROBLEM IN PATCH 14: Failed for 5 bands\n",
      "PROBLEM IN PATCH 15: Catalog not saved\n",
      "PROBLEM IN PATCH 15: Failed for 5 bands\n",
      "\n",
      "TRACT: 9374\n",
      "NO PROBLEMS\n",
      "\n",
      "TRACT: 9461\n",
      "MISSING PATCHES\n",
      "\n",
      "TRACT: 9462\n",
      "MISSING PATCHES\n",
      "\n",
      "TRACT: 9463\n",
      "MISSING PATCHES\n",
      "\n",
      "TRACT: 9464\n",
      "MISSING PATCHES\n",
      "\n",
      "TRACT: 9465\n",
      "MISSING PATCHES\n",
      "\n",
      "TRACT: 9492\n",
      "MISSING PATCHES\n",
      "\n",
      "TRACT: 9493\n",
      "MISSING PATCHES\n",
      "\n",
      "TRACT: 9494\n",
      "MISSING PATCHES\n",
      "\n",
      "TRACT: 9495\n",
      "MISSING PATCHES\n",
      "\n",
      "TRACT: 9496\n",
      "MISSING PATCHES\n",
      "\n",
      "TRACT: 9583\n",
      "MISSING PATCHES\n",
      "\n",
      "TRACT: 9585\n",
      "MISSING PATCHES\n",
      "\n",
      "TRACT: 9586\n",
      "MISSING PATCHES\n",
      "\n",
      "TRACT: 9596\n",
      "MISSING PATCHES\n",
      "\n",
      "TRACT: 9597\n",
      "MISSING PATCHES\n",
      "\n",
      "TRACT: 9611\n",
      "MISSING PATCHES\n",
      "\n",
      "TRACT: 9614\n",
      "MISSING PATCHES\n",
      "\n",
      "TRACT: 9615\n",
      "MISSING PATCHES\n",
      "\n",
      "TRACT: 9616\n",
      "MISSING PATCHES\n",
      "\n",
      "TRACT: 9617\n",
      "MISSING PATCHES\n",
      "\n",
      "TRACT: 9703\n",
      "MISSING PATCHES\n",
      "\n",
      "TRACT: 9704\n",
      "MISSING PATCHES\n",
      "\n",
      "TRACT: 9705\n",
      "MISSING PATCHES\n",
      "\n",
      "TRACT: 9706\n",
      "MISSING PATCHES\n",
      "\n",
      "TRACT: 9707\n",
      "MISSING PATCHES\n",
      "\n",
      "TRACT: 9708\n",
      "MISSING PATCHES\n",
      "\n",
      "TRACT: 9736\n",
      "MISSING PATCHES\n",
      "\n",
      "TRACT: 9737\n",
      "MISSING PATCHES\n",
      "\n",
      "TRACT: 9738\n",
      "MISSING PATCHES\n",
      "\n",
      "TRACT: 9739\n",
      "MISSING PATCHES\n",
      "\n",
      "TRACT: 9827\n",
      "MISSING PATCHES\n",
      "\n",
      "TRACT: 9828\n",
      "MISSING PATCHES\n",
      "\n",
      "TRACT: 9945\n",
      "MISSING PATCHES\n",
      "\n",
      "TRACT: 9946\n",
      "MISSING PATCHES\n",
      "\n",
      "TRACT: 9947\n",
      "MISSING PATCHES\n",
      "\n",
      "TRACT: 9948\n",
      "MISSING PATCHES\n",
      "\n",
      "TRACT: 9949\n",
      "MISSING PATCHES\n",
      "\n",
      "TRACT: 10049\n",
      "MISSING PATCHES\n",
      "\n",
      "TRACT: 10050\n",
      "MISSING PATCHES\n",
      "\n",
      "TRACT: 10291\n",
      "MISSING PATCHES\n",
      "\n",
      "TRACT: 10292\n",
      "MISSING PATCHES\n",
      "\n",
      "TRACT: 10293\n",
      "MISSING PATCHES\n",
      "\n"
     ]
    }
   ],
   "source": [
    "for tract in tracts_n540_nogaap[20:]:\n",
    "    checkRun(tract, band=\"N540\")"
   ]
  },
  {
   "attachments": {},
   "cell_type": "markdown",
   "metadata": {},
   "source": [
    "You might get issues like \"Failed for 3 bands\" - this could be because HSC images don't exist for all bands. So it might not be an issue you can fix!"
   ]
  },
  {
   "attachments": {},
   "cell_type": "markdown",
   "metadata": {},
   "source": [
    "---\n",
    "# Step 4: Merge catalogs"
   ]
  },
  {
   "attachments": {},
   "cell_type": "markdown",
   "metadata": {},
   "source": [
    "If everything is looking good, you can merge the patch catalogs into a tract-level catalog. \n",
    "\n",
    "It's recommended to run this step in a screen in terminal, because it takes some time!\n",
    "\n",
    "But here is an example:"
   ]
  },
  {
   "cell_type": "code",
   "execution_count": 35,
   "metadata": {},
   "outputs": [
    {
     "name": "stdout",
     "output_type": "stream",
     "text": [
      "CATALOG FOR TRACT 9839 ALREADY WRITTEN - REWRITTING\n",
      "COMPILING CATALOG FOR TRACT 9839 WITH 5 PATCHES\n",
      "COMPILED TABLE OF 95878 ROWS and 72 COLUMNS\n",
      "WROTE TABLE TO /scratch/gpfs/am2907/Merian/gaap/S20A/gaapTable/9839/objectTable_9839_S20A.fits\n"
     ]
    }
   ],
   "source": [
    "compileCatalogs([9839], repo, alltracts=False, rewrite=True)"
   ]
  },
  {
   "cell_type": "code",
   "execution_count": 59,
   "metadata": {},
   "outputs": [
    {
     "data": {
      "text/plain": [
       "'9226,9227,10283,10284,10285,10286,10287,10288,10289,10290,10291,10292,10293,10294,10295,10296,10297,10298,10299,10300,10301,10302,10303,10304,8280,8281,8282,8283,8284,8285,8286,9313,9314,9315,9316,9317,9318,9319,9320,9321,9322,9323,9324,9325,9326,9327,9328,9329,9330,9331,9332,9333,9334,9335,9336,9339,9340,9341,9342,9343,9344,9345,9346,9347,9373,9374,9375,9376,9377,9378,9379,10426,10427,10428,9455,9456,9457,9458,9459,9465,9466,9467,9468,9469,9470,9471,8521,8522,8523,8524,8525,8526,8527,9556,9557,9558,9559,9560,9561,9562,9563,9564,9565,9566,9567,9568,9569,9570,9571,9572,9573,9574,9575,9576,9577,9578,9579,9580,9582,9583,9584,9585,9586,9587,9588,9589,9590,9591,9592,9593,9594,9595,9596,9617,9618,9619,9620,9621,9697,9698,9699,9700,9701,9702,9703,9707,9708,9709,9710,9711,9712,9713,9714,8764,8765,8766,8767,8768,9798,9799,9800,9801,9802,9803,9804,9805,9806,9807,9808,9809,9810,9811,9812,9813,9814,9815,9816,9817,9818,9819,9820,9821,9828,9829,9830,9831,9832,9833,9834,9835,9836,9837,9838,9839,9862,9863,9939,9940,9941,9942,9943,9944,9945,9949,9950,9951,9952,9953,9010,9011,10040,10042,10043,10044,10045,10046,10047,10048,10049,10054,10056,10059,10071,10072,10073,10074,10075,10076,10077,9071,9072,9073,9074,9075,9076,9077,9078,9079,9080,9081,9082,9083,9084,9086,9087,9088,9089,9090,9091,9092,9096,9097,9098,9099,9100,9101,9102,9103,9104,9131,9132,9133,9134,9135,9136,10183,10184,10185,10186'"
      ]
     },
     "execution_count": 59,
     "metadata": {},
     "output_type": "execute_result"
    }
   ],
   "source": [
    "\",\".join(np.array(list(set(tracts_n708) - set(tracts_n708_nogaap)), dtype=str))"
   ]
  },
  {
   "cell_type": "code",
   "execution_count": 36,
   "metadata": {},
   "outputs": [],
   "source": [
    "from astropy.table import Table"
   ]
  },
  {
   "cell_type": "code",
   "execution_count": 39,
   "metadata": {},
   "outputs": [],
   "source": [
    "Table.read('/scratch/gpfs/am2907/Merian/gaap/S20A/gaapTable/9839/objectTable_9839_S20A.fits')"
   ]
  },
  {
   "attachments": {},
   "cell_type": "markdown",
   "metadata": {},
   "source": [
    "        python3 lambo/scripts/hsc_gaap/compile_catalogs.py --tracts=\"[9327,9328,9329,9813,9812]\"\n",
    "\n",
    "This will save a catalog to (for example):\n",
    "        \n",
    "        /scratch/gpfs/am2907/Merian/gaap/S20A/gaapTable/9813/objectTable_9813_S20A.fits"
   ]
  },
  {
   "attachments": {},
   "cell_type": "markdown",
   "metadata": {},
   "source": [
    "If you want to change the columns that are used for the compiled catalog, edit these files:\n",
    "\n",
    "        lambo/scripts/hsc_gaap/keep_table_columns_gaap.txt\n",
    "        lambo/scripts/hsc_gaap/keep_table_columns_merian.txt"
   ]
  },
  {
   "attachments": {},
   "cell_type": "markdown",
   "metadata": {},
   "source": [
    "And you're all done!"
   ]
  }
 ],
 "metadata": {
  "kernelspec": {
   "display_name": "Python 3 (ipykernel)",
   "language": "python",
   "name": "python3"
  },
  "language_info": {
   "codemirror_mode": {
    "name": "ipython",
    "version": 3
   },
   "file_extension": ".py",
   "mimetype": "text/x-python",
   "name": "python",
   "nbconvert_exporter": "python",
   "pygments_lexer": "ipython3",
   "version": "3.10.9"
  },
  "orig_nbformat": 4
 },
 "nbformat": 4,
 "nbformat_minor": 2
}
