{
 "cells": [
  {
   "cell_type": "code",
   "execution_count": 1,
   "id": "a13ed325",
   "metadata": {},
   "outputs": [],
   "source": [
    "%load_ext autoreload\n",
    "%autoreload 2\n",
    "\n",
    "import numpy as np\n",
    "import time\n",
    "import matplotlib.pyplot as plt\n",
    "import lsst.meas.base\n",
    "import lsst.pex.config\n",
    "\n",
    "import lsst.afw.table\n",
    "import lsst.meas.algorithms\n",
    "import lsst.pex.exceptions\n",
    "import lsst.meas.extensions.gaap"
   ]
  },
  {
   "cell_type": "code",
   "execution_count": 2,
   "id": "fb519b8b",
   "metadata": {},
   "outputs": [],
   "source": [
    "from astropy.io import fits\n",
    "from astropy.table import Table, hstack\n",
    "import sys\n",
    "sys.path.append('/home/jiaxuanl/Research/Merian/merian_tractor/scripts/')"
   ]
  },
  {
   "cell_type": "markdown",
   "id": "246b3491",
   "metadata": {},
   "source": [
    "get existing patches"
   ]
  },
  {
   "cell_type": "code",
   "execution_count": 3,
   "id": "48fc871c",
   "metadata": {},
   "outputs": [],
   "source": [
    "import os\n",
    "old_patches = [name for name in os.listdir(\n",
    "    \"/projects/MERIAN/repo/S20A/deepCoadd_calexp/9813/\")]\n",
    "new_patches = [int(name[0]) + int(name[2]) * 9 for name in old_patches]\n",
    "merian_patches = [int(name) for name in os.listdir(\n",
    "    \"/projects/MERIAN/repo/DECam/runs/merian/dr1_wide/20220921T193246Z/deepCoadd_forced_src/9813\")]\n",
    "common_patches = np.intersect1d(new_patches, merian_patches)"
   ]
  },
  {
   "cell_type": "markdown",
   "id": "e34e565a",
   "metadata": {},
   "source": [
    "rsync -azv --progress jiaxuanl@tiger.princeton.edu://projects/MERIAN/repo/S20A/gaapTable/9813/6,2/gaapTable_I_9813_6,2.fits ./"
   ]
  },
  {
   "cell_type": "code",
   "execution_count": 4,
   "id": "c4be03aa",
   "metadata": {},
   "outputs": [
    {
     "data": {
      "text/plain": [
       "array([23, 24, 25])"
      ]
     },
     "execution_count": 4,
     "metadata": {},
     "output_type": "execute_result"
    }
   ],
   "source": [
    "common_patches[20:23]"
   ]
  },
  {
   "cell_type": "raw",
   "id": "6532cda8",
   "metadata": {},
   "source": [
    "from hsc_gaap.gaap import GaapTask\n",
    "gaap = GaapTask(9813, 23, 'i', \n",
    "                hsc_type='w_2022_04',\n",
    "                repo='/projects/MERIAN/repo/HSC/runs/RC2/w_2022_04/DM-33402/', \n",
    "                collections='HSC/runs/RC2/w_2022_40/DM-36151')\n",
    "\n",
    "gaap.load_merian_reference(band='N708', \n",
    "                           repo='/projects/MERIAN/repo/', \n",
    "                           collections='DECam/runs/merian/dr1_wide',\n",
    "                           range=(0, 15)\n",
    "                          )\n",
    "gaap.setDefaultMeasureConfig()\n",
    "gaap.run()\n",
    "outcat = gaap.writeObjectTable(save=False)"
   ]
  },
  {
   "cell_type": "raw",
   "id": "7114d3a4",
   "metadata": {},
   "source": [
    "from hsc_gaap.gaap import joinCatPatches, joinMerianCatPatches\n",
    "HscCat = joinCatPatches([23], filters='gri',)\n",
    "MerianCat = joinMerianCatPatches([23])"
   ]
  },
  {
   "cell_type": "code",
   "execution_count": 5,
   "id": "5032f9c1",
   "metadata": {},
   "outputs": [
    {
     "name": "stdout",
     "output_type": "stream",
     "text": [
      "Loaded HSC S20A deepCoadd_calexp image\n",
      "Loaded Merian reference catalog and image\n"
     ]
    },
    {
     "name": "stderr",
     "output_type": "stream",
     "text": [
      "/projects/HSC/LSST/stack_20220527/conda/envs/lsst-scipipe-4.1.0/share/eups/Linux64/scarlet/g9f0f391e47+4083830bf8/lib/python/scarlet/lite/measure.py:85: RuntimeWarning: divide by zero encountered in true_divide\n",
      "  ratio = numerator / denominator\n",
      "/projects/HSC/LSST/stack_20220527/conda/envs/lsst-scipipe-4.1.0/share/eups/Linux64/scarlet/g9f0f391e47+4083830bf8/lib/python/scarlet/lite/measure.py:85: RuntimeWarning: invalid value encountered in true_divide\n",
      "  ratio = numerator / denominator\n"
     ]
    },
    {
     "name": "stdout",
     "output_type": "stream",
     "text": [
      "# Starting the GAaP measureTask at  Tue Dec  6 23:23:46 2022\n"
     ]
    },
    {
     "name": "stderr",
     "output_type": "stream",
     "text": [
      "Cannot aperture correct ext_gaap_GaapFlux_1_15x_0_5 because could not find ext_gaap_GaapFlux_1_15x_0_5_instFlux or ext_gaap_GaapFlux_1_15x_0_5_instFluxErr in apCorrMap\n",
      "Cannot aperture correct ext_gaap_GaapFlux_1_15x_1_0 because could not find ext_gaap_GaapFlux_1_15x_1_0_instFlux or ext_gaap_GaapFlux_1_15x_1_0_instFluxErr in apCorrMap\n",
      "Cannot aperture correct ext_gaap_GaapFlux_1_15x_1_5 because could not find ext_gaap_GaapFlux_1_15x_1_5_instFlux or ext_gaap_GaapFlux_1_15x_1_5_instFluxErr in apCorrMap\n",
      "Cannot aperture correct ext_gaap_GaapFlux_1_15x_Optimal because could not find ext_gaap_GaapFlux_1_15x_Optimal_instFlux or ext_gaap_GaapFlux_1_15x_Optimal_instFluxErr in apCorrMap\n",
      "Cannot aperture correct ext_gaap_GaapFlux_1_15x_PsfFlux because could not find ext_gaap_GaapFlux_1_15x_PsfFlux_instFlux or ext_gaap_GaapFlux_1_15x_PsfFlux_instFluxErr in apCorrMap\n"
     ]
    },
    {
     "name": "stdout",
     "output_type": "stream",
     "text": [
      "# Finished the GAaP measureTask in 24.30 seconds.\n"
     ]
    },
    {
     "name": "stderr",
     "output_type": "stream",
     "text": [
      "WARNING: The unit 'nmgy' could not be saved in native FITS format and hence will be lost to non-astropy fits readers. Within astropy, the unit can roundtrip using QTable, though one has to enable the unit before reading. [astropy.io.fits.convenience]\n",
      "WARNING: The unit 'nmgy' could not be saved in native FITS format and cannot be recovered in reading. It can roundtrip within astropy by using QTable both to write and read back, though one has to enable the unit before reading. [astropy.io.fits.convenience]\n",
      "WARNING: VerifyWarning: Keyword name 'BASE_CIRCULARAPERTUREFLUX_RADII' is greater than 8 characters or contains characters not allowed by the FITS standard; a HIERARCH card will be created. [astropy.io.fits.card]\n",
      "WARNING: VerifyWarning: Keyword name 'NOISE_SEED_MULTIPLIER' is greater than 8 characters or contains characters not allowed by the FITS standard; a HIERARCH card will be created. [astropy.io.fits.card]\n",
      "WARNING: VerifyWarning: Keyword name 'NOISE_SOURCE' is greater than 8 characters or contains characters not allowed by the FITS standard; a HIERARCH card will be created. [astropy.io.fits.card]\n",
      "WARNING: VerifyWarning: Keyword name 'NOISE_OFFSET' is greater than 8 characters or contains characters not allowed by the FITS standard; a HIERARCH card will be created. [astropy.io.fits.card]\n",
      "WARNING: VerifyWarning: Keyword name 'NOISE_EXPOSURE_ID' is greater than 8 characters or contains characters not allowed by the FITS standard; a HIERARCH card will be created. [astropy.io.fits.card]\n"
     ]
    },
    {
     "name": "stdout",
     "output_type": "stream",
     "text": [
      "Wrote GAaP table to /projects/MERIAN/repo/S20A/gaapTable/9813/5,2/gaapTable_I_9813_5,2_S20A.fits\n"
     ]
    }
   ],
   "source": [
    "from hsc_gaap.gaap import GaapTask, joinMerianCatPatches\n",
    "gaap = GaapTask(9813, 23, 'i', \n",
    "                hsc_type='S20A',\n",
    "                repo='/projects/MERIAN/repo/', \n",
    "                collections='S20A/deepCoadd_calexp', log_level='WARNING')\n",
    "# gaap = GaapTask(9813, 23, 'i', \n",
    "#                 hsc_type='w_2022_40',\n",
    "#                 repo='/projects/HSC/repo/main', \n",
    "#                 collections='HSC/runs/RC2/w_2022_40/DM-36151')\n",
    "# gaap._checkHSCfile()\n",
    "gaap.load_merian_reference(band='N708', \n",
    "                           repo='/projects/MERIAN/repo/', \n",
    "                           collections='DECam/runs/merian/dr1_wide',\n",
    "                           range=(0, 100)\n",
    "                          ) \n",
    "gaap.setDefaultMeasureConfig()\n",
    "gaap.run()\n",
    "cat2 = gaap.writeObjectTable(save=True)\n",
    "cat_ref = joinMerianCatPatches([23])\n",
    "cat_ref = cat_ref[np.in1d(cat_ref['objectId'], cat2['id'])]\n",
    "cat2.remove_columns(['id', 'coord_ra', 'coord_dec'])\n",
    "cat = hstack([cat_ref, cat2])\n",
    "# cat.write('/projects/MERIAN/repo/S20A/gaapTable/9813/5,2/gaapTable_all_9813_5,2_w_2022_40.fits')"
   ]
  },
  {
   "cell_type": "code",
   "execution_count": null,
   "id": "c2863026",
   "metadata": {},
   "outputs": [],
   "source": []
  },
  {
   "cell_type": "code",
   "execution_count": null,
   "id": "017fc3f5",
   "metadata": {},
   "outputs": [],
   "source": []
  },
  {
   "cell_type": "code",
   "execution_count": 53,
   "id": "46551821",
   "metadata": {},
   "outputs": [],
   "source": [
    "cat_ref = joinMerianCatPatches([23])"
   ]
  },
  {
   "cell_type": "code",
   "execution_count": null,
   "id": "4ce71917",
   "metadata": {},
   "outputs": [],
   "source": [
    "cat_ref.write()"
   ]
  },
  {
   "cell_type": "code",
   "execution_count": null,
   "id": "98750a62",
   "metadata": {},
   "outputs": [],
   "source": [
    "cat_ref.write(\n",
    "        f'/projects/MERIAN/repo/S20A/gaapTable/9813/5,2/MerianTable_{gaap.band.upper()}_{gaap.tract}_{gaap.patch_old}.fits')"
   ]
  },
  {
   "cell_type": "code",
   "execution_count": null,
   "id": "b733aa5b",
   "metadata": {},
   "outputs": [],
   "source": []
  },
  {
   "cell_type": "markdown",
   "id": "aaae1b9b",
   "metadata": {},
   "source": [
    "https://pipelines.lsst.io/modules/lsst.pipe.tasks/tasks/lsst.pipe.tasks.multiBand.MeasureMergedCoaddSourcesTask.html"
   ]
  },
  {
   "cell_type": "code",
   "execution_count": 46,
   "id": "3917e104",
   "metadata": {},
   "outputs": [
    {
     "name": "stdout",
     "output_type": "stream",
     "text": [
      "Loaded HSC S20A deepCoadd_calexp image\n",
      "Loaded Merian reference catalog and image\n",
      "# Starting the GAaP measureTask at  Tue Dec  6 15:16:36 2022\n"
     ]
    },
    {
     "ename": "KeyboardInterrupt",
     "evalue": "",
     "output_type": "error",
     "traceback": [
      "\u001b[0;31m---------------------------------------------------------------------------\u001b[0m",
      "\u001b[0;31mKeyboardInterrupt\u001b[0m                         Traceback (most recent call last)",
      "Input \u001b[0;32mIn [46]\u001b[0m, in \u001b[0;36m<cell line: 15>\u001b[0;34m()\u001b[0m\n\u001b[1;32m     12\u001b[0m \u001b[38;5;66;03m# gaap.refCat = gaap.refCat[:15000] # [4692:27041:(27040-4692)]\u001b[39;00m\n\u001b[1;32m     13\u001b[0m \u001b[38;5;66;03m# gaap.refCatInBand = gaap.refCatInBand[:15000] # [4692:27041:(27040-4692)]\u001b[39;00m\n\u001b[1;32m     14\u001b[0m gaap\u001b[38;5;241m.\u001b[39msetDefaultMeasureConfig()\n\u001b[0;32m---> 15\u001b[0m \u001b[43mgaap\u001b[49m\u001b[38;5;241;43m.\u001b[39;49m\u001b[43mrun\u001b[49m\u001b[43m(\u001b[49m\u001b[43m)\u001b[49m\n\u001b[1;32m     16\u001b[0m cat2 \u001b[38;5;241m=\u001b[39m gaap\u001b[38;5;241m.\u001b[39mwriteObjectTable(save\u001b[38;5;241m=\u001b[39m\u001b[38;5;28;01mTrue\u001b[39;00m)\n",
      "File \u001b[0;32m~/Research/Merian/merian_tractor/scripts/hsc_gaap/gaap.py:147\u001b[0m, in \u001b[0;36mGaapTask.run\u001b[0;34m(self)\u001b[0m\n\u001b[1;32m    145\u001b[0m \u001b[38;5;28mprint\u001b[39m(\u001b[38;5;124m\"\u001b[39m\u001b[38;5;124m# Starting the GAaP measureTask at \u001b[39m\u001b[38;5;124m\"\u001b[39m, time\u001b[38;5;241m.\u001b[39mctime())\n\u001b[1;32m    146\u001b[0m t1 \u001b[38;5;241m=\u001b[39m time\u001b[38;5;241m.\u001b[39mtime()\n\u001b[0;32m--> 147\u001b[0m \u001b[43mmeasureTask\u001b[49m\u001b[38;5;241;43m.\u001b[39;49m\u001b[43mrun\u001b[49m\u001b[43m(\u001b[49m\u001b[43mmeasCat\u001b[49m\u001b[43m,\u001b[49m\n\u001b[1;32m    148\u001b[0m \u001b[43m                \u001b[49m\u001b[38;5;28;43mself\u001b[39;49m\u001b[38;5;241;43m.\u001b[39;49m\u001b[43mexposure\u001b[49m\u001b[43m,\u001b[49m\n\u001b[1;32m    149\u001b[0m \u001b[43m                \u001b[49m\u001b[43mrefCat\u001b[49m\u001b[38;5;241;43m=\u001b[39;49m\u001b[38;5;28;43mself\u001b[39;49m\u001b[38;5;241;43m.\u001b[39;49m\u001b[43mrefCat\u001b[49m\u001b[43m,\u001b[49m\n\u001b[1;32m    150\u001b[0m \u001b[43m                \u001b[49m\u001b[43mrefWcs\u001b[49m\u001b[38;5;241;43m=\u001b[39;49m\u001b[38;5;28;43mself\u001b[39;49m\u001b[38;5;241;43m.\u001b[39;49m\u001b[43mrefExposure\u001b[49m\u001b[38;5;241;43m.\u001b[39;49m\u001b[43mwcs\u001b[49m\u001b[43m,\u001b[49m\n\u001b[1;32m    151\u001b[0m \u001b[43m                \u001b[49m\u001b[43mexposureId\u001b[49m\u001b[38;5;241;43m=\u001b[39;49m\u001b[43mexposureID\u001b[49m\u001b[43m)\u001b[49m\n\u001b[1;32m    152\u001b[0m t2 \u001b[38;5;241m=\u001b[39m time\u001b[38;5;241m.\u001b[39mtime()\n\u001b[1;32m    153\u001b[0m \u001b[38;5;28mprint\u001b[39m(\u001b[38;5;124m\"\u001b[39m\u001b[38;5;124m# Finished the GAaP measureTask in \u001b[39m\u001b[38;5;132;01m%.2f\u001b[39;00m\u001b[38;5;124m seconds.\u001b[39m\u001b[38;5;124m\"\u001b[39m \u001b[38;5;241m%\u001b[39m (t2 \u001b[38;5;241m-\u001b[39m t1))\n",
      "File \u001b[0;32m~/Research/Packages/meas_base/python/lsst/meas/base/forcedPhotCoadd.py:330\u001b[0m, in \u001b[0;36mForcedPhotCoaddTask.run\u001b[0;34m(self, measCat, exposure, refCat, refWcs, exposureId)\u001b[0m\n\u001b[1;32m    303\u001b[0m \u001b[38;5;28;01mdef\u001b[39;00m \u001b[38;5;21mrun\u001b[39m(\u001b[38;5;28mself\u001b[39m, measCat, exposure, refCat, refWcs, exposureId\u001b[38;5;241m=\u001b[39m\u001b[38;5;28;01mNone\u001b[39;00m):\n\u001b[1;32m    304\u001b[0m     \u001b[38;5;124;03m\"\"\"Perform forced measurement on a single exposure.\u001b[39;00m\n\u001b[1;32m    305\u001b[0m \n\u001b[1;32m    306\u001b[0m \u001b[38;5;124;03m    Parameters\u001b[39;00m\n\u001b[0;32m   (...)\u001b[0m\n\u001b[1;32m    328\u001b[0m \u001b[38;5;124;03m            (`lsst.afw.table.SourceCatalog`).\u001b[39;00m\n\u001b[1;32m    329\u001b[0m \u001b[38;5;124;03m    \"\"\"\u001b[39;00m\n\u001b[0;32m--> 330\u001b[0m     \u001b[38;5;28;43mself\u001b[39;49m\u001b[38;5;241;43m.\u001b[39;49m\u001b[43mmeasurement\u001b[49m\u001b[38;5;241;43m.\u001b[39;49m\u001b[43mrun\u001b[49m\u001b[43m(\u001b[49m\u001b[43mmeasCat\u001b[49m\u001b[43m,\u001b[49m\u001b[43m \u001b[49m\u001b[43mexposure\u001b[49m\u001b[43m,\u001b[49m\u001b[43m \u001b[49m\u001b[43mrefCat\u001b[49m\u001b[43m,\u001b[49m\u001b[43m \u001b[49m\u001b[43mrefWcs\u001b[49m\u001b[43m,\u001b[49m\u001b[43m \u001b[49m\u001b[43mexposureId\u001b[49m\u001b[38;5;241;43m=\u001b[39;49m\u001b[43mexposureId\u001b[49m\u001b[43m)\u001b[49m\n\u001b[1;32m    331\u001b[0m     \u001b[38;5;28;01mif\u001b[39;00m \u001b[38;5;28mself\u001b[39m\u001b[38;5;241m.\u001b[39mconfig\u001b[38;5;241m.\u001b[39mdoApCorr:\n\u001b[1;32m    332\u001b[0m         \u001b[38;5;28mself\u001b[39m\u001b[38;5;241m.\u001b[39mapplyApCorr\u001b[38;5;241m.\u001b[39mrun(\n\u001b[1;32m    333\u001b[0m             catalog\u001b[38;5;241m=\u001b[39mmeasCat,\n\u001b[1;32m    334\u001b[0m             apCorrMap\u001b[38;5;241m=\u001b[39mexposure\u001b[38;5;241m.\u001b[39mgetInfo()\u001b[38;5;241m.\u001b[39mgetApCorrMap()\n\u001b[1;32m    335\u001b[0m         )\n",
      "File \u001b[0;32m~/Research/Packages/meas_base/python/lsst/meas/base/forcedMeasurement.py:367\u001b[0m, in \u001b[0;36mForcedMeasurementTask.run\u001b[0;34m(self, measCat, exposure, refCat, refWcs, exposureId, beginOrder, endOrder)\u001b[0m\n\u001b[1;32m    365\u001b[0m \u001b[38;5;28;01mfor\u001b[39;00m refChildRecord, measChildRecord \u001b[38;5;129;01min\u001b[39;00m \u001b[38;5;28mzip\u001b[39m(refChildCat, measChildCat):\n\u001b[1;32m    366\u001b[0m     noiseReplacer\u001b[38;5;241m.\u001b[39minsertSource(refChildRecord\u001b[38;5;241m.\u001b[39mgetId())\n\u001b[0;32m--> 367\u001b[0m     \u001b[38;5;28;43mself\u001b[39;49m\u001b[38;5;241;43m.\u001b[39;49m\u001b[43mcallMeasure\u001b[49m\u001b[43m(\u001b[49m\u001b[43mmeasChildRecord\u001b[49m\u001b[43m,\u001b[49m\u001b[43m \u001b[49m\u001b[43mexposure\u001b[49m\u001b[43m,\u001b[49m\u001b[43m \u001b[49m\u001b[43mrefChildRecord\u001b[49m\u001b[43m,\u001b[49m\u001b[43m \u001b[49m\u001b[43mrefWcs\u001b[49m\u001b[43m,\u001b[49m\n\u001b[1;32m    368\u001b[0m \u001b[43m                     \u001b[49m\u001b[43mbeginOrder\u001b[49m\u001b[38;5;241;43m=\u001b[39;49m\u001b[43mbeginOrder\u001b[49m\u001b[43m,\u001b[49m\u001b[43m \u001b[49m\u001b[43mendOrder\u001b[49m\u001b[38;5;241;43m=\u001b[39;49m\u001b[43mendOrder\u001b[49m\u001b[43m)\u001b[49m\n\u001b[1;32m    369\u001b[0m     noiseReplacer\u001b[38;5;241m.\u001b[39mremoveSource(refChildRecord\u001b[38;5;241m.\u001b[39mgetId())\n\u001b[1;32m    371\u001b[0m \u001b[38;5;66;03m# Then process the parent record\u001b[39;00m\n",
      "File \u001b[0;32m~/Research/Packages/meas_base/python/lsst/meas/base/baseMeasurement.py:357\u001b[0m, in \u001b[0;36mBaseMeasurementTask.callMeasure\u001b[0;34m(self, measRecord, *args, **kwds)\u001b[0m\n\u001b[1;32m    355\u001b[0m \u001b[38;5;28;01mif\u001b[39;00m endOrder \u001b[38;5;129;01mis\u001b[39;00m \u001b[38;5;129;01mnot\u001b[39;00m \u001b[38;5;28;01mNone\u001b[39;00m \u001b[38;5;129;01mand\u001b[39;00m plugin\u001b[38;5;241m.\u001b[39mgetExecutionOrder() \u001b[38;5;241m>\u001b[39m\u001b[38;5;241m=\u001b[39m endOrder:\n\u001b[1;32m    356\u001b[0m     \u001b[38;5;28;01mbreak\u001b[39;00m\n\u001b[0;32m--> 357\u001b[0m \u001b[38;5;28;43mself\u001b[39;49m\u001b[38;5;241;43m.\u001b[39;49m\u001b[43mdoMeasurement\u001b[49m\u001b[43m(\u001b[49m\u001b[43mplugin\u001b[49m\u001b[43m,\u001b[49m\u001b[43m \u001b[49m\u001b[43mmeasRecord\u001b[49m\u001b[43m,\u001b[49m\u001b[43m \u001b[49m\u001b[38;5;241;43m*\u001b[39;49m\u001b[43margs\u001b[49m\u001b[43m,\u001b[49m\u001b[43m \u001b[49m\u001b[38;5;241;43m*\u001b[39;49m\u001b[38;5;241;43m*\u001b[39;49m\u001b[43mkwds\u001b[49m\u001b[43m)\u001b[49m\n",
      "File \u001b[0;32m~/Research/Packages/meas_base/python/lsst/meas/base/baseMeasurement.py:387\u001b[0m, in \u001b[0;36mBaseMeasurementTask.doMeasurement\u001b[0;34m(self, plugin, measRecord, *args, **kwds)\u001b[0m\n\u001b[1;32m    360\u001b[0m \u001b[38;5;124;03m\"\"\"Call ``measure`` on the specified plugin.\u001b[39;00m\n\u001b[1;32m    361\u001b[0m \n\u001b[1;32m    362\u001b[0m \u001b[38;5;124;03mExceptions are handled in a consistent way.\u001b[39;00m\n\u001b[0;32m   (...)\u001b[0m\n\u001b[1;32m    384\u001b[0m \u001b[38;5;124;03mderived classes, not users.\u001b[39;00m\n\u001b[1;32m    385\u001b[0m \u001b[38;5;124;03m\"\"\"\u001b[39;00m\n\u001b[1;32m    386\u001b[0m \u001b[38;5;28;01mtry\u001b[39;00m:\n\u001b[0;32m--> 387\u001b[0m     \u001b[43mplugin\u001b[49m\u001b[38;5;241;43m.\u001b[39;49m\u001b[43mmeasure\u001b[49m\u001b[43m(\u001b[49m\u001b[43mmeasRecord\u001b[49m\u001b[43m,\u001b[49m\u001b[43m \u001b[49m\u001b[38;5;241;43m*\u001b[39;49m\u001b[43margs\u001b[49m\u001b[43m,\u001b[49m\u001b[43m \u001b[49m\u001b[38;5;241;43m*\u001b[39;49m\u001b[38;5;241;43m*\u001b[39;49m\u001b[43mkwds\u001b[49m\u001b[43m)\u001b[49m\n\u001b[1;32m    388\u001b[0m \u001b[38;5;28;01mexcept\u001b[39;00m FATAL_EXCEPTIONS:\n\u001b[1;32m    389\u001b[0m     \u001b[38;5;28;01mraise\u001b[39;00m\n",
      "File \u001b[0;32m~/Research/Packages/meas_base/python/lsst/meas/base/plugins.py:763\u001b[0m, in \u001b[0;36mForcedTransformedCentroidPlugin.measure\u001b[0;34m(self, measRecord, exposure, refRecord, refWcs)\u001b[0m\n\u001b[1;32m    761\u001b[0m targetWcs \u001b[38;5;241m=\u001b[39m exposure\u001b[38;5;241m.\u001b[39mgetWcs()\n\u001b[1;32m    762\u001b[0m \u001b[38;5;28;01mif\u001b[39;00m \u001b[38;5;129;01mnot\u001b[39;00m refWcs \u001b[38;5;241m==\u001b[39m targetWcs:\n\u001b[0;32m--> 763\u001b[0m     targetPos \u001b[38;5;241m=\u001b[39m targetWcs\u001b[38;5;241m.\u001b[39mskyToPixel(refWcs\u001b[38;5;241m.\u001b[39mpixelToSky(\u001b[43mrefRecord\u001b[49m\u001b[38;5;241;43m.\u001b[39;49m\u001b[43mgetCentroid\u001b[49m\u001b[43m(\u001b[49m\u001b[43m)\u001b[49m))\n\u001b[1;32m    764\u001b[0m     measRecord\u001b[38;5;241m.\u001b[39mset(\u001b[38;5;28mself\u001b[39m\u001b[38;5;241m.\u001b[39mcentroidKey, targetPos)\n\u001b[1;32m    765\u001b[0m \u001b[38;5;28;01melse\u001b[39;00m:\n",
      "\u001b[0;31mKeyboardInterrupt\u001b[0m: "
     ]
    }
   ],
   "source": [
    "from hsc_gaap.gaap import GaapTask\n",
    "from hsc_gaap.gaap import joinMerianCatPatches\n",
    "gaap = GaapTask(9813, 24, 'i', \n",
    "                hsc_type='S20A',\n",
    "                repo='/projects/MERIAN/repo/', \n",
    "                collections='S20A/deepCoadd_calexp')\n",
    "gaap._checkHSCfile()\n",
    "gaap.load_merian_reference(band='N708', \n",
    "                           repo='/projects/MERIAN/repo/', \n",
    "                           collections='DECam/runs/merian/dr1_wide',\n",
    "#                            range=(0, 150)\n",
    "                          )\n",
    "# gaap.refCat = gaap.refCat[:15000] # [4692:27041:(27040-4692)]\n",
    "# gaap.refCatInBand = gaap.refCatInBand[:15000] # [4692:27041:(27040-4692)]\n",
    "gaap.setDefaultMeasureConfig()\n",
    "gaap.run()\n",
    "cat2 = gaap.writeObjectTable(save=True)"
   ]
  },
  {
   "cell_type": "code",
   "execution_count": 44,
   "id": "68a653f6",
   "metadata": {},
   "outputs": [
    {
     "data": {
      "text/plain": [
       "['id',\n",
       " 'coord_ra',\n",
       " 'coord_dec',\n",
       " 'i_gaap2p0Flux_flag',\n",
       " 'i_gaap0p4Flux',\n",
       " 'i_gaap1p5Flux_flag_bigPsf',\n",
       " 'i_gaapPsfFluxErr',\n",
       " 'i_gaapOptimalFluxErr',\n",
       " 'i_gaap0p7Flux_flag',\n",
       " 'i_gaapOptimalFlux_flag',\n",
       " 'i_gaap1p0Flux',\n",
       " 'i_gaap1p0Flux_flag_bigPsf',\n",
       " 'i_gaap2p0FluxErr',\n",
       " 'i_gaap0p7Flux_flag_bigPsf',\n",
       " 'i_gaap0p6Flux_flag_bigPsf',\n",
       " 'i_gaap1p0Flux_flag',\n",
       " 'i_gaap1p0FluxErr',\n",
       " 'i_gaap1p5Flux',\n",
       " 'i_gaap0p6Flux_flag',\n",
       " 'i_gaapOptimalFlux',\n",
       " 'i_gaap_flag_edge',\n",
       " 'i_gaap0p5Flux_flag_bigPsf',\n",
       " 'i_gaap_flag',\n",
       " 'i_gaap_OptimalShape_xx',\n",
       " 'i_gaap_flag_gaussianization',\n",
       " 'i_gaap2p0Flux',\n",
       " 'i_gaap0p7Flux',\n",
       " 'i_gaapPsfFlux_flag',\n",
       " 'i_gaapPsfFlux',\n",
       " 'i_gaap0p7FluxErr',\n",
       " 'i_gaap0p6FluxErr',\n",
       " 'i_gaap1p5FluxErr',\n",
       " 'i_gaap_OptimalShape_yy',\n",
       " 'i_gaap0p4Flux_flag',\n",
       " 'i_gaap0p4Flux_flag_bigPsf',\n",
       " 'i_gaap_OptimalShape_xy',\n",
       " 'i_gaap0p5Flux',\n",
       " 'i_gaap1p5Flux_flag',\n",
       " 'i_gaap2p0Flux_flag_bigPsf',\n",
       " 'i_gaap0p5Flux_flag',\n",
       " 'i_gaap0p5FluxErr',\n",
       " 'i_gaap0p6Flux',\n",
       " 'i_gaap0p4FluxErr',\n",
       " 'i_gaapOptimalFlux_flag_bigPsf',\n",
       " 'i_PsfFlux',\n",
       " 'i_PsfFluxErr',\n",
       " 'i_Psf_flag',\n",
       " 'i_Blendedness_abs',\n",
       " 'i_Blendedness_old',\n",
       " 'i_Blendedness_flag']"
      ]
     },
     "execution_count": 44,
     "metadata": {},
     "output_type": "execute_result"
    }
   ],
   "source": [
    "cat2.colnames"
   ]
  },
  {
   "cell_type": "code",
   "execution_count": null,
   "id": "643f3b92",
   "metadata": {},
   "outputs": [],
   "source": []
  },
  {
   "cell_type": "code",
   "execution_count": 17,
   "id": "7789fd6b",
   "metadata": {},
   "outputs": [],
   "source": [
    "# cat2 = writeObjectTable(gaap.measCat, band='i')\n",
    "cat2.remove_columns(['id', 'coord_ra', 'coord_dec'])\n",
    "cat_ref = joinMerianCatPatches([23])[:15000]"
   ]
  },
  {
   "cell_type": "code",
   "execution_count": 18,
   "id": "d75253fe",
   "metadata": {},
   "outputs": [],
   "source": [
    "cat = hstack([cat_ref, cat2])"
   ]
  },
  {
   "cell_type": "code",
   "execution_count": 7,
   "id": "9c0cfcbc",
   "metadata": {},
   "outputs": [
    {
     "name": "stderr",
     "output_type": "stream",
     "text": [
      "/tmp/ipykernel_89880/1226182700.py:3: RuntimeWarning: invalid value encountered in log10\n",
      "  plt.scatter(27 - 2.5 * np.log10(cat[flag]['i_gaap1p0Flux'].data),\n",
      "/tmp/ipykernel_89880/1226182700.py:4: RuntimeWarning: invalid value encountered in log10\n",
      "  -2.5 * np.log10(cat[flag]['i_gaap1p0Flux'].data / cat[flag]['N708_gaap1p0Flux']),\n",
      "/tmp/ipykernel_89880/1226182700.py:7: RuntimeWarning: invalid value encountered in log10\n",
      "  plt.scatter(27 - 2.5 * np.log10(cat[~flag]['i_gaap1p0Flux'].data),\n",
      "/tmp/ipykernel_89880/1226182700.py:8: RuntimeWarning: invalid value encountered in log10\n",
      "  -2.5 * np.log10(cat[~flag]['i_gaap1p0Flux'].data / cat[~flag]['N708_gaap1p0Flux']),\n"
     ]
    },
    {
     "data": {
      "text/plain": [
       "Text(0.5, 1.0, 'ref=Merian, img=HSC RC2 w40')"
      ]
     },
     "execution_count": 7,
     "metadata": {},
     "output_type": "execute_result"
    },
    {
     "data": {
      "image/png": "[encoded data removed]",
      "text/plain": [
       "<Figure size 432x288 with 1 Axes>"
      ]
     },
     "metadata": {
      "needs_background": "light"
     },
     "output_type": "display_data"
    }
   ],
   "source": [
    "flag = (cat['deblend_nChild'] > 0)\n",
    "\n",
    "plt.scatter(27 - 2.5 * np.log10(cat[flag]['i_gaap1p0Flux'].data), \n",
    "            -2.5 * np.log10(cat[flag]['i_gaap1p0Flux'].data / cat[flag]['N708_gaap1p0Flux']), \n",
    "            s=1, label='Parents', zorder=10, alpha=1)\n",
    "\n",
    "plt.scatter(27 - 2.5 * np.log10(cat[~flag]['i_gaap1p0Flux'].data), \n",
    "            -2.5 * np.log10(cat[~flag]['i_gaap1p0Flux'].data / cat[~flag]['N708_gaap1p0Flux']), \n",
    "            s=1, alpha=1, label='Children')\n",
    "\n",
    "plt.xlim(15, 27)\n",
    "# plt.ylim(-3, 3)\n",
    "leg = plt.legend()\n",
    "for lh in leg.legendHandles: \n",
    "    lh.set_alpha(1)\n",
    "plt.xlabel('i mag, manual')\n",
    "plt.ylabel('i - N708')\n",
    "plt.title('ref=Merian, img=HSC RC2 w40')"
   ]
  },
  {
   "cell_type": "code",
   "execution_count": 22,
   "id": "41508040",
   "metadata": {},
   "outputs": [
    {
     "name": "stderr",
     "output_type": "stream",
     "text": [
      "/tmp/ipykernel_92896/2198881854.py:3: RuntimeWarning: invalid value encountered in log10\n",
      "  plt.scatter(27 - 2.5 * np.log10(cat[flag]['i_gaap1p0Flux'].data),\n",
      "/tmp/ipykernel_92896/2198881854.py:4: RuntimeWarning: invalid value encountered in log10\n",
      "  -2.5 * np.log10(cat[flag]['i_gaap1p0Flux'].data / cat[flag]['N708_gaap1p0Flux']),\n",
      "/tmp/ipykernel_92896/2198881854.py:7: RuntimeWarning: invalid value encountered in log10\n",
      "  plt.scatter(27 - 2.5 * np.log10(cat[~flag]['i_gaap1p0Flux'].data),\n",
      "/tmp/ipykernel_92896/2198881854.py:8: RuntimeWarning: invalid value encountered in log10\n",
      "  -2.5 * np.log10(cat[~flag]['i_gaap1p0Flux'].data / cat[~flag]['N708_gaap1p0Flux']),\n"
     ]
    },
    {
     "data": {
      "text/plain": [
       "Text(0.5, 1.0, 'ref=Merian, img=HSC RC2 w40')"
      ]
     },
     "execution_count": 22,
     "metadata": {},
     "output_type": "execute_result"
    },
    {
     "data": {
      "image/png": "[encoded data removed]",
      "text/plain": [
       "<Figure size 432x288 with 1 Axes>"
      ]
     },
     "metadata": {
      "needs_background": "light"
     },
     "output_type": "display_data"
    }
   ],
   "source": [
    "flag = (cat['deblend_nChild'] > 0)\n",
    "\n",
    "plt.scatter(27 - 2.5 * np.log10(cat[flag]['i_gaap1p0Flux'].data), \n",
    "            -2.5 * np.log10(cat[flag]['i_gaap1p0Flux'].data / cat[flag]['N708_gaap1p0Flux']), \n",
    "            s=1, label='Parents', zorder=10, alpha=0.1)\n",
    "\n",
    "plt.scatter(27 - 2.5 * np.log10(cat[~flag]['i_gaap1p0Flux'].data), \n",
    "            -2.5 * np.log10(cat[~flag]['i_gaap1p0Flux'].data / cat[~flag]['N708_gaap1p0Flux']), \n",
    "            s=1, alpha=1, label='Children')\n",
    "\n",
    "plt.xlim(15, 27)\n",
    "# plt.ylim(-3, 3)\n",
    "leg = plt.legend()\n",
    "for lh in leg.legendHandles: \n",
    "    lh.set_alpha(1)\n",
    "plt.xlabel('i mag, manual')\n",
    "plt.ylabel('i - N708')\n",
    "plt.title('ref=Merian, img=HSC RC2 w40')"
   ]
  },
  {
   "cell_type": "code",
   "execution_count": null,
   "id": "401f063d",
   "metadata": {},
   "outputs": [],
   "source": []
  },
  {
   "cell_type": "code",
   "execution_count": null,
   "id": "998c6a1f",
   "metadata": {},
   "outputs": [],
   "source": []
  },
  {
   "cell_type": "code",
   "execution_count": null,
   "id": "8a9201de",
   "metadata": {},
   "outputs": [],
   "source": []
  },
  {
   "cell_type": "code",
   "execution_count": null,
   "id": "7b77728e",
   "metadata": {},
   "outputs": [],
   "source": []
  },
  {
   "cell_type": "code",
   "execution_count": 61,
   "id": "6049129b",
   "metadata": {},
   "outputs": [],
   "source": [
    "def writeObjectTable(measCat, band='i', save=True):\n",
    "    import astropy.units as u\n",
    "    from astropy.table import QTable\n",
    "    \n",
    "    outCat = measCat.copy(deep=True).asAstropy()\n",
    "    outCat['coord_ra'] = outCat['coord_ra'].to(u.deg)\n",
    "    outCat['coord_dec'] = outCat['coord_dec'].to(u.deg)\n",
    "\n",
    "    old_gaap_cols = [\n",
    "        item for item in measCat.schema.getNames() if ('gaap' in item and 'apCorr' not in item) | ('base_PsfFlux_instFlux' in item) | ('base_CircularApertureFlux' in item)]\n",
    "    outCat = outCat[['id', 'coord_ra', 'coord_dec'] + old_gaap_cols]\n",
    "    \n",
    "    # PhotCalib\n",
    "    for col in old_gaap_cols:\n",
    "        if 'instFlux' in col:\n",
    "            outCat[col] = outCat[col].value * \\\n",
    "                gaap.exposure.getPhotoCalib().instFluxToNanojansky(1) * u.nanomaggy\n",
    "\n",
    "    new_gaap_cols = []\n",
    "    for col in old_gaap_cols:\n",
    "        name = col.replace('ext_gaap_GaapFlux', f'{band}_gaap')\n",
    "        name = name.replace('_instFlux', 'Flux').replace('PsfFlux', 'Psf')\n",
    "        if 'Flux' in name:\n",
    "            aper = name.split(\n",
    "                \"x_\")[-1].replace('FluxErr', '').replace('Flux', '')\n",
    "            name = name.replace('_1_15x', '')\n",
    "            name = name.replace('_' + aper, aper.replace('_', 'p'))\n",
    "\n",
    "        if 'flag' in name:\n",
    "            aper = name.split(\n",
    "                \"x_\")[-1].replace('_flag_bigPsf', '').replace('_flag', '')\n",
    "            name = name.replace('_1_15x', '')\n",
    "            if not 'gauss' in name:\n",
    "                name = name.replace(\n",
    "                    '_' + aper, aper.replace('_', 'p') + 'Flux')\n",
    "        new_gaap_cols.append(name)\n",
    "    \n",
    "    outCat.rename_columns(old_gaap_cols, new_gaap_cols)\n",
    "    outCat = QTable(outCat)\n",
    "    return outCat"
   ]
  },
  {
   "cell_type": "code",
   "execution_count": null,
   "id": "da90a0a1",
   "metadata": {},
   "outputs": [],
   "source": []
  },
  {
   "cell_type": "code",
   "execution_count": null,
   "id": "bd71389c",
   "metadata": {},
   "outputs": [],
   "source": []
  },
  {
   "cell_type": "code",
   "execution_count": 62,
   "id": "ee9abee8",
   "metadata": {},
   "outputs": [],
   "source": [
    "cat2 = writeObjectTable(gaap.measCat, band='i')"
   ]
  },
  {
   "cell_type": "code",
   "execution_count": null,
   "id": "fd1d994e",
   "metadata": {},
   "outputs": [],
   "source": []
  },
  {
   "cell_type": "code",
   "execution_count": 68,
   "id": "6e39e189",
   "metadata": {},
   "outputs": [],
   "source": []
  },
  {
   "cell_type": "code",
   "execution_count": 72,
   "id": "6a31d7ef",
   "metadata": {},
   "outputs": [],
   "source": [
    "from hsc_gaap.gaap import joinMerianCatPatches\n",
    "cat2 = writeObjectTable(gaap.measCat, band='i')\n",
    "cat2.remove_columns(['id', 'coord_ra', 'coord_dec'])\n",
    "cat_ref = joinMerianCatPatches([23])"
   ]
  },
  {
   "cell_type": "code",
   "execution_count": 29,
   "id": "7533846a",
   "metadata": {
    "scrolled": false
   },
   "outputs": [
    {
     "data": {
      "text/plain": [
       "Schema(\n",
       "    (Field['L'](name=\"id\", doc=\"unique ID\"), Key<L>(offset=0, nElements=1)),\n",
       "    (Field['Angle'](name=\"coord_ra\", doc=\"position in ra/dec\"), Key<Angle>(offset=8, nElements=1)),\n",
       "    (Field['Angle'](name=\"coord_dec\", doc=\"position in ra/dec\"), Key<Angle>(offset=16, nElements=1)),\n",
       "    (Field['L'](name=\"parent\", doc=\"unique ID of parent source\"), Key<L>(offset=24, nElements=1)),\n",
       "    (Field['I'](name=\"deblend_nChild\", doc=\"Number of children this object has (defaults to 0)\"), Key<I>(offset=32, nElements=1)),\n",
       "    (Field['D'](name=\"base_SdssCentroid_x\", doc=\"centroid from Sdss Centroid algorithm\", units=\"pixel\"), Key<D>(offset=40, nElements=1)),\n",
       "    (Field['D'](name=\"base_SdssCentroid_y\", doc=\"centroid from Sdss Centroid algorithm\", units=\"pixel\"), Key<D>(offset=48, nElements=1)),\n",
       "    (Field['F'](name=\"base_SdssCentroid_xErr\", doc=\"1-sigma uncertainty on x position\", units=\"pixel\"), Key<F>(offset=56, nElements=1)),\n",
       "    (Field['F'](name=\"base_SdssCentroid_yErr\", doc=\"1-sigma uncertainty on y position\", units=\"pixel\"), Key<F>(offset=60, nElements=1)),\n",
       "    (Field['Flag'](name=\"base_SdssCentroid_flag\", doc=\"General Failure Flag\"), Key['Flag'](offset=64, bit=0)),\n",
       "    (Field['Flag'](name=\"base_SdssCentroid_flag_edge\", doc=\"Object too close to edge\"), Key['Flag'](offset=64, bit=1)),\n",
       "    (Field['Flag'](name=\"base_SdssCentroid_flag_noSecondDerivative\", doc=\"Vanishing second derivative\"), Key['Flag'](offset=64, bit=2)),\n",
       "    (Field['Flag'](name=\"base_SdssCentroid_flag_almostNoSecondDerivative\", doc=\"Almost vanishing second derivative\"), Key['Flag'](offset=64, bit=3)),\n",
       "    (Field['Flag'](name=\"base_SdssCentroid_flag_notAtMaximum\", doc=\"Object is not at a maximum\"), Key['Flag'](offset=64, bit=4)),\n",
       "    (Field['Flag'](name=\"base_SdssCentroid_flag_resetToPeak\", doc=\"set if CentroidChecker reset the centroid\"), Key['Flag'](offset=64, bit=5)),\n",
       "    (Field['Flag'](name=\"base_SdssCentroid_flag_badError\", doc=\"Error on x and/or y position is NaN\"), Key['Flag'](offset=64, bit=6)),\n",
       "    (Field['D'](name=\"base_TransformedCentroid_x\", doc=\"transformed reference centroid column\", units=\"pixel\"), Key<D>(offset=72, nElements=1)),\n",
       "    (Field['D'](name=\"base_TransformedCentroid_y\", doc=\"transformed reference centroid row\", units=\"pixel\"), Key<D>(offset=80, nElements=1)),\n",
       "    (Field['Flag'](name=\"base_TransformedCentroid_flag\", doc=\"whether the reference centroid is marked as bad\"), Key['Flag'](offset=64, bit=7)),\n",
       "    (Field['Flag'](name=\"base_InputCount_flag\", doc=\"Set for any fatal failure\"), Key['Flag'](offset=64, bit=8)),\n",
       "    (Field['I'](name=\"base_InputCount_value\", doc=\"Number of images contributing at center, not including anyclipping\"), Key<I>(offset=88, nElements=1)),\n",
       "    (Field['Flag'](name=\"base_InputCount_flag_noInputs\", doc=\"No coadd inputs available\"), Key['Flag'](offset=64, bit=9)),\n",
       "    (Field['D'](name=\"base_SdssShape_xx\", doc=\"elliptical Gaussian adaptive moments\", units=\"pixel^2\"), Key<D>(offset=96, nElements=1)),\n",
       "    (Field['D'](name=\"base_SdssShape_yy\", doc=\"elliptical Gaussian adaptive moments\", units=\"pixel^2\"), Key<D>(offset=104, nElements=1)),\n",
       "    (Field['D'](name=\"base_SdssShape_xy\", doc=\"elliptical Gaussian adaptive moments\", units=\"pixel^2\"), Key<D>(offset=112, nElements=1)),\n",
       "    (Field['F'](name=\"base_SdssShape_xxErr\", doc=\"Standard deviation of xx moment\", units=\"pixel^2\"), Key<F>(offset=120, nElements=1)),\n",
       "    (Field['F'](name=\"base_SdssShape_yyErr\", doc=\"Standard deviation of yy moment\", units=\"pixel^2\"), Key<F>(offset=124, nElements=1)),\n",
       "    (Field['F'](name=\"base_SdssShape_xyErr\", doc=\"Standard deviation of xy moment\", units=\"pixel^2\"), Key<F>(offset=128, nElements=1)),\n",
       "    (Field['D'](name=\"base_SdssShape_x\", doc=\"elliptical Gaussian adaptive moments\", units=\"pixel\"), Key<D>(offset=136, nElements=1)),\n",
       "    (Field['D'](name=\"base_SdssShape_y\", doc=\"elliptical Gaussian adaptive moments\", units=\"pixel\"), Key<D>(offset=144, nElements=1)),\n",
       "    (Field['D'](name=\"base_SdssShape_instFlux\", doc=\"elliptical Gaussian adaptive moments\", units=\"count\"), Key<D>(offset=152, nElements=1)),\n",
       "    (Field['D'](name=\"base_SdssShape_instFluxErr\", doc=\"1-sigma instFlux uncertainty\", units=\"count\"), Key<D>(offset=160, nElements=1)),\n",
       "    (Field['D'](name=\"base_SdssShape_psf_xx\", doc=\"adaptive moments of the PSF model at the object position\", units=\"pixel^2\"), Key<D>(offset=168, nElements=1)),\n",
       "    (Field['D'](name=\"base_SdssShape_psf_yy\", doc=\"adaptive moments of the PSF model at the object position\", units=\"pixel^2\"), Key<D>(offset=176, nElements=1)),\n",
       "    (Field['D'](name=\"base_SdssShape_psf_xy\", doc=\"adaptive moments of the PSF model at the object position\", units=\"pixel^2\"), Key<D>(offset=184, nElements=1)),\n",
       "    (Field['F'](name=\"base_SdssShape_instFlux_xx_Cov\", doc=\"uncertainty covariance between base_SdssShape_instFlux and base_SdssShape_xx\", units=\"count*pixel^2\"), Key<F>(offset=192, nElements=1)),\n",
       "    (Field['F'](name=\"base_SdssShape_instFlux_yy_Cov\", doc=\"uncertainty covariance between base_SdssShape_instFlux and base_SdssShape_yy\", units=\"count*pixel^2\"), Key<F>(offset=196, nElements=1)),\n",
       "    (Field['F'](name=\"base_SdssShape_instFlux_xy_Cov\", doc=\"uncertainty covariance between base_SdssShape_instFlux and base_SdssShape_xy\", units=\"count*pixel^2\"), Key<F>(offset=200, nElements=1)),\n",
       "    (Field['Flag'](name=\"base_SdssShape_flag\", doc=\"General Failure Flag\"), Key['Flag'](offset=64, bit=10)),\n",
       "    (Field['Flag'](name=\"base_SdssShape_flag_unweightedBad\", doc=\"Both weighted and unweighted moments were invalid\"), Key['Flag'](offset=64, bit=11)),\n",
       "    (Field['Flag'](name=\"base_SdssShape_flag_unweighted\", doc=\"Weighted moments converged to an invalid value; using unweighted moments\"), Key['Flag'](offset=64, bit=12)),\n",
       "    (Field['Flag'](name=\"base_SdssShape_flag_shift\", doc=\"centroid shifted by more than the maximum allowed amount\"), Key['Flag'](offset=64, bit=13)),\n",
       "    (Field['Flag'](name=\"base_SdssShape_flag_maxIter\", doc=\"Too many iterations in adaptive moments\"), Key['Flag'](offset=64, bit=14)),\n",
       "    (Field['Flag'](name=\"base_SdssShape_flag_psf\", doc=\"Failure in measuring PSF model shape\"), Key['Flag'](offset=64, bit=15)),\n",
       "    (Field['D'](name=\"base_TransformedShape_xx\", doc=\"transformed reference shape x^2 moment\", units=\"pixel^2\"), Key<D>(offset=208, nElements=1)),\n",
       "    (Field['D'](name=\"base_TransformedShape_yy\", doc=\"transformed reference shape y^2 moment\", units=\"pixel^2\"), Key<D>(offset=216, nElements=1)),\n",
       "    (Field['D'](name=\"base_TransformedShape_xy\", doc=\"transformed reference shape xy moment\", units=\"pixel^2\"), Key<D>(offset=224, nElements=1)),\n",
       "    (Field['Flag'](name=\"base_TransformedShape_flag\", doc=\"whether the reference shape is marked as bad\"), Key['Flag'](offset=64, bit=16)),\n",
       "    (Field['D'](name=\"base_CircularApertureFlux_3_0_instFlux\", doc=\"instFlux within 3.000000-pixel aperture\", units=\"count\"), Key<D>(offset=232, nElements=1)),\n",
       "    (Field['D'](name=\"base_CircularApertureFlux_3_0_instFluxErr\", doc=\"1-sigma instFlux uncertainty\", units=\"count\"), Key<D>(offset=240, nElements=1)),\n",
       "    (Field['Flag'](name=\"base_CircularApertureFlux_3_0_flag\", doc=\"General Failure Flag\"), Key['Flag'](offset=64, bit=17)),\n",
       "    (Field['Flag'](name=\"base_CircularApertureFlux_3_0_flag_apertureTruncated\", doc=\"aperture did not fit within measurement image\"), Key['Flag'](offset=64, bit=18)),\n",
       "    (Field['Flag'](name=\"base_CircularApertureFlux_3_0_flag_sincCoeffsTruncated\", doc=\"full sinc coefficient image did not fit within measurement image\"), Key['Flag'](offset=64, bit=19)),\n",
       "    (Field['D'](name=\"base_CircularApertureFlux_4_5_instFlux\", doc=\"instFlux within 4.500000-pixel aperture\", units=\"count\"), Key<D>(offset=248, nElements=1)),\n",
       "    (Field['D'](name=\"base_CircularApertureFlux_4_5_instFluxErr\", doc=\"1-sigma instFlux uncertainty\", units=\"count\"), Key<D>(offset=256, nElements=1)),\n",
       "    (Field['Flag'](name=\"base_CircularApertureFlux_4_5_flag\", doc=\"General Failure Flag\"), Key['Flag'](offset=64, bit=20)),\n",
       "    (Field['Flag'](name=\"base_CircularApertureFlux_4_5_flag_apertureTruncated\", doc=\"aperture did not fit within measurement image\"), Key['Flag'](offset=64, bit=21)),\n",
       "    (Field['Flag'](name=\"base_CircularApertureFlux_4_5_flag_sincCoeffsTruncated\", doc=\"full sinc coefficient image did not fit within measurement image\"), Key['Flag'](offset=64, bit=22)),\n",
       "    (Field['D'](name=\"base_CircularApertureFlux_6_0_instFlux\", doc=\"instFlux within 6.000000-pixel aperture\", units=\"count\"), Key<D>(offset=264, nElements=1)),\n",
       "    (Field['D'](name=\"base_CircularApertureFlux_6_0_instFluxErr\", doc=\"1-sigma instFlux uncertainty\", units=\"count\"), Key<D>(offset=272, nElements=1)),\n",
       "    (Field['Flag'](name=\"base_CircularApertureFlux_6_0_flag\", doc=\"General Failure Flag\"), Key['Flag'](offset=64, bit=23)),\n",
       "    (Field['Flag'](name=\"base_CircularApertureFlux_6_0_flag_apertureTruncated\", doc=\"aperture did not fit within measurement image\"), Key['Flag'](offset=64, bit=24)),\n",
       "    (Field['Flag'](name=\"base_CircularApertureFlux_6_0_flag_sincCoeffsTruncated\", doc=\"full sinc coefficient image did not fit within measurement image\"), Key['Flag'](offset=64, bit=25)),\n",
       "    (Field['D'](name=\"base_CircularApertureFlux_9_0_instFlux\", doc=\"instFlux within 9.000000-pixel aperture\", units=\"count\"), Key<D>(offset=280, nElements=1)),\n",
       "    (Field['D'](name=\"base_CircularApertureFlux_9_0_instFluxErr\", doc=\"1-sigma instFlux uncertainty\", units=\"count\"), Key<D>(offset=288, nElements=1)),\n",
       "    (Field['Flag'](name=\"base_CircularApertureFlux_9_0_flag\", doc=\"General Failure Flag\"), Key['Flag'](offset=64, bit=26)),\n",
       "    (Field['Flag'](name=\"base_CircularApertureFlux_9_0_flag_apertureTruncated\", doc=\"aperture did not fit within measurement image\"), Key['Flag'](offset=64, bit=27)),\n",
       "    (Field['Flag'](name=\"base_CircularApertureFlux_9_0_flag_sincCoeffsTruncated\", doc=\"full sinc coefficient image did not fit within measurement image\"), Key['Flag'](offset=64, bit=28)),\n",
       "    (Field['D'](name=\"base_CircularApertureFlux_12_0_instFlux\", doc=\"instFlux within 12.000000-pixel aperture\", units=\"count\"), Key<D>(offset=296, nElements=1)),\n",
       "    (Field['D'](name=\"base_CircularApertureFlux_12_0_instFluxErr\", doc=\"1-sigma instFlux uncertainty\", units=\"count\"), Key<D>(offset=304, nElements=1)),\n",
       "    (Field['Flag'](name=\"base_CircularApertureFlux_12_0_flag\", doc=\"General Failure Flag\"), Key['Flag'](offset=64, bit=29)),\n",
       "    (Field['Flag'](name=\"base_CircularApertureFlux_12_0_flag_apertureTruncated\", doc=\"aperture did not fit within measurement image\"), Key['Flag'](offset=64, bit=30)),\n",
       "    (Field['D'](name=\"base_CircularApertureFlux_17_0_instFlux\", doc=\"instFlux within 17.000000-pixel aperture\", units=\"count\"), Key<D>(offset=312, nElements=1)),\n",
       "    (Field['D'](name=\"base_CircularApertureFlux_17_0_instFluxErr\", doc=\"1-sigma instFlux uncertainty\", units=\"count\"), Key<D>(offset=320, nElements=1)),\n",
       "    (Field['Flag'](name=\"base_CircularApertureFlux_17_0_flag\", doc=\"General Failure Flag\"), Key['Flag'](offset=64, bit=31)),\n",
       "    (Field['Flag'](name=\"base_CircularApertureFlux_17_0_flag_apertureTruncated\", doc=\"aperture did not fit within measurement image\"), Key['Flag'](offset=64, bit=32)),\n",
       "    (Field['D'](name=\"base_CircularApertureFlux_25_0_instFlux\", doc=\"instFlux within 25.000000-pixel aperture\", units=\"count\"), Key<D>(offset=328, nElements=1)),\n",
       "    (Field['D'](name=\"base_CircularApertureFlux_25_0_instFluxErr\", doc=\"1-sigma instFlux uncertainty\", units=\"count\"), Key<D>(offset=336, nElements=1)),\n",
       "    (Field['Flag'](name=\"base_CircularApertureFlux_25_0_flag\", doc=\"General Failure Flag\"), Key['Flag'](offset=64, bit=33)),\n",
       "    (Field['Flag'](name=\"base_CircularApertureFlux_25_0_flag_apertureTruncated\", doc=\"aperture did not fit within measurement image\"), Key['Flag'](offset=64, bit=34)),\n",
       "    (Field['D'](name=\"base_CircularApertureFlux_35_0_instFlux\", doc=\"instFlux within 35.000000-pixel aperture\", units=\"count\"), Key<D>(offset=344, nElements=1)),\n",
       "    (Field['D'](name=\"base_CircularApertureFlux_35_0_instFluxErr\", doc=\"1-sigma instFlux uncertainty\", units=\"count\"), Key<D>(offset=352, nElements=1)),\n",
       "    (Field['Flag'](name=\"base_CircularApertureFlux_35_0_flag\", doc=\"General Failure Flag\"), Key['Flag'](offset=64, bit=35)),\n",
       "    (Field['Flag'](name=\"base_CircularApertureFlux_35_0_flag_apertureTruncated\", doc=\"aperture did not fit within measurement image\"), Key['Flag'](offset=64, bit=36)),\n",
       "    (Field['D'](name=\"base_CircularApertureFlux_50_0_instFlux\", doc=\"instFlux within 50.000000-pixel aperture\", units=\"count\"), Key<D>(offset=360, nElements=1)),\n",
       "    (Field['D'](name=\"base_CircularApertureFlux_50_0_instFluxErr\", doc=\"1-sigma instFlux uncertainty\", units=\"count\"), Key<D>(offset=368, nElements=1)),\n",
       "    (Field['Flag'](name=\"base_CircularApertureFlux_50_0_flag\", doc=\"General Failure Flag\"), Key['Flag'](offset=64, bit=37)),\n",
       "    (Field['Flag'](name=\"base_CircularApertureFlux_50_0_flag_apertureTruncated\", doc=\"aperture did not fit within measurement image\"), Key['Flag'](offset=64, bit=38)),\n",
       "    (Field['D'](name=\"base_CircularApertureFlux_70_0_instFlux\", doc=\"instFlux within 70.000000-pixel aperture\", units=\"count\"), Key<D>(offset=376, nElements=1)),\n",
       "    (Field['D'](name=\"base_CircularApertureFlux_70_0_instFluxErr\", doc=\"1-sigma instFlux uncertainty\", units=\"count\"), Key<D>(offset=384, nElements=1)),\n",
       "    (Field['Flag'](name=\"base_CircularApertureFlux_70_0_flag\", doc=\"General Failure Flag\"), Key['Flag'](offset=64, bit=39)),\n",
       "    (Field['Flag'](name=\"base_CircularApertureFlux_70_0_flag_apertureTruncated\", doc=\"aperture did not fit within measurement image\"), Key['Flag'](offset=64, bit=40)),\n",
       "    (Field['D'](name=\"base_GaussianFlux_instFlux\", doc=\"instFlux from Gaussian Flux algorithm\", units=\"count\"), Key<D>(offset=392, nElements=1)),\n",
       "    (Field['D'](name=\"base_GaussianFlux_instFluxErr\", doc=\"1-sigma instFlux uncertainty\", units=\"count\"), Key<D>(offset=400, nElements=1)),\n",
       "    (Field['Flag'](name=\"base_GaussianFlux_flag\", doc=\"General Failure Flag\"), Key['Flag'](offset=64, bit=41)),\n",
       "    (Field['D'](name=\"base_LocalBackground_instFlux\", doc=\"background in annulus around source\", units=\"count\"), Key<D>(offset=408, nElements=1)),\n",
       "    (Field['D'](name=\"base_LocalBackground_instFluxErr\", doc=\"1-sigma instFlux uncertainty\", units=\"count\"), Key<D>(offset=416, nElements=1)),\n",
       "    (Field['Flag'](name=\"base_LocalBackground_flag\", doc=\"General Failure Flag\"), Key['Flag'](offset=64, bit=42)),\n",
       "    (Field['Flag'](name=\"base_LocalBackground_flag_noGoodPixels\", doc=\"no good pixels in the annulus\"), Key['Flag'](offset=64, bit=43)),\n",
       "    (Field['Flag'](name=\"base_LocalBackground_flag_noPsf\", doc=\"no PSF provided\"), Key['Flag'](offset=64, bit=44)),\n",
       "    (Field['Flag'](name=\"base_PixelFlags_flag\", doc=\"General failure flag, set if anything went wrong\"), Key['Flag'](offset=64, bit=45)),\n",
       "    (Field['Flag'](name=\"base_PixelFlags_flag_offimage\", doc=\"Source center is off image\"), Key['Flag'](offset=64, bit=46)),\n",
       "    (Field['Flag'](name=\"base_PixelFlags_flag_edge\", doc=\"Source is outside usable exposure region (masked EDGE or NO_DATA)\"), Key['Flag'](offset=64, bit=47)),\n",
       "    (Field['Flag'](name=\"base_PixelFlags_flag_interpolated\", doc=\"Interpolated pixel in the Source footprint\"), Key['Flag'](offset=64, bit=48)),\n",
       "    (Field['Flag'](name=\"base_PixelFlags_flag_saturated\", doc=\"Saturated pixel in the Source footprint\"), Key['Flag'](offset=64, bit=49)),\n",
       "    (Field['Flag'](name=\"base_PixelFlags_flag_cr\", doc=\"Cosmic ray in the Source footprint\"), Key['Flag'](offset=64, bit=50)),\n",
       "    (Field['Flag'](name=\"base_PixelFlags_flag_bad\", doc=\"Bad pixel in the Source footprint\"), Key['Flag'](offset=64, bit=51)),\n",
       "    (Field['Flag'](name=\"base_PixelFlags_flag_suspect\", doc=\"Source's footprint includes suspect pixels\"), Key['Flag'](offset=64, bit=52)),\n",
       "    (Field['Flag'](name=\"base_PixelFlags_flag_interpolatedCenter\", doc=\"Interpolated pixel in the Source center\"), Key['Flag'](offset=64, bit=53)),\n",
       "    (Field['Flag'](name=\"base_PixelFlags_flag_saturatedCenter\", doc=\"Saturated pixel in the Source center\"), Key['Flag'](offset=64, bit=54)),\n",
       "    (Field['Flag'](name=\"base_PixelFlags_flag_crCenter\", doc=\"Cosmic ray in the Source center\"), Key['Flag'](offset=64, bit=55)),\n",
       "    (Field['Flag'](name=\"base_PixelFlags_flag_suspectCenter\", doc=\"Source's center is close to suspect pixels\"), Key['Flag'](offset=64, bit=56)),\n",
       "    (Field['Flag'](name=\"base_PixelFlags_flag_clippedCenter\", doc=\"Source center is close to CLIPPED pixels\"), Key['Flag'](offset=64, bit=57)),\n",
       "    (Field['Flag'](name=\"base_PixelFlags_flag_sensor_edgeCenter\", doc=\"Source center is close to SENSOR_EDGE pixels\"), Key['Flag'](offset=64, bit=58)),\n",
       "    (Field['Flag'](name=\"base_PixelFlags_flag_rejectedCenter\", doc=\"Source center is close to REJECTED pixels\"), Key['Flag'](offset=64, bit=59)),\n",
       "    (Field['Flag'](name=\"base_PixelFlags_flag_inexact_psfCenter\", doc=\"Source center is close to INEXACT_PSF pixels\"), Key['Flag'](offset=64, bit=60)),\n",
       "    (Field['Flag'](name=\"base_PixelFlags_flag_clipped\", doc=\"Source footprint includes CLIPPED pixels\"), Key['Flag'](offset=64, bit=61)),\n",
       "    (Field['Flag'](name=\"base_PixelFlags_flag_sensor_edge\", doc=\"Source footprint includes SENSOR_EDGE pixels\"), Key['Flag'](offset=64, bit=62)),\n",
       "    (Field['Flag'](name=\"base_PixelFlags_flag_rejected\", doc=\"Source footprint includes REJECTED pixels\"), Key['Flag'](offset=64, bit=63)),\n",
       "    (Field['Flag'](name=\"base_PixelFlags_flag_inexact_psf\", doc=\"Source footprint includes INEXACT_PSF pixels\"), Key['Flag'](offset=424, bit=0)),\n",
       "    (Field['D'](name=\"base_PsfFlux_instFlux\", doc=\"instFlux derived from linear least-squares fit of PSF model\", units=\"count\"), Key<D>(offset=432, nElements=1)),\n",
       "    (Field['D'](name=\"base_PsfFlux_instFluxErr\", doc=\"1-sigma instFlux uncertainty\", units=\"count\"), Key<D>(offset=440, nElements=1)),\n",
       "    (Field['F'](name=\"base_PsfFlux_area\", doc=\"effective area of PSF\", units=\"pixel\"), Key<F>(offset=448, nElements=1)),\n",
       "    (Field['F'](name=\"base_PsfFlux_chi2\", doc=\"chi2 of the fitted PSF\"), Key<F>(offset=452, nElements=1)),\n",
       "    (Field['I'](name=\"base_PsfFlux_npixels\", doc=\"number of pixels that were included in the PSF fit\", units=\"pixel\"), Key<I>(offset=456, nElements=1)),\n",
       "    (Field['Flag'](name=\"base_PsfFlux_flag\", doc=\"General Failure Flag\"), Key['Flag'](offset=424, bit=1)),\n",
       "    (Field['Flag'](name=\"base_PsfFlux_flag_noGoodPixels\", doc=\"not enough non-rejected pixels in data to attempt the fit\"), Key['Flag'](offset=424, bit=2)),\n",
       "    (Field['Flag'](name=\"base_PsfFlux_flag_edge\", doc=\"object was too close to the edge of the image to use the full PSF model\"), Key['Flag'](offset=424, bit=3)),\n",
       "    (Field['Flag'](name=\"base_Variance_flag\", doc=\"Set for any fatal failure\"), Key['Flag'](offset=424, bit=4)),\n",
       "    (Field['D'](name=\"base_Variance_value\", doc=\"Variance at object position\"), Key<D>(offset=464, nElements=1)),\n",
       "    (Field['Flag'](name=\"base_Variance_flag_emptyFootprint\", doc=\"Set to True when the footprint has no usable pixels\"), Key['Flag'](offset=424, bit=5)),\n",
       "    (Field['D'](name=\"ext_gaap_GaapFlux_1_15x_0_4_instFlux\", doc=\"GAaP Flux with 0.4 aperture after multiplying the seeing by 1.15\", units=\"count\"), Key<D>(offset=472, nElements=1)),\n",
       "    (Field['D'](name=\"ext_gaap_GaapFlux_1_15x_0_4_instFluxErr\", doc=\"1-sigma instFlux uncertainty\", units=\"count\"), Key<D>(offset=480, nElements=1)),\n",
       "    (Field['D'](name=\"ext_gaap_GaapFlux_1_15x_0_5_instFlux\", doc=\"GAaP Flux with 0.5 aperture after multiplying the seeing by 1.15\", units=\"count\"), Key<D>(offset=488, nElements=1)),\n",
       "    (Field['D'](name=\"ext_gaap_GaapFlux_1_15x_0_5_instFluxErr\", doc=\"1-sigma instFlux uncertainty\", units=\"count\"), Key<D>(offset=496, nElements=1)),\n",
       "    (Field['D'](name=\"ext_gaap_GaapFlux_1_15x_0_6_instFlux\", doc=\"GAaP Flux with 0.6 aperture after multiplying the seeing by 1.15\", units=\"count\"), Key<D>(offset=504, nElements=1)),\n",
       "    (Field['D'](name=\"ext_gaap_GaapFlux_1_15x_0_6_instFluxErr\", doc=\"1-sigma instFlux uncertainty\", units=\"count\"), Key<D>(offset=512, nElements=1)),\n",
       "    (Field['D'](name=\"ext_gaap_GaapFlux_1_15x_0_7_instFlux\", doc=\"GAaP Flux with 0.7 aperture after multiplying the seeing by 1.15\", units=\"count\"), Key<D>(offset=520, nElements=1)),\n",
       "    (Field['D'](name=\"ext_gaap_GaapFlux_1_15x_0_7_instFluxErr\", doc=\"1-sigma instFlux uncertainty\", units=\"count\"), Key<D>(offset=528, nElements=1)),\n",
       "    (Field['D'](name=\"ext_gaap_GaapFlux_1_15x_1_0_instFlux\", doc=\"GAaP Flux with 1.0 aperture after multiplying the seeing by 1.15\", units=\"count\"), Key<D>(offset=536, nElements=1)),\n",
       "    (Field['D'](name=\"ext_gaap_GaapFlux_1_15x_1_0_instFluxErr\", doc=\"1-sigma instFlux uncertainty\", units=\"count\"), Key<D>(offset=544, nElements=1)),\n",
       "    (Field['D'](name=\"ext_gaap_GaapFlux_1_15x_1_5_instFlux\", doc=\"GAaP Flux with 1.5 aperture after multiplying the seeing by 1.15\", units=\"count\"), Key<D>(offset=552, nElements=1)),\n",
       "    (Field['D'](name=\"ext_gaap_GaapFlux_1_15x_1_5_instFluxErr\", doc=\"1-sigma instFlux uncertainty\", units=\"count\"), Key<D>(offset=560, nElements=1)),\n",
       "    (Field['D'](name=\"ext_gaap_GaapFlux_1_15x_2_0_instFlux\", doc=\"GAaP Flux with 2.0 aperture after multiplying the seeing by 1.15\", units=\"count\"), Key<D>(offset=568, nElements=1)),\n",
       "    (Field['D'](name=\"ext_gaap_GaapFlux_1_15x_2_0_instFluxErr\", doc=\"1-sigma instFlux uncertainty\", units=\"count\"), Key<D>(offset=576, nElements=1)),\n",
       "    (Field['D'](name=\"ext_gaap_GaapFlux_1_15x_PsfFlux_instFlux\", doc=\"GAaP Flux with PSF aperture after multiplying the seeing by 1.15\", units=\"count\"), Key<D>(offset=584, nElements=1)),\n",
       "    (Field['D'](name=\"ext_gaap_GaapFlux_1_15x_PsfFlux_instFluxErr\", doc=\"1-sigma instFlux uncertainty\", units=\"count\"), Key<D>(offset=592, nElements=1)),\n",
       "    (Field['D'](name=\"ext_gaap_GaapFlux_OptimalShape_xx\", doc=\"Pre-seeing aperture used for optimal GAaP photometry\", units=\"pixel^2\"), Key<D>(offset=600, nElements=1)),\n",
       "    (Field['D'](name=\"ext_gaap_GaapFlux_OptimalShape_yy\", doc=\"Pre-seeing aperture used for optimal GAaP photometry\", units=\"pixel^2\"), Key<D>(offset=608, nElements=1)),\n",
       "    (Field['D'](name=\"ext_gaap_GaapFlux_OptimalShape_xy\", doc=\"Pre-seeing aperture used for optimal GAaP photometry\", units=\"pixel^2\"), Key<D>(offset=616, nElements=1)),\n",
       "    (Field['D'](name=\"ext_gaap_GaapFlux_1_15x_Optimal_instFlux\", doc=\"GAaP Flux with optimal aperture after multiplying the seeing by 1.15\", units=\"count\"), Key<D>(offset=624, nElements=1)),\n",
       "    (Field['D'](name=\"ext_gaap_GaapFlux_1_15x_Optimal_instFluxErr\", doc=\"1-sigma instFlux uncertainty\", units=\"count\"), Key<D>(offset=632, nElements=1)),\n",
       "    (Field['Flag'](name=\"ext_gaap_GaapFlux_1_15x_0_4_flag_bigPsf\", doc=\"The Gaussianized PSF is bigger than the aperture\"), Key['Flag'](offset=424, bit=6)),\n",
       "    (Field['Flag'](name=\"ext_gaap_GaapFlux_1_15x_0_4_flag\", doc=\"Generic failure flag for this set of config parameters. \"), Key['Flag'](offset=424, bit=7)),\n",
       "    (Field['Flag'](name=\"ext_gaap_GaapFlux_1_15x_0_5_flag_bigPsf\", doc=\"The Gaussianized PSF is bigger than the aperture\"), Key['Flag'](offset=424, bit=8)),\n",
       "    (Field['Flag'](name=\"ext_gaap_GaapFlux_1_15x_0_5_flag\", doc=\"Generic failure flag for this set of config parameters. \"), Key['Flag'](offset=424, bit=9)),\n",
       "    (Field['Flag'](name=\"ext_gaap_GaapFlux_1_15x_0_6_flag_bigPsf\", doc=\"The Gaussianized PSF is bigger than the aperture\"), Key['Flag'](offset=424, bit=10)),\n",
       "    (Field['Flag'](name=\"ext_gaap_GaapFlux_1_15x_0_6_flag\", doc=\"Generic failure flag for this set of config parameters. \"), Key['Flag'](offset=424, bit=11)),\n",
       "    (Field['Flag'](name=\"ext_gaap_GaapFlux_1_15x_0_7_flag_bigPsf\", doc=\"The Gaussianized PSF is bigger than the aperture\"), Key['Flag'](offset=424, bit=12)),\n",
       "    (Field['Flag'](name=\"ext_gaap_GaapFlux_1_15x_0_7_flag\", doc=\"Generic failure flag for this set of config parameters. \"), Key['Flag'](offset=424, bit=13)),\n",
       "    (Field['Flag'](name=\"ext_gaap_GaapFlux_1_15x_1_0_flag_bigPsf\", doc=\"The Gaussianized PSF is bigger than the aperture\"), Key['Flag'](offset=424, bit=14)),\n",
       "    (Field['Flag'](name=\"ext_gaap_GaapFlux_1_15x_1_0_flag\", doc=\"Generic failure flag for this set of config parameters. \"), Key['Flag'](offset=424, bit=15)),\n",
       "    (Field['Flag'](name=\"ext_gaap_GaapFlux_1_15x_1_5_flag_bigPsf\", doc=\"The Gaussianized PSF is bigger than the aperture\"), Key['Flag'](offset=424, bit=16)),\n",
       "    (Field['Flag'](name=\"ext_gaap_GaapFlux_1_15x_1_5_flag\", doc=\"Generic failure flag for this set of config parameters. \"), Key['Flag'](offset=424, bit=17)),\n",
       "    (Field['Flag'](name=\"ext_gaap_GaapFlux_1_15x_2_0_flag_bigPsf\", doc=\"The Gaussianized PSF is bigger than the aperture\"), Key['Flag'](offset=424, bit=18)),\n",
       "    (Field['Flag'](name=\"ext_gaap_GaapFlux_1_15x_2_0_flag\", doc=\"Generic failure flag for this set of config parameters. \"), Key['Flag'](offset=424, bit=19)),\n",
       "    (Field['Flag'](name=\"ext_gaap_GaapFlux_1_15x_PsfFlux_flag\", doc=\"Generic failure flag for this set of config parameters. \"), Key['Flag'](offset=424, bit=20)),\n",
       "    (Field['Flag'](name=\"ext_gaap_GaapFlux_1_15x_Optimal_flag_bigPsf\", doc=\"The Gaussianized PSF is bigger than the aperture\"), Key['Flag'](offset=424, bit=21)),\n",
       "    (Field['Flag'](name=\"ext_gaap_GaapFlux_1_15x_Optimal_flag\", doc=\"Generic failure flag for this set of config parameters. \"), Key['Flag'](offset=424, bit=22)),\n",
       "    (Field['Flag'](name=\"ext_gaap_GaapFlux_1_15x_flag_gaussianization\", doc=\"PSF Gaussianization failed when trying to scale by this factor.\"), Key['Flag'](offset=424, bit=23)),\n",
       "    (Field['Flag'](name=\"ext_gaap_GaapFlux_flag_edge\", doc=\"Source is too close to the edge\"), Key['Flag'](offset=424, bit=24)),\n",
       "    (Field['Flag'](name=\"ext_gaap_GaapFlux_flag\", doc=\"Set for any fatal failure\"), Key['Flag'](offset=424, bit=25)),\n",
       "    (Field['D'](name=\"base_GaussianFlux_apCorr\", doc=\"aperture correction applied to base_GaussianFlux\"), Key<D>(offset=640, nElements=1)),\n",
       "    (Field['D'](name=\"base_GaussianFlux_apCorrErr\", doc=\"standard deviation of aperture correction applied to base_GaussianFlux\"), Key<D>(offset=648, nElements=1)),\n",
       "    (Field['Flag'](name=\"base_GaussianFlux_flag_apCorr\", doc=\"set if unable to aperture correct base_GaussianFlux\"), Key['Flag'](offset=424, bit=26)),\n",
       "    (Field['D'](name=\"base_PsfFlux_apCorr\", doc=\"aperture correction applied to base_PsfFlux\"), Key<D>(offset=656, nElements=1)),\n",
       "    (Field['D'](name=\"base_PsfFlux_apCorrErr\", doc=\"standard deviation of aperture correction applied to base_PsfFlux\"), Key<D>(offset=664, nElements=1)),\n",
       "    (Field['Flag'](name=\"base_PsfFlux_flag_apCorr\", doc=\"set if unable to aperture correct base_PsfFlux\"), Key['Flag'](offset=424, bit=27)),\n",
       "    (Field['D'](name=\"ext_gaap_GaapFlux_1_15x_0_4_apCorr\", doc=\"aperture correction applied to ext_gaap_GaapFlux_1_15x_0_4\"), Key<D>(offset=672, nElements=1)),\n",
       "    (Field['D'](name=\"ext_gaap_GaapFlux_1_15x_0_4_apCorrErr\", doc=\"standard deviation of aperture correction applied to ext_gaap_GaapFlux_1_15x_0_4\"), Key<D>(offset=680, nElements=1)),\n",
       "    (Field['Flag'](name=\"ext_gaap_GaapFlux_1_15x_0_4_flag_apCorr\", doc=\"set if unable to aperture correct ext_gaap_GaapFlux_1_15x_0_4\"), Key['Flag'](offset=424, bit=28)),\n",
       "    (Field['D'](name=\"ext_gaap_GaapFlux_1_15x_0_5_apCorr\", doc=\"aperture correction applied to ext_gaap_GaapFlux_1_15x_0_5\"), Key<D>(offset=688, nElements=1)),\n",
       "    (Field['D'](name=\"ext_gaap_GaapFlux_1_15x_0_5_apCorrErr\", doc=\"standard deviation of aperture correction applied to ext_gaap_GaapFlux_1_15x_0_5\"), Key<D>(offset=696, nElements=1)),\n",
       "    (Field['Flag'](name=\"ext_gaap_GaapFlux_1_15x_0_5_flag_apCorr\", doc=\"set if unable to aperture correct ext_gaap_GaapFlux_1_15x_0_5\"), Key['Flag'](offset=424, bit=29)),\n",
       "    (Field['D'](name=\"ext_gaap_GaapFlux_1_15x_0_6_apCorr\", doc=\"aperture correction applied to ext_gaap_GaapFlux_1_15x_0_6\"), Key<D>(offset=704, nElements=1)),\n",
       "    (Field['D'](name=\"ext_gaap_GaapFlux_1_15x_0_6_apCorrErr\", doc=\"standard deviation of aperture correction applied to ext_gaap_GaapFlux_1_15x_0_6\"), Key<D>(offset=712, nElements=1)),\n",
       "    (Field['Flag'](name=\"ext_gaap_GaapFlux_1_15x_0_6_flag_apCorr\", doc=\"set if unable to aperture correct ext_gaap_GaapFlux_1_15x_0_6\"), Key['Flag'](offset=424, bit=30)),\n",
       "    (Field['D'](name=\"ext_gaap_GaapFlux_1_15x_0_7_apCorr\", doc=\"aperture correction applied to ext_gaap_GaapFlux_1_15x_0_7\"), Key<D>(offset=720, nElements=1)),\n",
       "    (Field['D'](name=\"ext_gaap_GaapFlux_1_15x_0_7_apCorrErr\", doc=\"standard deviation of aperture correction applied to ext_gaap_GaapFlux_1_15x_0_7\"), Key<D>(offset=728, nElements=1)),\n",
       "    (Field['Flag'](name=\"ext_gaap_GaapFlux_1_15x_0_7_flag_apCorr\", doc=\"set if unable to aperture correct ext_gaap_GaapFlux_1_15x_0_7\"), Key['Flag'](offset=424, bit=31)),\n",
       "    (Field['D'](name=\"ext_gaap_GaapFlux_1_15x_1_0_apCorr\", doc=\"aperture correction applied to ext_gaap_GaapFlux_1_15x_1_0\"), Key<D>(offset=736, nElements=1)),\n",
       "    (Field['D'](name=\"ext_gaap_GaapFlux_1_15x_1_0_apCorrErr\", doc=\"standard deviation of aperture correction applied to ext_gaap_GaapFlux_1_15x_1_0\"), Key<D>(offset=744, nElements=1)),\n",
       "    (Field['Flag'](name=\"ext_gaap_GaapFlux_1_15x_1_0_flag_apCorr\", doc=\"set if unable to aperture correct ext_gaap_GaapFlux_1_15x_1_0\"), Key['Flag'](offset=424, bit=32)),\n",
       "    (Field['D'](name=\"ext_gaap_GaapFlux_1_15x_1_5_apCorr\", doc=\"aperture correction applied to ext_gaap_GaapFlux_1_15x_1_5\"), Key<D>(offset=752, nElements=1)),\n",
       "    (Field['D'](name=\"ext_gaap_GaapFlux_1_15x_1_5_apCorrErr\", doc=\"standard deviation of aperture correction applied to ext_gaap_GaapFlux_1_15x_1_5\"), Key<D>(offset=760, nElements=1)),\n",
       "    (Field['Flag'](name=\"ext_gaap_GaapFlux_1_15x_1_5_flag_apCorr\", doc=\"set if unable to aperture correct ext_gaap_GaapFlux_1_15x_1_5\"), Key['Flag'](offset=424, bit=33)),\n",
       "    (Field['D'](name=\"ext_gaap_GaapFlux_1_15x_2_0_apCorr\", doc=\"aperture correction applied to ext_gaap_GaapFlux_1_15x_2_0\"), Key<D>(offset=768, nElements=1)),\n",
       "    (Field['D'](name=\"ext_gaap_GaapFlux_1_15x_2_0_apCorrErr\", doc=\"standard deviation of aperture correction applied to ext_gaap_GaapFlux_1_15x_2_0\"), Key<D>(offset=776, nElements=1)),\n",
       "    (Field['Flag'](name=\"ext_gaap_GaapFlux_1_15x_2_0_flag_apCorr\", doc=\"set if unable to aperture correct ext_gaap_GaapFlux_1_15x_2_0\"), Key['Flag'](offset=424, bit=34)),\n",
       "    (Field['D'](name=\"ext_gaap_GaapFlux_1_15x_Optimal_apCorr\", doc=\"aperture correction applied to ext_gaap_GaapFlux_1_15x_Optimal\"), Key<D>(offset=784, nElements=1)),\n",
       "    (Field['D'](name=\"ext_gaap_GaapFlux_1_15x_Optimal_apCorrErr\", doc=\"standard deviation of aperture correction applied to ext_gaap_GaapFlux_1_15x_Optimal\"), Key<D>(offset=792, nElements=1)),\n",
       "    (Field['Flag'](name=\"ext_gaap_GaapFlux_1_15x_Optimal_flag_apCorr\", doc=\"set if unable to aperture correct ext_gaap_GaapFlux_1_15x_Optimal\"), Key['Flag'](offset=424, bit=35)),\n",
       "    (Field['D'](name=\"ext_gaap_GaapFlux_1_15x_PsfFlux_apCorr\", doc=\"aperture correction applied to ext_gaap_GaapFlux_1_15x_PsfFlux\"), Key<D>(offset=800, nElements=1)),\n",
       "    (Field['D'](name=\"ext_gaap_GaapFlux_1_15x_PsfFlux_apCorrErr\", doc=\"standard deviation of aperture correction applied to ext_gaap_GaapFlux_1_15x_PsfFlux\"), Key<D>(offset=808, nElements=1)),\n",
       "    (Field['Flag'](name=\"ext_gaap_GaapFlux_1_15x_PsfFlux_flag_apCorr\", doc=\"set if unable to aperture correct ext_gaap_GaapFlux_1_15x_PsfFlux\"), Key['Flag'](offset=424, bit=36)),\n",
       "    'base_CircularApertureFlux_flag_badCentroid'->'base_TransformedCentroid_flag'\n",
       "    'base_GaussianFlux_flag_badCentroid'->'base_TransformedCentroid_flag'\n",
       "    'base_GaussianFlux_flag_badShape'->'base_TransformedShape_flag'\n",
       "    'base_InputCount_flag_badCentroid'->'base_TransformedCentroid_flag'\n",
       "    'base_LocalBackground_flag_badCentroid'->'base_TransformedCentroid_flag'\n",
       "    'base_PsfFlux_flag_badCentroid'->'base_TransformedCentroid_flag'\n",
       "    'base_SdssCentroid_flag_badInitialCentroid'->'base_TransformedCentroid_flag'\n",
       "    'base_SdssShape_flag_badCentroid'->'base_TransformedCentroid_flag'\n",
       "    'base_Variance_flag_badCentroid'->'base_TransformedCentroid_flag'\n",
       "    'slot_Centroid'->'base_TransformedCentroid'\n",
       "    'slot_PsfShape'->'base_SdssShape_psf'\n",
       "    'slot_Shape'->'base_TransformedShape'\n",
       ")"
      ]
     },
     "execution_count": 29,
     "metadata": {},
     "output_type": "execute_result"
    }
   ],
   "source": [
    "gaap.measCat.schema"
   ]
  },
  {
   "cell_type": "code",
   "execution_count": null,
   "id": "a040c2dd",
   "metadata": {},
   "outputs": [],
   "source": []
  },
  {
   "cell_type": "code",
   "execution_count": null,
   "id": "bb0da044",
   "metadata": {},
   "outputs": [],
   "source": []
  },
  {
   "cell_type": "code",
   "execution_count": 73,
   "id": "97d6b4cc",
   "metadata": {},
   "outputs": [
    {
     "name": "stderr",
     "output_type": "stream",
     "text": [
      "WARNING: The unit 'nmgy' could not be saved in native FITS format and cannot be recovered in reading. It can roundtrip within astropy by using QTable both to write and read back, though one has to enable the unit before reading. [astropy.io.fits.convenience]\n",
      "WARNING: The unit 'nmgy' could not be saved in native FITS format and hence will be lost to non-astropy fits readers. Within astropy, the unit can roundtrip using QTable, though one has to enable the unit before reading. [astropy.io.fits.convenience]\n",
      "WARNING: VerifyWarning: Keyword name 'BASE_CIRCULARAPERTUREFLUX_RADII' is greater than 8 characters or contains characters not allowed by the FITS standard; a HIERARCH card will be created. [astropy.io.fits.card]\n",
      "WARNING: VerifyWarning: Keyword name 'NOISE_SEED_MULTIPLIER' is greater than 8 characters or contains characters not allowed by the FITS standard; a HIERARCH card will be created. [astropy.io.fits.card]\n",
      "WARNING: VerifyWarning: Keyword name 'NOISE_SOURCE' is greater than 8 characters or contains characters not allowed by the FITS standard; a HIERARCH card will be created. [astropy.io.fits.card]\n",
      "WARNING: VerifyWarning: Keyword name 'NOISE_OFFSET' is greater than 8 characters or contains characters not allowed by the FITS standard; a HIERARCH card will be created. [astropy.io.fits.card]\n",
      "WARNING: VerifyWarning: Keyword name 'NOISE_EXPOSURE_ID' is greater than 8 characters or contains characters not allowed by the FITS standard; a HIERARCH card will be created. [astropy.io.fits.card]\n"
     ]
    }
   ],
   "source": [
    "cat = hstack([cat_ref, cat2])\n",
    "cat.write('/projects/MERIAN/repo/S20A/gaapTable/9813/gaap_9813_23_Merian_S20A_i_more.fits', overwrite=True)"
   ]
  },
  {
   "cell_type": "code",
   "execution_count": null,
   "id": "7a97957a",
   "metadata": {},
   "outputs": [],
   "source": []
  },
  {
   "cell_type": "code",
   "execution_count": null,
   "id": "12bf9a4a",
   "metadata": {},
   "outputs": [],
   "source": []
  },
  {
   "cell_type": "code",
   "execution_count": null,
   "id": "3037d8ec",
   "metadata": {},
   "outputs": [],
   "source": []
  },
  {
   "cell_type": "code",
   "execution_count": null,
   "id": "b2ca8739",
   "metadata": {},
   "outputs": [],
   "source": []
  },
  {
   "cell_type": "code",
   "execution_count": null,
   "id": "d0bc5e47",
   "metadata": {},
   "outputs": [],
   "source": []
  },
  {
   "cell_type": "code",
   "execution_count": 73,
   "id": "c250d025",
   "metadata": {},
   "outputs": [],
   "source": [
    "# gaap.run()"
   ]
  },
  {
   "cell_type": "code",
   "execution_count": 17,
   "id": "e3edcf03",
   "metadata": {},
   "outputs": [],
   "source": [
    "outcat = gaap.writeObjectTable(save=False)"
   ]
  },
  {
   "cell_type": "code",
   "execution_count": null,
   "id": "81ffbcfb",
   "metadata": {},
   "outputs": [],
   "source": []
  },
  {
   "cell_type": "code",
   "execution_count": null,
   "id": "2a560a00",
   "metadata": {},
   "outputs": [],
   "source": []
  },
  {
   "cell_type": "code",
   "execution_count": 19,
   "id": "e415b53f",
   "metadata": {},
   "outputs": [
    {
     "data": {
      "text/plain": [
       "(6643, 15000)"
      ]
     },
     "execution_count": 19,
     "metadata": {},
     "output_type": "execute_result"
    }
   ],
   "source": [
    "good_objects = ~(outcat[\"i_gaap_flag\"] | outcat['i_gaapOptimalFlux_flag_bigPsf'])\n",
    "np.sum(good_objects), len(good_objects)"
   ]
  },
  {
   "cell_type": "code",
   "execution_count": 20,
   "id": "a150f5c5",
   "metadata": {
    "scrolled": false
   },
   "outputs": [
    {
     "data": {
      "text/plain": [
       "Text(0.5, 0, 'Sigmas')"
      ]
     },
     "execution_count": 20,
     "metadata": {},
     "output_type": "execute_result"
    },
    {
     "data": {
      "image/png": "[encoded data removed]",
      "text/plain": [
       "<Figure size 1224x432 with 2 Axes>"
      ]
     },
     "metadata": {
      "needs_background": "light"
     },
     "output_type": "display_data"
    }
   ],
   "source": [
    "fig, ax = plt.subplots(1, 2, figsize=(17,6))\n",
    "bins = np.logspace(-2, 4, 61)\n",
    "\n",
    "baseNames = list(gaap.measureConfig.measurement.plugins[\"ext_gaap_GaapFlux\"].getAllGaapResultNames(\"ext_gaap_GaapFlux\"))\n",
    "statistic_list = []\n",
    "statistic_upper_list, statistic_lower_list = [], []\n",
    "\n",
    "for baseName in gaap.measureConfig.measurement.plugins[\"ext_gaap_GaapFlux\"].getAllGaapResultNames(\"ext_gaap_GaapFlux\"):\n",
    "    label = baseName.split(\"x_\")[-1]\n",
    "    #if label[-1]=='5': continue\n",
    "#     if \"PsfFlux\" in label: continue\n",
    "    histtype='stepfilled' if \"Optimal\" in baseName else 'step'\n",
    "    snr = gaap.measCat[baseName+\"_instFlux\"][good_objects] / gaap.measCat[baseName+\"_instFluxErr\"][good_objects]\n",
    "    ax[0].hist(snr, bins=bins, histtype=histtype,label=label, alpha=0.4)\n",
    "    statistic = np.nanpercentile(snr, 50)\n",
    "    # statistic = np.nanmean(snr)\n",
    "    if \"Optimal\" in label:\n",
    "        optStatistic = np.nanpercentile(snr, 50)\n",
    "    if not (\"PsfFlux\" in label or \"Optimal\" in label):\n",
    "        statistic_list.append(statistic)\n",
    "        statistic_upper_list.append(np.percentile(snr, 84))\n",
    "        statistic_lower_list.append(np.percentile(snr, 16))\n",
    "\n",
    "ax[0].set_xscale('log')\n",
    "ax[0].set_xlabel(\"SNR = instFlux/instFluxErr\")\n",
    "#ax[0].set_yscale('log')\n",
    "ax[0].legend(loc='best')\n",
    "\n",
    "sigmas = gaap.measureConfig.measurement.plugins[\"ext_gaap_GaapFlux\"].sigmas.list()\n",
    "ax[1].plot(sigmas, statistic_list, 'o-')\n",
    "#ax[1].fill_between(sigmas, statistic_upper_list, statistic_lower_list, alpha=0.4)\n",
    "# ax[1].plot(3.6, optStatistic, \"*\", markersize=12)\n",
    "ax[1].set_ylabel(\"Median SNR\")\n",
    "ax[1].set_xlabel(\"Sigmas\")\n",
    "# ax[1].axvline(3.5, color='k', ls='-.')"
   ]
  },
  {
   "cell_type": "code",
   "execution_count": null,
   "id": "be146c6f",
   "metadata": {},
   "outputs": [],
   "source": []
  },
  {
   "cell_type": "code",
   "execution_count": 7,
   "id": "22d8a9fe",
   "metadata": {},
   "outputs": [],
   "source": [
    "measureConfig = gaap.measureConfig.measurement"
   ]
  },
  {
   "cell_type": "code",
   "execution_count": 8,
   "id": "32ae1e3c",
   "metadata": {},
   "outputs": [],
   "source": [
    "import lsst.afw.display as afwDisplay\n",
    "import lsst.afw.geom as afwGeom"
   ]
  },
  {
   "cell_type": "code",
   "execution_count": null,
   "id": "ac98f3f1",
   "metadata": {},
   "outputs": [],
   "source": []
  },
  {
   "cell_type": "code",
   "execution_count": null,
   "id": "85433a5d",
   "metadata": {},
   "outputs": [],
   "source": []
  },
  {
   "cell_type": "code",
   "execution_count": 10,
   "id": "2a445d6e",
   "metadata": {},
   "outputs": [
    {
     "data": {
      "text/plain": [
       "Quadrupole(ixx=34.45119236706474, iyy=41.52509442420149, ixy=7.882154670230213)"
      ]
     },
     "execution_count": 10,
     "metadata": {},
     "output_type": "execute_result"
    }
   ],
   "source": [
    "recordId = 4692\n",
    "shape = gaap.refCat[0].getShape()\n",
    "shape"
   ]
  },
  {
   "cell_type": "code",
   "execution_count": 11,
   "id": "08c9f0ff",
   "metadata": {},
   "outputs": [
    {
     "ename": "RuntimeError",
     "evalue": "Unable to set backend to matplotlib: \"module 'matplotlib' has no attribute 'DisplayImpl'\"",
     "output_type": "error",
     "traceback": [
      "\u001b[0;31m---------------------------------------------------------------------------\u001b[0m",
      "\u001b[0;31mAttributeError\u001b[0m                            Traceback (most recent call last)",
      "File \u001b[0;32m/projects/HSC/LSST/stack_20220527/conda/envs/lsst-scipipe-4.0.1/share/eups/Linux64/afw/gba47b54d5d+94dc90c3ea/python/lsst/afw/display/interface.py:267\u001b[0m, in \u001b[0;36mDisplay.setDefaultBackend\u001b[0;34m(backend)\u001b[0m\n\u001b[1;32m    266\u001b[0m \u001b[38;5;28;01mtry\u001b[39;00m:\n\u001b[0;32m--> 267\u001b[0m     \u001b[43m_makeDisplayImpl\u001b[49m\u001b[43m(\u001b[49m\u001b[38;5;28;43;01mNone\u001b[39;49;00m\u001b[43m,\u001b[49m\u001b[43m \u001b[49m\u001b[43mbackend\u001b[49m\u001b[43m)\u001b[49m\n\u001b[1;32m    268\u001b[0m \u001b[38;5;28;01mexcept\u001b[39;00m \u001b[38;5;167;01mException\u001b[39;00m \u001b[38;5;28;01mas\u001b[39;00m e:\n",
      "File \u001b[0;32m/projects/HSC/LSST/stack_20220527/conda/envs/lsst-scipipe-4.0.1/share/eups/Linux64/afw/gba47b54d5d+94dc90c3ea/python/lsst/afw/display/interface.py:100\u001b[0m, in \u001b[0;36m_makeDisplayImpl\u001b[0;34m(display, backend, *args, **kwargs)\u001b[0m\n\u001b[1;32m     98\u001b[0m         exc \u001b[38;5;241m=\u001b[39m e\n\u001b[0;32m--> 100\u001b[0m \u001b[38;5;28;01mif\u001b[39;00m \u001b[38;5;129;01mnot\u001b[39;00m _disp \u001b[38;5;129;01mor\u001b[39;00m \u001b[38;5;129;01mnot\u001b[39;00m \u001b[38;5;28mhasattr\u001b[39m(\u001b[43m_disp\u001b[49m\u001b[38;5;241;43m.\u001b[39;49m\u001b[43mDisplayImpl\u001b[49m, \u001b[38;5;124m\"\u001b[39m\u001b[38;5;124m_show\u001b[39m\u001b[38;5;124m\"\u001b[39m):\n\u001b[1;32m    101\u001b[0m     \u001b[38;5;28;01mif\u001b[39;00m exc \u001b[38;5;129;01mis\u001b[39;00m \u001b[38;5;129;01mnot\u001b[39;00m \u001b[38;5;28;01mNone\u001b[39;00m:\n\u001b[1;32m    102\u001b[0m         \u001b[38;5;66;03m# re-raise the final exception\u001b[39;00m\n",
      "File \u001b[0;32m/projects/HSC/LSST/stack_20220527/conda/envs/lsst-scipipe-4.0.0/lib/python3.10/site-packages/matplotlib/_api/__init__.py:222\u001b[0m, in \u001b[0;36mcaching_module_getattr.<locals>.__getattr__\u001b[0;34m(name)\u001b[0m\n\u001b[1;32m    221\u001b[0m     \u001b[38;5;28;01mreturn\u001b[39;00m props[name]\u001b[38;5;241m.\u001b[39m\u001b[38;5;21m__get__\u001b[39m(instance)\n\u001b[0;32m--> 222\u001b[0m \u001b[38;5;28;01mraise\u001b[39;00m \u001b[38;5;167;01mAttributeError\u001b[39;00m(\n\u001b[1;32m    223\u001b[0m     \u001b[38;5;124mf\u001b[39m\u001b[38;5;124m\"\u001b[39m\u001b[38;5;124mmodule \u001b[39m\u001b[38;5;132;01m{\u001b[39;00m\u001b[38;5;28mcls\u001b[39m\u001b[38;5;241m.\u001b[39m\u001b[38;5;18m__module__\u001b[39m\u001b[38;5;132;01m!r}\u001b[39;00m\u001b[38;5;124m has no attribute \u001b[39m\u001b[38;5;132;01m{\u001b[39;00mname\u001b[38;5;132;01m!r}\u001b[39;00m\u001b[38;5;124m\"\u001b[39m)\n",
      "\u001b[0;31mAttributeError\u001b[0m: module 'matplotlib' has no attribute 'DisplayImpl'",
      "\nDuring handling of the above exception, another exception occurred:\n",
      "\u001b[0;31mRuntimeError\u001b[0m                              Traceback (most recent call last)",
      "Input \u001b[0;32mIn [11]\u001b[0m, in \u001b[0;36m<cell line: 1>\u001b[0;34m()\u001b[0m\n\u001b[0;32m----> 1\u001b[0m \u001b[43mafwDisplay\u001b[49m\u001b[38;5;241;43m.\u001b[39;49m\u001b[43msetDefaultBackend\u001b[49m\u001b[43m(\u001b[49m\u001b[38;5;124;43m'\u001b[39;49m\u001b[38;5;124;43mmatplotlib\u001b[39;49m\u001b[38;5;124;43m'\u001b[39;49m\u001b[43m)\u001b[49m\n\u001b[1;32m      2\u001b[0m fig, ax \u001b[38;5;241m=\u001b[39m plt\u001b[38;5;241m.\u001b[39msubplots()\n\u001b[1;32m      3\u001b[0m display \u001b[38;5;241m=\u001b[39m afwDisplay\u001b[38;5;241m.\u001b[39mDisplay(frame\u001b[38;5;241m=\u001b[39mfig)\n",
      "File \u001b[0;32m/projects/HSC/LSST/stack_20220527/conda/envs/lsst-scipipe-4.0.1/share/eups/Linux64/afw/gba47b54d5d+94dc90c3ea/python/lsst/afw/display/interface.py:871\u001b[0m, in \u001b[0;36msetDefaultBackend\u001b[0;34m(backend)\u001b[0m\n\u001b[1;32m    870\u001b[0m \u001b[38;5;28;01mdef\u001b[39;00m \u001b[38;5;21msetDefaultBackend\u001b[39m(backend):\n\u001b[0;32m--> 871\u001b[0m     \u001b[43mDisplay\u001b[49m\u001b[38;5;241;43m.\u001b[39;49m\u001b[43msetDefaultBackend\u001b[49m\u001b[43m(\u001b[49m\u001b[43mbackend\u001b[49m\u001b[43m)\u001b[49m\n",
      "File \u001b[0;32m/projects/HSC/LSST/stack_20220527/conda/envs/lsst-scipipe-4.0.1/share/eups/Linux64/afw/gba47b54d5d+94dc90c3ea/python/lsst/afw/display/interface.py:269\u001b[0m, in \u001b[0;36mDisplay.setDefaultBackend\u001b[0;34m(backend)\u001b[0m\n\u001b[1;32m    267\u001b[0m     _makeDisplayImpl(\u001b[38;5;28;01mNone\u001b[39;00m, backend)\n\u001b[1;32m    268\u001b[0m \u001b[38;5;28;01mexcept\u001b[39;00m \u001b[38;5;167;01mException\u001b[39;00m \u001b[38;5;28;01mas\u001b[39;00m e:\n\u001b[0;32m--> 269\u001b[0m     \u001b[38;5;28;01mraise\u001b[39;00m \u001b[38;5;167;01mRuntimeError\u001b[39;00m(\n\u001b[1;32m    270\u001b[0m         \u001b[38;5;124mf\u001b[39m\u001b[38;5;124m\"\u001b[39m\u001b[38;5;124mUnable to set backend to \u001b[39m\u001b[38;5;132;01m{\u001b[39;00mbackend\u001b[38;5;132;01m}\u001b[39;00m\u001b[38;5;124m: \u001b[39m\u001b[38;5;130;01m\\\"\u001b[39;00m\u001b[38;5;132;01m{\u001b[39;00me\u001b[38;5;132;01m}\u001b[39;00m\u001b[38;5;130;01m\\\"\u001b[39;00m\u001b[38;5;124m\"\u001b[39m)\n\u001b[1;32m    272\u001b[0m Display\u001b[38;5;241m.\u001b[39m_defaultBackend \u001b[38;5;241m=\u001b[39m backend\n",
      "\u001b[0;31mRuntimeError\u001b[0m: Unable to set backend to matplotlib: \"module 'matplotlib' has no attribute 'DisplayImpl'\""
     ]
    }
   ],
   "source": [
    "afwDisplay.setDefaultBackend('matplotlib')\n",
    "fig, ax = plt.subplots()\n",
    "display = afwDisplay.Display(frame=fig)\n",
    "display.scale(\"linear\", \"zscale\")\n",
    "display.setMaskTransparency(80)\n",
    "obj = gaap.refCatInBand[recordId]\n",
    "footprint = obj.getFootprint()\n",
    "bbox = footprint.getBBox()\n",
    "cutout = gaap.exposure[bbox]\n",
    "display.mtv(cutout)\n",
    "display.dot(shape, *obj.getCentroid()) #*bbox.getCenter())\n",
    "# ax[1].set_title(f\"recordId = {recordId}\")"
   ]
  },
  {
   "cell_type": "code",
   "execution_count": null,
   "id": "8392075c",
   "metadata": {},
   "outputs": [],
   "source": []
  },
  {
   "cell_type": "code",
   "execution_count": null,
   "id": "c4562f79",
   "metadata": {},
   "outputs": [],
   "source": []
  },
  {
   "cell_type": "code",
   "execution_count": null,
   "id": "9a8479c0",
   "metadata": {},
   "outputs": [],
   "source": []
  },
  {
   "cell_type": "code",
   "execution_count": null,
   "id": "c2cce670",
   "metadata": {},
   "outputs": [],
   "source": []
  },
  {
   "cell_type": "code",
   "execution_count": 241,
   "id": "a7fcdfd1",
   "metadata": {},
   "outputs": [
    {
     "data": {
      "text/plain": [
       "(array([], dtype=int64),)"
      ]
     },
     "execution_count": 241,
     "metadata": {},
     "output_type": "execute_result"
    }
   ],
   "source": [
    "np.where(gaap.refCat['id'] == 3495906016606815036)"
   ]
  },
  {
   "cell_type": "code",
   "execution_count": null,
   "id": "2dafc348",
   "metadata": {},
   "outputs": [],
   "source": []
  },
  {
   "cell_type": "code",
   "execution_count": null,
   "id": "81a9d7f7",
   "metadata": {},
   "outputs": [],
   "source": []
  },
  {
   "cell_type": "code",
   "execution_count": null,
   "id": "da585e22",
   "metadata": {},
   "outputs": [],
   "source": []
  },
  {
   "cell_type": "code",
   "execution_count": null,
   "id": "8373ac06",
   "metadata": {},
   "outputs": [],
   "source": []
  },
  {
   "cell_type": "code",
   "execution_count": 184,
   "id": "e090e879",
   "metadata": {},
   "outputs": [
    {
     "data": {
      "text/plain": [
       "(Angle(150.13787587649813, degrees), Angle(150.13787587649813, degrees))"
      ]
     },
     "execution_count": 184,
     "metadata": {},
     "output_type": "execute_result"
    }
   ],
   "source": [
    "gaap.refCat[recordId]['coord_ra'], gaap.refCatInBand[recordId]['coord_ra']"
   ]
  },
  {
   "cell_type": "code",
   "execution_count": 185,
   "id": "234c2920",
   "metadata": {},
   "outputs": [
    {
     "data": {
      "text/plain": [
       "(Angle(1.9039421833395893, degrees), Angle(1.9039421833395893, degrees))"
      ]
     },
     "execution_count": 185,
     "metadata": {},
     "output_type": "execute_result"
    }
   ],
   "source": [
    "gaap.refCat[recordId]['coord_dec'], gaap.refCatInBand[recordId]['coord_dec']"
   ]
  },
  {
   "cell_type": "code",
   "execution_count": 155,
   "id": "7b9a8d50",
   "metadata": {},
   "outputs": [],
   "source": [
    "f = gaap.refCatInBand[recordId].getFootprint()"
   ]
  },
  {
   "cell_type": "code",
   "execution_count": 156,
   "id": "bf766c21",
   "metadata": {},
   "outputs": [
    {
     "data": {
      "text/plain": [
       "Box2I(corner=Point2I(0, 0), dimensions=Extent2I(0, 0))"
      ]
     },
     "execution_count": 156,
     "metadata": {},
     "output_type": "execute_result"
    }
   ],
   "source": [
    "f.getRegion()"
   ]
  },
  {
   "cell_type": "code",
   "execution_count": null,
   "id": "a3f30735",
   "metadata": {},
   "outputs": [],
   "source": []
  },
  {
   "cell_type": "code",
   "execution_count": null,
   "id": "ecbb2dad",
   "metadata": {},
   "outputs": [],
   "source": []
  },
  {
   "cell_type": "code",
   "execution_count": 279,
   "id": "486adf63",
   "metadata": {},
   "outputs": [
    {
     "data": {
      "text/plain": [
       "(1 peaks, area=197, centroid=(26260, 9329),\n",
       " 1 peaks, area=1433, centroid=(25757.5, 8038.73))"
      ]
     },
     "execution_count": 279,
     "metadata": {},
     "output_type": "execute_result"
    }
   ],
   "source": [
    "gaap.refCat[recordId].getFootprint(), gaap.refCatInBand[recordId].getFootprint()"
   ]
  },
  {
   "cell_type": "code",
   "execution_count": 280,
   "id": "64dcf915",
   "metadata": {},
   "outputs": [
    {
     "data": {
      "text/plain": [
       "(Point2D(25755.02371535539, 8036.9627385319982),\n",
       " Point2D(25755.02371535539, 8036.9627385319982))"
      ]
     },
     "execution_count": 280,
     "metadata": {},
     "output_type": "execute_result"
    }
   ],
   "source": [
    "gaap.refCat[recordId].getCentroid(), gaap.refCatInBand[recordId].getCentroid()"
   ]
  },
  {
   "cell_type": "code",
   "execution_count": 281,
   "id": "e53386fd",
   "metadata": {},
   "outputs": [
    {
     "data": {
      "text/plain": [
       "(Angle(149.88583075202334, degrees), Angle(1.7664848325281512, degrees))"
      ]
     },
     "execution_count": 281,
     "metadata": {},
     "output_type": "execute_result"
    }
   ],
   "source": [
    "gaap.refCat[recordId]['coord_ra'], gaap.refCat[recordId]['coord_dec']"
   ]
  },
  {
   "cell_type": "code",
   "execution_count": 282,
   "id": "18091cbe",
   "metadata": {},
   "outputs": [
    {
     "data": {
      "text/plain": [
       "(Angle(149.88583075202334, degrees), Angle(1.7664848325281512, degrees))"
      ]
     },
     "execution_count": 282,
     "metadata": {},
     "output_type": "execute_result"
    }
   ],
   "source": [
    "gaap.refCatInBand[recordId]['coord_ra'], gaap.refCatInBand[recordId]['coord_dec']"
   ]
  },
  {
   "cell_type": "code",
   "execution_count": null,
   "id": "e471af85",
   "metadata": {},
   "outputs": [],
   "source": []
  },
  {
   "cell_type": "code",
   "execution_count": null,
   "id": "ad5de178",
   "metadata": {},
   "outputs": [],
   "source": []
  },
  {
   "cell_type": "code",
   "execution_count": null,
   "id": "0582757c",
   "metadata": {},
   "outputs": [],
   "source": []
  },
  {
   "cell_type": "code",
   "execution_count": 84,
   "id": "60af48b3",
   "metadata": {},
   "outputs": [],
   "source": [
    "gaap.exposure.writeFits('//projects/MERIAN/repo/S20A//test.fits')"
   ]
  },
  {
   "cell_type": "code",
   "execution_count": null,
   "id": "f748698b",
   "metadata": {},
   "outputs": [],
   "source": []
  },
  {
   "cell_type": "code",
   "execution_count": null,
   "id": "397235e9",
   "metadata": {},
   "outputs": [],
   "source": []
  },
  {
   "cell_type": "code",
   "execution_count": null,
   "id": "ab592a7c",
   "metadata": {},
   "outputs": [],
   "source": []
  },
  {
   "cell_type": "code",
   "execution_count": 79,
   "id": "b1d0aac0",
   "metadata": {},
   "outputs": [
    {
     "data": {
      "text/plain": [
       "10 peaks, area=2524, centroid=(23070.4, 7936.81)"
      ]
     },
     "execution_count": 79,
     "metadata": {},
     "output_type": "execute_result"
    }
   ],
   "source": [
    "footprint"
   ]
  },
  {
   "cell_type": "code",
   "execution_count": null,
   "id": "f88d8693",
   "metadata": {},
   "outputs": [],
   "source": []
  },
  {
   "cell_type": "code",
   "execution_count": null,
   "id": "56ef3350",
   "metadata": {},
   "outputs": [],
   "source": []
  },
  {
   "cell_type": "code",
   "execution_count": null,
   "id": "5e9ed1f0",
   "metadata": {},
   "outputs": [],
   "source": []
  },
  {
   "cell_type": "code",
   "execution_count": null,
   "id": "281c79c5",
   "metadata": {},
   "outputs": [],
   "source": []
  },
  {
   "cell_type": "code",
   "execution_count": 72,
   "id": "a12923ff",
   "metadata": {},
   "outputs": [
    {
     "name": "stdout",
     "output_type": "stream",
     "text": [
      "3.8075322042763746\n"
     ]
    },
    {
     "data": {
      "text/plain": [
       "Text(0.5, 1.0, 'recordId = 44')"
      ]
     },
     "execution_count": 72,
     "metadata": {},
     "output_type": "execute_result"
    },
    {
     "data": {
      "image/png": "[encoded data removed]",
      "text/plain": [
       "<Figure size 936x288 with 3 Axes>"
      ]
     },
     "metadata": {
      "needs_background": "light"
     },
     "output_type": "display_data"
    }
   ],
   "source": [
    "recordId = 44\n",
    "scalingFactor = 1.15\n",
    "\n",
    "def printShape(shape):\n",
    "    ixx, iyy, ixy = shape.getParameterVector()\n",
    "    det = shape.getDeterminantRadius()\n",
    "    complex_ellip = ((ixx-iyy)+1j*2*ixy)/(ixx+iyy)\n",
    "    ellip = np.hypot(complex_ellip.real, complex_ellip.imag)\n",
    "#     return f\"Quad(ixx={ixx:.2f}, iyy={iyy:.2f}, ixy={ixy:.2f}); det={det:.1f}; |e|={ellip:.2f}\"\n",
    "    return rf\"$\\sigma = ${det:.1f}; |e|={ellip:.2f}\"\n",
    "\n",
    "def getSnr(sigmas):\n",
    "    for sigma in sigmas:\n",
    "        baseName = measureConfig.plugins[\"ext_gaap_GaapFlux\"]._getGaapResultName(scalingFactor, sigma, \"ext_gaap_GaapFlux\")\n",
    "        snr = gaap.measCat[recordId][baseName+\"_instFlux\"]/gaap.measCat[recordId][baseName+\"_instFluxErr\"]\n",
    "        yield snr\n",
    "        \n",
    "sigmas = np.array(measureConfig.plugins[\"ext_gaap_GaapFlux\"].sigmas)\n",
    "snrs = np.array(list(getSnr(sigmas)))\n",
    "\n",
    "fig, ax = plt.subplots(1, 2, figsize=(13,4))\n",
    "ax[0].plot(sigmas[snrs>0], snrs[snrs>0], 'o--')\n",
    "\n",
    "shape = gaap.measCat[recordId].getShape()\n",
    "optShape = afwGeom.Quadrupole(gaap.measCat[recordId][\"ext_gaap_GaapFlux_OptimalShape_xx\"],\n",
    "                              gaap.measCat[recordId][\"ext_gaap_GaapFlux_OptimalShape_yy\"],\n",
    "                              gaap.measCat[recordId][\"ext_gaap_GaapFlux_OptimalShape_xy\"],)\n",
    "sigma = optShape.getDeterminantRadius()\n",
    "print(sigma)\n",
    "snr = list(getSnr((\"Optimal\",)))[0]\n",
    "ax[0].plot(sigma, snr, '*', label='Optimal elliptical aperture')\n",
    "\n",
    "ax[0].set_ylabel(\"SNR\")\n",
    "ax[0].set_xlabel(\"Aperture radius (pix)\")\n",
    "ax[0].set_title(printShape(shape))\n",
    "#plt.yscale('log')\n",
    "ax[0].legend(loc='best')\n",
    "\n",
    "\n",
    "afwDisplay.setDefaultBackend('matplotlib')\n",
    "plt.sca(ax[1])\n",
    "display = afwDisplay.Display(frame=fig)\n",
    "display.scale(\"linear\", \"zscale\")\n",
    "# display.setMaskTransparency(100)\n",
    "footprint = gaap.refCat[recordId].getFootprint()\n",
    "bbox = footprint.getBBox()\n",
    "cutout = gaap.exposure[bbox]\n",
    "display.mtv(cutout)\n",
    "display.dot(shape, *bbox.getCenter())\n",
    "ax[1].set_title(f\"recordId = {recordId}\")"
   ]
  },
  {
   "cell_type": "code",
   "execution_count": null,
   "id": "0daeafac",
   "metadata": {},
   "outputs": [],
   "source": []
  },
  {
   "cell_type": "code",
   "execution_count": null,
   "id": "1933359f",
   "metadata": {},
   "outputs": [],
   "source": []
  },
  {
   "cell_type": "code",
   "execution_count": 64,
   "id": "14aaeaf3",
   "metadata": {},
   "outputs": [
    {
     "data": {
      "text/plain": [
       "Quadrupole(ixx=3.7529623506152876, iyy=19.116250473270973, ixy=3.007067162054985)"
      ]
     },
     "execution_count": 64,
     "metadata": {},
     "output_type": "execute_result"
    }
   ],
   "source": [
    "shape"
   ]
  },
  {
   "cell_type": "code",
   "execution_count": null,
   "id": "6b1aefc0",
   "metadata": {},
   "outputs": [],
   "source": []
  }
 ],
 "metadata": {
  "kernelspec": {
   "display_name": "Python 3 (ipykernel)",
   "language": "python",
   "name": "python3"
  },
  "language_info": {
   "codemirror_mode": {
    "name": "ipython",
    "version": 3
   },
   "file_extension": ".py",
   "mimetype": "text/x-python",
   "name": "python",
   "nbconvert_exporter": "python",
   "pygments_lexer": "ipython3",
   "version": "3.10.5"
  }
 },
 "nbformat": 4,
 "nbformat_minor": 5
}
