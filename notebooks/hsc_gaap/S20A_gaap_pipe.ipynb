{
 "cells": [
  {
   "cell_type": "code",
   "execution_count": 1,
   "id": "a13ed325",
   "metadata": {},
   "outputs": [],
   "source": [
    "%load_ext autoreload\n",
    "%autoreload 2\n",
    "\n",
    "import numpy as np\n",
    "import time\n",
    "import matplotlib.pyplot as plt\n",
    "import lsst.meas.base\n",
    "import lsst.pex.config\n",
    "\n",
    "import lsst.afw.table\n",
    "import lsst.meas.algorithms\n",
    "import lsst.pex.exceptions\n",
    "import lsst.meas.extensions.gaap"
   ]
  },
  {
   "cell_type": "code",
   "execution_count": 2,
   "id": "fb519b8b",
   "metadata": {},
   "outputs": [],
   "source": [
    "from astropy.io import fits\n",
    "from astropy.table import Table, hstack\n",
    "import sys\n",
    "sys.path.append('/home/jiaxuanl/Research/Merian/merian_tractor/scripts/')"
   ]
  },
  {
   "cell_type": "markdown",
   "id": "246b3491",
   "metadata": {},
   "source": [
    "get existing patches"
   ]
  },
  {
   "cell_type": "code",
   "execution_count": 3,
   "id": "48fc871c",
   "metadata": {},
   "outputs": [],
   "source": [
    "import os\n",
    "old_patches = [name for name in os.listdir(\n",
    "    \"/projects/MERIAN/repo/S20A/deepCoadd_calexp/9813/\")]\n",
    "new_patches = [int(name[0]) + int(name[2]) * 9 for name in old_patches]\n",
    "merian_patches = [int(name) for name in os.listdir(\n",
    "    \"/projects/MERIAN/repo/DECam/runs/merian/dr1_wide/20220921T193246Z/deepCoadd_forced_src/9813\")]\n",
    "common_patches = np.intersect1d(new_patches, merian_patches)"
   ]
  },
  {
   "cell_type": "markdown",
   "id": "e34e565a",
   "metadata": {},
   "source": [
    "rsync -azv --progress jiaxuanl@tiger.princeton.edu://projects/MERIAN/repo/S20A/gaapTable/9813/6,2/gaapTable_I_9813_6,2.fits ./"
   ]
  },
  {
   "cell_type": "code",
   "execution_count": 11,
   "id": "c4be03aa",
   "metadata": {},
   "outputs": [
    {
     "data": {
      "text/plain": [
       "array([23, 24, 25])"
      ]
     },
     "execution_count": 11,
     "metadata": {},
     "output_type": "execute_result"
    }
   ],
   "source": [
    "common_patches[20:23]"
   ]
  },
  {
   "cell_type": "code",
   "execution_count": 4,
   "id": "4b409791",
   "metadata": {},
   "outputs": [
    {
     "name": "stdout",
     "output_type": "stream",
     "text": [
      "Overriding default configuration file with /projects/HSC/LSST/stack_20220527/conda/envs/lsst-scipipe-4.1.0/share/eups/Linux64/dustmaps_cachedata/g41a3ec361e+62d12e78cb/config/.dustmapsrc\n"
     ]
    }
   ],
   "source": [
    "from hsc_gaap.gaap import GaapTask, consolidateMerianCats, NaiveLogger"
   ]
  },
  {
   "cell_type": "code",
   "execution_count": 5,
   "id": "a3cab61c",
   "metadata": {},
   "outputs": [],
   "source": [
    "gaap = GaapTask(9813, 79, 'grizy', \n",
    "                hsc_type='S20A',\n",
    "                repo='/projects/MERIAN/repo/', \n",
    "                collections='S20A/deepCoadd_calexp', \n",
    "                log_level='INFO', logger=NaiveLogger(None))\n",
    "\n",
    "# gaap = GaapTask(9813, 11, 'i', hsc_type='w_2022_40',\n",
    "#                 repo='/projects/HSC/repo/main',\n",
    "#                 collections='HSC/runs/RC2/w_2022_40/DM-36151')\n",
    "# gaap = GaapTask(9813, 11, 'gr', hsc_type='w_2022_04',\n",
    "#                             repo='/projects/MERIAN/repo/',\n",
    "#                             collections='HSC/runs/RC2/w_2022_04/DM-33402')\n",
    "\n",
    "gaap.load_merian_reference(band='N708', \n",
    "                           repo='/projects/MERIAN/repo/', \n",
    "                           collections='DECam/runs/merian/dr1_wide',\n",
    "#                            range=(0, 100)\n",
    "                          )"
   ]
  },
  {
   "cell_type": "code",
   "execution_count": 6,
   "id": "f0987b5c",
   "metadata": {},
   "outputs": [],
   "source": [
    "gaap.setDefaultMeasureConfig()"
   ]
  },
  {
   "cell_type": "code",
   "execution_count": 9,
   "id": "f932be82",
   "metadata": {},
   "outputs": [],
   "source": [
    "import lsst.daf.butler as dafButler"
   ]
  },
  {
   "cell_type": "code",
   "execution_count": 11,
   "id": "c9a391ff",
   "metadata": {
    "scrolled": true
   },
   "outputs": [],
   "source": [
    "butler = dafButler.Butler(\"/projects/MERIAN/repo\")\n",
    "\n",
    "skymap = butler.get(\"skyMap\", skymap=\"hsc_rings_v1\", collections=\"skymaps\")\n",
    "\n",
    "tract = skymap.generateTract(9813)"
   ]
  },
  {
   "cell_type": "code",
   "execution_count": null,
   "id": "80ba39e7",
   "metadata": {},
   "outputs": [],
   "source": []
  },
  {
   "cell_type": "code",
   "execution_count": null,
   "id": "94fb2e17",
   "metadata": {},
   "outputs": [],
   "source": []
  },
  {
   "cell_type": "code",
   "execution_count": 7,
   "id": "808a5aab",
   "metadata": {},
   "outputs": [
    {
     "name": "stderr",
     "output_type": "stream",
     "text": [
      "14:16:59, GaapMaster: INFO     - Patch 79: Generating ForcedPhotCoadd catalog for g band\n",
      "/projects/HSC/LSST/stack_20220527/conda/envs/lsst-scipipe-4.1.0/share/eups/Linux64/scarlet/g9f0f391e47+4083830bf8/lib/python/scarlet/lite/measure.py:85: RuntimeWarning: divide by zero encountered in true_divide\n",
      "  ratio = numerator / denominator\n",
      "/projects/HSC/LSST/stack_20220527/conda/envs/lsst-scipipe-4.1.0/share/eups/Linux64/scarlet/g9f0f391e47+4083830bf8/lib/python/scarlet/lite/measure.py:85: RuntimeWarning: invalid value encountered in true_divide\n",
      "  ratio = numerator / denominator\n",
      "14:19:19, GaapMaster: INFO     - Patch 79: Running ForcedPhotCoaddTask on g band\n"
     ]
    },
    {
     "name": "stdout",
     "output_type": "stream",
     "text": [
      "# Starting the GAaP measureTask for patch=79, band=g at Fri Dec 16 14:19:19 2022\n"
     ]
    },
    {
     "name": "stderr",
     "output_type": "stream",
     "text": [
      "14:19:19, lsst.forcedPhotCoadd.measurement: INFO Performing forced measurement on 31425 sources\n"
     ]
    },
    {
     "ename": "KeyboardInterrupt",
     "evalue": "",
     "output_type": "error",
     "traceback": [
      "\u001b[0;31m---------------------------------------------------------------------------\u001b[0m",
      "\u001b[0;31mKeyboardInterrupt\u001b[0m                         Traceback (most recent call last)",
      "Input \u001b[0;32mIn [7]\u001b[0m, in \u001b[0;36m<cell line: 1>\u001b[0;34m()\u001b[0m\n\u001b[0;32m----> 1\u001b[0m \u001b[43mgaap\u001b[49m\u001b[38;5;241;43m.\u001b[39;49m\u001b[43mrunAll\u001b[49m\u001b[43m(\u001b[49m\u001b[43m)\u001b[49m\n",
      "File \u001b[0;32m~/Research/Merian/merian_tractor/scripts/hsc_gaap/gaap.py:316\u001b[0m, in \u001b[0;36mGaapTask.runAll\u001b[0;34m(self, pool)\u001b[0m\n\u001b[1;32m    314\u001b[0m \u001b[38;5;28;01melse\u001b[39;00m:\n\u001b[1;32m    315\u001b[0m     \u001b[38;5;28;01mfor\u001b[39;00m band \u001b[38;5;129;01min\u001b[39;00m \u001b[38;5;28mself\u001b[39m\u001b[38;5;241m.\u001b[39mbands:\n\u001b[0;32m--> 316\u001b[0m         \u001b[38;5;28;43mself\u001b[39;49m\u001b[38;5;241;43m.\u001b[39;49m\u001b[43mrun\u001b[49m\u001b[43m(\u001b[49m\u001b[43mband\u001b[49m\u001b[43m)\u001b[49m\n",
      "File \u001b[0;32m~/Research/Merian/merian_tractor/scripts/hsc_gaap/gaap.py:344\u001b[0m, in \u001b[0;36mGaapTask.run\u001b[0;34m(self, band)\u001b[0m\n\u001b[1;32m    341\u001b[0m \u001b[38;5;28mprint\u001b[39m(\n\u001b[1;32m    342\u001b[0m     \u001b[38;5;124mf\u001b[39m\u001b[38;5;124m\"\u001b[39m\u001b[38;5;124m# Starting the GAaP measureTask for patch=\u001b[39m\u001b[38;5;132;01m{\u001b[39;00m\u001b[38;5;28mself\u001b[39m\u001b[38;5;241m.\u001b[39mpatch\u001b[38;5;132;01m}\u001b[39;00m\u001b[38;5;124m, band=\u001b[39m\u001b[38;5;132;01m{\u001b[39;00mband\u001b[38;5;132;01m}\u001b[39;00m\u001b[38;5;124m at\u001b[39m\u001b[38;5;124m\"\u001b[39m, time\u001b[38;5;241m.\u001b[39mctime())\n\u001b[1;32m    343\u001b[0m t1 \u001b[38;5;241m=\u001b[39m time\u001b[38;5;241m.\u001b[39mtime()\n\u001b[0;32m--> 344\u001b[0m \u001b[43mmeasureTask\u001b[49m\u001b[38;5;241;43m.\u001b[39;49m\u001b[43mrun\u001b[49m\u001b[43m(\u001b[49m\u001b[43mmeasCat\u001b[49m\u001b[43m,\u001b[49m\n\u001b[1;32m    345\u001b[0m \u001b[43m                \u001b[49m\u001b[38;5;28;43mself\u001b[39;49m\u001b[38;5;241;43m.\u001b[39;49m\u001b[43mexposures\u001b[49m\u001b[43m[\u001b[49m\u001b[43mband\u001b[49m\u001b[43m]\u001b[49m\u001b[43m,\u001b[49m\n\u001b[1;32m    346\u001b[0m \u001b[43m                \u001b[49m\u001b[43mrefCat\u001b[49m\u001b[38;5;241;43m=\u001b[39;49m\u001b[38;5;28;43mself\u001b[39;49m\u001b[38;5;241;43m.\u001b[39;49m\u001b[43mrefCat\u001b[49m\u001b[43m,\u001b[49m\n\u001b[1;32m    347\u001b[0m \u001b[43m                \u001b[49m\u001b[43mrefWcs\u001b[49m\u001b[38;5;241;43m=\u001b[39;49m\u001b[38;5;28;43mself\u001b[39;49m\u001b[38;5;241;43m.\u001b[39;49m\u001b[43mrefExposure\u001b[49m\u001b[38;5;241;43m.\u001b[39;49m\u001b[43mwcs\u001b[49m\u001b[43m,\u001b[49m\n\u001b[1;32m    348\u001b[0m \u001b[43m                \u001b[49m\u001b[43mexposureId\u001b[49m\u001b[38;5;241;43m=\u001b[39;49m\u001b[43mexposureID\u001b[49m\u001b[43m)\u001b[49m\n\u001b[1;32m    349\u001b[0m t2 \u001b[38;5;241m=\u001b[39m time\u001b[38;5;241m.\u001b[39mtime()\n\u001b[1;32m    350\u001b[0m logger\u001b[38;5;241m.\u001b[39minfo(\n\u001b[1;32m    351\u001b[0m     \u001b[38;5;124mf\u001b[39m\u001b[38;5;124m'\u001b[39m\u001b[38;5;124m    - Patch \u001b[39m\u001b[38;5;132;01m{\u001b[39;00m\u001b[38;5;28mself\u001b[39m\u001b[38;5;241m.\u001b[39mpatch\u001b[38;5;132;01m}\u001b[39;00m\u001b[38;5;124m: band \u001b[39m\u001b[38;5;132;01m{\u001b[39;00mband\u001b[38;5;132;01m}\u001b[39;00m\u001b[38;5;124m, Finished ForcedPhotCoaddTask in \u001b[39m\u001b[38;5;132;01m{\u001b[39;00m(t2 \u001b[38;5;241m-\u001b[39m t1)\u001b[38;5;132;01m:\u001b[39;00m\u001b[38;5;124m.2f\u001b[39m\u001b[38;5;132;01m}\u001b[39;00m\u001b[38;5;124m seconds\u001b[39m\u001b[38;5;124m'\u001b[39m)\n",
      "File \u001b[0;32m/projects/HSC/LSST/stack_20220527/conda/envs/lsst-scipipe-4.1.0/share/eups/Linux64/meas_base/ge79e97c755+d4d2369e8a/python/lsst/meas/base/forcedPhotCoadd.py:330\u001b[0m, in \u001b[0;36mForcedPhotCoaddTask.run\u001b[0;34m(self, measCat, exposure, refCat, refWcs, exposureId)\u001b[0m\n\u001b[1;32m    303\u001b[0m \u001b[38;5;28;01mdef\u001b[39;00m \u001b[38;5;21mrun\u001b[39m(\u001b[38;5;28mself\u001b[39m, measCat, exposure, refCat, refWcs, exposureId\u001b[38;5;241m=\u001b[39m\u001b[38;5;28;01mNone\u001b[39;00m):\n\u001b[1;32m    304\u001b[0m     \u001b[38;5;124;03m\"\"\"Perform forced measurement on a single exposure.\u001b[39;00m\n\u001b[1;32m    305\u001b[0m \n\u001b[1;32m    306\u001b[0m \u001b[38;5;124;03m    Parameters\u001b[39;00m\n\u001b[0;32m   (...)\u001b[0m\n\u001b[1;32m    328\u001b[0m \u001b[38;5;124;03m            (`lsst.afw.table.SourceCatalog`).\u001b[39;00m\n\u001b[1;32m    329\u001b[0m \u001b[38;5;124;03m    \"\"\"\u001b[39;00m\n\u001b[0;32m--> 330\u001b[0m     \u001b[38;5;28;43mself\u001b[39;49m\u001b[38;5;241;43m.\u001b[39;49m\u001b[43mmeasurement\u001b[49m\u001b[38;5;241;43m.\u001b[39;49m\u001b[43mrun\u001b[49m\u001b[43m(\u001b[49m\u001b[43mmeasCat\u001b[49m\u001b[43m,\u001b[49m\u001b[43m \u001b[49m\u001b[43mexposure\u001b[49m\u001b[43m,\u001b[49m\u001b[43m \u001b[49m\u001b[43mrefCat\u001b[49m\u001b[43m,\u001b[49m\u001b[43m \u001b[49m\u001b[43mrefWcs\u001b[49m\u001b[43m,\u001b[49m\u001b[43m \u001b[49m\u001b[43mexposureId\u001b[49m\u001b[38;5;241;43m=\u001b[39;49m\u001b[43mexposureId\u001b[49m\u001b[43m)\u001b[49m\n\u001b[1;32m    331\u001b[0m     \u001b[38;5;28;01mif\u001b[39;00m \u001b[38;5;28mself\u001b[39m\u001b[38;5;241m.\u001b[39mconfig\u001b[38;5;241m.\u001b[39mdoApCorr:\n\u001b[1;32m    332\u001b[0m         \u001b[38;5;28mself\u001b[39m\u001b[38;5;241m.\u001b[39mapplyApCorr\u001b[38;5;241m.\u001b[39mrun(\n\u001b[1;32m    333\u001b[0m             catalog\u001b[38;5;241m=\u001b[39mmeasCat,\n\u001b[1;32m    334\u001b[0m             apCorrMap\u001b[38;5;241m=\u001b[39mexposure\u001b[38;5;241m.\u001b[39mgetInfo()\u001b[38;5;241m.\u001b[39mgetApCorrMap()\n\u001b[1;32m    335\u001b[0m         )\n",
      "File \u001b[0;32m/projects/HSC/LSST/stack_20220527/conda/envs/lsst-scipipe-4.1.0/share/eups/Linux64/meas_base/ge79e97c755+d4d2369e8a/python/lsst/meas/base/forcedMeasurement.py:366\u001b[0m, in \u001b[0;36mForcedMeasurementTask.run\u001b[0;34m(self, measCat, exposure, refCat, refWcs, exposureId, beginOrder, endOrder)\u001b[0m\n\u001b[1;32m    364\u001b[0m \u001b[38;5;28;01mfor\u001b[39;00m refChildRecord, measChildRecord \u001b[38;5;129;01min\u001b[39;00m \u001b[38;5;28mzip\u001b[39m(refChildCat, measChildCat):\n\u001b[1;32m    365\u001b[0m     noiseReplacer\u001b[38;5;241m.\u001b[39minsertSource(refChildRecord\u001b[38;5;241m.\u001b[39mgetId())\n\u001b[0;32m--> 366\u001b[0m     \u001b[38;5;28;43mself\u001b[39;49m\u001b[38;5;241;43m.\u001b[39;49m\u001b[43mcallMeasure\u001b[49m\u001b[43m(\u001b[49m\u001b[43mmeasChildRecord\u001b[49m\u001b[43m,\u001b[49m\u001b[43m \u001b[49m\u001b[43mexposure\u001b[49m\u001b[43m,\u001b[49m\u001b[43m \u001b[49m\u001b[43mrefChildRecord\u001b[49m\u001b[43m,\u001b[49m\u001b[43m \u001b[49m\u001b[43mrefWcs\u001b[49m\u001b[43m,\u001b[49m\n\u001b[1;32m    367\u001b[0m \u001b[43m                     \u001b[49m\u001b[43mbeginOrder\u001b[49m\u001b[38;5;241;43m=\u001b[39;49m\u001b[43mbeginOrder\u001b[49m\u001b[43m,\u001b[49m\u001b[43m \u001b[49m\u001b[43mendOrder\u001b[49m\u001b[38;5;241;43m=\u001b[39;49m\u001b[43mendOrder\u001b[49m\u001b[43m)\u001b[49m\n\u001b[1;32m    368\u001b[0m     noiseReplacer\u001b[38;5;241m.\u001b[39mremoveSource(refChildRecord\u001b[38;5;241m.\u001b[39mgetId())\n\u001b[1;32m    370\u001b[0m \u001b[38;5;66;03m# Then process the parent record\u001b[39;00m\n",
      "File \u001b[0;32m/projects/HSC/LSST/stack_20220527/conda/envs/lsst-scipipe-4.1.0/share/eups/Linux64/meas_base/ge79e97c755+d4d2369e8a/python/lsst/meas/base/baseMeasurement.py:357\u001b[0m, in \u001b[0;36mBaseMeasurementTask.callMeasure\u001b[0;34m(self, measRecord, *args, **kwds)\u001b[0m\n\u001b[1;32m    355\u001b[0m \u001b[38;5;28;01mif\u001b[39;00m endOrder \u001b[38;5;129;01mis\u001b[39;00m \u001b[38;5;129;01mnot\u001b[39;00m \u001b[38;5;28;01mNone\u001b[39;00m \u001b[38;5;129;01mand\u001b[39;00m plugin\u001b[38;5;241m.\u001b[39mgetExecutionOrder() \u001b[38;5;241m>\u001b[39m\u001b[38;5;241m=\u001b[39m endOrder:\n\u001b[1;32m    356\u001b[0m     \u001b[38;5;28;01mbreak\u001b[39;00m\n\u001b[0;32m--> 357\u001b[0m \u001b[38;5;28;43mself\u001b[39;49m\u001b[38;5;241;43m.\u001b[39;49m\u001b[43mdoMeasurement\u001b[49m\u001b[43m(\u001b[49m\u001b[43mplugin\u001b[49m\u001b[43m,\u001b[49m\u001b[43m \u001b[49m\u001b[43mmeasRecord\u001b[49m\u001b[43m,\u001b[49m\u001b[43m \u001b[49m\u001b[38;5;241;43m*\u001b[39;49m\u001b[43margs\u001b[49m\u001b[43m,\u001b[49m\u001b[43m \u001b[49m\u001b[38;5;241;43m*\u001b[39;49m\u001b[38;5;241;43m*\u001b[39;49m\u001b[43mkwds\u001b[49m\u001b[43m)\u001b[49m\n",
      "File \u001b[0;32m/projects/HSC/LSST/stack_20220527/conda/envs/lsst-scipipe-4.1.0/share/eups/Linux64/meas_base/ge79e97c755+d4d2369e8a/python/lsst/meas/base/baseMeasurement.py:387\u001b[0m, in \u001b[0;36mBaseMeasurementTask.doMeasurement\u001b[0;34m(self, plugin, measRecord, *args, **kwds)\u001b[0m\n\u001b[1;32m    360\u001b[0m \u001b[38;5;124;03m\"\"\"Call ``measure`` on the specified plugin.\u001b[39;00m\n\u001b[1;32m    361\u001b[0m \n\u001b[1;32m    362\u001b[0m \u001b[38;5;124;03mExceptions are handled in a consistent way.\u001b[39;00m\n\u001b[0;32m   (...)\u001b[0m\n\u001b[1;32m    384\u001b[0m \u001b[38;5;124;03mderived classes, not users.\u001b[39;00m\n\u001b[1;32m    385\u001b[0m \u001b[38;5;124;03m\"\"\"\u001b[39;00m\n\u001b[1;32m    386\u001b[0m \u001b[38;5;28;01mtry\u001b[39;00m:\n\u001b[0;32m--> 387\u001b[0m     \u001b[43mplugin\u001b[49m\u001b[38;5;241;43m.\u001b[39;49m\u001b[43mmeasure\u001b[49m\u001b[43m(\u001b[49m\u001b[43mmeasRecord\u001b[49m\u001b[43m,\u001b[49m\u001b[43m \u001b[49m\u001b[38;5;241;43m*\u001b[39;49m\u001b[43margs\u001b[49m\u001b[43m,\u001b[49m\u001b[43m \u001b[49m\u001b[38;5;241;43m*\u001b[39;49m\u001b[38;5;241;43m*\u001b[39;49m\u001b[43mkwds\u001b[49m\u001b[43m)\u001b[49m\n\u001b[1;32m    388\u001b[0m \u001b[38;5;28;01mexcept\u001b[39;00m FATAL_EXCEPTIONS:\n\u001b[1;32m    389\u001b[0m     \u001b[38;5;28;01mraise\u001b[39;00m\n",
      "File \u001b[0;32m/projects/HSC/LSST/stack_20220527/conda/envs/lsst-scipipe-4.1.0/share/eups/Linux64/meas_extensions_gaap/g1ef64573c8+4f7b445cec/python/lsst/meas/extensions/gaap/_gaap.py:834\u001b[0m, in \u001b[0;36mForcedGaapFluxPlugin.measure\u001b[0;34m(self, measRecord, exposure, refRecord, refWcs)\u001b[0m\n\u001b[1;32m    832\u001b[0m     \u001b[38;5;66;03m# Record the intrinsic aperture used for optimal photometry.\u001b[39;00m\n\u001b[1;32m    833\u001b[0m     measRecord\u001b[38;5;241m.\u001b[39mset(\u001b[38;5;28mself\u001b[39m\u001b[38;5;241m.\u001b[39moptimalShapeKey, optimalShape)\n\u001b[0;32m--> 834\u001b[0m \u001b[38;5;28;43mself\u001b[39;49m\u001b[38;5;241;43m.\u001b[39;49m\u001b[43m_gaussianizeAndMeasure\u001b[49m\u001b[43m(\u001b[49m\u001b[43mmeasRecord\u001b[49m\u001b[43m,\u001b[49m\u001b[43m \u001b[49m\u001b[43mexposure\u001b[49m\u001b[43m,\u001b[49m\u001b[43m \u001b[49m\u001b[43mcenter\u001b[49m\u001b[43m)\u001b[49m\n",
      "File \u001b[0;32m/projects/HSC/LSST/stack_20220527/conda/envs/lsst-scipipe-4.1.0/share/eups/Linux64/meas_extensions_gaap/g1ef64573c8+4f7b445cec/python/lsst/meas/extensions/gaap/_gaap.py:572\u001b[0m, in \u001b[0;36mBaseGaapFluxMixin._gaussianizeAndMeasure\u001b[0;34m(self, measRecord, exposure, center)\u001b[0m\n\u001b[1;32m    570\u001b[0m targetPsf \u001b[38;5;241m=\u001b[39m afwDetection\u001b[38;5;241m.\u001b[39mGaussianPsf(stampSize, stampSize, targetSigma)\n\u001b[1;32m    571\u001b[0m \u001b[38;5;28;01mtry\u001b[39;00m:\n\u001b[0;32m--> 572\u001b[0m     result \u001b[38;5;241m=\u001b[39m \u001b[38;5;28;43mself\u001b[39;49m\u001b[38;5;241;43m.\u001b[39;49m\u001b[43m_gaussianize\u001b[49m\u001b[43m(\u001b[49m\u001b[43mexposure\u001b[49m\u001b[43m,\u001b[49m\u001b[43m \u001b[49m\u001b[43mtargetPsf\u001b[49m\u001b[43m,\u001b[49m\u001b[43m \u001b[49m\u001b[43mmeasRecord\u001b[49m\u001b[43m)\u001b[49m\n\u001b[1;32m    573\u001b[0m \u001b[38;5;28;01mexcept\u001b[39;00m \u001b[38;5;167;01mException\u001b[39;00m \u001b[38;5;28;01mas\u001b[39;00m error:\n\u001b[1;32m    574\u001b[0m     errorCollection[\u001b[38;5;28mstr\u001b[39m(scalingFactor)] \u001b[38;5;241m=\u001b[39m error\n",
      "File \u001b[0;32m/projects/HSC/LSST/stack_20220527/conda/envs/lsst-scipipe-4.1.0/share/eups/Linux64/meas_extensions_gaap/g1ef64573c8+4f7b445cec/python/lsst/meas/extensions/gaap/_gaap.py:449\u001b[0m, in \u001b[0;36mBaseGaapFluxMixin._gaussianize\u001b[0;34m(self, exposure, modelPsf, measRecord)\u001b[0m\n\u001b[1;32m    446\u001b[0m subExposure \u001b[38;5;241m=\u001b[39m exposure[bbox]\n\u001b[1;32m    448\u001b[0m \u001b[38;5;66;03m# The size parameter of the basis has to be set dynamically.\u001b[39;00m\n\u001b[0;32m--> 449\u001b[0m result \u001b[38;5;241m=\u001b[39m \u001b[38;5;28;43mself\u001b[39;49m\u001b[38;5;241;43m.\u001b[39;49m\u001b[43mpsfMatchTask\u001b[49m\u001b[38;5;241;43m.\u001b[39;49m\u001b[43mrun\u001b[49m\u001b[43m(\u001b[49m\u001b[43mexposure\u001b[49m\u001b[38;5;241;43m=\u001b[39;49m\u001b[43msubExposure\u001b[49m\u001b[43m,\u001b[49m\u001b[43m \u001b[49m\u001b[43mcenter\u001b[49m\u001b[38;5;241;43m=\u001b[39;49m\u001b[43mmeasRecord\u001b[49m\u001b[38;5;241;43m.\u001b[39;49m\u001b[43mgetCentroid\u001b[49m\u001b[43m(\u001b[49m\u001b[43m)\u001b[49m\u001b[43m,\u001b[49m\n\u001b[1;32m    450\u001b[0m \u001b[43m                               \u001b[49m\u001b[43mtargetPsfModel\u001b[49m\u001b[38;5;241;43m=\u001b[39;49m\u001b[43mmodelPsf\u001b[49m\u001b[43m,\u001b[49m\n\u001b[1;32m    451\u001b[0m \u001b[43m                               \u001b[49m\u001b[43mbasisSigmaGauss\u001b[49m\u001b[38;5;241;43m=\u001b[39;49m\u001b[43m[\u001b[49m\u001b[43mmodelPsf\u001b[49m\u001b[38;5;241;43m.\u001b[39;49m\u001b[43mgetSigma\u001b[49m\u001b[43m(\u001b[49m\u001b[43m)\u001b[49m\u001b[43m]\u001b[49m\u001b[43m)\u001b[49m\n\u001b[1;32m    452\u001b[0m \u001b[38;5;66;03m# TODO: DM-27407 will re-Gaussianize the exposure to make the PSF even\u001b[39;00m\n\u001b[1;32m    453\u001b[0m \u001b[38;5;66;03m# more Gaussian-like\u001b[39;00m\n\u001b[1;32m    454\u001b[0m \n\u001b[1;32m    455\u001b[0m \u001b[38;5;66;03m# Do not let the variance plane be rescaled since we handle it\u001b[39;00m\n\u001b[1;32m    456\u001b[0m \u001b[38;5;66;03m# carefully later using _getFluxScaling method\u001b[39;00m\n\u001b[1;32m    457\u001b[0m result\u001b[38;5;241m.\u001b[39mpsfMatchedExposure\u001b[38;5;241m.\u001b[39mvariance\u001b[38;5;241m.\u001b[39marray \u001b[38;5;241m=\u001b[39m subExposure\u001b[38;5;241m.\u001b[39mvariance\u001b[38;5;241m.\u001b[39marray\n",
      "File \u001b[0;32m/projects/HSC/LSST/stack_20220527/conda/envs/lsst-scipipe-4.1.0/share/eups/Linux64/meas_extensions_gaap/g1ef64573c8+4f7b445cec/python/lsst/meas/extensions/gaap/_gaussianizePsf.py:128\u001b[0m, in \u001b[0;36mGaussianizePsfTask.run\u001b[0;34m(self, exposure, center, targetPsfModel, kernelSum, basisSigmaGauss)\u001b[0m\n\u001b[1;32m    123\u001b[0m \u001b[38;5;28mself\u001b[39m\u001b[38;5;241m.\u001b[39mlog\u001b[38;5;241m.\u001b[39mdebug(\u001b[38;5;124m\"\u001b[39m\u001b[38;5;124mRatio of GAaP model to science PSF = \u001b[39m\u001b[38;5;132;01m%f\u001b[39;00m\u001b[38;5;124m\"\u001b[39m, fwhmModel\u001b[38;5;241m/\u001b[39mfwhmScience)\n\u001b[1;32m    125\u001b[0m basisList \u001b[38;5;241m=\u001b[39m makeKernelBasisList(\u001b[38;5;28mself\u001b[39m\u001b[38;5;241m.\u001b[39mkConfig, fwhmScience, fwhmModel,\n\u001b[1;32m    126\u001b[0m                                 basisSigmaGauss\u001b[38;5;241m=\u001b[39mbasisSigmaGauss,\n\u001b[1;32m    127\u001b[0m                                 metadata\u001b[38;5;241m=\u001b[39m\u001b[38;5;28mself\u001b[39m\u001b[38;5;241m.\u001b[39mmetadata)\n\u001b[0;32m--> 128\u001b[0m spatialSolution, psfMatchingKernel, backgroundModel \u001b[38;5;241m=\u001b[39m \u001b[38;5;28;43mself\u001b[39;49m\u001b[38;5;241;43m.\u001b[39;49m\u001b[43m_solve\u001b[49m\u001b[43m(\u001b[49m\u001b[43mkernelCellSet\u001b[49m\u001b[43m,\u001b[49m\u001b[43m \u001b[49m\u001b[43mbasisList\u001b[49m\u001b[43m)\u001b[49m\n\u001b[1;32m    130\u001b[0m kParameters \u001b[38;5;241m=\u001b[39m np\u001b[38;5;241m.\u001b[39marray(psfMatchingKernel\u001b[38;5;241m.\u001b[39mgetKernelParameters())\n\u001b[1;32m    131\u001b[0m kParameters[\u001b[38;5;241m0\u001b[39m] \u001b[38;5;241m=\u001b[39m kernelSum\n",
      "File \u001b[0;32m/projects/HSC/LSST/stack_20220527/conda/envs/lsst-scipipe-4.1.0/share/eups/Linux64/meas_extensions_gaap/g1ef64573c8+4f7b445cec/python/lsst/meas/extensions/gaap/_gaussianizePsf.py:314\u001b[0m, in \u001b[0;36mGaussianizePsfTask._solve\u001b[0;34m(self, kernelCellSet, basisList)\u001b[0m\n\u001b[1;32m    309\u001b[0m ksv \u001b[38;5;241m=\u001b[39m diffimLib\u001b[38;5;241m.\u001b[39mKernelSumVisitorF(\u001b[38;5;28mself\u001b[39m\u001b[38;5;241m.\u001b[39mps)\n\u001b[1;32m    311\u001b[0m \u001b[38;5;28;01mtry\u001b[39;00m:\n\u001b[1;32m    312\u001b[0m     \u001b[38;5;66;03m# Make sure there are no uninitialized candidates as\u001b[39;00m\n\u001b[1;32m    313\u001b[0m     \u001b[38;5;66;03m# active occupants of Cell.\u001b[39;00m\n\u001b[0;32m--> 314\u001b[0m     \u001b[43mkernelCellSet\u001b[49m\u001b[38;5;241;43m.\u001b[39;49m\u001b[43mvisitCandidates\u001b[49m\u001b[43m(\u001b[49m\u001b[43msinglekv\u001b[49m\u001b[43m,\u001b[49m\u001b[43m \u001b[49m\u001b[38;5;241;43m1\u001b[39;49m\u001b[43m)\u001b[49m\n\u001b[1;32m    316\u001b[0m     \u001b[38;5;66;03m# Reject outliers in kernel sum.\u001b[39;00m\n\u001b[1;32m    317\u001b[0m     ksv\u001b[38;5;241m.\u001b[39mresetKernelSum()\n",
      "\u001b[0;31mKeyboardInterrupt\u001b[0m: "
     ]
    }
   ],
   "source": [
    "gaap.runAll()"
   ]
  },
  {
   "cell_type": "code",
   "execution_count": null,
   "id": "8ef97e50",
   "metadata": {},
   "outputs": [],
   "source": []
  },
  {
   "cell_type": "code",
   "execution_count": null,
   "id": "47e8fc6f",
   "metadata": {},
   "outputs": [],
   "source": []
  },
  {
   "cell_type": "code",
   "execution_count": 15,
   "id": "fe5ef163",
   "metadata": {},
   "outputs": [
    {
     "data": {
      "text/plain": [
       "31425"
      ]
     },
     "execution_count": 15,
     "metadata": {},
     "output_type": "execute_result"
    }
   ],
   "source": [
    "len(gaap.objectTable)"
   ]
  },
  {
   "cell_type": "code",
   "execution_count": 9,
   "id": "7746c0fb",
   "metadata": {},
   "outputs": [],
   "source": [
    "gaap.writeObjectTable();\n",
    "gaap.transformObjectCatalog(\n",
    "    functorFile='/home/jiaxuanl/Research/Merian/merian_tractor/scripts/hsc_gaap/Object.yaml');"
   ]
  },
  {
   "cell_type": "code",
   "execution_count": 17,
   "id": "7d1c28b8",
   "metadata": {},
   "outputs": [
    {
     "data": {
      "text/plain": [
       "objectId\n",
       "3496147909164924929     572.104244\n",
       "3496147909164924930    1177.962773\n",
       "3496147909164924931     377.583067\n",
       "3496147909164924932     138.880579\n",
       "3496147909164924933      76.477673\n",
       "                          ...     \n",
       "3496147909164967891      13.870845\n",
       "3496147909164967892     129.410061\n",
       "3496147909164967893     -20.027167\n",
       "3496147909164967894     150.571395\n",
       "3496147909164967895      11.585934\n",
       "Name: y_gaap0p5Flux, Length: 31425, dtype: float64"
      ]
     },
     "execution_count": 17,
     "metadata": {},
     "output_type": "execute_result"
    }
   ],
   "source": [
    "gaap.objectTable['y_gaap0p5Flux']"
   ]
  },
  {
   "cell_type": "code",
   "execution_count": 12,
   "id": "87e19e2c",
   "metadata": {},
   "outputs": [
    {
     "name": "stdout",
     "output_type": "stream",
     "text": [
      "Wrote GAaP table to /projects/MERIAN/repo/S20A/gaapTable/9813/7,8/objectTable_9813_7,8_S20A.fits\n"
     ]
    }
   ],
   "source": [
    "gaap.saveObjectTable()"
   ]
  },
  {
   "cell_type": "code",
   "execution_count": null,
   "id": "57fd4e0b",
   "metadata": {},
   "outputs": [],
   "source": []
  },
  {
   "cell_type": "code",
   "execution_count": 53,
   "id": "46551821",
   "metadata": {},
   "outputs": [],
   "source": [
    "cat_ref = joinMerianCatPatches([23])"
   ]
  },
  {
   "cell_type": "code",
   "execution_count": null,
   "id": "4ce71917",
   "metadata": {},
   "outputs": [],
   "source": [
    "cat_ref.write()"
   ]
  },
  {
   "cell_type": "code",
   "execution_count": null,
   "id": "98750a62",
   "metadata": {},
   "outputs": [],
   "source": [
    "cat_ref.write(\n",
    "        f'/projects/MERIAN/repo/S20A/gaapTable/9813/5,2/MerianTable_{gaap.band.upper()}_{gaap.tract}_{gaap.patch_old}.fits')"
   ]
  },
  {
   "cell_type": "code",
   "execution_count": null,
   "id": "b733aa5b",
   "metadata": {},
   "outputs": [],
   "source": []
  },
  {
   "cell_type": "markdown",
   "id": "aaae1b9b",
   "metadata": {},
   "source": [
    "https://pipelines.lsst.io/modules/lsst.pipe.tasks/tasks/lsst.pipe.tasks.multiBand.MeasureMergedCoaddSourcesTask.html"
   ]
  },
  {
   "cell_type": "code",
   "execution_count": null,
   "id": "643f3b92",
   "metadata": {},
   "outputs": [],
   "source": []
  },
  {
   "cell_type": "code",
   "execution_count": 17,
   "id": "7789fd6b",
   "metadata": {},
   "outputs": [],
   "source": [
    "# cat2 = writeObjectTable(gaap.measCat, band='i')\n",
    "cat2.remove_columns(['id', 'coord_ra', 'coord_dec'])\n",
    "cat_ref = joinMerianCatPatches([23])[:15000]"
   ]
  },
  {
   "cell_type": "code",
   "execution_count": 18,
   "id": "d75253fe",
   "metadata": {},
   "outputs": [],
   "source": [
    "cat = hstack([cat_ref, cat2])"
   ]
  },
  {
   "cell_type": "code",
   "execution_count": 7,
   "id": "9c0cfcbc",
   "metadata": {},
   "outputs": [
    {
     "name": "stderr",
     "output_type": "stream",
     "text": [
      "/tmp/ipykernel_89880/1226182700.py:3: RuntimeWarning: invalid value encountered in log10\n",
      "  plt.scatter(27 - 2.5 * np.log10(cat[flag]['i_gaap1p0Flux'].data),\n",
      "/tmp/ipykernel_89880/1226182700.py:4: RuntimeWarning: invalid value encountered in log10\n",
      "  -2.5 * np.log10(cat[flag]['i_gaap1p0Flux'].data / cat[flag]['N708_gaap1p0Flux']),\n",
      "/tmp/ipykernel_89880/1226182700.py:7: RuntimeWarning: invalid value encountered in log10\n",
      "  plt.scatter(27 - 2.5 * np.log10(cat[~flag]['i_gaap1p0Flux'].data),\n",
      "/tmp/ipykernel_89880/1226182700.py:8: RuntimeWarning: invalid value encountered in log10\n",
      "  -2.5 * np.log10(cat[~flag]['i_gaap1p0Flux'].data / cat[~flag]['N708_gaap1p0Flux']),\n"
     ]
    },
    {
     "data": {
      "text/plain": [
       "Text(0.5, 1.0, 'ref=Merian, img=HSC RC2 w40')"
      ]
     },
     "execution_count": 7,
     "metadata": {},
     "output_type": "execute_result"
    },
    {
     "data": {
      "image/png": "[encoded data removed]",
      "text/plain": [
       "<Figure size 432x288 with 1 Axes>"
      ]
     },
     "metadata": {
      "needs_background": "light"
     },
     "output_type": "display_data"
    }
   ],
   "source": [
    "flag = (cat['deblend_nChild'] > 0)\n",
    "\n",
    "plt.scatter(27 - 2.5 * np.log10(cat[flag]['i_gaap1p0Flux'].data), \n",
    "            -2.5 * np.log10(cat[flag]['i_gaap1p0Flux'].data / cat[flag]['N708_gaap1p0Flux']), \n",
    "            s=1, label='Parents', zorder=10, alpha=1)\n",
    "\n",
    "plt.scatter(27 - 2.5 * np.log10(cat[~flag]['i_gaap1p0Flux'].data), \n",
    "            -2.5 * np.log10(cat[~flag]['i_gaap1p0Flux'].data / cat[~flag]['N708_gaap1p0Flux']), \n",
    "            s=1, alpha=1, label='Children')\n",
    "\n",
    "plt.xlim(15, 27)\n",
    "# plt.ylim(-3, 3)\n",
    "leg = plt.legend()\n",
    "for lh in leg.legendHandles: \n",
    "    lh.set_alpha(1)\n",
    "plt.xlabel('i mag, manual')\n",
    "plt.ylabel('i - N708')\n",
    "plt.title('ref=Merian, img=HSC RC2 w40')"
   ]
  },
  {
   "cell_type": "code",
   "execution_count": 22,
   "id": "41508040",
   "metadata": {},
   "outputs": [
    {
     "name": "stderr",
     "output_type": "stream",
     "text": [
      "/tmp/ipykernel_92896/2198881854.py:3: RuntimeWarning: invalid value encountered in log10\n",
      "  plt.scatter(27 - 2.5 * np.log10(cat[flag]['i_gaap1p0Flux'].data),\n",
      "/tmp/ipykernel_92896/2198881854.py:4: RuntimeWarning: invalid value encountered in log10\n",
      "  -2.5 * np.log10(cat[flag]['i_gaap1p0Flux'].data / cat[flag]['N708_gaap1p0Flux']),\n",
      "/tmp/ipykernel_92896/2198881854.py:7: RuntimeWarning: invalid value encountered in log10\n",
      "  plt.scatter(27 - 2.5 * np.log10(cat[~flag]['i_gaap1p0Flux'].data),\n",
      "/tmp/ipykernel_92896/2198881854.py:8: RuntimeWarning: invalid value encountered in log10\n",
      "  -2.5 * np.log10(cat[~flag]['i_gaap1p0Flux'].data / cat[~flag]['N708_gaap1p0Flux']),\n"
     ]
    },
    {
     "data": {
      "text/plain": [
       "Text(0.5, 1.0, 'ref=Merian, img=HSC RC2 w40')"
      ]
     },
     "execution_count": 22,
     "metadata": {},
     "output_type": "execute_result"
    },
    {
     "data": {
      "image/png": "[encoded data removed]",
      "text/plain": [
       "<Figure size 432x288 with 1 Axes>"
      ]
     },
     "metadata": {
      "needs_background": "light"
     },
     "output_type": "display_data"
    }
   ],
   "source": [
    "flag = (cat['deblend_nChild'] > 0)\n",
    "\n",
    "plt.scatter(27 - 2.5 * np.log10(cat[flag]['i_gaap1p0Flux'].data), \n",
    "            -2.5 * np.log10(cat[flag]['i_gaap1p0Flux'].data / cat[flag]['N708_gaap1p0Flux']), \n",
    "            s=1, label='Parents', zorder=10, alpha=0.1)\n",
    "\n",
    "plt.scatter(27 - 2.5 * np.log10(cat[~flag]['i_gaap1p0Flux'].data), \n",
    "            -2.5 * np.log10(cat[~flag]['i_gaap1p0Flux'].data / cat[~flag]['N708_gaap1p0Flux']), \n",
    "            s=1, alpha=1, label='Children')\n",
    "\n",
    "plt.xlim(15, 27)\n",
    "# plt.ylim(-3, 3)\n",
    "leg = plt.legend()\n",
    "for lh in leg.legendHandles: \n",
    "    lh.set_alpha(1)\n",
    "plt.xlabel('i mag, manual')\n",
    "plt.ylabel('i - N708')\n",
    "plt.title('ref=Merian, img=HSC RC2 w40')"
   ]
  },
  {
   "cell_type": "code",
   "execution_count": null,
   "id": "401f063d",
   "metadata": {},
   "outputs": [],
   "source": []
  },
  {
   "cell_type": "code",
   "execution_count": null,
   "id": "998c6a1f",
   "metadata": {},
   "outputs": [],
   "source": []
  },
  {
   "cell_type": "code",
   "execution_count": null,
   "id": "8a9201de",
   "metadata": {},
   "outputs": [],
   "source": []
  },
  {
   "cell_type": "code",
   "execution_count": null,
   "id": "7b77728e",
   "metadata": {},
   "outputs": [],
   "source": []
  },
  {
   "cell_type": "code",
   "execution_count": null,
   "id": "bd71389c",
   "metadata": {},
   "outputs": [],
   "source": []
  }
 ],
 "metadata": {
  "kernelspec": {
   "display_name": "Python 3 (ipykernel)",
   "language": "python",
   "name": "python3"
  },
  "language_info": {
   "codemirror_mode": {
    "name": "ipython",
    "version": 3
   },
   "file_extension": ".py",
   "mimetype": "text/x-python",
   "name": "python",
   "nbconvert_exporter": "python",
   "pygments_lexer": "ipython3",
   "version": "3.10.5"
  }
 },
 "nbformat": 4,
 "nbformat_minor": 5
}
