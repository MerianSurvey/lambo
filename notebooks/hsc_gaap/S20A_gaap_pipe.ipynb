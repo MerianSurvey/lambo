{
 "cells": [
  {
   "cell_type": "code",
   "execution_count": 1,
   "id": "a13ed325",
   "metadata": {},
   "outputs": [],
   "source": [
    "%load_ext autoreload\n",
    "%autoreload 2\n",
    "\n",
    "import numpy as np\n",
    "import time\n",
    "import matplotlib.pyplot as plt\n",
    "import lsst.meas.base\n",
    "import lsst.pex.config\n",
    "\n",
    "import lsst.afw.table\n",
    "import lsst.meas.algorithms\n",
    "import lsst.pex.exceptions\n",
    "import lsst.meas.extensions.gaap"
   ]
  },
  {
   "cell_type": "code",
   "execution_count": 2,
   "id": "fb519b8b",
   "metadata": {},
   "outputs": [],
   "source": [
    "from astropy.io import fits\n",
    "from astropy.table import Table, hstack\n",
    "import sys\n",
    "sys.path.append('/home/jiaxuanl/Research/Merian/merian_tractor/scripts/')"
   ]
  },
  {
   "cell_type": "markdown",
   "id": "246b3491",
   "metadata": {},
   "source": [
    "get existing patches"
   ]
  },
  {
   "cell_type": "code",
   "execution_count": 3,
   "id": "48fc871c",
   "metadata": {},
   "outputs": [],
   "source": [
    "import os\n",
    "old_patches = [name for name in os.listdir(\n",
    "    \"/projects/MERIAN/repo/S20A/deepCoadd_calexp/9813/\")]\n",
    "new_patches = [int(name[0]) + int(name[2]) * 9 for name in old_patches]\n",
    "merian_patches = [int(name) for name in os.listdir(\n",
    "    \"/projects/MERIAN/repo/DECam/runs/merian/dr1_wide/20220921T193246Z/deepCoadd_forced_src/9813\")]\n",
    "common_patches = np.intersect1d(new_patches, merian_patches)"
   ]
  },
  {
   "cell_type": "markdown",
   "id": "e34e565a",
   "metadata": {},
   "source": [
    "rsync -azv --progress jiaxuanl@tiger.princeton.edu://projects/MERIAN/repo/S20A/gaapTable/9813/6,2/gaapTable_I_9813_6,2.fits ./"
   ]
  },
  {
   "cell_type": "code",
   "execution_count": 4,
   "id": "c4be03aa",
   "metadata": {},
   "outputs": [
    {
     "data": {
      "text/plain": [
       "array([23, 24, 25])"
      ]
     },
     "execution_count": 4,
     "metadata": {},
     "output_type": "execute_result"
    }
   ],
   "source": [
    "common_patches[20:23]"
   ]
  },
  {
   "cell_type": "raw",
   "id": "6532cda8",
   "metadata": {},
   "source": [
    "from hsc_gaap.gaap import GaapTask\n",
    "gaap = GaapTask(9813, 23, 'i', \n",
    "                hsc_type='w_2022_04',\n",
    "                repo='/projects/MERIAN/repo/HSC/runs/RC2/w_2022_04/DM-33402/', \n",
    "                collections='HSC/runs/RC2/w_2022_40/DM-36151')\n",
    "\n",
    "gaap.load_merian_reference(band='N708', \n",
    "                           repo='/projects/MERIAN/repo/', \n",
    "                           collections='DECam/runs/merian/dr1_wide',\n",
    "                           range=(0, 15)\n",
    "                          )\n",
    "gaap.setDefaultMeasureConfig()\n",
    "gaap.run()\n",
    "outcat = gaap.writeObjectTable(save=False)"
   ]
  },
  {
   "cell_type": "code",
   "execution_count": 22,
   "id": "d74ac696",
   "metadata": {},
   "outputs": [],
   "source": []
  },
  {
   "cell_type": "raw",
   "id": "7114d3a4",
   "metadata": {},
   "source": [
    "from hsc_gaap.gaap import joinCatPatches, joinMerianCatPatches\n",
    "HscCat = joinCatPatches([23], filters='gri',)\n",
    "MerianCat = joinMerianCatPatches([23])"
   ]
  },
  {
   "cell_type": "code",
   "execution_count": null,
   "id": "6af2a19d",
   "metadata": {},
   "outputs": [],
   "source": []
  },
  {
   "cell_type": "code",
   "execution_count": null,
   "id": "333f8f31",
   "metadata": {},
   "outputs": [],
   "source": []
  },
  {
   "cell_type": "code",
   "execution_count": 48,
   "id": "5032f9c1",
   "metadata": {},
   "outputs": [
    {
     "name": "stdout",
     "output_type": "stream",
     "text": [
      "Loaded HSC S20A deepCoadd_calexp image\n",
      "Loaded Merian reference catalog and image\n",
      "# Starting the GAaP measureTask at  Fri Nov 11 18:24:54 2022\n"
     ]
    },
    {
     "name": "stderr",
     "output_type": "stream",
     "text": [
      "Cannot aperture correct ext_gaap_GaapFlux_1_15x_0_4 because could not find ext_gaap_GaapFlux_1_15x_0_4_instFlux or ext_gaap_GaapFlux_1_15x_0_4_instFluxErr in apCorrMap\n",
      "Cannot aperture correct ext_gaap_GaapFlux_1_15x_0_5 because could not find ext_gaap_GaapFlux_1_15x_0_5_instFlux or ext_gaap_GaapFlux_1_15x_0_5_instFluxErr in apCorrMap\n",
      "Cannot aperture correct ext_gaap_GaapFlux_1_15x_0_6 because could not find ext_gaap_GaapFlux_1_15x_0_6_instFlux or ext_gaap_GaapFlux_1_15x_0_6_instFluxErr in apCorrMap\n",
      "Cannot aperture correct ext_gaap_GaapFlux_1_15x_0_7 because could not find ext_gaap_GaapFlux_1_15x_0_7_instFlux or ext_gaap_GaapFlux_1_15x_0_7_instFluxErr in apCorrMap\n",
      "Cannot aperture correct ext_gaap_GaapFlux_1_15x_1_0 because could not find ext_gaap_GaapFlux_1_15x_1_0_instFlux or ext_gaap_GaapFlux_1_15x_1_0_instFluxErr in apCorrMap\n",
      "Cannot aperture correct ext_gaap_GaapFlux_1_15x_1_5 because could not find ext_gaap_GaapFlux_1_15x_1_5_instFlux or ext_gaap_GaapFlux_1_15x_1_5_instFluxErr in apCorrMap\n",
      "Cannot aperture correct ext_gaap_GaapFlux_1_15x_2_0 because could not find ext_gaap_GaapFlux_1_15x_2_0_instFlux or ext_gaap_GaapFlux_1_15x_2_0_instFluxErr in apCorrMap\n",
      "Cannot aperture correct ext_gaap_GaapFlux_1_15x_Optimal because could not find ext_gaap_GaapFlux_1_15x_Optimal_instFlux or ext_gaap_GaapFlux_1_15x_Optimal_instFluxErr in apCorrMap\n",
      "Cannot aperture correct ext_gaap_GaapFlux_1_15x_PsfFlux because could not find ext_gaap_GaapFlux_1_15x_PsfFlux_instFlux or ext_gaap_GaapFlux_1_15x_PsfFlux_instFluxErr in apCorrMap\n"
     ]
    },
    {
     "name": "stdout",
     "output_type": "stream",
     "text": [
      "# Finished the GAaP measureTask in 797.74 seconds.\n"
     ]
    }
   ],
   "source": [
    "from hsc_gaap.gaap import GaapTask\n",
    "gaap = GaapTask(9813, 23, 'i', \n",
    "                hsc_type='S20A',\n",
    "                repo='/projects/MERIAN/repo/', \n",
    "                collections='S20A/deepCoadd_calexp')\n",
    "gaap._checkHSCfile()\n",
    "gaap.load_merian_reference(band='N708', \n",
    "                           repo='/projects/MERIAN/repo/', \n",
    "                           collections='DECam/runs/merian/dr1_wide',\n",
    "                           range=(0, 15000)\n",
    "                          )\n",
    "# gaap.refCat = gaap.refCat[:15000] # [4692:27041:(27040-4692)]\n",
    "# gaap.refCatInBand = gaap.refCatInBand[:15000] # [4692:27041:(27040-4692)]\n",
    "gaap.setDefaultMeasureConfig()\n",
    "gaap.run()"
   ]
  },
  {
   "cell_type": "code",
   "execution_count": null,
   "id": "e8403dc6",
   "metadata": {},
   "outputs": [],
   "source": []
  },
  {
   "cell_type": "code",
   "execution_count": null,
   "id": "3917e104",
   "metadata": {},
   "outputs": [],
   "source": []
  },
  {
   "cell_type": "code",
   "execution_count": null,
   "id": "7b77728e",
   "metadata": {},
   "outputs": [],
   "source": []
  },
  {
   "cell_type": "code",
   "execution_count": 61,
   "id": "6049129b",
   "metadata": {},
   "outputs": [],
   "source": [
    "def writeObjectTable(measCat, band='i', save=True):\n",
    "    import astropy.units as u\n",
    "    from astropy.table import QTable\n",
    "    \n",
    "    outCat = measCat.copy(deep=True).asAstropy()\n",
    "    outCat['coord_ra'] = outCat['coord_ra'].to(u.deg)\n",
    "    outCat['coord_dec'] = outCat['coord_dec'].to(u.deg)\n",
    "\n",
    "    old_gaap_cols = [\n",
    "        item for item in measCat.schema.getNames() if ('gaap' in item and 'apCorr' not in item) | ('base_PsfFlux_instFlux' in item) | ('base_CircularApertureFlux' in item)]\n",
    "    outCat = outCat[['id', 'coord_ra', 'coord_dec'] + old_gaap_cols]\n",
    "    \n",
    "    # PhotCalib\n",
    "    for col in old_gaap_cols:\n",
    "        if 'instFlux' in col:\n",
    "            outCat[col] = outCat[col].value * \\\n",
    "                gaap.exposure.getPhotoCalib().instFluxToNanojansky(1) * u.nanomaggy\n",
    "\n",
    "    new_gaap_cols = []\n",
    "    for col in old_gaap_cols:\n",
    "        name = col.replace('ext_gaap_GaapFlux', f'{band}_gaap')\n",
    "        name = name.replace('_instFlux', 'Flux').replace('PsfFlux', 'Psf')\n",
    "        if 'Flux' in name:\n",
    "            aper = name.split(\n",
    "                \"x_\")[-1].replace('FluxErr', '').replace('Flux', '')\n",
    "            name = name.replace('_1_15x', '')\n",
    "            name = name.replace('_' + aper, aper.replace('_', 'p'))\n",
    "\n",
    "        if 'flag' in name:\n",
    "            aper = name.split(\n",
    "                \"x_\")[-1].replace('_flag_bigPsf', '').replace('_flag', '')\n",
    "            name = name.replace('_1_15x', '')\n",
    "            if not 'gauss' in name:\n",
    "                name = name.replace(\n",
    "                    '_' + aper, aper.replace('_', 'p') + 'Flux')\n",
    "        new_gaap_cols.append(name)\n",
    "    \n",
    "    outCat.rename_columns(old_gaap_cols, new_gaap_cols)\n",
    "    outCat = QTable(outCat)\n",
    "    return outCat"
   ]
  },
  {
   "cell_type": "code",
   "execution_count": null,
   "id": "da90a0a1",
   "metadata": {},
   "outputs": [],
   "source": []
  },
  {
   "cell_type": "code",
   "execution_count": null,
   "id": "bd71389c",
   "metadata": {},
   "outputs": [],
   "source": []
  },
  {
   "cell_type": "code",
   "execution_count": 62,
   "id": "ee9abee8",
   "metadata": {},
   "outputs": [],
   "source": [
    "cat2 = writeObjectTable(gaap.measCat, band='i')"
   ]
  },
  {
   "cell_type": "code",
   "execution_count": null,
   "id": "fd1d994e",
   "metadata": {},
   "outputs": [],
   "source": []
  },
  {
   "cell_type": "code",
   "execution_count": 68,
   "id": "6e39e189",
   "metadata": {},
   "outputs": [],
   "source": []
  },
  {
   "cell_type": "code",
   "execution_count": 72,
   "id": "6a31d7ef",
   "metadata": {},
   "outputs": [],
   "source": [
    "from hsc_gaap.gaap import joinMerianCatPatches\n",
    "cat2 = writeObjectTable(gaap.measCat, band='i')\n",
    "cat2.remove_columns(['id', 'coord_ra', 'coord_dec'])\n",
    "cat_ref = joinMerianCatPatches([23])"
   ]
  },
  {
   "cell_type": "code",
   "execution_count": 73,
   "id": "97d6b4cc",
   "metadata": {},
   "outputs": [
    {
     "name": "stderr",
     "output_type": "stream",
     "text": [
      "WARNING: The unit 'nmgy' could not be saved in native FITS format and cannot be recovered in reading. It can roundtrip within astropy by using QTable both to write and read back, though one has to enable the unit before reading. [astropy.io.fits.convenience]\n",
      "WARNING: The unit 'nmgy' could not be saved in native FITS format and hence will be lost to non-astropy fits readers. Within astropy, the unit can roundtrip using QTable, though one has to enable the unit before reading. [astropy.io.fits.convenience]\n",
      "WARNING: VerifyWarning: Keyword name 'BASE_CIRCULARAPERTUREFLUX_RADII' is greater than 8 characters or contains characters not allowed by the FITS standard; a HIERARCH card will be created. [astropy.io.fits.card]\n",
      "WARNING: VerifyWarning: Keyword name 'NOISE_SEED_MULTIPLIER' is greater than 8 characters or contains characters not allowed by the FITS standard; a HIERARCH card will be created. [astropy.io.fits.card]\n",
      "WARNING: VerifyWarning: Keyword name 'NOISE_SOURCE' is greater than 8 characters or contains characters not allowed by the FITS standard; a HIERARCH card will be created. [astropy.io.fits.card]\n",
      "WARNING: VerifyWarning: Keyword name 'NOISE_OFFSET' is greater than 8 characters or contains characters not allowed by the FITS standard; a HIERARCH card will be created. [astropy.io.fits.card]\n",
      "WARNING: VerifyWarning: Keyword name 'NOISE_EXPOSURE_ID' is greater than 8 characters or contains characters not allowed by the FITS standard; a HIERARCH card will be created. [astropy.io.fits.card]\n"
     ]
    }
   ],
   "source": [
    "cat = hstack([cat_ref, cat2])\n",
    "cat.write('/projects/MERIAN/repo/S20A/gaapTable/9813/gaap_9813_23_Merian_S20A_i_more.fits', overwrite=True)"
   ]
  },
  {
   "cell_type": "code",
   "execution_count": null,
   "id": "7a97957a",
   "metadata": {},
   "outputs": [],
   "source": []
  },
  {
   "cell_type": "code",
   "execution_count": null,
   "id": "12bf9a4a",
   "metadata": {},
   "outputs": [],
   "source": []
  },
  {
   "cell_type": "code",
   "execution_count": null,
   "id": "3037d8ec",
   "metadata": {},
   "outputs": [],
   "source": []
  },
  {
   "cell_type": "code",
   "execution_count": null,
   "id": "b2ca8739",
   "metadata": {},
   "outputs": [],
   "source": []
  },
  {
   "cell_type": "code",
   "execution_count": null,
   "id": "d0bc5e47",
   "metadata": {},
   "outputs": [],
   "source": []
  },
  {
   "cell_type": "code",
   "execution_count": 73,
   "id": "c250d025",
   "metadata": {},
   "outputs": [],
   "source": [
    "# gaap.run()"
   ]
  },
  {
   "cell_type": "code",
   "execution_count": 17,
   "id": "e3edcf03",
   "metadata": {},
   "outputs": [],
   "source": [
    "outcat = gaap.writeObjectTable(save=False)"
   ]
  },
  {
   "cell_type": "code",
   "execution_count": null,
   "id": "81ffbcfb",
   "metadata": {},
   "outputs": [],
   "source": []
  },
  {
   "cell_type": "code",
   "execution_count": null,
   "id": "2a560a00",
   "metadata": {},
   "outputs": [],
   "source": []
  },
  {
   "cell_type": "code",
   "execution_count": 19,
   "id": "e415b53f",
   "metadata": {},
   "outputs": [
    {
     "data": {
      "text/plain": [
       "(6643, 15000)"
      ]
     },
     "execution_count": 19,
     "metadata": {},
     "output_type": "execute_result"
    }
   ],
   "source": [
    "good_objects = ~(outcat[\"i_gaap_flag\"] | outcat['i_gaapOptimalFlux_flag_bigPsf'])\n",
    "np.sum(good_objects), len(good_objects)"
   ]
  },
  {
   "cell_type": "code",
   "execution_count": 20,
   "id": "a150f5c5",
   "metadata": {
    "scrolled": false
   },
   "outputs": [
    {
     "data": {
      "text/plain": [
       "Text(0.5, 0, 'Sigmas')"
      ]
     },
     "execution_count": 20,
     "metadata": {},
     "output_type": "execute_result"
    },
    {
     "data": {
      "image/png": "[encoded data removed]",
      "text/plain": [
       "<Figure size 1224x432 with 2 Axes>"
      ]
     },
     "metadata": {
      "needs_background": "light"
     },
     "output_type": "display_data"
    }
   ],
   "source": [
    "fig, ax = plt.subplots(1, 2, figsize=(17,6))\n",
    "bins = np.logspace(-2, 4, 61)\n",
    "\n",
    "baseNames = list(gaap.measureConfig.measurement.plugins[\"ext_gaap_GaapFlux\"].getAllGaapResultNames(\"ext_gaap_GaapFlux\"))\n",
    "statistic_list = []\n",
    "statistic_upper_list, statistic_lower_list = [], []\n",
    "\n",
    "for baseName in gaap.measureConfig.measurement.plugins[\"ext_gaap_GaapFlux\"].getAllGaapResultNames(\"ext_gaap_GaapFlux\"):\n",
    "    label = baseName.split(\"x_\")[-1]\n",
    "    #if label[-1]=='5': continue\n",
    "#     if \"PsfFlux\" in label: continue\n",
    "    histtype='stepfilled' if \"Optimal\" in baseName else 'step'\n",
    "    snr = gaap.measCat[baseName+\"_instFlux\"][good_objects] / gaap.measCat[baseName+\"_instFluxErr\"][good_objects]\n",
    "    ax[0].hist(snr, bins=bins, histtype=histtype,label=label, alpha=0.4)\n",
    "    statistic = np.nanpercentile(snr, 50)\n",
    "    # statistic = np.nanmean(snr)\n",
    "    if \"Optimal\" in label:\n",
    "        optStatistic = np.nanpercentile(snr, 50)\n",
    "    if not (\"PsfFlux\" in label or \"Optimal\" in label):\n",
    "        statistic_list.append(statistic)\n",
    "        statistic_upper_list.append(np.percentile(snr, 84))\n",
    "        statistic_lower_list.append(np.percentile(snr, 16))\n",
    "\n",
    "ax[0].set_xscale('log')\n",
    "ax[0].set_xlabel(\"SNR = instFlux/instFluxErr\")\n",
    "#ax[0].set_yscale('log')\n",
    "ax[0].legend(loc='best')\n",
    "\n",
    "sigmas = gaap.measureConfig.measurement.plugins[\"ext_gaap_GaapFlux\"].sigmas.list()\n",
    "ax[1].plot(sigmas, statistic_list, 'o-')\n",
    "#ax[1].fill_between(sigmas, statistic_upper_list, statistic_lower_list, alpha=0.4)\n",
    "# ax[1].plot(3.6, optStatistic, \"*\", markersize=12)\n",
    "ax[1].set_ylabel(\"Median SNR\")\n",
    "ax[1].set_xlabel(\"Sigmas\")\n",
    "# ax[1].axvline(3.5, color='k', ls='-.')"
   ]
  },
  {
   "cell_type": "code",
   "execution_count": null,
   "id": "be146c6f",
   "metadata": {},
   "outputs": [],
   "source": []
  },
  {
   "cell_type": "code",
   "execution_count": 7,
   "id": "22d8a9fe",
   "metadata": {},
   "outputs": [],
   "source": [
    "measureConfig = gaap.measureConfig.measurement"
   ]
  },
  {
   "cell_type": "code",
   "execution_count": 8,
   "id": "32ae1e3c",
   "metadata": {},
   "outputs": [],
   "source": [
    "import lsst.afw.display as afwDisplay\n",
    "import lsst.afw.geom as afwGeom"
   ]
  },
  {
   "cell_type": "code",
   "execution_count": null,
   "id": "ac98f3f1",
   "metadata": {},
   "outputs": [],
   "source": []
  },
  {
   "cell_type": "code",
   "execution_count": null,
   "id": "85433a5d",
   "metadata": {},
   "outputs": [],
   "source": []
  },
  {
   "cell_type": "code",
   "execution_count": 10,
   "id": "2a445d6e",
   "metadata": {},
   "outputs": [
    {
     "data": {
      "text/plain": [
       "Quadrupole(ixx=34.45119236706474, iyy=41.52509442420149, ixy=7.882154670230213)"
      ]
     },
     "execution_count": 10,
     "metadata": {},
     "output_type": "execute_result"
    }
   ],
   "source": [
    "recordId = 4692\n",
    "shape = gaap.refCat[0].getShape()\n",
    "shape"
   ]
  },
  {
   "cell_type": "code",
   "execution_count": 11,
   "id": "08c9f0ff",
   "metadata": {},
   "outputs": [
    {
     "ename": "RuntimeError",
     "evalue": "Unable to set backend to matplotlib: \"module 'matplotlib' has no attribute 'DisplayImpl'\"",
     "output_type": "error",
     "traceback": [
      "\u001b[0;31m---------------------------------------------------------------------------\u001b[0m",
      "\u001b[0;31mAttributeError\u001b[0m                            Traceback (most recent call last)",
      "File \u001b[0;32m/projects/HSC/LSST/stack_20220527/conda/envs/lsst-scipipe-4.0.1/share/eups/Linux64/afw/gba47b54d5d+94dc90c3ea/python/lsst/afw/display/interface.py:267\u001b[0m, in \u001b[0;36mDisplay.setDefaultBackend\u001b[0;34m(backend)\u001b[0m\n\u001b[1;32m    266\u001b[0m \u001b[38;5;28;01mtry\u001b[39;00m:\n\u001b[0;32m--> 267\u001b[0m     \u001b[43m_makeDisplayImpl\u001b[49m\u001b[43m(\u001b[49m\u001b[38;5;28;43;01mNone\u001b[39;49;00m\u001b[43m,\u001b[49m\u001b[43m \u001b[49m\u001b[43mbackend\u001b[49m\u001b[43m)\u001b[49m\n\u001b[1;32m    268\u001b[0m \u001b[38;5;28;01mexcept\u001b[39;00m \u001b[38;5;167;01mException\u001b[39;00m \u001b[38;5;28;01mas\u001b[39;00m e:\n",
      "File \u001b[0;32m/projects/HSC/LSST/stack_20220527/conda/envs/lsst-scipipe-4.0.1/share/eups/Linux64/afw/gba47b54d5d+94dc90c3ea/python/lsst/afw/display/interface.py:100\u001b[0m, in \u001b[0;36m_makeDisplayImpl\u001b[0;34m(display, backend, *args, **kwargs)\u001b[0m\n\u001b[1;32m     98\u001b[0m         exc \u001b[38;5;241m=\u001b[39m e\n\u001b[0;32m--> 100\u001b[0m \u001b[38;5;28;01mif\u001b[39;00m \u001b[38;5;129;01mnot\u001b[39;00m _disp \u001b[38;5;129;01mor\u001b[39;00m \u001b[38;5;129;01mnot\u001b[39;00m \u001b[38;5;28mhasattr\u001b[39m(\u001b[43m_disp\u001b[49m\u001b[38;5;241;43m.\u001b[39;49m\u001b[43mDisplayImpl\u001b[49m, \u001b[38;5;124m\"\u001b[39m\u001b[38;5;124m_show\u001b[39m\u001b[38;5;124m\"\u001b[39m):\n\u001b[1;32m    101\u001b[0m     \u001b[38;5;28;01mif\u001b[39;00m exc \u001b[38;5;129;01mis\u001b[39;00m \u001b[38;5;129;01mnot\u001b[39;00m \u001b[38;5;28;01mNone\u001b[39;00m:\n\u001b[1;32m    102\u001b[0m         \u001b[38;5;66;03m# re-raise the final exception\u001b[39;00m\n",
      "File \u001b[0;32m/projects/HSC/LSST/stack_20220527/conda/envs/lsst-scipipe-4.0.0/lib/python3.10/site-packages/matplotlib/_api/__init__.py:222\u001b[0m, in \u001b[0;36mcaching_module_getattr.<locals>.__getattr__\u001b[0;34m(name)\u001b[0m\n\u001b[1;32m    221\u001b[0m     \u001b[38;5;28;01mreturn\u001b[39;00m props[name]\u001b[38;5;241m.\u001b[39m\u001b[38;5;21m__get__\u001b[39m(instance)\n\u001b[0;32m--> 222\u001b[0m \u001b[38;5;28;01mraise\u001b[39;00m \u001b[38;5;167;01mAttributeError\u001b[39;00m(\n\u001b[1;32m    223\u001b[0m     \u001b[38;5;124mf\u001b[39m\u001b[38;5;124m\"\u001b[39m\u001b[38;5;124mmodule \u001b[39m\u001b[38;5;132;01m{\u001b[39;00m\u001b[38;5;28mcls\u001b[39m\u001b[38;5;241m.\u001b[39m\u001b[38;5;18m__module__\u001b[39m\u001b[38;5;132;01m!r}\u001b[39;00m\u001b[38;5;124m has no attribute \u001b[39m\u001b[38;5;132;01m{\u001b[39;00mname\u001b[38;5;132;01m!r}\u001b[39;00m\u001b[38;5;124m\"\u001b[39m)\n",
      "\u001b[0;31mAttributeError\u001b[0m: module 'matplotlib' has no attribute 'DisplayImpl'",
      "\nDuring handling of the above exception, another exception occurred:\n",
      "\u001b[0;31mRuntimeError\u001b[0m                              Traceback (most recent call last)",
      "Input \u001b[0;32mIn [11]\u001b[0m, in \u001b[0;36m<cell line: 1>\u001b[0;34m()\u001b[0m\n\u001b[0;32m----> 1\u001b[0m \u001b[43mafwDisplay\u001b[49m\u001b[38;5;241;43m.\u001b[39;49m\u001b[43msetDefaultBackend\u001b[49m\u001b[43m(\u001b[49m\u001b[38;5;124;43m'\u001b[39;49m\u001b[38;5;124;43mmatplotlib\u001b[39;49m\u001b[38;5;124;43m'\u001b[39;49m\u001b[43m)\u001b[49m\n\u001b[1;32m      2\u001b[0m fig, ax \u001b[38;5;241m=\u001b[39m plt\u001b[38;5;241m.\u001b[39msubplots()\n\u001b[1;32m      3\u001b[0m display \u001b[38;5;241m=\u001b[39m afwDisplay\u001b[38;5;241m.\u001b[39mDisplay(frame\u001b[38;5;241m=\u001b[39mfig)\n",
      "File \u001b[0;32m/projects/HSC/LSST/stack_20220527/conda/envs/lsst-scipipe-4.0.1/share/eups/Linux64/afw/gba47b54d5d+94dc90c3ea/python/lsst/afw/display/interface.py:871\u001b[0m, in \u001b[0;36msetDefaultBackend\u001b[0;34m(backend)\u001b[0m\n\u001b[1;32m    870\u001b[0m \u001b[38;5;28;01mdef\u001b[39;00m \u001b[38;5;21msetDefaultBackend\u001b[39m(backend):\n\u001b[0;32m--> 871\u001b[0m     \u001b[43mDisplay\u001b[49m\u001b[38;5;241;43m.\u001b[39;49m\u001b[43msetDefaultBackend\u001b[49m\u001b[43m(\u001b[49m\u001b[43mbackend\u001b[49m\u001b[43m)\u001b[49m\n",
      "File \u001b[0;32m/projects/HSC/LSST/stack_20220527/conda/envs/lsst-scipipe-4.0.1/share/eups/Linux64/afw/gba47b54d5d+94dc90c3ea/python/lsst/afw/display/interface.py:269\u001b[0m, in \u001b[0;36mDisplay.setDefaultBackend\u001b[0;34m(backend)\u001b[0m\n\u001b[1;32m    267\u001b[0m     _makeDisplayImpl(\u001b[38;5;28;01mNone\u001b[39;00m, backend)\n\u001b[1;32m    268\u001b[0m \u001b[38;5;28;01mexcept\u001b[39;00m \u001b[38;5;167;01mException\u001b[39;00m \u001b[38;5;28;01mas\u001b[39;00m e:\n\u001b[0;32m--> 269\u001b[0m     \u001b[38;5;28;01mraise\u001b[39;00m \u001b[38;5;167;01mRuntimeError\u001b[39;00m(\n\u001b[1;32m    270\u001b[0m         \u001b[38;5;124mf\u001b[39m\u001b[38;5;124m\"\u001b[39m\u001b[38;5;124mUnable to set backend to \u001b[39m\u001b[38;5;132;01m{\u001b[39;00mbackend\u001b[38;5;132;01m}\u001b[39;00m\u001b[38;5;124m: \u001b[39m\u001b[38;5;130;01m\\\"\u001b[39;00m\u001b[38;5;132;01m{\u001b[39;00me\u001b[38;5;132;01m}\u001b[39;00m\u001b[38;5;130;01m\\\"\u001b[39;00m\u001b[38;5;124m\"\u001b[39m)\n\u001b[1;32m    272\u001b[0m Display\u001b[38;5;241m.\u001b[39m_defaultBackend \u001b[38;5;241m=\u001b[39m backend\n",
      "\u001b[0;31mRuntimeError\u001b[0m: Unable to set backend to matplotlib: \"module 'matplotlib' has no attribute 'DisplayImpl'\""
     ]
    }
   ],
   "source": [
    "afwDisplay.setDefaultBackend('matplotlib')\n",
    "fig, ax = plt.subplots()\n",
    "display = afwDisplay.Display(frame=fig)\n",
    "display.scale(\"linear\", \"zscale\")\n",
    "display.setMaskTransparency(80)\n",
    "obj = gaap.refCatInBand[recordId]\n",
    "footprint = obj.getFootprint()\n",
    "bbox = footprint.getBBox()\n",
    "cutout = gaap.exposure[bbox]\n",
    "display.mtv(cutout)\n",
    "display.dot(shape, *obj.getCentroid()) #*bbox.getCenter())\n",
    "# ax[1].set_title(f\"recordId = {recordId}\")"
   ]
  },
  {
   "cell_type": "code",
   "execution_count": null,
   "id": "8392075c",
   "metadata": {},
   "outputs": [],
   "source": []
  },
  {
   "cell_type": "code",
   "execution_count": null,
   "id": "c4562f79",
   "metadata": {},
   "outputs": [],
   "source": []
  },
  {
   "cell_type": "code",
   "execution_count": null,
   "id": "9a8479c0",
   "metadata": {},
   "outputs": [],
   "source": []
  },
  {
   "cell_type": "code",
   "execution_count": null,
   "id": "c2cce670",
   "metadata": {},
   "outputs": [],
   "source": []
  },
  {
   "cell_type": "code",
   "execution_count": 241,
   "id": "a7fcdfd1",
   "metadata": {},
   "outputs": [
    {
     "data": {
      "text/plain": [
       "(array([], dtype=int64),)"
      ]
     },
     "execution_count": 241,
     "metadata": {},
     "output_type": "execute_result"
    }
   ],
   "source": [
    "np.where(gaap.refCat['id'] == 3495906016606815036)"
   ]
  },
  {
   "cell_type": "code",
   "execution_count": null,
   "id": "2dafc348",
   "metadata": {},
   "outputs": [],
   "source": []
  },
  {
   "cell_type": "code",
   "execution_count": null,
   "id": "81a9d7f7",
   "metadata": {},
   "outputs": [],
   "source": []
  },
  {
   "cell_type": "code",
   "execution_count": null,
   "id": "da585e22",
   "metadata": {},
   "outputs": [],
   "source": []
  },
  {
   "cell_type": "code",
   "execution_count": null,
   "id": "8373ac06",
   "metadata": {},
   "outputs": [],
   "source": []
  },
  {
   "cell_type": "code",
   "execution_count": 184,
   "id": "e090e879",
   "metadata": {},
   "outputs": [
    {
     "data": {
      "text/plain": [
       "(Angle(150.13787587649813, degrees), Angle(150.13787587649813, degrees))"
      ]
     },
     "execution_count": 184,
     "metadata": {},
     "output_type": "execute_result"
    }
   ],
   "source": [
    "gaap.refCat[recordId]['coord_ra'], gaap.refCatInBand[recordId]['coord_ra']"
   ]
  },
  {
   "cell_type": "code",
   "execution_count": 185,
   "id": "234c2920",
   "metadata": {},
   "outputs": [
    {
     "data": {
      "text/plain": [
       "(Angle(1.9039421833395893, degrees), Angle(1.9039421833395893, degrees))"
      ]
     },
     "execution_count": 185,
     "metadata": {},
     "output_type": "execute_result"
    }
   ],
   "source": [
    "gaap.refCat[recordId]['coord_dec'], gaap.refCatInBand[recordId]['coord_dec']"
   ]
  },
  {
   "cell_type": "code",
   "execution_count": 155,
   "id": "7b9a8d50",
   "metadata": {},
   "outputs": [],
   "source": [
    "f = gaap.refCatInBand[recordId].getFootprint()"
   ]
  },
  {
   "cell_type": "code",
   "execution_count": 156,
   "id": "bf766c21",
   "metadata": {},
   "outputs": [
    {
     "data": {
      "text/plain": [
       "Box2I(corner=Point2I(0, 0), dimensions=Extent2I(0, 0))"
      ]
     },
     "execution_count": 156,
     "metadata": {},
     "output_type": "execute_result"
    }
   ],
   "source": [
    "f.getRegion()"
   ]
  },
  {
   "cell_type": "code",
   "execution_count": null,
   "id": "a3f30735",
   "metadata": {},
   "outputs": [],
   "source": []
  },
  {
   "cell_type": "code",
   "execution_count": null,
   "id": "ecbb2dad",
   "metadata": {},
   "outputs": [],
   "source": []
  },
  {
   "cell_type": "code",
   "execution_count": 279,
   "id": "486adf63",
   "metadata": {},
   "outputs": [
    {
     "data": {
      "text/plain": [
       "(1 peaks, area=197, centroid=(26260, 9329),\n",
       " 1 peaks, area=1433, centroid=(25757.5, 8038.73))"
      ]
     },
     "execution_count": 279,
     "metadata": {},
     "output_type": "execute_result"
    }
   ],
   "source": [
    "gaap.refCat[recordId].getFootprint(), gaap.refCatInBand[recordId].getFootprint()"
   ]
  },
  {
   "cell_type": "code",
   "execution_count": 280,
   "id": "64dcf915",
   "metadata": {},
   "outputs": [
    {
     "data": {
      "text/plain": [
       "(Point2D(25755.02371535539, 8036.9627385319982),\n",
       " Point2D(25755.02371535539, 8036.9627385319982))"
      ]
     },
     "execution_count": 280,
     "metadata": {},
     "output_type": "execute_result"
    }
   ],
   "source": [
    "gaap.refCat[recordId].getCentroid(), gaap.refCatInBand[recordId].getCentroid()"
   ]
  },
  {
   "cell_type": "code",
   "execution_count": 281,
   "id": "e53386fd",
   "metadata": {},
   "outputs": [
    {
     "data": {
      "text/plain": [
       "(Angle(149.88583075202334, degrees), Angle(1.7664848325281512, degrees))"
      ]
     },
     "execution_count": 281,
     "metadata": {},
     "output_type": "execute_result"
    }
   ],
   "source": [
    "gaap.refCat[recordId]['coord_ra'], gaap.refCat[recordId]['coord_dec']"
   ]
  },
  {
   "cell_type": "code",
   "execution_count": 282,
   "id": "18091cbe",
   "metadata": {},
   "outputs": [
    {
     "data": {
      "text/plain": [
       "(Angle(149.88583075202334, degrees), Angle(1.7664848325281512, degrees))"
      ]
     },
     "execution_count": 282,
     "metadata": {},
     "output_type": "execute_result"
    }
   ],
   "source": [
    "gaap.refCatInBand[recordId]['coord_ra'], gaap.refCatInBand[recordId]['coord_dec']"
   ]
  },
  {
   "cell_type": "code",
   "execution_count": null,
   "id": "e471af85",
   "metadata": {},
   "outputs": [],
   "source": []
  },
  {
   "cell_type": "code",
   "execution_count": null,
   "id": "ad5de178",
   "metadata": {},
   "outputs": [],
   "source": []
  },
  {
   "cell_type": "code",
   "execution_count": null,
   "id": "0582757c",
   "metadata": {},
   "outputs": [],
   "source": []
  },
  {
   "cell_type": "code",
   "execution_count": 84,
   "id": "60af48b3",
   "metadata": {},
   "outputs": [],
   "source": [
    "gaap.exposure.writeFits('//projects/MERIAN/repo/S20A//test.fits')"
   ]
  },
  {
   "cell_type": "code",
   "execution_count": null,
   "id": "f748698b",
   "metadata": {},
   "outputs": [],
   "source": []
  },
  {
   "cell_type": "code",
   "execution_count": null,
   "id": "397235e9",
   "metadata": {},
   "outputs": [],
   "source": []
  },
  {
   "cell_type": "code",
   "execution_count": null,
   "id": "ab592a7c",
   "metadata": {},
   "outputs": [],
   "source": []
  },
  {
   "cell_type": "code",
   "execution_count": 79,
   "id": "b1d0aac0",
   "metadata": {},
   "outputs": [
    {
     "data": {
      "text/plain": [
       "10 peaks, area=2524, centroid=(23070.4, 7936.81)"
      ]
     },
     "execution_count": 79,
     "metadata": {},
     "output_type": "execute_result"
    }
   ],
   "source": [
    "footprint"
   ]
  },
  {
   "cell_type": "code",
   "execution_count": null,
   "id": "f88d8693",
   "metadata": {},
   "outputs": [],
   "source": []
  },
  {
   "cell_type": "code",
   "execution_count": null,
   "id": "56ef3350",
   "metadata": {},
   "outputs": [],
   "source": []
  },
  {
   "cell_type": "code",
   "execution_count": null,
   "id": "5e9ed1f0",
   "metadata": {},
   "outputs": [],
   "source": []
  },
  {
   "cell_type": "code",
   "execution_count": null,
   "id": "281c79c5",
   "metadata": {},
   "outputs": [],
   "source": []
  },
  {
   "cell_type": "code",
   "execution_count": 72,
   "id": "a12923ff",
   "metadata": {},
   "outputs": [
    {
     "name": "stdout",
     "output_type": "stream",
     "text": [
      "3.8075322042763746\n"
     ]
    },
    {
     "data": {
      "text/plain": [
       "Text(0.5, 1.0, 'recordId = 44')"
      ]
     },
     "execution_count": 72,
     "metadata": {},
     "output_type": "execute_result"
    },
    {
     "data": {
      "image/png": "[encoded data removed]",
      "text/plain": [
       "<Figure size 936x288 with 3 Axes>"
      ]
     },
     "metadata": {
      "needs_background": "light"
     },
     "output_type": "display_data"
    }
   ],
   "source": [
    "recordId = 44\n",
    "scalingFactor = 1.15\n",
    "\n",
    "def printShape(shape):\n",
    "    ixx, iyy, ixy = shape.getParameterVector()\n",
    "    det = shape.getDeterminantRadius()\n",
    "    complex_ellip = ((ixx-iyy)+1j*2*ixy)/(ixx+iyy)\n",
    "    ellip = np.hypot(complex_ellip.real, complex_ellip.imag)\n",
    "#     return f\"Quad(ixx={ixx:.2f}, iyy={iyy:.2f}, ixy={ixy:.2f}); det={det:.1f}; |e|={ellip:.2f}\"\n",
    "    return rf\"$\\sigma = ${det:.1f}; |e|={ellip:.2f}\"\n",
    "\n",
    "def getSnr(sigmas):\n",
    "    for sigma in sigmas:\n",
    "        baseName = measureConfig.plugins[\"ext_gaap_GaapFlux\"]._getGaapResultName(scalingFactor, sigma, \"ext_gaap_GaapFlux\")\n",
    "        snr = gaap.measCat[recordId][baseName+\"_instFlux\"]/gaap.measCat[recordId][baseName+\"_instFluxErr\"]\n",
    "        yield snr\n",
    "        \n",
    "sigmas = np.array(measureConfig.plugins[\"ext_gaap_GaapFlux\"].sigmas)\n",
    "snrs = np.array(list(getSnr(sigmas)))\n",
    "\n",
    "fig, ax = plt.subplots(1, 2, figsize=(13,4))\n",
    "ax[0].plot(sigmas[snrs>0], snrs[snrs>0], 'o--')\n",
    "\n",
    "shape = gaap.measCat[recordId].getShape()\n",
    "optShape = afwGeom.Quadrupole(gaap.measCat[recordId][\"ext_gaap_GaapFlux_OptimalShape_xx\"],\n",
    "                              gaap.measCat[recordId][\"ext_gaap_GaapFlux_OptimalShape_yy\"],\n",
    "                              gaap.measCat[recordId][\"ext_gaap_GaapFlux_OptimalShape_xy\"],)\n",
    "sigma = optShape.getDeterminantRadius()\n",
    "print(sigma)\n",
    "snr = list(getSnr((\"Optimal\",)))[0]\n",
    "ax[0].plot(sigma, snr, '*', label='Optimal elliptical aperture')\n",
    "\n",
    "ax[0].set_ylabel(\"SNR\")\n",
    "ax[0].set_xlabel(\"Aperture radius (pix)\")\n",
    "ax[0].set_title(printShape(shape))\n",
    "#plt.yscale('log')\n",
    "ax[0].legend(loc='best')\n",
    "\n",
    "\n",
    "afwDisplay.setDefaultBackend('matplotlib')\n",
    "plt.sca(ax[1])\n",
    "display = afwDisplay.Display(frame=fig)\n",
    "display.scale(\"linear\", \"zscale\")\n",
    "# display.setMaskTransparency(100)\n",
    "footprint = gaap.refCat[recordId].getFootprint()\n",
    "bbox = footprint.getBBox()\n",
    "cutout = gaap.exposure[bbox]\n",
    "display.mtv(cutout)\n",
    "display.dot(shape, *bbox.getCenter())\n",
    "ax[1].set_title(f\"recordId = {recordId}\")"
   ]
  },
  {
   "cell_type": "code",
   "execution_count": null,
   "id": "0daeafac",
   "metadata": {},
   "outputs": [],
   "source": []
  },
  {
   "cell_type": "code",
   "execution_count": null,
   "id": "1933359f",
   "metadata": {},
   "outputs": [],
   "source": []
  },
  {
   "cell_type": "code",
   "execution_count": 64,
   "id": "14aaeaf3",
   "metadata": {},
   "outputs": [
    {
     "data": {
      "text/plain": [
       "Quadrupole(ixx=3.7529623506152876, iyy=19.116250473270973, ixy=3.007067162054985)"
      ]
     },
     "execution_count": 64,
     "metadata": {},
     "output_type": "execute_result"
    }
   ],
   "source": [
    "shape"
   ]
  },
  {
   "cell_type": "code",
   "execution_count": null,
   "id": "6b1aefc0",
   "metadata": {},
   "outputs": [],
   "source": []
  }
 ],
 "metadata": {
  "kernelspec": {
   "display_name": "Python 3 (ipykernel)",
   "language": "python",
   "name": "python3"
  },
  "language_info": {
   "codemirror_mode": {
    "name": "ipython",
    "version": 3
   },
   "file_extension": ".py",
   "mimetype": "text/x-python",
   "name": "python",
   "nbconvert_exporter": "python",
   "pygments_lexer": "ipython3",
   "version": "3.10.5"
  }
 },
 "nbformat": 4,
 "nbformat_minor": 5
}
