{
 "cells": [
  {
   "cell_type": "code",
   "execution_count": 1,
   "id": "a13ed325",
   "metadata": {},
   "outputs": [],
   "source": [
    "%load_ext autoreload\n",
    "%autoreload 2\n",
    "\n",
    "import numpy as np\n",
    "import time\n",
    "import matplotlib.pyplot as plt\n",
    "import lsst.meas.base\n",
    "import lsst.pex.config\n",
    "\n",
    "import lsst.afw.table\n",
    "import lsst.meas.algorithms\n",
    "import lsst.pex.exceptions\n",
    "import lsst.meas.extensions.gaap"
   ]
  },
  {
   "cell_type": "code",
   "execution_count": 2,
   "id": "fb519b8b",
   "metadata": {},
   "outputs": [],
   "source": [
    "from astropy.io import fits\n",
    "import sys\n",
    "sys.path.append('/home/jiaxuanl/Research/Merian/merian_tractor/scripts/')"
   ]
  },
  {
   "cell_type": "code",
   "execution_count": 117,
   "id": "5032f9c1",
   "metadata": {},
   "outputs": [
    {
     "name": "stdout",
     "output_type": "stream",
     "text": [
      "Loaded HSC deepCoadd_calexp image\n",
      "Loaded Merian reference catalog and image\n",
      "# Starting the GAaP measureTask at  Wed Nov  2 23:43:11 2022\n",
      "# Finished the GAaP measureTask in 116.49 seconds.\n"
     ]
    }
   ],
   "source": [
    "from hsc_gaap.gaap import GaapTask\n",
    "gaap = GaapTask(9813, 21, 'i', \n",
    "                repo='/projects/MERIAN/repo/', \n",
    "                collections='S20A/deepCoadd_calexp')\n",
    "gaap._checkHSCfile()\n",
    "gaap.load_merian_reference(band='N708', \n",
    "                           repo='/projects/MERIAN/repo/', \n",
    "                           collections='DECam/runs/merian/dr1_wide',\n",
    "                           range=(0, 3000)\n",
    "                          )\n",
    "gaap.setDefaultMeasureConfig()\n",
    "gaap.run()\n",
    "outcat = gaap.writeObjectTable()"
   ]
  },
  {
   "cell_type": "code",
   "execution_count": 4,
   "id": "9bfd4b13",
   "metadata": {},
   "outputs": [
    {
     "data": {
      "text/plain": [
       "[]"
      ]
     },
     "execution_count": 4,
     "metadata": {},
     "output_type": "execute_result"
    },
    {
     "data": {
      "image/png": "[encoded data removed]",
      "text/plain": [
       "<Figure size 432x288 with 1 Axes>"
      ]
     },
     "metadata": {
      "needs_background": "light"
     },
     "output_type": "display_data"
    }
   ],
   "source": [
    "plt.scatter(gaap.measCat['ext_gaap_GaapFlux_1_15x_1_0_instFlux'], \n",
    "            gaap.refCat['ext_gaap_GaapFlux_1_15x_1_0_instFlux'], s=1)\n",
    "\n",
    "plt.loglog()"
   ]
  },
  {
   "cell_type": "code",
   "execution_count": 116,
   "id": "1e89a395",
   "metadata": {},
   "outputs": [],
   "source": []
  },
  {
   "cell_type": "code",
   "execution_count": null,
   "id": "947dca00",
   "metadata": {},
   "outputs": [],
   "source": []
  },
  {
   "cell_type": "code",
   "execution_count": null,
   "id": "3ae56e9d",
   "metadata": {},
   "outputs": [],
   "source": []
  },
  {
   "cell_type": "markdown",
   "id": "72fd95de",
   "metadata": {},
   "source": [
    "# question\n",
    "How to write our catalog as a final data product? including converting `instFlux` to nanomaggies?"
   ]
  },
  {
   "cell_type": "code",
   "execution_count": null,
   "id": "8841aa53",
   "metadata": {},
   "outputs": [],
   "source": []
  },
  {
   "cell_type": "code",
   "execution_count": null,
   "id": "58f78675",
   "metadata": {},
   "outputs": [],
   "source": []
  },
  {
   "cell_type": "code",
   "execution_count": null,
   "id": "bea11ede",
   "metadata": {},
   "outputs": [],
   "source": []
  },
  {
   "cell_type": "code",
   "execution_count": null,
   "id": "7ea5eb32",
   "metadata": {},
   "outputs": [],
   "source": []
  },
  {
   "cell_type": "code",
   "execution_count": 18,
   "id": "cb99d029",
   "metadata": {},
   "outputs": [],
   "source": [
    "a = gaap.measureConfig.plugins[\"ext_gaap_GaapFlux\"]"
   ]
  },
  {
   "cell_type": "code",
   "execution_count": 22,
   "id": "f132dfef",
   "metadata": {},
   "outputs": [
    {
     "data": {
      "text/plain": [
       "['ext_gaap_GaapFlux_1_15x_0_3',\n",
       " 'ext_gaap_GaapFlux_1_15x_0_4',\n",
       " 'ext_gaap_GaapFlux_1_15x_0_5',\n",
       " 'ext_gaap_GaapFlux_1_15x_0_6',\n",
       " 'ext_gaap_GaapFlux_1_15x_0_75',\n",
       " 'ext_gaap_GaapFlux_1_15x_1_0',\n",
       " 'ext_gaap_GaapFlux_1_15x_1_5',\n",
       " 'ext_gaap_GaapFlux_1_15x_2_0',\n",
       " 'ext_gaap_GaapFlux_1_15x_PsfFlux',\n",
       " 'ext_gaap_GaapFlux_1_15x_Optimal']"
      ]
     },
     "execution_count": 22,
     "metadata": {},
     "output_type": "execute_result"
    }
   ],
   "source": [
    "list(a.getAllGaapResultNames())"
   ]
  },
  {
   "cell_type": "code",
   "execution_count": 39,
   "id": "470b5d09",
   "metadata": {},
   "outputs": [],
   "source": [
    "cat = gaap.measCat.asAstropy()\n",
    "old_gaap_cols = [item for item in gaap.measCat.schema.getOrderedNames() if 'gaap' in item]\n",
    "cat = cat[['objectId', 'coord_ra', 'coord_dec'] + old_gaap_cols]"
   ]
  },
  {
   "cell_type": "code",
   "execution_count": 40,
   "id": "dfdf2a47",
   "metadata": {},
   "outputs": [],
   "source": [
    "import astropy.units as u"
   ]
  },
  {
   "cell_type": "code",
   "execution_count": 41,
   "id": "f693070b",
   "metadata": {},
   "outputs": [],
   "source": [
    "for col in old_gaap_cols:\n",
    "    if 'instFlux' in col:\n",
    "        cat[col] = cat[col].value * gaap.exposure.photoCalib.instFluxToMagnitude(1) * u.nanomaggy"
   ]
  },
  {
   "cell_type": "code",
   "execution_count": null,
   "id": "de02ee25",
   "metadata": {},
   "outputs": [],
   "source": []
  },
  {
   "cell_type": "code",
   "execution_count": 30,
   "id": "12cf39f2",
   "metadata": {},
   "outputs": [
    {
     "data": {
      "text/plain": [
       "57.543993733715425"
      ]
     },
     "execution_count": 30,
     "metadata": {},
     "output_type": "execute_result"
    }
   ],
   "source": [
    "gaap.exposure.photoCalib.instFluxToNanojansky(1)"
   ]
  },
  {
   "cell_type": "code",
   "execution_count": 44,
   "id": "d9bce078",
   "metadata": {},
   "outputs": [],
   "source": []
  },
  {
   "cell_type": "code",
   "execution_count": 99,
   "id": "160d4410",
   "metadata": {},
   "outputs": [
    {
     "name": "stdout",
     "output_type": "stream",
     "text": [
      "0_3 N708_gaap_1_15x_0_3_flag_bigPsf\n",
      "0_3 N708_gaap_1_15x_0_3_flag\n",
      "0_4 N708_gaap_1_15x_0_4_flag_bigPsf\n",
      "0_4 N708_gaap_1_15x_0_4_flag\n",
      "0_5 N708_gaap_1_15x_0_5_flag_bigPsf\n",
      "0_5 N708_gaap_1_15x_0_5_flag\n",
      "0_6 N708_gaap_1_15x_0_6_flag_bigPsf\n",
      "0_6 N708_gaap_1_15x_0_6_flag\n",
      "0_75 N708_gaap_1_15x_0_75_flag_bigPsf\n",
      "0_75 N708_gaap_1_15x_0_75_flag\n",
      "1_0 N708_gaap_1_15x_1_0_flag_bigPsf\n",
      "1_0 N708_gaap_1_15x_1_0_flag\n",
      "1_5 N708_gaap_1_15x_1_5_flag_bigPsf\n",
      "1_5 N708_gaap_1_15x_1_5_flag\n",
      "2_0 N708_gaap_1_15x_2_0_flag_bigPsf\n",
      "2_0 N708_gaap_1_15x_2_0_flag\n",
      "Psf N708_gaap_1_15x_Psf_flag\n",
      "Optimal N708_gaap_1_15x_Optimal_flag_bigPsf\n",
      "Optimal N708_gaap_1_15x_Optimal_flag\n",
      "flag_gaussianization N708_gaap_1_15x_flag_gaussianization\n",
      "N708_gaap_edge N708_gaap_flag_edge\n",
      "N708_gaap N708_gaap_flag\n"
     ]
    }
   ],
   "source": [
    "new_gaap_cols = []\n",
    "for col in old_gaap_cols:\n",
    "    name = col.replace('ext_gaap_GaapFlux', 'N708_gaap')\n",
    "    name = name.replace('_instFlux', 'Flux').replace('PsfFlux', 'Psf')\n",
    "    if 'Flux' in name:\n",
    "        aper = name.split(\"x_\")[-1].replace('FluxErr', '').replace('Flux', '')\n",
    "        name = name.replace('_1_15x', '')\n",
    "        name = name.replace('_' + aper, aper.replace('_', 'p'))\n",
    "        \n",
    "    if 'flag' in name:\n",
    "        aper = name.split(\"x_\")[-1].replace('_flag_bigPsf', '').replace('_flag', '')\n",
    "        name = name.replace('_1_15x', '')\n",
    "        if not 'gauss' in name:\n",
    "            name = name.replace('_' + aper, aper.replace('_', 'p') + 'Flux')\n",
    "    new_gaap_cols.append(name)"
   ]
  },
  {
   "cell_type": "code",
   "execution_count": 27,
   "id": "03ec78b0",
   "metadata": {},
   "outputs": [
    {
     "data": {
      "text/html": [
       "<div><i>Table length=3000</i>\n",
       "<table id=\"table48015243070720\" class=\"table-striped table-bordered table-condensed\">\n",
       "<thead><tr><th>objectId</th><th>coord_ra</th><th>coord_dec</th><th>ext_gaap_GaapFlux_1_15x_0_3_instFlux</th><th>ext_gaap_GaapFlux_1_15x_0_3_instFluxErr</th><th>ext_gaap_GaapFlux_1_15x_0_4_instFlux</th><th>ext_gaap_GaapFlux_1_15x_0_4_instFluxErr</th><th>ext_gaap_GaapFlux_1_15x_0_5_instFlux</th><th>ext_gaap_GaapFlux_1_15x_0_5_instFluxErr</th><th>ext_gaap_GaapFlux_1_15x_0_6_instFlux</th><th>ext_gaap_GaapFlux_1_15x_0_6_instFluxErr</th><th>ext_gaap_GaapFlux_1_15x_0_75_instFlux</th><th>ext_gaap_GaapFlux_1_15x_0_75_instFluxErr</th><th>ext_gaap_GaapFlux_1_15x_1_0_instFlux</th><th>ext_gaap_GaapFlux_1_15x_1_0_instFluxErr</th><th>ext_gaap_GaapFlux_1_15x_1_5_instFlux</th><th>ext_gaap_GaapFlux_1_15x_1_5_instFluxErr</th><th>ext_gaap_GaapFlux_1_15x_2_0_instFlux</th><th>ext_gaap_GaapFlux_1_15x_2_0_instFluxErr</th><th>ext_gaap_GaapFlux_1_15x_PsfFlux_instFlux</th><th>ext_gaap_GaapFlux_1_15x_PsfFlux_instFluxErr</th><th>ext_gaap_GaapFlux_OptimalShape_xx</th><th>ext_gaap_GaapFlux_OptimalShape_yy</th><th>ext_gaap_GaapFlux_OptimalShape_xy</th><th>ext_gaap_GaapFlux_1_15x_Optimal_instFlux</th><th>ext_gaap_GaapFlux_1_15x_Optimal_instFluxErr</th><th>ext_gaap_GaapFlux_1_15x_0_3_flag_bigPsf</th><th>ext_gaap_GaapFlux_1_15x_0_3_flag</th><th>ext_gaap_GaapFlux_1_15x_0_4_flag_bigPsf</th><th>ext_gaap_GaapFlux_1_15x_0_4_flag</th><th>ext_gaap_GaapFlux_1_15x_0_5_flag_bigPsf</th><th>ext_gaap_GaapFlux_1_15x_0_5_flag</th><th>ext_gaap_GaapFlux_1_15x_0_6_flag_bigPsf</th><th>ext_gaap_GaapFlux_1_15x_0_6_flag</th><th>ext_gaap_GaapFlux_1_15x_0_75_flag_bigPsf</th><th>ext_gaap_GaapFlux_1_15x_0_75_flag</th><th>ext_gaap_GaapFlux_1_15x_1_0_flag_bigPsf</th><th>ext_gaap_GaapFlux_1_15x_1_0_flag</th><th>ext_gaap_GaapFlux_1_15x_1_5_flag_bigPsf</th><th>ext_gaap_GaapFlux_1_15x_1_5_flag</th><th>ext_gaap_GaapFlux_1_15x_2_0_flag_bigPsf</th><th>ext_gaap_GaapFlux_1_15x_2_0_flag</th><th>ext_gaap_GaapFlux_1_15x_PsfFlux_flag</th><th>ext_gaap_GaapFlux_1_15x_Optimal_flag_bigPsf</th><th>ext_gaap_GaapFlux_1_15x_Optimal_flag</th><th>ext_gaap_GaapFlux_1_15x_flag_gaussianization</th><th>ext_gaap_GaapFlux_flag_edge</th><th>ext_gaap_GaapFlux_flag</th></tr></thead>\n",
       "<thead><tr><th></th><th>rad</th><th>rad</th><th>ct</th><th>ct</th><th>ct</th><th>ct</th><th>ct</th><th>ct</th><th>ct</th><th>ct</th><th>ct</th><th>ct</th><th>ct</th><th>ct</th><th>ct</th><th>ct</th><th>ct</th><th>ct</th><th>ct</th><th>ct</th><th>pix2</th><th>pix2</th><th>pix2</th><th>ct</th><th>ct</th><th></th><th></th><th></th><th></th><th></th><th></th><th></th><th></th><th></th><th></th><th></th><th></th><th></th><th></th><th></th><th></th><th></th><th></th><th></th><th></th><th></th><th></th></tr></thead>\n",
       "<thead><tr><th>int64</th><th>float64</th><th>float64</th><th>float64</th><th>float64</th><th>float64</th><th>float64</th><th>float64</th><th>float64</th><th>float64</th><th>float64</th><th>float64</th><th>float64</th><th>float64</th><th>float64</th><th>float64</th><th>float64</th><th>float64</th><th>float64</th><th>float64</th><th>float64</th><th>float64</th><th>float64</th><th>float64</th><th>float64</th><th>float64</th><th>bool</th><th>bool</th><th>bool</th><th>bool</th><th>bool</th><th>bool</th><th>bool</th><th>bool</th><th>bool</th><th>bool</th><th>bool</th><th>bool</th><th>bool</th><th>bool</th><th>bool</th><th>bool</th><th>bool</th><th>bool</th><th>bool</th><th>bool</th><th>bool</th><th>bool</th></tr></thead>\n",
       "<tr><td>3495901618560303105</td><td>2.620422211895717</td><td>0.03079809882863815</td><td>134.17587202277528</td><td>0.5024770484247121</td><td>185.38560740459593</td><td>0.39971353089337375</td><td>236.62720228661757</td><td>0.4331301102065413</td><td>286.191109014699</td><td>0.4848885585550471</td><td>354.07659442108377</td><td>0.5749930459825846</td><td>446.1177322587686</td><td>0.7376351826078803</td><td>564.4076351809877</td><td>1.0776764916415316</td><td>631.5720797702219</td><td>1.424036171943357</td><td>188.82011088938452</td><td>0.40085763997490087</td><td>27.056269026794173</td><td>37.12386571183085</td><td>6.932159406113907</td><td>431.3533579631917</td><td>0.6950193473453383</td><td>False</td><td>False</td><td>False</td><td>False</td><td>False</td><td>False</td><td>False</td><td>False</td><td>False</td><td>False</td><td>False</td><td>False</td><td>False</td><td>False</td><td>False</td><td>False</td><td>False</td><td>False</td><td>False</td><td>False</td><td>True</td><td>False</td></tr>\n",
       "<tr><td>3495901618560303108</td><td>2.6204196189771727</td><td>0.030742902705392667</td><td>0.05927456364104037</td><td>0.38293430819695584</td><td>0.1871395304630715</td><td>0.33732330195675614</td><td>0.22192547131617985</td><td>0.36798417088965013</td><td>0.2542069955450651</td><td>0.41322698314777473</td><td>0.3050593983184747</td><td>0.4910962094003236</td><td>0.37194530583251756</td><td>0.6309733962568408</td><td>0.37804165808089824</td><td>0.9227709451236263</td><td>0.35060602292335236</td><td>1.2197528941154143</td><td>0.18661395971957973</td><td>0.33714365556614667</td><td>nan</td><td>nan</td><td>nan</td><td>nan</td><td>nan</td><td>False</td><td>False</td><td>False</td><td>False</td><td>False</td><td>False</td><td>False</td><td>False</td><td>False</td><td>False</td><td>False</td><td>False</td><td>False</td><td>False</td><td>False</td><td>False</td><td>False</td><td>True</td><td>True</td><td>False</td><td>True</td><td>False</td></tr>\n",
       "<tr><td>3495901618560303109</td><td>2.6202954409347075</td><td>0.03072649737470207</td><td>-0.1594914661886054</td><td>0.40466716253334156</td><td>-0.17666659226230857</td><td>0.35519068031020046</td><td>-0.24099684582240466</td><td>0.38732644173169173</td><td>-0.2795548025382564</td><td>0.43486938159757954</td><td>-0.3280020855136624</td><td>0.5167496522093988</td><td>-0.4214208794979272</td><td>0.6638728464368935</td><td>-0.4864401606715424</td><td>0.9708261793453488</td><td>-0.38875486612056653</td><td>1.2832480936833173</td><td>-0.17600545704871706</td><td>0.3550590118579757</td><td>17.539315591365213</td><td>8.161409225674971</td><td>-0.1467259591071865</td><td>-0.3749365380343386</td><td>0.43371591810891086</td><td>False</td><td>False</td><td>False</td><td>False</td><td>False</td><td>False</td><td>False</td><td>False</td><td>False</td><td>False</td><td>False</td><td>False</td><td>False</td><td>False</td><td>False</td><td>False</td><td>False</td><td>False</td><td>False</td><td>False</td><td>True</td><td>False</td></tr>\n",
       "<tr><td>3495901618560303110</td><td>2.620177288917647</td><td>0.03072811867111177</td><td>51.70888842086377</td><td>0.4301035521928338</td><td>8.36243273183288</td><td>0.32683267692677326</td><td>10.301420991870934</td><td>0.3534473120134105</td><td>11.890303170140326</td><td>0.39531268145775983</td><td>13.674621361335806</td><td>0.4684524329827514</td><td>15.53522001937573</td><td>0.6006707187127245</td><td>17.29136117703624</td><td>0.8772949618051449</td><td>18.110953405872216</td><td>1.159129962597037</td><td>8.551759277467227</td><td>0.32805420568254523</td><td>29.876291530400213</td><td>26.625123062114014</td><td>-7.420707974509691</td><td>14.5471015051121</td><td>0.5357414812989675</td><td>False</td><td>False</td><td>False</td><td>False</td><td>False</td><td>False</td><td>False</td><td>False</td><td>False</td><td>False</td><td>False</td><td>False</td><td>False</td><td>False</td><td>False</td><td>False</td><td>False</td><td>False</td><td>False</td><td>False</td><td>True</td><td>False</td></tr>\n",
       "<tr><td>3495901618560303111</td><td>2.620154473456086</td><td>0.03072730273098298</td><td>-0.7010720931542499</td><td>0.4279073084013646</td><td>0.7822445803578063</td><td>0.32554132838447486</td><td>1.0852620920742317</td><td>0.3520573075688794</td><td>1.304213737196537</td><td>0.3937677183784341</td><td>1.4961388907924447</td><td>0.4666324841384106</td><td>1.5846920962792976</td><td>0.5983484094838725</td><td>1.652035698536299</td><td>0.8739150625405236</td><td>1.8219055652885956</td><td>1.154669733908947</td><td>0.813496795981564</td><td>0.32675981887230776</td><td>nan</td><td>nan</td><td>nan</td><td>nan</td><td>nan</td><td>False</td><td>False</td><td>False</td><td>False</td><td>False</td><td>False</td><td>False</td><td>False</td><td>False</td><td>False</td><td>False</td><td>False</td><td>False</td><td>False</td><td>False</td><td>False</td><td>False</td><td>True</td><td>True</td><td>False</td><td>True</td><td>False</td></tr>\n",
       "<tr><td>3495901618560303112</td><td>2.619895354468313</td><td>0.0307264700302604</td><td>186.44239582909688</td><td>0.5092018193127943</td><td>18.104589897012076</td><td>0.32025495465408177</td><td>20.02213673642578</td><td>0.34453671819330983</td><td>21.5148248510513</td><td>0.38442592294609107</td><td>23.163212935725543</td><td>0.45477438574694823</td><td>24.937148965835227</td><td>0.5824434284784772</td><td>26.963934388255137</td><td>0.8500172586266422</td><td>28.172810119436978</td><td>1.1228008890478562</td><td>18.43009683048473</td><td>0.32210526374408427</td><td>16.418255749031452</td><td>16.830290275986993</td><td>-1.9246259034814162</td><td>22.632583424930438</td><td>0.4224385140428247</td><td>False</td><td>False</td><td>False</td><td>False</td><td>False</td><td>False</td><td>False</td><td>False</td><td>False</td><td>False</td><td>False</td><td>False</td><td>False</td><td>False</td><td>False</td><td>False</td><td>False</td><td>False</td><td>False</td><td>False</td><td>True</td><td>False</td></tr>\n",
       "<tr><td>...</td><td>...</td><td>...</td><td>...</td><td>...</td><td>...</td><td>...</td><td>...</td><td>...</td><td>...</td><td>...</td><td>...</td><td>...</td><td>...</td><td>...</td><td>...</td><td>...</td><td>...</td><td>...</td><td>...</td><td>...</td><td>...</td><td>...</td><td>...</td><td>...</td><td>...</td><td>...</td><td>...</td><td>...</td><td>...</td><td>...</td><td>...</td><td>...</td><td>...</td><td>...</td><td>...</td><td>...</td><td>...</td><td>...</td><td>...</td><td>...</td><td>...</td><td>...</td><td>...</td><td>...</td><td>...</td><td>...</td><td>...</td></tr>\n",
       "<tr><td>3495901618560307665</td><td>2.617563846021103</td><td>0.03206789452498169</td><td>5.041967670263683</td><td>0.5145694003009829</td><td>0.19320343167514256</td><td>0.33215271598419954</td><td>0.13130767108789568</td><td>0.35722084331561516</td><td>0.10108217152178459</td><td>0.39851286725447105</td><td>0.1213927764077612</td><td>0.4713791904189581</td><td>0.4196255979515116</td><td>0.603653399284981</td><td>1.9863602745733377</td><td>0.8809154343296204</td><td>3.7650991647260206</td><td>1.1635898775803861</td><td>0.18281197449960018</td><td>0.33391870065313434</td><td>nan</td><td>nan</td><td>nan</td><td>nan</td><td>nan</td><td>False</td><td>False</td><td>False</td><td>False</td><td>False</td><td>False</td><td>False</td><td>False</td><td>False</td><td>False</td><td>False</td><td>False</td><td>False</td><td>False</td><td>False</td><td>False</td><td>False</td><td>True</td><td>True</td><td>False</td><td>False</td><td>False</td></tr>\n",
       "<tr><td>3495901618560307666</td><td>2.6174090886814323</td><td>0.032067140853794925</td><td>nan</td><td>nan</td><td>72.93477861136847</td><td>0.402310844847653</td><td>73.04765453231678</td><td>0.4199983321826179</td><td>73.48073340433419</td><td>0.46215342459152065</td><td>74.38855187625012</td><td>0.5413765958004314</td><td>75.95779942867398</td><td>0.6887035540044392</td><td>79.51573006665683</td><td>1.0007201903255174</td><td>84.61382897536356</td><td>1.3199605507552539</td><td>72.95880399444377</td><td>0.40583490927742033</td><td>10.008083262135926</td><td>10.178816281016172</td><td>-0.03573471971056954</td><td>73.16094447771509</td><td>0.43253882361992896</td><td>True</td><td>True</td><td>False</td><td>False</td><td>False</td><td>False</td><td>False</td><td>False</td><td>False</td><td>False</td><td>False</td><td>False</td><td>False</td><td>False</td><td>False</td><td>False</td><td>False</td><td>False</td><td>False</td><td>False</td><td>False</td><td>False</td></tr>\n",
       "<tr><td>3495901618560307667</td><td>2.6198119320378757</td><td>0.032069801811602246</td><td>-6.357277090654349</td><td>0.4298484884573276</td><td>-0.020219412908396597</td><td>0.28567947028520224</td><td>-0.00433171085255646</td><td>0.30782171036230377</td><td>-0.09586784874297995</td><td>0.3437311815067165</td><td>-0.2853466457054811</td><td>0.40687252754437153</td><td>-0.5246162954224718</td><td>0.5213139838481544</td><td>-0.5497493439290113</td><td>0.7610195468614358</td><td>-0.2940652201867239</td><td>1.005337888243089</td><td>-0.007738050906528571</td><td>0.2872564141091503</td><td>nan</td><td>nan</td><td>nan</td><td>nan</td><td>nan</td><td>False</td><td>False</td><td>False</td><td>False</td><td>False</td><td>False</td><td>False</td><td>False</td><td>False</td><td>False</td><td>False</td><td>False</td><td>False</td><td>False</td><td>False</td><td>False</td><td>False</td><td>True</td><td>True</td><td>False</td><td>False</td><td>False</td></tr>\n",
       "<tr><td>3495901618560307668</td><td>2.619539155426446</td><td>0.03207074780419022</td><td>18.63822203673941</td><td>0.41599540246515215</td><td>1.7198088551719282</td><td>0.2822793887957815</td><td>1.8639019958412404</td><td>0.3043473083671133</td><td>1.8560451799267326</td><td>0.33993777767848793</td><td>1.637909696086335</td><td>0.40245095550500415</td><td>1.1189002380538886</td><td>0.5157070300392538</td><td>0.44850079855716146</td><td>0.7528883457136002</td><td>0.22724618353172787</td><td>0.9946195080728233</td><td>1.7469170019919602</td><td>0.2837815044224436</td><td>nan</td><td>nan</td><td>nan</td><td>nan</td><td>nan</td><td>False</td><td>False</td><td>False</td><td>False</td><td>False</td><td>False</td><td>False</td><td>False</td><td>False</td><td>False</td><td>False</td><td>False</td><td>False</td><td>False</td><td>False</td><td>False</td><td>False</td><td>True</td><td>True</td><td>False</td><td>False</td><td>False</td></tr>\n",
       "<tr><td>3495901618560307669</td><td>2.617365039908144</td><td>0.032069993557476355</td><td>nan</td><td>nan</td><td>0.46027280324329845</td><td>0.3601442768162855</td><td>0.6159692172284533</td><td>0.37602574185396165</td><td>0.9391279064213068</td><td>0.4137967403330997</td><td>1.5274818039519926</td><td>0.4847569033096339</td><td>2.478162984227448</td><td>0.6166998696168664</td><td>3.7986861534531315</td><td>0.896118745348651</td><td>4.534678139179129</td><td>1.1820005299324394</td><td>0.5037272650561135</td><td>0.36331478546606166</td><td>nan</td><td>nan</td><td>nan</td><td>nan</td><td>nan</td><td>True</td><td>True</td><td>False</td><td>False</td><td>False</td><td>False</td><td>False</td><td>False</td><td>False</td><td>False</td><td>False</td><td>False</td><td>False</td><td>False</td><td>False</td><td>False</td><td>False</td><td>True</td><td>True</td><td>False</td><td>False</td><td>False</td></tr>\n",
       "<tr><td>3495901618560307670</td><td>2.619145152167007</td><td>0.032116436029787296</td><td>11439.365049877466</td><td>2.1096415901011154</td><td>2007.0724655064132</td><td>1.4360221867814529</td><td>2610.822438946268</td><td>1.5486187913824918</td><td>3001.929713022673</td><td>1.7298812850067595</td><td>3381.0122693706985</td><td>2.048140737607172</td><td>3751.3010213294456</td><td>2.624646358563716</td><td>4116.835621154213</td><td>3.831881582436348</td><td>4298.076614185559</td><td>5.062244054907897</td><td>2104.7301473906264</td><td>1.4436562804088895</td><td>8.308139931983437</td><td>8.494832932128023</td><td>-0.41032405020330204</td><td>2549.784324607352</td><td>1.5279687517550338</td><td>False</td><td>False</td><td>False</td><td>False</td><td>False</td><td>False</td><td>False</td><td>False</td><td>False</td><td>False</td><td>False</td><td>False</td><td>False</td><td>False</td><td>False</td><td>False</td><td>False</td><td>False</td><td>False</td><td>False</td><td>False</td><td>False</td></tr>\n",
       "<tr><td>3495901618560307671</td><td>2.617725279908131</td><td>0.03207172244947212</td><td>-4.538502064777849</td><td>0.49880391004259983</td><td>-0.3504738316588512</td><td>0.3100067351689624</td><td>-0.29824854245860216</td><td>0.3332849621152251</td><td>-0.22415370822095546</td><td>0.37173584696246564</td><td>-0.10834546066464287</td><td>0.4396387861555891</td><td>0.053549378338112644</td><td>0.5629440255305496</td><td>0.35353191622155916</td><td>0.821446982590795</td><td>0.6817926895055764</td><td>1.0850115861895533</td><td>-0.3456530299825289</td><td>0.31175889526573847</td><td>nan</td><td>nan</td><td>nan</td><td>nan</td><td>nan</td><td>False</td><td>False</td><td>False</td><td>False</td><td>False</td><td>False</td><td>False</td><td>False</td><td>False</td><td>False</td><td>False</td><td>False</td><td>False</td><td>False</td><td>False</td><td>False</td><td>False</td><td>True</td><td>True</td><td>False</td><td>False</td><td>False</td></tr>\n",
       "</table></div>"
      ],
      "text/plain": [
       "<Table length=3000>\n",
       "      objectId           coord_ra      ... ext_gaap_GaapFlux_flag\n",
       "                           rad         ...                       \n",
       "       int64             float64       ...          bool         \n",
       "------------------- ------------------ ... ----------------------\n",
       "3495901618560303105  2.620422211895717 ...                  False\n",
       "3495901618560303108 2.6204196189771727 ...                  False\n",
       "3495901618560303109 2.6202954409347075 ...                  False\n",
       "3495901618560303110  2.620177288917647 ...                  False\n",
       "3495901618560303111  2.620154473456086 ...                  False\n",
       "3495901618560303112  2.619895354468313 ...                  False\n",
       "                ...                ... ...                    ...\n",
       "3495901618560307665  2.617563846021103 ...                  False\n",
       "3495901618560307666 2.6174090886814323 ...                  False\n",
       "3495901618560307667 2.6198119320378757 ...                  False\n",
       "3495901618560307668  2.619539155426446 ...                  False\n",
       "3495901618560307669  2.617365039908144 ...                  False\n",
       "3495901618560307670  2.619145152167007 ...                  False\n",
       "3495901618560307671  2.617725279908131 ...                  False"
      ]
     },
     "execution_count": 27,
     "metadata": {},
     "output_type": "execute_result"
    }
   ],
   "source": [
    "cat.rename_columns()"
   ]
  },
  {
   "cell_type": "code",
   "execution_count": null,
   "id": "aeca961f",
   "metadata": {},
   "outputs": [],
   "source": []
  },
  {
   "cell_type": "code",
   "execution_count": null,
   "id": "44bacf53",
   "metadata": {},
   "outputs": [],
   "source": []
  },
  {
   "cell_type": "code",
   "execution_count": 105,
   "id": "e415b53f",
   "metadata": {},
   "outputs": [
    {
     "data": {
      "text/plain": [
       "(1430, 3000)"
      ]
     },
     "execution_count": 105,
     "metadata": {},
     "output_type": "execute_result"
    }
   ],
   "source": [
    "good_objects = ~(outcat[\"i_gaap_flag\"] | outcat['i_gaapOptimalFlux_flag_bigPsf'])\n",
    "np.sum(good_objects), len(good_objects)"
   ]
  },
  {
   "cell_type": "code",
   "execution_count": 106,
   "id": "a150f5c5",
   "metadata": {
    "scrolled": false
   },
   "outputs": [
    {
     "name": "stderr",
     "output_type": "stream",
     "text": [
      "/tmp/ipykernel_266711/3204027037.py:13: RuntimeWarning: invalid value encountered in true_divide\n",
      "  snr = gaap.measCat[baseName+\"_instFlux\"][good_objects] / gaap.measCat[baseName+\"_instFluxErr\"][good_objects]\n"
     ]
    },
    {
     "data": {
      "text/plain": [
       "Text(0.5, 0, 'Sigmas')"
      ]
     },
     "execution_count": 106,
     "metadata": {},
     "output_type": "execute_result"
    },
    {
     "data": {
      "image/png": "[encoded data removed]",
      "text/plain": [
       "<Figure size 1224x432 with 2 Axes>"
      ]
     },
     "metadata": {
      "needs_background": "light"
     },
     "output_type": "display_data"
    }
   ],
   "source": [
    "fig, ax = plt.subplots(1, 2, figsize=(17,6))\n",
    "bins = np.logspace(-2,4,61)\n",
    "\n",
    "baseNames = list(gaap.measureConfig.plugins[\"ext_gaap_GaapFlux\"].getAllGaapResultNames(\"ext_gaap_GaapFlux\"))\n",
    "statistic_list = []\n",
    "statistic_upper_list, statistic_lower_list = [], []\n",
    "\n",
    "for baseName in gaap.measureConfig.plugins[\"ext_gaap_GaapFlux\"].getAllGaapResultNames(\"ext_gaap_GaapFlux\"):\n",
    "    label = baseName.split(\"x_\")[-1]\n",
    "    #if label[-1]=='5': continue\n",
    "#     if \"PsfFlux\" in label: continue\n",
    "    histtype='stepfilled' if \"Optimal\" in baseName else 'step'\n",
    "    snr = gaap.measCat[baseName+\"_instFlux\"][good_objects] / gaap.measCat[baseName+\"_instFluxErr\"][good_objects]\n",
    "    ax[0].hist(snr, bins=bins, histtype=histtype,label=label, alpha=0.4)\n",
    "    statistic = np.nanpercentile(snr, 50)\n",
    "    # statistic = np.nanmean(snr)\n",
    "    if \"Optimal\" in label:\n",
    "        optStatistic = np.nanpercentile(snr, 50)\n",
    "    if not (\"PsfFlux\" in label or \"Optimal\" in label):\n",
    "        statistic_list.append(statistic)\n",
    "        statistic_upper_list.append(np.percentile(snr, 84))\n",
    "        statistic_lower_list.append(np.percentile(snr, 16))\n",
    "\n",
    "ax[0].set_xscale('log')\n",
    "ax[0].set_xlabel(\"SNR = instFlux/instFluxErr\")\n",
    "#ax[0].set_yscale('log')\n",
    "ax[0].legend(loc='best')\n",
    "\n",
    "sigmas = gaap.measureConfig.plugins[\"ext_gaap_GaapFlux\"].sigmas.list()\n",
    "ax[1].plot(sigmas, statistic_list, 'o-')\n",
    "#ax[1].fill_between(sigmas, statistic_upper_list, statistic_lower_list, alpha=0.4)\n",
    "# ax[1].plot(3.6, optStatistic, \"*\", markersize=12)\n",
    "ax[1].set_ylabel(\"Median SNR\")\n",
    "ax[1].set_xlabel(\"Sigmas\")\n",
    "# ax[1].axvline(3.5, color='k', ls='-.')"
   ]
  },
  {
   "cell_type": "code",
   "execution_count": null,
   "id": "1112a601",
   "metadata": {},
   "outputs": [],
   "source": []
  },
  {
   "cell_type": "code",
   "execution_count": null,
   "id": "d7cc3f1e",
   "metadata": {},
   "outputs": [],
   "source": []
  },
  {
   "cell_type": "code",
   "execution_count": null,
   "id": "fb8b7f38",
   "metadata": {},
   "outputs": [],
   "source": []
  },
  {
   "cell_type": "code",
   "execution_count": null,
   "id": "23b0f1d8",
   "metadata": {},
   "outputs": [],
   "source": []
  },
  {
   "cell_type": "code",
   "execution_count": null,
   "id": "a12923ff",
   "metadata": {},
   "outputs": [],
   "source": []
  },
  {
   "cell_type": "code",
   "execution_count": 7,
   "id": "055697bc",
   "metadata": {},
   "outputs": [],
   "source": [
    "# Load Merian catalog as reference\n",
    "filt = 'N708'\n",
    "tract = 9813\n",
    "patch = 56\n",
    "patch_old = f'{patch % 9},{patch // 9}'\n",
    "\n",
    "import lsst.daf.butler as dafButler\n",
    "butler = dafButler.Butler('/projects/MERIAN/repo/')\n",
    "dataId = dict(tract=tract, patch=patch, band=filt)\n",
    "refCat = butler.get(\n",
    "    'objectTable',\n",
    "    collections='DECam/runs/merian/dr1_wide',\n",
    "    dataId=dataId,\n",
    "    instrument='DECam',\n",
    "    skymap='hsc_rings_v1',\n",
    ")\n",
    "refCat = refCat[:1000]"
   ]
  },
  {
   "cell_type": "code",
   "execution_count": 13,
   "id": "0790dfd9",
   "metadata": {
    "scrolled": false
   },
   "outputs": [
    {
     "data": {
      "text/plain": [
       "['N540_gaapPsfFlux',\n",
       " 'N540_gaapPsfFluxErr',\n",
       " 'N540_gaap0p5Flux',\n",
       " 'N540_gaap0p5FluxErr',\n",
       " 'N540_gaap0p7Flux',\n",
       " 'N540_gaap0p7FluxErr',\n",
       " 'N540_gaap1p0Flux',\n",
       " 'N540_gaap1p0FluxErr',\n",
       " 'N540_gaap1p5Flux',\n",
       " 'N540_gaap1p5FluxErr',\n",
       " 'N540_gaap2p5Flux',\n",
       " 'N540_gaap2p5FluxErr',\n",
       " 'N540_gaap3p0Flux',\n",
       " 'N540_gaap3p0FluxErr',\n",
       " 'N540_gaapOptimalFlux',\n",
       " 'N540_gaapOptimalFluxErr',\n",
       " 'N540_gaapFlux_flag',\n",
       " 'N540_gaapFlux_flag_edge',\n",
       " 'N540_gaapFlux_flag_gaussianization',\n",
       " 'N540_gaapOptimalFlux_flag_bigPsf',\n",
       " 'N540_gaap0p5Flux_flag_bigPsf',\n",
       " 'N540_gaap0p7Flux_flag_bigPsf',\n",
       " 'N540_gaap1p0Flux_flag_bigPsf',\n",
       " 'N540_gaap1p5Flux_flag_bigPsf',\n",
       " 'N540_gaap2p5Flux_flag_bigPsf',\n",
       " 'N540_gaap3p0Flux_flag_bigPsf',\n",
       " 'N708_gaapPsfFlux',\n",
       " 'N708_gaapPsfFluxErr',\n",
       " 'N708_gaap0p5Flux',\n",
       " 'N708_gaap0p5FluxErr',\n",
       " 'N708_gaap0p7Flux',\n",
       " 'N708_gaap0p7FluxErr',\n",
       " 'N708_gaap1p0Flux',\n",
       " 'N708_gaap1p0FluxErr',\n",
       " 'N708_gaap1p5Flux',\n",
       " 'N708_gaap1p5FluxErr',\n",
       " 'N708_gaap2p5Flux',\n",
       " 'N708_gaap2p5FluxErr',\n",
       " 'N708_gaap3p0Flux',\n",
       " 'N708_gaap3p0FluxErr',\n",
       " 'N708_gaapOptimalFlux',\n",
       " 'N708_gaapOptimalFluxErr',\n",
       " 'N708_gaapFlux_flag',\n",
       " 'N708_gaapFlux_flag_edge',\n",
       " 'N708_gaapFlux_flag_gaussianization',\n",
       " 'N708_gaapOptimalFlux_flag_bigPsf',\n",
       " 'N708_gaap0p5Flux_flag_bigPsf',\n",
       " 'N708_gaap0p7Flux_flag_bigPsf',\n",
       " 'N708_gaap1p0Flux_flag_bigPsf',\n",
       " 'N708_gaap1p5Flux_flag_bigPsf',\n",
       " 'N708_gaap2p5Flux_flag_bigPsf',\n",
       " 'N708_gaap3p0Flux_flag_bigPsf']"
      ]
     },
     "execution_count": 13,
     "metadata": {},
     "output_type": "execute_result"
    }
   ],
   "source": [
    "[item for item in refCat.columns.to_numpy() if 'gaap' in item]"
   ]
  },
  {
   "cell_type": "code",
   "execution_count": null,
   "id": "5c2f2a14",
   "metadata": {},
   "outputs": [],
   "source": []
  },
  {
   "cell_type": "code",
   "execution_count": null,
   "id": "61937ce5",
   "metadata": {},
   "outputs": [],
   "source": []
  },
  {
   "cell_type": "markdown",
   "id": "35b40246",
   "metadata": {},
   "source": [
    "## Try gaap with reference catalog"
   ]
  },
  {
   "cell_type": "code",
   "execution_count": 115,
   "id": "0adc2aaa",
   "metadata": {},
   "outputs": [],
   "source": [
    "# Load Merian catalog as reference\n",
    "filt = 'N708'\n",
    "tract = 9813\n",
    "patch = 56\n",
    "patch_old = f'{patch % 9},{patch // 9}'\n",
    "\n",
    "import lsst.daf.butler as dafButler\n",
    "butler = dafButler.Butler('/projects/MERIAN/repo/')\n",
    "dataId = dict(tract=tract, patch=patch, band=filt)\n",
    "refCat = butler.get(\n",
    "    'deepCoadd_forced_src',\n",
    "    collections='DECam/runs/merian/dr1_wide',\n",
    "    dataId=dataId,\n",
    "    instrument='DECam',\n",
    "    skymap='hsc_rings_v1',\n",
    ")\n",
    "refCat = refCat[:1000]\n",
    "refExposure = butler.get(\n",
    "    'deepCoadd_calexp',\n",
    "    collections='DECam/runs/merian/dr1_wide',\n",
    "    dataId=dataId,\n",
    "    instrument='DECam',\n",
    "    skymap='hsc_rings_v1',\n",
    ")"
   ]
  },
  {
   "cell_type": "code",
   "execution_count": null,
   "id": "4b095eae",
   "metadata": {},
   "outputs": [],
   "source": []
  },
  {
   "cell_type": "code",
   "execution_count": null,
   "id": "bba53811",
   "metadata": {},
   "outputs": [],
   "source": []
  },
  {
   "cell_type": "code",
   "execution_count": 116,
   "id": "deb42724",
   "metadata": {},
   "outputs": [],
   "source": [
    "exposure = lsst.afw.image.ExposureF(f\"/projects/MERIAN/repo/S20A/9813/{patch_old}/calexp-HSC-I-{tract}-{patch_old}.fits\")\n",
    "# exposure = lsst.afw.image.ExposureF(\n",
    "#     \"/projects/MERIAN/repo/HSC/runs/RC2/w_2022_04/DM-33402/20220128T212035Z/deepCoadd_calexp/9813/79/i/deepCoadd_calexp_9813_79_i_hsc_rings_v1_HSC_runs_RC2_w_2022_04_DM-33402_20220128T212035Z.fits\")\n",
    "# exposure = lsst.afw.image.ExposureF(\n",
    "#     \"/projects/MERIAN/repo/DECam/runs/merian/dr1_wide/20220921T193246Z/deepCoadd_calexp/9813/79/N708/deepCoadd_calexp_9813_79_N708_hsc_rings_v1_DECam_runs_merian_dr1_wide_20220921T193246Z.fits\")"
   ]
  },
  {
   "cell_type": "code",
   "execution_count": 118,
   "id": "d5253ab5",
   "metadata": {},
   "outputs": [],
   "source": [
    "measureConfig = lsst.meas.base.ForcedMeasurementConfig()\n",
    "measureConfig.plugins.names.add(\"ext_gaap_GaapFlux\")\n",
    "measureConfig.plugins.names.add(\"base_SdssShape\")\n",
    "measureConfig.plugins.names.add(\"base_SdssCentroid\")\n",
    "measureConfig.plugins.names.add(\"ext_gaap_GaapFlux\")\n",
    "measureConfig.plugins[\"ext_gaap_GaapFlux\"].doMeasure = True  # Set it to False for timing comparison\n",
    "measureConfig.plugins[\"ext_gaap_GaapFlux\"].doPsfPhotometry = True\n",
    "measureConfig.plugins[\"ext_gaap_GaapFlux\"].doOptimalPhotometry = False\n",
    "measureConfig.plugins[\"ext_gaap_GaapFlux\"].sigmas = [0.25, 0.5, 0.75, 1.0, 1.5, 2.0, 2.5, 3.0]\n",
    "measureTask2 = lsst.meas.base.ForcedMeasurementTask(refSchema=refCat.schema, config=measureConfig)"
   ]
  },
  {
   "cell_type": "code",
   "execution_count": 119,
   "id": "bca6b5df",
   "metadata": {},
   "outputs": [],
   "source": [
    "catalog = measureTask2.generateMeasCat(refExposure, refCat, refExposure.wcs, refCat.getIdFactory())\n",
    "# measureTask2.attachTransformedFootprints(catalog, refCat, refExposure, refExposure.wcs)"
   ]
  },
  {
   "cell_type": "code",
   "execution_count": 120,
   "id": "63b43c7a",
   "metadata": {},
   "outputs": [
    {
     "name": "stdout",
     "output_type": "stream",
     "text": [
      "# Starting the measureTask at  Wed Nov  2 16:50:29 2022\n",
      "# Finished measureTask in 44.05 seconds.\n"
     ]
    }
   ],
   "source": [
    "print(\"# Starting the measureTask at \", time.ctime())\n",
    "t1 = time.time()\n",
    "measureTask2.run(catalog, exposure, refCat=refCat, refWcs=refExposure.wcs)\n",
    "t2 = time.time()\n",
    "print(\"# Finished measureTask in %.2f seconds.\" % (t2-t1))\n",
    "cat2 = catalog.copy(deep=True).asAstropy()"
   ]
  },
  {
   "cell_type": "code",
   "execution_count": 121,
   "id": "0d7b7922",
   "metadata": {},
   "outputs": [
    {
     "data": {
      "text/plain": [
       "[]"
      ]
     },
     "execution_count": 121,
     "metadata": {},
     "output_type": "execute_result"
    },
    {
     "data": {
      "image/png": "[encoded data removed]",
      "text/plain": [
       "<Figure size 432x288 with 1 Axes>"
      ]
     },
     "metadata": {
      "needs_background": "light"
     },
     "output_type": "display_data"
    }
   ],
   "source": [
    "plt.scatter(catalog['ext_gaap_GaapFlux_1_15x_1_0_instFlux'], refCat['ext_gaap_GaapFlux_1_15x_1_0_instFlux'], s=1)\n",
    "\n",
    "plt.loglog()"
   ]
  },
  {
   "cell_type": "code",
   "execution_count": 122,
   "id": "c974e25e",
   "metadata": {},
   "outputs": [
    {
     "data": {
      "text/plain": [
       "[]"
      ]
     },
     "execution_count": 122,
     "metadata": {},
     "output_type": "execute_result"
    },
    {
     "data": {
      "image/png": "[encoded data removed]",
      "text/plain": [
       "<Figure size 432x288 with 1 Axes>"
      ]
     },
     "metadata": {
      "needs_background": "light"
     },
     "output_type": "display_data"
    }
   ],
   "source": [
    "plt.scatter(catalog['base_PsfFlux_instFlux'], refCat['base_PsfFlux_instFlux'], s=1)\n",
    "\n",
    "plt.loglog()"
   ]
  },
  {
   "cell_type": "code",
   "execution_count": null,
   "id": "e75c9cbf",
   "metadata": {},
   "outputs": [],
   "source": []
  },
  {
   "cell_type": "markdown",
   "id": "92b0c12e",
   "metadata": {},
   "source": [
    "### WriteObjectTable"
   ]
  },
  {
   "cell_type": "code",
   "execution_count": 46,
   "id": "c261478b",
   "metadata": {},
   "outputs": [],
   "source": [
    "cat2 = gaap.measCat.copy(deep=True).asAstropy()"
   ]
  },
  {
   "cell_type": "code",
   "execution_count": 49,
   "id": "91dde77c",
   "metadata": {},
   "outputs": [],
   "source": [
    "import astropy.units as u"
   ]
  },
  {
   "cell_type": "code",
   "execution_count": 50,
   "id": "b15823d8",
   "metadata": {},
   "outputs": [],
   "source": [
    "cat2['coord_ra'] = cat2['coord_ra'].to(u.deg)\n",
    "cat2['coord_dec'] = cat2['coord_dec'].to(u.deg)"
   ]
  },
  {
   "cell_type": "code",
   "execution_count": 53,
   "id": "e2ef1d31",
   "metadata": {},
   "outputs": [
    {
     "data": {
      "text/plain": [
       "{'base_CircularApertureFlux_12_0_flag',\n",
       " 'base_CircularApertureFlux_12_0_flag_apertureTruncated',\n",
       " 'base_CircularApertureFlux_12_0_instFlux',\n",
       " 'base_CircularApertureFlux_12_0_instFluxErr',\n",
       " 'base_CircularApertureFlux_17_0_flag',\n",
       " 'base_CircularApertureFlux_17_0_flag_apertureTruncated',\n",
       " 'base_CircularApertureFlux_17_0_instFlux',\n",
       " 'base_CircularApertureFlux_17_0_instFluxErr',\n",
       " 'base_CircularApertureFlux_25_0_flag',\n",
       " 'base_CircularApertureFlux_25_0_flag_apertureTruncated',\n",
       " 'base_CircularApertureFlux_25_0_instFlux',\n",
       " 'base_CircularApertureFlux_25_0_instFluxErr',\n",
       " 'base_CircularApertureFlux_35_0_flag',\n",
       " 'base_CircularApertureFlux_35_0_flag_apertureTruncated',\n",
       " 'base_CircularApertureFlux_35_0_instFlux',\n",
       " 'base_CircularApertureFlux_35_0_instFluxErr',\n",
       " 'base_CircularApertureFlux_3_0_flag',\n",
       " 'base_CircularApertureFlux_3_0_flag_apertureTruncated',\n",
       " 'base_CircularApertureFlux_3_0_flag_sincCoeffsTruncated',\n",
       " 'base_CircularApertureFlux_3_0_instFlux',\n",
       " 'base_CircularApertureFlux_3_0_instFluxErr',\n",
       " 'base_CircularApertureFlux_4_5_flag',\n",
       " 'base_CircularApertureFlux_4_5_flag_apertureTruncated',\n",
       " 'base_CircularApertureFlux_4_5_flag_sincCoeffsTruncated',\n",
       " 'base_CircularApertureFlux_4_5_instFlux',\n",
       " 'base_CircularApertureFlux_4_5_instFluxErr',\n",
       " 'base_CircularApertureFlux_50_0_flag',\n",
       " 'base_CircularApertureFlux_50_0_flag_apertureTruncated',\n",
       " 'base_CircularApertureFlux_50_0_instFlux',\n",
       " 'base_CircularApertureFlux_50_0_instFluxErr',\n",
       " 'base_CircularApertureFlux_6_0_flag',\n",
       " 'base_CircularApertureFlux_6_0_flag_apertureTruncated',\n",
       " 'base_CircularApertureFlux_6_0_flag_sincCoeffsTruncated',\n",
       " 'base_CircularApertureFlux_6_0_instFlux',\n",
       " 'base_CircularApertureFlux_6_0_instFluxErr',\n",
       " 'base_CircularApertureFlux_70_0_flag',\n",
       " 'base_CircularApertureFlux_70_0_flag_apertureTruncated',\n",
       " 'base_CircularApertureFlux_70_0_instFlux',\n",
       " 'base_CircularApertureFlux_70_0_instFluxErr',\n",
       " 'base_CircularApertureFlux_9_0_flag',\n",
       " 'base_CircularApertureFlux_9_0_flag_apertureTruncated',\n",
       " 'base_CircularApertureFlux_9_0_flag_sincCoeffsTruncated',\n",
       " 'base_CircularApertureFlux_9_0_instFlux',\n",
       " 'base_CircularApertureFlux_9_0_instFluxErr',\n",
       " 'base_GaussianFlux_flag',\n",
       " 'base_GaussianFlux_instFlux',\n",
       " 'base_GaussianFlux_instFluxErr',\n",
       " 'base_LocalBackground_flag',\n",
       " 'base_LocalBackground_flag_noGoodPixels',\n",
       " 'base_LocalBackground_flag_noPsf',\n",
       " 'base_LocalBackground_instFlux',\n",
       " 'base_LocalBackground_instFluxErr',\n",
       " 'base_PixelFlags_flag',\n",
       " 'base_PixelFlags_flag_bad',\n",
       " 'base_PixelFlags_flag_cr',\n",
       " 'base_PixelFlags_flag_crCenter',\n",
       " 'base_PixelFlags_flag_edge',\n",
       " 'base_PixelFlags_flag_interpolated',\n",
       " 'base_PixelFlags_flag_interpolatedCenter',\n",
       " 'base_PixelFlags_flag_offimage',\n",
       " 'base_PixelFlags_flag_saturated',\n",
       " 'base_PixelFlags_flag_saturatedCenter',\n",
       " 'base_PixelFlags_flag_suspect',\n",
       " 'base_PixelFlags_flag_suspectCenter',\n",
       " 'base_PsfFlux_area',\n",
       " 'base_PsfFlux_chi2',\n",
       " 'base_PsfFlux_flag',\n",
       " 'base_PsfFlux_flag_edge',\n",
       " 'base_PsfFlux_flag_noGoodPixels',\n",
       " 'base_PsfFlux_instFlux',\n",
       " 'base_PsfFlux_instFluxErr',\n",
       " 'base_PsfFlux_npixels',\n",
       " 'base_SdssCentroid_flag',\n",
       " 'base_SdssCentroid_flag_almostNoSecondDerivative',\n",
       " 'base_SdssCentroid_flag_badError',\n",
       " 'base_SdssCentroid_flag_edge',\n",
       " 'base_SdssCentroid_flag_noSecondDerivative',\n",
       " 'base_SdssCentroid_flag_notAtMaximum',\n",
       " 'base_SdssCentroid_flag_resetToPeak',\n",
       " 'base_SdssCentroid_x',\n",
       " 'base_SdssCentroid_xErr',\n",
       " 'base_SdssCentroid_y',\n",
       " 'base_SdssCentroid_yErr',\n",
       " 'base_SdssShape_flag',\n",
       " 'base_SdssShape_flag_maxIter',\n",
       " 'base_SdssShape_flag_psf',\n",
       " 'base_SdssShape_flag_shift',\n",
       " 'base_SdssShape_flag_unweighted',\n",
       " 'base_SdssShape_flag_unweightedBad',\n",
       " 'base_SdssShape_instFlux',\n",
       " 'base_SdssShape_instFluxErr',\n",
       " 'base_SdssShape_instFlux_xx_Cov',\n",
       " 'base_SdssShape_instFlux_xy_Cov',\n",
       " 'base_SdssShape_instFlux_yy_Cov',\n",
       " 'base_SdssShape_psf_xx',\n",
       " 'base_SdssShape_psf_xy',\n",
       " 'base_SdssShape_psf_yy',\n",
       " 'base_SdssShape_x',\n",
       " 'base_SdssShape_xx',\n",
       " 'base_SdssShape_xxErr',\n",
       " 'base_SdssShape_xy',\n",
       " 'base_SdssShape_xyErr',\n",
       " 'base_SdssShape_y',\n",
       " 'base_SdssShape_yy',\n",
       " 'base_SdssShape_yyErr',\n",
       " 'base_TransformedCentroid_flag',\n",
       " 'base_TransformedCentroid_x',\n",
       " 'base_TransformedCentroid_y',\n",
       " 'base_TransformedShape_flag',\n",
       " 'base_TransformedShape_xx',\n",
       " 'base_TransformedShape_xy',\n",
       " 'base_TransformedShape_yy',\n",
       " 'coord_dec',\n",
       " 'coord_ra',\n",
       " 'deblend_nChild',\n",
       " 'ext_gaap_GaapFlux_1_15x_0_3_flag',\n",
       " 'ext_gaap_GaapFlux_1_15x_0_3_flag_bigPsf',\n",
       " 'ext_gaap_GaapFlux_1_15x_0_3_instFlux',\n",
       " 'ext_gaap_GaapFlux_1_15x_0_3_instFluxErr',\n",
       " 'ext_gaap_GaapFlux_1_15x_0_4_flag',\n",
       " 'ext_gaap_GaapFlux_1_15x_0_4_flag_bigPsf',\n",
       " 'ext_gaap_GaapFlux_1_15x_0_4_instFlux',\n",
       " 'ext_gaap_GaapFlux_1_15x_0_4_instFluxErr',\n",
       " 'ext_gaap_GaapFlux_1_15x_0_5_flag',\n",
       " 'ext_gaap_GaapFlux_1_15x_0_5_flag_bigPsf',\n",
       " 'ext_gaap_GaapFlux_1_15x_0_5_instFlux',\n",
       " 'ext_gaap_GaapFlux_1_15x_0_5_instFluxErr',\n",
       " 'ext_gaap_GaapFlux_1_15x_0_6_flag',\n",
       " 'ext_gaap_GaapFlux_1_15x_0_6_flag_bigPsf',\n",
       " 'ext_gaap_GaapFlux_1_15x_0_6_instFlux',\n",
       " 'ext_gaap_GaapFlux_1_15x_0_6_instFluxErr',\n",
       " 'ext_gaap_GaapFlux_1_15x_0_75_flag',\n",
       " 'ext_gaap_GaapFlux_1_15x_0_75_flag_bigPsf',\n",
       " 'ext_gaap_GaapFlux_1_15x_0_75_instFlux',\n",
       " 'ext_gaap_GaapFlux_1_15x_0_75_instFluxErr',\n",
       " 'ext_gaap_GaapFlux_1_15x_1_0_flag',\n",
       " 'ext_gaap_GaapFlux_1_15x_1_0_flag_bigPsf',\n",
       " 'ext_gaap_GaapFlux_1_15x_1_0_instFlux',\n",
       " 'ext_gaap_GaapFlux_1_15x_1_0_instFluxErr',\n",
       " 'ext_gaap_GaapFlux_1_15x_1_5_flag',\n",
       " 'ext_gaap_GaapFlux_1_15x_1_5_flag_bigPsf',\n",
       " 'ext_gaap_GaapFlux_1_15x_1_5_instFlux',\n",
       " 'ext_gaap_GaapFlux_1_15x_1_5_instFluxErr',\n",
       " 'ext_gaap_GaapFlux_1_15x_2_0_flag',\n",
       " 'ext_gaap_GaapFlux_1_15x_2_0_flag_bigPsf',\n",
       " 'ext_gaap_GaapFlux_1_15x_2_0_instFlux',\n",
       " 'ext_gaap_GaapFlux_1_15x_2_0_instFluxErr',\n",
       " 'ext_gaap_GaapFlux_1_15x_Optimal_flag',\n",
       " 'ext_gaap_GaapFlux_1_15x_Optimal_flag_bigPsf',\n",
       " 'ext_gaap_GaapFlux_1_15x_Optimal_instFlux',\n",
       " 'ext_gaap_GaapFlux_1_15x_Optimal_instFluxErr',\n",
       " 'ext_gaap_GaapFlux_1_15x_PsfFlux_flag',\n",
       " 'ext_gaap_GaapFlux_1_15x_PsfFlux_instFlux',\n",
       " 'ext_gaap_GaapFlux_1_15x_PsfFlux_instFluxErr',\n",
       " 'ext_gaap_GaapFlux_1_15x_flag_gaussianization',\n",
       " 'ext_gaap_GaapFlux_OptimalShape_xx',\n",
       " 'ext_gaap_GaapFlux_OptimalShape_xy',\n",
       " 'ext_gaap_GaapFlux_OptimalShape_yy',\n",
       " 'ext_gaap_GaapFlux_flag',\n",
       " 'ext_gaap_GaapFlux_flag_edge',\n",
       " 'id',\n",
       " 'objectId',\n",
       " 'parent',\n",
       " 'parentObjectId'}"
      ]
     },
     "execution_count": 53,
     "metadata": {},
     "output_type": "execute_result"
    }
   ],
   "source": [
    "gaap.measCat.schema.getNames()"
   ]
  },
  {
   "cell_type": "code",
   "execution_count": null,
   "id": "a651f840",
   "metadata": {},
   "outputs": [],
   "source": []
  },
  {
   "cell_type": "code",
   "execution_count": null,
   "id": "d53a9904",
   "metadata": {},
   "outputs": [],
   "source": []
  },
  {
   "cell_type": "code",
   "execution_count": 105,
   "id": "c4886dd5",
   "metadata": {},
   "outputs": [],
   "source": [
    "a = exposure.getPhotoCalib()"
   ]
  },
  {
   "cell_type": "code",
   "execution_count": 106,
   "id": "b7b2fa49",
   "metadata": {},
   "outputs": [
    {
     "data": {
      "text/plain": [
       "57.543993733715425"
      ]
     },
     "execution_count": 106,
     "metadata": {},
     "output_type": "execute_result"
    }
   ],
   "source": [
    "a.instFluxToNanojansky(1)"
   ]
  },
  {
   "cell_type": "code",
   "execution_count": 107,
   "id": "a68f285d",
   "metadata": {},
   "outputs": [],
   "source": [
    "cat2.write('./my_own_gaap_s20a_79.fits', overwrite=True)"
   ]
  },
  {
   "cell_type": "code",
   "execution_count": null,
   "id": "bbd8abd9",
   "metadata": {},
   "outputs": [],
   "source": []
  },
  {
   "cell_type": "code",
   "execution_count": null,
   "id": "b369e893",
   "metadata": {},
   "outputs": [],
   "source": []
  },
  {
   "cell_type": "code",
   "execution_count": 108,
   "id": "8f6d17c0",
   "metadata": {},
   "outputs": [
    {
     "data": {
      "text/plain": [
       "<matplotlib.collections.PathCollection at 0x2b09a39f9c30>"
      ]
     },
     "execution_count": 108,
     "metadata": {},
     "output_type": "execute_result"
    },
    {
     "data": {
      "image/png": "[encoded data removed]",
      "text/plain": [
       "<Figure size 432x288 with 1 Axes>"
      ]
     },
     "metadata": {
      "needs_background": "light"
     },
     "output_type": "display_data"
    }
   ],
   "source": [
    "plt.scatter(catalog['coord_ra'], catalog['coord_dec'], s=1)\n",
    "plt.scatter(refCat['coord_ra'], refCat['coord_dec'], s=1)"
   ]
  },
  {
   "cell_type": "code",
   "execution_count": null,
   "id": "e3b75582",
   "metadata": {},
   "outputs": [],
   "source": []
  },
  {
   "cell_type": "code",
   "execution_count": null,
   "id": "4392711a",
   "metadata": {},
   "outputs": [],
   "source": []
  },
  {
   "cell_type": "code",
   "execution_count": 109,
   "id": "a10513ec",
   "metadata": {},
   "outputs": [
    {
     "data": {
      "text/plain": [
       "(array([1.73963134, 0.46082949, 1.50921659, 2.23502304, 2.00460829,\n",
       "        0.94470046, 0.34562212, 0.17281106, 0.13824885, 0.0921659 ,\n",
       "        0.02304147, 0.05760369, 0.06912442, 0.01152074, 0.04608295,\n",
       "        0.03456221, 0.03456221, 0.04608295, 0.01152074, 0.02304147]),\n",
       " array([0. , 0.1, 0.2, 0.3, 0.4, 0.5, 0.6, 0.7, 0.8, 0.9, 1. , 1.1, 1.2,\n",
       "        1.3, 1.4, 1.5, 1.6, 1.7, 1.8, 1.9, 2. ]),\n",
       " [<matplotlib.patches.Polygon at 0x2b09a3a8be80>])"
      ]
     },
     "execution_count": 109,
     "metadata": {},
     "output_type": "execute_result"
    },
    {
     "data": {
      "image/png": "[encoded data removed]",
      "text/plain": [
       "<Figure size 432x288 with 1 Axes>"
      ]
     },
     "metadata": {
      "needs_background": "light"
     },
     "output_type": "display_data"
    }
   ],
   "source": [
    "plt.hist(0.168 * ((cat2['base_SdssShape_xx'] * cat2['base_SdssShape_yy'] - cat2['base_SdssShape_xy']**2))**0.25,\n",
    "         range=(0, 2), bins=20, histtype='step', density=True)\n",
    "\n",
    "plt.hist(0.168 * ((refCat['base_SdssShape_xx'] * refCat['base_SdssShape_yy'] - refCat['base_SdssShape_xy']**2))**0.25,\n",
    "         range=(0, 2), bins=20, histtype='step', density=True)"
   ]
  },
  {
   "cell_type": "code",
   "execution_count": null,
   "id": "5ce475e2",
   "metadata": {},
   "outputs": [],
   "source": []
  }
 ],
 "metadata": {
  "kernelspec": {
   "display_name": "Python 3 (ipykernel)",
   "language": "python",
   "name": "python3"
  },
  "language_info": {
   "codemirror_mode": {
    "name": "ipython",
    "version": 3
   },
   "file_extension": ".py",
   "mimetype": "text/x-python",
   "name": "python",
   "nbconvert_exporter": "python",
   "pygments_lexer": "ipython3",
   "version": "3.10.5"
  }
 },
 "nbformat": 4,
 "nbformat_minor": 5
}
