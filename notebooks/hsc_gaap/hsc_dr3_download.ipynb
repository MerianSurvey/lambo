{
 "cells": [
  {
   "cell_type": "code",
   "execution_count": 1,
   "id": "997f464a",
   "metadata": {},
   "outputs": [],
   "source": [
    "# Import packages\n",
    "%load_ext autoreload\n",
    "%autoreload 2\n",
    "\n",
    "import os\n",
    "import numpy as np\n",
    "import matplotlib.pyplot as plt\n",
    "\n",
    "import astropy.units as u\n",
    "from astropy import wcs\n",
    "from astropy.io import fits\n",
    "from astropy.table import Table, Column, hstack, vstack\n",
    "from astropy.coordinates import SkyCoord\n",
    "\n",
    "# import kuaizi\n",
    "from kuaizi.display import display_single, SEG_CMAP\n",
    "from kuaizi.detection import Data\n",
    "from kuaizi.utils import padding_PSF\n",
    "\n",
    "import pickle"
   ]
  },
  {
   "cell_type": "markdown",
   "id": "9efd666d",
   "metadata": {},
   "source": [
    "patch numbers: from (0,0) to (8,8)"
   ]
  },
  {
   "cell_type": "code",
   "execution_count": null,
   "id": "b94e9403",
   "metadata": {},
   "outputs": [],
   "source": [
    "https://hscdata.mtk.nao.ac.jp/hsc_ssp/dr3/s20a/data/s20a_wide/deepCoadd/HSC-I/9813/8,7.fits"
   ]
  },
  {
   "cell_type": "code",
   "execution_count": 7,
   "id": "198028a1",
   "metadata": {},
   "outputs": [],
   "source": [
    "def hsc_dr3_calexp_url(tract=9813, patch='8,6', filt='i'):\n",
    "    file = f'calexp-HSC-{filt.upper()}-{tract}-{patch}.fits'\n",
    "    path = f'https://hscdata.mtk.nao.ac.jp/hsc_ssp/dr3/s20a/data/s20a_wide/deepCoadd-results/HSC-{filt.upper()}/{tract}/{patch}/'\n",
    "    \n",
    "    return os.path.join(path, file), file"
   ]
  },
  {
   "cell_type": "code",
   "execution_count": 2,
   "id": "dcf03828",
   "metadata": {},
   "outputs": [],
   "source": [
    "def hsc_dr3_calexp_url(tract=9813, patch='8,6', filt='i'):\n",
    "    file = f'{patch}.fits'\n",
    "    path = f'https://hscdata.mtk.nao.ac.jp/hsc_ssp/dr3/s20a/data/s20a_wide/deepCoadd-results/HSC-{filt.upper()}/{tract}/'\n",
    "    \n",
    "    return os.path.join(path, file), file"
   ]
  },
  {
   "cell_type": "code",
   "execution_count": 8,
   "id": "8d6a7c9d",
   "metadata": {},
   "outputs": [
    {
     "data": {
      "text/plain": [
       "('https://hscdata.mtk.nao.ac.jp/hsc_ssp/dr3/s20a/data/s20a_wide/deepCoadd-results/HSC-I/9813/8,6/calexp-HSC-I-9813-8,6.fits',\n",
       " 'calexp-HSC-I-9813-8,6.fits')"
      ]
     },
     "execution_count": 8,
     "metadata": {},
     "output_type": "execute_result"
    }
   ],
   "source": [
    "hsc_dr3_calexp_url()"
   ]
  },
  {
   "cell_type": "raw",
   "id": "816a805e",
   "metadata": {},
   "source": [
    "def download_hsc(outdir='/projects/MERIAN/repo/S20A', \n",
    "                 tract=9813, patch='8,6', filt='i'):\n",
    "    URL, filename = hsc_dr3_calexp_url(tract, patch, filt)\n",
    "    filename = os.path.join(outdir, str(tract), str(patch), filename)\n",
    "    if not os.path.isfile(filename):\n",
    "        with TqdmUpTo(unit='B', unit_scale=True, miniters=1, desc=filename) as t:  # all optional kwargs\n",
    "            urllib.request.urlretrieve(URL, filename=filename,\n",
    "                                       reporthook=t.update_to, data=None)\n",
    "        print('# Downloading ' + filename + ' finished! ') "
   ]
  },
  {
   "cell_type": "code",
   "execution_count": 9,
   "id": "e7ef86b5",
   "metadata": {},
   "outputs": [
    {
     "name": "stdout",
     "output_type": "stream",
     "text": [
      "# Get table list from /home/jiaxuanl/.local/lib/python3.10/site-packages/unagi-0.1.3.dev19-py3.10.egg/unagi/data/s20a_wide/s20a_wide_tables.fits\n"
     ]
    }
   ],
   "source": [
    "from unagi import hsc\n",
    "s20a = hsc.Hsc(dr='dr3', rerun='s20a_wide')"
   ]
  },
  {
   "cell_type": "code",
   "execution_count": 10,
   "id": "d2d3fbf6",
   "metadata": {},
   "outputs": [],
   "source": [
    "def download_hsc(outdir='/projects/MERIAN/repo/S20A', \n",
    "                 tract=9813, patch='8,6', filt='i'):\n",
    "    URL, filename = hsc_dr3_calexp_url(tract, patch, filt)\n",
    "    outdir = os.path.join(outdir, str(tract), str(patch))\n",
    "    if not os.path.isdir(outdir):\n",
    "        os.makedirs(outdir)\n",
    "    filename = os.path.join(outdir, filename)\n",
    "    if not os.path.isfile(filename):\n",
    "        s20a.download_patch(tract, patch, filt=f'HSC-{filt.upper()}', output_file=filename)\n",
    "        print('# Downloading ' + filename + ' finished! ') "
   ]
  },
  {
   "cell_type": "code",
   "execution_count": null,
   "id": "bf320d3b",
   "metadata": {},
   "outputs": [
    {
     "name": "stdout",
     "output_type": "stream",
     "text": [
      "# Downloading FITS image from https://hscdata.mtk.nao.ac.jp/hsc_ssp/dr3/s20a/data/s20a_wide/deepCoadd-results/HSC-G/9813/0,0/calexp-HSC-G-9813-0,0.fits\n",
      "# Downloading /projects/MERIAN/repo/S20A/9813/0,0/calexp-HSC-G-9813-0,0.fits finished! \n",
      "# Downloading FITS image from https://hscdata.mtk.nao.ac.jp/hsc_ssp/dr3/s20a/data/s20a_wide/deepCoadd-results/HSC-R/9813/0,0/calexp-HSC-R-9813-0,0.fits\n",
      "# Downloading /projects/MERIAN/repo/S20A/9813/0,0/calexp-HSC-R-9813-0,0.fits finished! \n",
      "# Downloading FITS image from https://hscdata.mtk.nao.ac.jp/hsc_ssp/dr3/s20a/data/s20a_wide/deepCoadd-results/HSC-I/9813/0,0/calexp-HSC-I-9813-0,0.fits\n",
      "# Downloading /projects/MERIAN/repo/S20A/9813/0,0/calexp-HSC-I-9813-0,0.fits finished! \n",
      "# Downloading FITS image from https://hscdata.mtk.nao.ac.jp/hsc_ssp/dr3/s20a/data/s20a_wide/deepCoadd-results/HSC-Z/9813/0,0/calexp-HSC-Z-9813-0,0.fits\n",
      "# Downloading /projects/MERIAN/repo/S20A/9813/0,0/calexp-HSC-Z-9813-0,0.fits finished! \n",
      "# Downloading FITS image from https://hscdata.mtk.nao.ac.jp/hsc_ssp/dr3/s20a/data/s20a_wide/deepCoadd-results/HSC-Y/9813/0,0/calexp-HSC-Y-9813-0,0.fits\n",
      "# Downloading /projects/MERIAN/repo/S20A/9813/0,0/calexp-HSC-Y-9813-0,0.fits finished! \n",
      "# Downloading FITS image from https://hscdata.mtk.nao.ac.jp/hsc_ssp/dr3/s20a/data/s20a_wide/deepCoadd-results/HSC-G/9813/0,1/calexp-HSC-G-9813-0,1.fits\n",
      "# Downloading /projects/MERIAN/repo/S20A/9813/0,1/calexp-HSC-G-9813-0,1.fits finished! \n",
      "# Downloading FITS image from https://hscdata.mtk.nao.ac.jp/hsc_ssp/dr3/s20a/data/s20a_wide/deepCoadd-results/HSC-R/9813/0,1/calexp-HSC-R-9813-0,1.fits\n",
      "# Downloading /projects/MERIAN/repo/S20A/9813/0,1/calexp-HSC-R-9813-0,1.fits finished! \n",
      "# Downloading FITS image from https://hscdata.mtk.nao.ac.jp/hsc_ssp/dr3/s20a/data/s20a_wide/deepCoadd-results/HSC-I/9813/0,1/calexp-HSC-I-9813-0,1.fits\n",
      "# Downloading /projects/MERIAN/repo/S20A/9813/0,1/calexp-HSC-I-9813-0,1.fits finished! \n",
      "# Downloading FITS image from https://hscdata.mtk.nao.ac.jp/hsc_ssp/dr3/s20a/data/s20a_wide/deepCoadd-results/HSC-Z/9813/0,1/calexp-HSC-Z-9813-0,1.fits\n",
      "# Downloading /projects/MERIAN/repo/S20A/9813/0,1/calexp-HSC-Z-9813-0,1.fits finished! \n",
      "# Downloading FITS image from https://hscdata.mtk.nao.ac.jp/hsc_ssp/dr3/s20a/data/s20a_wide/deepCoadd-results/HSC-Y/9813/0,1/calexp-HSC-Y-9813-0,1.fits\n",
      "# Downloading /projects/MERIAN/repo/S20A/9813/0,1/calexp-HSC-Y-9813-0,1.fits finished! \n",
      "# Downloading FITS image from https://hscdata.mtk.nao.ac.jp/hsc_ssp/dr3/s20a/data/s20a_wide/deepCoadd-results/HSC-G/9813/0,2/calexp-HSC-G-9813-0,2.fits\n",
      "# Downloading /projects/MERIAN/repo/S20A/9813/0,2/calexp-HSC-G-9813-0,2.fits finished! \n",
      "# Downloading FITS image from https://hscdata.mtk.nao.ac.jp/hsc_ssp/dr3/s20a/data/s20a_wide/deepCoadd-results/HSC-R/9813/0,2/calexp-HSC-R-9813-0,2.fits\n",
      "# Downloading /projects/MERIAN/repo/S20A/9813/0,2/calexp-HSC-R-9813-0,2.fits finished! \n",
      "# Downloading FITS image from https://hscdata.mtk.nao.ac.jp/hsc_ssp/dr3/s20a/data/s20a_wide/deepCoadd-results/HSC-I/9813/0,2/calexp-HSC-I-9813-0,2.fits\n",
      "# Downloading /projects/MERIAN/repo/S20A/9813/0,2/calexp-HSC-I-9813-0,2.fits finished! \n",
      "# Downloading FITS image from https://hscdata.mtk.nao.ac.jp/hsc_ssp/dr3/s20a/data/s20a_wide/deepCoadd-results/HSC-Z/9813/0,2/calexp-HSC-Z-9813-0,2.fits\n",
      "# Downloading /projects/MERIAN/repo/S20A/9813/0,2/calexp-HSC-Z-9813-0,2.fits finished! \n",
      "# Downloading FITS image from https://hscdata.mtk.nao.ac.jp/hsc_ssp/dr3/s20a/data/s20a_wide/deepCoadd-results/HSC-Y/9813/0,2/calexp-HSC-Y-9813-0,2.fits\n",
      "# Downloading /projects/MERIAN/repo/S20A/9813/0,2/calexp-HSC-Y-9813-0,2.fits finished! \n",
      "# Downloading FITS image from https://hscdata.mtk.nao.ac.jp/hsc_ssp/dr3/s20a/data/s20a_wide/deepCoadd-results/HSC-G/9813/0,3/calexp-HSC-G-9813-0,3.fits\n",
      "# Downloading /projects/MERIAN/repo/S20A/9813/0,3/calexp-HSC-G-9813-0,3.fits finished! \n",
      "# Downloading FITS image from https://hscdata.mtk.nao.ac.jp/hsc_ssp/dr3/s20a/data/s20a_wide/deepCoadd-results/HSC-R/9813/0,3/calexp-HSC-R-9813-0,3.fits\n",
      "# Downloading /projects/MERIAN/repo/S20A/9813/0,3/calexp-HSC-R-9813-0,3.fits finished! \n",
      "# Downloading FITS image from https://hscdata.mtk.nao.ac.jp/hsc_ssp/dr3/s20a/data/s20a_wide/deepCoadd-results/HSC-I/9813/0,3/calexp-HSC-I-9813-0,3.fits\n",
      "# Downloading /projects/MERIAN/repo/S20A/9813/0,3/calexp-HSC-I-9813-0,3.fits finished! \n",
      "# Downloading FITS image from https://hscdata.mtk.nao.ac.jp/hsc_ssp/dr3/s20a/data/s20a_wide/deepCoadd-results/HSC-Z/9813/0,3/calexp-HSC-Z-9813-0,3.fits\n",
      "# Downloading /projects/MERIAN/repo/S20A/9813/0,3/calexp-HSC-Z-9813-0,3.fits finished! \n",
      "# Downloading FITS image from https://hscdata.mtk.nao.ac.jp/hsc_ssp/dr3/s20a/data/s20a_wide/deepCoadd-results/HSC-Y/9813/0,3/calexp-HSC-Y-9813-0,3.fits\n",
      "# Downloading /projects/MERIAN/repo/S20A/9813/0,3/calexp-HSC-Y-9813-0,3.fits finished! \n",
      "# Downloading FITS image from https://hscdata.mtk.nao.ac.jp/hsc_ssp/dr3/s20a/data/s20a_wide/deepCoadd-results/HSC-G/9813/0,4/calexp-HSC-G-9813-0,4.fits\n",
      "# Downloading /projects/MERIAN/repo/S20A/9813/0,4/calexp-HSC-G-9813-0,4.fits finished! \n",
      "# Downloading FITS image from https://hscdata.mtk.nao.ac.jp/hsc_ssp/dr3/s20a/data/s20a_wide/deepCoadd-results/HSC-R/9813/0,4/calexp-HSC-R-9813-0,4.fits\n",
      "# Downloading /projects/MERIAN/repo/S20A/9813/0,4/calexp-HSC-R-9813-0,4.fits finished! \n",
      "# Downloading FITS image from https://hscdata.mtk.nao.ac.jp/hsc_ssp/dr3/s20a/data/s20a_wide/deepCoadd-results/HSC-I/9813/0,4/calexp-HSC-I-9813-0,4.fits\n",
      "# Downloading /projects/MERIAN/repo/S20A/9813/0,4/calexp-HSC-I-9813-0,4.fits finished! \n",
      "# Downloading FITS image from https://hscdata.mtk.nao.ac.jp/hsc_ssp/dr3/s20a/data/s20a_wide/deepCoadd-results/HSC-Z/9813/0,4/calexp-HSC-Z-9813-0,4.fits\n",
      "# Downloading /projects/MERIAN/repo/S20A/9813/0,4/calexp-HSC-Z-9813-0,4.fits finished! \n",
      "# Downloading FITS image from https://hscdata.mtk.nao.ac.jp/hsc_ssp/dr3/s20a/data/s20a_wide/deepCoadd-results/HSC-Y/9813/0,4/calexp-HSC-Y-9813-0,4.fits\n",
      "# Downloading /projects/MERIAN/repo/S20A/9813/0,4/calexp-HSC-Y-9813-0,4.fits finished! \n",
      "# Downloading FITS image from https://hscdata.mtk.nao.ac.jp/hsc_ssp/dr3/s20a/data/s20a_wide/deepCoadd-results/HSC-G/9813/0,5/calexp-HSC-G-9813-0,5.fits\n",
      "# Downloading /projects/MERIAN/repo/S20A/9813/0,5/calexp-HSC-G-9813-0,5.fits finished! \n",
      "# Downloading FITS image from https://hscdata.mtk.nao.ac.jp/hsc_ssp/dr3/s20a/data/s20a_wide/deepCoadd-results/HSC-R/9813/0,5/calexp-HSC-R-9813-0,5.fits\n",
      "# Downloading /projects/MERIAN/repo/S20A/9813/0,5/calexp-HSC-R-9813-0,5.fits finished! \n",
      "# Downloading FITS image from https://hscdata.mtk.nao.ac.jp/hsc_ssp/dr3/s20a/data/s20a_wide/deepCoadd-results/HSC-I/9813/0,5/calexp-HSC-I-9813-0,5.fits\n",
      "# Downloading /projects/MERIAN/repo/S20A/9813/0,5/calexp-HSC-I-9813-0,5.fits finished! \n",
      "# Downloading FITS image from https://hscdata.mtk.nao.ac.jp/hsc_ssp/dr3/s20a/data/s20a_wide/deepCoadd-results/HSC-Z/9813/0,5/calexp-HSC-Z-9813-0,5.fits\n",
      "# Downloading /projects/MERIAN/repo/S20A/9813/0,5/calexp-HSC-Z-9813-0,5.fits finished! \n",
      "# Downloading FITS image from https://hscdata.mtk.nao.ac.jp/hsc_ssp/dr3/s20a/data/s20a_wide/deepCoadd-results/HSC-Y/9813/0,5/calexp-HSC-Y-9813-0,5.fits\n",
      "# Downloading /projects/MERIAN/repo/S20A/9813/0,5/calexp-HSC-Y-9813-0,5.fits finished! \n",
      "# Downloading FITS image from https://hscdata.mtk.nao.ac.jp/hsc_ssp/dr3/s20a/data/s20a_wide/deepCoadd-results/HSC-G/9813/0,6/calexp-HSC-G-9813-0,6.fits\n",
      "# Downloading /projects/MERIAN/repo/S20A/9813/0,6/calexp-HSC-G-9813-0,6.fits finished! \n",
      "# Downloading FITS image from https://hscdata.mtk.nao.ac.jp/hsc_ssp/dr3/s20a/data/s20a_wide/deepCoadd-results/HSC-R/9813/0,6/calexp-HSC-R-9813-0,6.fits\n",
      "# Downloading /projects/MERIAN/repo/S20A/9813/0,6/calexp-HSC-R-9813-0,6.fits finished! \n",
      "# Downloading FITS image from https://hscdata.mtk.nao.ac.jp/hsc_ssp/dr3/s20a/data/s20a_wide/deepCoadd-results/HSC-I/9813/0,6/calexp-HSC-I-9813-0,6.fits\n",
      "# Downloading /projects/MERIAN/repo/S20A/9813/0,6/calexp-HSC-I-9813-0,6.fits finished! \n",
      "# Downloading FITS image from https://hscdata.mtk.nao.ac.jp/hsc_ssp/dr3/s20a/data/s20a_wide/deepCoadd-results/HSC-Z/9813/0,6/calexp-HSC-Z-9813-0,6.fits\n",
      "# Downloading /projects/MERIAN/repo/S20A/9813/0,6/calexp-HSC-Z-9813-0,6.fits finished! \n",
      "# Downloading FITS image from https://hscdata.mtk.nao.ac.jp/hsc_ssp/dr3/s20a/data/s20a_wide/deepCoadd-results/HSC-Y/9813/0,6/calexp-HSC-Y-9813-0,6.fits\n"
     ]
    },
    {
     "name": "stdout",
     "output_type": "stream",
     "text": [
      "# Downloading /projects/MERIAN/repo/S20A/9813/0,6/calexp-HSC-Y-9813-0,6.fits finished! \n",
      "# Downloading FITS image from https://hscdata.mtk.nao.ac.jp/hsc_ssp/dr3/s20a/data/s20a_wide/deepCoadd-results/HSC-G/9813/0,7/calexp-HSC-G-9813-0,7.fits\n",
      "# Downloading /projects/MERIAN/repo/S20A/9813/0,7/calexp-HSC-G-9813-0,7.fits finished! \n",
      "# Downloading FITS image from https://hscdata.mtk.nao.ac.jp/hsc_ssp/dr3/s20a/data/s20a_wide/deepCoadd-results/HSC-R/9813/0,7/calexp-HSC-R-9813-0,7.fits\n",
      "# Downloading /projects/MERIAN/repo/S20A/9813/0,7/calexp-HSC-R-9813-0,7.fits finished! \n",
      "# Downloading FITS image from https://hscdata.mtk.nao.ac.jp/hsc_ssp/dr3/s20a/data/s20a_wide/deepCoadd-results/HSC-I/9813/0,7/calexp-HSC-I-9813-0,7.fits\n",
      "# Downloading /projects/MERIAN/repo/S20A/9813/0,7/calexp-HSC-I-9813-0,7.fits finished! \n",
      "# Downloading FITS image from https://hscdata.mtk.nao.ac.jp/hsc_ssp/dr3/s20a/data/s20a_wide/deepCoadd-results/HSC-Z/9813/0,7/calexp-HSC-Z-9813-0,7.fits\n",
      "# Downloading /projects/MERIAN/repo/S20A/9813/0,7/calexp-HSC-Z-9813-0,7.fits finished! \n",
      "# Downloading FITS image from https://hscdata.mtk.nao.ac.jp/hsc_ssp/dr3/s20a/data/s20a_wide/deepCoadd-results/HSC-Y/9813/0,7/calexp-HSC-Y-9813-0,7.fits\n",
      "# Downloading /projects/MERIAN/repo/S20A/9813/0,7/calexp-HSC-Y-9813-0,7.fits finished! \n",
      "# Downloading FITS image from https://hscdata.mtk.nao.ac.jp/hsc_ssp/dr3/s20a/data/s20a_wide/deepCoadd-results/HSC-G/9813/1,0/calexp-HSC-G-9813-1,0.fits\n",
      "# Downloading /projects/MERIAN/repo/S20A/9813/1,0/calexp-HSC-G-9813-1,0.fits finished! \n",
      "# Downloading FITS image from https://hscdata.mtk.nao.ac.jp/hsc_ssp/dr3/s20a/data/s20a_wide/deepCoadd-results/HSC-R/9813/1,0/calexp-HSC-R-9813-1,0.fits\n",
      "# Downloading /projects/MERIAN/repo/S20A/9813/1,0/calexp-HSC-R-9813-1,0.fits finished! \n",
      "# Downloading FITS image from https://hscdata.mtk.nao.ac.jp/hsc_ssp/dr3/s20a/data/s20a_wide/deepCoadd-results/HSC-I/9813/1,0/calexp-HSC-I-9813-1,0.fits\n",
      "# Downloading /projects/MERIAN/repo/S20A/9813/1,0/calexp-HSC-I-9813-1,0.fits finished! \n",
      "# Downloading FITS image from https://hscdata.mtk.nao.ac.jp/hsc_ssp/dr3/s20a/data/s20a_wide/deepCoadd-results/HSC-Z/9813/1,0/calexp-HSC-Z-9813-1,0.fits\n",
      "# Downloading /projects/MERIAN/repo/S20A/9813/1,0/calexp-HSC-Z-9813-1,0.fits finished! \n",
      "# Downloading FITS image from https://hscdata.mtk.nao.ac.jp/hsc_ssp/dr3/s20a/data/s20a_wide/deepCoadd-results/HSC-Y/9813/1,0/calexp-HSC-Y-9813-1,0.fits\n",
      "# Downloading /projects/MERIAN/repo/S20A/9813/1,0/calexp-HSC-Y-9813-1,0.fits finished! \n",
      "# Downloading FITS image from https://hscdata.mtk.nao.ac.jp/hsc_ssp/dr3/s20a/data/s20a_wide/deepCoadd-results/HSC-G/9813/1,1/calexp-HSC-G-9813-1,1.fits\n",
      "# Downloading /projects/MERIAN/repo/S20A/9813/1,1/calexp-HSC-G-9813-1,1.fits finished! \n",
      "# Downloading FITS image from https://hscdata.mtk.nao.ac.jp/hsc_ssp/dr3/s20a/data/s20a_wide/deepCoadd-results/HSC-R/9813/1,1/calexp-HSC-R-9813-1,1.fits\n",
      "# Downloading /projects/MERIAN/repo/S20A/9813/1,1/calexp-HSC-R-9813-1,1.fits finished! \n",
      "# Downloading FITS image from https://hscdata.mtk.nao.ac.jp/hsc_ssp/dr3/s20a/data/s20a_wide/deepCoadd-results/HSC-I/9813/1,1/calexp-HSC-I-9813-1,1.fits\n",
      "# Downloading /projects/MERIAN/repo/S20A/9813/1,1/calexp-HSC-I-9813-1,1.fits finished! \n",
      "# Downloading FITS image from https://hscdata.mtk.nao.ac.jp/hsc_ssp/dr3/s20a/data/s20a_wide/deepCoadd-results/HSC-Z/9813/1,1/calexp-HSC-Z-9813-1,1.fits\n",
      "# Downloading /projects/MERIAN/repo/S20A/9813/1,1/calexp-HSC-Z-9813-1,1.fits finished! \n",
      "# Downloading FITS image from https://hscdata.mtk.nao.ac.jp/hsc_ssp/dr3/s20a/data/s20a_wide/deepCoadd-results/HSC-Y/9813/1,1/calexp-HSC-Y-9813-1,1.fits\n",
      "# Downloading /projects/MERIAN/repo/S20A/9813/1,1/calexp-HSC-Y-9813-1,1.fits finished! \n",
      "# Downloading FITS image from https://hscdata.mtk.nao.ac.jp/hsc_ssp/dr3/s20a/data/s20a_wide/deepCoadd-results/HSC-G/9813/1,2/calexp-HSC-G-9813-1,2.fits\n",
      "# Downloading /projects/MERIAN/repo/S20A/9813/1,2/calexp-HSC-G-9813-1,2.fits finished! \n",
      "# Downloading FITS image from https://hscdata.mtk.nao.ac.jp/hsc_ssp/dr3/s20a/data/s20a_wide/deepCoadd-results/HSC-R/9813/1,2/calexp-HSC-R-9813-1,2.fits\n",
      "# Downloading /projects/MERIAN/repo/S20A/9813/1,2/calexp-HSC-R-9813-1,2.fits finished! \n",
      "# Downloading FITS image from https://hscdata.mtk.nao.ac.jp/hsc_ssp/dr3/s20a/data/s20a_wide/deepCoadd-results/HSC-I/9813/1,2/calexp-HSC-I-9813-1,2.fits\n",
      "# Downloading /projects/MERIAN/repo/S20A/9813/1,2/calexp-HSC-I-9813-1,2.fits finished! \n",
      "# Downloading FITS image from https://hscdata.mtk.nao.ac.jp/hsc_ssp/dr3/s20a/data/s20a_wide/deepCoadd-results/HSC-Z/9813/1,2/calexp-HSC-Z-9813-1,2.fits\n",
      "# Downloading /projects/MERIAN/repo/S20A/9813/1,2/calexp-HSC-Z-9813-1,2.fits finished! \n",
      "# Downloading FITS image from https://hscdata.mtk.nao.ac.jp/hsc_ssp/dr3/s20a/data/s20a_wide/deepCoadd-results/HSC-Y/9813/1,2/calexp-HSC-Y-9813-1,2.fits\n",
      "# Downloading /projects/MERIAN/repo/S20A/9813/1,2/calexp-HSC-Y-9813-1,2.fits finished! \n",
      "# Downloading FITS image from https://hscdata.mtk.nao.ac.jp/hsc_ssp/dr3/s20a/data/s20a_wide/deepCoadd-results/HSC-G/9813/1,3/calexp-HSC-G-9813-1,3.fits\n",
      "# Downloading /projects/MERIAN/repo/S20A/9813/1,3/calexp-HSC-G-9813-1,3.fits finished! \n",
      "# Downloading FITS image from https://hscdata.mtk.nao.ac.jp/hsc_ssp/dr3/s20a/data/s20a_wide/deepCoadd-results/HSC-R/9813/1,3/calexp-HSC-R-9813-1,3.fits\n",
      "# Downloading /projects/MERIAN/repo/S20A/9813/1,3/calexp-HSC-R-9813-1,3.fits finished! \n",
      "# Downloading FITS image from https://hscdata.mtk.nao.ac.jp/hsc_ssp/dr3/s20a/data/s20a_wide/deepCoadd-results/HSC-I/9813/1,3/calexp-HSC-I-9813-1,3.fits\n",
      "# Downloading /projects/MERIAN/repo/S20A/9813/1,3/calexp-HSC-I-9813-1,3.fits finished! \n",
      "# Downloading FITS image from https://hscdata.mtk.nao.ac.jp/hsc_ssp/dr3/s20a/data/s20a_wide/deepCoadd-results/HSC-Z/9813/1,3/calexp-HSC-Z-9813-1,3.fits\n",
      "# Downloading /projects/MERIAN/repo/S20A/9813/1,3/calexp-HSC-Z-9813-1,3.fits finished! \n",
      "# Downloading FITS image from https://hscdata.mtk.nao.ac.jp/hsc_ssp/dr3/s20a/data/s20a_wide/deepCoadd-results/HSC-Y/9813/1,3/calexp-HSC-Y-9813-1,3.fits\n",
      "# Downloading /projects/MERIAN/repo/S20A/9813/1,3/calexp-HSC-Y-9813-1,3.fits finished! \n",
      "# Downloading FITS image from https://hscdata.mtk.nao.ac.jp/hsc_ssp/dr3/s20a/data/s20a_wide/deepCoadd-results/HSC-G/9813/1,4/calexp-HSC-G-9813-1,4.fits\n",
      "# Downloading /projects/MERIAN/repo/S20A/9813/1,4/calexp-HSC-G-9813-1,4.fits finished! \n",
      "# Downloading FITS image from https://hscdata.mtk.nao.ac.jp/hsc_ssp/dr3/s20a/data/s20a_wide/deepCoadd-results/HSC-R/9813/1,4/calexp-HSC-R-9813-1,4.fits\n",
      "# Downloading /projects/MERIAN/repo/S20A/9813/1,4/calexp-HSC-R-9813-1,4.fits finished! \n",
      "# Downloading FITS image from https://hscdata.mtk.nao.ac.jp/hsc_ssp/dr3/s20a/data/s20a_wide/deepCoadd-results/HSC-I/9813/1,4/calexp-HSC-I-9813-1,4.fits\n",
      "# Downloading /projects/MERIAN/repo/S20A/9813/1,4/calexp-HSC-I-9813-1,4.fits finished! \n",
      "# Downloading FITS image from https://hscdata.mtk.nao.ac.jp/hsc_ssp/dr3/s20a/data/s20a_wide/deepCoadd-results/HSC-Z/9813/1,4/calexp-HSC-Z-9813-1,4.fits\n",
      "# Downloading /projects/MERIAN/repo/S20A/9813/1,4/calexp-HSC-Z-9813-1,4.fits finished! \n",
      "# Downloading FITS image from https://hscdata.mtk.nao.ac.jp/hsc_ssp/dr3/s20a/data/s20a_wide/deepCoadd-results/HSC-Y/9813/1,4/calexp-HSC-Y-9813-1,4.fits\n",
      "# Downloading /projects/MERIAN/repo/S20A/9813/1,4/calexp-HSC-Y-9813-1,4.fits finished! \n",
      "# Downloading FITS image from https://hscdata.mtk.nao.ac.jp/hsc_ssp/dr3/s20a/data/s20a_wide/deepCoadd-results/HSC-G/9813/1,5/calexp-HSC-G-9813-1,5.fits\n",
      "# Downloading /projects/MERIAN/repo/S20A/9813/1,5/calexp-HSC-G-9813-1,5.fits finished! \n",
      "# Downloading FITS image from https://hscdata.mtk.nao.ac.jp/hsc_ssp/dr3/s20a/data/s20a_wide/deepCoadd-results/HSC-R/9813/1,5/calexp-HSC-R-9813-1,5.fits\n",
      "# Downloading /projects/MERIAN/repo/S20A/9813/1,5/calexp-HSC-R-9813-1,5.fits finished! \n",
      "# Downloading FITS image from https://hscdata.mtk.nao.ac.jp/hsc_ssp/dr3/s20a/data/s20a_wide/deepCoadd-results/HSC-I/9813/1,5/calexp-HSC-I-9813-1,5.fits\n",
      "# Downloading /projects/MERIAN/repo/S20A/9813/1,5/calexp-HSC-I-9813-1,5.fits finished! \n",
      "# Downloading FITS image from https://hscdata.mtk.nao.ac.jp/hsc_ssp/dr3/s20a/data/s20a_wide/deepCoadd-results/HSC-Z/9813/1,5/calexp-HSC-Z-9813-1,5.fits\n",
      "# Downloading /projects/MERIAN/repo/S20A/9813/1,5/calexp-HSC-Z-9813-1,5.fits finished! \n",
      "# Downloading FITS image from https://hscdata.mtk.nao.ac.jp/hsc_ssp/dr3/s20a/data/s20a_wide/deepCoadd-results/HSC-Y/9813/1,5/calexp-HSC-Y-9813-1,5.fits\n"
     ]
    },
    {
     "name": "stdout",
     "output_type": "stream",
     "text": [
      "# Downloading /projects/MERIAN/repo/S20A/9813/1,5/calexp-HSC-Y-9813-1,5.fits finished! \n",
      "# Downloading FITS image from https://hscdata.mtk.nao.ac.jp/hsc_ssp/dr3/s20a/data/s20a_wide/deepCoadd-results/HSC-G/9813/1,6/calexp-HSC-G-9813-1,6.fits\n",
      "# Downloading /projects/MERIAN/repo/S20A/9813/1,6/calexp-HSC-G-9813-1,6.fits finished! \n",
      "# Downloading FITS image from https://hscdata.mtk.nao.ac.jp/hsc_ssp/dr3/s20a/data/s20a_wide/deepCoadd-results/HSC-R/9813/1,6/calexp-HSC-R-9813-1,6.fits\n",
      "# Downloading /projects/MERIAN/repo/S20A/9813/1,6/calexp-HSC-R-9813-1,6.fits finished! \n",
      "# Downloading FITS image from https://hscdata.mtk.nao.ac.jp/hsc_ssp/dr3/s20a/data/s20a_wide/deepCoadd-results/HSC-I/9813/1,6/calexp-HSC-I-9813-1,6.fits\n",
      "# Downloading /projects/MERIAN/repo/S20A/9813/1,6/calexp-HSC-I-9813-1,6.fits finished! \n",
      "# Downloading FITS image from https://hscdata.mtk.nao.ac.jp/hsc_ssp/dr3/s20a/data/s20a_wide/deepCoadd-results/HSC-Z/9813/1,6/calexp-HSC-Z-9813-1,6.fits\n",
      "# Downloading /projects/MERIAN/repo/S20A/9813/1,6/calexp-HSC-Z-9813-1,6.fits finished! \n",
      "# Downloading FITS image from https://hscdata.mtk.nao.ac.jp/hsc_ssp/dr3/s20a/data/s20a_wide/deepCoadd-results/HSC-Y/9813/1,6/calexp-HSC-Y-9813-1,6.fits\n",
      "# Downloading /projects/MERIAN/repo/S20A/9813/1,6/calexp-HSC-Y-9813-1,6.fits finished! \n",
      "# Downloading FITS image from https://hscdata.mtk.nao.ac.jp/hsc_ssp/dr3/s20a/data/s20a_wide/deepCoadd-results/HSC-G/9813/1,7/calexp-HSC-G-9813-1,7.fits\n",
      "# Downloading /projects/MERIAN/repo/S20A/9813/1,7/calexp-HSC-G-9813-1,7.fits finished! \n",
      "# Downloading FITS image from https://hscdata.mtk.nao.ac.jp/hsc_ssp/dr3/s20a/data/s20a_wide/deepCoadd-results/HSC-R/9813/1,7/calexp-HSC-R-9813-1,7.fits\n",
      "# Downloading /projects/MERIAN/repo/S20A/9813/1,7/calexp-HSC-R-9813-1,7.fits finished! \n",
      "# Downloading FITS image from https://hscdata.mtk.nao.ac.jp/hsc_ssp/dr3/s20a/data/s20a_wide/deepCoadd-results/HSC-I/9813/1,7/calexp-HSC-I-9813-1,7.fits\n",
      "# Downloading /projects/MERIAN/repo/S20A/9813/1,7/calexp-HSC-I-9813-1,7.fits finished! \n",
      "# Downloading FITS image from https://hscdata.mtk.nao.ac.jp/hsc_ssp/dr3/s20a/data/s20a_wide/deepCoadd-results/HSC-Z/9813/1,7/calexp-HSC-Z-9813-1,7.fits\n",
      "# Downloading /projects/MERIAN/repo/S20A/9813/1,7/calexp-HSC-Z-9813-1,7.fits finished! \n",
      "# Downloading FITS image from https://hscdata.mtk.nao.ac.jp/hsc_ssp/dr3/s20a/data/s20a_wide/deepCoadd-results/HSC-Y/9813/1,7/calexp-HSC-Y-9813-1,7.fits\n"
     ]
    }
   ],
   "source": [
    "for i in range(0, 8):\n",
    "    for j in range(0, 8):\n",
    "        for filt in list('grizy'):\n",
    "            download_hsc(tract=9813, patch=f'{i},{j}', filt=filt)"
   ]
  },
  {
   "cell_type": "code",
   "execution_count": 11,
   "id": "51e51162",
   "metadata": {},
   "outputs": [
    {
     "name": "stdout",
     "output_type": "stream",
     "text": [
      "# Downloading FITS image from https://hscdata.mtk.nao.ac.jp/hsc_ssp/dr3/s20a/data/s20a_wide/deepCoadd-results/HSC-G/9813/7,8/calexp-HSC-G-9813-7,8.fits\n",
      "# Downloading /projects/MERIAN/repo/S20A/9813/7,8/calexp-HSC-G-9813-7,8.fits finished! \n",
      "# Downloading FITS image from https://hscdata.mtk.nao.ac.jp/hsc_ssp/dr3/s20a/data/s20a_wide/deepCoadd-results/HSC-R/9813/7,8/calexp-HSC-R-9813-7,8.fits\n",
      "# Downloading /projects/MERIAN/repo/S20A/9813/7,8/calexp-HSC-R-9813-7,8.fits finished! \n",
      "# Downloading FITS image from https://hscdata.mtk.nao.ac.jp/hsc_ssp/dr3/s20a/data/s20a_wide/deepCoadd-results/HSC-I/9813/7,8/calexp-HSC-I-9813-7,8.fits\n",
      "# Downloading /projects/MERIAN/repo/S20A/9813/7,8/calexp-HSC-I-9813-7,8.fits finished! \n",
      "# Downloading FITS image from https://hscdata.mtk.nao.ac.jp/hsc_ssp/dr3/s20a/data/s20a_wide/deepCoadd-results/HSC-Z/9813/7,8/calexp-HSC-Z-9813-7,8.fits\n",
      "# Downloading /projects/MERIAN/repo/S20A/9813/7,8/calexp-HSC-Z-9813-7,8.fits finished! \n",
      "# Downloading FITS image from https://hscdata.mtk.nao.ac.jp/hsc_ssp/dr3/s20a/data/s20a_wide/deepCoadd-results/HSC-Y/9813/7,8/calexp-HSC-Y-9813-7,8.fits\n",
      "# Downloading /projects/MERIAN/repo/S20A/9813/7,8/calexp-HSC-Y-9813-7,8.fits finished! \n"
     ]
    }
   ],
   "source": [
    "for filt in list('grizy'):\n",
    "    download_hsc(tract=9813, patch='7,8', filt=filt)"
   ]
  },
  {
   "cell_type": "code",
   "execution_count": null,
   "id": "3dca1f1f",
   "metadata": {},
   "outputs": [],
   "source": []
  },
  {
   "cell_type": "markdown",
   "id": "77281ab7",
   "metadata": {},
   "source": [
    "### How to run gaap?"
   ]
  },
  {
   "cell_type": "code",
   "execution_count": null,
   "id": "e0f9c0d1",
   "metadata": {},
   "outputs": [],
   "source": []
  },
  {
   "cell_type": "code",
   "execution_count": null,
   "id": "55cb9bb3",
   "metadata": {},
   "outputs": [],
   "source": []
  },
  {
   "cell_type": "code",
   "execution_count": null,
   "id": "af62a734",
   "metadata": {},
   "outputs": [],
   "source": []
  },
  {
   "cell_type": "code",
   "execution_count": null,
   "id": "db6be541",
   "metadata": {},
   "outputs": [],
   "source": []
  },
  {
   "cell_type": "code",
   "execution_count": null,
   "id": "236a79f0",
   "metadata": {},
   "outputs": [],
   "source": []
  },
  {
   "cell_type": "code",
   "execution_count": null,
   "id": "13a53a63",
   "metadata": {},
   "outputs": [],
   "source": []
  },
  {
   "cell_type": "code",
   "execution_count": null,
   "id": "b30f8c32",
   "metadata": {},
   "outputs": [],
   "source": []
  },
  {
   "cell_type": "code",
   "execution_count": null,
   "id": "4dbcf890",
   "metadata": {},
   "outputs": [],
   "source": []
  },
  {
   "cell_type": "code",
   "execution_count": null,
   "id": "56906e61",
   "metadata": {},
   "outputs": [],
   "source": []
  },
  {
   "cell_type": "code",
   "execution_count": null,
   "id": "a3def23b",
   "metadata": {},
   "outputs": [],
   "source": []
  },
  {
   "cell_type": "code",
   "execution_count": 69,
   "id": "a062d75e",
   "metadata": {},
   "outputs": [],
   "source": [
    "conv_cols = []\n",
    "for i in [0, 1, 2]:\n",
    "    for j in ['3_3', '4_5', '6_0']:\n",
    "        conv_cols.append(f'ext_convolved_ConvolvedFlux_{i}_{j}_instFlux')\n",
    "for i in ['0_5', '0_7', '1_0', '1_5', '2_5', '3_0']:\n",
    "    conv_cols.append(f'ext_gaap_GaapFlux_1_15x_{i}_instFlux')\n",
    "\n",
    "gaap_cols = []\n",
    "for i in ['0p5', '0p7', '1p0', '1p5', '2p5', '3p0', 'Optimal']:\n",
    "    gaap_cols.append(f'gaap{i}Flux')\n",
    "gaap_cols.append('psfFlux')"
   ]
  },
  {
   "cell_type": "code",
   "execution_count": 70,
   "id": "54ccda11",
   "metadata": {},
   "outputs": [],
   "source": [
    "import gc"
   ]
  },
  {
   "cell_type": "code",
   "execution_count": 76,
   "id": "4fd83777",
   "metadata": {},
   "outputs": [],
   "source": [
    "filt = 'N708'\n",
    "tract = 9813\n",
    "\n",
    "for i, patch in enumerate(range(30, 31)):\n",
    "    import lsst.daf.butler as dafButler\n",
    "    butler = dafButler.Butler('/projects/MERIAN/repo/')\n",
    "    dataId = dict(tract=tract, patch=patch, band=filt)\n",
    "    src = butler.get(\n",
    "        'deepCoadd_forced_src',\n",
    "        collections='DECam/runs/merian/dr1_wide',\n",
    "        dataId=dataId,\n",
    "        instrument='DECam',\n",
    "        skymap='hsc_rings_v1',\n",
    "    ).asAstropy()\n",
    "    src['coord_dec'] = src['coord_dec'].to(u.deg)\n",
    "    src['coord_ra'] = src['coord_ra'].to(u.deg)\n",
    "    \n",
    "    \n",
    "    src2 = Table.from_pandas(butler.get(\n",
    "        'objectTable',\n",
    "        collections='DECam/runs/merian/dr1_wide',\n",
    "        dataId=dataId,\n",
    "        instrument='DECam',\n",
    "        skymap='hsc_rings_v1',\n",
    "    ))\n",
    "    \n",
    "    if i == 0:\n",
    "        cat_708 = Table(data=[src['id'], src['coord_ra'], src['coord_dec']] + [src[name] for name in conv_cols],\n",
    "              names=['id', 'RA', 'Dec'] + [f'{filt}_' + item for item in conv_cols])\n",
    "        cat_708 = hstack([cat_708, src2[[f'{filt}_' + name for name in gaap_cols]]])\n",
    "    else:\n",
    "        temp = Table(data=[src['id'], src['coord_ra'], src['coord_dec']] + [src[name] for name in conv_cols],\n",
    "              names=['id', 'RA', 'Dec'] + [f'{filt}_' + item for item in conv_cols])\n",
    "        temp = hstack([temp, src2[[f'{filt}_' + name for name in gaap_cols]]])\n",
    "        \n",
    "        cat_708 = vstack([cat_708, temp])\n",
    "        \n",
    "    del src, src2\n",
    "    gc.collect()"
   ]
  },
  {
   "cell_type": "code",
   "execution_count": null,
   "id": "cdac45f4",
   "metadata": {},
   "outputs": [],
   "source": []
  },
  {
   "cell_type": "code",
   "execution_count": 49,
   "id": "c2c989fc",
   "metadata": {},
   "outputs": [
    {
     "data": {
      "text/html": [
       "<div><i>Table length=10</i>\n",
       "<table id=\"table47016673296000\" class=\"table-striped table-bordered table-condensed\">\n",
       "<thead><tr><th>id</th><th>RA</th><th>Dec</th><th>N708_ext_convolved_ConvolvedFlux_0_3_3_instFlux</th><th>N708_ext_convolved_ConvolvedFlux_0_4_5_instFlux</th><th>N708_ext_convolved_ConvolvedFlux_0_6_0_instFlux</th><th>N708_ext_convolved_ConvolvedFlux_1_3_3_instFlux</th><th>N708_ext_convolved_ConvolvedFlux_1_4_5_instFlux</th><th>N708_ext_convolved_ConvolvedFlux_1_6_0_instFlux</th><th>N708_ext_convolved_ConvolvedFlux_2_3_3_instFlux</th><th>N708_ext_convolved_ConvolvedFlux_2_4_5_instFlux</th><th>N708_ext_convolved_ConvolvedFlux_2_6_0_instFlux</th><th>N708_ext_gaap_GaapFlux_1_15x_0_5_instFlux</th><th>N708_ext_gaap_GaapFlux_1_15x_0_7_instFlux</th><th>N708_ext_gaap_GaapFlux_1_15x_1_0_instFlux</th><th>N708_ext_gaap_GaapFlux_1_15x_1_5_instFlux</th><th>N708_ext_gaap_GaapFlux_1_15x_2_5_instFlux</th><th>N708_ext_gaap_GaapFlux_1_15x_3_0_instFlux</th><th>N708_gaap0p5Flux</th><th>N708_gaap0p7Flux</th><th>N708_gaap1p0Flux</th><th>N708_gaap1p5Flux</th><th>N708_gaap2p5Flux</th><th>N708_gaap3p0Flux</th><th>N708_gaapOptimalFlux</th></tr></thead>\n",
       "<thead><tr><th></th><th>deg</th><th>deg</th><th>ct</th><th>ct</th><th>ct</th><th>ct</th><th>ct</th><th>ct</th><th>ct</th><th>ct</th><th>ct</th><th>ct</th><th>ct</th><th>ct</th><th>ct</th><th>ct</th><th>ct</th><th></th><th></th><th></th><th></th><th></th><th></th><th></th></tr></thead>\n",
       "<thead><tr><th>int64</th><th>float64</th><th>float64</th><th>float64</th><th>float64</th><th>float64</th><th>float64</th><th>float64</th><th>float64</th><th>float64</th><th>float64</th><th>float64</th><th>float64</th><th>float64</th><th>float64</th><th>float64</th><th>float64</th><th>float64</th><th>float64</th><th>float64</th><th>float64</th><th>float64</th><th>float64</th><th>float64</th><th>float64</th></tr></thead>\n",
       "<tr><td>3495932404885880833</td><td>150.52977087354392</td><td>1.9470904200183674</td><td>2.122293224990698</td><td>1.1703611879915494</td><td>0.9966137345574361</td><td>2.6532073085166736</td><td>1.290808271878601</td><td>1.0241325227318459</td><td>3.152032639090914</td><td>2.1350004236785596</td><td>1.7368475319123138</td><td>2.522755826554027</td><td>1.9201650258051377</td><td>1.4953292340221025</td><td>0.7772382316040641</td><td>0.16389175838087636</td><td>0.047143905734276494</td><td>145.16944547491903</td><td>110.49396421263036</td><td>86.04721607240937</td><td>44.725391929028326</td><td>9.430986317276753</td><td>2.7128486161560774</td><td>--</td></tr>\n",
       "<tr><td>3495932404885880834</td><td>150.5258487772112</td><td>1.947231065499888</td><td>2.8087889894278018</td><td>3.9132621706837205</td><td>2.9863256769125117</td><td>3.4933793716850685</td><td>4.3074928571967765</td><td>3.0721340462166693</td><td>3.6984787070279834</td><td>3.9563222788016272</td><td>3.1441819902705386</td><td>4.064437372146927</td><td>3.9489973581582807</td><td>4.560615833373494</td><td>4.867986482214589</td><td>4.49460493485585</td><td>4.420347654176383</td><td>233.88395867390162</td><td>227.2410792323189</td><td>262.43604893752774</td><td>280.1233836283677</td><td>258.6375182068715</td><td>254.36445771276948</td><td>--</td></tr>\n",
       "<tr><td>3495932404885880835</td><td>150.51536079483597</td><td>1.9511407286860087</td><td>10714.641129564212</td><td>17086.282741415296</td><td>22804.804656432425</td><td>13315.427975360131</td><td>18804.441443530268</td><td>23459.084035187956</td><td>16485.23089473323</td><td>18990.88700056021</td><td>22421.629686495584</td><td>14247.398082291535</td><td>20536.711223846283</td><td>24571.039514748223</td><td>26963.28664635417</td><td>28446.66332238943</td><td>28782.632312093636</td><td>819852.1859691333</td><td>1181764.3819761337</td><td>1413915.743867546</td><td>1551575.1978181773</td><td>1636934.61596869</td><td>1656267.6134069515</td><td>1117289.0387873237</td></tr>\n",
       "<tr><td>3495932404885880836</td><td>150.50222257635792</td><td>1.9470947966649512</td><td>6.257703165669707</td><td>8.084310236835837</td><td>11.727627253119433</td><td>7.790509532645422</td><td>8.892144693891566</td><td>12.052221208007117</td><td>10.00059721809077</td><td>10.729456556435434</td><td>12.931037751917426</td><td>8.00880586867878</td><td>10.942012332676503</td><td>13.613136531009216</td><td>17.29803582774217</td><td>25.01994910052471</td><td>28.28849743014194</td><td>460.858674721795</td><td>629.6470891057736</td><td>783.3542432366069</td><td>995.3980652771803</td><td>1439.7477942584728</td><td>1627.833118856313</td><td>486.7378651533134</td></tr>\n",
       "<tr><td>3495932404885880837</td><td>150.49157680017638</td><td>1.9473296929771284</td><td>16.070661167590497</td><td>18.189123408685052</td><td>20.00597442130554</td><td>20.115708523233522</td><td>20.047787626123373</td><td>20.56735880670577</td><td>20.032831771320566</td><td>20.610406145143852</td><td>21.128326106127016</td><td>21.373436221317437</td><td>21.96680870381765</td><td>22.71925951117456</td><td>23.290985974390484</td><td>24.86909727513798</td><td>25.78606510060518</td><td>1229.912879987457</td><td>1264.0579024022086</td><td>1307.3569269456837</td><td>1340.2563509623799</td><td>1431.0671777636994</td><td>1483.8331685664027</td><td>1230.1078997560894</td></tr>\n",
       "<tr><td>3495932404885880838</td><td>150.47686870760953</td><td>1.94714509236359</td><td>2.893515738348251</td><td>2.3320706854027495</td><td>3.168592681584821</td><td>3.629050089950283</td><td>2.5729802380279954</td><td>3.2592567196141626</td><td>3.1021895147463296</td><td>2.4295219095765246</td><td>2.849588621478454</td><td>3.434037749954242</td><td>3.3586737241058553</td><td>3.4707690593032674</td><td>4.029519260370205</td><td>5.725745587604573</td><td>6.3228574548857495</td><td>197.60824676470912</td><td>193.27149973354202</td><td>199.72191299972062</td><td>231.87463106862873</td><td>329.4822682139663</td><td>363.8424697631214</td><td>--</td></tr>\n",
       "<tr><td>3495932404885880839</td><td>150.46873510700345</td><td>1.9477812706616384</td><td>4.905464346023935</td><td>6.362530663158752</td><td>6.086638368479132</td><td>6.15061790682863</td><td>7.01955550774593</td><td>6.260461729518632</td><td>6.633729989370416</td><td>6.7977686078092265</td><td>7.406761230398694</td><td>6.686488672280301</td><td>7.489668412820518</td><td>9.3802075502559</td><td>13.847176689342342</td><td>25.298226184104507</td><td>30.77479847686083</td><td>384.7672622582569</td><td>430.98543221495027</td><td>539.7746044928757</td><td>796.8218486411662</td><td>1455.7609690122254</td><td>1770.9048107088347</td><td>541.136626079343</td></tr>\n",
       "<tr><td>3495932404885880840</td><td>150.46608281798308</td><td>1.9474265124663441</td><td>9.286990018926465</td><td>11.647536247651715</td><td>13.473480997831212</td><td>11.643389219789825</td><td>12.850156699896417</td><td>13.8580217785</td><td>12.169405980575474</td><td>13.070177298847936</td><td>14.050680877697703</td><td>12.42811106525239</td><td>14.037859016423186</td><td>15.677567689388008</td><td>18.302441856311322</td><td>22.71421395713761</td><td>24.244358300847153</td><td>715.1631452608029</td><td>807.7944712758365</td><td>902.1498568780429</td><td>1053.1955994912696</td><td>1307.0665856157982</td><td>1395.1172021419002</td><td>775.7392713725972</td></tr>\n",
       "<tr><td>3495932404885880841</td><td>150.4608532217034</td><td>1.9471005242233537</td><td>1.8896046178906287</td><td>2.5835319566125814</td><td>2.6078588111080134</td><td>2.3686680721921944</td><td>2.8502151889599516</td><td>2.6822022570237243</td><td>2.5934805623830797</td><td>3.136003021551384</td><td>3.3237375430577374</td><td>2.6113354819488954</td><td>2.9501095846086454</td><td>3.507754651559837</td><td>4.329896995004078</td><td>5.523886927321211</td><td>5.949409044127355</td><td>150.266672609896</td><td>169.7610874504937</td><td>201.8502116887704</td><td>249.15956554814795</td><td>317.8665147315243</td><td>342.35275675457444</td><td>292.3210705903904</td></tr>\n",
       "<tr><td>3495932404885880842</td><td>150.45240189141538</td><td>1.9471015695332936</td><td>2.22103862943992</td><td>2.0977080299976327</td><td>2.1722055931589597</td><td>2.7833656539159892</td><td>2.3141507605193024</td><td>2.2340214774508804</td><td>3.90316125647068</td><td>2.9683254619793633</td><td>2.718387566198435</td><td>2.793908058237004</td><td>2.771312980525015</td><td>2.845662964804652</td><td>3.044905268794381</td><td>3.506006106249262</td><td>3.6410287373243078</td><td>160.77262779576722</td><td>159.47241678549568</td><td>163.75081181498496</td><td>175.21600970726095</td><td>201.74959340837555</td><td>209.51933484486776</td><td>--</td></tr>\n",
       "</table></div>"
      ],
      "text/plain": [
       "<Table length=10>\n",
       "         id                 RA         ...  N708_gaap3p0Flux  N708_gaapOptimalFlux\n",
       "                           deg         ...                                        \n",
       "       int64             float64       ...      float64             float64       \n",
       "------------------- ------------------ ... ------------------ --------------------\n",
       "3495932404885880833 150.52977087354392 ... 2.7128486161560774                   --\n",
       "3495932404885880834  150.5258487772112 ... 254.36445771276948                   --\n",
       "3495932404885880835 150.51536079483597 ... 1656267.6134069515   1117289.0387873237\n",
       "3495932404885880836 150.50222257635792 ...  1627.833118856313    486.7378651533134\n",
       "3495932404885880837 150.49157680017638 ... 1483.8331685664027   1230.1078997560894\n",
       "3495932404885880838 150.47686870760953 ...  363.8424697631214                   --\n",
       "3495932404885880839 150.46873510700345 ... 1770.9048107088347     541.136626079343\n",
       "3495932404885880840 150.46608281798308 ... 1395.1172021419002    775.7392713725972\n",
       "3495932404885880841  150.4608532217034 ... 342.35275675457444    292.3210705903904\n",
       "3495932404885880842 150.45240189141538 ... 209.51933484486776                   --"
      ]
     },
     "execution_count": 49,
     "metadata": {},
     "output_type": "execute_result"
    }
   ],
   "source": [
    "cat_708[:10]"
   ]
  },
  {
   "cell_type": "code",
   "execution_count": 61,
   "id": "765e458c",
   "metadata": {},
   "outputs": [],
   "source": [
    "cat_708.write(f'/scratch/gpfs/jiaxuanl/Data/Merian/Catalogs/dr1_wide/merian_{filt}_{tract}_p30p60_ConvolvedFlux.fits', \n",
    "          overwrite=True)"
   ]
  },
  {
   "cell_type": "code",
   "execution_count": null,
   "id": "c3ef6f23",
   "metadata": {},
   "outputs": [],
   "source": []
  },
  {
   "cell_type": "code",
   "execution_count": 62,
   "id": "115450b5",
   "metadata": {},
   "outputs": [],
   "source": [
    "filt = 'N540'\n",
    "tract = 9813\n",
    "\n",
    "for i, patch in enumerate(range(30, 60)):\n",
    "    import lsst.daf.butler as dafButler\n",
    "    butler = dafButler.Butler('/projects/MERIAN/repo/')\n",
    "    dataId = dict(tract=tract, patch=patch, band=filt)\n",
    "    src = butler.get(\n",
    "        'deepCoadd_forced_src',\n",
    "        collections='DECam/runs/merian/dr1_wide',\n",
    "        dataId=dataId,\n",
    "        instrument='DECam',\n",
    "        skymap='hsc_rings_v1',\n",
    "    ).asAstropy()\n",
    "    src['coord_dec'] = src['coord_dec'].to(u.deg)\n",
    "    src['coord_ra'] = src['coord_ra'].to(u.deg)\n",
    "    \n",
    "    \n",
    "    src2 = Table.from_pandas(butler.get(\n",
    "        'objectTable',\n",
    "        collections='DECam/runs/merian/dr1_wide',\n",
    "        dataId=dataId,\n",
    "        instrument='DECam',\n",
    "        skymap='hsc_rings_v1',\n",
    "    ))\n",
    "    \n",
    "    if i == 0:\n",
    "        cat_540 = Table(data=[src['id'], src['coord_ra'], src['coord_dec']] + [src[name] for name in conv_cols],\n",
    "              names=['id', 'RA', 'Dec'] + [f'{filt}_' + item for item in conv_cols])\n",
    "        cat_540 = hstack([cat_540, src2[[f'{filt}_' + name for name in gaap_cols]]])\n",
    "    else:\n",
    "        temp = Table(data=[src['id'], src['coord_ra'], src['coord_dec']] + [src[name] for name in conv_cols],\n",
    "              names=['id', 'RA', 'Dec'] + [f'{filt}_' + item for item in conv_cols])\n",
    "        temp = hstack([temp, src2[[f'{filt}_' + name for name in gaap_cols]]])\n",
    "        \n",
    "        cat_540 = vstack([cat_540, temp])\n",
    "        \n",
    "    del src, src2\n",
    "    gc.collect()"
   ]
  },
  {
   "cell_type": "code",
   "execution_count": 63,
   "id": "fafda992",
   "metadata": {},
   "outputs": [],
   "source": [
    "cat_540.write(f'/scratch/gpfs/jiaxuanl/Data/Merian/Catalogs/dr1_wide/merian_{filt}_{tract}_p30p60_ConvolvedFlux.fits', \n",
    "          overwrite=True)"
   ]
  },
  {
   "cell_type": "code",
   "execution_count": null,
   "id": "5ee0fcea",
   "metadata": {},
   "outputs": [],
   "source": []
  },
  {
   "cell_type": "code",
   "execution_count": 64,
   "id": "2bf9193b",
   "metadata": {},
   "outputs": [],
   "source": [
    "cat708 = Table.read('/scratch/gpfs/jiaxuanl/Data/Merian/Catalogs/dr1_wide/merian_N708_9813_p30p60_ConvolvedFlux.fits')\n",
    "cat540 = Table.read('/scratch/gpfs/jiaxuanl/Data/Merian/Catalogs/dr1_wide/merian_N540_9813_p30p60_ConvolvedFlux.fits')\n",
    "cat540.remove_columns(['id', 'RA', 'Dec'])"
   ]
  },
  {
   "cell_type": "code",
   "execution_count": 65,
   "id": "90138ab2",
   "metadata": {},
   "outputs": [],
   "source": [
    "cat = hstack([cat708, cat540])"
   ]
  },
  {
   "cell_type": "code",
   "execution_count": 66,
   "id": "2891652b",
   "metadata": {},
   "outputs": [],
   "source": [
    "cat.write(f'/scratch/gpfs/jiaxuanl/Data/Merian/Catalogs/dr1_wide/merian_N708_N540_9813_p30p60_ConvolvedFlux.fits', \n",
    "          overwrite=True)"
   ]
  },
  {
   "cell_type": "code",
   "execution_count": null,
   "id": "308d465f",
   "metadata": {},
   "outputs": [],
   "source": []
  },
  {
   "cell_type": "markdown",
   "id": "efd1ce25",
   "metadata": {},
   "source": [
    "rsync -azv --progress jiaxuanl@tiger.princeton.edu://scratch/gpfs/jiaxuanl/Data/Merian/Catalogs/dr1_wide/merian_N708_N540_9813_p30p60_ConvolvedFlux.fits ./"
   ]
  },
  {
   "cell_type": "code",
   "execution_count": null,
   "id": "02eae69d",
   "metadata": {},
   "outputs": [],
   "source": []
  },
  {
   "cell_type": "markdown",
   "id": "3a969724",
   "metadata": {},
   "source": [
    "`butler query-datasets /projects/MERIAN/repo/ --collections DECam/runs/merian/w_2022_29 --where \"instrument='DECam' AND skymap='hsc_rings_v1' AND tract=9085\" deepCoadd_forced_src`"
   ]
  },
  {
   "cell_type": "markdown",
   "id": "b363c0e9",
   "metadata": {},
   "source": [
    "### Also get RC2 HSC catalog"
   ]
  },
  {
   "cell_type": "code",
   "execution_count": null,
   "id": "0b6bc04d",
   "metadata": {},
   "outputs": [],
   "source": [
    "import lsst.daf.butler as dafButler\n",
    "butler = dafButler.Butler('/projects/MERIAN/repo')\n",
    "dataId = dict(tract=9813)\n",
    "obj = butler.get('objectTable_tract', dataId=dataId, \n",
    "                 instrument='HSC', \n",
    "                 skymap='hsc_rings_v1', \n",
    "                 collections='HSC/runs/RC2/w_2022_04/DM-33402')"
   ]
  },
  {
   "cell_type": "code",
   "execution_count": 3,
   "id": "313b48ab",
   "metadata": {},
   "outputs": [
    {
     "data": {
      "text/html": [
       "<div><i>Table length=5</i>\n",
       "<table id=\"table47423282103584\" class=\"table-striped table-bordered table-condensed\">\n",
       "<thead><tr><th>objectId</th><th>deblend_nChild</th><th>detect_isPatchInner</th><th>shape_xx</th><th>deblend_skipped</th><th>yErr</th><th>detect_isTractInner</th><th>shape_flag</th><th>shape_yy</th><th>parentObjectId</th><th>coord_ra</th><th>refExtendedness</th><th>detect_isDeblendedSource</th><th>footprintArea</th><th>detect_isPrimary</th><th>detect_isDeblendedModelSource</th><th>y</th><th>detect_isIsolated</th><th>x</th><th>merge_peak_sky</th><th>sky_object</th><th>refFwhm</th><th>xErr</th><th>detect_fromBlend</th><th>xy_flag</th><th>shape_xy</th><th>coord_dec</th><th>refBand</th><th>skymap</th><th>tract</th><th>patch</th><th>y_ra</th><th>y_decl</th><th>y_psfFlux</th><th>y_psfFluxErr</th><th>y_free_psfFlux</th><th>y_free_psfFluxErr</th><th>y_free_psfFlux_flag</th><th>y_bdE1</th><th>y_bdE2</th><th>y_bdReB</th><th>y_bdReD</th><th>y_bdChi2</th><th>y_bdFluxB</th><th>y_bdFluxBErr</th><th>y_bdFluxD</th><th>y_bdFluxDErr</th><th>y_gaapPsfFlux</th><th>y_gaapPsfFluxErr</th><th>y_gaap0p5Flux</th><th>y_gaap0p5FluxErr</th><th>y_gaap0p7Flux</th><th>y_gaap0p7FluxErr</th><th>y_gaap1p0Flux</th><th>y_gaap1p0FluxErr</th><th>y_gaap1p5Flux</th><th>y_gaap1p5FluxErr</th><th>y_gaap2p5Flux</th><th>y_gaap2p5FluxErr</th><th>y_gaap3p0Flux</th><th>y_gaap3p0FluxErr</th><th>y_gaapOptimalFlux</th><th>y_gaapOptimalFluxErr</th><th>y_ixx</th><th>y_iyy</th><th>y_ixy</th><th>y_i_flag</th><th>y_ixxPSF</th><th>y_iyyPSF</th><th>y_ixyPSF</th><th>y_iPSF_flag</th><th>y_ixxRound</th><th>y_iyyRound</th><th>y_ixyRound</th><th>y_iRound_flag</th><th>y_ixxDebiasedPSF</th><th>y_iyyDebiasedPSF</th><th>y_ixyDebiasedPSF</th><th>y_iDebiasedPSF_flag</th><th>y_kronRad</th><th>y_kronFlux</th><th>y_kronFluxErr</th><th>y_calibFlux</th><th>y_calibFluxErr</th><th>y_ap03Flux</th><th>y_ap03FluxErr</th><th>y_ap03Flux_flag</th><th>y_ap06Flux</th><th>y_ap06FluxErr</th><th>y_ap06Flux_flag</th><th>y_ap09Flux</th><th>y_ap09FluxErr</th><th>y_ap09Flux_flag</th><th>y_ap12Flux</th><th>y_ap12FluxErr</th><th>y_ap12Flux_flag</th><th>y_ap17Flux</th><th>y_ap17FluxErr</th><th>y_ap17Flux_flag</th><th>y_ap25Flux</th><th>y_ap25FluxErr</th><th>y_ap25Flux_flag</th><th>y_ap35Flux</th><th>y_ap35FluxErr</th><th>y_ap35Flux_flag</th><th>y_ap50Flux</th><th>y_ap50FluxErr</th><th>y_ap50Flux_flag</th><th>y_ap70Flux</th><th>y_ap70FluxErr</th><th>y_ap70Flux_flag</th><th>y_extendedness</th><th>y_blendedness</th><th>y_fwhm</th><th>y_cModelFlux</th><th>y_cModelFluxErr</th><th>y_cModelFlux_inner</th><th>y_free_cModelFlux</th><th>y_free_cModelFluxErr</th><th>y_free_cModelFlux_inner</th><th>y_free_cModelFlux_flag</th><th>y_hsmShapeRegauss_e1</th><th>y_hsmShapeRegauss_e2</th><th>y_hsmShapeRegauss_sigma</th><th>y_hsmShapeRegauss_flag</th><th>y_inputCount</th><th>y_inputCount_flag</th><th>y_inputCount_flag_noInputs</th><th>y_psfFlux_area</th><th>y_psfFlux_flag</th><th>y_psfFlux_flag_apCorr</th><th>y_psfFlux_flag_edge</th><th>y_psfFlux_flag_noGoodPixels</th><th>y_cModel_flag</th><th>y_cModel_flag_apCorr</th><th>y_gaapFlux_flag</th><th>y_gaapFlux_flag_edge</th><th>y_gaapFlux_flag_gaussianization</th><th>y_gaapOptimalFlux_flag_bigPsf</th><th>y_gaap0p5Flux_flag_bigPsf</th><th>y_gaap0p7Flux_flag_bigPsf</th><th>y_gaap1p0Flux_flag_bigPsf</th><th>y_gaap1p5Flux_flag_bigPsf</th><th>y_gaap2p5Flux_flag_bigPsf</th><th>y_gaap3p0Flux_flag_bigPsf</th><th>y_blendedness_flag</th><th>y_pixelFlags_bad</th><th>y_pixelFlags_clipped</th><th>y_pixelFlags_clippedCenter</th><th>y_pixelFlags_cr</th><th>y_pixelFlags_crCenter</th><th>y_pixelFlags_edge</th><th>y_pixelFlags_inexact_psf</th><th>y_pixelFlags_inexact_psfCenter</th><th>y_pixelFlags_interpolated</th><th>y_pixelFlags_interpolatedCenter</th><th>y_pixelFlags_offimage</th><th>y_pixelFlags_saturated</th><th>y_pixelFlags_saturatedCenter</th><th>y_pixelFlags_sensor_edge</th><th>y_pixelFlags_sensor_edgeCenter</th><th>y_pixelFlags_suspect</th><th>y_pixelFlags_suspectCenter</th><th>y_extendedness_flag</th><th>y_calib_astrometry_used</th><th>y_calib_photometry_reserved</th><th>y_calib_photometry_used</th><th>y_calib_psf_candidate</th><th>y_calib_psf_reserved</th><th>y_calib_psf_used</th><th>y_apFlux_flag</th><th>y_apFlux_flag_apertureTruncated</th><th>y_apFlux_flag_sincCoeffsTruncated</th><th>y_calibFlux_flag</th><th>y_calibFlux_flag_apertureTruncated</th><th>y_calibFlux_flag_sincCoeffsTruncated</th><th>y_centroid_flag</th><th>y_centroid_x</th><th>y_centroid_xErr</th><th>y_centroid_y</th><th>y_centroid_yErr</th><th>y_kronFlux_flag</th><th>y_kronFlux_flag_bad_radius</th><th>y_kronFlux_flag_bad_shape</th><th>y_kronFlux_flag_bad_shape_no_psf</th><th>y_kronFlux_flag_edge</th><th>y_kronFlux_flag_no_fallback_radius</th><th>y_kronFlux_flag_no_minimum_radius</th><th>y_kronFlux_flag_small_radius</th><th>y_kronFlux_flag_used_minimum_radius</th><th>y_kronFlux_flag_used_psf_radius</th><th>z_ra</th><th>z_decl</th><th>z_psfFlux</th><th>z_psfFluxErr</th><th>z_free_psfFlux</th><th>z_free_psfFluxErr</th><th>z_free_psfFlux_flag</th><th>z_bdE1</th><th>z_bdE2</th><th>z_bdReB</th><th>z_bdReD</th><th>z_bdChi2</th><th>z_bdFluxB</th><th>z_bdFluxBErr</th><th>z_bdFluxD</th><th>z_bdFluxDErr</th><th>z_gaapPsfFlux</th><th>z_gaapPsfFluxErr</th><th>z_gaap0p5Flux</th><th>z_gaap0p5FluxErr</th><th>z_gaap0p7Flux</th><th>z_gaap0p7FluxErr</th><th>z_gaap1p0Flux</th><th>z_gaap1p0FluxErr</th><th>z_gaap1p5Flux</th><th>z_gaap1p5FluxErr</th><th>z_gaap2p5Flux</th><th>z_gaap2p5FluxErr</th><th>z_gaap3p0Flux</th><th>z_gaap3p0FluxErr</th><th>z_gaapOptimalFlux</th><th>z_gaapOptimalFluxErr</th><th>z_ixx</th><th>z_iyy</th><th>z_ixy</th><th>z_i_flag</th><th>z_ixxPSF</th><th>z_iyyPSF</th><th>z_ixyPSF</th><th>z_iPSF_flag</th><th>z_ixxRound</th><th>z_iyyRound</th><th>z_ixyRound</th><th>z_iRound_flag</th><th>z_ixxDebiasedPSF</th><th>z_iyyDebiasedPSF</th><th>z_ixyDebiasedPSF</th><th>z_iDebiasedPSF_flag</th><th>z_kronRad</th><th>z_kronFlux</th><th>z_kronFluxErr</th><th>z_calibFlux</th><th>z_calibFluxErr</th><th>z_ap03Flux</th><th>z_ap03FluxErr</th><th>z_ap03Flux_flag</th><th>z_ap06Flux</th><th>z_ap06FluxErr</th><th>z_ap06Flux_flag</th><th>z_ap09Flux</th><th>z_ap09FluxErr</th><th>z_ap09Flux_flag</th><th>z_ap12Flux</th><th>z_ap12FluxErr</th><th>z_ap12Flux_flag</th><th>z_ap17Flux</th><th>z_ap17FluxErr</th><th>z_ap17Flux_flag</th><th>z_ap25Flux</th><th>z_ap25FluxErr</th><th>z_ap25Flux_flag</th><th>z_ap35Flux</th><th>z_ap35FluxErr</th><th>z_ap35Flux_flag</th><th>z_ap50Flux</th><th>z_ap50FluxErr</th><th>z_ap50Flux_flag</th><th>z_ap70Flux</th><th>z_ap70FluxErr</th><th>z_ap70Flux_flag</th><th>z_extendedness</th><th>z_blendedness</th><th>z_fwhm</th><th>z_cModelFlux</th><th>z_cModelFluxErr</th><th>z_cModelFlux_inner</th><th>z_free_cModelFlux</th><th>z_free_cModelFluxErr</th><th>z_free_cModelFlux_inner</th><th>z_free_cModelFlux_flag</th><th>z_hsmShapeRegauss_e1</th><th>z_hsmShapeRegauss_e2</th><th>z_hsmShapeRegauss_sigma</th><th>z_hsmShapeRegauss_flag</th><th>z_inputCount</th><th>z_inputCount_flag</th><th>z_inputCount_flag_noInputs</th><th>z_psfFlux_area</th><th>z_psfFlux_flag</th><th>z_psfFlux_flag_apCorr</th><th>z_psfFlux_flag_edge</th><th>z_psfFlux_flag_noGoodPixels</th><th>z_cModel_flag</th><th>z_cModel_flag_apCorr</th><th>z_gaapFlux_flag</th><th>z_gaapFlux_flag_edge</th><th>z_gaapFlux_flag_gaussianization</th><th>z_gaapOptimalFlux_flag_bigPsf</th><th>z_gaap0p5Flux_flag_bigPsf</th><th>z_gaap0p7Flux_flag_bigPsf</th><th>z_gaap1p0Flux_flag_bigPsf</th><th>z_gaap1p5Flux_flag_bigPsf</th><th>z_gaap2p5Flux_flag_bigPsf</th><th>z_gaap3p0Flux_flag_bigPsf</th><th>z_blendedness_flag</th><th>z_pixelFlags_bad</th><th>z_pixelFlags_clipped</th><th>z_pixelFlags_clippedCenter</th><th>z_pixelFlags_cr</th><th>z_pixelFlags_crCenter</th><th>z_pixelFlags_edge</th><th>z_pixelFlags_inexact_psf</th><th>z_pixelFlags_inexact_psfCenter</th><th>z_pixelFlags_interpolated</th><th>z_pixelFlags_interpolatedCenter</th><th>z_pixelFlags_offimage</th><th>z_pixelFlags_saturated</th><th>z_pixelFlags_saturatedCenter</th><th>z_pixelFlags_sensor_edge</th><th>z_pixelFlags_sensor_edgeCenter</th><th>z_pixelFlags_suspect</th><th>z_pixelFlags_suspectCenter</th><th>z_extendedness_flag</th><th>z_calib_astrometry_used</th><th>z_calib_photometry_reserved</th><th>z_calib_photometry_used</th><th>z_calib_psf_candidate</th><th>z_calib_psf_reserved</th><th>z_calib_psf_used</th><th>z_apFlux_flag</th><th>z_apFlux_flag_apertureTruncated</th><th>z_apFlux_flag_sincCoeffsTruncated</th><th>z_calibFlux_flag</th><th>z_calibFlux_flag_apertureTruncated</th><th>z_calibFlux_flag_sincCoeffsTruncated</th><th>z_centroid_flag</th><th>z_centroid_x</th><th>z_centroid_xErr</th><th>z_centroid_y</th><th>z_centroid_yErr</th><th>z_kronFlux_flag</th><th>z_kronFlux_flag_bad_radius</th><th>z_kronFlux_flag_bad_shape</th><th>z_kronFlux_flag_bad_shape_no_psf</th><th>z_kronFlux_flag_edge</th><th>z_kronFlux_flag_no_fallback_radius</th><th>z_kronFlux_flag_no_minimum_radius</th><th>z_kronFlux_flag_small_radius</th><th>z_kronFlux_flag_used_minimum_radius</th><th>z_kronFlux_flag_used_psf_radius</th><th>r_ra</th><th>r_decl</th><th>r_psfFlux</th><th>r_psfFluxErr</th><th>r_free_psfFlux</th><th>r_free_psfFluxErr</th><th>r_free_psfFlux_flag</th><th>r_bdE1</th><th>r_bdE2</th><th>r_bdReB</th><th>r_bdReD</th><th>r_bdChi2</th><th>r_bdFluxB</th><th>r_bdFluxBErr</th><th>r_bdFluxD</th><th>r_bdFluxDErr</th><th>r_gaapPsfFlux</th><th>r_gaapPsfFluxErr</th><th>r_gaap0p5Flux</th><th>r_gaap0p5FluxErr</th><th>r_gaap0p7Flux</th><th>r_gaap0p7FluxErr</th><th>r_gaap1p0Flux</th><th>r_gaap1p0FluxErr</th><th>r_gaap1p5Flux</th><th>r_gaap1p5FluxErr</th><th>r_gaap2p5Flux</th><th>r_gaap2p5FluxErr</th><th>r_gaap3p0Flux</th><th>r_gaap3p0FluxErr</th><th>r_gaapOptimalFlux</th><th>r_gaapOptimalFluxErr</th><th>r_ixx</th><th>r_iyy</th><th>r_ixy</th><th>r_i_flag</th><th>r_ixxPSF</th><th>r_iyyPSF</th><th>r_ixyPSF</th><th>r_iPSF_flag</th><th>r_ixxRound</th><th>r_iyyRound</th><th>r_ixyRound</th><th>r_iRound_flag</th><th>r_ixxDebiasedPSF</th><th>r_iyyDebiasedPSF</th><th>r_ixyDebiasedPSF</th><th>r_iDebiasedPSF_flag</th><th>r_kronRad</th><th>r_kronFlux</th><th>r_kronFluxErr</th><th>r_calibFlux</th><th>r_calibFluxErr</th><th>r_ap03Flux</th><th>r_ap03FluxErr</th><th>r_ap03Flux_flag</th><th>r_ap06Flux</th><th>r_ap06FluxErr</th><th>r_ap06Flux_flag</th><th>r_ap09Flux</th><th>r_ap09FluxErr</th><th>r_ap09Flux_flag</th><th>r_ap12Flux</th><th>r_ap12FluxErr</th><th>r_ap12Flux_flag</th><th>r_ap17Flux</th><th>r_ap17FluxErr</th><th>r_ap17Flux_flag</th><th>r_ap25Flux</th><th>r_ap25FluxErr</th><th>r_ap25Flux_flag</th><th>r_ap35Flux</th><th>r_ap35FluxErr</th><th>r_ap35Flux_flag</th><th>r_ap50Flux</th><th>r_ap50FluxErr</th><th>r_ap50Flux_flag</th><th>r_ap70Flux</th><th>r_ap70FluxErr</th><th>r_ap70Flux_flag</th><th>r_extendedness</th><th>r_blendedness</th><th>r_fwhm</th><th>r_cModelFlux</th><th>r_cModelFluxErr</th><th>r_cModelFlux_inner</th><th>r_free_cModelFlux</th><th>r_free_cModelFluxErr</th><th>r_free_cModelFlux_inner</th><th>r_free_cModelFlux_flag</th><th>r_hsmShapeRegauss_e1</th><th>r_hsmShapeRegauss_e2</th><th>r_hsmShapeRegauss_sigma</th><th>r_hsmShapeRegauss_flag</th><th>r_inputCount</th><th>r_inputCount_flag</th><th>r_inputCount_flag_noInputs</th><th>r_psfFlux_area</th><th>r_psfFlux_flag</th><th>r_psfFlux_flag_apCorr</th><th>r_psfFlux_flag_edge</th><th>r_psfFlux_flag_noGoodPixels</th><th>r_cModel_flag</th><th>r_cModel_flag_apCorr</th><th>r_gaapFlux_flag</th><th>r_gaapFlux_flag_edge</th><th>r_gaapFlux_flag_gaussianization</th><th>r_gaapOptimalFlux_flag_bigPsf</th><th>r_gaap0p5Flux_flag_bigPsf</th><th>r_gaap0p7Flux_flag_bigPsf</th><th>r_gaap1p0Flux_flag_bigPsf</th><th>r_gaap1p5Flux_flag_bigPsf</th><th>r_gaap2p5Flux_flag_bigPsf</th><th>r_gaap3p0Flux_flag_bigPsf</th><th>r_blendedness_flag</th><th>r_pixelFlags_bad</th><th>r_pixelFlags_clipped</th><th>r_pixelFlags_clippedCenter</th><th>r_pixelFlags_cr</th><th>r_pixelFlags_crCenter</th><th>r_pixelFlags_edge</th><th>r_pixelFlags_inexact_psf</th><th>r_pixelFlags_inexact_psfCenter</th><th>r_pixelFlags_interpolated</th><th>r_pixelFlags_interpolatedCenter</th><th>r_pixelFlags_offimage</th><th>r_pixelFlags_saturated</th><th>r_pixelFlags_saturatedCenter</th><th>r_pixelFlags_sensor_edge</th><th>r_pixelFlags_sensor_edgeCenter</th><th>r_pixelFlags_suspect</th><th>r_pixelFlags_suspectCenter</th><th>r_extendedness_flag</th><th>r_calib_astrometry_used</th><th>r_calib_photometry_reserved</th><th>r_calib_photometry_used</th><th>r_calib_psf_candidate</th><th>r_calib_psf_reserved</th><th>r_calib_psf_used</th><th>r_apFlux_flag</th><th>r_apFlux_flag_apertureTruncated</th><th>r_apFlux_flag_sincCoeffsTruncated</th><th>r_calibFlux_flag</th><th>r_calibFlux_flag_apertureTruncated</th><th>r_calibFlux_flag_sincCoeffsTruncated</th><th>r_centroid_flag</th><th>r_centroid_x</th><th>r_centroid_xErr</th><th>r_centroid_y</th><th>r_centroid_yErr</th><th>r_kronFlux_flag</th><th>r_kronFlux_flag_bad_radius</th><th>r_kronFlux_flag_bad_shape</th><th>r_kronFlux_flag_bad_shape_no_psf</th><th>r_kronFlux_flag_edge</th><th>r_kronFlux_flag_no_fallback_radius</th><th>r_kronFlux_flag_no_minimum_radius</th><th>r_kronFlux_flag_small_radius</th><th>r_kronFlux_flag_used_minimum_radius</th><th>r_kronFlux_flag_used_psf_radius</th><th>i_ra</th><th>i_decl</th><th>i_psfFlux</th><th>i_psfFluxErr</th><th>i_free_psfFlux</th><th>i_free_psfFluxErr</th><th>i_free_psfFlux_flag</th><th>i_bdE1</th><th>i_bdE2</th><th>i_bdReB</th><th>i_bdReD</th><th>i_bdChi2</th><th>i_bdFluxB</th><th>i_bdFluxBErr</th><th>i_bdFluxD</th><th>i_bdFluxDErr</th><th>i_gaapPsfFlux</th><th>i_gaapPsfFluxErr</th><th>i_gaap0p5Flux</th><th>i_gaap0p5FluxErr</th><th>i_gaap0p7Flux</th><th>i_gaap0p7FluxErr</th><th>i_gaap1p0Flux</th><th>i_gaap1p0FluxErr</th><th>i_gaap1p5Flux</th><th>i_gaap1p5FluxErr</th><th>i_gaap2p5Flux</th><th>i_gaap2p5FluxErr</th><th>i_gaap3p0Flux</th><th>i_gaap3p0FluxErr</th><th>i_gaapOptimalFlux</th><th>i_gaapOptimalFluxErr</th><th>i_ixx</th><th>i_iyy</th><th>i_ixy</th><th>i_i_flag</th><th>i_ixxPSF</th><th>i_iyyPSF</th><th>i_ixyPSF</th><th>i_iPSF_flag</th><th>i_ixxRound</th><th>i_iyyRound</th><th>i_ixyRound</th><th>i_iRound_flag</th><th>i_ixxDebiasedPSF</th><th>i_iyyDebiasedPSF</th><th>i_ixyDebiasedPSF</th><th>i_iDebiasedPSF_flag</th><th>i_kronRad</th><th>i_kronFlux</th><th>i_kronFluxErr</th><th>i_calibFlux</th><th>i_calibFluxErr</th><th>i_ap03Flux</th><th>i_ap03FluxErr</th><th>i_ap03Flux_flag</th><th>i_ap06Flux</th><th>i_ap06FluxErr</th><th>i_ap06Flux_flag</th><th>i_ap09Flux</th><th>i_ap09FluxErr</th><th>i_ap09Flux_flag</th><th>i_ap12Flux</th><th>i_ap12FluxErr</th><th>i_ap12Flux_flag</th><th>i_ap17Flux</th><th>i_ap17FluxErr</th><th>i_ap17Flux_flag</th><th>i_ap25Flux</th><th>i_ap25FluxErr</th><th>i_ap25Flux_flag</th><th>i_ap35Flux</th><th>i_ap35FluxErr</th><th>i_ap35Flux_flag</th><th>i_ap50Flux</th><th>i_ap50FluxErr</th><th>i_ap50Flux_flag</th><th>i_ap70Flux</th><th>i_ap70FluxErr</th><th>i_ap70Flux_flag</th><th>i_extendedness</th><th>i_blendedness</th><th>i_fwhm</th><th>i_cModelFlux</th><th>i_cModelFluxErr</th><th>i_cModelFlux_inner</th><th>i_free_cModelFlux</th><th>i_free_cModelFluxErr</th><th>i_free_cModelFlux_inner</th><th>i_free_cModelFlux_flag</th><th>i_hsmShapeRegauss_e1</th><th>i_hsmShapeRegauss_e2</th><th>i_hsmShapeRegauss_sigma</th><th>i_hsmShapeRegauss_flag</th><th>i_inputCount</th><th>i_inputCount_flag</th><th>i_inputCount_flag_noInputs</th><th>i_psfFlux_area</th><th>i_psfFlux_flag</th><th>i_psfFlux_flag_apCorr</th><th>i_psfFlux_flag_edge</th><th>i_psfFlux_flag_noGoodPixels</th><th>i_cModel_flag</th><th>i_cModel_flag_apCorr</th><th>i_gaapFlux_flag</th><th>i_gaapFlux_flag_edge</th><th>i_gaapFlux_flag_gaussianization</th><th>i_gaapOptimalFlux_flag_bigPsf</th><th>i_gaap0p5Flux_flag_bigPsf</th><th>i_gaap0p7Flux_flag_bigPsf</th><th>i_gaap1p0Flux_flag_bigPsf</th><th>i_gaap1p5Flux_flag_bigPsf</th><th>i_gaap2p5Flux_flag_bigPsf</th><th>i_gaap3p0Flux_flag_bigPsf</th><th>i_blendedness_flag</th><th>i_pixelFlags_bad</th><th>i_pixelFlags_clipped</th><th>i_pixelFlags_clippedCenter</th><th>i_pixelFlags_cr</th><th>i_pixelFlags_crCenter</th><th>i_pixelFlags_edge</th><th>i_pixelFlags_inexact_psf</th><th>i_pixelFlags_inexact_psfCenter</th><th>i_pixelFlags_interpolated</th><th>i_pixelFlags_interpolatedCenter</th><th>i_pixelFlags_offimage</th><th>i_pixelFlags_saturated</th><th>i_pixelFlags_saturatedCenter</th><th>i_pixelFlags_sensor_edge</th><th>i_pixelFlags_sensor_edgeCenter</th><th>i_pixelFlags_suspect</th><th>i_pixelFlags_suspectCenter</th><th>i_extendedness_flag</th><th>i_calib_astrometry_used</th><th>i_calib_photometry_reserved</th><th>i_calib_photometry_used</th><th>i_calib_psf_candidate</th><th>i_calib_psf_reserved</th><th>i_calib_psf_used</th><th>i_apFlux_flag</th><th>i_apFlux_flag_apertureTruncated</th><th>i_apFlux_flag_sincCoeffsTruncated</th><th>i_calibFlux_flag</th><th>i_calibFlux_flag_apertureTruncated</th><th>i_calibFlux_flag_sincCoeffsTruncated</th><th>i_centroid_flag</th><th>i_centroid_x</th><th>i_centroid_xErr</th><th>i_centroid_y</th><th>i_centroid_yErr</th><th>i_kronFlux_flag</th><th>i_kronFlux_flag_bad_radius</th><th>i_kronFlux_flag_bad_shape</th><th>i_kronFlux_flag_bad_shape_no_psf</th><th>i_kronFlux_flag_edge</th><th>i_kronFlux_flag_no_fallback_radius</th><th>i_kronFlux_flag_no_minimum_radius</th><th>i_kronFlux_flag_small_radius</th><th>i_kronFlux_flag_used_minimum_radius</th><th>i_kronFlux_flag_used_psf_radius</th><th>g_ra</th><th>g_decl</th><th>g_psfFlux</th><th>g_psfFluxErr</th><th>g_free_psfFlux</th><th>g_free_psfFluxErr</th><th>g_free_psfFlux_flag</th><th>g_bdE1</th><th>g_bdE2</th><th>g_bdReB</th><th>g_bdReD</th><th>g_bdChi2</th><th>g_bdFluxB</th><th>g_bdFluxBErr</th><th>g_bdFluxD</th><th>g_bdFluxDErr</th><th>g_gaapPsfFlux</th><th>g_gaapPsfFluxErr</th><th>g_gaap0p5Flux</th><th>g_gaap0p5FluxErr</th><th>g_gaap0p7Flux</th><th>g_gaap0p7FluxErr</th><th>g_gaap1p0Flux</th><th>g_gaap1p0FluxErr</th><th>g_gaap1p5Flux</th><th>g_gaap1p5FluxErr</th><th>g_gaap2p5Flux</th><th>g_gaap2p5FluxErr</th><th>g_gaap3p0Flux</th><th>g_gaap3p0FluxErr</th><th>g_gaapOptimalFlux</th><th>g_gaapOptimalFluxErr</th><th>g_ixx</th><th>g_iyy</th><th>g_ixy</th><th>g_i_flag</th><th>g_ixxPSF</th><th>g_iyyPSF</th><th>g_ixyPSF</th><th>g_iPSF_flag</th><th>g_ixxRound</th><th>g_iyyRound</th><th>g_ixyRound</th><th>g_iRound_flag</th><th>g_ixxDebiasedPSF</th><th>g_iyyDebiasedPSF</th><th>g_ixyDebiasedPSF</th><th>g_iDebiasedPSF_flag</th><th>g_kronRad</th><th>g_kronFlux</th><th>g_kronFluxErr</th><th>g_calibFlux</th><th>g_calibFluxErr</th><th>g_ap03Flux</th><th>g_ap03FluxErr</th><th>g_ap03Flux_flag</th><th>g_ap06Flux</th><th>g_ap06FluxErr</th><th>g_ap06Flux_flag</th><th>g_ap09Flux</th><th>g_ap09FluxErr</th><th>g_ap09Flux_flag</th><th>g_ap12Flux</th><th>g_ap12FluxErr</th><th>g_ap12Flux_flag</th><th>g_ap17Flux</th><th>g_ap17FluxErr</th><th>g_ap17Flux_flag</th><th>g_ap25Flux</th><th>g_ap25FluxErr</th><th>g_ap25Flux_flag</th><th>g_ap35Flux</th><th>g_ap35FluxErr</th><th>g_ap35Flux_flag</th><th>g_ap50Flux</th><th>g_ap50FluxErr</th><th>g_ap50Flux_flag</th><th>g_ap70Flux</th><th>g_ap70FluxErr</th><th>g_ap70Flux_flag</th><th>g_extendedness</th><th>g_blendedness</th><th>g_fwhm</th><th>g_cModelFlux</th><th>g_cModelFluxErr</th><th>g_cModelFlux_inner</th><th>g_free_cModelFlux</th><th>g_free_cModelFluxErr</th><th>g_free_cModelFlux_inner</th><th>g_free_cModelFlux_flag</th><th>g_hsmShapeRegauss_e1</th><th>g_hsmShapeRegauss_e2</th><th>g_hsmShapeRegauss_sigma</th><th>g_hsmShapeRegauss_flag</th><th>g_inputCount</th><th>g_inputCount_flag</th><th>g_inputCount_flag_noInputs</th><th>g_psfFlux_area</th><th>g_psfFlux_flag</th><th>g_psfFlux_flag_apCorr</th><th>g_psfFlux_flag_edge</th><th>g_psfFlux_flag_noGoodPixels</th><th>g_cModel_flag</th><th>g_cModel_flag_apCorr</th><th>g_gaapFlux_flag</th><th>g_gaapFlux_flag_edge</th><th>g_gaapFlux_flag_gaussianization</th><th>g_gaapOptimalFlux_flag_bigPsf</th><th>g_gaap0p5Flux_flag_bigPsf</th><th>g_gaap0p7Flux_flag_bigPsf</th><th>g_gaap1p0Flux_flag_bigPsf</th><th>g_gaap1p5Flux_flag_bigPsf</th><th>g_gaap2p5Flux_flag_bigPsf</th><th>g_gaap3p0Flux_flag_bigPsf</th><th>g_blendedness_flag</th><th>g_pixelFlags_bad</th><th>g_pixelFlags_clipped</th><th>g_pixelFlags_clippedCenter</th><th>g_pixelFlags_cr</th><th>g_pixelFlags_crCenter</th><th>g_pixelFlags_edge</th><th>g_pixelFlags_inexact_psf</th><th>g_pixelFlags_inexact_psfCenter</th><th>g_pixelFlags_interpolated</th><th>g_pixelFlags_interpolatedCenter</th><th>g_pixelFlags_offimage</th><th>g_pixelFlags_saturated</th><th>g_pixelFlags_saturatedCenter</th><th>g_pixelFlags_sensor_edge</th><th>g_pixelFlags_sensor_edgeCenter</th><th>g_pixelFlags_suspect</th><th>g_pixelFlags_suspectCenter</th><th>g_extendedness_flag</th><th>g_calib_astrometry_used</th><th>g_calib_photometry_reserved</th><th>g_calib_photometry_used</th><th>g_calib_psf_candidate</th><th>g_calib_psf_reserved</th><th>g_calib_psf_used</th><th>g_apFlux_flag</th><th>g_apFlux_flag_apertureTruncated</th><th>g_apFlux_flag_sincCoeffsTruncated</th><th>g_calibFlux_flag</th><th>g_calibFlux_flag_apertureTruncated</th><th>g_calibFlux_flag_sincCoeffsTruncated</th><th>g_centroid_flag</th><th>g_centroid_x</th><th>g_centroid_xErr</th><th>g_centroid_y</th><th>g_centroid_yErr</th><th>g_kronFlux_flag</th><th>g_kronFlux_flag_bad_radius</th><th>g_kronFlux_flag_bad_shape</th><th>g_kronFlux_flag_bad_shape_no_psf</th><th>g_kronFlux_flag_edge</th><th>g_kronFlux_flag_no_fallback_radius</th><th>g_kronFlux_flag_no_minimum_radius</th><th>g_kronFlux_flag_small_radius</th><th>g_kronFlux_flag_used_minimum_radius</th><th>g_kronFlux_flag_used_psf_radius</th></tr></thead>\n",
       "<thead><tr><th>int64</th><th>int32</th><th>bool</th><th>float64</th><th>bool</th><th>float32</th><th>bool</th><th>bool</th><th>float64</th><th>int64</th><th>float64</th><th>float64</th><th>bool</th><th>int32</th><th>bool</th><th>bool</th><th>float64</th><th>bool</th><th>float64</th><th>bool</th><th>bool</th><th>float64</th><th>float32</th><th>bool</th><th>bool</th><th>float64</th><th>float64</th><th>float64</th><th>str12</th><th>int64</th><th>int64</th><th>float64</th><th>float64</th><th>float64</th><th>float64</th><th>float64</th><th>float64</th><th>bool</th><th>float64</th><th>float64</th><th>float64</th><th>float64</th><th>float64</th><th>float64</th><th>float64</th><th>float64</th><th>float64</th><th>float64</th><th>float64</th><th>float64</th><th>float64</th><th>float64</th><th>float64</th><th>float64</th><th>float64</th><th>float64</th><th>float64</th><th>float64</th><th>float64</th><th>float64</th><th>float64</th><th>float64</th><th>float64</th><th>float64</th><th>float64</th><th>float64</th><th>bool</th><th>float64</th><th>float64</th><th>float64</th><th>bool</th><th>float64</th><th>float64</th><th>float64</th><th>float64</th><th>float64</th><th>float64</th><th>float64</th><th>bool</th><th>float32</th><th>float64</th><th>float64</th><th>float64</th><th>float64</th><th>float64</th><th>float64</th><th>bool</th><th>float64</th><th>float64</th><th>bool</th><th>float64</th><th>float64</th><th>bool</th><th>float64</th><th>float64</th><th>bool</th><th>float64</th><th>float64</th><th>bool</th><th>float64</th><th>float64</th><th>bool</th><th>float64</th><th>float64</th><th>bool</th><th>float64</th><th>float64</th><th>bool</th><th>float64</th><th>float64</th><th>bool</th><th>float64</th><th>float64</th><th>float64</th><th>float64</th><th>float64</th><th>float64</th><th>float64</th><th>float64</th><th>float64</th><th>bool</th><th>float64</th><th>float64</th><th>float64</th><th>bool</th><th>int32</th><th>bool</th><th>bool</th><th>float32</th><th>bool</th><th>bool</th><th>bool</th><th>bool</th><th>bool</th><th>bool</th><th>bool</th><th>bool</th><th>bool</th><th>bool</th><th>bool</th><th>bool</th><th>bool</th><th>bool</th><th>bool</th><th>bool</th><th>bool</th><th>bool</th><th>bool</th><th>bool</th><th>bool</th><th>bool</th><th>bool</th><th>bool</th><th>bool</th><th>bool</th><th>bool</th><th>bool</th><th>bool</th><th>bool</th><th>bool</th><th>bool</th><th>bool</th><th>bool</th><th>bool</th><th>bool</th><th>bool</th><th>bool</th><th>bool</th><th>bool</th><th>bool</th><th>bool</th><th>bool</th><th>bool</th><th>bool</th><th>bool</th><th>bool</th><th>bool</th><th>float64</th><th>float32</th><th>float64</th><th>float32</th><th>bool</th><th>bool</th><th>bool</th><th>bool</th><th>bool</th><th>bool</th><th>bool</th><th>bool</th><th>bool</th><th>bool</th><th>float64</th><th>float64</th><th>float64</th><th>float64</th><th>float64</th><th>float64</th><th>bool</th><th>float64</th><th>float64</th><th>float64</th><th>float64</th><th>float64</th><th>float64</th><th>float64</th><th>float64</th><th>float64</th><th>float64</th><th>float64</th><th>float64</th><th>float64</th><th>float64</th><th>float64</th><th>float64</th><th>float64</th><th>float64</th><th>float64</th><th>float64</th><th>float64</th><th>float64</th><th>float64</th><th>float64</th><th>float64</th><th>float64</th><th>float64</th><th>float64</th><th>bool</th><th>float64</th><th>float64</th><th>float64</th><th>bool</th><th>float64</th><th>float64</th><th>float64</th><th>float64</th><th>float64</th><th>float64</th><th>float64</th><th>bool</th><th>float32</th><th>float64</th><th>float64</th><th>float64</th><th>float64</th><th>float64</th><th>float64</th><th>bool</th><th>float64</th><th>float64</th><th>bool</th><th>float64</th><th>float64</th><th>bool</th><th>float64</th><th>float64</th><th>bool</th><th>float64</th><th>float64</th><th>bool</th><th>float64</th><th>float64</th><th>bool</th><th>float64</th><th>float64</th><th>bool</th><th>float64</th><th>float64</th><th>bool</th><th>float64</th><th>float64</th><th>bool</th><th>float64</th><th>float64</th><th>float64</th><th>float64</th><th>float64</th><th>float64</th><th>float64</th><th>float64</th><th>float64</th><th>bool</th><th>float64</th><th>float64</th><th>float64</th><th>bool</th><th>int32</th><th>bool</th><th>bool</th><th>float32</th><th>bool</th><th>bool</th><th>bool</th><th>bool</th><th>bool</th><th>bool</th><th>bool</th><th>bool</th><th>bool</th><th>bool</th><th>bool</th><th>bool</th><th>bool</th><th>bool</th><th>bool</th><th>bool</th><th>bool</th><th>bool</th><th>bool</th><th>bool</th><th>bool</th><th>bool</th><th>bool</th><th>bool</th><th>bool</th><th>bool</th><th>bool</th><th>bool</th><th>bool</th><th>bool</th><th>bool</th><th>bool</th><th>bool</th><th>bool</th><th>bool</th><th>bool</th><th>bool</th><th>bool</th><th>bool</th><th>bool</th><th>bool</th><th>bool</th><th>bool</th><th>bool</th><th>bool</th><th>bool</th><th>bool</th><th>bool</th><th>float64</th><th>float32</th><th>float64</th><th>float32</th><th>bool</th><th>bool</th><th>bool</th><th>bool</th><th>bool</th><th>bool</th><th>bool</th><th>bool</th><th>bool</th><th>bool</th><th>float64</th><th>float64</th><th>float64</th><th>float64</th><th>float64</th><th>float64</th><th>bool</th><th>float64</th><th>float64</th><th>float64</th><th>float64</th><th>float64</th><th>float64</th><th>float64</th><th>float64</th><th>float64</th><th>float64</th><th>float64</th><th>float64</th><th>float64</th><th>float64</th><th>float64</th><th>float64</th><th>float64</th><th>float64</th><th>float64</th><th>float64</th><th>float64</th><th>float64</th><th>float64</th><th>float64</th><th>float64</th><th>float64</th><th>float64</th><th>float64</th><th>bool</th><th>float64</th><th>float64</th><th>float64</th><th>bool</th><th>float64</th><th>float64</th><th>float64</th><th>float64</th><th>float64</th><th>float64</th><th>float64</th><th>bool</th><th>float32</th><th>float64</th><th>float64</th><th>float64</th><th>float64</th><th>float64</th><th>float64</th><th>bool</th><th>float64</th><th>float64</th><th>bool</th><th>float64</th><th>float64</th><th>bool</th><th>float64</th><th>float64</th><th>bool</th><th>float64</th><th>float64</th><th>bool</th><th>float64</th><th>float64</th><th>bool</th><th>float64</th><th>float64</th><th>bool</th><th>float64</th><th>float64</th><th>bool</th><th>float64</th><th>float64</th><th>bool</th><th>float64</th><th>float64</th><th>float64</th><th>float64</th><th>float64</th><th>float64</th><th>float64</th><th>float64</th><th>float64</th><th>bool</th><th>float64</th><th>float64</th><th>float64</th><th>bool</th><th>int32</th><th>bool</th><th>bool</th><th>float32</th><th>bool</th><th>bool</th><th>bool</th><th>bool</th><th>bool</th><th>bool</th><th>bool</th><th>bool</th><th>bool</th><th>bool</th><th>bool</th><th>bool</th><th>bool</th><th>bool</th><th>bool</th><th>bool</th><th>bool</th><th>bool</th><th>bool</th><th>bool</th><th>bool</th><th>bool</th><th>bool</th><th>bool</th><th>bool</th><th>bool</th><th>bool</th><th>bool</th><th>bool</th><th>bool</th><th>bool</th><th>bool</th><th>bool</th><th>bool</th><th>bool</th><th>bool</th><th>bool</th><th>bool</th><th>bool</th><th>bool</th><th>bool</th><th>bool</th><th>bool</th><th>bool</th><th>bool</th><th>bool</th><th>bool</th><th>bool</th><th>float64</th><th>float32</th><th>float64</th><th>float32</th><th>bool</th><th>bool</th><th>bool</th><th>bool</th><th>bool</th><th>bool</th><th>bool</th><th>bool</th><th>bool</th><th>bool</th><th>float64</th><th>float64</th><th>float64</th><th>float64</th><th>float64</th><th>float64</th><th>bool</th><th>float64</th><th>float64</th><th>float64</th><th>float64</th><th>float64</th><th>float64</th><th>float64</th><th>float64</th><th>float64</th><th>float64</th><th>float64</th><th>float64</th><th>float64</th><th>float64</th><th>float64</th><th>float64</th><th>float64</th><th>float64</th><th>float64</th><th>float64</th><th>float64</th><th>float64</th><th>float64</th><th>float64</th><th>float64</th><th>float64</th><th>float64</th><th>float64</th><th>bool</th><th>float64</th><th>float64</th><th>float64</th><th>bool</th><th>float64</th><th>float64</th><th>float64</th><th>float64</th><th>float64</th><th>float64</th><th>float64</th><th>bool</th><th>float32</th><th>float64</th><th>float64</th><th>float64</th><th>float64</th><th>float64</th><th>float64</th><th>bool</th><th>float64</th><th>float64</th><th>bool</th><th>float64</th><th>float64</th><th>bool</th><th>float64</th><th>float64</th><th>bool</th><th>float64</th><th>float64</th><th>bool</th><th>float64</th><th>float64</th><th>bool</th><th>float64</th><th>float64</th><th>bool</th><th>float64</th><th>float64</th><th>bool</th><th>float64</th><th>float64</th><th>bool</th><th>float64</th><th>float64</th><th>float64</th><th>float64</th><th>float64</th><th>float64</th><th>float64</th><th>float64</th><th>float64</th><th>bool</th><th>float64</th><th>float64</th><th>float64</th><th>bool</th><th>int32</th><th>bool</th><th>bool</th><th>float32</th><th>bool</th><th>bool</th><th>bool</th><th>bool</th><th>bool</th><th>bool</th><th>bool</th><th>bool</th><th>bool</th><th>bool</th><th>bool</th><th>bool</th><th>bool</th><th>bool</th><th>bool</th><th>bool</th><th>bool</th><th>bool</th><th>bool</th><th>bool</th><th>bool</th><th>bool</th><th>bool</th><th>bool</th><th>bool</th><th>bool</th><th>bool</th><th>bool</th><th>bool</th><th>bool</th><th>bool</th><th>bool</th><th>bool</th><th>bool</th><th>bool</th><th>bool</th><th>bool</th><th>bool</th><th>bool</th><th>bool</th><th>bool</th><th>bool</th><th>bool</th><th>bool</th><th>bool</th><th>bool</th><th>bool</th><th>bool</th><th>float64</th><th>float32</th><th>float64</th><th>float32</th><th>bool</th><th>bool</th><th>bool</th><th>bool</th><th>bool</th><th>bool</th><th>bool</th><th>bool</th><th>bool</th><th>bool</th><th>float64</th><th>float64</th><th>float64</th><th>float64</th><th>float64</th><th>float64</th><th>bool</th><th>float64</th><th>float64</th><th>float64</th><th>float64</th><th>float64</th><th>float64</th><th>float64</th><th>float64</th><th>float64</th><th>float64</th><th>float64</th><th>float64</th><th>float64</th><th>float64</th><th>float64</th><th>float64</th><th>float64</th><th>float64</th><th>float64</th><th>float64</th><th>float64</th><th>float64</th><th>float64</th><th>float64</th><th>float64</th><th>float64</th><th>float64</th><th>float64</th><th>bool</th><th>float64</th><th>float64</th><th>float64</th><th>bool</th><th>float64</th><th>float64</th><th>float64</th><th>float64</th><th>float64</th><th>float64</th><th>float64</th><th>bool</th><th>float32</th><th>float64</th><th>float64</th><th>float64</th><th>float64</th><th>float64</th><th>float64</th><th>bool</th><th>float64</th><th>float64</th><th>bool</th><th>float64</th><th>float64</th><th>bool</th><th>float64</th><th>float64</th><th>bool</th><th>float64</th><th>float64</th><th>bool</th><th>float64</th><th>float64</th><th>bool</th><th>float64</th><th>float64</th><th>bool</th><th>float64</th><th>float64</th><th>bool</th><th>float64</th><th>float64</th><th>bool</th><th>float64</th><th>float64</th><th>float64</th><th>float64</th><th>float64</th><th>float64</th><th>float64</th><th>float64</th><th>float64</th><th>bool</th><th>float64</th><th>float64</th><th>float64</th><th>bool</th><th>int32</th><th>bool</th><th>bool</th><th>float32</th><th>bool</th><th>bool</th><th>bool</th><th>bool</th><th>bool</th><th>bool</th><th>bool</th><th>bool</th><th>bool</th><th>bool</th><th>bool</th><th>bool</th><th>bool</th><th>bool</th><th>bool</th><th>bool</th><th>bool</th><th>bool</th><th>bool</th><th>bool</th><th>bool</th><th>bool</th><th>bool</th><th>bool</th><th>bool</th><th>bool</th><th>bool</th><th>bool</th><th>bool</th><th>bool</th><th>bool</th><th>bool</th><th>bool</th><th>bool</th><th>bool</th><th>bool</th><th>bool</th><th>bool</th><th>bool</th><th>bool</th><th>bool</th><th>bool</th><th>bool</th><th>bool</th><th>bool</th><th>bool</th><th>bool</th><th>bool</th><th>float64</th><th>float32</th><th>float64</th><th>float32</th><th>bool</th><th>bool</th><th>bool</th><th>bool</th><th>bool</th><th>bool</th><th>bool</th><th>bool</th><th>bool</th><th>bool</th></tr></thead>\n",
       "<tr><td>3495809259583569921</td><td>0</td><td>True</td><td>7.394135735454211</td><td>True</td><td>1.1454315</td><td>False</td><td>False</td><td>5.156664734709732</td><td>0</td><td>150.52879533167837</td><td>--</td><td>True</td><td>64</td><td>False</td><td>False</td><td>523.6578455428463</td><td>True</td><td>11981.72051475918</td><td>False</td><td>False</td><td>0.5948945733796301</td><td>0.9499206</td><td>False</td><td>False</td><td>2.2982595342952727</td><td>1.415927051751716</td><td>--</td><td>hsc_rings_v1</td><td>9813</td><td>2</td><td>150.5287822897328</td><td>1.4159430171132956</td><td>-167.46875075474705</td><td>229.5652398071459</td><td>-207.12286466946864</td><td>231.49482318917217</td><td>True</td><td>--</td><td>--</td><td>2.797151040938021</td><td>2.797151040938021</td><td>--</td><td>-722.9460998184416</td><td>475.39805903382944</td><td>-726.9650345535354</td><td>400.1653693603765</td><td>-165.41894469925512</td><td>229.81517202462885</td><td>-245.63175915205417</td><td>234.2986874970723</td><td>-664.7749363107499</td><td>280.195163792624</td><td>-1190.5195931322587</td><td>362.8918331675145</td><td>-1641.8494922476275</td><td>503.5655968189213</td><td>-1798.6334876310855</td><td>797.599697371635</td><td>-1802.936824628624</td><td>949.2727531570112</td><td>-293.10960932895426</td><td>237.229306016374</td><td>--</td><td>--</td><td>--</td><td>True</td><td>2.6394248251523735</td><td>3.2541385935941842</td><td>0.19715840214671812</td><td>True</td><td>0.47670090556795996</td><td>1.922401231835873</td><td>0.22084752491406404</td><td>0.22084752491406404</td><td>--</td><td>--</td><td>--</td><td>True</td><td>--</td><td>--</td><td>--</td><td>-2344.5068164709955</td><td>676.5300800840762</td><td>60.15851603392076</td><td>165.92716498905597</td><td>False</td><td>-670.033156322568</td><td>335.24885026504944</td><td>False</td><td>-1499.2198715621914</td><td>508.03218562146685</td><td>False</td><td>-2326.8871732786124</td><td>673.6730646099751</td><td>False</td><td>-2759.61442682657</td><td>923.6357034044732</td><td>False</td><td>-1994.3097920606629</td><td>1273.9237623740705</td><td>False</td><td>1619.1995638611534</td><td>1709.703140463208</td><td>False</td><td>7120.843714443489</td><td>2347.35912088063</td><td>False</td><td>17759.0622857912</td><td>3194.7262370295894</td><td>False</td><td>--</td><td>--</td><td>0.6791113493929969</td><td>--</td><td>--</td><td>--</td><td>--</td><td>--</td><td>--</td><td>True</td><td>--</td><td>--</td><td>--</td><td>True</td><td>1</td><td>False</td><td>False</td><td>54.734898</td><td>False</td><td>False</td><td>False</td><td>False</td><td>True</td><td>False</td><td>False</td><td>False</td><td>False</td><td>False</td><td>False</td><td>False</td><td>False</td><td>False</td><td>False</td><td>False</td><td>True</td><td>False</td><td>False</td><td>False</td><td>False</td><td>False</td><td>False</td><td>True</td><td>False</td><td>False</td><td>False</td><td>False</td><td>False</td><td>False</td><td>True</td><td>False</td><td>False</td><td>False</td><td>True</td><td>False</td><td>False</td><td>False</td><td>False</td><td>False</td><td>False</td><td>True</td><td>False</td><td>False</td><td>True</td><td>False</td><td>False</td><td>True</td><td>11982.0</td><td>--</td><td>524.0</td><td>--</td><td>True</td><td>True</td><td>True</td><td>False</td><td>False</td><td>False</td><td>False</td><td>True</td><td>False</td><td>True</td><td>150.5287822897328</td><td>1.4159430171132956</td><td>27.947266972862227</td><td>49.87784716270931</td><td>54.85806979483199</td><td>50.47374326962013</td><td>True</td><td>4.512131984850786</td><td>-0.0001368124306324716</td><td>2.239055369339956</td><td>2.2508093803230764</td><td>2.8983217372912007</td><td>102.84389678615842</td><td>97.51824685193385</td><td>99.08551528654903</td><td>105.22363422834108</td><td>23.34321489492794</td><td>50.334234010912006</td><td>63.84988462821728</td><td>66.30057359255733</td><td>164.20450421565835</td><td>87.18171003267831</td><td>332.3815637054196</td><td>119.58006791909065</td><td>619.5595311749918</td><td>174.22436678180253</td><td>1003.2281817886636</td><td>282.2877999462188</td><td>1103.6535393591878</td><td>335.9487015482262</td><td>55.45404808752331</td><td>65.79777363874281</td><td>--</td><td>--</td><td>--</td><td>True</td><td>1.2205583935907378</td><td>1.278109395628141</td><td>-0.044755631183878916</td><td>True</td><td>--</td><td>--</td><td>--</td><td>--</td><td>--</td><td>--</td><td>--</td><td>True</td><td>6.255287</td><td>1168.7025735540756</td><td>339.67218517845066</td><td>530.1355447486281</td><td>240.79570795887054</td><td>28.262778351123277</td><td>58.18003240651908</td><td>False</td><td>145.8158718509459</td><td>119.24744166727109</td><td>False</td><td>558.635784626036</td><td>180.60445706141851</td><td>False</td><td>589.0984150902244</td><td>240.55660351560866</td><td>False</td><td>1328.7908969808186</td><td>344.45705572672074</td><td>False</td><td>3606.558902600148</td><td>490.12380822517343</td><td>False</td><td>8464.638005461005</td><td>655.5414524077079</td><td>False</td><td>20859.25733317705</td><td>894.8060760322406</td><td>False</td><td>43574.69059968924</td><td>1210.4845881638203</td><td>False</td><td>--</td><td>--</td><td>0.4421873019729679</td><td>--</td><td>--</td><td>--</td><td>108.67080141695237</td><td>103.0434295475733</td><td>86.90154048203284</td><td>False</td><td>--</td><td>--</td><td>--</td><td>True</td><td>1</td><td>False</td><td>False</td><td>21.102924</td><td>False</td><td>False</td><td>False</td><td>False</td><td>True</td><td>False</td><td>False</td><td>False</td><td>False</td><td>False</td><td>False</td><td>False</td><td>False</td><td>False</td><td>False</td><td>False</td><td>True</td><td>False</td><td>False</td><td>False</td><td>False</td><td>False</td><td>False</td><td>False</td><td>False</td><td>False</td><td>False</td><td>False</td><td>False</td><td>False</td><td>False</td><td>False</td><td>False</td><td>False</td><td>True</td><td>False</td><td>False</td><td>False</td><td>False</td><td>False</td><td>False</td><td>True</td><td>False</td><td>False</td><td>True</td><td>False</td><td>False</td><td>True</td><td>11982.0</td><td>--</td><td>524.0</td><td>--</td><td>True</td><td>False</td><td>True</td><td>False</td><td>False</td><td>False</td><td>False</td><td>False</td><td>False</td><td>False</td><td>150.5287822897328</td><td>1.4159430171132956</td><td>--</td><td>--</td><td>--</td><td>--</td><td>True</td><td>--</td><td>--</td><td>--</td><td>--</td><td>--</td><td>--</td><td>--</td><td>--</td><td>--</td><td>--</td><td>--</td><td>--</td><td>--</td><td>--</td><td>--</td><td>--</td><td>--</td><td>--</td><td>--</td><td>--</td><td>--</td><td>--</td><td>--</td><td>--</td><td>--</td><td>--</td><td>--</td><td>--</td><td>True</td><td>--</td><td>--</td><td>--</td><td>True</td><td>--</td><td>--</td><td>--</td><td>--</td><td>--</td><td>--</td><td>--</td><td>True</td><td>--</td><td>--</td><td>--</td><td>-27815.80563113893</td><td>100.02179396627993</td><td>-1823.6296679614838</td><td>24.678544026922374</td><td>False</td><td>-6945.760502853932</td><td>49.561283083755725</td><td>False</td><td>-15624.448156477356</td><td>74.75971944193113</td><td>False</td><td>-27781.24376161155</td><td>99.95786082962623</td><td>False</td><td>-55782.246759702604</td><td>142.79100541215425</td><td>False</td><td>-120694.84316564372</td><td>210.00453290962005</td><td>False</td><td>-235033.91258142397</td><td>294.1422646373225</td><td>False</td><td>-481102.8373980042</td><td>419.95559894029907</td><td>False</td><td>-935921.173216949</td><td>587.921797212826</td><td>False</td><td>--</td><td>--</td><td>--</td><td>--</td><td>--</td><td>--</td><td>--</td><td>--</td><td>--</td><td>True</td><td>--</td><td>--</td><td>--</td><td>True</td><td>0</td><td>False</td><td>False</td><td>--</td><td>True</td><td>True</td><td>False</td><td>False</td><td>True</td><td>True</td><td>True</td><td>False</td><td>False</td><td>False</td><td>False</td><td>False</td><td>False</td><td>False</td><td>False</td><td>False</td><td>True</td><td>False</td><td>False</td><td>False</td><td>False</td><td>False</td><td>True</td><td>False</td><td>False</td><td>True</td><td>True</td><td>False</td><td>False</td><td>False</td><td>False</td><td>False</td><td>False</td><td>False</td><td>True</td><td>False</td><td>False</td><td>False</td><td>False</td><td>False</td><td>False</td><td>True</td><td>False</td><td>False</td><td>True</td><td>False</td><td>False</td><td>True</td><td>11982.0</td><td>--</td><td>524.0</td><td>--</td><td>True</td><td>False</td><td>False</td><td>False</td><td>False</td><td>False</td><td>False</td><td>False</td><td>False</td><td>False</td><td>150.52879533167837</td><td>1.415927051751716</td><td>224.36343551713142</td><td>43.018463678832624</td><td>224.36343551713142</td><td>43.018463678832624</td><td>False</td><td>--</td><td>--</td><td>--</td><td>--</td><td>--</td><td>--</td><td>--</td><td>--</td><td>--</td><td>229.07880444204338</td><td>45.2357929214679</td><td>268.442872986668</td><td>49.069744139836395</td><td>364.43680942795396</td><td>61.15786694217302</td><td>535.8053285368077</td><td>80.91888117689726</td><td>794.0560973328294</td><td>113.89590158061019</td><td>1035.826454275122</td><td>179.30542728155245</td><td>1069.843048150985</td><td>208.90714243694885</td><td>260.8639212606191</td><td>48.90358755022685</td><td>7.394135735454211</td><td>5.156664734709732</td><td>2.2982595342952727</td><td>False</td><td>2.4235690953512847</td><td>2.098904072127666</td><td>-0.1245882591315318</td><td>False</td><td>7.39393713514162</td><td>5.907266416499804</td><td>1.685775030292588</td><td>1.685775030292588</td><td>--</td><td>--</td><td>--</td><td>True</td><td>8.912576</td><td>2162.153790094517</td><td>289.67216416237414</td><td>871.1376090173052</td><td>144.05164654867744</td><td>159.8953342173676</td><td>35.38791720792928</td><td>False</td><td>360.7761444098319</td><td>71.33201154607397</td><td>False</td><td>557.6686655983553</td><td>108.0404498561608</td><td>False</td><td>871.1376090173052</td><td>144.05164654867744</td><td>False</td><td>1428.132796664591</td><td>204.8748210113712</td><td>False</td><td>2067.6693247768767</td><td>297.37728570834065</td><td>False</td><td>2427.7646239606925</td><td>414.8097426624733</td><td>False</td><td>2156.241621639655</td><td>589.4421751911427</td><td>False</td><td>-15.295164510633949</td><td>823.0170180115522</td><td>False</td><td>--</td><td>0.0</td><td>0.5948945733796301</td><td>--</td><td>--</td><td>--</td><td>--</td><td>--</td><td>--</td><td>True</td><td>0.2217170000076294</td><td>0.5266419053077698</td><td>0.6520501971244812</td><td>False</td><td>1</td><td>False</td><td>False</td><td>41.23408</td><td>False</td><td>False</td><td>False</td><td>False</td><td>True</td><td>False</td><td>False</td><td>False</td><td>False</td><td>False</td><td>False</td><td>False</td><td>False</td><td>False</td><td>False</td><td>False</td><td>False</td><td>False</td><td>False</td><td>False</td><td>False</td><td>False</td><td>True</td><td>True</td><td>True</td><td>True</td><td>False</td><td>False</td><td>False</td><td>False</td><td>True</td><td>True</td><td>False</td><td>False</td><td>True</td><td>False</td><td>False</td><td>False</td><td>False</td><td>False</td><td>False</td><td>False</td><td>False</td><td>False</td><td>False</td><td>False</td><td>False</td><td>False</td><td>11981.72051475918</td><td>0.9499206</td><td>523.6578455428463</td><td>1.1454315</td><td>False</td><td>False</td><td>False</td><td>False</td><td>False</td><td>False</td><td>False</td><td>False</td><td>False</td><td>False</td><td>150.5287822897328</td><td>1.4159430171132956</td><td>--</td><td>--</td><td>--</td><td>--</td><td>True</td><td>--</td><td>--</td><td>--</td><td>--</td><td>--</td><td>--</td><td>--</td><td>--</td><td>--</td><td>--</td><td>--</td><td>--</td><td>--</td><td>--</td><td>--</td><td>--</td><td>--</td><td>--</td><td>--</td><td>--</td><td>--</td><td>--</td><td>--</td><td>--</td><td>--</td><td>--</td><td>--</td><td>--</td><td>True</td><td>--</td><td>--</td><td>--</td><td>True</td><td>--</td><td>--</td><td>--</td><td>--</td><td>--</td><td>--</td><td>--</td><td>True</td><td>--</td><td>--</td><td>--</td><td>-297.8610263411166</td><td>76.99619934288916</td><td>-19.38796549742719</td><td>18.982471979123684</td><td>False</td><td>-73.92090571338893</td><td>38.1220157389907</td><td>False</td><td>-166.22636109294942</td><td>57.504553436592</td><td>False</td><td>-298.1068259283028</td><td>76.92812975973308</td><td>False</td><td>-557.5469193395064</td><td>110.32444004556656</td><td>False</td><td>-1338.5241388454328</td><td>162.31985581326873</td><td>False</td><td>-2704.7112040612556</td><td>228.18384371636128</td><td>False</td><td>-5563.475614783215</td><td>326.1938480015815</td><td>False</td><td>-10011.85372024266</td><td>457.21521743991866</td><td>False</td><td>--</td><td>--</td><td>--</td><td>--</td><td>--</td><td>--</td><td>--</td><td>--</td><td>--</td><td>True</td><td>--</td><td>--</td><td>--</td><td>True</td><td>1</td><td>False</td><td>False</td><td>--</td><td>True</td><td>True</td><td>False</td><td>False</td><td>True</td><td>True</td><td>True</td><td>False</td><td>False</td><td>False</td><td>False</td><td>False</td><td>False</td><td>False</td><td>False</td><td>False</td><td>True</td><td>False</td><td>False</td><td>False</td><td>False</td><td>False</td><td>True</td><td>False</td><td>False</td><td>True</td><td>True</td><td>False</td><td>False</td><td>False</td><td>False</td><td>False</td><td>False</td><td>False</td><td>True</td><td>False</td><td>False</td><td>False</td><td>False</td><td>False</td><td>False</td><td>True</td><td>False</td><td>False</td><td>True</td><td>False</td><td>False</td><td>True</td><td>11982.0</td><td>--</td><td>524.0</td><td>--</td><td>True</td><td>False</td><td>False</td><td>False</td><td>False</td><td>False</td><td>False</td><td>False</td><td>False</td><td>False</td></tr>\n",
       "<tr><td>3495809259583569922</td><td>0</td><td>True</td><td>45.13638818310691</td><td>True</td><td>5.431943</td><td>False</td><td>False</td><td>24.214322721231035</td><td>0</td><td>150.5339534959564</td><td>--</td><td>False</td><td>344</td><td>False</td><td>False</td><td>528.6845127819175</td><td>False</td><td>11871.209253868143</td><td>False</td><td>False</td><td>0.5958081420995996</td><td>5.3743396</td><td>False</td><td>False</td><td>-13.293536907228805</td><td>1.4161609487910194</td><td>--</td><td>hsc_rings_v1</td><td>9813</td><td>2</td><td>150.53398601629144</td><td>1.4161467528095282</td><td>499.5573710204013</td><td>241.24071562919133</td><td>545.7221481860685</td><td>242.02497206424277</td><td>False</td><td>--</td><td>--</td><td>--</td><td>--</td><td>--</td><td>--</td><td>--</td><td>--</td><td>--</td><td>529.4818940154004</td><td>250.4394111136617</td><td>522.6435505928657</td><td>255.22837680814754</td><td>526.6404700742839</td><td>305.0921869271509</td><td>603.9616297851604</td><td>395.1221556701384</td><td>941.4782639670569</td><td>548.4103061133068</td><td>1651.4834564074974</td><td>867.9754553380407</td><td>1896.8689384490679</td><td>1032.466130620841</td><td>764.3692054595907</td><td>400.9752365611641</td><td>--</td><td>--</td><td>--</td><td>True</td><td>2.648089972563611</td><td>3.259819893405429</td><td>0.20140531988266464</td><td>False</td><td>--</td><td>--</td><td>--</td><td>--</td><td>3.2832691081923886</td><td>1.5063658295730789</td><td>-0.9804866284936752</td><td>False</td><td>10.909523</td><td>4162.187582079114</td><td>1509.313838522016</td><td>636.32628960125</td><td>682.7497590332456</td><td>442.0501702922711</td><td>173.24292680379125</td><td>False</td><td>562.8731521913389</td><td>340.7797800025691</td><td>False</td><td>439.1435997774849</td><td>512.8808966565741</td><td>False</td><td>705.5100654384166</td><td>684.2704347557124</td><td>False</td><td>1465.5155657355679</td><td>943.0206258803844</td><td>False</td><td>3154.5273128709473</td><td>1310.1702448342753</td><td>False</td><td>5256.651614835778</td><td>1745.639513618695</td><td>False</td><td>5889.569356653118</td><td>2389.703652791576</td><td>False</td><td>6015.385748953432</td><td>3239.3497916466913</td><td>False</td><td>--</td><td>--</td><td>0.6799374127187955</td><td>--</td><td>--</td><td>--</td><td>--</td><td>--</td><td>--</td><td>True</td><td>--</td><td>--</td><td>--</td><td>True</td><td>1</td><td>False</td><td>False</td><td>54.752716</td><td>False</td><td>False</td><td>False</td><td>False</td><td>True</td><td>False</td><td>False</td><td>False</td><td>False</td><td>False</td><td>False</td><td>False</td><td>False</td><td>False</td><td>False</td><td>False</td><td>True</td><td>False</td><td>False</td><td>False</td><td>False</td><td>False</td><td>False</td><td>True</td><td>False</td><td>False</td><td>False</td><td>False</td><td>False</td><td>False</td><td>True</td><td>False</td><td>False</td><td>False</td><td>True</td><td>False</td><td>False</td><td>False</td><td>False</td><td>False</td><td>False</td><td>False</td><td>False</td><td>False</td><td>False</td><td>False</td><td>False</td><td>False</td><td>11870.512455385508</td><td>0.6924735</td><td>528.3803337693435</td><td>1.001401</td><td>True</td><td>False</td><td>True</td><td>False</td><td>False</td><td>False</td><td>False</td><td>False</td><td>False</td><td>False</td><td>150.5339819076248</td><td>1.4161145517752347</td><td>-66.82211376694059</td><td>50.830084899908535</td><td>-50.09247456224888</td><td>50.321362058772934</td><td>False</td><td>--</td><td>--</td><td>2.1452051484394095</td><td>2.1452051484394095</td><td>--</td><td>-225.11990215822811</td><td>118.01661442967</td><td>-225.53813382351507</td><td>95.18948295125182</td><td>-87.1863494842656</td><td>51.86973563161803</td><td>-188.20843071409357</td><td>68.24147410815733</td><td>-207.08017982187275</td><td>89.75821024305797</td><td>-128.6249399140647</td><td>123.1562222944476</td><td>69.36089091278531</td><td>179.5035124628329</td><td>467.34748544327397</td><td>290.74813221013363</td><td>611.0906197051029</td><td>345.92511102711023</td><td>-159.96985136433645</td><td>124.62719658594722</td><td>--</td><td>--</td><td>--</td><td>True</td><td>1.2311521974477957</td><td>1.2741561170341977</td><td>-0.047171776401169645</td><td>False</td><td>--</td><td>--</td><td>--</td><td>--</td><td>--</td><td>--</td><td>--</td><td>True</td><td>--</td><td>--</td><td>--</td><td>336.1794478314056</td><td>241.2062245500619</td><td>-144.74054667545676</td><td>58.60415879847448</td><td>False</td><td>-345.481883849204</td><td>118.11796539942739</td><td>False</td><td>-141.27948653599336</td><td>179.5534017826548</td><td>False</td><td>227.8335251739223</td><td>241.5536037389184</td><td>False</td><td>190.33899224886284</td><td>345.75324907440313</td><td>False</td><td>2082.0984204527267</td><td>497.4008539958298</td><td>False</td><td>6337.1816184062745</td><td>666.4057524528354</td><td>False</td><td>15716.39242176324</td><td>907.6467292520072</td><td>False</td><td>35918.28341990162</td><td>1223.815375069196</td><td>False</td><td>--</td><td>--</td><td>0.44277449640040667</td><td>--</td><td>--</td><td>--</td><td>--</td><td>--</td><td>--</td><td>True</td><td>--</td><td>--</td><td>--</td><td>True</td><td>1</td><td>False</td><td>False</td><td>21.175161</td><td>False</td><td>False</td><td>False</td><td>False</td><td>True</td><td>False</td><td>False</td><td>False</td><td>False</td><td>False</td><td>False</td><td>False</td><td>False</td><td>False</td><td>False</td><td>False</td><td>True</td><td>False</td><td>False</td><td>False</td><td>False</td><td>False</td><td>False</td><td>False</td><td>False</td><td>False</td><td>False</td><td>False</td><td>False</td><td>False</td><td>False</td><td>False</td><td>False</td><td>False</td><td>True</td><td>False</td><td>False</td><td>False</td><td>False</td><td>False</td><td>False</td><td>False</td><td>False</td><td>False</td><td>False</td><td>False</td><td>False</td><td>False</td><td>11870.600348292306</td><td>3.0797288</td><td>527.6901524309388</td><td>0.64087147</td><td>True</td><td>True</td><td>True</td><td>False</td><td>False</td><td>False</td><td>False</td><td>True</td><td>False</td><td>True</td><td>150.534009931714</td><td>1.4161290047643356</td><td>--</td><td>--</td><td>--</td><td>--</td><td>True</td><td>--</td><td>--</td><td>--</td><td>--</td><td>--</td><td>--</td><td>--</td><td>--</td><td>--</td><td>--</td><td>--</td><td>--</td><td>--</td><td>--</td><td>--</td><td>--</td><td>--</td><td>--</td><td>--</td><td>--</td><td>--</td><td>--</td><td>--</td><td>--</td><td>--</td><td>--</td><td>--</td><td>--</td><td>True</td><td>--</td><td>--</td><td>--</td><td>True</td><td>--</td><td>--</td><td>--</td><td>--</td><td>--</td><td>--</td><td>--</td><td>True</td><td>--</td><td>--</td><td>--</td><td>-9924.293058692992</td><td>100.02179396627993</td><td>-656.4244531230987</td><td>24.666227294426484</td><td>False</td><td>-2516.250428902915</td><td>49.57551712437337</td><td>False</td><td>-5661.62004448554</td><td>74.77348701760322</td><td>False</td><td>-10067.837822480555</td><td>99.97146377061166</td><td>False</td><td>-20225.223443614912</td><td>142.79100541215425</td><td>False</td><td>-43227.000717163755</td><td>209.8975787224385</td><td>False</td><td>-83249.75830130707</td><td>293.9131521025156</td><td>False</td><td>-170101.02043661743</td><td>420.0625258927487</td><td>False</td><td>-344162.26120140514</td><td>587.9790855732264</td><td>False</td><td>--</td><td>--</td><td>--</td><td>--</td><td>--</td><td>--</td><td>--</td><td>--</td><td>--</td><td>True</td><td>--</td><td>--</td><td>--</td><td>True</td><td>0</td><td>False</td><td>False</td><td>--</td><td>True</td><td>True</td><td>False</td><td>False</td><td>True</td><td>True</td><td>True</td><td>False</td><td>False</td><td>False</td><td>False</td><td>False</td><td>False</td><td>False</td><td>False</td><td>False</td><td>True</td><td>False</td><td>False</td><td>False</td><td>False</td><td>False</td><td>True</td><td>False</td><td>False</td><td>True</td><td>True</td><td>False</td><td>False</td><td>False</td><td>False</td><td>False</td><td>False</td><td>False</td><td>True</td><td>False</td><td>False</td><td>False</td><td>False</td><td>False</td><td>False</td><td>True</td><td>False</td><td>False</td><td>True</td><td>False</td><td>False</td><td>True</td><td>11870.0</td><td>--</td><td>528.0</td><td>--</td><td>True</td><td>False</td><td>False</td><td>False</td><td>False</td><td>False</td><td>False</td><td>False</td><td>False</td><td>False</td><td>150.5339534959564</td><td>1.4161609487910194</td><td>338.876598113429</td><td>45.144821499877764</td><td>338.876598113429</td><td>45.144821499877764</td><td>False</td><td>--</td><td>--</td><td>--</td><td>--</td><td>--</td><td>--</td><td>--</td><td>--</td><td>--</td><td>370.37164181901437</td><td>46.37853783148691</td><td>494.2589095745659</td><td>50.27111276148879</td><td>787.0068463951154</td><td>62.644152625881944</td><td>1181.1992117550833</td><td>82.88259131375503</td><td>1622.7805608445083</td><td>116.64778101904422</td><td>2031.3989848990884</td><td>183.53646331141212</td><td>2093.499023624508</td><td>214.05168078726362</td><td>1233.7788319215983</td><td>83.6031296722694</td><td>45.13638818310691</td><td>24.214322721231035</td><td>-13.293536907228805</td><td>False</td><td>2.439568492411494</td><td>2.0968054992180303</td><td>-0.13071236911897818</td><td>False</td><td>39.808801149235016</td><td>28.176785939196385</td><td>-8.012808433178643</td><td>-8.012808433178643</td><td>5.298935819947974</td><td>3.154624024806994</td><td>-2.7532182499278304</td><td>False</td><td>33.010513</td><td>-4827.473842444068</td><td>1061.6186946669065</td><td>1979.810473219715</td><td>146.79783543954056</td><td>276.0019850889615</td><td>37.25807464139675</td><td>False</td><td>790.4203502060418</td><td>75.5545962884704</td><td>False</td><td>1456.1999498857851</td><td>112.19212506705625</td><td>False</td><td>1979.810473219715</td><td>146.79783543954056</td><td>False</td><td>2280.5481432932766</td><td>206.1010268644735</td><td>False</td><td>2316.705472690614</td><td>300.66566046930757</td><td>False</td><td>1750.0494810273553</td><td>417.29583215915505</td><td>False</td><td>485.6085050523765</td><td>593.4567736498625</td><td>False</td><td>-2912.698514395344</td><td>826.6585588512562</td><td>False</td><td>--</td><td>0.0</td><td>0.5958081420995996</td><td>--</td><td>--</td><td>--</td><td>--</td><td>--</td><td>--</td><td>True</td><td>0.31756290793418884</td><td>-0.4321295917034149</td><td>0.14771486818790436</td><td>False</td><td>1</td><td>False</td><td>False</td><td>41.252243</td><td>False</td><td>False</td><td>False</td><td>False</td><td>True</td><td>False</td><td>False</td><td>False</td><td>False</td><td>False</td><td>False</td><td>False</td><td>False</td><td>False</td><td>False</td><td>False</td><td>False</td><td>False</td><td>False</td><td>False</td><td>False</td><td>False</td><td>True</td><td>True</td><td>True</td><td>True</td><td>False</td><td>False</td><td>False</td><td>False</td><td>True</td><td>True</td><td>False</td><td>False</td><td>True</td><td>False</td><td>False</td><td>False</td><td>False</td><td>False</td><td>False</td><td>False</td><td>False</td><td>False</td><td>False</td><td>False</td><td>False</td><td>False</td><td>11871.209253868143</td><td>5.3743396</td><td>528.6845127819175</td><td>5.431943</td><td>False</td><td>False</td><td>False</td><td>False</td><td>False</td><td>False</td><td>False</td><td>False</td><td>False</td><td>False</td><td>150.534009931714</td><td>1.4161290047643356</td><td>--</td><td>--</td><td>--</td><td>--</td><td>True</td><td>--</td><td>--</td><td>--</td><td>--</td><td>--</td><td>--</td><td>--</td><td>--</td><td>--</td><td>--</td><td>--</td><td>--</td><td>--</td><td>--</td><td>--</td><td>--</td><td>--</td><td>--</td><td>--</td><td>--</td><td>--</td><td>--</td><td>--</td><td>--</td><td>--</td><td>--</td><td>--</td><td>--</td><td>True</td><td>--</td><td>--</td><td>--</td><td>True</td><td>--</td><td>--</td><td>--</td><td>--</td><td>--</td><td>--</td><td>--</td><td>True</td><td>--</td><td>--</td><td>--</td><td>-138.53443636837963</td><td>76.98404381519062</td><td>-9.088712755396857</td><td>18.973000339806667</td><td>False</td><td>-34.87250431210918</td><td>38.132974235321626</td><td>False</td><td>-80.02765898706564</td><td>57.51720972812913</td><td>False</td><td>-139.66240348492892</td><td>76.97082502180739</td><td>False</td><td>-372.03420332698795</td><td>110.34850541361251</td><td>False</td><td>-621.5295453568596</td><td>162.78690980569894</td><td>False</td><td>-1094.966773305465</td><td>228.08984354150084</td><td>False</td><td>-2013.440073220238</td><td>326.9954842803003</td><td>False</td><td>-3953.0294790419794</td><td>458.1648699709659</td><td>False</td><td>--</td><td>--</td><td>--</td><td>--</td><td>--</td><td>--</td><td>--</td><td>--</td><td>--</td><td>True</td><td>--</td><td>--</td><td>--</td><td>True</td><td>1</td><td>False</td><td>False</td><td>--</td><td>True</td><td>True</td><td>False</td><td>False</td><td>True</td><td>True</td><td>True</td><td>False</td><td>False</td><td>False</td><td>False</td><td>False</td><td>False</td><td>False</td><td>False</td><td>False</td><td>True</td><td>False</td><td>False</td><td>False</td><td>False</td><td>False</td><td>True</td><td>False</td><td>False</td><td>True</td><td>True</td><td>False</td><td>False</td><td>False</td><td>False</td><td>False</td><td>False</td><td>False</td><td>True</td><td>False</td><td>False</td><td>False</td><td>False</td><td>False</td><td>False</td><td>True</td><td>False</td><td>False</td><td>True</td><td>False</td><td>False</td><td>True</td><td>11870.0</td><td>--</td><td>528.0</td><td>--</td><td>True</td><td>False</td><td>False</td><td>False</td><td>False</td><td>False</td><td>False</td><td>False</td><td>False</td><td>False</td></tr>\n",
       "<tr><td>3495809259583569923</td><td>0</td><td>True</td><td>7.899114131409838</td><td>True</td><td>0.85449314</td><td>False</td><td>False</td><td>7.0129795716084855</td><td>0</td><td>150.5439768971626</td><td>1.0</td><td>True</td><td>319</td><td>False</td><td>False</td><td>532.3086736651431</td><td>True</td><td>11656.461142891541</td><td>False</td><td>False</td><td>0.44412576901384826</td><td>0.6784569</td><td>False</td><td>False</td><td>-0.6885404739329671</td><td>1.4163287819067232</td><td>--</td><td>hsc_rings_v1</td><td>9813</td><td>2</td><td>150.54395853572188</td><td>1.4163320763124534</td><td>3091.0295139445825</td><td>228.93659074910886</td><td>3106.114315954037</td><td>229.0190024073104</td><td>False</td><td>--</td><td>--</td><td>--</td><td>--</td><td>--</td><td>--</td><td>--</td><td>--</td><td>--</td><td>3301.891298109649</td><td>233.860677957251</td><td>3497.960337681198</td><td>238.17832500028564</td><td>4429.7206685070005</td><td>284.59601615508495</td><td>5250.190253675009</td><td>368.68885622395305</td><td>5963.379612815744</td><td>512.1437089629251</td><td>6921.163468421086</td><td>809.9948535352789</td><td>7227.424700437634</td><td>962.7133332901243</td><td>3420.1966985099853</td><td>238.41905976086963</td><td>11.531614940940758</td><td>10.124018048552395</td><td>1.6706984095598887</td><td>False</td><td>2.665057449053407</td><td>3.2707944567090212</td><td>0.20883274885936645</td><td>False</td><td>11.041403514933556</td><td>10.554944500423263</td><td>0.6639267340312763</td><td>0.6639267340312763</td><td>1.9813501335742063</td><td>2.769357916399143</td><td>0.7783717736525225</td><td>False</td><td>7.2276297</td><td>7040.222806216527</td><td>1043.9183881568974</td><td>6858.3228012549025</td><td>674.3001581314701</td><td>1989.831457327449</td><td>165.30016750446148</td><td>False</td><td>4506.269130747327</td><td>337.6561660925336</td><td>False</td><td>5703.359108299717</td><td>510.3888214045736</td><td>False</td><td>6893.976967050057</td><td>673.3004963140593</td><td>False</td><td>6602.263770658491</td><td>923.3703898299528</td><td>False</td><td>9630.20944825104</td><td>1274.5817297006943</td><td>False</td><td>10822.880386407018</td><td>1710.1142358966897</td><td>False</td><td>19945.813834775658</td><td>2348.600930352052</td><td>False</td><td>37112.49586503859</td><td>3199.5309815394603</td><td>False</td><td>--</td><td>0.0</td><td>0.6815434313804569</td><td>6178.471075174116</td><td>406.0808814340652</td><td>5587.720143414259</td><td>--</td><td>--</td><td>--</td><td>True</td><td>0.1286168247461319</td><td>0.22763779759407043</td><td>0.16154596209526062</td><td>False</td><td>1</td><td>False</td><td>False</td><td>54.63883</td><td>False</td><td>False</td><td>False</td><td>False</td><td>False</td><td>False</td><td>False</td><td>False</td><td>False</td><td>False</td><td>False</td><td>False</td><td>False</td><td>False</td><td>False</td><td>False</td><td>False</td><td>False</td><td>False</td><td>False</td><td>False</td><td>False</td><td>True</td><td>True</td><td>False</td><td>True</td><td>False</td><td>False</td><td>False</td><td>False</td><td>True</td><td>False</td><td>False</td><td>False</td><td>True</td><td>False</td><td>False</td><td>False</td><td>False</td><td>False</td><td>False</td><td>False</td><td>False</td><td>False</td><td>False</td><td>False</td><td>False</td><td>False</td><td>11656.85454662235</td><td>1.0093309</td><td>532.3792330591472</td><td>1.7705165</td><td>False</td><td>False</td><td>False</td><td>False</td><td>False</td><td>False</td><td>False</td><td>False</td><td>False</td><td>False</td><td>150.5439768971626</td><td>1.4163287819067232</td><td>1403.891374809925</td><td>50.35398223652174</td><td>1403.891374809925</td><td>50.35398223652174</td><td>False</td><td>8.628013026972127</td><td>-0.10172210860473645</td><td>7.178799356838209</td><td>2.9322551664646563</td><td>6.432063820663246</td><td>7636.874409527288</td><td>211.34918389822514</td><td>4577.63435113328</td><td>123.0923242123494</td><td>1583.018528711351</td><td>52.10227900272808</td><td>2577.7980933371036</td><td>68.36064306817919</td><td>3151.397623976949</td><td>89.97388341975117</td><td>3552.685258607124</td><td>123.55852610879829</td><td>3881.4929704690303</td><td>180.26797046362364</td><td>4174.131378991391</td><td>291.8436804441105</td><td>4236.179248464722</td><td>347.0489548467178</td><td>2613.569783283978</td><td>69.20670126286915</td><td>7.899114131409838</td><td>7.0129795716084855</td><td>-0.6885404739329671</td><td>False</td><td>1.253540505255459</td><td>1.2670826943649067</td><td>-0.052770694899179335</td><td>False</td><td>7.666752090123983</td><td>7.255997429412981</td><td>-0.34853826662032844</td><td>-0.34853826662032844</td><td>1.0364013071115137</td><td>1.0515470977915609</td><td>-0.015756224909781704</td><td>False</td><td>4.2625113</td><td>4110.55156411719</td><td>231.33023656320415</td><td>3954.2257580010632</td><td>242.1997125667229</td><td>1885.466236758763</td><td>58.53541009723593</td><td>False</td><td>3769.269004643494</td><td>119.4906345385851</td><td>False</td><td>3895.0437588915197</td><td>181.06653174864948</td><td>False</td><td>3954.2257580010632</td><td>242.1997125667229</td><td>False</td><td>4390.569576331367</td><td>347.788770389116</td><td>False</td><td>4894.891422121155</td><td>490.7567076593201</td><td>False</td><td>6439.905749512339</td><td>657.6103717034455</td><td>False</td><td>11756.529773516482</td><td>896.6031736930222</td><td>False</td><td>27378.761452256054</td><td>1216.591874368431</td><td>False</td><td>1.0</td><td>0.0</td><td>0.44412576901384826</td><td>4576.559732334544</td><td>123.06343224537261</td><td>4224.806158223563</td><td>4576.559732334544</td><td>123.06343224537261</td><td>4224.806158223563</td><td>False</td><td>0.07885844260454178</td><td>-0.12024809420108795</td><td>0.06653503328561783</td><td>False</td><td>1</td><td>False</td><td>False</td><td>21.262989</td><td>False</td><td>False</td><td>False</td><td>False</td><td>False</td><td>False</td><td>False</td><td>False</td><td>False</td><td>False</td><td>False</td><td>False</td><td>False</td><td>False</td><td>False</td><td>False</td><td>False</td><td>False</td><td>False</td><td>False</td><td>False</td><td>False</td><td>False</td><td>False</td><td>False</td><td>False</td><td>False</td><td>False</td><td>False</td><td>False</td><td>False</td><td>False</td><td>False</td><td>False</td><td>False</td><td>False</td><td>False</td><td>False</td><td>False</td><td>False</td><td>False</td><td>False</td><td>False</td><td>False</td><td>False</td><td>False</td><td>False</td><td>False</td><td>11656.461142891541</td><td>0.6784569</td><td>532.3086736651431</td><td>0.85449314</td><td>False</td><td>False</td><td>False</td><td>False</td><td>False</td><td>False</td><td>False</td><td>False</td><td>False</td><td>False</td><td>150.54395175251986</td><td>1.4163610400546258</td><td>--</td><td>--</td><td>--</td><td>--</td><td>True</td><td>--</td><td>--</td><td>--</td><td>--</td><td>--</td><td>--</td><td>--</td><td>--</td><td>--</td><td>--</td><td>--</td><td>--</td><td>--</td><td>--</td><td>--</td><td>--</td><td>--</td><td>--</td><td>--</td><td>--</td><td>--</td><td>--</td><td>--</td><td>--</td><td>--</td><td>--</td><td>--</td><td>--</td><td>True</td><td>--</td><td>--</td><td>--</td><td>True</td><td>--</td><td>--</td><td>--</td><td>--</td><td>--</td><td>--</td><td>--</td><td>True</td><td>--</td><td>--</td><td>--</td><td>21568.239761178054</td><td>100.02179396627993</td><td>1438.1441345302057</td><td>24.682208863645254</td><td>False</td><td>5446.741485609467</td><td>49.546493401070606</td><td>False</td><td>12225.12031717636</td><td>74.74542366330598</td><td>False</td><td>21655.42853513085</td><td>99.94368166723748</td><td>False</td><td>43191.94835760246</td><td>143.02669911657043</td><td>False</td><td>86783.90553181896</td><td>210.27168036899596</td><td>False</td><td>160002.90398179943</td><td>294.1804327117889</td><td>False</td><td>294721.5824762605</td><td>420.035796706511</td><td>False</td><td>439390.20403413294</td><td>588.0363683524137</td><td>False</td><td>--</td><td>--</td><td>--</td><td>--</td><td>--</td><td>--</td><td>--</td><td>--</td><td>--</td><td>True</td><td>--</td><td>--</td><td>--</td><td>True</td><td>0</td><td>False</td><td>False</td><td>--</td><td>True</td><td>True</td><td>False</td><td>False</td><td>True</td><td>True</td><td>True</td><td>False</td><td>False</td><td>False</td><td>False</td><td>False</td><td>False</td><td>False</td><td>False</td><td>False</td><td>True</td><td>False</td><td>False</td><td>False</td><td>False</td><td>False</td><td>True</td><td>False</td><td>False</td><td>True</td><td>True</td><td>False</td><td>False</td><td>False</td><td>False</td><td>False</td><td>False</td><td>False</td><td>True</td><td>False</td><td>False</td><td>False</td><td>False</td><td>False</td><td>False</td><td>True</td><td>False</td><td>False</td><td>True</td><td>False</td><td>False</td><td>True</td><td>11657.0</td><td>--</td><td>533.0</td><td>--</td><td>True</td><td>False</td><td>False</td><td>False</td><td>False</td><td>False</td><td>False</td><td>False</td><td>False</td><td>False</td><td>150.54396282753495</td><td>1.4163201544878008</td><td>1995.6013433866967</td><td>48.39359381839633</td><td>1996.0563189163647</td><td>48.40744873417887</td><td>False</td><td>--</td><td>--</td><td>--</td><td>--</td><td>--</td><td>--</td><td>--</td><td>--</td><td>--</td><td>2178.885693221286</td><td>51.13963762007325</td><td>2595.018357199556</td><td>55.355586486383984</td><td>3236.654905462341</td><td>68.95948443081392</td><td>3666.660396155657</td><td>91.22036627689329</td><td>3836.445526289348</td><td>128.30875771166927</td><td>3829.970890019589</td><td>201.53699376309348</td><td>3772.6943638866856</td><td>235.41574878720334</td><td>2581.2194287108287</td><td>54.94922612013108</td><td>8.853405068329904</td><td>10.906766645362541</td><td>-2.5616453163475374</td><td>False</td><td>2.4726666205407475</td><td>2.0904333180531838</td><td>-0.14481089115586385</td><td>False</td><td>8.98273148573727</td><td>10.168749697752574</td><td>-1.2376023055960463</td><td>-1.2376023055960463</td><td>2.1931890490967363</td><td>2.0031024253044705</td><td>-0.0311512247453848</td><td>False</td><td>3.2501059</td><td>4436.946355821487</td><td>109.30829507825213</td><td>4104.536787897509</td><td>145.3349739312066</td><td>1611.163117001465</td><td>39.05743915959963</td><td>False</td><td>3467.8637227679214</td><td>75.2508590111365</td><td>False</td><td>4094.4826573395276</td><td>110.67179233352007</td><td>False</td><td>4099.129306735872</td><td>145.45419688346428</td><td>False</td><td>4009.4535908494477</td><td>205.3041187472715</td><td>False</td><td>3945.679373400629</td><td>299.13994791162</td><td>False</td><td>2796.4600533801663</td><td>415.7300124330382</td><td>False</td><td>198.2561301812948</td><td>591.3917767476934</td><td>False</td><td>-6300.288447678384</td><td>826.8457468335139</td><td>False</td><td>--</td><td>0.0</td><td>0.5975606599011322</td><td>--</td><td>--</td><td>--</td><td>--</td><td>--</td><td>--</td><td>True</td><td>-0.15971936285495758</td><td>-0.32974857091903687</td><td>0.04723573848605156</td><td>False</td><td>1</td><td>False</td><td>False</td><td>41.23257</td><td>False</td><td>False</td><td>False</td><td>False</td><td>True</td><td>False</td><td>False</td><td>False</td><td>False</td><td>False</td><td>False</td><td>False</td><td>False</td><td>False</td><td>False</td><td>False</td><td>False</td><td>False</td><td>False</td><td>False</td><td>False</td><td>False</td><td>True</td><td>True</td><td>True</td><td>True</td><td>True</td><td>False</td><td>False</td><td>False</td><td>True</td><td>True</td><td>False</td><td>False</td><td>True</td><td>False</td><td>False</td><td>False</td><td>False</td><td>False</td><td>False</td><td>False</td><td>False</td><td>False</td><td>False</td><td>False</td><td>False</td><td>False</td><td>11656.762544138764</td><td>0.38458017</td><td>532.1237220204094</td><td>0.9197704</td><td>False</td><td>False</td><td>False</td><td>False</td><td>False</td><td>False</td><td>False</td><td>False</td><td>False</td><td>False</td><td>150.54395175251986</td><td>1.4163610400546258</td><td>--</td><td>--</td><td>--</td><td>--</td><td>True</td><td>--</td><td>--</td><td>--</td><td>--</td><td>--</td><td>--</td><td>--</td><td>--</td><td>--</td><td>--</td><td>--</td><td>--</td><td>--</td><td>--</td><td>--</td><td>--</td><td>--</td><td>--</td><td>--</td><td>--</td><td>--</td><td>--</td><td>--</td><td>--</td><td>--</td><td>--</td><td>--</td><td>--</td><td>True</td><td>--</td><td>--</td><td>--</td><td>True</td><td>--</td><td>--</td><td>--</td><td>--</td><td>--</td><td>--</td><td>--</td><td>True</td><td>--</td><td>--</td><td>--</td><td>-49.28746473083331</td><td>76.97346603657259</td><td>-3.5407306800909173</td><td>18.98528791824346</td><td>False</td><td>-13.389619877555692</td><td>38.11062850649658</td><td>False</td><td>-30.092555697797632</td><td>57.493382287124135</td><td>False</td><td>-52.24703389516745</td><td>76.88618907330597</td><td>False</td><td>-52.9248469148154</td><td>110.40765676387223</td><td>False</td><td>-5.6191815429867775</td><td>162.838617512592</td><td>False</td><td>-189.15362367387337</td><td>228.4437785463492</td><td>False</td><td>104.45809589173308</td><td>327.1622438678433</td><td>False</td><td>-887.9454292648444</td><td>458.7058828716606</td><td>False</td><td>--</td><td>--</td><td>--</td><td>--</td><td>--</td><td>--</td><td>--</td><td>--</td><td>--</td><td>True</td><td>--</td><td>--</td><td>--</td><td>True</td><td>0</td><td>False</td><td>False</td><td>--</td><td>True</td><td>True</td><td>False</td><td>False</td><td>True</td><td>True</td><td>True</td><td>False</td><td>False</td><td>False</td><td>False</td><td>False</td><td>False</td><td>False</td><td>False</td><td>False</td><td>True</td><td>False</td><td>False</td><td>False</td><td>False</td><td>False</td><td>True</td><td>False</td><td>False</td><td>True</td><td>True</td><td>False</td><td>False</td><td>False</td><td>False</td><td>False</td><td>False</td><td>False</td><td>True</td><td>False</td><td>False</td><td>False</td><td>False</td><td>False</td><td>False</td><td>True</td><td>False</td><td>False</td><td>True</td><td>False</td><td>False</td><td>True</td><td>11657.0</td><td>--</td><td>533.0</td><td>--</td><td>True</td><td>False</td><td>False</td><td>False</td><td>False</td><td>False</td><td>False</td><td>False</td><td>False</td><td>False</td></tr>\n",
       "<tr><td>3495809259583569924</td><td>0</td><td>True</td><td>2.2390379909864166</td><td>True</td><td>0.40832847</td><td>False</td><td>False</td><td>5.790476733988894</td><td>0</td><td>150.5361580424485</td><td>1.0</td><td>True</td><td>132</td><td>False</td><td>False</td><td>533.962704508648</td><td>True</td><td>11823.978468339887</td><td>False</td><td>False</td><td>0.5961065246725772</td><td>0.27735788</td><td>False</td><td>False</td><td>-0.27138083448332795</td><td>1.4164069384975702</td><td>--</td><td>hsc_rings_v1</td><td>9813</td><td>2</td><td>150.53615703779863</td><td>1.4164086787046322</td><td>704.0120347379501</td><td>234.00586365807482</td><td>703.4010781973504</td><td>233.93484153948506</td><td>True</td><td>3.660312393136487</td><td>0.00043425637000779404</td><td>2.0482672433611318</td><td>2.03984311514076</td><td>32.473280814090074</td><td>1335.490323121623</td><td>350.8309993623329</td><td>1340.6899911358769</td><td>336.12159536135795</td><td>891.3442895665257</td><td>243.5501058348579</td><td>960.506978511852</td><td>248.16511060007696</td><td>1130.8522740945052</td><td>296.56652002496844</td><td>1047.9619822979462</td><td>384.0554524684539</td><td>733.719312505041</td><td>533.1006592706115</td><td>252.17650774124107</td><td>843.4296823655105</td><td>115.10438788748282</td><td>1003.0049321451357</td><td>703.0740933464295</td><td>246.15891696207493</td><td>5.549509724359369</td><td>12.801089137077208</td><td>4.227207883275642</td><td>True</td><td>2.651510038441178</td><td>3.26177111589144</td><td>0.20333695853385042</td><td>True</td><td>7.541016717691886</td><td>11.759784203117137</td><td>2.5171209988079286</td><td>2.5171209988079286</td><td>--</td><td>--</td><td>--</td><td>True</td><td>2.6954296</td><td>1257.936820822724</td><td>404.3092777291907</td><td>579.0639858164129</td><td>689.4789274594046</td><td>574.3506044937417</td><td>166.86550038568524</td><td>False</td><td>1366.682143899012</td><td>334.16379792349005</td><td>False</td><td>1010.1341200729157</td><td>508.4340588916086</td><td>False</td><td>582.5278996237785</td><td>689.4854579686423</td><td>False</td><td>631.053044446096</td><td>972.6817837956004</td><td>False</td><td>-657.641185560505</td><td>1362.8545124381744</td><td>False</td><td>-2079.219426623101</td><td>1816.9163779609346</td><td>False</td><td>-5181.9993373864345</td><td>2462.4193981501526</td><td>False</td><td>-5353.507032532739</td><td>3318.412541703139</td><td>False</td><td>--</td><td>0.0</td><td>0.6802464314978387</td><td>1166.5524554979536</td><td>307.772197143609</td><td>901.048329133574</td><td>1352.2372757666835</td><td>339.01658105681133</td><td>1251.5005240862163</td><td>False</td><td>-0.5879234671592712</td><td>0.7894584536552429</td><td>0.6172677874565125</td><td>False</td><td>1</td><td>False</td><td>False</td><td>54.710705</td><td>False</td><td>False</td><td>False</td><td>False</td><td>False</td><td>False</td><td>False</td><td>False</td><td>False</td><td>False</td><td>False</td><td>False</td><td>False</td><td>False</td><td>False</td><td>False</td><td>True</td><td>False</td><td>False</td><td>False</td><td>False</td><td>False</td><td>False</td><td>False</td><td>False</td><td>False</td><td>False</td><td>False</td><td>False</td><td>False</td><td>False</td><td>False</td><td>False</td><td>False</td><td>True</td><td>False</td><td>False</td><td>False</td><td>False</td><td>False</td><td>False</td><td>True</td><td>False</td><td>False</td><td>True</td><td>False</td><td>False</td><td>True</td><td>11824.0</td><td>--</td><td>534.0</td><td>--</td><td>True</td><td>False</td><td>True</td><td>False</td><td>False</td><td>False</td><td>False</td><td>False</td><td>False</td><td>False</td><td>150.53619307428957</td><td>1.4163915228934867</td><td>335.0537993911135</td><td>51.64901878906262</td><td>332.86087964472733</td><td>51.08866316264252</td><td>False</td><td>3.1977701023203773</td><td>-0.4291668360573038</td><td>2.0612370604590473</td><td>1.3623738102850391</td><td>1.3951121077052626</td><td>717.3524626156162</td><td>100.35160032006894</td><td>597.6395038400228</td><td>78.61155195699662</td><td>358.7773055956055</td><td>51.96290324330768</td><td>418.5100557878649</td><td>68.34221559997992</td><td>434.47877482034846</td><td>89.89990692412108</td><td>484.6704993508094</td><td>123.36794425368883</td><td>646.0242983160161</td><td>179.84066461562983</td><td>911.7383489884611</td><td>291.26825554597383</td><td>987.1433140494579</td><td>346.5139138848184</td><td>396.0561266052419</td><td>60.962634571051765</td><td>4.723374511260193</td><td>1.9098649199195892</td><td>-1.6484484923638465</td><td>False</td><td>1.2344753992328934</td><td>1.2725004525075323</td><td>-0.047727944379989395</td><td>False</td><td>4.353174195122521</td><td>2.3268119377822876</td><td>-1.5818338559702667</td><td>-1.5818338559702667</td><td>--</td><td>--</td><td>--</td><td>True</td><td>2.0202143</td><td>432.5274859171994</td><td>105.19481461590098</td><td>661.2807373537923</td><td>241.77558617476748</td><td>389.8723618529557</td><td>58.55285451424348</td><td>False</td><td>436.83286963284235</td><td>117.38630141278766</td><td>False</td><td>427.2928657621909</td><td>178.68323886586074</td><td>False</td><td>609.9869897427367</td><td>242.0564255110982</td><td>False</td><td>1054.6570316093312</td><td>344.32767207986257</td><td>False</td><td>1384.0506070529336</td><td>503.05049687165524</td><td>False</td><td>3459.341393810015</td><td>682.9833307259527</td><td>False</td><td>11658.964972300026</td><td>926.1007040729756</td><td>False</td><td>29979.15281767916</td><td>1245.6566757257856</td><td>False</td><td>1.0</td><td>0.0</td><td>0.44292182759830084</td><td>488.7509783693498</td><td>70.93392217435313</td><td>443.714047488458</td><td>598.479310522383</td><td>78.72203369854583</td><td>530.8437956798575</td><td>False</td><td>0.549253523349762</td><td>-0.633811354637146</td><td>0.536596417427063</td><td>False</td><td>1</td><td>False</td><td>False</td><td>21.24514</td><td>False</td><td>False</td><td>False</td><td>False</td><td>False</td><td>False</td><td>False</td><td>False</td><td>False</td><td>False</td><td>False</td><td>False</td><td>False</td><td>False</td><td>False</td><td>False</td><td>False</td><td>False</td><td>False</td><td>False</td><td>False</td><td>False</td><td>False</td><td>False</td><td>False</td><td>False</td><td>False</td><td>False</td><td>False</td><td>False</td><td>False</td><td>False</td><td>False</td><td>False</td><td>False</td><td>False</td><td>False</td><td>False</td><td>False</td><td>False</td><td>False</td><td>False</td><td>False</td><td>False</td><td>False</td><td>False</td><td>False</td><td>False</td><td>11823.227855782361</td><td>6.4968667</td><td>533.6323924553406</td><td>1.9943848</td><td>False</td><td>False</td><td>False</td><td>False</td><td>False</td><td>False</td><td>False</td><td>False</td><td>False</td><td>False</td><td>150.53615703779863</td><td>1.4164086787046322</td><td>--</td><td>--</td><td>--</td><td>--</td><td>True</td><td>--</td><td>--</td><td>--</td><td>--</td><td>--</td><td>--</td><td>--</td><td>--</td><td>--</td><td>--</td><td>--</td><td>--</td><td>--</td><td>--</td><td>--</td><td>--</td><td>--</td><td>--</td><td>--</td><td>--</td><td>--</td><td>--</td><td>--</td><td>--</td><td>--</td><td>--</td><td>--</td><td>--</td><td>True</td><td>--</td><td>--</td><td>--</td><td>True</td><td>--</td><td>--</td><td>--</td><td>--</td><td>--</td><td>--</td><td>--</td><td>True</td><td>--</td><td>--</td><td>--</td><td>-4387.160544718698</td><td>100.02179396627993</td><td>-275.8884694725082</td><td>24.485223461054336</td><td>False</td><td>-1096.432988666076</td><td>49.62732560233228</td><td>False</td><td>-2466.726998077534</td><td>74.82342620589066</td><td>False</td><td>-4384.914049540968</td><td>100.02107368952578</td><td>False</td><td>-8685.434534426693</td><td>142.00253441888577</td><td>False</td><td>-19542.183568252236</td><td>209.52280912082904</td><td>False</td><td>-39488.52793262491</td><td>293.9513499260705</td><td>False</td><td>-78178.86678665975</td><td>419.58114001702637</td><td>False</td><td>-148324.08698222312</td><td>587.692587926449</td><td>False</td><td>--</td><td>--</td><td>--</td><td>--</td><td>--</td><td>--</td><td>--</td><td>--</td><td>--</td><td>True</td><td>--</td><td>--</td><td>--</td><td>True</td><td>0</td><td>False</td><td>False</td><td>--</td><td>True</td><td>True</td><td>False</td><td>False</td><td>True</td><td>True</td><td>True</td><td>False</td><td>False</td><td>False</td><td>False</td><td>False</td><td>False</td><td>False</td><td>False</td><td>False</td><td>True</td><td>False</td><td>False</td><td>False</td><td>False</td><td>False</td><td>True</td><td>False</td><td>False</td><td>True</td><td>True</td><td>False</td><td>False</td><td>False</td><td>False</td><td>False</td><td>False</td><td>False</td><td>True</td><td>False</td><td>False</td><td>False</td><td>False</td><td>False</td><td>False</td><td>True</td><td>False</td><td>False</td><td>True</td><td>False</td><td>False</td><td>True</td><td>11824.0</td><td>--</td><td>534.0</td><td>--</td><td>True</td><td>False</td><td>False</td><td>False</td><td>False</td><td>False</td><td>False</td><td>False</td><td>False</td><td>False</td><td>150.5361580424485</td><td>1.4164069384975702</td><td>392.95340727026223</td><td>44.02500184089033</td><td>392.95340727026223</td><td>44.02500184089033</td><td>False</td><td>0.768826239653678</td><td>-0.00030052649481242933</td><td>1.1271849018064777</td><td>1.1439587849053918</td><td>0.5906199826503339</td><td>530.0180300470155</td><td>59.09325945009604</td><td>481.19765950573225</td><td>53.85041066274197</td><td>403.32714113815643</td><td>45.74561458347418</td><td>427.60178255799775</td><td>49.57216839656752</td><td>483.0535895922998</td><td>61.77009709683833</td><td>566.9883276220193</td><td>81.72978851722601</td><td>650.2705608562669</td><td>115.03564404148598</td><td>660.8656726239981</td><td>180.9948453054662</td><td>641.8280510259228</td><td>211.21641829290616</td><td>421.9661741674622</td><td>47.153201218740115</td><td>2.2390379909864166</td><td>5.790476733988894</td><td>-0.27138083448332795</td><td>False</td><td>2.44473542936592</td><td>2.0961833604468363</td><td>-0.13278173087418008</td><td>False</td><td>2.8191453383200904</td><td>4.341847442555687</td><td>-0.025936918200570525</td><td>-0.025936918200570525</td><td>1.9149358129455207</td><td>4.556973372838123</td><td>0.4661155419107159</td><td>False</td><td>3.541293</td><td>654.8394049863776</td><td>119.34241803270093</td><td>710.7327716033908</td><td>148.63835519951962</td><td>279.45785923579507</td><td>35.946752502356425</td><td>False</td><td>494.46584841469854</td><td>74.21673366598448</td><td>False</td><td>672.9417024535942</td><td>112.04693099297772</td><td>False</td><td>710.7327716033908</td><td>148.63835519951962</td><td>False</td><td>872.6178720824283</td><td>208.87287836772288</td><td>False</td><td>596.0419282787465</td><td>303.6522281279857</td><td>False</td><td>113.01652677588103</td><td>421.40710343075665</td><td>False</td><td>-1698.900379967502</td><td>596.0058893453153</td><td>False</td><td>-5862.616714818069</td><td>830.06295176213</td><td>False</td><td>1.0</td><td>0.0</td><td>0.5961065246725772</td><td>533.1599959984206</td><td>59.443562593480856</td><td>428.9191982597788</td><td>533.1599959984206</td><td>59.443562593480856</td><td>428.9191982597788</td><td>False</td><td>-2.4912047386169434</td><td>-0.09512213617563248</td><td>0.4537866413593292</td><td>False</td><td>1</td><td>False</td><td>False</td><td>41.30585</td><td>False</td><td>False</td><td>False</td><td>False</td><td>False</td><td>False</td><td>False</td><td>False</td><td>False</td><td>False</td><td>False</td><td>False</td><td>False</td><td>False</td><td>False</td><td>False</td><td>False</td><td>False</td><td>False</td><td>False</td><td>False</td><td>False</td><td>False</td><td>True</td><td>False</td><td>False</td><td>False</td><td>False</td><td>False</td><td>False</td><td>True</td><td>False</td><td>False</td><td>False</td><td>False</td><td>False</td><td>False</td><td>False</td><td>False</td><td>False</td><td>False</td><td>False</td><td>False</td><td>False</td><td>False</td><td>False</td><td>False</td><td>False</td><td>11823.978468339887</td><td>0.27735788</td><td>533.962704508648</td><td>0.40832847</td><td>False</td><td>False</td><td>False</td><td>False</td><td>False</td><td>False</td><td>False</td><td>False</td><td>False</td><td>False</td><td>150.53615703779863</td><td>1.4164086787046322</td><td>--</td><td>--</td><td>--</td><td>--</td><td>True</td><td>--</td><td>--</td><td>--</td><td>--</td><td>--</td><td>--</td><td>--</td><td>--</td><td>--</td><td>--</td><td>--</td><td>--</td><td>--</td><td>--</td><td>--</td><td>--</td><td>--</td><td>--</td><td>--</td><td>--</td><td>--</td><td>--</td><td>--</td><td>--</td><td>--</td><td>--</td><td>--</td><td>--</td><td>True</td><td>--</td><td>--</td><td>--</td><td>True</td><td>--</td><td>--</td><td>--</td><td>--</td><td>--</td><td>--</td><td>--</td><td>True</td><td>--</td><td>--</td><td>--</td><td>-11.675917702228887</td><td>77.1180084316831</td><td>-2.4350758509459425</td><td>18.83377427311962</td><td>False</td><td>-11.244910952326748</td><td>38.17508984610331</td><td>False</td><td>-24.667796468783727</td><td>57.601855966298466</td><td>False</td><td>-10.749293662633095</td><td>77.11359759403628</td><td>False</td><td>-23.338793870031516</td><td>110.26832465178605</td><td>False</td><td>-151.54395387325846</td><td>163.15066816795897</td><td>False</td><td>-448.57079330937046</td><td>228.91007779269597</td><td>False</td><td>-1087.0927575122973</td><td>327.2284759042164</td><td>False</td><td>-1734.686692437332</td><td>458.54893557483325</td><td>False</td><td>--</td><td>--</td><td>--</td><td>--</td><td>--</td><td>--</td><td>--</td><td>--</td><td>--</td><td>True</td><td>--</td><td>--</td><td>--</td><td>True</td><td>1</td><td>False</td><td>False</td><td>--</td><td>True</td><td>True</td><td>False</td><td>False</td><td>True</td><td>True</td><td>True</td><td>False</td><td>False</td><td>False</td><td>False</td><td>False</td><td>False</td><td>False</td><td>False</td><td>False</td><td>True</td><td>False</td><td>False</td><td>False</td><td>False</td><td>False</td><td>True</td><td>False</td><td>False</td><td>True</td><td>True</td><td>False</td><td>False</td><td>False</td><td>False</td><td>False</td><td>False</td><td>False</td><td>True</td><td>False</td><td>False</td><td>False</td><td>False</td><td>False</td><td>False</td><td>True</td><td>False</td><td>False</td><td>True</td><td>False</td><td>False</td><td>True</td><td>11824.0</td><td>--</td><td>534.0</td><td>--</td><td>True</td><td>False</td><td>False</td><td>False</td><td>False</td><td>False</td><td>False</td><td>False</td><td>False</td><td>False</td></tr>\n",
       "<tr><td>3495809259583569925</td><td>0</td><td>True</td><td>4.5300542978019465</td><td>True</td><td>2.5289817</td><td>False</td><td>False</td><td>6.299261557257041</td><td>0</td><td>150.53282303738885</td><td>--</td><td>True</td><td>64</td><td>False</td><td>False</td><td>529.6574762610583</td><td>True</td><td>11895.429207837431</td><td>False</td><td>False</td><td>0.5955658089597248</td><td>2.3770967</td><td>False</td><td>False</td><td>-2.3265122315434312</td><td>1.4162064831526557</td><td>--</td><td>hsc_rings_v1</td><td>9813</td><td>2</td><td>150.53279640776762</td><td>1.4162691240783254</td><td>-96.4681193286347</td><td>235.36389827372577</td><td>-145.4097071937006</td><td>236.36377786629077</td><td>True</td><td>--</td><td>--</td><td>2.5155608055324152</td><td>2.5155608055324152</td><td>--</td><td>-400.13358460696213</td><td>399.9477775141822</td><td>-402.25734081228813</td><td>370.3017521479672</td><td>-115.80223838172996</td><td>240.92001094517678</td><td>-133.4019663837893</td><td>245.54439357771275</td><td>-258.2954167155137</td><td>293.5198863271109</td><td>-273.5994138784392</td><td>380.1170744103293</td><td>39.10522848893831</td><td>527.542013799172</td><td>481.4984113477063</td><td>835.0117134944612</td><td>588.2150864480637</td><td>993.3392470445993</td><td>-107.30033278935288</td><td>252.0644911683897</td><td>--</td><td>--</td><td>--</td><td>True</td><td>2.645843046369431</td><td>3.258207041635496</td><td>0.20062228781224054</td><td>True</td><td>7.94303888669721</td><td>7.789634998011605</td><td>-1.2832224188781096</td><td>-1.2832224188781096</td><td>--</td><td>--</td><td>--</td><td>True</td><td>--</td><td>--</td><td>--</td><td>-180.43717450021285</td><td>687.2692006950292</td><td>-123.0645654753124</td><td>169.42952099575703</td><td>False</td><td>-111.93257848353382</td><td>339.0757835565044</td><td>False</td><td>-668.968793073299</td><td>512.0856013635397</td><td>False</td><td>-261.45804711279504</td><td>685.7303602788008</td><td>False</td><td>1246.3487298759674</td><td>959.6936387740304</td><td>False</td><td>3006.3274779823955</td><td>1334.8908757060324</td><td>False</td><td>4462.750972163076</td><td>1776.1755258720634</td><td>False</td><td>8620.110894482268</td><td>2419.90954416032</td><td>False</td><td>13086.451103811445</td><td>3273.5200991064376</td><td>False</td><td>--</td><td>--</td><td>0.6797152667916266</td><td>--</td><td>--</td><td>--</td><td>--</td><td>--</td><td>--</td><td>True</td><td>--</td><td>--</td><td>--</td><td>True</td><td>1</td><td>False</td><td>False</td><td>54.783447</td><td>False</td><td>False</td><td>False</td><td>False</td><td>True</td><td>False</td><td>False</td><td>False</td><td>False</td><td>False</td><td>False</td><td>False</td><td>False</td><td>False</td><td>False</td><td>False</td><td>True</td><td>False</td><td>False</td><td>False</td><td>False</td><td>False</td><td>False</td><td>False</td><td>False</td><td>False</td><td>False</td><td>False</td><td>False</td><td>False</td><td>False</td><td>False</td><td>False</td><td>False</td><td>True</td><td>False</td><td>False</td><td>False</td><td>False</td><td>False</td><td>False</td><td>True</td><td>False</td><td>False</td><td>True</td><td>False</td><td>False</td><td>True</td><td>11896.0</td><td>--</td><td>531.0</td><td>--</td><td>True</td><td>True</td><td>True</td><td>False</td><td>False</td><td>False</td><td>False</td><td>True</td><td>False</td><td>True</td><td>150.53279640776762</td><td>1.4162691240783254</td><td>-25.17565173733722</td><td>49.19868399883699</td><td>16.85815701063883</td><td>50.2825132267924</td><td>True</td><td>4.314961360861468</td><td>8.085387283328157e-05</td><td>2.1944076439152425</td><td>2.2017286637203175</td><td>3.4110088847652964</td><td>26.51047533025609</td><td>101.24325703003153</td><td>18.555308812326274</td><td>99.24860228021205</td><td>-38.91778337903819</td><td>50.38847964349399</td><td>-10.220916099138329</td><td>66.3185413266172</td><td>13.134133302772359</td><td>87.22235312903116</td><td>28.622067601635106</td><td>119.66569789951514</td><td>60.82042112433592</td><td>174.3977536620204</td><td>101.23420426015365</td><td>282.5018888629252</td><td>109.77231323290692</td><td>336.1380803555564</td><td>-31.077848249266015</td><td>63.110311176850814</td><td>--</td><td>--</td><td>--</td><td>True</td><td>1.2274651155249974</td><td>1.2749590999647917</td><td>-0.046048927452689986</td><td>True</td><td>--</td><td>--</td><td>--</td><td>--</td><td>--</td><td>--</td><td>--</td><td>True</td><td>4.5810018</td><td>62.22998874889943</td><td>248.9164049467938</td><td>-35.791073256671105</td><td>241.33793229939138</td><td>-41.45655412175445</td><td>57.357177952915194</td><td>False</td><td>70.43757187277592</td><td>118.01774403392199</td><td>False</td><td>36.669172937317974</td><td>179.74330789371925</td><td>False</td><td>5.9665063861851175</td><td>240.79504942012392</td><td>False</td><td>370.579358039376</td><td>347.2418593718614</td><td>False</td><td>2711.963417469752</td><td>502.27937133733786</td><td>False</td><td>6786.46354445859</td><td>674.8055947806389</td><td>False</td><td>15274.946158820176</td><td>915.2690474268976</td><td>False</td><td>35829.18010280019</td><td>1232.8671069856891</td><td>False</td><td>--</td><td>--</td><td>0.44251956306469503</td><td>--</td><td>--</td><td>--</td><td>26.564478679351595</td><td>101.4495172777252</td><td>21.2535712537114</td><td>False</td><td>--</td><td>--</td><td>--</td><td>True</td><td>1</td><td>False</td><td>False</td><td>21.129654</td><td>False</td><td>False</td><td>False</td><td>False</td><td>True</td><td>False</td><td>False</td><td>False</td><td>False</td><td>False</td><td>False</td><td>False</td><td>False</td><td>False</td><td>False</td><td>False</td><td>True</td><td>False</td><td>False</td><td>False</td><td>False</td><td>False</td><td>False</td><td>False</td><td>False</td><td>False</td><td>False</td><td>False</td><td>False</td><td>False</td><td>False</td><td>False</td><td>False</td><td>False</td><td>True</td><td>False</td><td>False</td><td>False</td><td>False</td><td>False</td><td>False</td><td>True</td><td>False</td><td>False</td><td>True</td><td>False</td><td>False</td><td>True</td><td>11896.0</td><td>--</td><td>531.0</td><td>--</td><td>True</td><td>False</td><td>True</td><td>False</td><td>False</td><td>False</td><td>False</td><td>False</td><td>False</td><td>False</td><td>150.53279640776762</td><td>1.4162691240783254</td><td>--</td><td>--</td><td>--</td><td>--</td><td>True</td><td>--</td><td>--</td><td>--</td><td>--</td><td>--</td><td>--</td><td>--</td><td>--</td><td>--</td><td>--</td><td>--</td><td>--</td><td>--</td><td>--</td><td>--</td><td>--</td><td>--</td><td>--</td><td>--</td><td>--</td><td>--</td><td>--</td><td>--</td><td>--</td><td>--</td><td>--</td><td>--</td><td>--</td><td>True</td><td>--</td><td>--</td><td>--</td><td>True</td><td>--</td><td>--</td><td>--</td><td>--</td><td>--</td><td>--</td><td>--</td><td>True</td><td>--</td><td>--</td><td>--</td><td>-12656.464074282092</td><td>100.02179396627993</td><td>-874.2894303369886</td><td>24.68404385442367</td><td>False</td><td>-3319.8051148979243</td><td>49.5435951446075</td><td>False</td><td>-7293.67662030189</td><td>74.74261801385411</td><td>False</td><td>-12416.001724124597</td><td>99.9409240362359</td><td>False</td><td>-23705.40932324866</td><td>143.02669911657043</td><td>False</td><td>-50905.40302436733</td><td>210.21827803661245</td><td>False</td><td>-105294.9119651476</td><td>294.33305551464343</td><td>False</td><td>-224374.40302309825</td><td>420.0625258927487</td><td>False</td><td>-442612.6018342098</td><td>588.0172747127187</td><td>False</td><td>--</td><td>--</td><td>--</td><td>--</td><td>--</td><td>--</td><td>--</td><td>--</td><td>--</td><td>True</td><td>--</td><td>--</td><td>--</td><td>True</td><td>0</td><td>False</td><td>False</td><td>--</td><td>True</td><td>True</td><td>False</td><td>False</td><td>True</td><td>True</td><td>True</td><td>False</td><td>False</td><td>False</td><td>False</td><td>False</td><td>False</td><td>False</td><td>False</td><td>False</td><td>True</td><td>False</td><td>False</td><td>False</td><td>False</td><td>False</td><td>True</td><td>False</td><td>False</td><td>True</td><td>True</td><td>False</td><td>False</td><td>False</td><td>False</td><td>False</td><td>False</td><td>False</td><td>True</td><td>False</td><td>False</td><td>False</td><td>False</td><td>False</td><td>False</td><td>True</td><td>False</td><td>False</td><td>True</td><td>False</td><td>False</td><td>True</td><td>11896.0</td><td>--</td><td>531.0</td><td>--</td><td>True</td><td>False</td><td>False</td><td>False</td><td>False</td><td>False</td><td>False</td><td>False</td><td>False</td><td>False</td><td>150.53282303738885</td><td>1.4162064831526557</td><td>177.3676091906072</td><td>45.75273307136266</td><td>177.3676091906072</td><td>45.75273307136266</td><td>False</td><td>--</td><td>--</td><td>--</td><td>--</td><td>--</td><td>--</td><td>--</td><td>--</td><td>--</td><td>201.11179730180334</td><td>47.597776906087596</td><td>262.39392043525453</td><td>51.60243740709734</td><td>385.67352401954753</td><td>64.30619309740727</td><td>542.3262667939338</td><td>85.08563971280928</td><td>721.3364246499962</td><td>119.76271717698494</td><td>871.668237218144</td><td>188.48987435178032</td><td>889.9482669753377</td><td>219.80727360243353</td><td>239.54878200157546</td><td>50.116195175706935</td><td>4.5300542978019465</td><td>6.299261557257041</td><td>-2.3265122315434312</td><td>False</td><td>2.435101094310295</td><td>2.097583487546691</td><td>-0.12894130503277332</td><td>False</td><td>5.2142075913077806</td><td>6.424204069870299</td><td>-0.9363206048239361</td><td>-0.9363206048239361</td><td>1.3955609972105876</td><td>1.481288722638483</td><td>-0.4871389375325993</td><td>False</td><td>5.2763767</td><td>713.1900120310199</td><td>177.1338661263784</td><td>865.1697113822705</td><td>147.74030042289363</td><td>166.2897866059859</td><td>37.64614946686251</td><td>False</td><td>444.77641094693377</td><td>75.4398527716457</td><td>False</td><td>569.814644485063</td><td>112.4172355619519</td><td>False</td><td>865.1697113822705</td><td>147.74030042289363</td><td>False</td><td>962.982086008101</td><td>207.6925409752219</td><td>False</td><td>1448.2039264621355</td><td>302.8054453238963</td><td>False</td><td>1588.5171154088398</td><td>419.584169032925</td><td>False</td><td>-371.16531891483044</td><td>594.6872386300772</td><td>False</td><td>-4230.934252502963</td><td>828.0986217131187</td><td>False</td><td>--</td><td>0.014327751535842648</td><td>0.5955658089597248</td><td>--</td><td>--</td><td>--</td><td>--</td><td>--</td><td>--</td><td>True</td><td>-0.3803521692752838</td><td>-0.762893557548523</td><td>0.681623637676239</td><td>False</td><td>1</td><td>False</td><td>False</td><td>41.19938</td><td>False</td><td>False</td><td>False</td><td>False</td><td>True</td><td>False</td><td>False</td><td>False</td><td>False</td><td>False</td><td>False</td><td>False</td><td>False</td><td>False</td><td>False</td><td>False</td><td>False</td><td>False</td><td>False</td><td>False</td><td>False</td><td>False</td><td>False</td><td>True</td><td>True</td><td>False</td><td>False</td><td>False</td><td>False</td><td>False</td><td>True</td><td>True</td><td>False</td><td>False</td><td>True</td><td>False</td><td>False</td><td>False</td><td>False</td><td>False</td><td>False</td><td>False</td><td>False</td><td>False</td><td>False</td><td>False</td><td>False</td><td>False</td><td>11895.429207837431</td><td>2.3770967</td><td>529.6574762610583</td><td>2.5289817</td><td>False</td><td>False</td><td>False</td><td>False</td><td>False</td><td>False</td><td>False</td><td>False</td><td>False</td><td>False</td><td>150.53279640776762</td><td>1.4162691240783254</td><td>--</td><td>--</td><td>--</td><td>--</td><td>True</td><td>--</td><td>--</td><td>--</td><td>--</td><td>--</td><td>--</td><td>--</td><td>--</td><td>--</td><td>--</td><td>--</td><td>--</td><td>--</td><td>--</td><td>--</td><td>--</td><td>--</td><td>--</td><td>--</td><td>--</td><td>--</td><td>--</td><td>--</td><td>--</td><td>--</td><td>--</td><td>--</td><td>--</td><td>True</td><td>--</td><td>--</td><td>--</td><td>True</td><td>--</td><td>--</td><td>--</td><td>--</td><td>--</td><td>--</td><td>--</td><td>True</td><td>--</td><td>--</td><td>--</td><td>-186.988592343006</td><td>76.99534873034139</td><td>-11.879121494130592</td><td>18.98670103263731</td><td>False</td><td>-45.08877945711728</td><td>38.1083819290015</td><td>False</td><td>-110.53904875762034</td><td>57.491900574944175</td><td>False</td><td>-192.61005743863242</td><td>76.90931338700335</td><td>False</td><td>-465.3114968800702</td><td>110.46883660376893</td><td>False</td><td>-821.2521889306896</td><td>163.08952400761905</td><td>False</td><td>-1474.2670136470795</td><td>228.35218204745945</td><td>False</td><td>-3165.221871103981</td><td>326.9884291446073</td><td>False</td><td>-5028.845189599101</td><td>458.1746675523548</td><td>False</td><td>--</td><td>--</td><td>--</td><td>--</td><td>--</td><td>--</td><td>--</td><td>--</td><td>--</td><td>True</td><td>--</td><td>--</td><td>--</td><td>True</td><td>1</td><td>False</td><td>False</td><td>--</td><td>True</td><td>True</td><td>False</td><td>False</td><td>True</td><td>True</td><td>True</td><td>False</td><td>False</td><td>False</td><td>False</td><td>False</td><td>False</td><td>False</td><td>False</td><td>False</td><td>True</td><td>False</td><td>False</td><td>False</td><td>False</td><td>False</td><td>True</td><td>False</td><td>False</td><td>True</td><td>True</td><td>False</td><td>False</td><td>False</td><td>False</td><td>False</td><td>False</td><td>False</td><td>True</td><td>False</td><td>False</td><td>False</td><td>False</td><td>False</td><td>False</td><td>True</td><td>False</td><td>False</td><td>True</td><td>False</td><td>False</td><td>True</td><td>11896.0</td><td>--</td><td>531.0</td><td>--</td><td>True</td><td>False</td><td>False</td><td>False</td><td>False</td><td>False</td><td>False</td><td>False</td><td>False</td><td>False</td></tr>\n",
       "</table></div>"
      ],
      "text/plain": [
       "<Table length=5>\n",
       "      objectId      deblend_nChild ... g_kronFlux_flag_used_minimum_radius g_kronFlux_flag_used_psf_radius\n",
       "       int64            int32      ...                 bool                              bool             \n",
       "------------------- -------------- ... ----------------------------------- -------------------------------\n",
       "3495809259583569921              0 ...                               False                           False\n",
       "3495809259583569922              0 ...                               False                           False\n",
       "3495809259583569923              0 ...                               False                           False\n",
       "3495809259583569924              0 ...                               False                           False\n",
       "3495809259583569925              0 ...                               False                           False"
      ]
     },
     "execution_count": 3,
     "metadata": {},
     "output_type": "execute_result"
    }
   ],
   "source": [
    "obj_cat = Table.from_pandas(obj, index=True)\n",
    "obj_cat[:5]"
   ]
  },
  {
   "cell_type": "code",
   "execution_count": 4,
   "id": "75bfcbec",
   "metadata": {},
   "outputs": [],
   "source": [
    "obj_cat.write('/scratch/gpfs/jiaxuanl/Data/Merian/Catalogs/t9813_deep/hsc_objcat.fits')"
   ]
  },
  {
   "cell_type": "code",
   "execution_count": null,
   "id": "acdebf15",
   "metadata": {},
   "outputs": [],
   "source": []
  },
  {
   "cell_type": "markdown",
   "id": "bed91013",
   "metadata": {},
   "source": [
    "---\n",
    "## Use TOPCAT to match catalogs."
   ]
  },
  {
   "cell_type": "markdown",
   "id": "e82c5cc9",
   "metadata": {},
   "source": [
    "The Merian catalog containing gaap and ConvFlux is `./stars/merian_N708_N540_9813_p30p60_ConvolvedFlux.fits`. Then we match it with `./stars/hsc_dr4_9813_pts_ConvFlux.fits` and `hsc_objat.fits` (which is all 9813 objects in HSC DC2 dataset on Tigress).\n",
    "\n",
    "We first match `./stars/hsc_dr4_9813_pts_ConvFlux.fits` with `hsc_objat.fits` to get `./stars/hsc_dr4_9813_pts_convgaap.fits`. Then match it with `./stars/merian_N708_N540_9813_p30p60_ConvolvedFlux.fits` to get `hsc_dr4_9813_merian_matched_p30p60_pts.fits`. There are two PSF mags. The `psfflux_mag` is from HSC DR4, and the `psfFlux` is from HSC DC2. They are different!!!"
   ]
  },
  {
   "cell_type": "markdown",
   "id": "6cc7ca3b",
   "metadata": {},
   "source": [
    "rsync -azv --progress ./hsc_dr4_9813_merian_matched_p30p60_pts.fits jiaxuanl@tiger.princeton.edu://scratch/gpfs/jiaxuanl/Data/Merian/Catalogs/dr1_wide/"
   ]
  },
  {
   "cell_type": "markdown",
   "id": "4d6e42eb",
   "metadata": {},
   "source": [
    "rsync -azv --progress ./hsc_dr4_9813_merian_matched_p30p60_pts_clean.fits jiaxuanl@tiger.princeton.edu://scratch/gpfs/jiaxuanl/Data/Merian/Catalogs/dr1_wide/"
   ]
  },
  {
   "cell_type": "markdown",
   "id": "ed131898",
   "metadata": {},
   "source": [
    "---"
   ]
  },
  {
   "cell_type": "markdown",
   "id": "6c134ce4",
   "metadata": {},
   "source": [
    "### Let's try `photCalib`"
   ]
  },
  {
   "cell_type": "code",
   "execution_count": null,
   "id": "76bfff44",
   "metadata": {},
   "outputs": [],
   "source": [
    "photoCalib = butler.get(\n",
    "    'deepCoadd_calexp.photoCalib',\n",
    "    dataId = dataId,\n",
    "    collections='u/en7908/t9813_test',\n",
    "    skymap = 'hsc_rings_v1',\n",
    "    instrument = 'DECam',\n",
    ")\n",
    "\n",
    "\n",
    "gaap_forced_njy = src[\"ext_gaap_GaapFlux_1_15x_1_0_instFlux\"] * conv_njy\n",
    "gaap_object_njy = obj[\"N708_gaap1p0Flux\"]"
   ]
  },
  {
   "cell_type": "code",
   "execution_count": null,
   "id": "8cf08f01",
   "metadata": {},
   "outputs": [],
   "source": []
  },
  {
   "cell_type": "code",
   "execution_count": 87,
   "id": "25ca2f61",
   "metadata": {},
   "outputs": [],
   "source": [
    "filt = 'N540'\n",
    "tract = 9813\n",
    "\n",
    "for i, patch in enumerate(range(30, 31)):\n",
    "    import lsst.daf.butler as dafButler\n",
    "    butler = dafButler.Butler('/projects/MERIAN/repo/')\n",
    "    dataId = dict(tract=tract, patch=patch, band=filt)\n",
    "    src = butler.get(\n",
    "        'deepCoadd_forced_src',\n",
    "        collections='DECam/runs/merian/dr1_wide',\n",
    "        dataId=dataId,\n",
    "        instrument='DECam',\n",
    "        skymap='hsc_rings_v1',\n",
    "    ).asAstropy()\n",
    "    src['coord_dec'] = src['coord_dec'].to(u.deg)\n",
    "    src['coord_ra'] = src['coord_ra'].to(u.deg)\n",
    "    \n",
    "    \n",
    "    photoCalib = butler.get(\n",
    "        'deepCoadd_calexp.photoCalib',\n",
    "        collections='DECam/runs/merian/dr1_wide',\n",
    "        dataId=dataId,\n",
    "        instrument='DECam',\n",
    "        skymap='hsc_rings_v1',\n",
    "    )\n",
    "    conv_njy = photoCalib.instFluxToNanojansky(1)"
   ]
  },
  {
   "cell_type": "code",
   "execution_count": 88,
   "id": "3a9080cf",
   "metadata": {},
   "outputs": [
    {
     "data": {
      "text/plain": [
       "-4.399999999999995"
      ]
     },
     "execution_count": 88,
     "metadata": {},
     "output_type": "execute_result"
    }
   ],
   "source": [
    "-2.5 * np.log10(conv_njy)"
   ]
  },
  {
   "cell_type": "code",
   "execution_count": null,
   "id": "e581dacc",
   "metadata": {},
   "outputs": [],
   "source": []
  },
  {
   "cell_type": "code",
   "execution_count": 81,
   "id": "038d2efa",
   "metadata": {},
   "outputs": [
    {
     "data": {
      "text/plain": [
       "PhotoCalib(spatially constant with mean: 57.544 error: 0)"
      ]
     },
     "execution_count": 81,
     "metadata": {},
     "output_type": "execute_result"
    }
   ],
   "source": []
  },
  {
   "cell_type": "code",
   "execution_count": null,
   "id": "f404e47b",
   "metadata": {},
   "outputs": [],
   "source": [
    "\n",
    "    \n",
    "    if i == 0:\n",
    "        cat_708 = Table(data=[src['id'], src['coord_ra'], src['coord_dec']] + [src[name] for name in conv_cols],\n",
    "              names=['id', 'RA', 'Dec'] + [f'{filt}_' + item for item in conv_cols])\n",
    "        cat_708 = hstack([cat_708, src2[[f'{filt}_' + name for name in gaap_cols]]])\n",
    "    else:\n",
    "        temp = Table(data=[src['id'], src['coord_ra'], src['coord_dec']] + [src[name] for name in conv_cols],\n",
    "              names=['id', 'RA', 'Dec'] + [f'{filt}_' + item for item in conv_cols])\n",
    "        temp = hstack([temp, src2[[f'{filt}_' + name for name in gaap_cols]]])\n",
    "        \n",
    "        cat_708 = vstack([cat_708, temp])\n",
    "        \n",
    "    del src, src2\n",
    "    gc.collect()"
   ]
  }
 ],
 "metadata": {
  "kernelspec": {
   "display_name": "Python 3 (ipykernel)",
   "language": "python",
   "name": "python3"
  },
  "language_info": {
   "codemirror_mode": {
    "name": "ipython",
    "version": 3
   },
   "file_extension": ".py",
   "mimetype": "text/x-python",
   "name": "python",
   "nbconvert_exporter": "python",
   "pygments_lexer": "ipython3",
   "version": "3.10.5"
  }
 },
 "nbformat": 4,
 "nbformat_minor": 5
}
