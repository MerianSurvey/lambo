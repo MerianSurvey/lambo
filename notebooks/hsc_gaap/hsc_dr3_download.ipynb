{
 "cells": [
  {
   "cell_type": "code",
   "execution_count": 1,
   "id": "997f464a",
   "metadata": {},
   "outputs": [],
   "source": [
    "# Import packages\n",
    "%load_ext autoreload\n",
    "%autoreload 2\n",
    "\n",
    "import os\n",
    "import numpy as np\n",
    "import matplotlib.pyplot as plt\n",
    "\n",
    "import astropy.units as u\n",
    "from astropy import wcs\n",
    "from astropy.io import fits\n",
    "from astropy.table import Table, Column, hstack, vstack\n",
    "from astropy.coordinates import SkyCoord\n",
    "\n",
    "# import kuaizi\n",
    "from kuaizi.display import display_single, SEG_CMAP\n",
    "from kuaizi.detection import Data\n",
    "from kuaizi.utils import padding_PSF\n",
    "\n",
    "import pickle"
   ]
  },
  {
   "cell_type": "code",
   "execution_count": 2,
   "id": "850ab0fd",
   "metadata": {},
   "outputs": [],
   "source": [
    "import sys\n",
    "sys.path.append('/home/jiaxuanl/Research/Merian/merian_tractor/scripts/')"
   ]
  },
  {
   "cell_type": "markdown",
   "id": "9efd666d",
   "metadata": {},
   "source": [
    "patch numbers: from (0,0) to (8,8)"
   ]
  },
  {
   "cell_type": "code",
   "execution_count": 17,
   "id": "495a942e",
   "metadata": {},
   "outputs": [
    {
     "name": "stdout",
     "output_type": "stream",
     "text": [
      "# Get table list from /home/jiaxuanl/.local/lib/python3.10/site-packages/unagi-0.1.3.dev19-py3.10.egg/unagi/data/s20a_wide/s20a_wide_tables.fits\n"
     ]
    }
   ],
   "source": [
    "from hsc_gaap.download_S20A import runDownload, download_hsc_coadd, download_blendedness"
   ]
  },
  {
   "cell_type": "code",
   "execution_count": 19,
   "id": "f0175ba3",
   "metadata": {},
   "outputs": [
    {
     "name": "stdout",
     "output_type": "stream",
     "text": [
      "# Get table list from /home/jiaxuanl/.local/lib/python3.10/site-packages/unagi-0.1.3.dev19-py3.10.egg/unagi/data/s20a_wide/s20a_wide_tables.fits\n"
     ]
    },
    {
     "name": "stderr",
     "output_type": "stream",
     "text": [
      "\r",
      "0it [00:00, ?it/s]"
     ]
    },
    {
     "name": "stdout",
     "output_type": "stream",
     "text": [
      "# SQL query blendedness from HSC database for tract = 9812, patch = 0,0\n",
      "Waiting for query to finish... [Done]\n"
     ]
    },
    {
     "name": "stderr",
     "output_type": "stream",
     "text": [
      "\r",
      "1it [00:07,  7.18s/it]"
     ]
    },
    {
     "name": "stdout",
     "output_type": "stream",
     "text": [
      "# Downloading /projects/MERIAN/repo/S20A/deepCoadd_calexp/9812/0,1/calexp-HSC-G-9812-0,1.fits finished! \n",
      "# Downloading /projects/MERIAN/repo/S20A/deepCoadd_calexp/9812/0,1/calexp-HSC-R-9812-0,1.fits finished! \n",
      "# Downloading /projects/MERIAN/repo/S20A/deepCoadd_calexp/9812/0,1/calexp-HSC-I-9812-0,1.fits finished! \n"
     ]
    },
    {
     "name": "stderr",
     "output_type": "stream",
     "text": [
      "1it [00:43, 43.77s/it]\n"
     ]
    },
    {
     "ename": "KeyboardInterrupt",
     "evalue": "",
     "output_type": "error",
     "traceback": [
      "\u001b[0;31m---------------------------------------------------------------------------\u001b[0m",
      "\u001b[0;31mKeyboardInterrupt\u001b[0m                         Traceback (most recent call last)",
      "Input \u001b[0;32mIn [19]\u001b[0m, in \u001b[0;36m<cell line: 1>\u001b[0;34m()\u001b[0m\n\u001b[0;32m----> 1\u001b[0m \u001b[43mrunDownload\u001b[49m\u001b[43m(\u001b[49m\u001b[43mtract\u001b[49m\u001b[38;5;241;43m=\u001b[39;49m\u001b[38;5;241;43m9812\u001b[39;49m\u001b[43m)\u001b[49m\n",
      "File \u001b[0;32m~/Research/Merian/merian_tractor/scripts/hsc_gaap/download_S20A.py:50\u001b[0m, in \u001b[0;36mrunDownload\u001b[0;34m(tract)\u001b[0m\n\u001b[1;32m     48\u001b[0m \u001b[38;5;28;01mfor\u001b[39;00m filt \u001b[38;5;129;01min\u001b[39;00m \u001b[38;5;28mlist\u001b[39m(\u001b[38;5;124m'\u001b[39m\u001b[38;5;124mgrizy\u001b[39m\u001b[38;5;124m'\u001b[39m):\n\u001b[1;32m     49\u001b[0m     \u001b[38;5;28;01mtry\u001b[39;00m:\n\u001b[0;32m---> 50\u001b[0m         \u001b[43mdownload_hsc_coadd\u001b[49m\u001b[43m(\u001b[49m\u001b[43mtract\u001b[49m\u001b[38;5;241;43m=\u001b[39;49m\u001b[43mtract\u001b[49m\u001b[43m,\u001b[49m\u001b[43m \u001b[49m\u001b[43mpatch\u001b[49m\u001b[38;5;241;43m=\u001b[39;49m\u001b[38;5;124;43mf\u001b[39;49m\u001b[38;5;124;43m'\u001b[39;49m\u001b[38;5;132;43;01m{\u001b[39;49;00m\u001b[43mi\u001b[49m\u001b[38;5;132;43;01m}\u001b[39;49;00m\u001b[38;5;124;43m,\u001b[39;49m\u001b[38;5;132;43;01m{\u001b[39;49;00m\u001b[43mj\u001b[49m\u001b[38;5;132;43;01m}\u001b[39;49;00m\u001b[38;5;124;43m'\u001b[39;49m\u001b[43m,\u001b[49m\u001b[43m \u001b[49m\u001b[43mfilt\u001b[49m\u001b[38;5;241;43m=\u001b[39;49m\u001b[43mfilt\u001b[49m\u001b[43m,\u001b[49m\n\u001b[1;32m     51\u001b[0m \u001b[43m                        \u001b[49m\u001b[43moutdir\u001b[49m\u001b[38;5;241;43m=\u001b[39;49m\u001b[38;5;124;43m'\u001b[39;49m\u001b[38;5;124;43m/projects/MERIAN/repo/S20A/deepCoadd_calexp/\u001b[39;49m\u001b[38;5;124;43m'\u001b[39;49m\u001b[43m)\u001b[49m\n\u001b[1;32m     52\u001b[0m     \u001b[38;5;28;01mexcept\u001b[39;00m \u001b[38;5;167;01mException\u001b[39;00m \u001b[38;5;28;01mas\u001b[39;00m e:\n\u001b[1;32m     53\u001b[0m         \u001b[38;5;28mprint\u001b[39m(e)\n",
      "File \u001b[0;32m~/Research/Merian/merian_tractor/scripts/hsc_gaap/download_S20A.py:16\u001b[0m, in \u001b[0;36mdownload_hsc_coadd\u001b[0;34m(tract, patch, filt, outdir)\u001b[0m\n\u001b[1;32m     14\u001b[0m filename \u001b[38;5;241m=\u001b[39m os\u001b[38;5;241m.\u001b[39mpath\u001b[38;5;241m.\u001b[39mjoin(outdir, filename)\n\u001b[1;32m     15\u001b[0m \u001b[38;5;28;01mif\u001b[39;00m \u001b[38;5;129;01mnot\u001b[39;00m os\u001b[38;5;241m.\u001b[39mpath\u001b[38;5;241m.\u001b[39misfile(filename):\n\u001b[0;32m---> 16\u001b[0m     \u001b[43ms20a\u001b[49m\u001b[38;5;241;43m.\u001b[39;49m\u001b[43mdownload_patch\u001b[49m\u001b[43m(\u001b[49m\n\u001b[1;32m     17\u001b[0m \u001b[43m        \u001b[49m\u001b[43mtract\u001b[49m\u001b[43m,\u001b[49m\u001b[43m \u001b[49m\u001b[43mpatch\u001b[49m\u001b[43m,\u001b[49m\u001b[43m \u001b[49m\u001b[43mfilt\u001b[49m\u001b[38;5;241;43m=\u001b[39;49m\u001b[38;5;124;43mf\u001b[39;49m\u001b[38;5;124;43m'\u001b[39;49m\u001b[38;5;124;43mHSC-\u001b[39;49m\u001b[38;5;132;43;01m{\u001b[39;49;00m\u001b[43mfilt\u001b[49m\u001b[38;5;241;43m.\u001b[39;49m\u001b[43mupper\u001b[49m\u001b[43m(\u001b[49m\u001b[43m)\u001b[49m\u001b[38;5;132;43;01m}\u001b[39;49;00m\u001b[38;5;124;43m'\u001b[39;49m\u001b[43m,\u001b[49m\u001b[43m \u001b[49m\u001b[43moutput_file\u001b[49m\u001b[38;5;241;43m=\u001b[39;49m\u001b[43mfilename\u001b[49m\u001b[43m,\u001b[49m\u001b[43m \u001b[49m\u001b[43mverbose\u001b[49m\u001b[38;5;241;43m=\u001b[39;49m\u001b[38;5;28;43;01mFalse\u001b[39;49;00m\u001b[43m)\u001b[49m\n\u001b[1;32m     18\u001b[0m     \u001b[38;5;28mprint\u001b[39m(\u001b[38;5;124m'\u001b[39m\u001b[38;5;124m# Downloading \u001b[39m\u001b[38;5;124m'\u001b[39m \u001b[38;5;241m+\u001b[39m filename \u001b[38;5;241m+\u001b[39m \u001b[38;5;124m'\u001b[39m\u001b[38;5;124m finished! \u001b[39m\u001b[38;5;124m'\u001b[39m)\n",
      "File \u001b[0;32m~/.local/lib/python3.10/site-packages/unagi-0.1.3.dev19-py3.10.egg/unagi/hsc.py:253\u001b[0m, in \u001b[0;36mHsc.download_patch\u001b[0;34m(self, tract, patch, filt, output_file, overwrite, verbose)\u001b[0m\n\u001b[1;32m    251\u001b[0m     \u001b[38;5;28;01mif\u001b[39;00m verbose:\n\u001b[1;32m    252\u001b[0m         \u001b[38;5;28mprint\u001b[39m(\u001b[38;5;124m\"\u001b[39m\u001b[38;5;124m# Downloading FITS image from \u001b[39m\u001b[38;5;132;01m{}\u001b[39;00m\u001b[38;5;124m\"\u001b[39m\u001b[38;5;241m.\u001b[39mformat(patch_url))\n\u001b[0;32m--> 253\u001b[0m     cutout \u001b[38;5;241m=\u001b[39m \u001b[43mfits\u001b[49m\u001b[38;5;241;43m.\u001b[39;49m\u001b[43mopen\u001b[49m\u001b[43m(\u001b[49m\u001b[43murllib\u001b[49m\u001b[38;5;241;43m.\u001b[39;49m\u001b[43mrequest\u001b[49m\u001b[38;5;241;43m.\u001b[39;49m\u001b[43murlopen\u001b[49m\u001b[43m(\u001b[49m\u001b[43mpatch_url\u001b[49m\u001b[43m)\u001b[49m\u001b[43m)\u001b[49m\n\u001b[1;32m    254\u001b[0m \u001b[38;5;28;01mexcept\u001b[39;00m urllib\u001b[38;5;241m.\u001b[39merror\u001b[38;5;241m.\u001b[39mHTTPError \u001b[38;5;28;01mas\u001b[39;00m e:\n\u001b[1;32m    255\u001b[0m     \u001b[38;5;28mprint\u001b[39m(\u001b[38;5;124m\"\u001b[39m\u001b[38;5;124m# Error message: \u001b[39m\u001b[38;5;132;01m{}\u001b[39;00m\u001b[38;5;124m\"\u001b[39m\u001b[38;5;241m.\u001b[39mformat(e))\n",
      "File \u001b[0;32m/projects/HSC/LSST/stack_20220527/conda/envs/lsst-scipipe-4.0.0/lib/python3.10/site-packages/astropy/io/fits/hdu/hdulist.py:175\u001b[0m, in \u001b[0;36mfitsopen\u001b[0;34m(name, mode, memmap, save_backup, cache, lazy_load_hdus, ignore_missing_simple, **kwargs)\u001b[0m\n\u001b[1;32m    172\u001b[0m \u001b[38;5;28;01mif\u001b[39;00m \u001b[38;5;129;01mnot\u001b[39;00m name:\n\u001b[1;32m    173\u001b[0m     \u001b[38;5;28;01mraise\u001b[39;00m \u001b[38;5;167;01mValueError\u001b[39;00m(\u001b[38;5;124mf\u001b[39m\u001b[38;5;124m'\u001b[39m\u001b[38;5;124mEmpty filename: \u001b[39m\u001b[38;5;132;01m{\u001b[39;00mname\u001b[38;5;132;01m!r}\u001b[39;00m\u001b[38;5;124m'\u001b[39m)\n\u001b[0;32m--> 175\u001b[0m \u001b[38;5;28;01mreturn\u001b[39;00m \u001b[43mHDUList\u001b[49m\u001b[38;5;241;43m.\u001b[39;49m\u001b[43mfromfile\u001b[49m\u001b[43m(\u001b[49m\u001b[43mname\u001b[49m\u001b[43m,\u001b[49m\u001b[43m \u001b[49m\u001b[43mmode\u001b[49m\u001b[43m,\u001b[49m\u001b[43m \u001b[49m\u001b[43mmemmap\u001b[49m\u001b[43m,\u001b[49m\u001b[43m \u001b[49m\u001b[43msave_backup\u001b[49m\u001b[43m,\u001b[49m\u001b[43m \u001b[49m\u001b[43mcache\u001b[49m\u001b[43m,\u001b[49m\n\u001b[1;32m    176\u001b[0m \u001b[43m                        \u001b[49m\u001b[43mlazy_load_hdus\u001b[49m\u001b[43m,\u001b[49m\u001b[43m \u001b[49m\u001b[43mignore_missing_simple\u001b[49m\u001b[43m,\u001b[49m\u001b[43m \u001b[49m\u001b[38;5;241;43m*\u001b[39;49m\u001b[38;5;241;43m*\u001b[39;49m\u001b[43mkwargs\u001b[49m\u001b[43m)\u001b[49m\n",
      "File \u001b[0;32m/projects/HSC/LSST/stack_20220527/conda/envs/lsst-scipipe-4.0.0/lib/python3.10/site-packages/astropy/io/fits/hdu/hdulist.py:410\u001b[0m, in \u001b[0;36mHDUList.fromfile\u001b[0;34m(cls, fileobj, mode, memmap, save_backup, cache, lazy_load_hdus, ignore_missing_simple, **kwargs)\u001b[0m\n\u001b[1;32m    398\u001b[0m \u001b[38;5;129m@classmethod\u001b[39m\n\u001b[1;32m    399\u001b[0m \u001b[38;5;28;01mdef\u001b[39;00m \u001b[38;5;21mfromfile\u001b[39m(\u001b[38;5;28mcls\u001b[39m, fileobj, mode\u001b[38;5;241m=\u001b[39m\u001b[38;5;28;01mNone\u001b[39;00m, memmap\u001b[38;5;241m=\u001b[39m\u001b[38;5;28;01mNone\u001b[39;00m,\n\u001b[1;32m    400\u001b[0m              save_backup\u001b[38;5;241m=\u001b[39m\u001b[38;5;28;01mFalse\u001b[39;00m, cache\u001b[38;5;241m=\u001b[39m\u001b[38;5;28;01mTrue\u001b[39;00m, lazy_load_hdus\u001b[38;5;241m=\u001b[39m\u001b[38;5;28;01mTrue\u001b[39;00m,\n\u001b[1;32m    401\u001b[0m              ignore_missing_simple\u001b[38;5;241m=\u001b[39m\u001b[38;5;28;01mFalse\u001b[39;00m, \u001b[38;5;241m*\u001b[39m\u001b[38;5;241m*\u001b[39mkwargs):\n\u001b[1;32m    402\u001b[0m     \u001b[38;5;124;03m\"\"\"\u001b[39;00m\n\u001b[1;32m    403\u001b[0m \u001b[38;5;124;03m    Creates an `HDUList` instance from a file-like object.\u001b[39;00m\n\u001b[1;32m    404\u001b[0m \n\u001b[0;32m   (...)\u001b[0m\n\u001b[1;32m    407\u001b[0m \u001b[38;5;124;03m    documentation for details of the parameters accepted by this method).\u001b[39;00m\n\u001b[1;32m    408\u001b[0m \u001b[38;5;124;03m    \"\"\"\u001b[39;00m\n\u001b[0;32m--> 410\u001b[0m     \u001b[38;5;28;01mreturn\u001b[39;00m \u001b[38;5;28;43mcls\u001b[39;49m\u001b[38;5;241;43m.\u001b[39;49m\u001b[43m_readfrom\u001b[49m\u001b[43m(\u001b[49m\u001b[43mfileobj\u001b[49m\u001b[38;5;241;43m=\u001b[39;49m\u001b[43mfileobj\u001b[49m\u001b[43m,\u001b[49m\u001b[43m \u001b[49m\u001b[43mmode\u001b[49m\u001b[38;5;241;43m=\u001b[39;49m\u001b[43mmode\u001b[49m\u001b[43m,\u001b[49m\u001b[43m \u001b[49m\u001b[43mmemmap\u001b[49m\u001b[38;5;241;43m=\u001b[39;49m\u001b[43mmemmap\u001b[49m\u001b[43m,\u001b[49m\n\u001b[1;32m    411\u001b[0m \u001b[43m                         \u001b[49m\u001b[43msave_backup\u001b[49m\u001b[38;5;241;43m=\u001b[39;49m\u001b[43msave_backup\u001b[49m\u001b[43m,\u001b[49m\u001b[43m \u001b[49m\u001b[43mcache\u001b[49m\u001b[38;5;241;43m=\u001b[39;49m\u001b[43mcache\u001b[49m\u001b[43m,\u001b[49m\n\u001b[1;32m    412\u001b[0m \u001b[43m                         \u001b[49m\u001b[43mignore_missing_simple\u001b[49m\u001b[38;5;241;43m=\u001b[39;49m\u001b[43mignore_missing_simple\u001b[49m\u001b[43m,\u001b[49m\n\u001b[1;32m    413\u001b[0m \u001b[43m                         \u001b[49m\u001b[43mlazy_load_hdus\u001b[49m\u001b[38;5;241;43m=\u001b[39;49m\u001b[43mlazy_load_hdus\u001b[49m\u001b[43m,\u001b[49m\u001b[43m \u001b[49m\u001b[38;5;241;43m*\u001b[39;49m\u001b[38;5;241;43m*\u001b[39;49m\u001b[43mkwargs\u001b[49m\u001b[43m)\u001b[49m\n",
      "File \u001b[0;32m/projects/HSC/LSST/stack_20220527/conda/envs/lsst-scipipe-4.0.0/lib/python3.10/site-packages/astropy/io/fits/hdu/hdulist.py:1060\u001b[0m, in \u001b[0;36mHDUList._readfrom\u001b[0;34m(cls, fileobj, data, mode, memmap, cache, lazy_load_hdus, ignore_missing_simple, **kwargs)\u001b[0m\n\u001b[1;32m   1057\u001b[0m \u001b[38;5;28;01mif\u001b[39;00m fileobj \u001b[38;5;129;01mis\u001b[39;00m \u001b[38;5;129;01mnot\u001b[39;00m \u001b[38;5;28;01mNone\u001b[39;00m:\n\u001b[1;32m   1058\u001b[0m     \u001b[38;5;28;01mif\u001b[39;00m \u001b[38;5;129;01mnot\u001b[39;00m \u001b[38;5;28misinstance\u001b[39m(fileobj, _File):\n\u001b[1;32m   1059\u001b[0m         \u001b[38;5;66;03m# instantiate a FITS file object (ffo)\u001b[39;00m\n\u001b[0;32m-> 1060\u001b[0m         fileobj \u001b[38;5;241m=\u001b[39m \u001b[43m_File\u001b[49m\u001b[43m(\u001b[49m\u001b[43mfileobj\u001b[49m\u001b[43m,\u001b[49m\u001b[43m \u001b[49m\u001b[43mmode\u001b[49m\u001b[38;5;241;43m=\u001b[39;49m\u001b[43mmode\u001b[49m\u001b[43m,\u001b[49m\u001b[43m \u001b[49m\u001b[43mmemmap\u001b[49m\u001b[38;5;241;43m=\u001b[39;49m\u001b[43mmemmap\u001b[49m\u001b[43m,\u001b[49m\u001b[43m \u001b[49m\u001b[43mcache\u001b[49m\u001b[38;5;241;43m=\u001b[39;49m\u001b[43mcache\u001b[49m\u001b[43m)\u001b[49m\n\u001b[1;32m   1061\u001b[0m     \u001b[38;5;66;03m# The Astropy mode is determined by the _File initializer if the\u001b[39;00m\n\u001b[1;32m   1062\u001b[0m     \u001b[38;5;66;03m# supplied mode was None\u001b[39;00m\n\u001b[1;32m   1063\u001b[0m     mode \u001b[38;5;241m=\u001b[39m fileobj\u001b[38;5;241m.\u001b[39mmode\n",
      "File \u001b[0;32m/projects/HSC/LSST/stack_20220527/conda/envs/lsst-scipipe-4.0.0/lib/python3.10/site-packages/astropy/io/fits/file.py:157\u001b[0m, in \u001b[0;36m_File.__init__\u001b[0;34m(self, fileobj, mode, memmap, overwrite, cache)\u001b[0m\n\u001b[1;32m    154\u001b[0m     \u001b[38;5;28;01mif\u001b[39;00m mode \u001b[38;5;129;01min\u001b[39;00m (\u001b[38;5;124m'\u001b[39m\u001b[38;5;124mostream\u001b[39m\u001b[38;5;124m'\u001b[39m, \u001b[38;5;124m'\u001b[39m\u001b[38;5;124mappend\u001b[39m\u001b[38;5;124m'\u001b[39m, \u001b[38;5;124m'\u001b[39m\u001b[38;5;124mupdate\u001b[39m\u001b[38;5;124m'\u001b[39m):\n\u001b[1;32m    155\u001b[0m         \u001b[38;5;28;01mraise\u001b[39;00m \u001b[38;5;167;01mValueError\u001b[39;00m(\n\u001b[1;32m    156\u001b[0m             \u001b[38;5;124mf\u001b[39m\u001b[38;5;124m\"\u001b[39m\u001b[38;5;124mMode \u001b[39m\u001b[38;5;132;01m{\u001b[39;00mmode\u001b[38;5;132;01m}\u001b[39;00m\u001b[38;5;124m not supported for HTTPResponse\u001b[39m\u001b[38;5;124m\"\u001b[39m)\n\u001b[0;32m--> 157\u001b[0m     fileobj \u001b[38;5;241m=\u001b[39m io\u001b[38;5;241m.\u001b[39mBytesIO(\u001b[43mfileobj\u001b[49m\u001b[38;5;241;43m.\u001b[39;49m\u001b[43mread\u001b[49m\u001b[43m(\u001b[49m\u001b[43m)\u001b[49m)\n\u001b[1;32m    158\u001b[0m \u001b[38;5;28;01melse\u001b[39;00m:\n\u001b[1;32m    159\u001b[0m     \u001b[38;5;28mself\u001b[39m\u001b[38;5;241m.\u001b[39mname \u001b[38;5;241m=\u001b[39m fileobj_name(fileobj)\n",
      "File \u001b[0;32m/projects/HSC/LSST/stack_20220527/conda/envs/lsst-scipipe-4.1.0/lib/python3.10/http/client.py:481\u001b[0m, in \u001b[0;36mHTTPResponse.read\u001b[0;34m(self, amt)\u001b[0m\n\u001b[1;32m    479\u001b[0m \u001b[38;5;28;01melse\u001b[39;00m:\n\u001b[1;32m    480\u001b[0m     \u001b[38;5;28;01mtry\u001b[39;00m:\n\u001b[0;32m--> 481\u001b[0m         s \u001b[38;5;241m=\u001b[39m \u001b[38;5;28;43mself\u001b[39;49m\u001b[38;5;241;43m.\u001b[39;49m\u001b[43m_safe_read\u001b[49m\u001b[43m(\u001b[49m\u001b[38;5;28;43mself\u001b[39;49m\u001b[38;5;241;43m.\u001b[39;49m\u001b[43mlength\u001b[49m\u001b[43m)\u001b[49m\n\u001b[1;32m    482\u001b[0m     \u001b[38;5;28;01mexcept\u001b[39;00m IncompleteRead:\n\u001b[1;32m    483\u001b[0m         \u001b[38;5;28mself\u001b[39m\u001b[38;5;241m.\u001b[39m_close_conn()\n",
      "File \u001b[0;32m/projects/HSC/LSST/stack_20220527/conda/envs/lsst-scipipe-4.1.0/lib/python3.10/http/client.py:630\u001b[0m, in \u001b[0;36mHTTPResponse._safe_read\u001b[0;34m(self, amt)\u001b[0m\n\u001b[1;32m    623\u001b[0m \u001b[38;5;28;01mdef\u001b[39;00m \u001b[38;5;21m_safe_read\u001b[39m(\u001b[38;5;28mself\u001b[39m, amt):\n\u001b[1;32m    624\u001b[0m     \u001b[38;5;124;03m\"\"\"Read the number of bytes requested.\u001b[39;00m\n\u001b[1;32m    625\u001b[0m \n\u001b[1;32m    626\u001b[0m \u001b[38;5;124;03m    This function should be used when <amt> bytes \"should\" be present for\u001b[39;00m\n\u001b[1;32m    627\u001b[0m \u001b[38;5;124;03m    reading. If the bytes are truly not available (due to EOF), then the\u001b[39;00m\n\u001b[1;32m    628\u001b[0m \u001b[38;5;124;03m    IncompleteRead exception can be used to detect the problem.\u001b[39;00m\n\u001b[1;32m    629\u001b[0m \u001b[38;5;124;03m    \"\"\"\u001b[39;00m\n\u001b[0;32m--> 630\u001b[0m     data \u001b[38;5;241m=\u001b[39m \u001b[38;5;28;43mself\u001b[39;49m\u001b[38;5;241;43m.\u001b[39;49m\u001b[43mfp\u001b[49m\u001b[38;5;241;43m.\u001b[39;49m\u001b[43mread\u001b[49m\u001b[43m(\u001b[49m\u001b[43mamt\u001b[49m\u001b[43m)\u001b[49m\n\u001b[1;32m    631\u001b[0m     \u001b[38;5;28;01mif\u001b[39;00m \u001b[38;5;28mlen\u001b[39m(data) \u001b[38;5;241m<\u001b[39m amt:\n\u001b[1;32m    632\u001b[0m         \u001b[38;5;28;01mraise\u001b[39;00m IncompleteRead(data, amt\u001b[38;5;241m-\u001b[39m\u001b[38;5;28mlen\u001b[39m(data))\n",
      "File \u001b[0;32m/projects/HSC/LSST/stack_20220527/conda/envs/lsst-scipipe-4.1.0/lib/python3.10/socket.py:705\u001b[0m, in \u001b[0;36mSocketIO.readinto\u001b[0;34m(self, b)\u001b[0m\n\u001b[1;32m    703\u001b[0m \u001b[38;5;28;01mwhile\u001b[39;00m \u001b[38;5;28;01mTrue\u001b[39;00m:\n\u001b[1;32m    704\u001b[0m     \u001b[38;5;28;01mtry\u001b[39;00m:\n\u001b[0;32m--> 705\u001b[0m         \u001b[38;5;28;01mreturn\u001b[39;00m \u001b[38;5;28;43mself\u001b[39;49m\u001b[38;5;241;43m.\u001b[39;49m\u001b[43m_sock\u001b[49m\u001b[38;5;241;43m.\u001b[39;49m\u001b[43mrecv_into\u001b[49m\u001b[43m(\u001b[49m\u001b[43mb\u001b[49m\u001b[43m)\u001b[49m\n\u001b[1;32m    706\u001b[0m     \u001b[38;5;28;01mexcept\u001b[39;00m timeout:\n\u001b[1;32m    707\u001b[0m         \u001b[38;5;28mself\u001b[39m\u001b[38;5;241m.\u001b[39m_timeout_occurred \u001b[38;5;241m=\u001b[39m \u001b[38;5;28;01mTrue\u001b[39;00m\n",
      "File \u001b[0;32m/projects/HSC/LSST/stack_20220527/conda/envs/lsst-scipipe-4.1.0/lib/python3.10/ssl.py:1274\u001b[0m, in \u001b[0;36mSSLSocket.recv_into\u001b[0;34m(self, buffer, nbytes, flags)\u001b[0m\n\u001b[1;32m   1270\u001b[0m     \u001b[38;5;28;01mif\u001b[39;00m flags \u001b[38;5;241m!=\u001b[39m \u001b[38;5;241m0\u001b[39m:\n\u001b[1;32m   1271\u001b[0m         \u001b[38;5;28;01mraise\u001b[39;00m \u001b[38;5;167;01mValueError\u001b[39;00m(\n\u001b[1;32m   1272\u001b[0m           \u001b[38;5;124m\"\u001b[39m\u001b[38;5;124mnon-zero flags not allowed in calls to recv_into() on \u001b[39m\u001b[38;5;132;01m%s\u001b[39;00m\u001b[38;5;124m\"\u001b[39m \u001b[38;5;241m%\u001b[39m\n\u001b[1;32m   1273\u001b[0m           \u001b[38;5;28mself\u001b[39m\u001b[38;5;241m.\u001b[39m\u001b[38;5;18m__class__\u001b[39m)\n\u001b[0;32m-> 1274\u001b[0m     \u001b[38;5;28;01mreturn\u001b[39;00m \u001b[38;5;28;43mself\u001b[39;49m\u001b[38;5;241;43m.\u001b[39;49m\u001b[43mread\u001b[49m\u001b[43m(\u001b[49m\u001b[43mnbytes\u001b[49m\u001b[43m,\u001b[49m\u001b[43m \u001b[49m\u001b[43mbuffer\u001b[49m\u001b[43m)\u001b[49m\n\u001b[1;32m   1275\u001b[0m \u001b[38;5;28;01melse\u001b[39;00m:\n\u001b[1;32m   1276\u001b[0m     \u001b[38;5;28;01mreturn\u001b[39;00m \u001b[38;5;28msuper\u001b[39m()\u001b[38;5;241m.\u001b[39mrecv_into(buffer, nbytes, flags)\n",
      "File \u001b[0;32m/projects/HSC/LSST/stack_20220527/conda/envs/lsst-scipipe-4.1.0/lib/python3.10/ssl.py:1130\u001b[0m, in \u001b[0;36mSSLSocket.read\u001b[0;34m(self, len, buffer)\u001b[0m\n\u001b[1;32m   1128\u001b[0m \u001b[38;5;28;01mtry\u001b[39;00m:\n\u001b[1;32m   1129\u001b[0m     \u001b[38;5;28;01mif\u001b[39;00m buffer \u001b[38;5;129;01mis\u001b[39;00m \u001b[38;5;129;01mnot\u001b[39;00m \u001b[38;5;28;01mNone\u001b[39;00m:\n\u001b[0;32m-> 1130\u001b[0m         \u001b[38;5;28;01mreturn\u001b[39;00m \u001b[38;5;28;43mself\u001b[39;49m\u001b[38;5;241;43m.\u001b[39;49m\u001b[43m_sslobj\u001b[49m\u001b[38;5;241;43m.\u001b[39;49m\u001b[43mread\u001b[49m\u001b[43m(\u001b[49m\u001b[38;5;28;43mlen\u001b[39;49m\u001b[43m,\u001b[49m\u001b[43m \u001b[49m\u001b[43mbuffer\u001b[49m\u001b[43m)\u001b[49m\n\u001b[1;32m   1131\u001b[0m     \u001b[38;5;28;01melse\u001b[39;00m:\n\u001b[1;32m   1132\u001b[0m         \u001b[38;5;28;01mreturn\u001b[39;00m \u001b[38;5;28mself\u001b[39m\u001b[38;5;241m.\u001b[39m_sslobj\u001b[38;5;241m.\u001b[39mread(\u001b[38;5;28mlen\u001b[39m)\n",
      "\u001b[0;31mKeyboardInterrupt\u001b[0m: "
     ]
    }
   ],
   "source": [
    "runDownload(tract=9812)"
   ]
  },
  {
   "cell_type": "code",
   "execution_count": null,
   "id": "c9c65459",
   "metadata": {},
   "outputs": [],
   "source": []
  },
  {
   "cell_type": "code",
   "execution_count": null,
   "id": "1a3c4957",
   "metadata": {},
   "outputs": [],
   "source": []
  },
  {
   "cell_type": "code",
   "execution_count": null,
   "id": "72bdf06c",
   "metadata": {},
   "outputs": [],
   "source": []
  },
  {
   "cell_type": "code",
   "execution_count": null,
   "id": "b48e3445",
   "metadata": {},
   "outputs": [],
   "source": [
    "for i in range(0, 8):\n",
    "    for j in range(0, 8):\n",
    "        for filt in list('grizy'):\n",
    "            download_hsc_coadd(tract=9812, patch=f'{i},{j}', filt=filt, \n",
    "                               outdir='/projects/MERIAN/repo/S20A/deepCoadd_calexp/')"
   ]
  },
  {
   "cell_type": "code",
   "execution_count": 23,
   "id": "9bb9f29c",
   "metadata": {},
   "outputs": [
    {
     "name": "stdout",
     "output_type": "stream",
     "text": [
      "# SQL query blendedness from HSC database for tract = 9813, patch = 7,8\n",
      "Waiting for query to finish... [Done]\n"
     ]
    },
    {
     "data": {
      "text/html": [
       "<div><i>Table length=4424</i>\n",
       "<table id=\"table47160541932240\" class=\"table-striped table-bordered table-condensed\">\n",
       "<thead><tr><th>object_id</th><th>skymap_id</th><th>ra</th><th>dec</th><th>m_g_blendedness_abs</th><th>m_r_blendedness_abs</th><th>m_i_blendedness_abs</th><th>m_z_blendedness_abs</th><th>m_y_blendedness_abs</th><th>m_g_blendedness_flag</th><th>m_r_blendedness_flag</th><th>m_i_blendedness_flag</th><th>m_z_blendedness_flag</th><th>m_y_blendedness_flag</th></tr></thead>\n",
       "<thead><tr><th>int64</th><th>int32</th><th>float64</th><th>float64</th><th>float32</th><th>float32</th><th>float32</th><th>float32</th><th>float32</th><th>bool</th><th>bool</th><th>bool</th><th>bool</th><th>bool</th></tr></thead>\n",
       "<tr><td>43159026845876500</td><td>98130708</td><td>149.5994068896172</td><td>2.8854070906797697</td><td>0.0</td><td>0.0</td><td>0.0</td><td>0.0</td><td>--</td><td>False</td><td>False</td><td>False</td><td>False</td><td>True</td></tr>\n",
       "<tr><td>43159026845876665</td><td>98130708</td><td>149.62367831631676</td><td>2.8887877507880937</td><td>0.0</td><td>0.0</td><td>0.0</td><td>0.0</td><td>0.0</td><td>False</td><td>False</td><td>False</td><td>False</td><td>False</td></tr>\n",
       "<tr><td>43159026845876693</td><td>98130708</td><td>149.60525073344544</td><td>2.8894044651958795</td><td>0.0</td><td>0.0</td><td>0.0</td><td>0.0</td><td>0.0</td><td>False</td><td>False</td><td>False</td><td>False</td><td>False</td></tr>\n",
       "<tr><td>43159026845876728</td><td>98130708</td><td>149.76804829545722</td><td>2.889969662728874</td><td>0.0</td><td>--</td><td>0.0</td><td>--</td><td>--</td><td>True</td><td>True</td><td>False</td><td>True</td><td>True</td></tr>\n",
       "<tr><td>43159026845876874</td><td>98130708</td><td>149.68616252652524</td><td>2.8929783582008834</td><td>0.0</td><td>0.0</td><td>0.0</td><td>0.0</td><td>0.0</td><td>False</td><td>False</td><td>False</td><td>False</td><td>False</td></tr>\n",
       "<tr><td>43159026845876928</td><td>98130708</td><td>149.59866434675672</td><td>2.8939845190465365</td><td>0.0</td><td>0.0</td><td>0.0</td><td>0.0</td><td>0.0</td><td>False</td><td>False</td><td>False</td><td>False</td><td>False</td></tr>\n",
       "<tr><td>43159026845876994</td><td>98130708</td><td>149.7265538799856</td><td>2.895592736994768</td><td>0.0</td><td>0.0</td><td>0.0</td><td>0.0</td><td>0.0</td><td>False</td><td>False</td><td>False</td><td>False</td><td>False</td></tr>\n",
       "<tr><td>43159026845877200</td><td>98130708</td><td>149.5958158112067</td><td>2.9001803717773855</td><td>0.0</td><td>0.0</td><td>0.0</td><td>0.0</td><td>0.0</td><td>False</td><td>False</td><td>False</td><td>False</td><td>False</td></tr>\n",
       "<tr><td>43159026845877337</td><td>98130708</td><td>149.72897126357591</td><td>2.903332019814223</td><td>0.0</td><td>0.0</td><td>0.0</td><td>0.0</td><td>0.0</td><td>False</td><td>False</td><td>False</td><td>False</td><td>False</td></tr>\n",
       "<tr><td>43159026845877384</td><td>98130708</td><td>149.72796216488126</td><td>2.904504944926933</td><td>0.0</td><td>0.0</td><td>0.0</td><td>0.0</td><td>0.0</td><td>False</td><td>False</td><td>False</td><td>False</td><td>False</td></tr>\n",
       "<tr><td>43159026845877396</td><td>98130708</td><td>149.65072760299984</td><td>2.9046230173473577</td><td>--</td><td>0.0</td><td>0.0</td><td>0.0</td><td>0.0</td><td>True</td><td>False</td><td>False</td><td>False</td><td>False</td></tr>\n",
       "<tr><td>43159026845877564</td><td>98130708</td><td>149.7162307063567</td><td>2.9078349145033817</td><td>0.0</td><td>--</td><td>0.0</td><td>--</td><td>--</td><td>False</td><td>True</td><td>False</td><td>True</td><td>True</td></tr>\n",
       "<tr><td>43159026845877638</td><td>98130708</td><td>149.7026493812984</td><td>2.909513880136783</td><td>--</td><td>0.0</td><td>0.0</td><td>0.0</td><td>0.0</td><td>True</td><td>False</td><td>False</td><td>False</td><td>False</td></tr>\n",
       "<tr><td>43159026845877664</td><td>98130708</td><td>149.73773611273597</td><td>2.9098285507939163</td><td>--</td><td>0.0</td><td>0.0</td><td>--</td><td>--</td><td>True</td><td>False</td><td>False</td><td>True</td><td>True</td></tr>\n",
       "<tr><td>43159026845877731</td><td>98130708</td><td>149.63804286893875</td><td>2.9110540640872062</td><td>0.0</td><td>--</td><td>0.0</td><td>--</td><td>--</td><td>False</td><td>True</td><td>False</td><td>True</td><td>True</td></tr>\n",
       "<tr><td>...</td><td>...</td><td>...</td><td>...</td><td>...</td><td>...</td><td>...</td><td>...</td><td>...</td><td>...</td><td>...</td><td>...</td><td>...</td><td>...</td></tr>\n",
       "<tr><td>43159026845897363</td><td>98130708</td><td>149.65039397254762</td><td>2.9416846338991722</td><td>0.05425914</td><td>--</td><td>0.045607507</td><td>--</td><td>--</td><td>False</td><td>True</td><td>False</td><td>True</td><td>True</td></tr>\n",
       "<tr><td>43159026845897387</td><td>98130708</td><td>149.61885722633127</td><td>2.945275609719428</td><td>0.008425332</td><td>0.00031665905</td><td>-0.00010576745</td><td>0.0</td><td>5.906185e-05</td><td>False</td><td>False</td><td>False</td><td>False</td><td>True</td></tr>\n",
       "<tr><td>43159026845897454</td><td>98130708</td><td>149.62795951528454</td><td>2.943749695946776</td><td>0.9035419</td><td>--</td><td>0.92392313</td><td>--</td><td>0.44519803</td><td>False</td><td>True</td><td>False</td><td>True</td><td>False</td></tr>\n",
       "<tr><td>43159026845897625</td><td>98130708</td><td>149.6286825310338</td><td>2.94726214347612</td><td>0.003251667</td><td>--</td><td>0.0017352226</td><td>0.009138367</td><td>0.02520115</td><td>False</td><td>True</td><td>False</td><td>False</td><td>False</td></tr>\n",
       "<tr><td>43159026845897680</td><td>98130708</td><td>149.65680398555534</td><td>2.947973767190098</td><td>--</td><td>--</td><td>0.11137183</td><td>--</td><td>--</td><td>True</td><td>True</td><td>False</td><td>True</td><td>True</td></tr>\n",
       "<tr><td>43159026845897710</td><td>98130708</td><td>149.66063853373979</td><td>2.9492234028630513</td><td>0.007274423</td><td>0.011686428</td><td>5.2974394e-07</td><td>0.026142681</td><td>--</td><td>False</td><td>False</td><td>False</td><td>False</td><td>True</td></tr>\n",
       "<tr><td>43159026845897730</td><td>98130708</td><td>149.67473063209442</td><td>2.950074381170065</td><td>0.489886</td><td>0.29397315</td><td>0.101537995</td><td>0.10882551</td><td>0.07632644</td><td>False</td><td>False</td><td>False</td><td>False</td><td>False</td></tr>\n",
       "<tr><td>43159026845897757</td><td>98130708</td><td>149.74801769393872</td><td>2.951705341340397</td><td>--</td><td>--</td><td>0.9572028</td><td>--</td><td>--</td><td>True</td><td>True</td><td>False</td><td>True</td><td>True</td></tr>\n",
       "<tr><td>43159026845898309</td><td>98130708</td><td>149.62164029828114</td><td>2.9657870163250797</td><td>0.010348869</td><td>0.0036092123</td><td>0.0</td><td>0.003793295</td><td>0.010773429</td><td>False</td><td>False</td><td>False</td><td>False</td><td>False</td></tr>\n",
       "<tr><td>43159026845898390</td><td>98130708</td><td>149.72445772573607</td><td>2.967731235043833</td><td>6.2887733e-07</td><td>0.0014802897</td><td>0.0051494236</td><td>0.014565231</td><td>0.0056312736</td><td>False</td><td>False</td><td>False</td><td>False</td><td>False</td></tr>\n",
       "<tr><td>43159026845898405</td><td>98130708</td><td>149.70126355048788</td><td>2.9684544375948083</td><td>0.012043495</td><td>0.0</td><td>0.0</td><td>0.0</td><td>0.0</td><td>False</td><td>False</td><td>False</td><td>False</td><td>False</td></tr>\n",
       "<tr><td>43159026845898526</td><td>98130708</td><td>149.63032678631467</td><td>2.9691474080104423</td><td>1.0</td><td>1.0</td><td>--</td><td>--</td><td>--</td><td>True</td><td>True</td><td>True</td><td>True</td><td>True</td></tr>\n",
       "<tr><td>43159026845898605</td><td>98130708</td><td>149.73818036395446</td><td>2.972021678835041</td><td>--</td><td>--</td><td>0.031720754</td><td>--</td><td>--</td><td>True</td><td>True</td><td>False</td><td>True</td><td>True</td></tr>\n",
       "<tr><td>43159026845898625</td><td>98130708</td><td>149.7393452415247</td><td>2.973397780980504</td><td>--</td><td>0.008468442</td><td>0.013151707</td><td>--</td><td>--</td><td>True</td><td>False</td><td>False</td><td>True</td><td>True</td></tr>\n",
       "<tr><td>43159026845898660</td><td>98130708</td><td>149.59651926999254</td><td>2.9730104677340665</td><td>0.0</td><td>0.004022067</td><td>0.00054532534</td><td>0.0010540286</td><td>0.0023989112</td><td>False</td><td>False</td><td>False</td><td>False</td><td>False</td></tr>\n",
       "<tr><td>43159026845898688</td><td>98130708</td><td>149.7300277466771</td><td>2.974214164826355</td><td>--</td><td>0.00535395</td><td>--</td><td>--</td><td>--</td><td>True</td><td>False</td><td>True</td><td>True</td><td>True</td></tr>\n",
       "</table></div>"
      ],
      "text/plain": [
       "<Table length=4424>\n",
       "    object_id     skymap_id         ra                dec         m_g_blendedness_abs ... m_r_blendedness_flag m_i_blendedness_flag m_z_blendedness_flag m_y_blendedness_flag\n",
       "      int64         int32        float64            float64             float32       ...         bool                 bool                 bool                 bool        \n",
       "----------------- --------- ------------------ ------------------ ------------------- ... -------------------- -------------------- -------------------- --------------------\n",
       "43159026845876500  98130708  149.5994068896172 2.8854070906797697                 0.0 ...                False                False                False                 True\n",
       "43159026845876665  98130708 149.62367831631676 2.8887877507880937                 0.0 ...                False                False                False                False\n",
       "43159026845876693  98130708 149.60525073344544 2.8894044651958795                 0.0 ...                False                False                False                False\n",
       "43159026845876728  98130708 149.76804829545722  2.889969662728874                 0.0 ...                 True                False                 True                 True\n",
       "43159026845876874  98130708 149.68616252652524 2.8929783582008834                 0.0 ...                False                False                False                False\n",
       "43159026845876928  98130708 149.59866434675672 2.8939845190465365                 0.0 ...                False                False                False                False\n",
       "43159026845876994  98130708  149.7265538799856  2.895592736994768                 0.0 ...                False                False                False                False\n",
       "43159026845877200  98130708  149.5958158112067 2.9001803717773855                 0.0 ...                False                False                False                False\n",
       "43159026845877337  98130708 149.72897126357591  2.903332019814223                 0.0 ...                False                False                False                False\n",
       "43159026845877384  98130708 149.72796216488126  2.904504944926933                 0.0 ...                False                False                False                False\n",
       "43159026845877396  98130708 149.65072760299984 2.9046230173473577                  -- ...                False                False                False                False\n",
       "43159026845877564  98130708  149.7162307063567 2.9078349145033817                 0.0 ...                 True                False                 True                 True\n",
       "43159026845877638  98130708  149.7026493812984  2.909513880136783                  -- ...                False                False                False                False\n",
       "43159026845877664  98130708 149.73773611273597 2.9098285507939163                  -- ...                False                False                 True                 True\n",
       "43159026845877731  98130708 149.63804286893875 2.9110540640872062                 0.0 ...                 True                False                 True                 True\n",
       "              ...       ...                ...                ...                 ... ...                  ...                  ...                  ...                  ...\n",
       "43159026845897363  98130708 149.65039397254762 2.9416846338991722          0.05425914 ...                 True                False                 True                 True\n",
       "43159026845897387  98130708 149.61885722633127  2.945275609719428         0.008425332 ...                False                False                False                 True\n",
       "43159026845897454  98130708 149.62795951528454  2.943749695946776           0.9035419 ...                 True                False                 True                False\n",
       "43159026845897625  98130708  149.6286825310338   2.94726214347612         0.003251667 ...                 True                False                False                False\n",
       "43159026845897680  98130708 149.65680398555534  2.947973767190098                  -- ...                 True                False                 True                 True\n",
       "43159026845897710  98130708 149.66063853373979 2.9492234028630513         0.007274423 ...                False                False                False                 True\n",
       "43159026845897730  98130708 149.67473063209442  2.950074381170065            0.489886 ...                False                False                False                False\n",
       "43159026845897757  98130708 149.74801769393872  2.951705341340397                  -- ...                 True                False                 True                 True\n",
       "43159026845898309  98130708 149.62164029828114 2.9657870163250797         0.010348869 ...                False                False                False                False\n",
       "43159026845898390  98130708 149.72445772573607  2.967731235043833       6.2887733e-07 ...                False                False                False                False\n",
       "43159026845898405  98130708 149.70126355048788 2.9684544375948083         0.012043495 ...                False                False                False                False\n",
       "43159026845898526  98130708 149.63032678631467 2.9691474080104423                 1.0 ...                 True                 True                 True                 True\n",
       "43159026845898605  98130708 149.73818036395446  2.972021678835041                  -- ...                 True                False                 True                 True\n",
       "43159026845898625  98130708  149.7393452415247  2.973397780980504                  -- ...                False                False                 True                 True\n",
       "43159026845898660  98130708 149.59651926999254 2.9730104677340665                 0.0 ...                False                False                False                False\n",
       "43159026845898688  98130708  149.7300277466771  2.974214164826355                  -- ...                False                 True                 True                 True"
      ]
     },
     "execution_count": 23,
     "metadata": {},
     "output_type": "execute_result"
    }
   ],
   "source": [
    "download_blendedness(tract=9813, patch=f'7,8', save=True)"
   ]
  },
  {
   "cell_type": "code",
   "execution_count": null,
   "id": "31529bd3",
   "metadata": {},
   "outputs": [],
   "source": []
  },
  {
   "cell_type": "code",
   "execution_count": 60,
   "id": "7894c1b0",
   "metadata": {},
   "outputs": [
    {
     "name": "stdout",
     "output_type": "stream",
     "text": [
      "# Get table list from /home/jiaxuanl/.local/lib/python3.10/site-packages/unagi-0.1.3.dev19-py3.10.egg/unagi/data/s20a_wide/s20a_wide_tables.fits\n",
      "# SQL query blendedness from HSC database for tract = 9813, patch = 0,0\n",
      "Waiting for query to finish... [Done]\n",
      "# SQL query blendedness from HSC database for tract = 9813, patch = 0,1\n",
      "Waiting for query to finish... [Done]\n",
      "# SQL query blendedness from HSC database for tract = 9813, patch = 0,2\n",
      "Waiting for query to finish... [Done]\n",
      "# SQL query blendedness from HSC database for tract = 9813, patch = 0,3\n",
      "Waiting for query to finish... [Done]\n",
      "# SQL query blendedness from HSC database for tract = 9813, patch = 0,4\n",
      "Waiting for query to finish... [Done]\n",
      "# SQL query blendedness from HSC database for tract = 9813, patch = 0,5\n",
      "Waiting for query to finish... [Done]\n",
      "# SQL query blendedness from HSC database for tract = 9813, patch = 0,6\n",
      "Waiting for query to finish... [Done]\n",
      "# SQL query blendedness from HSC database for tract = 9813, patch = 0,7\n",
      "Waiting for query to finish... [Done]\n",
      "# SQL query blendedness from HSC database for tract = 9813, patch = 1,0\n",
      "Waiting for query to finish... [Done]\n",
      "# SQL query blendedness from HSC database for tract = 9813, patch = 1,1\n",
      "Waiting for query to finish... [Done]\n",
      "# SQL query blendedness from HSC database for tract = 9813, patch = 1,2\n",
      "Waiting for query to finish... [Done]\n",
      "# SQL query blendedness from HSC database for tract = 9813, patch = 1,3\n",
      "Waiting for query to finish... [Done]\n",
      "# SQL query blendedness from HSC database for tract = 9813, patch = 1,4\n",
      "Waiting for query to finish... [Done]\n",
      "# SQL query blendedness from HSC database for tract = 9813, patch = 1,5\n",
      "Waiting for query to finish... [Done]\n",
      "# SQL query blendedness from HSC database for tract = 9813, patch = 1,6\n",
      "Waiting for query to finish... [Done]\n"
     ]
    },
    {
     "ename": "FileNotFoundError",
     "evalue": "[Errno 2] No such file or directory: '/projects/MERIAN/repo/S20A/gaapTable/9813/1,6/S20A_blendedness_1,6.fits'",
     "output_type": "error",
     "traceback": [
      "\u001b[0;31m---------------------------------------------------------------------------\u001b[0m",
      "\u001b[0;31mFileNotFoundError\u001b[0m                         Traceback (most recent call last)",
      "Input \u001b[0;32mIn [60]\u001b[0m, in \u001b[0;36m<cell line: 1>\u001b[0;34m()\u001b[0m\n\u001b[1;32m      1\u001b[0m \u001b[38;5;28;01mfor\u001b[39;00m i \u001b[38;5;129;01min\u001b[39;00m \u001b[38;5;28mrange\u001b[39m(\u001b[38;5;241m0\u001b[39m, \u001b[38;5;241m8\u001b[39m):\n\u001b[1;32m      2\u001b[0m     \u001b[38;5;28;01mfor\u001b[39;00m j \u001b[38;5;129;01min\u001b[39;00m \u001b[38;5;28mrange\u001b[39m(\u001b[38;5;241m0\u001b[39m, \u001b[38;5;241m8\u001b[39m):\n\u001b[0;32m----> 3\u001b[0m         \u001b[43mdownload_blendedness\u001b[49m\u001b[43m(\u001b[49m\u001b[43mtract\u001b[49m\u001b[38;5;241;43m=\u001b[39;49m\u001b[38;5;241;43m9813\u001b[39;49m\u001b[43m,\u001b[49m\u001b[43m \u001b[49m\u001b[43mpatch\u001b[49m\u001b[38;5;241;43m=\u001b[39;49m\u001b[38;5;124;43mf\u001b[39;49m\u001b[38;5;124;43m'\u001b[39;49m\u001b[38;5;132;43;01m{\u001b[39;49;00m\u001b[43mi\u001b[49m\u001b[38;5;132;43;01m}\u001b[39;49;00m\u001b[38;5;124;43m,\u001b[39;49m\u001b[38;5;132;43;01m{\u001b[39;49;00m\u001b[43mj\u001b[49m\u001b[38;5;132;43;01m}\u001b[39;49;00m\u001b[38;5;124;43m'\u001b[39;49m\u001b[43m,\u001b[49m\u001b[43m \u001b[49m\u001b[43msave\u001b[49m\u001b[38;5;241;43m=\u001b[39;49m\u001b[38;5;28;43;01mTrue\u001b[39;49;00m\u001b[43m)\u001b[49m\n",
      "File \u001b[0;32m~/Research/Merian/merian_tractor/scripts/hsc_gaap/download_S20A.py:49\u001b[0m, in \u001b[0;36mdownload_blendedness\u001b[0;34m(tract, patch, save)\u001b[0m\n\u001b[1;32m     47\u001b[0m     sql_test, from_file=False, preview=False, verbose=True)\n\u001b[1;32m     48\u001b[0m \n\u001b[0;32m---> 49\u001b[0m if save:\n\u001b[1;32m     50\u001b[0m     result_test.write(\n\u001b[1;32m     51\u001b[0m         f'/projects/MERIAN/repo/S20A/gaapTable/9813/{patch}/S20A_blendedness_{patch}.fits',\n",
      "File \u001b[0;32m/projects/HSC/LSST/stack_20220527/conda/envs/lsst-scipipe-4.0.0/lib/python3.10/site-packages/astropy/table/connect.py:129\u001b[0m, in \u001b[0;36mTableWrite.__call__\u001b[0;34m(self, serialize_method, *args, **kwargs)\u001b[0m\n\u001b[1;32m    127\u001b[0m instance \u001b[38;5;241m=\u001b[39m \u001b[38;5;28mself\u001b[39m\u001b[38;5;241m.\u001b[39m_instance\n\u001b[1;32m    128\u001b[0m \u001b[38;5;28;01mwith\u001b[39;00m serialize_method_as(instance, serialize_method):\n\u001b[0;32m--> 129\u001b[0m     \u001b[38;5;28;43mself\u001b[39;49m\u001b[38;5;241;43m.\u001b[39;49m\u001b[43mregistry\u001b[49m\u001b[38;5;241;43m.\u001b[39;49m\u001b[43mwrite\u001b[49m\u001b[43m(\u001b[49m\u001b[43minstance\u001b[49m\u001b[43m,\u001b[49m\u001b[43m \u001b[49m\u001b[38;5;241;43m*\u001b[39;49m\u001b[43margs\u001b[49m\u001b[43m,\u001b[49m\u001b[43m \u001b[49m\u001b[38;5;241;43m*\u001b[39;49m\u001b[38;5;241;43m*\u001b[39;49m\u001b[43mkwargs\u001b[49m\u001b[43m)\u001b[49m\n",
      "File \u001b[0;32m/projects/HSC/LSST/stack_20220527/conda/envs/lsst-scipipe-4.0.0/lib/python3.10/site-packages/astropy/io/registry/core.py:369\u001b[0m, in \u001b[0;36mUnifiedOutputRegistry.write\u001b[0;34m(self, data, format, *args, **kwargs)\u001b[0m\n\u001b[1;32m    365\u001b[0m     \u001b[38;5;28mformat\u001b[39m \u001b[38;5;241m=\u001b[39m \u001b[38;5;28mself\u001b[39m\u001b[38;5;241m.\u001b[39m_get_valid_format(\n\u001b[1;32m    366\u001b[0m         \u001b[38;5;124m'\u001b[39m\u001b[38;5;124mwrite\u001b[39m\u001b[38;5;124m'\u001b[39m, data\u001b[38;5;241m.\u001b[39m\u001b[38;5;18m__class__\u001b[39m, path, fileobj, args, kwargs)\n\u001b[1;32m    368\u001b[0m writer \u001b[38;5;241m=\u001b[39m \u001b[38;5;28mself\u001b[39m\u001b[38;5;241m.\u001b[39mget_writer(\u001b[38;5;28mformat\u001b[39m, data\u001b[38;5;241m.\u001b[39m\u001b[38;5;18m__class__\u001b[39m)\n\u001b[0;32m--> 369\u001b[0m \u001b[38;5;28;01mreturn\u001b[39;00m \u001b[43mwriter\u001b[49m\u001b[43m(\u001b[49m\u001b[43mdata\u001b[49m\u001b[43m,\u001b[49m\u001b[43m \u001b[49m\u001b[38;5;241;43m*\u001b[39;49m\u001b[43margs\u001b[49m\u001b[43m,\u001b[49m\u001b[43m \u001b[49m\u001b[38;5;241;43m*\u001b[39;49m\u001b[38;5;241;43m*\u001b[39;49m\u001b[43mkwargs\u001b[49m\u001b[43m)\u001b[49m\n",
      "File \u001b[0;32m/projects/HSC/LSST/stack_20220527/conda/envs/lsst-scipipe-4.0.0/lib/python3.10/site-packages/astropy/io/fits/connect.py:434\u001b[0m, in \u001b[0;36mwrite_table_fits\u001b[0;34m(input, output, overwrite, append)\u001b[0m\n\u001b[1;32m    432\u001b[0m     fits_append(output, table_hdu\u001b[38;5;241m.\u001b[39mdata, table_hdu\u001b[38;5;241m.\u001b[39mheader, verify\u001b[38;5;241m=\u001b[39m\u001b[38;5;28;01mFalse\u001b[39;00m)\n\u001b[1;32m    433\u001b[0m \u001b[38;5;28;01melse\u001b[39;00m:\n\u001b[0;32m--> 434\u001b[0m     \u001b[43mtable_hdu\u001b[49m\u001b[38;5;241;43m.\u001b[39;49m\u001b[43mwriteto\u001b[49m\u001b[43m(\u001b[49m\u001b[43moutput\u001b[49m\u001b[43m)\u001b[49m\n",
      "File \u001b[0;32m/projects/HSC/LSST/stack_20220527/conda/envs/lsst-scipipe-4.0.0/lib/python3.10/site-packages/astropy/io/fits/hdu/base.py:1564\u001b[0m, in \u001b[0;36mExtensionHDU.writeto\u001b[0;34m(self, name, output_verify, overwrite, checksum)\u001b[0m\n\u001b[1;32m   1561\u001b[0m \u001b[38;5;28;01mfrom\u001b[39;00m \u001b[38;5;21;01m.\u001b[39;00m\u001b[38;5;21;01mimage\u001b[39;00m \u001b[38;5;28;01mimport\u001b[39;00m PrimaryHDU\n\u001b[1;32m   1563\u001b[0m hdulist \u001b[38;5;241m=\u001b[39m HDUList([PrimaryHDU(), \u001b[38;5;28mself\u001b[39m])\n\u001b[0;32m-> 1564\u001b[0m \u001b[43mhdulist\u001b[49m\u001b[38;5;241;43m.\u001b[39;49m\u001b[43mwriteto\u001b[49m\u001b[43m(\u001b[49m\u001b[43mname\u001b[49m\u001b[43m,\u001b[49m\u001b[43m \u001b[49m\u001b[43moutput_verify\u001b[49m\u001b[43m,\u001b[49m\u001b[43m \u001b[49m\u001b[43moverwrite\u001b[49m\u001b[38;5;241;43m=\u001b[39;49m\u001b[43moverwrite\u001b[49m\u001b[43m,\u001b[49m\n\u001b[1;32m   1565\u001b[0m \u001b[43m                \u001b[49m\u001b[43mchecksum\u001b[49m\u001b[38;5;241;43m=\u001b[39;49m\u001b[43mchecksum\u001b[49m\u001b[43m)\u001b[49m\n",
      "File \u001b[0;32m/projects/HSC/LSST/stack_20220527/conda/envs/lsst-scipipe-4.0.0/lib/python3.10/site-packages/astropy/io/fits/hdu/hdulist.py:939\u001b[0m, in \u001b[0;36mHDUList.writeto\u001b[0;34m(self, fileobj, output_verify, overwrite, checksum)\u001b[0m\n\u001b[1;32m    935\u001b[0m mode \u001b[38;5;241m=\u001b[39m FILE_MODES[fileobj_mode(fileobj)] \u001b[38;5;28;01mif\u001b[39;00m isfile(fileobj) \u001b[38;5;28;01melse\u001b[39;00m \u001b[38;5;124m'\u001b[39m\u001b[38;5;124mostream\u001b[39m\u001b[38;5;124m'\u001b[39m\n\u001b[1;32m    937\u001b[0m \u001b[38;5;66;03m# This can accept an open file object that's open to write only, or in\u001b[39;00m\n\u001b[1;32m    938\u001b[0m \u001b[38;5;66;03m# append/update modes but only if the file doesn't exist.\u001b[39;00m\n\u001b[0;32m--> 939\u001b[0m fileobj \u001b[38;5;241m=\u001b[39m \u001b[43m_File\u001b[49m\u001b[43m(\u001b[49m\u001b[43mfileobj\u001b[49m\u001b[43m,\u001b[49m\u001b[43m \u001b[49m\u001b[43mmode\u001b[49m\u001b[38;5;241;43m=\u001b[39;49m\u001b[43mmode\u001b[49m\u001b[43m,\u001b[49m\u001b[43m \u001b[49m\u001b[43moverwrite\u001b[49m\u001b[38;5;241;43m=\u001b[39;49m\u001b[43moverwrite\u001b[49m\u001b[43m)\u001b[49m\n\u001b[1;32m    940\u001b[0m hdulist \u001b[38;5;241m=\u001b[39m \u001b[38;5;28mself\u001b[39m\u001b[38;5;241m.\u001b[39mfromfile(fileobj)\n\u001b[1;32m    941\u001b[0m \u001b[38;5;28;01mtry\u001b[39;00m:\n",
      "File \u001b[0;32m/projects/HSC/LSST/stack_20220527/conda/envs/lsst-scipipe-4.0.0/lib/python3.10/site-packages/astropy/io/fits/file.py:170\u001b[0m, in \u001b[0;36m_File.__init__\u001b[0;34m(self, fileobj, mode, memmap, overwrite, cache)\u001b[0m\n\u001b[1;32m    168\u001b[0m     \u001b[38;5;28mself\u001b[39m\u001b[38;5;241m.\u001b[39m_open_fileobj(fileobj, mode, overwrite)\n\u001b[1;32m    169\u001b[0m \u001b[38;5;28;01melif\u001b[39;00m \u001b[38;5;28misinstance\u001b[39m(fileobj, (\u001b[38;5;28mstr\u001b[39m, \u001b[38;5;28mbytes\u001b[39m)):\n\u001b[0;32m--> 170\u001b[0m     \u001b[38;5;28;43mself\u001b[39;49m\u001b[38;5;241;43m.\u001b[39;49m\u001b[43m_open_filename\u001b[49m\u001b[43m(\u001b[49m\u001b[43mfileobj\u001b[49m\u001b[43m,\u001b[49m\u001b[43m \u001b[49m\u001b[43mmode\u001b[49m\u001b[43m,\u001b[49m\u001b[43m \u001b[49m\u001b[43moverwrite\u001b[49m\u001b[43m)\u001b[49m\n\u001b[1;32m    171\u001b[0m \u001b[38;5;28;01melse\u001b[39;00m:\n\u001b[1;32m    172\u001b[0m     \u001b[38;5;28mself\u001b[39m\u001b[38;5;241m.\u001b[39m_open_filelike(fileobj, mode, overwrite)\n",
      "File \u001b[0;32m/projects/HSC/LSST/stack_20220527/conda/envs/lsst-scipipe-4.0.0/lib/python3.10/site-packages/astropy/io/fits/file.py:562\u001b[0m, in \u001b[0;36m_File._open_filename\u001b[0;34m(self, filename, mode, overwrite)\u001b[0m\n\u001b[1;32m    559\u001b[0m ext \u001b[38;5;241m=\u001b[39m os\u001b[38;5;241m.\u001b[39mpath\u001b[38;5;241m.\u001b[39msplitext(\u001b[38;5;28mself\u001b[39m\u001b[38;5;241m.\u001b[39mname)[\u001b[38;5;241m1\u001b[39m]\n\u001b[1;32m    561\u001b[0m \u001b[38;5;28;01mif\u001b[39;00m \u001b[38;5;129;01mnot\u001b[39;00m \u001b[38;5;28mself\u001b[39m\u001b[38;5;241m.\u001b[39m_try_read_compressed(\u001b[38;5;28mself\u001b[39m\u001b[38;5;241m.\u001b[39mname, magic, mode, ext\u001b[38;5;241m=\u001b[39mext):\n\u001b[0;32m--> 562\u001b[0m     \u001b[38;5;28mself\u001b[39m\u001b[38;5;241m.\u001b[39m_file \u001b[38;5;241m=\u001b[39m \u001b[38;5;28;43mopen\u001b[39;49m\u001b[43m(\u001b[49m\u001b[38;5;28;43mself\u001b[39;49m\u001b[38;5;241;43m.\u001b[39;49m\u001b[43mname\u001b[49m\u001b[43m,\u001b[49m\u001b[43m \u001b[49m\u001b[43mIO_FITS_MODES\u001b[49m\u001b[43m[\u001b[49m\u001b[43mmode\u001b[49m\u001b[43m]\u001b[49m\u001b[43m)\u001b[49m\n\u001b[1;32m    563\u001b[0m     \u001b[38;5;28mself\u001b[39m\u001b[38;5;241m.\u001b[39mclose_on_error \u001b[38;5;241m=\u001b[39m \u001b[38;5;28;01mTrue\u001b[39;00m\n\u001b[1;32m    565\u001b[0m \u001b[38;5;66;03m# Make certain we're back at the beginning of the file\u001b[39;00m\n\u001b[1;32m    566\u001b[0m \u001b[38;5;66;03m# BZ2File does not support seek when the file is open for writing, but\u001b[39;00m\n\u001b[1;32m    567\u001b[0m \u001b[38;5;66;03m# when opening a file for write, bz2.BZ2File always truncates anyway.\u001b[39;00m\n",
      "\u001b[0;31mFileNotFoundError\u001b[0m: [Errno 2] No such file or directory: '/projects/MERIAN/repo/S20A/gaapTable/9813/1,6/S20A_blendedness_1,6.fits'"
     ]
    }
   ],
   "source": [
    "for i in range(0, 8):\n",
    "    for j in range(0, 8):\n",
    "        download_blendedness(tract=9813, patch=f'{i},{j}', save=True)"
   ]
  },
  {
   "cell_type": "code",
   "execution_count": null,
   "id": "87a09479",
   "metadata": {},
   "outputs": [],
   "source": []
  },
  {
   "cell_type": "code",
   "execution_count": null,
   "id": "1f2b6962",
   "metadata": {},
   "outputs": [],
   "source": []
  },
  {
   "cell_type": "code",
   "execution_count": null,
   "id": "614bf06a",
   "metadata": {},
   "outputs": [],
   "source": []
  },
  {
   "cell_type": "markdown",
   "id": "89fa336c",
   "metadata": {},
   "source": [
    "---"
   ]
  },
  {
   "cell_type": "code",
   "execution_count": 18,
   "id": "e7ef86b5",
   "metadata": {
    "scrolled": true
   },
   "outputs": [
    {
     "name": "stdout",
     "output_type": "stream",
     "text": [
      "# Get table list from /home/jiaxuanl/.local/lib/python3.10/site-packages/unagi-0.1.3.dev19-py3.10.egg/unagi/data/s20a_wide/s20a_wide_tables.fits\n"
     ]
    }
   ],
   "source": [
    "from unagi import hsc\n",
    "s20a = hsc.Hsc(dr='dr3', rerun='s20a_wide')"
   ]
  },
  {
   "cell_type": "code",
   "execution_count": 10,
   "id": "d2d3fbf6",
   "metadata": {},
   "outputs": [],
   "source": [
    "def download_hsc(outdir='/projects/MERIAN/repo/S20A', \n",
    "                 tract=9813, patch='8,6', filt='i'):\n",
    "    outdir = os.path.join(outdir, str(tract), str(patch))\n",
    "    if not os.path.isdir(outdir):\n",
    "        os.makedirs(outdir)\n",
    "    filename = os.path.join(outdir, filename)\n",
    "    if not os.path.isfile(filename):\n",
    "        s20a.download_patch(tract, patch, filt=f'HSC-{filt.upper()}', output_file=filename)\n",
    "        print('# Downloading ' + filename + ' finished! ') "
   ]
  },
  {
   "cell_type": "code",
   "execution_count": null,
   "id": "bf320d3b",
   "metadata": {},
   "outputs": [
    {
     "name": "stdout",
     "output_type": "stream",
     "text": [
      "# Downloading FITS image from https://hscdata.mtk.nao.ac.jp/hsc_ssp/dr3/s20a/data/s20a_wide/deepCoadd-results/HSC-G/9813/0,0/calexp-HSC-G-9813-0,0.fits\n",
      "# Downloading /projects/MERIAN/repo/S20A/9813/0,0/calexp-HSC-G-9813-0,0.fits finished! \n",
      "# Downloading FITS image from https://hscdata.mtk.nao.ac.jp/hsc_ssp/dr3/s20a/data/s20a_wide/deepCoadd-results/HSC-R/9813/0,0/calexp-HSC-R-9813-0,0.fits\n",
      "# Downloading /projects/MERIAN/repo/S20A/9813/0,0/calexp-HSC-R-9813-0,0.fits finished! \n",
      "# Downloading FITS image from https://hscdata.mtk.nao.ac.jp/hsc_ssp/dr3/s20a/data/s20a_wide/deepCoadd-results/HSC-I/9813/0,0/calexp-HSC-I-9813-0,0.fits\n",
      "# Downloading /projects/MERIAN/repo/S20A/9813/0,0/calexp-HSC-I-9813-0,0.fits finished! \n",
      "# Downloading FITS image from https://hscdata.mtk.nao.ac.jp/hsc_ssp/dr3/s20a/data/s20a_wide/deepCoadd-results/HSC-Z/9813/0,0/calexp-HSC-Z-9813-0,0.fits\n",
      "# Downloading /projects/MERIAN/repo/S20A/9813/0,0/calexp-HSC-Z-9813-0,0.fits finished! \n",
      "# Downloading FITS image from https://hscdata.mtk.nao.ac.jp/hsc_ssp/dr3/s20a/data/s20a_wide/deepCoadd-results/HSC-Y/9813/0,0/calexp-HSC-Y-9813-0,0.fits\n",
      "# Downloading /projects/MERIAN/repo/S20A/9813/0,0/calexp-HSC-Y-9813-0,0.fits finished! \n",
      "# Downloading FITS image from https://hscdata.mtk.nao.ac.jp/hsc_ssp/dr3/s20a/data/s20a_wide/deepCoadd-results/HSC-G/9813/0,1/calexp-HSC-G-9813-0,1.fits\n",
      "# Downloading /projects/MERIAN/repo/S20A/9813/0,1/calexp-HSC-G-9813-0,1.fits finished! \n",
      "# Downloading FITS image from https://hscdata.mtk.nao.ac.jp/hsc_ssp/dr3/s20a/data/s20a_wide/deepCoadd-results/HSC-R/9813/0,1/calexp-HSC-R-9813-0,1.fits\n",
      "# Downloading /projects/MERIAN/repo/S20A/9813/0,1/calexp-HSC-R-9813-0,1.fits finished! \n",
      "# Downloading FITS image from https://hscdata.mtk.nao.ac.jp/hsc_ssp/dr3/s20a/data/s20a_wide/deepCoadd-results/HSC-I/9813/0,1/calexp-HSC-I-9813-0,1.fits\n",
      "# Downloading /projects/MERIAN/repo/S20A/9813/0,1/calexp-HSC-I-9813-0,1.fits finished! \n",
      "# Downloading FITS image from https://hscdata.mtk.nao.ac.jp/hsc_ssp/dr3/s20a/data/s20a_wide/deepCoadd-results/HSC-Z/9813/0,1/calexp-HSC-Z-9813-0,1.fits\n",
      "# Downloading /projects/MERIAN/repo/S20A/9813/0,1/calexp-HSC-Z-9813-0,1.fits finished! \n",
      "# Downloading FITS image from https://hscdata.mtk.nao.ac.jp/hsc_ssp/dr3/s20a/data/s20a_wide/deepCoadd-results/HSC-Y/9813/0,1/calexp-HSC-Y-9813-0,1.fits\n",
      "# Downloading /projects/MERIAN/repo/S20A/9813/0,1/calexp-HSC-Y-9813-0,1.fits finished! \n",
      "# Downloading FITS image from https://hscdata.mtk.nao.ac.jp/hsc_ssp/dr3/s20a/data/s20a_wide/deepCoadd-results/HSC-G/9813/0,2/calexp-HSC-G-9813-0,2.fits\n",
      "# Downloading /projects/MERIAN/repo/S20A/9813/0,2/calexp-HSC-G-9813-0,2.fits finished! \n",
      "# Downloading FITS image from https://hscdata.mtk.nao.ac.jp/hsc_ssp/dr3/s20a/data/s20a_wide/deepCoadd-results/HSC-R/9813/0,2/calexp-HSC-R-9813-0,2.fits\n",
      "# Downloading /projects/MERIAN/repo/S20A/9813/0,2/calexp-HSC-R-9813-0,2.fits finished! \n",
      "# Downloading FITS image from https://hscdata.mtk.nao.ac.jp/hsc_ssp/dr3/s20a/data/s20a_wide/deepCoadd-results/HSC-I/9813/0,2/calexp-HSC-I-9813-0,2.fits\n",
      "# Downloading /projects/MERIAN/repo/S20A/9813/0,2/calexp-HSC-I-9813-0,2.fits finished! \n",
      "# Downloading FITS image from https://hscdata.mtk.nao.ac.jp/hsc_ssp/dr3/s20a/data/s20a_wide/deepCoadd-results/HSC-Z/9813/0,2/calexp-HSC-Z-9813-0,2.fits\n",
      "# Downloading /projects/MERIAN/repo/S20A/9813/0,2/calexp-HSC-Z-9813-0,2.fits finished! \n",
      "# Downloading FITS image from https://hscdata.mtk.nao.ac.jp/hsc_ssp/dr3/s20a/data/s20a_wide/deepCoadd-results/HSC-Y/9813/0,2/calexp-HSC-Y-9813-0,2.fits\n",
      "# Downloading /projects/MERIAN/repo/S20A/9813/0,2/calexp-HSC-Y-9813-0,2.fits finished! \n",
      "# Downloading FITS image from https://hscdata.mtk.nao.ac.jp/hsc_ssp/dr3/s20a/data/s20a_wide/deepCoadd-results/HSC-G/9813/0,3/calexp-HSC-G-9813-0,3.fits\n",
      "# Downloading /projects/MERIAN/repo/S20A/9813/0,3/calexp-HSC-G-9813-0,3.fits finished! \n",
      "# Downloading FITS image from https://hscdata.mtk.nao.ac.jp/hsc_ssp/dr3/s20a/data/s20a_wide/deepCoadd-results/HSC-R/9813/0,3/calexp-HSC-R-9813-0,3.fits\n",
      "# Downloading /projects/MERIAN/repo/S20A/9813/0,3/calexp-HSC-R-9813-0,3.fits finished! \n",
      "# Downloading FITS image from https://hscdata.mtk.nao.ac.jp/hsc_ssp/dr3/s20a/data/s20a_wide/deepCoadd-results/HSC-I/9813/0,3/calexp-HSC-I-9813-0,3.fits\n",
      "# Downloading /projects/MERIAN/repo/S20A/9813/0,3/calexp-HSC-I-9813-0,3.fits finished! \n",
      "# Downloading FITS image from https://hscdata.mtk.nao.ac.jp/hsc_ssp/dr3/s20a/data/s20a_wide/deepCoadd-results/HSC-Z/9813/0,3/calexp-HSC-Z-9813-0,3.fits\n",
      "# Downloading /projects/MERIAN/repo/S20A/9813/0,3/calexp-HSC-Z-9813-0,3.fits finished! \n",
      "# Downloading FITS image from https://hscdata.mtk.nao.ac.jp/hsc_ssp/dr3/s20a/data/s20a_wide/deepCoadd-results/HSC-Y/9813/0,3/calexp-HSC-Y-9813-0,3.fits\n",
      "# Downloading /projects/MERIAN/repo/S20A/9813/0,3/calexp-HSC-Y-9813-0,3.fits finished! \n",
      "# Downloading FITS image from https://hscdata.mtk.nao.ac.jp/hsc_ssp/dr3/s20a/data/s20a_wide/deepCoadd-results/HSC-G/9813/0,4/calexp-HSC-G-9813-0,4.fits\n",
      "# Downloading /projects/MERIAN/repo/S20A/9813/0,4/calexp-HSC-G-9813-0,4.fits finished! \n",
      "# Downloading FITS image from https://hscdata.mtk.nao.ac.jp/hsc_ssp/dr3/s20a/data/s20a_wide/deepCoadd-results/HSC-R/9813/0,4/calexp-HSC-R-9813-0,4.fits\n",
      "# Downloading /projects/MERIAN/repo/S20A/9813/0,4/calexp-HSC-R-9813-0,4.fits finished! \n",
      "# Downloading FITS image from https://hscdata.mtk.nao.ac.jp/hsc_ssp/dr3/s20a/data/s20a_wide/deepCoadd-results/HSC-I/9813/0,4/calexp-HSC-I-9813-0,4.fits\n",
      "# Downloading /projects/MERIAN/repo/S20A/9813/0,4/calexp-HSC-I-9813-0,4.fits finished! \n",
      "# Downloading FITS image from https://hscdata.mtk.nao.ac.jp/hsc_ssp/dr3/s20a/data/s20a_wide/deepCoadd-results/HSC-Z/9813/0,4/calexp-HSC-Z-9813-0,4.fits\n",
      "# Downloading /projects/MERIAN/repo/S20A/9813/0,4/calexp-HSC-Z-9813-0,4.fits finished! \n",
      "# Downloading FITS image from https://hscdata.mtk.nao.ac.jp/hsc_ssp/dr3/s20a/data/s20a_wide/deepCoadd-results/HSC-Y/9813/0,4/calexp-HSC-Y-9813-0,4.fits\n",
      "# Downloading /projects/MERIAN/repo/S20A/9813/0,4/calexp-HSC-Y-9813-0,4.fits finished! \n",
      "# Downloading FITS image from https://hscdata.mtk.nao.ac.jp/hsc_ssp/dr3/s20a/data/s20a_wide/deepCoadd-results/HSC-G/9813/0,5/calexp-HSC-G-9813-0,5.fits\n",
      "# Downloading /projects/MERIAN/repo/S20A/9813/0,5/calexp-HSC-G-9813-0,5.fits finished! \n",
      "# Downloading FITS image from https://hscdata.mtk.nao.ac.jp/hsc_ssp/dr3/s20a/data/s20a_wide/deepCoadd-results/HSC-R/9813/0,5/calexp-HSC-R-9813-0,5.fits\n",
      "# Downloading /projects/MERIAN/repo/S20A/9813/0,5/calexp-HSC-R-9813-0,5.fits finished! \n",
      "# Downloading FITS image from https://hscdata.mtk.nao.ac.jp/hsc_ssp/dr3/s20a/data/s20a_wide/deepCoadd-results/HSC-I/9813/0,5/calexp-HSC-I-9813-0,5.fits\n",
      "# Downloading /projects/MERIAN/repo/S20A/9813/0,5/calexp-HSC-I-9813-0,5.fits finished! \n",
      "# Downloading FITS image from https://hscdata.mtk.nao.ac.jp/hsc_ssp/dr3/s20a/data/s20a_wide/deepCoadd-results/HSC-Z/9813/0,5/calexp-HSC-Z-9813-0,5.fits\n",
      "# Downloading /projects/MERIAN/repo/S20A/9813/0,5/calexp-HSC-Z-9813-0,5.fits finished! \n",
      "# Downloading FITS image from https://hscdata.mtk.nao.ac.jp/hsc_ssp/dr3/s20a/data/s20a_wide/deepCoadd-results/HSC-Y/9813/0,5/calexp-HSC-Y-9813-0,5.fits\n",
      "# Downloading /projects/MERIAN/repo/S20A/9813/0,5/calexp-HSC-Y-9813-0,5.fits finished! \n",
      "# Downloading FITS image from https://hscdata.mtk.nao.ac.jp/hsc_ssp/dr3/s20a/data/s20a_wide/deepCoadd-results/HSC-G/9813/0,6/calexp-HSC-G-9813-0,6.fits\n",
      "# Downloading /projects/MERIAN/repo/S20A/9813/0,6/calexp-HSC-G-9813-0,6.fits finished! \n",
      "# Downloading FITS image from https://hscdata.mtk.nao.ac.jp/hsc_ssp/dr3/s20a/data/s20a_wide/deepCoadd-results/HSC-R/9813/0,6/calexp-HSC-R-9813-0,6.fits\n",
      "# Downloading /projects/MERIAN/repo/S20A/9813/0,6/calexp-HSC-R-9813-0,6.fits finished! \n",
      "# Downloading FITS image from https://hscdata.mtk.nao.ac.jp/hsc_ssp/dr3/s20a/data/s20a_wide/deepCoadd-results/HSC-I/9813/0,6/calexp-HSC-I-9813-0,6.fits\n",
      "# Downloading /projects/MERIAN/repo/S20A/9813/0,6/calexp-HSC-I-9813-0,6.fits finished! \n",
      "# Downloading FITS image from https://hscdata.mtk.nao.ac.jp/hsc_ssp/dr3/s20a/data/s20a_wide/deepCoadd-results/HSC-Z/9813/0,6/calexp-HSC-Z-9813-0,6.fits\n",
      "# Downloading /projects/MERIAN/repo/S20A/9813/0,6/calexp-HSC-Z-9813-0,6.fits finished! \n",
      "# Downloading FITS image from https://hscdata.mtk.nao.ac.jp/hsc_ssp/dr3/s20a/data/s20a_wide/deepCoadd-results/HSC-Y/9813/0,6/calexp-HSC-Y-9813-0,6.fits\n"
     ]
    },
    {
     "name": "stdout",
     "output_type": "stream",
     "text": [
      "# Downloading /projects/MERIAN/repo/S20A/9813/0,6/calexp-HSC-Y-9813-0,6.fits finished! \n",
      "# Downloading FITS image from https://hscdata.mtk.nao.ac.jp/hsc_ssp/dr3/s20a/data/s20a_wide/deepCoadd-results/HSC-G/9813/0,7/calexp-HSC-G-9813-0,7.fits\n",
      "# Downloading /projects/MERIAN/repo/S20A/9813/0,7/calexp-HSC-G-9813-0,7.fits finished! \n",
      "# Downloading FITS image from https://hscdata.mtk.nao.ac.jp/hsc_ssp/dr3/s20a/data/s20a_wide/deepCoadd-results/HSC-R/9813/0,7/calexp-HSC-R-9813-0,7.fits\n",
      "# Downloading /projects/MERIAN/repo/S20A/9813/0,7/calexp-HSC-R-9813-0,7.fits finished! \n",
      "# Downloading FITS image from https://hscdata.mtk.nao.ac.jp/hsc_ssp/dr3/s20a/data/s20a_wide/deepCoadd-results/HSC-I/9813/0,7/calexp-HSC-I-9813-0,7.fits\n",
      "# Downloading /projects/MERIAN/repo/S20A/9813/0,7/calexp-HSC-I-9813-0,7.fits finished! \n",
      "# Downloading FITS image from https://hscdata.mtk.nao.ac.jp/hsc_ssp/dr3/s20a/data/s20a_wide/deepCoadd-results/HSC-Z/9813/0,7/calexp-HSC-Z-9813-0,7.fits\n",
      "# Downloading /projects/MERIAN/repo/S20A/9813/0,7/calexp-HSC-Z-9813-0,7.fits finished! \n",
      "# Downloading FITS image from https://hscdata.mtk.nao.ac.jp/hsc_ssp/dr3/s20a/data/s20a_wide/deepCoadd-results/HSC-Y/9813/0,7/calexp-HSC-Y-9813-0,7.fits\n",
      "# Downloading /projects/MERIAN/repo/S20A/9813/0,7/calexp-HSC-Y-9813-0,7.fits finished! \n",
      "# Downloading FITS image from https://hscdata.mtk.nao.ac.jp/hsc_ssp/dr3/s20a/data/s20a_wide/deepCoadd-results/HSC-G/9813/1,0/calexp-HSC-G-9813-1,0.fits\n",
      "# Downloading /projects/MERIAN/repo/S20A/9813/1,0/calexp-HSC-G-9813-1,0.fits finished! \n",
      "# Downloading FITS image from https://hscdata.mtk.nao.ac.jp/hsc_ssp/dr3/s20a/data/s20a_wide/deepCoadd-results/HSC-R/9813/1,0/calexp-HSC-R-9813-1,0.fits\n",
      "# Downloading /projects/MERIAN/repo/S20A/9813/1,0/calexp-HSC-R-9813-1,0.fits finished! \n",
      "# Downloading FITS image from https://hscdata.mtk.nao.ac.jp/hsc_ssp/dr3/s20a/data/s20a_wide/deepCoadd-results/HSC-I/9813/1,0/calexp-HSC-I-9813-1,0.fits\n",
      "# Downloading /projects/MERIAN/repo/S20A/9813/1,0/calexp-HSC-I-9813-1,0.fits finished! \n",
      "# Downloading FITS image from https://hscdata.mtk.nao.ac.jp/hsc_ssp/dr3/s20a/data/s20a_wide/deepCoadd-results/HSC-Z/9813/1,0/calexp-HSC-Z-9813-1,0.fits\n",
      "# Downloading /projects/MERIAN/repo/S20A/9813/1,0/calexp-HSC-Z-9813-1,0.fits finished! \n",
      "# Downloading FITS image from https://hscdata.mtk.nao.ac.jp/hsc_ssp/dr3/s20a/data/s20a_wide/deepCoadd-results/HSC-Y/9813/1,0/calexp-HSC-Y-9813-1,0.fits\n",
      "# Downloading /projects/MERIAN/repo/S20A/9813/1,0/calexp-HSC-Y-9813-1,0.fits finished! \n",
      "# Downloading FITS image from https://hscdata.mtk.nao.ac.jp/hsc_ssp/dr3/s20a/data/s20a_wide/deepCoadd-results/HSC-G/9813/1,1/calexp-HSC-G-9813-1,1.fits\n",
      "# Downloading /projects/MERIAN/repo/S20A/9813/1,1/calexp-HSC-G-9813-1,1.fits finished! \n",
      "# Downloading FITS image from https://hscdata.mtk.nao.ac.jp/hsc_ssp/dr3/s20a/data/s20a_wide/deepCoadd-results/HSC-R/9813/1,1/calexp-HSC-R-9813-1,1.fits\n",
      "# Downloading /projects/MERIAN/repo/S20A/9813/1,1/calexp-HSC-R-9813-1,1.fits finished! \n",
      "# Downloading FITS image from https://hscdata.mtk.nao.ac.jp/hsc_ssp/dr3/s20a/data/s20a_wide/deepCoadd-results/HSC-I/9813/1,1/calexp-HSC-I-9813-1,1.fits\n",
      "# Downloading /projects/MERIAN/repo/S20A/9813/1,1/calexp-HSC-I-9813-1,1.fits finished! \n",
      "# Downloading FITS image from https://hscdata.mtk.nao.ac.jp/hsc_ssp/dr3/s20a/data/s20a_wide/deepCoadd-results/HSC-Z/9813/1,1/calexp-HSC-Z-9813-1,1.fits\n",
      "# Downloading /projects/MERIAN/repo/S20A/9813/1,1/calexp-HSC-Z-9813-1,1.fits finished! \n",
      "# Downloading FITS image from https://hscdata.mtk.nao.ac.jp/hsc_ssp/dr3/s20a/data/s20a_wide/deepCoadd-results/HSC-Y/9813/1,1/calexp-HSC-Y-9813-1,1.fits\n",
      "# Downloading /projects/MERIAN/repo/S20A/9813/1,1/calexp-HSC-Y-9813-1,1.fits finished! \n",
      "# Downloading FITS image from https://hscdata.mtk.nao.ac.jp/hsc_ssp/dr3/s20a/data/s20a_wide/deepCoadd-results/HSC-G/9813/1,2/calexp-HSC-G-9813-1,2.fits\n",
      "# Downloading /projects/MERIAN/repo/S20A/9813/1,2/calexp-HSC-G-9813-1,2.fits finished! \n",
      "# Downloading FITS image from https://hscdata.mtk.nao.ac.jp/hsc_ssp/dr3/s20a/data/s20a_wide/deepCoadd-results/HSC-R/9813/1,2/calexp-HSC-R-9813-1,2.fits\n",
      "# Downloading /projects/MERIAN/repo/S20A/9813/1,2/calexp-HSC-R-9813-1,2.fits finished! \n",
      "# Downloading FITS image from https://hscdata.mtk.nao.ac.jp/hsc_ssp/dr3/s20a/data/s20a_wide/deepCoadd-results/HSC-I/9813/1,2/calexp-HSC-I-9813-1,2.fits\n",
      "# Downloading /projects/MERIAN/repo/S20A/9813/1,2/calexp-HSC-I-9813-1,2.fits finished! \n",
      "# Downloading FITS image from https://hscdata.mtk.nao.ac.jp/hsc_ssp/dr3/s20a/data/s20a_wide/deepCoadd-results/HSC-Z/9813/1,2/calexp-HSC-Z-9813-1,2.fits\n",
      "# Downloading /projects/MERIAN/repo/S20A/9813/1,2/calexp-HSC-Z-9813-1,2.fits finished! \n",
      "# Downloading FITS image from https://hscdata.mtk.nao.ac.jp/hsc_ssp/dr3/s20a/data/s20a_wide/deepCoadd-results/HSC-Y/9813/1,2/calexp-HSC-Y-9813-1,2.fits\n",
      "# Downloading /projects/MERIAN/repo/S20A/9813/1,2/calexp-HSC-Y-9813-1,2.fits finished! \n",
      "# Downloading FITS image from https://hscdata.mtk.nao.ac.jp/hsc_ssp/dr3/s20a/data/s20a_wide/deepCoadd-results/HSC-G/9813/1,3/calexp-HSC-G-9813-1,3.fits\n",
      "# Downloading /projects/MERIAN/repo/S20A/9813/1,3/calexp-HSC-G-9813-1,3.fits finished! \n",
      "# Downloading FITS image from https://hscdata.mtk.nao.ac.jp/hsc_ssp/dr3/s20a/data/s20a_wide/deepCoadd-results/HSC-R/9813/1,3/calexp-HSC-R-9813-1,3.fits\n",
      "# Downloading /projects/MERIAN/repo/S20A/9813/1,3/calexp-HSC-R-9813-1,3.fits finished! \n",
      "# Downloading FITS image from https://hscdata.mtk.nao.ac.jp/hsc_ssp/dr3/s20a/data/s20a_wide/deepCoadd-results/HSC-I/9813/1,3/calexp-HSC-I-9813-1,3.fits\n",
      "# Downloading /projects/MERIAN/repo/S20A/9813/1,3/calexp-HSC-I-9813-1,3.fits finished! \n",
      "# Downloading FITS image from https://hscdata.mtk.nao.ac.jp/hsc_ssp/dr3/s20a/data/s20a_wide/deepCoadd-results/HSC-Z/9813/1,3/calexp-HSC-Z-9813-1,3.fits\n",
      "# Downloading /projects/MERIAN/repo/S20A/9813/1,3/calexp-HSC-Z-9813-1,3.fits finished! \n",
      "# Downloading FITS image from https://hscdata.mtk.nao.ac.jp/hsc_ssp/dr3/s20a/data/s20a_wide/deepCoadd-results/HSC-Y/9813/1,3/calexp-HSC-Y-9813-1,3.fits\n",
      "# Downloading /projects/MERIAN/repo/S20A/9813/1,3/calexp-HSC-Y-9813-1,3.fits finished! \n",
      "# Downloading FITS image from https://hscdata.mtk.nao.ac.jp/hsc_ssp/dr3/s20a/data/s20a_wide/deepCoadd-results/HSC-G/9813/1,4/calexp-HSC-G-9813-1,4.fits\n",
      "# Downloading /projects/MERIAN/repo/S20A/9813/1,4/calexp-HSC-G-9813-1,4.fits finished! \n",
      "# Downloading FITS image from https://hscdata.mtk.nao.ac.jp/hsc_ssp/dr3/s20a/data/s20a_wide/deepCoadd-results/HSC-R/9813/1,4/calexp-HSC-R-9813-1,4.fits\n",
      "# Downloading /projects/MERIAN/repo/S20A/9813/1,4/calexp-HSC-R-9813-1,4.fits finished! \n",
      "# Downloading FITS image from https://hscdata.mtk.nao.ac.jp/hsc_ssp/dr3/s20a/data/s20a_wide/deepCoadd-results/HSC-I/9813/1,4/calexp-HSC-I-9813-1,4.fits\n",
      "# Downloading /projects/MERIAN/repo/S20A/9813/1,4/calexp-HSC-I-9813-1,4.fits finished! \n",
      "# Downloading FITS image from https://hscdata.mtk.nao.ac.jp/hsc_ssp/dr3/s20a/data/s20a_wide/deepCoadd-results/HSC-Z/9813/1,4/calexp-HSC-Z-9813-1,4.fits\n",
      "# Downloading /projects/MERIAN/repo/S20A/9813/1,4/calexp-HSC-Z-9813-1,4.fits finished! \n",
      "# Downloading FITS image from https://hscdata.mtk.nao.ac.jp/hsc_ssp/dr3/s20a/data/s20a_wide/deepCoadd-results/HSC-Y/9813/1,4/calexp-HSC-Y-9813-1,4.fits\n",
      "# Downloading /projects/MERIAN/repo/S20A/9813/1,4/calexp-HSC-Y-9813-1,4.fits finished! \n",
      "# Downloading FITS image from https://hscdata.mtk.nao.ac.jp/hsc_ssp/dr3/s20a/data/s20a_wide/deepCoadd-results/HSC-G/9813/1,5/calexp-HSC-G-9813-1,5.fits\n",
      "# Downloading /projects/MERIAN/repo/S20A/9813/1,5/calexp-HSC-G-9813-1,5.fits finished! \n",
      "# Downloading FITS image from https://hscdata.mtk.nao.ac.jp/hsc_ssp/dr3/s20a/data/s20a_wide/deepCoadd-results/HSC-R/9813/1,5/calexp-HSC-R-9813-1,5.fits\n",
      "# Downloading /projects/MERIAN/repo/S20A/9813/1,5/calexp-HSC-R-9813-1,5.fits finished! \n",
      "# Downloading FITS image from https://hscdata.mtk.nao.ac.jp/hsc_ssp/dr3/s20a/data/s20a_wide/deepCoadd-results/HSC-I/9813/1,5/calexp-HSC-I-9813-1,5.fits\n",
      "# Downloading /projects/MERIAN/repo/S20A/9813/1,5/calexp-HSC-I-9813-1,5.fits finished! \n",
      "# Downloading FITS image from https://hscdata.mtk.nao.ac.jp/hsc_ssp/dr3/s20a/data/s20a_wide/deepCoadd-results/HSC-Z/9813/1,5/calexp-HSC-Z-9813-1,5.fits\n",
      "# Downloading /projects/MERIAN/repo/S20A/9813/1,5/calexp-HSC-Z-9813-1,5.fits finished! \n",
      "# Downloading FITS image from https://hscdata.mtk.nao.ac.jp/hsc_ssp/dr3/s20a/data/s20a_wide/deepCoadd-results/HSC-Y/9813/1,5/calexp-HSC-Y-9813-1,5.fits\n"
     ]
    },
    {
     "name": "stdout",
     "output_type": "stream",
     "text": [
      "# Downloading /projects/MERIAN/repo/S20A/9813/1,5/calexp-HSC-Y-9813-1,5.fits finished! \n",
      "# Downloading FITS image from https://hscdata.mtk.nao.ac.jp/hsc_ssp/dr3/s20a/data/s20a_wide/deepCoadd-results/HSC-G/9813/1,6/calexp-HSC-G-9813-1,6.fits\n",
      "# Downloading /projects/MERIAN/repo/S20A/9813/1,6/calexp-HSC-G-9813-1,6.fits finished! \n",
      "# Downloading FITS image from https://hscdata.mtk.nao.ac.jp/hsc_ssp/dr3/s20a/data/s20a_wide/deepCoadd-results/HSC-R/9813/1,6/calexp-HSC-R-9813-1,6.fits\n",
      "# Downloading /projects/MERIAN/repo/S20A/9813/1,6/calexp-HSC-R-9813-1,6.fits finished! \n",
      "# Downloading FITS image from https://hscdata.mtk.nao.ac.jp/hsc_ssp/dr3/s20a/data/s20a_wide/deepCoadd-results/HSC-I/9813/1,6/calexp-HSC-I-9813-1,6.fits\n",
      "# Downloading /projects/MERIAN/repo/S20A/9813/1,6/calexp-HSC-I-9813-1,6.fits finished! \n",
      "# Downloading FITS image from https://hscdata.mtk.nao.ac.jp/hsc_ssp/dr3/s20a/data/s20a_wide/deepCoadd-results/HSC-Z/9813/1,6/calexp-HSC-Z-9813-1,6.fits\n",
      "# Downloading /projects/MERIAN/repo/S20A/9813/1,6/calexp-HSC-Z-9813-1,6.fits finished! \n",
      "# Downloading FITS image from https://hscdata.mtk.nao.ac.jp/hsc_ssp/dr3/s20a/data/s20a_wide/deepCoadd-results/HSC-Y/9813/1,6/calexp-HSC-Y-9813-1,6.fits\n",
      "# Downloading /projects/MERIAN/repo/S20A/9813/1,6/calexp-HSC-Y-9813-1,6.fits finished! \n",
      "# Downloading FITS image from https://hscdata.mtk.nao.ac.jp/hsc_ssp/dr3/s20a/data/s20a_wide/deepCoadd-results/HSC-G/9813/1,7/calexp-HSC-G-9813-1,7.fits\n",
      "# Downloading /projects/MERIAN/repo/S20A/9813/1,7/calexp-HSC-G-9813-1,7.fits finished! \n",
      "# Downloading FITS image from https://hscdata.mtk.nao.ac.jp/hsc_ssp/dr3/s20a/data/s20a_wide/deepCoadd-results/HSC-R/9813/1,7/calexp-HSC-R-9813-1,7.fits\n",
      "# Downloading /projects/MERIAN/repo/S20A/9813/1,7/calexp-HSC-R-9813-1,7.fits finished! \n",
      "# Downloading FITS image from https://hscdata.mtk.nao.ac.jp/hsc_ssp/dr3/s20a/data/s20a_wide/deepCoadd-results/HSC-I/9813/1,7/calexp-HSC-I-9813-1,7.fits\n",
      "# Downloading /projects/MERIAN/repo/S20A/9813/1,7/calexp-HSC-I-9813-1,7.fits finished! \n",
      "# Downloading FITS image from https://hscdata.mtk.nao.ac.jp/hsc_ssp/dr3/s20a/data/s20a_wide/deepCoadd-results/HSC-Z/9813/1,7/calexp-HSC-Z-9813-1,7.fits\n",
      "# Downloading /projects/MERIAN/repo/S20A/9813/1,7/calexp-HSC-Z-9813-1,7.fits finished! \n",
      "# Downloading FITS image from https://hscdata.mtk.nao.ac.jp/hsc_ssp/dr3/s20a/data/s20a_wide/deepCoadd-results/HSC-Y/9813/1,7/calexp-HSC-Y-9813-1,7.fits\n"
     ]
    }
   ],
   "source": [
    "for i in range(0, 8):\n",
    "    for j in range(0, 8):\n",
    "        for filt in list('grizy'):\n",
    "            download_hsc(tract=9813, patch=f'{i},{j}', filt=filt)"
   ]
  },
  {
   "cell_type": "code",
   "execution_count": 11,
   "id": "51e51162",
   "metadata": {},
   "outputs": [
    {
     "name": "stdout",
     "output_type": "stream",
     "text": [
      "# Downloading FITS image from https://hscdata.mtk.nao.ac.jp/hsc_ssp/dr3/s20a/data/s20a_wide/deepCoadd-results/HSC-G/9813/7,8/calexp-HSC-G-9813-7,8.fits\n",
      "# Downloading /projects/MERIAN/repo/S20A/9813/7,8/calexp-HSC-G-9813-7,8.fits finished! \n",
      "# Downloading FITS image from https://hscdata.mtk.nao.ac.jp/hsc_ssp/dr3/s20a/data/s20a_wide/deepCoadd-results/HSC-R/9813/7,8/calexp-HSC-R-9813-7,8.fits\n",
      "# Downloading /projects/MERIAN/repo/S20A/9813/7,8/calexp-HSC-R-9813-7,8.fits finished! \n",
      "# Downloading FITS image from https://hscdata.mtk.nao.ac.jp/hsc_ssp/dr3/s20a/data/s20a_wide/deepCoadd-results/HSC-I/9813/7,8/calexp-HSC-I-9813-7,8.fits\n",
      "# Downloading /projects/MERIAN/repo/S20A/9813/7,8/calexp-HSC-I-9813-7,8.fits finished! \n",
      "# Downloading FITS image from https://hscdata.mtk.nao.ac.jp/hsc_ssp/dr3/s20a/data/s20a_wide/deepCoadd-results/HSC-Z/9813/7,8/calexp-HSC-Z-9813-7,8.fits\n",
      "# Downloading /projects/MERIAN/repo/S20A/9813/7,8/calexp-HSC-Z-9813-7,8.fits finished! \n",
      "# Downloading FITS image from https://hscdata.mtk.nao.ac.jp/hsc_ssp/dr3/s20a/data/s20a_wide/deepCoadd-results/HSC-Y/9813/7,8/calexp-HSC-Y-9813-7,8.fits\n",
      "# Downloading /projects/MERIAN/repo/S20A/9813/7,8/calexp-HSC-Y-9813-7,8.fits finished! \n"
     ]
    }
   ],
   "source": [
    "for filt in list('grizy'):\n",
    "    download_hsc(tract=9813, patch='7,8', filt=filt)"
   ]
  },
  {
   "cell_type": "markdown",
   "id": "7a227389",
   "metadata": {},
   "source": [
    "### SQL to get blendedness"
   ]
  },
  {
   "cell_type": "code",
   "execution_count": 27,
   "id": "a56ca194",
   "metadata": {},
   "outputs": [
    {
     "name": "stdout",
     "output_type": "stream",
     "text": [
      "# Get table list from /home/jiaxuanl/.local/lib/python3.10/site-packages/unagi-0.1.3.dev19-py3.10.egg/unagi/data/s20a_wide/s20a_wide_tables.fits\n"
     ]
    }
   ],
   "source": [
    "from unagi import hsc\n",
    "s20a = hsc.Hsc(dr='dr3', rerun='s20a_wide')"
   ]
  },
  {
   "cell_type": "code",
   "execution_count": 42,
   "id": "67314e03",
   "metadata": {},
   "outputs": [],
   "source": [
    "tract = 9813\n",
    "patch_x = 0\n",
    "patch_y = 7\n",
    "skymap_id = tract * 10000 + patch_x * 100 + patch_y"
   ]
  },
  {
   "cell_type": "code",
   "execution_count": 46,
   "id": "a6282fb9",
   "metadata": {},
   "outputs": [
    {
     "name": "stdout",
     "output_type": "stream",
     "text": [
      "SELECT object_id, skymap_id, ra, dec, \n",
      "\tm_g_blendedness_abs, m_r_blendedness_abs, \n",
      "\tm_i_blendedness_abs, m_z_blendedness_abs, m_y_blendedness_abs, \n",
      "\tm_g_blendedness_flag, m_r_blendedness_flag, m_i_blendedness_flag, \n",
      "\tm_z_blendedness_flag, m_y_blendedness_flag\n",
      "FROM s20a_wide.summary\n",
      "WHERE skymap_id = 98130007\n"
     ]
    }
   ],
   "source": [
    "sql_test = open('/home/jiaxuanl/Research/Merian/merian_tractor/scripts/hsc_gaap/test.SQL', 'r').read()\n",
    "sql_test = sql_test.replace('10000000', str(skymap_id))\n",
    "print(sql_test)"
   ]
  },
  {
   "cell_type": "code",
   "execution_count": 38,
   "id": "1196eca7",
   "metadata": {},
   "outputs": [
    {
     "name": "stdout",
     "output_type": "stream",
     "text": [
      "Waiting for query to finish... [Done]\n"
     ]
    }
   ],
   "source": [
    "sql_file = '/home/jiaxuanl/Research/Merian/merian_tractor/scripts/hsc_gaap/test.SQL'\n",
    "result_test = s20a.sql_query(sql_test, from_file=False, preview=False, verbose=True)\n",
    "result_test.write(\n",
    "    f'/projects/MERIAN/repo/S20A/gaapTable/9813/{patch_x},{patch_y}/S20A_blendedness_{patch_x},{patch_y}.fits', \n",
    "    overwrite=True)"
   ]
  },
  {
   "cell_type": "code",
   "execution_count": null,
   "id": "656e7f38",
   "metadata": {},
   "outputs": [],
   "source": []
  },
  {
   "cell_type": "markdown",
   "id": "6506b9b2",
   "metadata": {},
   "source": [
    "### Check COSMOS tract number"
   ]
  },
  {
   "cell_type": "code",
   "execution_count": 33,
   "id": "436f4e03",
   "metadata": {},
   "outputs": [],
   "source": [
    "coord_3 = SkyCoord(150.77209669159768, 2.699159075829056, frame='icrs', unit='deg')\n",
    "coord_4 = SkyCoord(150.77209669159768, 1.6631585193419869, frame='icrs', unit='deg')"
   ]
  },
  {
   "cell_type": "code",
   "execution_count": 22,
   "id": "b6e22dbf",
   "metadata": {},
   "outputs": [],
   "source": [
    "coord_1 = SkyCoord(149.50864691825075, 1.6631585193419869, frame='icrs', unit='deg')\n",
    "coord_2 = SkyCoord(149.5099974882655, 2.8073303487885037, frame='icrs', unit='deg')"
   ]
  },
  {
   "cell_type": "code",
   "execution_count": 25,
   "id": "1265c69d",
   "metadata": {},
   "outputs": [],
   "source": [
    "from unagi import task"
   ]
  },
  {
   "cell_type": "code",
   "execution_count": 30,
   "id": "5fe39cbc",
   "metadata": {},
   "outputs": [
    {
     "name": "stdout",
     "output_type": "stream",
     "text": [
      "# Get table list from /home/jiaxuanl/.local/lib/python3.10/site-packages/unagi-0.1.3.dev19-py3.10.egg/unagi/data/pdr2_wide/pdr2_wide_tables.fits\n"
     ]
    }
   ],
   "source": [
    "pdr2 = hsc.Hsc(dr='pdr2', rerun='pdr2_wide')"
   ]
  },
  {
   "cell_type": "code",
   "execution_count": 35,
   "id": "0820c9a0",
   "metadata": {},
   "outputs": [
    {
     "name": "stdout",
     "output_type": "stream",
     "text": [
      "# Covered by 5-band\n",
      "['HSC-G', 'HSC-I', 'HSC-R', 'HSC-Y', 'HSC-Z']\n"
     ]
    },
    {
     "data": {
      "text/html": [
       "<div><i>Table length=5</i>\n",
       "<table id=\"table47575137369152\" class=\"table-striped table-bordered table-condensed\">\n",
       "<thead><tr><th>tract</th><th>patch</th><th>filter01</th></tr></thead>\n",
       "<thead><tr><th>int32</th><th>bytes64</th><th>bytes64</th></tr></thead>\n",
       "<tr><td>9813</td><td>1,1</td><td>HSC-G</td></tr>\n",
       "<tr><td>9813</td><td>1,1</td><td>HSC-I</td></tr>\n",
       "<tr><td>9813</td><td>1,1</td><td>HSC-R</td></tr>\n",
       "<tr><td>9813</td><td>1,1</td><td>HSC-Y</td></tr>\n",
       "<tr><td>9813</td><td>1,1</td><td>HSC-Z</td></tr>\n",
       "</table></div>"
      ],
      "text/plain": [
       "<Table length=5>\n",
       "tract  patch  filter01\n",
       "int32 bytes64 bytes64 \n",
       "----- ------- --------\n",
       " 9813     1,1    HSC-G\n",
       " 9813     1,1    HSC-I\n",
       " 9813     1,1    HSC-R\n",
       " 9813     1,1    HSC-Y\n",
       " 9813     1,1    HSC-Z"
      ]
     },
     "execution_count": 35,
     "metadata": {},
     "output_type": "execute_result"
    }
   ],
   "source": [
    "task.hsc_check_coverage(coord_4, archive=pdr2, verbose=True)"
   ]
  },
  {
   "cell_type": "markdown",
   "id": "6e4a27ba",
   "metadata": {},
   "source": [
    "9813, 9812 are needed"
   ]
  },
  {
   "cell_type": "code",
   "execution_count": null,
   "id": "1f01ceaf",
   "metadata": {},
   "outputs": [],
   "source": []
  }
 ],
 "metadata": {
  "kernelspec": {
   "display_name": "Python 3 (ipykernel)",
   "language": "python",
   "name": "python3"
  },
  "language_info": {
   "codemirror_mode": {
    "name": "ipython",
    "version": 3
   },
   "file_extension": ".py",
   "mimetype": "text/x-python",
   "name": "python",
   "nbconvert_exporter": "python",
   "pygments_lexer": "ipython3",
   "version": "3.10.5"
  }
 },
 "nbformat": 4,
 "nbformat_minor": 5
}
