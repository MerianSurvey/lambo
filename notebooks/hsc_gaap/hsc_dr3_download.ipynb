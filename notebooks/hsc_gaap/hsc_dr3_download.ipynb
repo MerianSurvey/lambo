{
 "cells": [
  {
   "cell_type": "code",
   "execution_count": 1,
   "id": "997f464a",
   "metadata": {},
   "outputs": [],
   "source": [
    "# Import packages\n",
    "%load_ext autoreload\n",
    "%autoreload 2\n",
    "\n",
    "import os\n",
    "import numpy as np\n",
    "import matplotlib.pyplot as plt\n",
    "\n",
    "import astropy.units as u\n",
    "from astropy import wcs\n",
    "from astropy.io import fits\n",
    "from astropy.table import Table, Column, hstack, vstack\n",
    "from astropy.coordinates import SkyCoord\n",
    "\n",
    "# import kuaizi\n",
    "from kuaizi.display import display_single, SEG_CMAP\n",
    "from kuaizi.detection import Data\n",
    "from kuaizi.utils import padding_PSF\n",
    "\n",
    "import pickle"
   ]
  },
  {
   "cell_type": "markdown",
   "id": "9efd666d",
   "metadata": {},
   "source": [
    "patch numbers: from (0,0) to (8,8)"
   ]
  },
  {
   "cell_type": "code",
   "execution_count": null,
   "id": "b94e9403",
   "metadata": {},
   "outputs": [],
   "source": [
    "https://hscdata.mtk.nao.ac.jp/hsc_ssp/dr3/s20a/data/s20a_wide/deepCoadd/HSC-I/9813/8,7.fits"
   ]
  },
  {
   "cell_type": "code",
   "execution_count": 7,
   "id": "198028a1",
   "metadata": {},
   "outputs": [],
   "source": [
    "def hsc_dr3_calexp_url(tract=9813, patch='8,6', filt='i'):\n",
    "    file = f'calexp-HSC-{filt.upper()}-{tract}-{patch}.fits'\n",
    "    path = f'https://hscdata.mtk.nao.ac.jp/hsc_ssp/dr3/s20a/data/s20a_wide/deepCoadd-results/HSC-{filt.upper()}/{tract}/{patch}/'\n",
    "    \n",
    "    return os.path.join(path, file), file"
   ]
  },
  {
   "cell_type": "code",
   "execution_count": 2,
   "id": "dcf03828",
   "metadata": {},
   "outputs": [],
   "source": [
    "def hsc_dr3_calexp_url(tract=9813, patch='8,6', filt='i'):\n",
    "    file = f'{patch}.fits'\n",
    "    path = f'https://hscdata.mtk.nao.ac.jp/hsc_ssp/dr3/s20a/data/s20a_wide/deepCoadd-results/HSC-{filt.upper()}/{tract}/'\n",
    "    \n",
    "    return os.path.join(path, file), file"
   ]
  },
  {
   "cell_type": "code",
   "execution_count": 8,
   "id": "8d6a7c9d",
   "metadata": {},
   "outputs": [
    {
     "data": {
      "text/plain": [
       "('https://hscdata.mtk.nao.ac.jp/hsc_ssp/dr3/s20a/data/s20a_wide/deepCoadd-results/HSC-I/9813/8,6/calexp-HSC-I-9813-8,6.fits',\n",
       " 'calexp-HSC-I-9813-8,6.fits')"
      ]
     },
     "execution_count": 8,
     "metadata": {},
     "output_type": "execute_result"
    }
   ],
   "source": [
    "hsc_dr3_calexp_url()"
   ]
  },
  {
   "cell_type": "raw",
   "id": "816a805e",
   "metadata": {},
   "source": [
    "def download_hsc(outdir='/projects/MERIAN/repo/S20A', \n",
    "                 tract=9813, patch='8,6', filt='i'):\n",
    "    URL, filename = hsc_dr3_calexp_url(tract, patch, filt)\n",
    "    filename = os.path.join(outdir, str(tract), str(patch), filename)\n",
    "    if not os.path.isfile(filename):\n",
    "        with TqdmUpTo(unit='B', unit_scale=True, miniters=1, desc=filename) as t:  # all optional kwargs\n",
    "            urllib.request.urlretrieve(URL, filename=filename,\n",
    "                                       reporthook=t.update_to, data=None)\n",
    "        print('# Downloading ' + filename + ' finished! ') "
   ]
  },
  {
   "cell_type": "code",
   "execution_count": 9,
   "id": "e7ef86b5",
   "metadata": {},
   "outputs": [
    {
     "name": "stdout",
     "output_type": "stream",
     "text": [
      "# Get table list from /home/jiaxuanl/.local/lib/python3.10/site-packages/unagi-0.1.3.dev19-py3.10.egg/unagi/data/s20a_wide/s20a_wide_tables.fits\n"
     ]
    }
   ],
   "source": [
    "from unagi import hsc\n",
    "s20a = hsc.Hsc(dr='dr3', rerun='s20a_wide')"
   ]
  },
  {
   "cell_type": "code",
   "execution_count": 10,
   "id": "d2d3fbf6",
   "metadata": {},
   "outputs": [],
   "source": [
    "def download_hsc(outdir='/projects/MERIAN/repo/S20A', \n",
    "                 tract=9813, patch='8,6', filt='i'):\n",
    "    URL, filename = hsc_dr3_calexp_url(tract, patch, filt)\n",
    "    outdir = os.path.join(outdir, str(tract), str(patch))\n",
    "    if not os.path.isdir(outdir):\n",
    "        os.makedirs(outdir)\n",
    "    filename = os.path.join(outdir, filename)\n",
    "    if not os.path.isfile(filename):\n",
    "        s20a.download_patch(tract, patch, filt=f'HSC-{filt.upper()}', output_file=filename)\n",
    "        print('# Downloading ' + filename + ' finished! ') "
   ]
  },
  {
   "cell_type": "code",
   "execution_count": null,
   "id": "bf320d3b",
   "metadata": {},
   "outputs": [
    {
     "name": "stdout",
     "output_type": "stream",
     "text": [
      "# Downloading FITS image from https://hscdata.mtk.nao.ac.jp/hsc_ssp/dr3/s20a/data/s20a_wide/deepCoadd-results/HSC-G/9813/0,0/calexp-HSC-G-9813-0,0.fits\n",
      "# Downloading /projects/MERIAN/repo/S20A/9813/0,0/calexp-HSC-G-9813-0,0.fits finished! \n",
      "# Downloading FITS image from https://hscdata.mtk.nao.ac.jp/hsc_ssp/dr3/s20a/data/s20a_wide/deepCoadd-results/HSC-R/9813/0,0/calexp-HSC-R-9813-0,0.fits\n",
      "# Downloading /projects/MERIAN/repo/S20A/9813/0,0/calexp-HSC-R-9813-0,0.fits finished! \n",
      "# Downloading FITS image from https://hscdata.mtk.nao.ac.jp/hsc_ssp/dr3/s20a/data/s20a_wide/deepCoadd-results/HSC-I/9813/0,0/calexp-HSC-I-9813-0,0.fits\n",
      "# Downloading /projects/MERIAN/repo/S20A/9813/0,0/calexp-HSC-I-9813-0,0.fits finished! \n",
      "# Downloading FITS image from https://hscdata.mtk.nao.ac.jp/hsc_ssp/dr3/s20a/data/s20a_wide/deepCoadd-results/HSC-Z/9813/0,0/calexp-HSC-Z-9813-0,0.fits\n",
      "# Downloading /projects/MERIAN/repo/S20A/9813/0,0/calexp-HSC-Z-9813-0,0.fits finished! \n",
      "# Downloading FITS image from https://hscdata.mtk.nao.ac.jp/hsc_ssp/dr3/s20a/data/s20a_wide/deepCoadd-results/HSC-Y/9813/0,0/calexp-HSC-Y-9813-0,0.fits\n",
      "# Downloading /projects/MERIAN/repo/S20A/9813/0,0/calexp-HSC-Y-9813-0,0.fits finished! \n",
      "# Downloading FITS image from https://hscdata.mtk.nao.ac.jp/hsc_ssp/dr3/s20a/data/s20a_wide/deepCoadd-results/HSC-G/9813/0,1/calexp-HSC-G-9813-0,1.fits\n",
      "# Downloading /projects/MERIAN/repo/S20A/9813/0,1/calexp-HSC-G-9813-0,1.fits finished! \n",
      "# Downloading FITS image from https://hscdata.mtk.nao.ac.jp/hsc_ssp/dr3/s20a/data/s20a_wide/deepCoadd-results/HSC-R/9813/0,1/calexp-HSC-R-9813-0,1.fits\n",
      "# Downloading /projects/MERIAN/repo/S20A/9813/0,1/calexp-HSC-R-9813-0,1.fits finished! \n",
      "# Downloading FITS image from https://hscdata.mtk.nao.ac.jp/hsc_ssp/dr3/s20a/data/s20a_wide/deepCoadd-results/HSC-I/9813/0,1/calexp-HSC-I-9813-0,1.fits\n",
      "# Downloading /projects/MERIAN/repo/S20A/9813/0,1/calexp-HSC-I-9813-0,1.fits finished! \n",
      "# Downloading FITS image from https://hscdata.mtk.nao.ac.jp/hsc_ssp/dr3/s20a/data/s20a_wide/deepCoadd-results/HSC-Z/9813/0,1/calexp-HSC-Z-9813-0,1.fits\n",
      "# Downloading /projects/MERIAN/repo/S20A/9813/0,1/calexp-HSC-Z-9813-0,1.fits finished! \n",
      "# Downloading FITS image from https://hscdata.mtk.nao.ac.jp/hsc_ssp/dr3/s20a/data/s20a_wide/deepCoadd-results/HSC-Y/9813/0,1/calexp-HSC-Y-9813-0,1.fits\n",
      "# Downloading /projects/MERIAN/repo/S20A/9813/0,1/calexp-HSC-Y-9813-0,1.fits finished! \n",
      "# Downloading FITS image from https://hscdata.mtk.nao.ac.jp/hsc_ssp/dr3/s20a/data/s20a_wide/deepCoadd-results/HSC-G/9813/0,2/calexp-HSC-G-9813-0,2.fits\n",
      "# Downloading /projects/MERIAN/repo/S20A/9813/0,2/calexp-HSC-G-9813-0,2.fits finished! \n",
      "# Downloading FITS image from https://hscdata.mtk.nao.ac.jp/hsc_ssp/dr3/s20a/data/s20a_wide/deepCoadd-results/HSC-R/9813/0,2/calexp-HSC-R-9813-0,2.fits\n",
      "# Downloading /projects/MERIAN/repo/S20A/9813/0,2/calexp-HSC-R-9813-0,2.fits finished! \n",
      "# Downloading FITS image from https://hscdata.mtk.nao.ac.jp/hsc_ssp/dr3/s20a/data/s20a_wide/deepCoadd-results/HSC-I/9813/0,2/calexp-HSC-I-9813-0,2.fits\n",
      "# Downloading /projects/MERIAN/repo/S20A/9813/0,2/calexp-HSC-I-9813-0,2.fits finished! \n",
      "# Downloading FITS image from https://hscdata.mtk.nao.ac.jp/hsc_ssp/dr3/s20a/data/s20a_wide/deepCoadd-results/HSC-Z/9813/0,2/calexp-HSC-Z-9813-0,2.fits\n",
      "# Downloading /projects/MERIAN/repo/S20A/9813/0,2/calexp-HSC-Z-9813-0,2.fits finished! \n",
      "# Downloading FITS image from https://hscdata.mtk.nao.ac.jp/hsc_ssp/dr3/s20a/data/s20a_wide/deepCoadd-results/HSC-Y/9813/0,2/calexp-HSC-Y-9813-0,2.fits\n",
      "# Downloading /projects/MERIAN/repo/S20A/9813/0,2/calexp-HSC-Y-9813-0,2.fits finished! \n",
      "# Downloading FITS image from https://hscdata.mtk.nao.ac.jp/hsc_ssp/dr3/s20a/data/s20a_wide/deepCoadd-results/HSC-G/9813/0,3/calexp-HSC-G-9813-0,3.fits\n",
      "# Downloading /projects/MERIAN/repo/S20A/9813/0,3/calexp-HSC-G-9813-0,3.fits finished! \n",
      "# Downloading FITS image from https://hscdata.mtk.nao.ac.jp/hsc_ssp/dr3/s20a/data/s20a_wide/deepCoadd-results/HSC-R/9813/0,3/calexp-HSC-R-9813-0,3.fits\n",
      "# Downloading /projects/MERIAN/repo/S20A/9813/0,3/calexp-HSC-R-9813-0,3.fits finished! \n",
      "# Downloading FITS image from https://hscdata.mtk.nao.ac.jp/hsc_ssp/dr3/s20a/data/s20a_wide/deepCoadd-results/HSC-I/9813/0,3/calexp-HSC-I-9813-0,3.fits\n",
      "# Downloading /projects/MERIAN/repo/S20A/9813/0,3/calexp-HSC-I-9813-0,3.fits finished! \n",
      "# Downloading FITS image from https://hscdata.mtk.nao.ac.jp/hsc_ssp/dr3/s20a/data/s20a_wide/deepCoadd-results/HSC-Z/9813/0,3/calexp-HSC-Z-9813-0,3.fits\n",
      "# Downloading /projects/MERIAN/repo/S20A/9813/0,3/calexp-HSC-Z-9813-0,3.fits finished! \n",
      "# Downloading FITS image from https://hscdata.mtk.nao.ac.jp/hsc_ssp/dr3/s20a/data/s20a_wide/deepCoadd-results/HSC-Y/9813/0,3/calexp-HSC-Y-9813-0,3.fits\n",
      "# Downloading /projects/MERIAN/repo/S20A/9813/0,3/calexp-HSC-Y-9813-0,3.fits finished! \n",
      "# Downloading FITS image from https://hscdata.mtk.nao.ac.jp/hsc_ssp/dr3/s20a/data/s20a_wide/deepCoadd-results/HSC-G/9813/0,4/calexp-HSC-G-9813-0,4.fits\n",
      "# Downloading /projects/MERIAN/repo/S20A/9813/0,4/calexp-HSC-G-9813-0,4.fits finished! \n",
      "# Downloading FITS image from https://hscdata.mtk.nao.ac.jp/hsc_ssp/dr3/s20a/data/s20a_wide/deepCoadd-results/HSC-R/9813/0,4/calexp-HSC-R-9813-0,4.fits\n",
      "# Downloading /projects/MERIAN/repo/S20A/9813/0,4/calexp-HSC-R-9813-0,4.fits finished! \n",
      "# Downloading FITS image from https://hscdata.mtk.nao.ac.jp/hsc_ssp/dr3/s20a/data/s20a_wide/deepCoadd-results/HSC-I/9813/0,4/calexp-HSC-I-9813-0,4.fits\n",
      "# Downloading /projects/MERIAN/repo/S20A/9813/0,4/calexp-HSC-I-9813-0,4.fits finished! \n",
      "# Downloading FITS image from https://hscdata.mtk.nao.ac.jp/hsc_ssp/dr3/s20a/data/s20a_wide/deepCoadd-results/HSC-Z/9813/0,4/calexp-HSC-Z-9813-0,4.fits\n",
      "# Downloading /projects/MERIAN/repo/S20A/9813/0,4/calexp-HSC-Z-9813-0,4.fits finished! \n",
      "# Downloading FITS image from https://hscdata.mtk.nao.ac.jp/hsc_ssp/dr3/s20a/data/s20a_wide/deepCoadd-results/HSC-Y/9813/0,4/calexp-HSC-Y-9813-0,4.fits\n",
      "# Downloading /projects/MERIAN/repo/S20A/9813/0,4/calexp-HSC-Y-9813-0,4.fits finished! \n",
      "# Downloading FITS image from https://hscdata.mtk.nao.ac.jp/hsc_ssp/dr3/s20a/data/s20a_wide/deepCoadd-results/HSC-G/9813/0,5/calexp-HSC-G-9813-0,5.fits\n",
      "# Downloading /projects/MERIAN/repo/S20A/9813/0,5/calexp-HSC-G-9813-0,5.fits finished! \n",
      "# Downloading FITS image from https://hscdata.mtk.nao.ac.jp/hsc_ssp/dr3/s20a/data/s20a_wide/deepCoadd-results/HSC-R/9813/0,5/calexp-HSC-R-9813-0,5.fits\n",
      "# Downloading /projects/MERIAN/repo/S20A/9813/0,5/calexp-HSC-R-9813-0,5.fits finished! \n",
      "# Downloading FITS image from https://hscdata.mtk.nao.ac.jp/hsc_ssp/dr3/s20a/data/s20a_wide/deepCoadd-results/HSC-I/9813/0,5/calexp-HSC-I-9813-0,5.fits\n",
      "# Downloading /projects/MERIAN/repo/S20A/9813/0,5/calexp-HSC-I-9813-0,5.fits finished! \n",
      "# Downloading FITS image from https://hscdata.mtk.nao.ac.jp/hsc_ssp/dr3/s20a/data/s20a_wide/deepCoadd-results/HSC-Z/9813/0,5/calexp-HSC-Z-9813-0,5.fits\n",
      "# Downloading /projects/MERIAN/repo/S20A/9813/0,5/calexp-HSC-Z-9813-0,5.fits finished! \n",
      "# Downloading FITS image from https://hscdata.mtk.nao.ac.jp/hsc_ssp/dr3/s20a/data/s20a_wide/deepCoadd-results/HSC-Y/9813/0,5/calexp-HSC-Y-9813-0,5.fits\n",
      "# Downloading /projects/MERIAN/repo/S20A/9813/0,5/calexp-HSC-Y-9813-0,5.fits finished! \n",
      "# Downloading FITS image from https://hscdata.mtk.nao.ac.jp/hsc_ssp/dr3/s20a/data/s20a_wide/deepCoadd-results/HSC-G/9813/0,6/calexp-HSC-G-9813-0,6.fits\n",
      "# Downloading /projects/MERIAN/repo/S20A/9813/0,6/calexp-HSC-G-9813-0,6.fits finished! \n",
      "# Downloading FITS image from https://hscdata.mtk.nao.ac.jp/hsc_ssp/dr3/s20a/data/s20a_wide/deepCoadd-results/HSC-R/9813/0,6/calexp-HSC-R-9813-0,6.fits\n",
      "# Downloading /projects/MERIAN/repo/S20A/9813/0,6/calexp-HSC-R-9813-0,6.fits finished! \n",
      "# Downloading FITS image from https://hscdata.mtk.nao.ac.jp/hsc_ssp/dr3/s20a/data/s20a_wide/deepCoadd-results/HSC-I/9813/0,6/calexp-HSC-I-9813-0,6.fits\n",
      "# Downloading /projects/MERIAN/repo/S20A/9813/0,6/calexp-HSC-I-9813-0,6.fits finished! \n",
      "# Downloading FITS image from https://hscdata.mtk.nao.ac.jp/hsc_ssp/dr3/s20a/data/s20a_wide/deepCoadd-results/HSC-Z/9813/0,6/calexp-HSC-Z-9813-0,6.fits\n",
      "# Downloading /projects/MERIAN/repo/S20A/9813/0,6/calexp-HSC-Z-9813-0,6.fits finished! \n",
      "# Downloading FITS image from https://hscdata.mtk.nao.ac.jp/hsc_ssp/dr3/s20a/data/s20a_wide/deepCoadd-results/HSC-Y/9813/0,6/calexp-HSC-Y-9813-0,6.fits\n"
     ]
    },
    {
     "name": "stdout",
     "output_type": "stream",
     "text": [
      "# Downloading /projects/MERIAN/repo/S20A/9813/0,6/calexp-HSC-Y-9813-0,6.fits finished! \n",
      "# Downloading FITS image from https://hscdata.mtk.nao.ac.jp/hsc_ssp/dr3/s20a/data/s20a_wide/deepCoadd-results/HSC-G/9813/0,7/calexp-HSC-G-9813-0,7.fits\n",
      "# Downloading /projects/MERIAN/repo/S20A/9813/0,7/calexp-HSC-G-9813-0,7.fits finished! \n",
      "# Downloading FITS image from https://hscdata.mtk.nao.ac.jp/hsc_ssp/dr3/s20a/data/s20a_wide/deepCoadd-results/HSC-R/9813/0,7/calexp-HSC-R-9813-0,7.fits\n",
      "# Downloading /projects/MERIAN/repo/S20A/9813/0,7/calexp-HSC-R-9813-0,7.fits finished! \n",
      "# Downloading FITS image from https://hscdata.mtk.nao.ac.jp/hsc_ssp/dr3/s20a/data/s20a_wide/deepCoadd-results/HSC-I/9813/0,7/calexp-HSC-I-9813-0,7.fits\n",
      "# Downloading /projects/MERIAN/repo/S20A/9813/0,7/calexp-HSC-I-9813-0,7.fits finished! \n",
      "# Downloading FITS image from https://hscdata.mtk.nao.ac.jp/hsc_ssp/dr3/s20a/data/s20a_wide/deepCoadd-results/HSC-Z/9813/0,7/calexp-HSC-Z-9813-0,7.fits\n",
      "# Downloading /projects/MERIAN/repo/S20A/9813/0,7/calexp-HSC-Z-9813-0,7.fits finished! \n",
      "# Downloading FITS image from https://hscdata.mtk.nao.ac.jp/hsc_ssp/dr3/s20a/data/s20a_wide/deepCoadd-results/HSC-Y/9813/0,7/calexp-HSC-Y-9813-0,7.fits\n",
      "# Downloading /projects/MERIAN/repo/S20A/9813/0,7/calexp-HSC-Y-9813-0,7.fits finished! \n",
      "# Downloading FITS image from https://hscdata.mtk.nao.ac.jp/hsc_ssp/dr3/s20a/data/s20a_wide/deepCoadd-results/HSC-G/9813/1,0/calexp-HSC-G-9813-1,0.fits\n",
      "# Downloading /projects/MERIAN/repo/S20A/9813/1,0/calexp-HSC-G-9813-1,0.fits finished! \n",
      "# Downloading FITS image from https://hscdata.mtk.nao.ac.jp/hsc_ssp/dr3/s20a/data/s20a_wide/deepCoadd-results/HSC-R/9813/1,0/calexp-HSC-R-9813-1,0.fits\n",
      "# Downloading /projects/MERIAN/repo/S20A/9813/1,0/calexp-HSC-R-9813-1,0.fits finished! \n",
      "# Downloading FITS image from https://hscdata.mtk.nao.ac.jp/hsc_ssp/dr3/s20a/data/s20a_wide/deepCoadd-results/HSC-I/9813/1,0/calexp-HSC-I-9813-1,0.fits\n",
      "# Downloading /projects/MERIAN/repo/S20A/9813/1,0/calexp-HSC-I-9813-1,0.fits finished! \n",
      "# Downloading FITS image from https://hscdata.mtk.nao.ac.jp/hsc_ssp/dr3/s20a/data/s20a_wide/deepCoadd-results/HSC-Z/9813/1,0/calexp-HSC-Z-9813-1,0.fits\n",
      "# Downloading /projects/MERIAN/repo/S20A/9813/1,0/calexp-HSC-Z-9813-1,0.fits finished! \n",
      "# Downloading FITS image from https://hscdata.mtk.nao.ac.jp/hsc_ssp/dr3/s20a/data/s20a_wide/deepCoadd-results/HSC-Y/9813/1,0/calexp-HSC-Y-9813-1,0.fits\n",
      "# Downloading /projects/MERIAN/repo/S20A/9813/1,0/calexp-HSC-Y-9813-1,0.fits finished! \n",
      "# Downloading FITS image from https://hscdata.mtk.nao.ac.jp/hsc_ssp/dr3/s20a/data/s20a_wide/deepCoadd-results/HSC-G/9813/1,1/calexp-HSC-G-9813-1,1.fits\n",
      "# Downloading /projects/MERIAN/repo/S20A/9813/1,1/calexp-HSC-G-9813-1,1.fits finished! \n",
      "# Downloading FITS image from https://hscdata.mtk.nao.ac.jp/hsc_ssp/dr3/s20a/data/s20a_wide/deepCoadd-results/HSC-R/9813/1,1/calexp-HSC-R-9813-1,1.fits\n",
      "# Downloading /projects/MERIAN/repo/S20A/9813/1,1/calexp-HSC-R-9813-1,1.fits finished! \n",
      "# Downloading FITS image from https://hscdata.mtk.nao.ac.jp/hsc_ssp/dr3/s20a/data/s20a_wide/deepCoadd-results/HSC-I/9813/1,1/calexp-HSC-I-9813-1,1.fits\n",
      "# Downloading /projects/MERIAN/repo/S20A/9813/1,1/calexp-HSC-I-9813-1,1.fits finished! \n",
      "# Downloading FITS image from https://hscdata.mtk.nao.ac.jp/hsc_ssp/dr3/s20a/data/s20a_wide/deepCoadd-results/HSC-Z/9813/1,1/calexp-HSC-Z-9813-1,1.fits\n",
      "# Downloading /projects/MERIAN/repo/S20A/9813/1,1/calexp-HSC-Z-9813-1,1.fits finished! \n",
      "# Downloading FITS image from https://hscdata.mtk.nao.ac.jp/hsc_ssp/dr3/s20a/data/s20a_wide/deepCoadd-results/HSC-Y/9813/1,1/calexp-HSC-Y-9813-1,1.fits\n",
      "# Downloading /projects/MERIAN/repo/S20A/9813/1,1/calexp-HSC-Y-9813-1,1.fits finished! \n",
      "# Downloading FITS image from https://hscdata.mtk.nao.ac.jp/hsc_ssp/dr3/s20a/data/s20a_wide/deepCoadd-results/HSC-G/9813/1,2/calexp-HSC-G-9813-1,2.fits\n",
      "# Downloading /projects/MERIAN/repo/S20A/9813/1,2/calexp-HSC-G-9813-1,2.fits finished! \n",
      "# Downloading FITS image from https://hscdata.mtk.nao.ac.jp/hsc_ssp/dr3/s20a/data/s20a_wide/deepCoadd-results/HSC-R/9813/1,2/calexp-HSC-R-9813-1,2.fits\n",
      "# Downloading /projects/MERIAN/repo/S20A/9813/1,2/calexp-HSC-R-9813-1,2.fits finished! \n",
      "# Downloading FITS image from https://hscdata.mtk.nao.ac.jp/hsc_ssp/dr3/s20a/data/s20a_wide/deepCoadd-results/HSC-I/9813/1,2/calexp-HSC-I-9813-1,2.fits\n",
      "# Downloading /projects/MERIAN/repo/S20A/9813/1,2/calexp-HSC-I-9813-1,2.fits finished! \n",
      "# Downloading FITS image from https://hscdata.mtk.nao.ac.jp/hsc_ssp/dr3/s20a/data/s20a_wide/deepCoadd-results/HSC-Z/9813/1,2/calexp-HSC-Z-9813-1,2.fits\n",
      "# Downloading /projects/MERIAN/repo/S20A/9813/1,2/calexp-HSC-Z-9813-1,2.fits finished! \n",
      "# Downloading FITS image from https://hscdata.mtk.nao.ac.jp/hsc_ssp/dr3/s20a/data/s20a_wide/deepCoadd-results/HSC-Y/9813/1,2/calexp-HSC-Y-9813-1,2.fits\n",
      "# Downloading /projects/MERIAN/repo/S20A/9813/1,2/calexp-HSC-Y-9813-1,2.fits finished! \n",
      "# Downloading FITS image from https://hscdata.mtk.nao.ac.jp/hsc_ssp/dr3/s20a/data/s20a_wide/deepCoadd-results/HSC-G/9813/1,3/calexp-HSC-G-9813-1,3.fits\n",
      "# Downloading /projects/MERIAN/repo/S20A/9813/1,3/calexp-HSC-G-9813-1,3.fits finished! \n",
      "# Downloading FITS image from https://hscdata.mtk.nao.ac.jp/hsc_ssp/dr3/s20a/data/s20a_wide/deepCoadd-results/HSC-R/9813/1,3/calexp-HSC-R-9813-1,3.fits\n",
      "# Downloading /projects/MERIAN/repo/S20A/9813/1,3/calexp-HSC-R-9813-1,3.fits finished! \n",
      "# Downloading FITS image from https://hscdata.mtk.nao.ac.jp/hsc_ssp/dr3/s20a/data/s20a_wide/deepCoadd-results/HSC-I/9813/1,3/calexp-HSC-I-9813-1,3.fits\n",
      "# Downloading /projects/MERIAN/repo/S20A/9813/1,3/calexp-HSC-I-9813-1,3.fits finished! \n",
      "# Downloading FITS image from https://hscdata.mtk.nao.ac.jp/hsc_ssp/dr3/s20a/data/s20a_wide/deepCoadd-results/HSC-Z/9813/1,3/calexp-HSC-Z-9813-1,3.fits\n",
      "# Downloading /projects/MERIAN/repo/S20A/9813/1,3/calexp-HSC-Z-9813-1,3.fits finished! \n",
      "# Downloading FITS image from https://hscdata.mtk.nao.ac.jp/hsc_ssp/dr3/s20a/data/s20a_wide/deepCoadd-results/HSC-Y/9813/1,3/calexp-HSC-Y-9813-1,3.fits\n",
      "# Downloading /projects/MERIAN/repo/S20A/9813/1,3/calexp-HSC-Y-9813-1,3.fits finished! \n",
      "# Downloading FITS image from https://hscdata.mtk.nao.ac.jp/hsc_ssp/dr3/s20a/data/s20a_wide/deepCoadd-results/HSC-G/9813/1,4/calexp-HSC-G-9813-1,4.fits\n",
      "# Downloading /projects/MERIAN/repo/S20A/9813/1,4/calexp-HSC-G-9813-1,4.fits finished! \n",
      "# Downloading FITS image from https://hscdata.mtk.nao.ac.jp/hsc_ssp/dr3/s20a/data/s20a_wide/deepCoadd-results/HSC-R/9813/1,4/calexp-HSC-R-9813-1,4.fits\n",
      "# Downloading /projects/MERIAN/repo/S20A/9813/1,4/calexp-HSC-R-9813-1,4.fits finished! \n",
      "# Downloading FITS image from https://hscdata.mtk.nao.ac.jp/hsc_ssp/dr3/s20a/data/s20a_wide/deepCoadd-results/HSC-I/9813/1,4/calexp-HSC-I-9813-1,4.fits\n",
      "# Downloading /projects/MERIAN/repo/S20A/9813/1,4/calexp-HSC-I-9813-1,4.fits finished! \n",
      "# Downloading FITS image from https://hscdata.mtk.nao.ac.jp/hsc_ssp/dr3/s20a/data/s20a_wide/deepCoadd-results/HSC-Z/9813/1,4/calexp-HSC-Z-9813-1,4.fits\n",
      "# Downloading /projects/MERIAN/repo/S20A/9813/1,4/calexp-HSC-Z-9813-1,4.fits finished! \n",
      "# Downloading FITS image from https://hscdata.mtk.nao.ac.jp/hsc_ssp/dr3/s20a/data/s20a_wide/deepCoadd-results/HSC-Y/9813/1,4/calexp-HSC-Y-9813-1,4.fits\n",
      "# Downloading /projects/MERIAN/repo/S20A/9813/1,4/calexp-HSC-Y-9813-1,4.fits finished! \n",
      "# Downloading FITS image from https://hscdata.mtk.nao.ac.jp/hsc_ssp/dr3/s20a/data/s20a_wide/deepCoadd-results/HSC-G/9813/1,5/calexp-HSC-G-9813-1,5.fits\n",
      "# Downloading /projects/MERIAN/repo/S20A/9813/1,5/calexp-HSC-G-9813-1,5.fits finished! \n",
      "# Downloading FITS image from https://hscdata.mtk.nao.ac.jp/hsc_ssp/dr3/s20a/data/s20a_wide/deepCoadd-results/HSC-R/9813/1,5/calexp-HSC-R-9813-1,5.fits\n",
      "# Downloading /projects/MERIAN/repo/S20A/9813/1,5/calexp-HSC-R-9813-1,5.fits finished! \n",
      "# Downloading FITS image from https://hscdata.mtk.nao.ac.jp/hsc_ssp/dr3/s20a/data/s20a_wide/deepCoadd-results/HSC-I/9813/1,5/calexp-HSC-I-9813-1,5.fits\n",
      "# Downloading /projects/MERIAN/repo/S20A/9813/1,5/calexp-HSC-I-9813-1,5.fits finished! \n",
      "# Downloading FITS image from https://hscdata.mtk.nao.ac.jp/hsc_ssp/dr3/s20a/data/s20a_wide/deepCoadd-results/HSC-Z/9813/1,5/calexp-HSC-Z-9813-1,5.fits\n",
      "# Downloading /projects/MERIAN/repo/S20A/9813/1,5/calexp-HSC-Z-9813-1,5.fits finished! \n",
      "# Downloading FITS image from https://hscdata.mtk.nao.ac.jp/hsc_ssp/dr3/s20a/data/s20a_wide/deepCoadd-results/HSC-Y/9813/1,5/calexp-HSC-Y-9813-1,5.fits\n"
     ]
    },
    {
     "name": "stdout",
     "output_type": "stream",
     "text": [
      "# Downloading /projects/MERIAN/repo/S20A/9813/1,5/calexp-HSC-Y-9813-1,5.fits finished! \n",
      "# Downloading FITS image from https://hscdata.mtk.nao.ac.jp/hsc_ssp/dr3/s20a/data/s20a_wide/deepCoadd-results/HSC-G/9813/1,6/calexp-HSC-G-9813-1,6.fits\n",
      "# Downloading /projects/MERIAN/repo/S20A/9813/1,6/calexp-HSC-G-9813-1,6.fits finished! \n",
      "# Downloading FITS image from https://hscdata.mtk.nao.ac.jp/hsc_ssp/dr3/s20a/data/s20a_wide/deepCoadd-results/HSC-R/9813/1,6/calexp-HSC-R-9813-1,6.fits\n",
      "# Downloading /projects/MERIAN/repo/S20A/9813/1,6/calexp-HSC-R-9813-1,6.fits finished! \n",
      "# Downloading FITS image from https://hscdata.mtk.nao.ac.jp/hsc_ssp/dr3/s20a/data/s20a_wide/deepCoadd-results/HSC-I/9813/1,6/calexp-HSC-I-9813-1,6.fits\n",
      "# Downloading /projects/MERIAN/repo/S20A/9813/1,6/calexp-HSC-I-9813-1,6.fits finished! \n",
      "# Downloading FITS image from https://hscdata.mtk.nao.ac.jp/hsc_ssp/dr3/s20a/data/s20a_wide/deepCoadd-results/HSC-Z/9813/1,6/calexp-HSC-Z-9813-1,6.fits\n",
      "# Downloading /projects/MERIAN/repo/S20A/9813/1,6/calexp-HSC-Z-9813-1,6.fits finished! \n",
      "# Downloading FITS image from https://hscdata.mtk.nao.ac.jp/hsc_ssp/dr3/s20a/data/s20a_wide/deepCoadd-results/HSC-Y/9813/1,6/calexp-HSC-Y-9813-1,6.fits\n",
      "# Downloading /projects/MERIAN/repo/S20A/9813/1,6/calexp-HSC-Y-9813-1,6.fits finished! \n",
      "# Downloading FITS image from https://hscdata.mtk.nao.ac.jp/hsc_ssp/dr3/s20a/data/s20a_wide/deepCoadd-results/HSC-G/9813/1,7/calexp-HSC-G-9813-1,7.fits\n",
      "# Downloading /projects/MERIAN/repo/S20A/9813/1,7/calexp-HSC-G-9813-1,7.fits finished! \n",
      "# Downloading FITS image from https://hscdata.mtk.nao.ac.jp/hsc_ssp/dr3/s20a/data/s20a_wide/deepCoadd-results/HSC-R/9813/1,7/calexp-HSC-R-9813-1,7.fits\n",
      "# Downloading /projects/MERIAN/repo/S20A/9813/1,7/calexp-HSC-R-9813-1,7.fits finished! \n",
      "# Downloading FITS image from https://hscdata.mtk.nao.ac.jp/hsc_ssp/dr3/s20a/data/s20a_wide/deepCoadd-results/HSC-I/9813/1,7/calexp-HSC-I-9813-1,7.fits\n",
      "# Downloading /projects/MERIAN/repo/S20A/9813/1,7/calexp-HSC-I-9813-1,7.fits finished! \n",
      "# Downloading FITS image from https://hscdata.mtk.nao.ac.jp/hsc_ssp/dr3/s20a/data/s20a_wide/deepCoadd-results/HSC-Z/9813/1,7/calexp-HSC-Z-9813-1,7.fits\n",
      "# Downloading /projects/MERIAN/repo/S20A/9813/1,7/calexp-HSC-Z-9813-1,7.fits finished! \n",
      "# Downloading FITS image from https://hscdata.mtk.nao.ac.jp/hsc_ssp/dr3/s20a/data/s20a_wide/deepCoadd-results/HSC-Y/9813/1,7/calexp-HSC-Y-9813-1,7.fits\n"
     ]
    }
   ],
   "source": [
    "for i in range(0, 8):\n",
    "    for j in range(0, 8):\n",
    "        for filt in list('grizy'):\n",
    "            download_hsc(tract=9813, patch=f'{i},{j}', filt=filt)"
   ]
  },
  {
   "cell_type": "code",
   "execution_count": 11,
   "id": "51e51162",
   "metadata": {},
   "outputs": [
    {
     "name": "stdout",
     "output_type": "stream",
     "text": [
      "# Downloading FITS image from https://hscdata.mtk.nao.ac.jp/hsc_ssp/dr3/s20a/data/s20a_wide/deepCoadd-results/HSC-G/9813/7,8/calexp-HSC-G-9813-7,8.fits\n",
      "# Downloading /projects/MERIAN/repo/S20A/9813/7,8/calexp-HSC-G-9813-7,8.fits finished! \n",
      "# Downloading FITS image from https://hscdata.mtk.nao.ac.jp/hsc_ssp/dr3/s20a/data/s20a_wide/deepCoadd-results/HSC-R/9813/7,8/calexp-HSC-R-9813-7,8.fits\n",
      "# Downloading /projects/MERIAN/repo/S20A/9813/7,8/calexp-HSC-R-9813-7,8.fits finished! \n",
      "# Downloading FITS image from https://hscdata.mtk.nao.ac.jp/hsc_ssp/dr3/s20a/data/s20a_wide/deepCoadd-results/HSC-I/9813/7,8/calexp-HSC-I-9813-7,8.fits\n",
      "# Downloading /projects/MERIAN/repo/S20A/9813/7,8/calexp-HSC-I-9813-7,8.fits finished! \n",
      "# Downloading FITS image from https://hscdata.mtk.nao.ac.jp/hsc_ssp/dr3/s20a/data/s20a_wide/deepCoadd-results/HSC-Z/9813/7,8/calexp-HSC-Z-9813-7,8.fits\n",
      "# Downloading /projects/MERIAN/repo/S20A/9813/7,8/calexp-HSC-Z-9813-7,8.fits finished! \n",
      "# Downloading FITS image from https://hscdata.mtk.nao.ac.jp/hsc_ssp/dr3/s20a/data/s20a_wide/deepCoadd-results/HSC-Y/9813/7,8/calexp-HSC-Y-9813-7,8.fits\n",
      "# Downloading /projects/MERIAN/repo/S20A/9813/7,8/calexp-HSC-Y-9813-7,8.fits finished! \n"
     ]
    }
   ],
   "source": [
    "for filt in list('grizy'):\n",
    "    download_hsc(tract=9813, patch='7,8', filt=filt)"
   ]
  },
  {
   "cell_type": "code",
   "execution_count": null,
   "id": "3dca1f1f",
   "metadata": {},
   "outputs": [],
   "source": []
  }
 ],
 "metadata": {
  "kernelspec": {
   "display_name": "Python 3 (ipykernel)",
   "language": "python",
   "name": "python3"
  },
  "language_info": {
   "codemirror_mode": {
    "name": "ipython",
    "version": 3
   },
   "file_extension": ".py",
   "mimetype": "text/x-python",
   "name": "python",
   "nbconvert_exporter": "python",
   "pygments_lexer": "ipython3",
   "version": "3.10.5"
  }
 },
 "nbformat": 4,
 "nbformat_minor": 5
}
