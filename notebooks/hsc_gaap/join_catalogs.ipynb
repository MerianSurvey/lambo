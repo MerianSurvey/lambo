{
 "cells": [
  {
   "cell_type": "code",
   "execution_count": 1,
   "id": "8443dbb0",
   "metadata": {},
   "outputs": [],
   "source": [
    "%load_ext autoreload\n",
    "%autoreload 2\n",
    "\n",
    "import numpy as np\n",
    "import time\n",
    "import matplotlib.pyplot as plt\n",
    "import lsst.afw.table\n",
    "\n",
    "from astropy.io import fits\n",
    "from astropy.table import Table, hstack, vstack\n",
    "import sys\n",
    "sys.path.append('/home/jiaxuanl/Research/Merian/merian_tractor/scripts/')"
   ]
  },
  {
   "cell_type": "code",
   "execution_count": 2,
   "id": "d50389ae",
   "metadata": {},
   "outputs": [],
   "source": [
    "import os\n",
    "old_patches = [name for name in os.listdir(\n",
    "    \"/projects/MERIAN/repo/S20A/deepCoadd_calexp/9813/\")]\n",
    "new_patches = [int(name[0]) + int(name[2]) * 9 for name in old_patches]\n",
    "merian_patches = [int(name) for name in os.listdir(\n",
    "    \"/projects/MERIAN/repo/DECam/runs/merian/dr1_wide/20220921T193246Z/deepCoadd_forced_src/9813\")]\n",
    "common_patches = np.intersect1d(new_patches, merian_patches)"
   ]
  },
  {
   "cell_type": "code",
   "execution_count": 3,
   "id": "6adfb820",
   "metadata": {},
   "outputs": [],
   "source": [
    "def rsync(new_patches, filt):\n",
    "    old_patches = f'{new_patches % 9},{new_patches // 9}'\n",
    "    return f'rsync -azv --progress jiaxuanl@tiger.princeton.edu://projects/MERIAN/repo/S20A/gaapTable/9813/{old_patches}/gaapTable_{filt}_9813_{old_patches}.fits ./'"
   ]
  },
  {
   "cell_type": "code",
   "execution_count": 4,
   "id": "56e6edd4",
   "metadata": {},
   "outputs": [
    {
     "data": {
      "text/plain": [
       "'rsync -azv --progress jiaxuanl@tiger.princeton.edu://projects/MERIAN/repo/S20A/gaapTable/9813/7,2/gaapTable_I_9813_7,2.fits ./'"
      ]
     },
     "execution_count": 4,
     "metadata": {},
     "output_type": "execute_result"
    }
   ],
   "source": [
    "rsync(25, 'I')"
   ]
  },
  {
   "cell_type": "code",
   "execution_count": 8,
   "id": "90a5b3d8",
   "metadata": {},
   "outputs": [],
   "source": [
    "def joinCatBands(patch=23, filters='griz', tract=9813):\n",
    "    cats = []\n",
    "    patch_old = f'{patch % 9},{patch // 9}'\n",
    "    for i, filt in enumerate(list(filters)):\n",
    "        temp = Table.read(f'/projects/MERIAN/repo/S20A/gaapTable/{tract}/{patch_old}/gaapTable_{filt.upper()}_{tract}_{patch_old}.fits')\n",
    "        if i > 0:\n",
    "            temp.remove_columns(['id', 'coord_ra', 'coord_dec'])\n",
    "        cats.append(temp)\n",
    "    return hstack(cats)\n",
    "\n",
    "def joinCatPatches(patches, filters='griz', tract=9813):\n",
    "    cats = []\n",
    "    for i in patches:\n",
    "        cats.append(joinCatBands(patch=i, filters=filters, tract=tract))\n",
    "    return vstack(cats)\n",
    "\n",
    "def joinMerianCatPatches(patches, tract=9813):\n",
    "    import lsst.daf.butler as dafButler\n",
    "    butler = dafButler.Butler('/projects/MERIAN/repo/')\n",
    "    \n",
    "    cats = []\n",
    "    for patch in patches:\n",
    "        patch_old = f'{patch % 9},{patch // 9}'\n",
    "        dataId = dict(tract=tract, patch=patch)\n",
    "        refCat = butler.get(\n",
    "            'objectTable',\n",
    "            collections='DECam/runs/merian/dr1_wide',\n",
    "            dataId=dataId,\n",
    "            instrument='DECam',\n",
    "            skymap='hsc_rings_v1',\n",
    "        )\n",
    "        refCat = Table.from_pandas(refCat, index=True)\n",
    "        cats.append(refCat)\n",
    "    return vstack(cats)"
   ]
  },
  {
   "cell_type": "code",
   "execution_count": null,
   "id": "b33559e2",
   "metadata": {},
   "outputs": [],
   "source": []
  },
  {
   "cell_type": "code",
   "execution_count": null,
   "id": "b3a66cfd",
   "metadata": {},
   "outputs": [],
   "source": []
  },
  {
   "cell_type": "code",
   "execution_count": null,
   "id": "75e48951",
   "metadata": {},
   "outputs": [],
   "source": []
  },
  {
   "cell_type": "code",
   "execution_count": 9,
   "id": "fbfa03c0",
   "metadata": {
    "scrolled": true
   },
   "outputs": [
    {
     "name": "stderr",
     "output_type": "stream",
     "text": [
      "WARNING: MergeConflictWarning: Cannot merge meta key 'NOISE_EXPOSURE_ID' types <class 'int'> and <class 'int'>, choosing NOISE_EXPOSURE_ID=794877 [astropy.utils.metadata]\n",
      "WARNING: MergeConflictWarning: Cannot merge meta key 'NOISE_EXPOSURE_ID' types <class 'int'> and <class 'int'>, choosing NOISE_EXPOSURE_ID=794878 [astropy.utils.metadata]\n"
     ]
    }
   ],
   "source": [
    "HscCat = joinCatPatches([23, 24, 25], filters='gri')\n",
    "MerianCat = joinMerianCatPatches([23, 24, 25])"
   ]
  },
  {
   "cell_type": "code",
   "execution_count": 10,
   "id": "f6ba204c",
   "metadata": {},
   "outputs": [
    {
     "data": {
      "text/plain": [
       "102914"
      ]
     },
     "execution_count": 10,
     "metadata": {},
     "output_type": "execute_result"
    }
   ],
   "source": [
    "len(HscCat)"
   ]
  },
  {
   "cell_type": "markdown",
   "id": "258a9b00",
   "metadata": {},
   "source": [
    "rsync -azv --progress jiaxuanl@tiger.princeton.edu://projects/MERIAN/repo/S20A/gaapTable/9813/gaap_9813_23_25_gri.fits ./"
   ]
  },
  {
   "cell_type": "code",
   "execution_count": null,
   "id": "1974a580",
   "metadata": {},
   "outputs": [],
   "source": []
  },
  {
   "cell_type": "code",
   "execution_count": 11,
   "id": "5d4fdd6e",
   "metadata": {},
   "outputs": [],
   "source": [
    "HscCat.remove_columns(['coord_ra', 'coord_dec'])\n",
    "HscCat.rename_column('id', 'hsc_id')\n",
    "bigCat = hstack([MerianCat, HscCat])"
   ]
  },
  {
   "cell_type": "code",
   "execution_count": 13,
   "id": "88a650b1",
   "metadata": {},
   "outputs": [],
   "source": [
    "bigCat.write('/projects/MERIAN/repo/S20A/gaapTable/9813/gaap_9813_23_25_gri.fits')"
   ]
  },
  {
   "cell_type": "code",
   "execution_count": null,
   "id": "0dd566ce",
   "metadata": {},
   "outputs": [],
   "source": []
  },
  {
   "cell_type": "markdown",
   "id": "55c4b533",
   "metadata": {},
   "source": [
    "rsync -azv --progress jiaxuanl@tiger.princeton.edu://projects/MERIAN/repo/S20A/gaapTable/9813/gaap_9813_23_25_refN540.fits ./"
   ]
  },
  {
   "cell_type": "code",
   "execution_count": null,
   "id": "1e4eda5b",
   "metadata": {},
   "outputs": [],
   "source": []
  }
 ],
 "metadata": {
  "kernelspec": {
   "display_name": "Python 3 (ipykernel)",
   "language": "python",
   "name": "python3"
  },
  "language_info": {
   "codemirror_mode": {
    "name": "ipython",
    "version": 3
   },
   "file_extension": ".py",
   "mimetype": "text/x-python",
   "name": "python",
   "nbconvert_exporter": "python",
   "pygments_lexer": "ipython3",
   "version": "3.10.5"
  }
 },
 "nbformat": 4,
 "nbformat_minor": 5
}
