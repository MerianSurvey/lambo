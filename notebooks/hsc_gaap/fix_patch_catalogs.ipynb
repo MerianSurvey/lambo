{
 "cells": [
  {
   "cell_type": "code",
   "execution_count": 42,
   "metadata": {},
   "outputs": [
    {
     "name": "stdout",
     "output_type": "stream",
     "text": [
      "The autoreload extension is already loaded. To reload it, use:\n",
      "  %reload_ext autoreload\n"
     ]
    }
   ],
   "source": [
    "import os, sys\n",
    "import glob\n",
    "import numpy as np\n",
    "from astropy.table import Table\n",
    "sys.path.append(os.path.join(os.getenv('LAMBO_HOME'), 'lambo/scripts/'))\n",
    "\n",
    "from tqdm import tqdm\n",
    "from hsc_gaap.gaap import findReducedPatches\n",
    "from hsc_gaap.check_gaap_run import checkRun\n",
    "%load_ext autoreload\n",
    "%autoreload 2\n"
   ]
  },
  {
   "attachments": {},
   "cell_type": "markdown",
   "metadata": {},
   "source": [
    "---"
   ]
  },
  {
   "cell_type": "code",
   "execution_count": 25,
   "metadata": {},
   "outputs": [],
   "source": [
    "blendcols = ['g_blendedness',\n",
    "            'r_blendedness',\n",
    "            'i_blendedness',\n",
    "            'z_blendedness',\n",
    "            'y_blendedness',\n",
    "            'g_blendedness_flag',\n",
    "            'r_blendedness_flag',\n",
    "            'i_blendedness_flag',\n",
    "            'z_blendedness_flag',\n",
    "            'y_blendedness_flag',\n",
    "            'g_apertureflux10_S20A',\n",
    "            'r_apertureflux10_S20A',\n",
    "            'i_apertureflux10_S20A',\n",
    "            'z_apertureflux10_S20A',\n",
    "            'y_apertureflux10_S20A',\n",
    "            'g_apertureflux10_flag_S20A',\n",
    "            'r_apertureflux10_flag_S20A',\n",
    "            'i_apertureflux10_flag_S20A',\n",
    "            'z_apertureflux10_flag_S20A',\n",
    "            'y_apertureflux10_flag_S20A']"
   ]
  },
  {
   "attachments": {},
   "cell_type": "markdown",
   "metadata": {},
   "source": [
    "We want to remove all of the HSC blendedness columns from the patch level catalogs. First, let's make a list of all the patches and loop through and do it!"
   ]
  },
  {
   "cell_type": "code",
   "execution_count": 4,
   "metadata": {},
   "outputs": [],
   "source": [
    "repo = \"/scratch/gpfs/am2907/Merian/gaap\""
   ]
  },
  {
   "cell_type": "code",
   "execution_count": 35,
   "metadata": {},
   "outputs": [],
   "source": [
    "cat_paths = glob.glob(os.path.join(repo, \"S20A/gaapTable/\", \"**/objectTable*,*\"), recursive=True)"
   ]
  },
  {
   "cell_type": "code",
   "execution_count": 43,
   "metadata": {},
   "outputs": [
    {
     "name": "stderr",
     "output_type": "stream",
     "text": [
      "  3%|███▋                                                                                                                                      | 308/11566 [38:49<22:54:01,  7.32s/it]"
     ]
    }
   ],
   "source": [
    "for path in tqdm(cat_paths):\n",
    "    cat = Table.read(path)\n",
    "    try:\n",
    "        cat.remove_columns(blendcols)\n",
    "        cat.write(path, overwrite=True)\n",
    "    except:\n",
    "        continue"
   ]
  },
  {
   "cell_type": "code",
   "execution_count": null,
   "metadata": {},
   "outputs": [],
   "source": [
    "5"
   ]
  },
  {
   "cell_type": "code",
   "execution_count": null,
   "metadata": {},
   "outputs": [],
   "source": []
  }
 ],
 "metadata": {
  "kernelspec": {
   "display_name": "Python 3 (ipykernel)",
   "language": "python",
   "name": "python3"
  },
  "orig_nbformat": 4,
  "vscode": {
   "interpreter": {
    "hash": "31f2aee4e71d21fbe5cf8b01ff0e069b9275f58929596ceb00d14d90e3e16cd6"
   }
  }
 },
 "nbformat": 4,
 "nbformat_minor": 2
}
