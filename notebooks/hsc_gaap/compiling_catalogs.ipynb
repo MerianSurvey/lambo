{
 "cells": [
  {
   "cell_type": "code",
   "execution_count": 1,
   "metadata": {},
   "outputs": [],
   "source": [
    "import os, sys\n",
    "import glob\n",
    "import numpy as np\n",
    "sys.path.append(os.path.join(os.getenv('LAMBO_HOME'), 'lambo/scripts/'))\n",
    "# from astropy.table import Table, vstack, hstack\n",
    "# from hsc_gaap.gaap import findReducedPatches, consolidateMerianCats\n",
    "# from hsc_gaap.compile_catalogs import compileCatalogs\n",
    "# %load_ext autoreload\n",
    "# %autoreload 2\n"
   ]
  },
  {
   "attachments": {},
   "cell_type": "markdown",
   "metadata": {},
   "source": [
    "---\n",
    "# Making file of column names to keep "
   ]
  },
  {
   "cell_type": "code",
   "execution_count": 155,
   "metadata": {},
   "outputs": [],
   "source": [
    "# jiaxuan_table = Table.read(\"/projects/MERIAN/repo/S20A/gaapTable/9813/objectTable_S20A_Merian_9813_221224.fits\")\n",
    "# gaap_table  = Table.read('/scratch/gpfs/am2907/Merian/gaap/S20A/gaapTable/8280/1,8/objectTable_8280_1,8_S20A.fits')\n",
    "\n",
    "# keepColumns = jiaxuan_table.colnames[:5]\n",
    "# keepColumns += jiaxuan_table.colnames[83:]\n",
    "\n",
    "# keepColumns += [\"objectId\"]\n",
    "# keepColumns = np.array(keepColumns)\n",
    "# np.save(\"keep_table_columns\", keepColumns)"
   ]
  },
  {
   "cell_type": "code",
   "execution_count": 27,
   "metadata": {},
   "outputs": [
    {
     "data": {
      "text/plain": [
       "array(['objectId', 'coord_ra', 'coord_dec', 'ebv', 'tract', 'patch',\n",
       "       'N708_gaap1p0Flux', 'N708_gaap1p0FluxErr', 'N708_blendedness',\n",
       "       'N708_gaapOptimalFlux', 'N708_gaapOptimalFluxErr',\n",
       "       'N708_cModelFlux', 'N708_cModelFluxErr', 'N708_cModelFlux_inner',\n",
       "       'N708_cModel_flag', 'N540_gaap1p0Flux', 'N540_gaap1p0FluxErr',\n",
       "       'N540_blendedness', 'N540_gaapOptimalFlux',\n",
       "       'N540_gaapOptimalFluxErr', 'N540_cModelFlux', 'N540_cModelFluxErr',\n",
       "       'N540_cModelFlux_inner', 'N540_cModel_flag'], dtype='<U23')"
      ]
     },
     "execution_count": 27,
     "metadata": {},
     "output_type": "execute_result"
    }
   ],
   "source": [
    "test = np.load(\"../../scripts/hsc_gaap/keep_table_columns_merian.npy\")\n",
    "test"
   ]
  },
  {
   "cell_type": "code",
   "execution_count": 28,
   "metadata": {},
   "outputs": [],
   "source": [
    "np.savetxt(\"../../scripts/hsc_gaap/keep_table_columns_merian.txt\", test, fmt='%s')"
   ]
  },
  {
   "cell_type": "code",
   "execution_count": 156,
   "metadata": {},
   "outputs": [],
   "source": [
    "# merian_cols = consolidateMerianCats([0], 9813).colnames\n",
    "# gaap_cols = Table.read('/scratch/gpfs/am2907/Merian/gaap/S20A/gaapTable/9318/0,0/objectTable_9318_0,0_S20A.fits').colnames  \n",
    "# keepColumns_merian = [col for col in merian_cols if (np.sum([k in col for k in keepColumns])>0)]\n",
    "# keepColumns_gaap   = [col for col in gaap_cols if (np.sum([k in col for k in keepColumns])>0)]"
   ]
  },
  {
   "cell_type": "code",
   "execution_count": 128,
   "metadata": {},
   "outputs": [],
   "source": [
    "# keepColumns = list(np.load(\"keep_table_columns.npy\"))"
   ]
  },
  {
   "cell_type": "code",
   "execution_count": 129,
   "metadata": {},
   "outputs": [],
   "source": [
    "# keepColumns = open(\"keep_table_columns.txt\", \"r\").read().split('\\n')\n",
    "# merian_cols = consolidateMerianCats([0], 9813).colnames\n",
    "# gaap_cols = Table.read('/scratch/gpfs/am2907/Merian/gaap/S20A/gaapTable/9318/0,0/objectTable_9318_0,0_S20A.fits').colnames  \n",
    "# keepColumns_merian = np.array([[f\"{filt}_\"+ col for col in keepColumns[6:-1]] for filt in ['N708', 'N540']]).flatten()\n",
    "# keepColumns_merian = np.concatenate((keepColumns[:6], keepColumns_merian))\n",
    "# keepColumns_gaap = np.array([[f\"{filt}_\"+ col for col in keepColumns[6:]] for filt in ['g', 'r', 'i', 'z', 'y']]).flatten()\n",
    "# keepColumns_gaap = np.concatenate((keepColumns[:6], keepColumns_gaap))\n",
    "# keepColumns_merian = [k for k in keepColumns_merian if k in merian_cols] \n",
    "# keepColumns_gaap   = [k for k in keepColumns_gaap if k in gaap_cols] "
   ]
  },
  {
   "cell_type": "code",
   "execution_count": 152,
   "metadata": {},
   "outputs": [],
   "source": [
    "# np.save(\"keep_table_columns_merian\", keepColumns_merian)\n",
    "# np.save(\"keep_table_columns_gaap\", keepColumns_gaap)"
   ]
  },
  {
   "attachments": {},
   "cell_type": "markdown",
   "metadata": {},
   "source": [
    "---\n",
    "# Run the compiling code for an example tract"
   ]
  },
  {
   "cell_type": "code",
   "execution_count": 2,
   "metadata": {},
   "outputs": [
    {
     "name": "stdout",
     "output_type": "stream",
     "text": [
      "COMPILING CATALOG FOR TRACT 9566 WITH 81 PATCHES\n",
      "COMPILED TABLE OF 2524410 ROWS and 69 COLUMNS\n",
      "WROTE TABLE TO /scratch/gpfs/am2907/Merian/gaap/S20A/gaapTable/9566/objectTable_9566_S20A.fits\n",
      "COMPILING CATALOG FOR TRACT 9567 WITH 81 PATCHES\n",
      "COMPILED TABLE OF 1749744 ROWS and 69 COLUMNS\n",
      "WROTE TABLE TO /scratch/gpfs/am2907/Merian/gaap/S20A/gaapTable/9567/objectTable_9567_S20A.fits\n",
      "COMPILING CATALOG FOR TRACT 9568 WITH 81 PATCHES\n",
      "COMPILED TABLE OF 1573113 ROWS and 69 COLUMNS\n",
      "WROTE TABLE TO /scratch/gpfs/am2907/Merian/gaap/S20A/gaapTable/9568/objectTable_9568_S20A.fits\n",
      "COMPILING CATALOG FOR TRACT 9569 WITH 80 PATCHES\n",
      "COMPILED TABLE OF 2027848 ROWS and 69 COLUMNS\n",
      "WROTE TABLE TO /scratch/gpfs/am2907/Merian/gaap/S20A/gaapTable/9569/objectTable_9569_S20A.fits\n",
      "COMPILING CATALOG FOR TRACT 9570 WITH 77 PATCHES\n",
      "COMPILED TABLE OF 2196554 ROWS and 69 COLUMNS\n",
      "WROTE TABLE TO /scratch/gpfs/am2907/Merian/gaap/S20A/gaapTable/9570/objectTable_9570_S20A.fits\n",
      "COMPILING CATALOG FOR TRACT 9571 WITH 80 PATCHES\n",
      "COMPILED TABLE OF 2695149 ROWS and 69 COLUMNS\n",
      "WROTE TABLE TO /scratch/gpfs/am2907/Merian/gaap/S20A/gaapTable/9571/objectTable_9571_S20A.fits\n",
      "COMPILING CATALOG FOR TRACT 9572 WITH 77 PATCHES\n",
      "COMPILED TABLE OF 2566937 ROWS and 69 COLUMNS\n",
      "WROTE TABLE TO /scratch/gpfs/am2907/Merian/gaap/S20A/gaapTable/9572/objectTable_9572_S20A.fits\n",
      "COMPILING CATALOG FOR TRACT 9573 WITH 79 PATCHES\n",
      "COMPILED TABLE OF 2546682 ROWS and 69 COLUMNS\n",
      "WROTE TABLE TO /scratch/gpfs/am2907/Merian/gaap/S20A/gaapTable/9573/objectTable_9573_S20A.fits\n",
      "COMPILING CATALOG FOR TRACT 9574 WITH 80 PATCHES\n",
      "COMPILED TABLE OF 2119161 ROWS and 69 COLUMNS\n",
      "WROTE TABLE TO /scratch/gpfs/am2907/Merian/gaap/S20A/gaapTable/9574/objectTable_9574_S20A.fits\n"
     ]
    }
   ],
   "source": [
    "compileCatalogs([9566, 9567, 9568, 9569, 9570, 9571, 9572, \n",
    "               9573, 9574])"
   ]
  },
  {
   "attachments": {},
   "cell_type": "markdown",
   "metadata": {},
   "source": [
    "----"
   ]
  },
  {
   "cell_type": "code",
   "execution_count": 3,
   "metadata": {},
   "outputs": [],
   "source": [
    "tract=9570"
   ]
  },
  {
   "cell_type": "code",
   "execution_count": 8,
   "metadata": {},
   "outputs": [],
   "source": [
    "repo = \"/scratch/gpfs/am2907/Merian/gaap/\"\n"
   ]
  },
  {
   "cell_type": "code",
   "execution_count": 9,
   "metadata": {},
   "outputs": [],
   "source": [
    "catDir = os.path.join(repo, f\"S20A/gaapTable/{tract}/\")\n",
    "outCatFile = os.path.join(catDir, f'objectTable_{tract}_S20A.fits')\n",
    "\n",
    "objectTables = np.array(glob.glob(catDir + \"*/objectTable*\"))\n",
    "\n",
    "patches = findReducedPatches(tract)\n",
    "patches.sort()\n",
    "\n",
    "ot_patches = np.array([ot.split(\"_\")[2] for ot in objectTables])\n",
    "ot_patches = np.array([int(otp[0]) + int(otp[2])*9 for otp in ot_patches])\n",
    "objectTables, ot_patches = objectTables[ot_patches.argsort()], ot_patches[ot_patches.argsort()]"
   ]
  },
  {
   "cell_type": "code",
   "execution_count": 11,
   "metadata": {},
   "outputs": [
    {
     "data": {
      "text/plain": [
       "array([ 3,  5,  6,  7,  8, 12, 13, 14, 15, 16, 17, 20, 21, 22, 23, 24, 25,\n",
       "       26, 29, 30, 31, 32, 33, 34, 35, 39, 40, 41, 42, 43, 44, 48, 49, 50,\n",
       "       51, 52, 53, 57, 58, 59, 60, 61, 62, 67, 68, 69, 70, 71, 77, 78, 79,\n",
       "       80])"
      ]
     },
     "execution_count": 11,
     "metadata": {},
     "output_type": "execute_result"
    }
   ],
   "source": [
    "patches"
   ]
  },
  {
   "cell_type": "code",
   "execution_count": 10,
   "metadata": {},
   "outputs": [
    {
     "data": {
      "text/plain": [
       "array([ 3,  5,  6,  7,  8, 12, 13, 14, 15, 16, 17, 21, 22, 23, 24, 25, 26,\n",
       "       30, 31, 32, 33, 34, 35, 39, 40, 41, 42, 43, 44, 48, 49, 50, 51, 52,\n",
       "       53, 57, 58, 59, 60, 61, 62, 67, 68, 69, 70, 71, 77, 78, 79, 80])"
      ]
     },
     "execution_count": 10,
     "metadata": {},
     "output_type": "execute_result"
    }
   ],
   "source": [
    "ot_patches"
   ]
  },
  {
   "cell_type": "markdown",
   "metadata": {},
   "source": [
    "---"
   ]
  },
  {
   "cell_type": "code",
   "execution_count": 7,
   "metadata": {},
   "outputs": [],
   "source": [
    "tract=9570"
   ]
  },
  {
   "cell_type": "code",
   "execution_count": 4,
   "metadata": {},
   "outputs": [],
   "source": [
    "repo = \"/scratch/gpfs/am2907/Merian/gaap/\"\n",
    "catDir = os.path.join(repo, f\"S20A/gaapTable/{tract}/\")\n",
    "outCatFile = os.path.join(catDir, f'objectTable_{tract}_S20A.fits')\n",
    "testing = Table.read(outCatFile)"
   ]
  },
  {
   "cell_type": "code",
   "execution_count": 5,
   "metadata": {},
   "outputs": [
    {
     "data": {
      "text/plain": [
       "(69, 2196554)"
      ]
     },
     "execution_count": 5,
     "metadata": {},
     "output_type": "execute_result"
    }
   ],
   "source": [
    "len(testing.colnames), len(testing)"
   ]
  },
  {
   "cell_type": "code",
   "execution_count": 6,
   "metadata": {},
   "outputs": [
    {
     "data": {
      "text/html": [
       "<div><i>Table length=2196554</i>\n",
       "<table id=\"table47750534412032\" class=\"table-striped table-bordered table-condensed\">\n",
       "<thead><tr><th>objectId</th><th>coord_ra</th><th>coord_dec</th><th>ebv</th><th>tract</th><th>patch</th><th>N708_gaap1p0Flux</th><th>N708_gaap1p0FluxErr</th><th>N708_blendedness</th><th>N708_gaapOptimalFlux</th><th>N708_gaapOptimalFluxErr</th><th>N708_cModelFlux</th><th>N708_cModelFluxErr</th><th>N708_cModelFlux_inner</th><th>N708_cModel_flag</th><th>N540_gaap1p0Flux</th><th>N540_gaap1p0FluxErr</th><th>N540_blendedness</th><th>N540_gaapOptimalFlux</th><th>N540_gaapOptimalFluxErr</th><th>N540_cModelFlux</th><th>N540_cModelFluxErr</th><th>N540_cModelFlux_inner</th><th>N540_cModel_flag</th><th>g_gaap1p0Flux</th><th>g_gaap1p0FluxErr</th><th>g_blendedness</th><th>g_gaapOptimalFlux</th><th>g_gaapOptimalFluxErr</th><th>g_cModelFlux</th><th>g_cModelFluxErr</th><th>g_cModelFlux_inner</th><th>g_cModel_flag</th><th>r_gaap1p0Flux</th><th>r_gaap1p0FluxErr</th><th>r_blendedness</th><th>r_gaapOptimalFlux</th><th>r_gaapOptimalFluxErr</th><th>r_cModelFlux</th><th>r_cModelFluxErr</th><th>r_cModelFlux_inner</th><th>r_cModel_flag</th><th>i_gaap1p0Flux</th><th>i_gaap1p0FluxErr</th><th>i_blendedness</th><th>i_gaapOptimalFlux</th><th>i_gaapOptimalFluxErr</th><th>i_cModelFlux</th><th>i_cModelFluxErr</th><th>i_cModelFlux_inner</th><th>i_cModel_flag</th><th>z_gaap1p0Flux</th><th>z_gaap1p0FluxErr</th><th>z_blendedness</th><th>z_gaapOptimalFlux</th><th>z_gaapOptimalFluxErr</th><th>z_cModelFlux</th><th>z_cModelFluxErr</th><th>z_cModelFlux_inner</th><th>z_cModel_flag</th><th>y_gaap1p0Flux</th><th>y_gaap1p0FluxErr</th><th>y_blendedness</th><th>y_gaapOptimalFlux</th><th>y_gaapOptimalFluxErr</th><th>y_cModelFlux</th><th>y_cModelFluxErr</th><th>y_cModelFlux_inner</th><th>y_cModel_flag</th></tr></thead>\n",
       "<thead><tr><th>int64</th><th>float64</th><th>float64</th><th>float64</th><th>int64</th><th>int64</th><th>float64</th><th>float64</th><th>float64</th><th>float64</th><th>float64</th><th>float64</th><th>float64</th><th>float64</th><th>bool</th><th>float64</th><th>float64</th><th>float64</th><th>float64</th><th>float64</th><th>float64</th><th>float64</th><th>float64</th><th>bool</th><th>float64</th><th>float64</th><th>float64</th><th>float64</th><th>float64</th><th>float64</th><th>float64</th><th>float64</th><th>bool</th><th>float64</th><th>float64</th><th>float64</th><th>float64</th><th>float64</th><th>float64</th><th>float64</th><th>float64</th><th>bool</th><th>float64</th><th>float64</th><th>float64</th><th>float64</th><th>float64</th><th>float64</th><th>float64</th><th>float64</th><th>bool</th><th>float64</th><th>float64</th><th>float64</th><th>float64</th><th>float64</th><th>float64</th><th>float64</th><th>float64</th><th>bool</th><th>float64</th><th>float64</th><th>float64</th><th>float64</th><th>float64</th><th>float64</th><th>float64</th><th>float64</th><th>bool</th></tr></thead>\n",
       "<tr><td>3409233714012487681</td><td>150.46104100277844</td><td>-0.08748975570142829</td><td>0.035419024527072906</td><td>9570</td><td>0</td><td>14629.058239763746</td><td>58.99123448170552</td><td>0.0</td><td>13898.028898930408</td><td>55.462064873349746</td><td>26185.185000843318</td><td>101.79225219273718</td><td>23093.777049273005</td><td>False</td><td>11187.706941192488</td><td>55.73717194685377</td><td>0.0</td><td>10607.165298504118</td><td>52.37211568339074</td><td>18293.587479359212</td><td>84.5262482032989</td><td>17221.107302565444</td><td>False</td><td>7117.8579892619955</td><td>34.003716046560115</td><td>--</td><td>6659.276301198844</td><td>32.07930990115481</td><td>11921.520912137707</td><td>53.76887222419559</td><td>11567.356975703193</td><td>False</td><td>12813.165976220685</td><td>41.7116467874758</td><td>--</td><td>11978.752949412356</td><td>38.607228315852524</td><td>22144.268469814408</td><td>67.53623462128083</td><td>20992.15345707219</td><td>False</td><td>15281.08860104217</td><td>34.866316435345404</td><td>--</td><td>14315.85069310935</td><td>32.12193659105344</td><td>29314.343308788288</td><td>63.04299943998832</td><td>25445.117070204557</td><td>False</td><td>20250.823467698625</td><td>71.96290162645467</td><td>--</td><td>19043.442641994374</td><td>66.71124604990506</td><td>37934.214188809885</td><td>128.59113935250213</td><td>33557.19086998633</td><td>False</td><td>17687.81485272828</td><td>239.43226088720698</td><td>--</td><td>16561.06959988237</td><td>220.41295534102488</td><td>38543.28162783158</td><td>501.5564897187698</td><td>29773.29888477351</td><td>False</td></tr>\n",
       "<tr><td>...</td><td>...</td><td>...</td><td>...</td><td>...</td><td>...</td><td>...</td><td>...</td><td>...</td><td>...</td><td>...</td><td>...</td><td>...</td><td>...</td><td>...</td><td>...</td><td>...</td><td>...</td><td>...</td><td>...</td><td>...</td><td>...</td><td>...</td><td>...</td><td>...</td><td>...</td><td>...</td><td>...</td><td>...</td><td>...</td><td>...</td><td>...</td><td>...</td><td>...</td><td>...</td><td>...</td><td>...</td><td>...</td><td>...</td><td>...</td><td>...</td><td>...</td><td>...</td><td>...</td><td>...</td><td>...</td><td>...</td><td>...</td><td>...</td><td>...</td><td>...</td><td>...</td><td>...</td><td>...</td><td>...</td><td>...</td><td>...</td><td>...</td><td>...</td><td>...</td><td>...</td><td>...</td><td>...</td><td>...</td><td>...</td><td>...</td><td>...</td><td>...</td><td>...</td></tr>\n",
       "<tr><td>3409585557733405990</td><td>148.91722364849505</td><td>1.5822369518319948</td><td>0.02215338684618473</td><td>9570</td><td>80</td><td>19.03378673169749</td><td>64.9917139812463</td><td>--</td><td>--</td><td>--</td><td>-94.21050792589972</td><td>55.23300267427046</td><td>-90.61091202120909</td><td>False</td><td>509.56989876344016</td><td>102.95886649243681</td><td>--</td><td>--</td><td>--</td><td>519.340691974763</td><td>101.71360243597002</td><td>484.4492898911858</td><td>False</td><td>-3.5335804505663404</td><td>21.64347495633709</td><td>--</td><td>--</td><td>--</td><td>-2.0092144564013363</td><td>16.188099415473477</td><td>-1.9535298929718774</td><td>False</td><td>-24.082096853446608</td><td>26.582370838720607</td><td>--</td><td>--</td><td>--</td><td>-19.366513276953764</td><td>20.696943176950626</td><td>-18.84929579108715</td><td>False</td><td>4.123975959367612</td><td>36.47094693838375</td><td>--</td><td>--</td><td>--</td><td>6.421117119691139</td><td>22.8960406233698</td><td>6.179379534157993</td><td>False</td><td>24.15311707526596</td><td>72.89980195788364</td><td>--</td><td>--</td><td>--</td><td>42.89626367380105</td><td>49.495835884287985</td><td>40.79797146163947</td><td>False</td><td>-327.7128387202329</td><td>160.92137979303988</td><td>--</td><td>--</td><td>--</td><td>-129.78633135827508</td><td>109.37424799890515</td><td>-122.17300353493962</td><td>False</td></tr>\n",
       "<tr><td>3409585557733405991</td><td>148.92583197963035</td><td>1.5823157698421892</td><td>0.021873684599995613</td><td>9570</td><td>80</td><td>-231.2025274453756</td><td>82.03538121978116</td><td>0.0</td><td>--</td><td>--</td><td>-217.33933934347957</td><td>77.8914529317955</td><td>-200.13621743671735</td><td>False</td><td>401.71314173555305</td><td>108.2484856348734</td><td>--</td><td>--</td><td>--</td><td>441.26684412891507</td><td>114.42492830774341</td><td>401.87625121291376</td><td>False</td><td>54.04004186211174</td><td>21.37878140435439</td><td>--</td><td>--</td><td>--</td><td>66.25432664198702</td><td>20.857087314643692</td><td>61.837973526250835</td><td>False</td><td>19.086706189478473</td><td>26.468809580792172</td><td>--</td><td>--</td><td>--</td><td>36.31763471861124</td><td>23.782408043953073</td><td>35.03719409873993</td><td>False</td><td>30.32553148396217</td><td>36.74916436019041</td><td>--</td><td>--</td><td>--</td><td>2.37021545057884</td><td>28.780444573670454</td><td>2.2775188736834573</td><td>False</td><td>-60.49878113335298</td><td>71.20333901162458</td><td>--</td><td>--</td><td>--</td><td>-33.685551647871</td><td>58.67279756712132</td><td>-31.957108214792814</td><td>False</td><td>79.00187310597036</td><td>160.38580332254753</td><td>--</td><td>--</td><td>--</td><td>-1.7445950208890402</td><td>146.15956850713386</td><td>-1.5888534054548784</td><td>False</td></tr>\n",
       "</table></div>"
      ],
      "text/plain": [
       "<Table length=2196554>\n",
       "      objectId           coord_ra           coord_dec               ebv          ...     y_cModelFlux     y_cModelFluxErr    y_cModelFlux_inner y_cModel_flag\n",
       "       int64             float64             float64              float64        ...       float64            float64             float64            bool    \n",
       "------------------- ------------------ -------------------- -------------------- ... ------------------- ------------------ ------------------- -------------\n",
       "3409233714012487681 150.46104100277844 -0.08748975570142829 0.035419024527072906 ...   38543.28162783158  501.5564897187698   29773.29888477351         False\n",
       "                ...                ...                  ...                  ... ...                 ...                ...                 ...           ...\n",
       "3409585557733405990 148.91722364849505   1.5822369518319948  0.02215338684618473 ... -129.78633135827508 109.37424799890515 -122.17300353493962         False\n",
       "3409585557733405991 148.92583197963035   1.5823157698421892 0.021873684599995613 ... -1.7445950208890402 146.15956850713386 -1.5888534054548784         False"
      ]
     },
     "execution_count": 6,
     "metadata": {},
     "output_type": "execute_result"
    }
   ],
   "source": [
    "testing"
   ]
  },
  {
   "cell_type": "code",
   "execution_count": 18,
   "metadata": {},
   "outputs": [
    {
     "data": {
      "text/plain": [
       "13.67421807064292"
      ]
     },
     "execution_count": 18,
     "metadata": {},
     "output_type": "execute_result"
    }
   ],
   "source": [
    "np.nanmean(testing[\"N708_gaap1p0FluxErr\"]/testing[\"N708_gaap1p0Flux\"])"
   ]
  },
  {
   "cell_type": "code",
   "execution_count": 19,
   "metadata": {},
   "outputs": [],
   "source": [
    "import matplotlib.pyplot as plt"
   ]
  },
  {
   "cell_type": "code",
   "execution_count": 51,
   "metadata": {},
   "outputs": [
    {
     "data": {
      "image/png": "[encoded data removed]",
      "text/plain": [
       "<Figure size 432x288 with 1 Axes>"
      ]
     },
     "metadata": {
      "needs_background": "light"
     },
     "output_type": "display_data"
    }
   ],
   "source": [
    "plt.hist(abs(testing[\"N708_gaapOptimalFluxErr\"]/testing[\"N708_gaapOptimalFlux\"]), range=(-.01,1), bins=100, alpha=0.5)\n",
    "plt.hist(abs(testing[\"N540_gaapOptimalFluxErr\"]/testing[\"N540_gaapOptimalFlux\"]), range=(-.01,1), bins=100, alpha=0.5)\n",
    "plt.axvline(0.05, c = \"red\")\n",
    "plt.show()"
   ]
  },
  {
   "cell_type": "code",
   "execution_count": 50,
   "metadata": {},
   "outputs": [
    {
     "data": {
      "image/png": "[encoded data removed]",
      "text/plain": [
       "<Figure size 432x288 with 1 Axes>"
      ]
     },
     "metadata": {
      "needs_background": "light"
     },
     "output_type": "display_data"
    }
   ],
   "source": [
    "# plt.hist(abs(testing[\"g_gaapOptimalFluxErr\"]/testing[\"g_gaapOptimalFlux\"]), range=(-.01,1), bins=100, alpha=0.5)\n",
    "# plt.hist(abs(testing[\"r_gaapOptimalFluxErr\"]/testing[\"r_gaapOptimalFlux\"]), range=(-.01,1), bins=100, alpha=0.5)\n",
    "plt.hist(abs(testing[\"i_gaapOptimalFluxErr\"]/testing[\"i_gaapOptimalFlux\"]), range=(-.01,1), bins=100, alpha=0.5)\n",
    "# plt.hist(abs(testing[\"z_gaapOptimalFluxErr\"]/testing[\"z_gaapOptimalFlux\"]), range=(-.01,1), bins=100, alpha=0.5)\n",
    "# plt.hist(abs(testing[\"y_gaapOptimalFluxErr\"]/testing[\"y_gaapOptimalFlux\"]), range=(-.01,1), bins=100, alpha=0.5)\n",
    "plt.axvline(0.03, c = \"red\")\n",
    "plt.show()"
   ]
  },
  {
   "cell_type": "code",
   "execution_count": 35,
   "metadata": {},
   "outputs": [
    {
     "data": {
      "text/html": [
       "<div><i>Table length=2475493</i>\n",
       "<table id=\"table47961315648048\" class=\"table-striped table-bordered table-condensed\">\n",
       "<thead><tr><th>objectId</th><th>coord_ra</th><th>coord_dec</th><th>ebv</th><th>tract</th><th>patch</th><th>N708_gaap1p0Flux</th><th>N708_gaap1p0FluxErr</th><th>N708_blendedness</th><th>N708_gaapOptimalFlux</th><th>N708_gaapOptimalFluxErr</th><th>N708_cModelFlux</th><th>N708_cModelFluxErr</th><th>N708_cModelFlux_inner</th><th>N708_cModel_flag</th><th>N540_gaap1p0Flux</th><th>N540_gaap1p0FluxErr</th><th>N540_blendedness</th><th>N540_gaapOptimalFlux</th><th>N540_gaapOptimalFluxErr</th><th>N540_cModelFlux</th><th>N540_cModelFluxErr</th><th>N540_cModelFlux_inner</th><th>N540_cModel_flag</th><th>g_gaap1p0Flux</th><th>g_gaap1p0FluxErr</th><th>g_blendedness</th><th>g_gaapOptimalFlux</th><th>g_gaapOptimalFluxErr</th><th>g_cModelFlux</th><th>g_cModelFluxErr</th><th>g_cModelFlux_inner</th><th>g_cModel_flag</th><th>r_gaap1p0Flux</th><th>r_gaap1p0FluxErr</th><th>r_blendedness</th><th>r_gaapOptimalFlux</th><th>r_gaapOptimalFluxErr</th><th>r_cModelFlux</th><th>r_cModelFluxErr</th><th>r_cModelFlux_inner</th><th>r_cModel_flag</th><th>i_gaap1p0Flux</th><th>i_gaap1p0FluxErr</th><th>i_blendedness</th><th>i_gaapOptimalFlux</th><th>i_gaapOptimalFluxErr</th><th>i_cModelFlux</th><th>i_cModelFluxErr</th><th>i_cModelFlux_inner</th><th>i_cModel_flag</th><th>z_gaap1p0Flux</th><th>z_gaap1p0FluxErr</th><th>z_blendedness</th><th>z_gaapOptimalFlux</th><th>z_gaapOptimalFluxErr</th><th>z_cModelFlux</th><th>z_cModelFluxErr</th><th>z_cModelFlux_inner</th><th>z_cModel_flag</th><th>y_gaap1p0Flux</th><th>y_gaap1p0FluxErr</th><th>y_blendedness</th><th>y_gaapOptimalFlux</th><th>y_gaapOptimalFluxErr</th><th>y_cModelFlux</th><th>y_cModelFluxErr</th><th>y_cModelFlux_inner</th><th>y_cModel_flag</th></tr></thead>\n",
       "<thead><tr><th>int64</th><th>float64</th><th>float64</th><th>float64</th><th>int64</th><th>int64</th><th>float64</th><th>float64</th><th>float64</th><th>float64</th><th>float64</th><th>float64</th><th>float64</th><th>float64</th><th>bool</th><th>float64</th><th>float64</th><th>float64</th><th>float64</th><th>float64</th><th>float64</th><th>float64</th><th>float64</th><th>bool</th><th>float64</th><th>float64</th><th>float64</th><th>float64</th><th>float64</th><th>float64</th><th>float64</th><th>float64</th><th>bool</th><th>float64</th><th>float64</th><th>float64</th><th>float64</th><th>float64</th><th>float64</th><th>float64</th><th>float64</th><th>bool</th><th>float64</th><th>float64</th><th>float64</th><th>float64</th><th>float64</th><th>float64</th><th>float64</th><th>float64</th><th>bool</th><th>float64</th><th>float64</th><th>float64</th><th>float64</th><th>float64</th><th>float64</th><th>float64</th><th>float64</th><th>bool</th><th>float64</th><th>float64</th><th>float64</th><th>float64</th><th>float64</th><th>float64</th><th>float64</th><th>float64</th><th>bool</th></tr></thead>\n",
       "<tr><td>3495800463490547713</td><td>151.08443813783396</td><td>1.3916901105641533</td><td>0.028918761759996414</td><td>9813</td><td>0</td><td>787.457411837102</td><td>54.21291847483977</td><td>0.0</td><td>654.2860564074824</td><td>42.360085615824616</td><td>--</td><td>--</td><td>--</td><td>True</td><td>350.31696443575976</td><td>40.46617727339147</td><td>0.0</td><td>234.377709688426</td><td>36.916336880640095</td><td>--</td><td>--</td><td>--</td><td>True</td><td>192.1221787998984</td><td>21.481531981205563</td><td>--</td><td>133.87544695462293</td><td>16.4642300037556</td><td>--</td><td>--</td><td>--</td><td>True</td><td>358.153730831161</td><td>27.19342053459803</td><td>--</td><td>300.09548157652625</td><td>21.1906478572206</td><td>--</td><td>--</td><td>--</td><td>True</td><td>712.4440773458288</td><td>34.962278114739256</td><td>--</td><td>607.1004597461446</td><td>24.663834621178303</td><td>--</td><td>--</td><td>--</td><td>True</td><td>1378.7354315153875</td><td>71.98212458445566</td><td>--</td><td>1166.9001286081277</td><td>52.12857447007485</td><td>--</td><td>--</td><td>--</td><td>True</td><td>2055.6481649135176</td><td>162.37591100923186</td><td>--</td><td>1814.7320841164774</td><td>118.66527810483073</td><td>--</td><td>--</td><td>--</td><td>True</td></tr>\n",
       "<tr><td>3495800463490547714</td><td>151.0828515903241</td><td>1.3918306275775547</td><td>0.02884758450090885</td><td>9813</td><td>0</td><td>716.1052899610945</td><td>48.774149830085506</td><td>0.0</td><td>701.1777269134869</td><td>48.01314287907943</td><td>--</td><td>--</td><td>--</td><td>True</td><td>521.4422825417713</td><td>42.45638164102585</td><td>0.0</td><td>511.4946947027081</td><td>41.671978111473955</td><td>--</td><td>--</td><td>--</td><td>True</td><td>347.90010210195334</td><td>22.435020085304682</td><td>--</td><td>340.6902989239862</td><td>21.787751558136765</td><td>--</td><td>--</td><td>--</td><td>True</td><td>483.7366148370689</td><td>27.513818126197396</td><td>--</td><td>476.4023038862146</td><td>26.737053913715727</td><td>--</td><td>--</td><td>--</td><td>True</td><td>584.8731769964203</td><td>34.445228700858166</td><td>--</td><td>571.8319605763784</td><td>33.316002706326245</td><td>--</td><td>--</td><td>--</td><td>True</td><td>623.6833914575301</td><td>70.23436595787122</td><td>--</td><td>609.4660939169071</td><td>68.0206904223931</td><td>--</td><td>--</td><td>--</td><td>True</td><td>455.83519453990647</td><td>164.5314602863044</td><td>--</td><td>439.4578744466615</td><td>159.42406617434972</td><td>--</td><td>--</td><td>--</td><td>True</td></tr>\n",
       "<tr><td>3495800463490547715</td><td>151.07309839368517</td><td>1.391694103342743</td><td>0.028401503339409828</td><td>9813</td><td>0</td><td>339.9563713252834</td><td>49.66987480697498</td><td>0.0</td><td>--</td><td>--</td><td>--</td><td>--</td><td>--</td><td>True</td><td>110.14084927608978</td><td>40.4643026643365</td><td>--</td><td>--</td><td>--</td><td>--</td><td>--</td><td>--</td><td>True</td><td>69.94452555301129</td><td>22.163149885135102</td><td>--</td><td>--</td><td>--</td><td>--</td><td>--</td><td>--</td><td>True</td><td>161.8661693111592</td><td>27.42095605662642</td><td>--</td><td>--</td><td>--</td><td>--</td><td>--</td><td>--</td><td>True</td><td>150.1608979845246</td><td>37.068273923466634</td><td>--</td><td>116.7202498247451</td><td>25.97882978132064</td><td>--</td><td>--</td><td>--</td><td>True</td><td>180.88924936884519</td><td>76.01279870619025</td><td>--</td><td>111.81723469344574</td><td>56.36284001096072</td><td>--</td><td>--</td><td>--</td><td>True</td><td>157.83572149330226</td><td>181.4318532221554</td><td>--</td><td>4.591966204718548</td><td>132.06644094492273</td><td>--</td><td>--</td><td>--</td><td>True</td></tr>\n",
       "<tr><td>3495800463490547716</td><td>151.07057844173025</td><td>1.391694983229763</td><td>0.028284458443522453</td><td>9813</td><td>0</td><td>116.53456105452251</td><td>49.68016124182469</td><td>0.0</td><td>--</td><td>--</td><td>--</td><td>--</td><td>--</td><td>True</td><td>80.17394897228091</td><td>39.99809024422825</td><td>--</td><td>--</td><td>--</td><td>--</td><td>--</td><td>--</td><td>True</td><td>-13.303814704643507</td><td>22.08620283097036</td><td>--</td><td>--</td><td>--</td><td>--</td><td>--</td><td>--</td><td>True</td><td>10.890363530613353</td><td>27.623652003199997</td><td>--</td><td>--</td><td>--</td><td>--</td><td>--</td><td>--</td><td>True</td><td>-60.6114394853957</td><td>35.90936703947776</td><td>--</td><td>-40.54628296832513</td><td>21.69898759748531</td><td>--</td><td>--</td><td>--</td><td>True</td><td>-75.27786420407718</td><td>74.83691983613318</td><td>--</td><td>-149.83228434019114</td><td>48.68114534265096</td><td>--</td><td>--</td><td>--</td><td>True</td><td>18.051167593607172</td><td>178.9176470244745</td><td>--</td><td>-90.07797786936842</td><td>114.47199425788703</td><td>--</td><td>--</td><td>--</td><td>True</td></tr>\n",
       "<tr><td>3495800463490547717</td><td>151.06955179372443</td><td>1.391695340931078</td><td>0.02823655679821968</td><td>9813</td><td>0</td><td>164.78382502675206</td><td>48.74596858466519</td><td>0.0</td><td>--</td><td>--</td><td>--</td><td>--</td><td>--</td><td>True</td><td>40.084895773513736</td><td>41.190562892651606</td><td>--</td><td>--</td><td>--</td><td>--</td><td>--</td><td>--</td><td>True</td><td>-19.79458026863319</td><td>21.63510766873526</td><td>--</td><td>--</td><td>--</td><td>--</td><td>--</td><td>--</td><td>True</td><td>19.273031194996214</td><td>27.70744767182032</td><td>--</td><td>--</td><td>--</td><td>--</td><td>--</td><td>--</td><td>True</td><td>-50.898695039946865</td><td>37.28284995512101</td><td>--</td><td>-6.900429980549258</td><td>24.631050669623328</td><td>--</td><td>--</td><td>--</td><td>True</td><td>33.103778813713255</td><td>72.91858224781745</td><td>--</td><td>12.684685401802657</td><td>50.500532804149756</td><td>--</td><td>--</td><td>--</td><td>True</td><td>-125.70600171040624</td><td>181.46217802523796</td><td>--</td><td>-45.535846455838204</td><td>124.89423718939172</td><td>--</td><td>--</td><td>--</td><td>True</td></tr>\n",
       "<tr><td>3495800463490547718</td><td>151.07777235150857</td><td>1.4045332781940354</td><td>0.028667176142334938</td><td>9813</td><td>0</td><td>1975341.6776895288</td><td>1102.0239702459535</td><td>0.0</td><td>1929889.100813499</td><td>879.1638295805587</td><td>--</td><td>--</td><td>--</td><td>True</td><td>1048290.9178834747</td><td>390.94015963635604</td><td>0.0</td><td>1014144.9881124097</td><td>344.66551236813325</td><td>1085681.9123177375</td><td>330.50577061967147</td><td>941336.5684301411</td><td>False</td><td>634765.536038095</td><td>230.2611838849433</td><td>--</td><td>613481.3728278422</td><td>180.81773333286807</td><td>--</td><td>--</td><td>--</td><td>True</td><td>563531.2177474253</td><td>254.85222789448105</td><td>--</td><td>420119.735893475</td><td>203.38132412710854</td><td>--</td><td>--</td><td>--</td><td>True</td><td>111985.54767308179</td><td>75.25808879264983</td><td>--</td><td>67214.91348500882</td><td>55.254275494066896</td><td>--</td><td>--</td><td>--</td><td>True</td><td>415691.6397556325</td><td>194.6199195266721</td><td>--</td><td>269230.4537946997</td><td>148.62290962836192</td><td>--</td><td>--</td><td>--</td><td>True</td><td>734293.3941505246</td><td>351.2684093329864</td><td>--</td><td>540261.0219358458</td><td>262.38900003218464</td><td>--</td><td>--</td><td>--</td><td>True</td></tr>\n",
       "<tr><td>3495800463490547719</td><td>151.04775873308427</td><td>1.391702828625083</td><td>0.02722129039466381</td><td>9813</td><td>0</td><td>750.3047462455987</td><td>49.06474490905796</td><td>0.0</td><td>646.10765427664</td><td>37.94533933739975</td><td>--</td><td>--</td><td>--</td><td>True</td><td>225.48063557877717</td><td>46.783057642129975</td><td>--</td><td>--</td><td>--</td><td>--</td><td>--</td><td>--</td><td>True</td><td>214.07132907092196</td><td>23.79743577670263</td><td>--</td><td>170.89918391979162</td><td>18.008637176771515</td><td>--</td><td>--</td><td>--</td><td>True</td><td>505.8167317040137</td><td>30.45953345202088</td><td>--</td><td>381.9105682280571</td><td>24.410690153498376</td><td>--</td><td>--</td><td>--</td><td>True</td><td>1297.9189232418385</td><td>35.21227790184288</td><td>--</td><td>1016.8420090117913</td><td>23.78939843607342</td><td>--</td><td>--</td><td>--</td><td>True</td><td>2285.71837927858</td><td>68.6033057671452</td><td>--</td><td>1774.1002706783881</td><td>48.07549195608113</td><td>--</td><td>--</td><td>--</td><td>True</td><td>2801.371280076663</td><td>162.90711593453779</td><td>--</td><td>2176.7173347626867</td><td>114.65438246665555</td><td>--</td><td>--</td><td>--</td><td>True</td></tr>\n",
       "<tr><td>3495800463490547720</td><td>151.03464545190047</td><td>1.391707237119274</td><td>0.02665325440466404</td><td>9813</td><td>0</td><td>675.3526357222358</td><td>53.646561005267976</td><td>0.0</td><td>590.7738455146689</td><td>41.89949386980625</td><td>--</td><td>--</td><td>--</td><td>True</td><td>362.65191316563056</td><td>45.74128339203397</td><td>0.0</td><td>--</td><td>--</td><td>--</td><td>--</td><td>--</td><td>True</td><td>271.5149720937056</td><td>22.011365886685756</td><td>--</td><td>210.5540678514474</td><td>16.576776783663007</td><td>--</td><td>--</td><td>--</td><td>True</td><td>557.4338107616755</td><td>27.57366175177349</td><td>--</td><td>382.1280607690507</td><td>21.73763035694979</td><td>--</td><td>--</td><td>--</td><td>True</td><td>733.5842758197604</td><td>34.85562878279838</td><td>--</td><td>531.5783449621049</td><td>23.642436947009923</td><td>--</td><td>--</td><td>--</td><td>True</td><td>849.3722936854288</td><td>70.21199482682309</td><td>--</td><td>581.7370885348394</td><td>49.22718060455854</td><td>--</td><td>--</td><td>--</td><td>True</td><td>768.0120957857679</td><td>167.43909247763904</td><td>--</td><td>500.53380116990144</td><td>118.82129793810662</td><td>--</td><td>--</td><td>--</td><td>True</td></tr>\n",
       "<tr><td>3495800463490547721</td><td>151.02358550555186</td><td>1.3918508557997333</td><td>0.026183534413576126</td><td>9813</td><td>0</td><td>605.2330646666735</td><td>48.93328995259971</td><td>0.0</td><td>601.785685350853</td><td>38.49657742183523</td><td>--</td><td>--</td><td>--</td><td>True</td><td>366.14702897289015</td><td>38.72486550196086</td><td>0.0</td><td>--</td><td>--</td><td>--</td><td>--</td><td>--</td><td>True</td><td>424.5153584034125</td><td>22.459313524366173</td><td>--</td><td>351.79179938896687</td><td>17.11173312484071</td><td>--</td><td>--</td><td>--</td><td>True</td><td>476.62469294787525</td><td>27.05007147967561</td><td>--</td><td>415.4253151721175</td><td>21.002397087888852</td><td>--</td><td>--</td><td>--</td><td>True</td><td>665.0962775237639</td><td>41.319532321500475</td><td>--</td><td>557.9109488729654</td><td>27.25299489905283</td><td>--</td><td>--</td><td>--</td><td>True</td><td>842.5721637488442</td><td>79.41751841553173</td><td>--</td><td>651.0411324439871</td><td>54.78169075765179</td><td>--</td><td>--</td><td>--</td><td>True</td><td>888.1550531494981</td><td>187.83818993085453</td><td>--</td><td>832.6227597710142</td><td>130.34613276786186</td><td>--</td><td>--</td><td>--</td><td>True</td></tr>\n",
       "<tr><td>3495800463490547722</td><td>151.0202254141464</td><td>1.3917120008006525</td><td>0.026041245087981224</td><td>9813</td><td>0</td><td>794.2040584865666</td><td>50.57465417793263</td><td>0.0</td><td>389.0946504145036</td><td>39.47867901863059</td><td>--</td><td>--</td><td>--</td><td>True</td><td>591.0936686245585</td><td>39.530484297179825</td><td>0.0</td><td>--</td><td>--</td><td>--</td><td>--</td><td>--</td><td>True</td><td>520.6203678768013</td><td>22.518078366922023</td><td>--</td><td>311.425408586313</td><td>16.708067289822242</td><td>--</td><td>--</td><td>--</td><td>True</td><td>676.5375631796101</td><td>28.0732209948957</td><td>--</td><td>384.60268636723566</td><td>22.20983901357347</td><td>--</td><td>--</td><td>--</td><td>True</td><td>995.7772735700817</td><td>39.74129472880102</td><td>--</td><td>529.5044115353373</td><td>25.312877133404704</td><td>--</td><td>--</td><td>--</td><td>True</td><td>1446.6658008020354</td><td>79.08378582386855</td><td>--</td><td>792.9104066184466</td><td>51.17174045804057</td><td>--</td><td>--</td><td>--</td><td>True</td><td>1469.906692508623</td><td>188.13330503672177</td><td>--</td><td>770.6612477860706</td><td>127.75673624311025</td><td>--</td><td>--</td><td>--</td><td>True</td></tr>\n",
       "<tr><td>3495800463490547723</td><td>150.98587831367752</td><td>1.3918162980714068</td><td>0.02505539171397686</td><td>9813</td><td>0</td><td>434.5949462487135</td><td>49.050632970504374</td><td>0.0</td><td>395.81693294087773</td><td>42.99728023001378</td><td>--</td><td>--</td><td>--</td><td>True</td><td>294.20372717139475</td><td>43.265841172822164</td><td>--</td><td>241.82391177888218</td><td>39.28569158369143</td><td>--</td><td>--</td><td>--</td><td>True</td><td>244.41474767893223</td><td>21.943480112984602</td><td>--</td><td>215.40512760534577</td><td>18.936347880988087</td><td>--</td><td>--</td><td>--</td><td>True</td><td>355.3172846991349</td><td>27.254285822520455</td><td>--</td><td>315.89656680988537</td><td>23.594411300069307</td><td>--</td><td>--</td><td>--</td><td>True</td><td>573.4889874415867</td><td>41.569390913221454</td><td>--</td><td>514.590331061985</td><td>34.37495288905861</td><td>--</td><td>--</td><td>--</td><td>True</td><td>638.0550129816155</td><td>89.36647983522474</td><td>--</td><td>554.7991415533343</td><td>77.1081636874745</td><td>--</td><td>--</td><td>--</td><td>True</td><td>459.85842963677493</td><td>229.61387485734372</td><td>--</td><td>416.46341779669</td><td>191.3174533361381</td><td>--</td><td>--</td><td>--</td><td>True</td></tr>\n",
       "<tr><td>3495800463490547724</td><td>150.9586720402965</td><td>1.3982421952038422</td><td>0.024722160771489143</td><td>9813</td><td>0</td><td>22601.70026852783</td><td>67.66206684083897</td><td>0.0</td><td>19141.738501110878</td><td>53.194550748645526</td><td>32443.90299144888</td><td>81.18927241934998</td><td>25948.785064673764</td><td>False</td><td>18791.52140784266</td><td>55.85724616593464</td><td>0.0</td><td>15756.29522365494</td><td>47.77253078345788</td><td>25557.615067491522</td><td>68.94393705951671</td><td>20857.054792968633</td><td>False</td><td>14619.539780859595</td><td>35.00995957460169</td><td>--</td><td>12170.249158543298</td><td>26.776941718133184</td><td>21260.789133631453</td><td>40.591332320389526</td><td>17729.643748519997</td><td>False</td><td>20212.67074465154</td><td>37.78205002996958</td><td>--</td><td>16818.173160781964</td><td>30.12193096399234</td><td>28965.222394012602</td><td>46.659521817761885</td><td>24206.985473960387</td><td>False</td><td>24417.827159309258</td><td>43.40710467072434</td><td>--</td><td>20160.237912434583</td><td>31.119470560979366</td><td>35973.768281568824</td><td>48.20240275496434</td><td>29445.262295983513</td><td>False</td><td>25201.648773319263</td><td>75.87841447567367</td><td>--</td><td>20668.558184422203</td><td>56.78172071838583</td><td>38151.75200599371</td><td>97.21079743992274</td><td>30456.22990659677</td><td>False</td><td>26770.82798003706</td><td>153.5934344775272</td><td>--</td><td>21815.688627950498</td><td>112.06590425559016</td><td>39957.45268675901</td><td>195.17163178676958</td><td>32308.680187439106</td><td>False</td></tr>\n",
       "<tr><td>3495800463490547725</td><td>150.9156890377158</td><td>1.3918372066337754</td><td>0.02499190904200077</td><td>9813</td><td>0</td><td>1382.4783937521556</td><td>46.67018668474637</td><td>0.0</td><td>1134.7276412818787</td><td>36.28203723510945</td><td>--</td><td>--</td><td>--</td><td>True</td><td>476.6325935072217</td><td>37.264716682506375</td><td>0.0</td><td>433.0919515386703</td><td>31.927250216219775</td><td>--</td><td>--</td><td>--</td><td>True</td><td>389.3814793097943</td><td>24.58390185371808</td><td>--</td><td>329.06986345534733</td><td>18.729095497273523</td><td>--</td><td>--</td><td>--</td><td>True</td><td>971.5080574353607</td><td>29.967715700406234</td><td>--</td><td>809.5171638283824</td><td>23.313719637165008</td><td>--</td><td>--</td><td>--</td><td>True</td><td>2640.2210966605853</td><td>49.15056701623377</td><td>--</td><td>2214.502725044772</td><td>34.92446783747339</td><td>--</td><td>--</td><td>--</td><td>True</td><td>4582.315923732045</td><td>99.43036793400518</td><td>--</td><td>3770.2046371688402</td><td>76.174313503136</td><td>--</td><td>--</td><td>--</td><td>True</td><td>5335.423961291575</td><td>220.7459679167022</td><td>--</td><td>4307.638135644064</td><td>160.0755263306916</td><td>--</td><td>--</td><td>--</td><td>True</td></tr>\n",
       "<tr><td>3495800463490547726</td><td>151.0085234809989</td><td>1.3982227125874462</td><td>0.025667961686849594</td><td>9813</td><td>0</td><td>420534.0070188651</td><td>217.7200384424679</td><td>0.0</td><td>363161.69307752745</td><td>183.17799419666412</td><td>924332.2029974693</td><td>363.22142113027905</td><td>643635.4762803848</td><td>False</td><td>210219.39031140585</td><td>128.47408132428237</td><td>0.0</td><td>179193.23263793168</td><td>111.91864836030777</td><td>461645.11185891554</td><td>220.4106967747432</td><td>321557.437604662</td><td>False</td><td>124435.36766062317</td><td>70.21781155446202</td><td>--</td><td>105138.66564587665</td><td>58.017213381683696</td><td>283347.81418735965</td><td>118.47742425686333</td><td>201833.11540529525</td><td>False</td><td>296773.1216119213</td><td>98.16518166438868</td><td>--</td><td>250805.8936834932</td><td>82.41982180567463</td><td>673943.3943116346</td><td>166.49545269729848</td><td>480696.7713639652</td><td>False</td><td>470143.11917235993</td><td>164.6427483196127</td><td>--</td><td>395759.15204001986</td><td>129.71407506099538</td><td>1069580.7961731318</td><td>300.07025784680644</td><td>478229.20827741415</td><td>False</td><td>611106.3072780365</td><td>232.95784507595144</td><td>--</td><td>507968.3916390364</td><td>187.62055984564228</td><td>1371291.6516409991</td><td>399.19916648539794</td><td>966036.2637050969</td><td>False</td><td>726491.7552062685</td><td>389.0001928977495</td><td>--</td><td>606890.1469902265</td><td>311.33889417052114</td><td>1695494.4843790052</td><td>680.4128536728892</td><td>1168686.4654981045</td><td>False</td></tr>\n",
       "<tr><td>3495800463490547727</td><td>150.90224834443833</td><td>1.391934279492078</td><td>0.025217147544026375</td><td>9813</td><td>0</td><td>186.5682683553201</td><td>45.626466493490156</td><td>--</td><td>--</td><td>--</td><td>--</td><td>--</td><td>--</td><td>True</td><td>57.49934134032902</td><td>36.666148079796756</td><td>--</td><td>--</td><td>--</td><td>--</td><td>--</td><td>--</td><td>True</td><td>-24.84460707992866</td><td>24.507520859129738</td><td>--</td><td>--</td><td>--</td><td>--</td><td>--</td><td>--</td><td>True</td><td>13.601859534932899</td><td>29.417048384959234</td><td>--</td><td>--</td><td>--</td><td>--</td><td>--</td><td>--</td><td>True</td><td>-148.4995525661315</td><td>47.64454705243391</td><td>--</td><td>--</td><td>--</td><td>--</td><td>--</td><td>--</td><td>True</td><td>127.46638093847322</td><td>98.77639220323772</td><td>--</td><td>--</td><td>--</td><td>--</td><td>--</td><td>--</td><td>True</td><td>306.0322381330574</td><td>238.17163989536058</td><td>--</td><td>--</td><td>--</td><td>--</td><td>--</td><td>--</td><td>True</td></tr>\n",
       "<tr><td>3495800463490547730</td><td>151.04229884047896</td><td>1.3918446295260312</td><td>0.02698454260826111</td><td>9813</td><td>0</td><td>176.6561743250981</td><td>55.19496745258159</td><td>-0.000707692003758309</td><td>--</td><td>--</td><td>--</td><td>--</td><td>--</td><td>True</td><td>156.27542419281076</td><td>45.95907427989563</td><td>0.0</td><td>--</td><td>--</td><td>--</td><td>--</td><td>--</td><td>True</td><td>41.63101693391074</td><td>23.11172649950678</td><td>--</td><td>--</td><td>--</td><td>--</td><td>--</td><td>--</td><td>True</td><td>-52.48639551459779</td><td>29.622805779395073</td><td>--</td><td>--</td><td>--</td><td>--</td><td>--</td><td>--</td><td>True</td><td>-21.338519313398606</td><td>35.81524132516489</td><td>--</td><td>-17.27989686530862</td><td>22.922302949946015</td><td>--</td><td>--</td><td>--</td><td>True</td><td>124.62713080258705</td><td>71.83028924024578</td><td>--</td><td>63.839360239310366</td><td>50.173275076002334</td><td>--</td><td>--</td><td>--</td><td>True</td><td>140.98486615690683</td><td>166.39772247351783</td><td>--</td><td>41.03949415765677</td><td>119.22703507150133</td><td>--</td><td>--</td><td>--</td><td>True</td></tr>\n",
       "<tr><td>3495800463490547731</td><td>150.99749860893047</td><td>1.3919525930655885</td><td>0.025299452245235443</td><td>9813</td><td>0</td><td>449.54608717300096</td><td>50.48620453972016</td><td>0.0</td><td>397.52040244620673</td><td>37.88270687027676</td><td>--</td><td>--</td><td>--</td><td>True</td><td>60.8670906947252</td><td>38.3370607608697</td><td>--</td><td>--</td><td>--</td><td>--</td><td>--</td><td>--</td><td>True</td><td>-19.43297484014748</td><td>21.317091362992638</td><td>--</td><td>9.68589001471031</td><td>15.27279753381822</td><td>--</td><td>--</td><td>--</td><td>True</td><td>-7.2301822284012935</td><td>27.73760032822445</td><td>--</td><td>10.811554140866365</td><td>21.405364965564143</td><td>--</td><td>--</td><td>--</td><td>True</td><td>117.05027731925233</td><td>40.85226761267833</td><td>--</td><td>155.2156217969752</td><td>24.007416876811206</td><td>--</td><td>--</td><td>--</td><td>True</td><td>-15.39514411297902</td><td>87.25071448685394</td><td>--</td><td>84.49133524266738</td><td>62.185360525655334</td><td>--</td><td>--</td><td>--</td><td>True</td><td>-92.63614428895235</td><td>216.3172651045797</td><td>--</td><td>21.850462739565767</td><td>154.12570214763116</td><td>--</td><td>--</td><td>--</td><td>True</td></tr>\n",
       "<tr><td>...</td><td>...</td><td>...</td><td>...</td><td>...</td><td>...</td><td>...</td><td>...</td><td>...</td><td>...</td><td>...</td><td>...</td><td>...</td><td>...</td><td>...</td><td>...</td><td>...</td><td>...</td><td>...</td><td>...</td><td>...</td><td>...</td><td>...</td><td>...</td><td>...</td><td>...</td><td>...</td><td>...</td><td>...</td><td>...</td><td>...</td><td>...</td><td>...</td><td>...</td><td>...</td><td>...</td><td>...</td><td>...</td><td>...</td><td>...</td><td>...</td><td>...</td><td>...</td><td>...</td><td>...</td><td>...</td><td>...</td><td>...</td><td>...</td><td>...</td><td>...</td><td>...</td><td>...</td><td>...</td><td>...</td><td>...</td><td>...</td><td>...</td><td>...</td><td>...</td><td>...</td><td>...</td><td>...</td><td>...</td><td>...</td><td>...</td><td>...</td><td>...</td><td>...</td></tr>\n",
       "<tr><td>3496152307211469011</td><td>149.50843850422592</td><td>3.064450949839866</td><td>0.025039007887244225</td><td>9813</td><td>80</td><td>102.04717302154698</td><td>52.74164182993438</td><td>--</td><td>--</td><td>--</td><td>104.35038220632012</td><td>40.80401114315592</td><td>95.75286845052084</td><td>False</td><td>123.42027353348558</td><td>48.363474501178956</td><td>--</td><td>--</td><td>--</td><td>174.23727139104628</td><td>40.66347557061869</td><td>151.67911855226455</td><td>False</td><td>-45.2683927866872</td><td>23.58491113827053</td><td>--</td><td>--</td><td>--</td><td>-21.08542645629387</td><td>17.004122821714454</td><td>-19.868380907423404</td><td>False</td><td>3.0139761531549736</td><td>30.122177426103622</td><td>--</td><td>--</td><td>--</td><td>-18.134260501530452</td><td>24.267405778552718</td><td>-16.80883115594938</td><td>False</td><td>-13.737999469684036</td><td>29.869045680977987</td><td>--</td><td>--</td><td>--</td><td>-27.704889384763884</td><td>18.001050106468867</td><td>-26.55680179847367</td><td>False</td><td>-29.951384983692733</td><td>72.0281179931852</td><td>--</td><td>--</td><td>--</td><td>9.1219529505523</td><td>49.128086255357864</td><td>8.641877162465661</td><td>False</td><td>183.76730396695254</td><td>150.2479367344852</td><td>--</td><td>--</td><td>--</td><td>28.319831923585863</td><td>88.70825805586608</td><td>26.6993660786884</td><td>False</td></tr>\n",
       "<tr><td>3496152307211469012</td><td>149.49114790196546</td><td>3.065369489744899</td><td>0.025617249310016632</td><td>9813</td><td>80</td><td>5.944997501954578</td><td>51.903956758979966</td><td>--</td><td>--</td><td>--</td><td>75.56731338972051</td><td>40.3561336639946</td><td>68.53835355032075</td><td>False</td><td>137.24410340243617</td><td>46.238487068829365</td><td>--</td><td>--</td><td>--</td><td>186.35593927948383</td><td>40.33822920431614</td><td>159.5068657313397</td><td>False</td><td>38.69903427177964</td><td>21.086415162562947</td><td>--</td><td>--</td><td>--</td><td>28.484795828738726</td><td>15.176185378276685</td><td>26.512169701627993</td><td>False</td><td>33.28390651491945</td><td>25.89672923112088</td><td>--</td><td>--</td><td>--</td><td>30.694432160283267</td><td>19.23049953891026</td><td>28.466573808485553</td><td>False</td><td>32.52003927964565</td><td>27.407829691703782</td><td>--</td><td>--</td><td>--</td><td>25.211154086424454</td><td>15.611610046448755</td><td>24.121570069213767</td><td>False</td><td>-98.44579683694727</td><td>61.420664079472715</td><td>--</td><td>--</td><td>--</td><td>-0.7487517093405143</td><td>40.7816398632687</td><td>-0.7017659924786805</td><td>False</td><td>-222.1798946534354</td><td>128.9997408405031</td><td>--</td><td>--</td><td>--</td><td>-147.54109112118394</td><td>74.88483799217381</td><td>-138.6091829430787</td><td>False</td></tr>\n",
       "<tr><td>3496152307211469013</td><td>149.43090523187274</td><td>3.06567977965858</td><td>0.027020173147320747</td><td>9813</td><td>80</td><td>31.065398788294992</td><td>46.95031497727697</td><td>--</td><td>--</td><td>--</td><td>-35.921750986286106</td><td>52.955410809141924</td><td>-31.201833435448535</td><td>False</td><td>211.78717205958068</td><td>47.71955351769358</td><td>--</td><td>--</td><td>--</td><td>251.72266573810592</td><td>57.89422055935776</td><td>213.20825154849965</td><td>False</td><td>-7.455370785243075</td><td>21.01161777102866</td><td>--</td><td>--</td><td>--</td><td>8.94463957447783</td><td>23.340611112912644</td><td>7.870057905526958</td><td>False</td><td>26.693621760511224</td><td>26.693974546968064</td><td>--</td><td>--</td><td>--</td><td>30.77219735153449</td><td>28.682488755348366</td><td>29.52167936074306</td><td>False</td><td>-11.911418946026147</td><td>27.786441007950923</td><td>--</td><td>--</td><td>--</td><td>39.662845410916454</td><td>27.568887522342017</td><td>34.91769446328975</td><td>False</td><td>13.526792690869076</td><td>61.535903721096936</td><td>--</td><td>--</td><td>--</td><td>49.83803404372273</td><td>66.43229307615174</td><td>43.49415532122495</td><td>False</td><td>169.01648615427942</td><td>128.95216176307719</td><td>--</td><td>--</td><td>--</td><td>281.725523010584</td><td>130.12740842613852</td><td>263.92313655808175</td><td>False</td></tr>\n",
       "<tr><td>3496152307211469014</td><td>149.43112765437112</td><td>3.066361907831583</td><td>0.02704068087041378</td><td>9813</td><td>80</td><td>-35.86627880004837</td><td>47.823916027765435</td><td>0.0</td><td>75.2909756337076</td><td>39.04343693842041</td><td>45.21723496207993</td><td>35.853128711746955</td><td>40.63206607262485</td><td>False</td><td>236.14357878633268</td><td>47.429737989092914</td><td>-0.0003734551688212573</td><td>--</td><td>--</td><td>170.1519876469781</td><td>40.413681800859436</td><td>142.53805011773716</td><td>False</td><td>-15.739188751464827</td><td>20.737998789746893</td><td>--</td><td>-18.823209376122964</td><td>15.688538066707562</td><td>-20.2091623062313</td><td>14.927245887986162</td><td>-18.571010313075252</td><td>False</td><td>-107.6420590657821</td><td>26.920196387349474</td><td>--</td><td>-51.178059637929</td><td>20.9817673886072</td><td>-58.52974135805424</td><td>19.731554829868006</td><td>-53.62286553013143</td><td>False</td><td>-96.97205561146656</td><td>27.401440079996345</td><td>--</td><td>-36.59894058549332</td><td>18.051857824780413</td><td>-12.811210912451923</td><td>15.607911520036959</td><td>-12.237042732562244</td><td>False</td><td>15.684359471903152</td><td>60.27256268147904</td><td>--</td><td>23.413924450201435</td><td>42.39702850041625</td><td>46.55396175423324</td><td>40.15457730382198</td><td>43.26148192196307</td><td>False</td><td>-344.8976365048101</td><td>140.44560914095737</td><td>--</td><td>-165.45811809227624</td><td>92.51824186771903</td><td>-134.58411978651804</td><td>81.41710033326889</td><td>-125.76148719239113</td><td>False</td></tr>\n",
       "<tr><td>3496152307211469015</td><td>149.50154966656564</td><td>3.066587027849341</td><td>0.02534288540482521</td><td>9813</td><td>80</td><td>151.1583928115565</td><td>54.42752462576087</td><td>--</td><td>--</td><td>--</td><td>83.86599591018269</td><td>40.35031336309777</td><td>74.95808747253623</td><td>False</td><td>119.78873413467535</td><td>46.824903633557916</td><td>--</td><td>--</td><td>--</td><td>168.6923665136227</td><td>40.421406450844586</td><td>141.26534167249767</td><td>False</td><td>-10.638161869735802</td><td>23.794955518032648</td><td>--</td><td>--</td><td>--</td><td>-1.8227088517633447</td><td>16.750219165685326</td><td>-1.6788679105963877</td><td>False</td><td>-11.43756021227794</td><td>29.222337829323912</td><td>--</td><td>--</td><td>--</td><td>-28.07983087147663</td><td>22.796524757989754</td><td>-25.341441483002292</td><td>False</td><td>-22.585356034384642</td><td>28.317776101450967</td><td>--</td><td>--</td><td>--</td><td>-22.60685931878951</td><td>16.24305985318618</td><td>-21.539751557190208</td><td>False</td><td>-189.73268581083013</td><td>61.472058428672604</td><td>--</td><td>--</td><td>--</td><td>-80.66362187065229</td><td>41.013153906094175</td><td>-74.82219380135723</td><td>False</td><td>-85.11929735009993</td><td>127.71954096217306</td><td>--</td><td>--</td><td>--</td><td>-93.60383782330153</td><td>74.09525381236784</td><td>-87.52034821173353</td><td>False</td></tr>\n",
       "<tr><td>3496152307211469016</td><td>149.58270794566926</td><td>3.06716073858033</td><td>0.022807346656918526</td><td>9813</td><td>80</td><td>-26.043666149929475</td><td>58.720954767641345</td><td>--</td><td>-22.067508683023316</td><td>59.905783487395205</td><td>-30.180175379844727</td><td>74.94831064748514</td><td>-26.322904648506977</td><td>False</td><td>394.5760140461693</td><td>68.30759153357627</td><td>0.018131417834804764</td><td>451.2860606756572</td><td>72.39159184402854</td><td>507.5161422302555</td><td>83.96221698965569</td><td>472.4793215148675</td><td>False</td><td>1.2101557060747679</td><td>25.777058940835435</td><td>--</td><td>30.142730548321353</td><td>25.356108201997905</td><td>10.528232540428322</td><td>29.69109903979384</td><td>9.302149622041387</td><td>False</td><td>22.065053828110873</td><td>32.015496656302794</td><td>--</td><td>18.12187106802434</td><td>31.70818793032215</td><td>29.258309024044884</td><td>39.42588157338316</td><td>26.039670534104676</td><td>False</td><td>-8.202531391827801</td><td>30.40933526832179</td><td>--</td><td>11.737724221626545</td><td>29.575228754607014</td><td>8.9873984111025</td><td>33.70303876658401</td><td>7.843857912354269</td><td>False</td><td>-92.53777175286461</td><td>75.86044218836557</td><td>--</td><td>-83.97512398814568</td><td>73.78214010758373</td><td>-78.55101199402114</td><td>88.44440935038197</td><td>-68.55167575400483</td><td>False</td><td>-261.547593349709</td><td>145.13246384554662</td><td>--</td><td>-148.19213070808897</td><td>141.0513765753571</td><td>-137.29550625543718</td><td>165.84363325517424</td><td>-118.3660822565892</td><td>False</td></tr>\n",
       "<tr><td>3496152307211469017</td><td>149.4358559635743</td><td>3.0669472127065474</td><td>0.026972724124789238</td><td>9813</td><td>80</td><td>10.711733614141753</td><td>47.476336030347255</td><td>--</td><td>--</td><td>--</td><td>-12.92353317698534</td><td>41.954152573899385</td><td>-11.476521430658954</td><td>False</td><td>107.54806707053035</td><td>46.515192714749624</td><td>--</td><td>--</td><td>--</td><td>190.1380061319029</td><td>42.62957262390121</td><td>164.19124313333606</td><td>False</td><td>-24.382997604783</td><td>20.88484633637189</td><td>--</td><td>--</td><td>--</td><td>-4.925104212816379</td><td>16.641297044357504</td><td>-4.594088237175729</td><td>False</td><td>-40.74789081976236</td><td>25.404105522171506</td><td>--</td><td>--</td><td>--</td><td>-34.06702947874804</td><td>20.71712111093778</td><td>-31.76044104937952</td><td>False</td><td>-46.00278657196161</td><td>27.80382460049574</td><td>--</td><td>--</td><td>--</td><td>-14.431675824808169</td><td>18.49021069456238</td><td>-13.827178573503575</td><td>False</td><td>36.85797222540373</td><td>60.97609560528904</td><td>--</td><td>--</td><td>--</td><td>-14.69576554985848</td><td>50.29564533796727</td><td>-13.418770685684056</td><td>False</td><td>50.08632502405098</td><td>138.06937626921012</td><td>--</td><td>--</td><td>--</td><td>65.53380244719578</td><td>94.7222045773099</td><td>61.428880775518145</td><td>False</td></tr>\n",
       "<tr><td>3496152307211469018</td><td>149.49701311960044</td><td>3.0670233045406086</td><td>0.025508256629109383</td><td>9813</td><td>80</td><td>9.274531558982526</td><td>54.68383976212075</td><td>--</td><td>--</td><td>--</td><td>41.355275749661516</td><td>42.09510893582322</td><td>38.003176707419506</td><td>False</td><td>190.7763469562757</td><td>46.36266312313129</td><td>--</td><td>--</td><td>--</td><td>218.23632183894586</td><td>40.803153031346994</td><td>191.6993142678806</td><td>False</td><td>-1.7624888391850573</td><td>20.471548113169558</td><td>--</td><td>--</td><td>--</td><td>-1.9414792987807006</td><td>15.178573264545625</td><td>-1.833236401418934</td><td>False</td><td>-60.74820825941646</td><td>26.24193697547253</td><td>--</td><td>--</td><td>--</td><td>-9.571859963486983</td><td>19.986385146303576</td><td>-9.020835617459484</td><td>False</td><td>47.935814722818115</td><td>27.507056826463753</td><td>--</td><td>--</td><td>--</td><td>-4.732413237535268</td><td>17.176599055186387</td><td>-4.534892026896187</td><td>False</td><td>30.87202890775371</td><td>59.91117831644503</td><td>--</td><td>--</td><td>--</td><td>-20.868391015232305</td><td>42.979453142806655</td><td>-19.70140421666158</td><td>False</td><td>-114.27143950426569</td><td>129.3029352772808</td><td>--</td><td>--</td><td>--</td><td>-112.62636133629486</td><td>78.05322907172703</td><td>-106.33265579929052</td><td>False</td></tr>\n",
       "<tr><td>3496152307211469019</td><td>149.49761573175996</td><td>3.0670661869751155</td><td>0.02549094706773758</td><td>9813</td><td>80</td><td>31.724298706335187</td><td>52.3444905949888</td><td>--</td><td>--</td><td>--</td><td>10.63168163215227</td><td>41.92644127259746</td><td>9.794283105858781</td><td>False</td><td>111.38091091302236</td><td>45.53899896618908</td><td>--</td><td>--</td><td>--</td><td>164.04172589376734</td><td>41.12498744853094</td><td>144.48917694803853</td><td>False</td><td>-16.263358386798632</td><td>21.194993161041676</td><td>--</td><td>--</td><td>--</td><td>0.38124569200308994</td><td>16.130714081377857</td><td>0.3593151664311472</td><td>False</td><td>15.063062423191784</td><td>26.504630619314753</td><td>--</td><td>--</td><td>--</td><td>1.3174293325499744</td><td>20.67355043404465</td><td>1.2396803261726241</td><td>False</td><td>3.0153050405492614</td><td>27.992550758705324</td><td>--</td><td>--</td><td>--</td><td>0.5623560027100332</td><td>17.450958439085003</td><td>0.5392891833076504</td><td>False</td><td>-36.105935244585666</td><td>59.967871191647625</td><td>--</td><td>--</td><td>--</td><td>-2.54195748832669</td><td>41.108089571713734</td><td>-2.409382438562536</td><td>False</td><td>2.8426450396745135</td><td>127.94144808720219</td><td>--</td><td>--</td><td>--</td><td>-4.355826815349012</td><td>77.545838253672</td><td>-4.1120123997033255</td><td>False</td></tr>\n",
       "<tr><td>3496152307211469020</td><td>149.53807012092804</td><td>3.0679170875234782</td><td>0.02430662140250206</td><td>9813</td><td>80</td><td>18.27528918620048</td><td>53.04633942891224</td><td>--</td><td>--</td><td>--</td><td>61.74772256759027</td><td>40.34461752156928</td><td>56.28073401982438</td><td>False</td><td>113.42316943320218</td><td>46.71867781407408</td><td>--</td><td>--</td><td>--</td><td>175.4453141163916</td><td>40.488741524502885</td><td>151.02797558920005</td><td>False</td><td>44.09494931143353</td><td>20.937425734600588</td><td>--</td><td>--</td><td>--</td><td>37.09340167798173</td><td>15.369521384654199</td><td>34.71040431364405</td><td>False</td><td>53.04918442653869</td><td>26.292924977811943</td><td>--</td><td>--</td><td>--</td><td>43.96264811567586</td><td>19.754707135304354</td><td>40.99239499810629</td><td>False</td><td>85.63791027388322</td><td>29.059019756488357</td><td>--</td><td>--</td><td>--</td><td>59.72597810514789</td><td>16.76760506679774</td><td>57.18500380953243</td><td>False</td><td>193.19855390348104</td><td>70.66429795487477</td><td>--</td><td>--</td><td>--</td><td>169.25354445704744</td><td>48.89159725645602</td><td>159.24282158426277</td><td>False</td><td>159.92360998271263</td><td>146.95907176643237</td><td>--</td><td>--</td><td>--</td><td>26.07707581275772</td><td>86.72995538413043</td><td>24.586426427492974</td><td>False</td></tr>\n",
       "<tr><td>3496152307211469021</td><td>149.47603101092804</td><td>3.0678678119956677</td><td>0.0261966735124588</td><td>9813</td><td>80</td><td>3.8402338654974186</td><td>52.19894857875698</td><td>--</td><td>--</td><td>--</td><td>-30.644606696624578</td><td>40.266644218156806</td><td>-27.89055850903553</td><td>False</td><td>107.14825713775932</td><td>45.522310999329314</td><td>--</td><td>--</td><td>--</td><td>211.06532677926344</td><td>40.3043464011826</td><td>181.80518142614753</td><td>False</td><td>-25.121624624862353</td><td>22.720539401651223</td><td>--</td><td>--</td><td>--</td><td>-8.95324176504655</td><td>18.831074103176693</td><td>-8.154019901209981</td><td>False</td><td>-33.356487989194505</td><td>29.09054612426046</td><td>--</td><td>--</td><td>--</td><td>7.0960608523863185</td><td>21.702875903769733</td><td>6.580455102207013</td><td>False</td><td>7.0138094144413845</td><td>32.83606409587082</td><td>--</td><td>--</td><td>--</td><td>5.547249079468275</td><td>18.717216620471348</td><td>5.314643779032678</td><td>False</td><td>-46.65785699628478</td><td>67.8360503519709</td><td>--</td><td>--</td><td>--</td><td>-16.007000753096108</td><td>44.71215902547072</td><td>-15.032160747988938</td><td>False</td><td>101.54522325221575</td><td>148.28884392142814</td><td>--</td><td>--</td><td>--</td><td>150.3801358113175</td><td>86.87249968376145</td><td>141.67270135499342</td><td>False</td></tr>\n",
       "<tr><td>3496152307211469022</td><td>149.49741568235655</td><td>3.068086019536534</td><td>0.025543740019202232</td><td>9813</td><td>80</td><td>-33.61072093498692</td><td>54.130251847113186</td><td>--</td><td>-73.71148232330165</td><td>44.37545642873532</td><td>0.6890645800283817</td><td>40.32493017992122</td><td>0.6156030763201218</td><td>False</td><td>171.1375990192656</td><td>47.80390017075887</td><td>0.0</td><td>--</td><td>--</td><td>210.11637538769045</td><td>41.30219049039385</td><td>176.08648339225766</td><td>False</td><td>19.261504803363582</td><td>21.446253601186754</td><td>--</td><td>15.926998950983927</td><td>15.409797127979617</td><td>12.334774529776753</td><td>15.532721283031089</td><td>11.332523434380915</td><td>False</td><td>4.583344663307476</td><td>26.02523528701952</td><td>--</td><td>13.878920927051588</td><td>19.587678230785453</td><td>13.572708214977636</td><td>19.334614737827554</td><td>12.408561885705494</td><td>False</td><td>-10.778237217351643</td><td>29.033452927301777</td><td>--</td><td>-0.7667732871462091</td><td>18.54388708068387</td><td>-5.6265929519429525</td><td>16.40821628625071</td><td>-5.364295029404585</td><td>False</td><td>-17.44846991913067</td><td>60.916437250635575</td><td>--</td><td>-41.519803966673344</td><td>41.403790886299156</td><td>-56.98033986502611</td><td>40.69630942565678</td><td>-52.86380344985305</td><td>False</td><td>154.02308066959915</td><td>130.599549834448</td><td>--</td><td>88.70934392467831</td><td>82.54850712067808</td><td>94.6293750360062</td><td>73.88784819141637</td><td>88.7182713505569</td><td>False</td></tr>\n",
       "<tr><td>3496152307211469023</td><td>149.51639435219099</td><td>3.068783999620003</td><td>0.025012699887156487</td><td>9813</td><td>80</td><td>-12.253503357504261</td><td>52.49194280356487</td><td>--</td><td>-89.05787536075745</td><td>44.96123836425156</td><td>-53.59879826540745</td><td>40.244982512136794</td><td>-47.897686163210366</td><td>False</td><td>40.489811429514795</td><td>46.4481355475019</td><td>0.0</td><td>--</td><td>--</td><td>140.96403894312817</td><td>40.40338381861613</td><td>118.0321129790889</td><td>False</td><td>23.786599496856816</td><td>20.892244493850285</td><td>--</td><td>1.3734436294897834</td><td>14.550019034286763</td><td>2.0499464822812756</td><td>14.993706158774298</td><td>1.88485156717513</td><td>False</td><td>-21.46389437869283</td><td>26.215673101118828</td><td>--</td><td>-2.3070611174450875</td><td>19.083294346015737</td><td>-7.631810635335381</td><td>19.385949997537903</td><td>-6.984598282404758</td><td>False</td><td>39.305515463946456</td><td>34.34698234350617</td><td>--</td><td>-1.8491552939942557</td><td>19.751031821539172</td><td>-5.221091252984513</td><td>19.82263309815051</td><td>-4.977878136355565</td><td>False</td><td>7.899984798021986</td><td>71.71755832392287</td><td>--</td><td>-25.452029444350266</td><td>44.48968191063289</td><td>-26.030487628093503</td><td>46.08269270240372</td><td>-24.55193609891682</td><td>False</td><td>-203.24054860137565</td><td>158.28945079160448</td><td>--</td><td>-144.27403717682716</td><td>88.54807365140957</td><td>-74.83955037804547</td><td>87.15474504247817</td><td>-70.33166612694285</td><td>False</td></tr>\n",
       "<tr><td>3496152307211469024</td><td>149.49551848146712</td><td>3.0693982743110224</td><td>0.025664858520030975</td><td>9813</td><td>80</td><td>-45.48618788638122</td><td>52.039013440761806</td><td>--</td><td>--</td><td>--</td><td>-64.19896515302273</td><td>40.96859149485064</td><td>-59.386914416208285</td><td>False</td><td>144.44339382917536</td><td>46.433488558165834</td><td>--</td><td>--</td><td>--</td><td>184.42280673810822</td><td>40.80096620909562</td><td>162.7959902739253</td><td>False</td><td>9.906674605202152</td><td>21.321398319549036</td><td>--</td><td>--</td><td>--</td><td>16.552332149484126</td><td>16.384583755786096</td><td>15.62056810303034</td><td>False</td><td>41.5304537836676</td><td>25.848452900724542</td><td>--</td><td>--</td><td>--</td><td>10.384325034796463</td><td>20.11358216236767</td><td>9.79116251030159</td><td>False</td><td>20.165237371821103</td><td>29.11973002237386</td><td>--</td><td>--</td><td>--</td><td>3.6998313419685487</td><td>17.807220280440227</td><td>3.5497479957109563</td><td>False</td><td>70.90841245297875</td><td>62.28860272333085</td><td>--</td><td>--</td><td>--</td><td>48.58234203992793</td><td>41.5328591215577</td><td>46.28631501844912</td><td>False</td><td>239.79485406827524</td><td>141.265316275022</td><td>--</td><td>--</td><td>--</td><td>100.76432752762682</td><td>86.07489556017346</td><td>95.1538306554265</td><td>False</td></tr>\n",
       "<tr><td>3496152307211469025</td><td>149.50716719436824</td><td>3.0693800033248713</td><td>0.025308210402727127</td><td>9813</td><td>80</td><td>120.30860733614463</td><td>51.05134018255787</td><td>--</td><td>90.53527727041066</td><td>43.35501827470954</td><td>70.69606820321238</td><td>40.55450667911675</td><td>63.83954163411819</td><td>False</td><td>74.68480806581908</td><td>48.19704685577268</td><td>0.0</td><td>--</td><td>--</td><td>180.40840917667637</td><td>40.35211863870327</td><td>153.5685047452157</td><td>False</td><td>-6.3658746748898</td><td>22.852056344975995</td><td>--</td><td>-20.973451505761147</td><td>17.127394633391322</td><td>-18.052428159373704</td><td>16.24146829038361</td><td>-16.80239152219322</td><td>False</td><td>-3.2144593293017807</td><td>30.800737442644234</td><td>--</td><td>-4.4262408648316915</td><td>25.205844894226438</td><td>-1.1489396392448985</td><td>23.67884078672129</td><td>-1.0502258555079484</td><td>False</td><td>16.0779882294819</td><td>29.045166373777143</td><td>--</td><td>22.34430628461046</td><td>20.27723592302754</td><td>24.03629317862018</td><td>16.758379843373056</td><td>22.991603479049438</td><td>False</td><td>58.1531704810732</td><td>71.68121791230388</td><td>--</td><td>18.337088172905123</td><td>52.63993867861252</td><td>-12.140339162735765</td><td>48.98291303969458</td><td>-11.377742151879104</td><td>False</td><td>221.09675191287482</td><td>155.72376540208163</td><td>--</td><td>102.53463007769449</td><td>107.40643713362542</td><td>144.04197421849605</td><td>88.4631568565568</td><td>135.58690041275705</td><td>False</td></tr>\n",
       "<tr><td>3496152307211469026</td><td>149.5120898234342</td><td>3.0706721027948363</td><td>0.02523072622716427</td><td>9813</td><td>80</td><td>6.9646391372400736</td><td>53.79549191901407</td><td>0.0</td><td>--</td><td>--</td><td>--</td><td>--</td><td>--</td><td>True</td><td>191.03626316523733</td><td>46.93480666154138</td><td>--</td><td>--</td><td>--</td><td>--</td><td>--</td><td>--</td><td>True</td><td>-10.314221149385377</td><td>22.81943319826602</td><td>--</td><td>--</td><td>--</td><td>--</td><td>--</td><td>--</td><td>True</td><td>20.445873074866686</td><td>29.433016527442565</td><td>--</td><td>--</td><td>--</td><td>--</td><td>--</td><td>--</td><td>True</td><td>-9.64252426497177</td><td>32.5142676484975</td><td>--</td><td>--</td><td>--</td><td>--</td><td>--</td><td>--</td><td>True</td><td>73.61473200911828</td><td>70.48189263267001</td><td>--</td><td>--</td><td>--</td><td>--</td><td>--</td><td>--</td><td>True</td><td>24.641750660864325</td><td>148.75893481574332</td><td>--</td><td>--</td><td>--</td><td>--</td><td>--</td><td>--</td><td>True</td></tr>\n",
       "<tr><td>3496152307211469027</td><td>149.48401064928657</td><td>3.070652443954498</td><td>0.026088126003742218</td><td>9813</td><td>80</td><td>159.0789698556792</td><td>53.149447086071994</td><td>--</td><td>-19.47101558231205</td><td>41.78571609965825</td><td>--</td><td>--</td><td>--</td><td>True</td><td>149.05147578399254</td><td>48.41535737849039</td><td>0.0</td><td>--</td><td>--</td><td>--</td><td>--</td><td>--</td><td>True</td><td>5.149212735399548</td><td>20.83662816786331</td><td>--</td><td>1.2983463946526463</td><td>14.546327601575266</td><td>--</td><td>--</td><td>--</td><td>True</td><td>12.180019310068829</td><td>25.071964575954947</td><td>--</td><td>-15.568509819928705</td><td>18.090250283131837</td><td>--</td><td>--</td><td>--</td><td>True</td><td>45.00060450577405</td><td>30.10522579835135</td><td>--</td><td>-9.818191584849819</td><td>18.079754298643895</td><td>--</td><td>--</td><td>--</td><td>True</td><td>-26.646418867456738</td><td>56.22852798208984</td><td>--</td><td>-91.23385096302002</td><td>35.035779266039185</td><td>--</td><td>--</td><td>--</td><td>True</td><td>-209.3656690757193</td><td>138.85090923896124</td><td>--</td><td>-44.26321167870519</td><td>84.81069025546084</td><td>--</td><td>--</td><td>--</td><td>True</td></tr>\n",
       "</table></div>"
      ],
      "text/plain": [
       "<Table length=2475493>\n",
       "      objectId           coord_ra          coord_dec              ebv          ...  y_cModelFluxErr    y_cModelFlux_inner y_cModel_flag\n",
       "       int64             float64            float64             float64        ...      float64             float64            bool    \n",
       "------------------- ------------------ ------------------ -------------------- ... ------------------ ------------------- -------------\n",
       "3495800463490547713 151.08443813783396 1.3916901105641533 0.028918761759996414 ...                 --                  --          True\n",
       "3495800463490547714  151.0828515903241 1.3918306275775547  0.02884758450090885 ...                 --                  --          True\n",
       "3495800463490547715 151.07309839368517  1.391694103342743 0.028401503339409828 ...                 --                  --          True\n",
       "3495800463490547716 151.07057844173025  1.391694983229763 0.028284458443522453 ...                 --                  --          True\n",
       "3495800463490547717 151.06955179372443  1.391695340931078  0.02823655679821968 ...                 --                  --          True\n",
       "3495800463490547718 151.07777235150857 1.4045332781940354 0.028667176142334938 ...                 --                  --          True\n",
       "3495800463490547719 151.04775873308427  1.391702828625083  0.02722129039466381 ...                 --                  --          True\n",
       "3495800463490547720 151.03464545190047  1.391707237119274  0.02665325440466404 ...                 --                  --          True\n",
       "3495800463490547721 151.02358550555186 1.3918508557997333 0.026183534413576126 ...                 --                  --          True\n",
       "3495800463490547722  151.0202254141464 1.3917120008006525 0.026041245087981224 ...                 --                  --          True\n",
       "3495800463490547723 150.98587831367752 1.3918162980714068  0.02505539171397686 ...                 --                  --          True\n",
       "3495800463490547724  150.9586720402965 1.3982421952038422 0.024722160771489143 ... 195.17163178676958  32308.680187439106         False\n",
       "3495800463490547725  150.9156890377158 1.3918372066337754  0.02499190904200077 ...                 --                  --          True\n",
       "3495800463490547726  151.0085234809989 1.3982227125874462 0.025667961686849594 ...  680.4128536728892  1168686.4654981045         False\n",
       "3495800463490547727 150.90224834443833  1.391934279492078 0.025217147544026375 ...                 --                  --          True\n",
       "3495800463490547730 151.04229884047896 1.3918446295260312  0.02698454260826111 ...                 --                  --          True\n",
       "3495800463490547731 150.99749860893047 1.3919525930655885 0.025299452245235443 ...                 --                  --          True\n",
       "                ...                ...                ...                  ... ...                ...                 ...           ...\n",
       "3496152307211469011 149.50843850422592  3.064450949839866 0.025039007887244225 ...  88.70825805586608    26.6993660786884         False\n",
       "3496152307211469012 149.49114790196546  3.065369489744899 0.025617249310016632 ...  74.88483799217381  -138.6091829430787         False\n",
       "3496152307211469013 149.43090523187274   3.06567977965858 0.027020173147320747 ... 130.12740842613852  263.92313655808175         False\n",
       "3496152307211469014 149.43112765437112  3.066361907831583  0.02704068087041378 ...  81.41710033326889 -125.76148719239113         False\n",
       "3496152307211469015 149.50154966656564  3.066587027849341  0.02534288540482521 ...  74.09525381236784  -87.52034821173353         False\n",
       "3496152307211469016 149.58270794566926   3.06716073858033 0.022807346656918526 ... 165.84363325517424  -118.3660822565892         False\n",
       "3496152307211469017  149.4358559635743 3.0669472127065474 0.026972724124789238 ...   94.7222045773099  61.428880775518145         False\n",
       "3496152307211469018 149.49701311960044 3.0670233045406086 0.025508256629109383 ...  78.05322907172703 -106.33265579929052         False\n",
       "3496152307211469019 149.49761573175996 3.0670661869751155  0.02549094706773758 ...    77.545838253672 -4.1120123997033255         False\n",
       "3496152307211469020 149.53807012092804 3.0679170875234782  0.02430662140250206 ...  86.72995538413043  24.586426427492974         False\n",
       "3496152307211469021 149.47603101092804 3.0678678119956677   0.0261966735124588 ...  86.87249968376145  141.67270135499342         False\n",
       "3496152307211469022 149.49741568235655  3.068086019536534 0.025543740019202232 ...  73.88784819141637    88.7182713505569         False\n",
       "3496152307211469023 149.51639435219099  3.068783999620003 0.025012699887156487 ...  87.15474504247817  -70.33166612694285         False\n",
       "3496152307211469024 149.49551848146712 3.0693982743110224 0.025664858520030975 ...  86.07489556017346    95.1538306554265         False\n",
       "3496152307211469025 149.50716719436824 3.0693800033248713 0.025308210402727127 ...   88.4631568565568  135.58690041275705         False\n",
       "3496152307211469026  149.5120898234342 3.0706721027948363  0.02523072622716427 ...                 --                  --          True\n",
       "3496152307211469027 149.48401064928657  3.070652443954498 0.026088126003742218 ...                 --                  --          True"
      ]
     },
     "execution_count": 35,
     "metadata": {},
     "output_type": "execute_result"
    }
   ],
   "source": [
    "testing"
   ]
  },
  {
   "cell_type": "code",
   "execution_count": null,
   "metadata": {},
   "outputs": [],
   "source": []
  }
 ],
 "metadata": {
  "kernelspec": {
   "display_name": "Python 3 (ipykernel)",
   "language": "python",
   "name": "python3"
  },
  "language_info": {
   "codemirror_mode": {
    "name": "ipython",
    "version": 3
   },
   "file_extension": ".py",
   "mimetype": "text/x-python",
   "name": "python",
   "nbconvert_exporter": "python",
   "pygments_lexer": "ipython3",
   "version": "3.10.5"
  },
  "orig_nbformat": 4,
  "vscode": {
   "interpreter": {
    "hash": "cf4919eb8dfc137ef74b055fa5c6440b3d9cefdbf730086154edf3cdf6b86113"
   }
  }
 },
 "nbformat": 4,
 "nbformat_minor": 2
}
