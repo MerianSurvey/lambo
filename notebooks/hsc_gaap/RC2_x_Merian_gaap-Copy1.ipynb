{
 "cells": [
  {
   "cell_type": "code",
   "execution_count": 53,
   "id": "a13ed325",
   "metadata": {},
   "outputs": [],
   "source": [
    "import numpy as np\n",
    "import time\n",
    "import matplotlib\n",
    "import matplotlib.pyplot as plt\n",
    "import lsst.meas.base\n",
    "import lsst.pex.config\n",
    "import lsst.afw.display as afwDisplay\n",
    "import lsst.afw.geom as afwGeom\n",
    "import lsst.afw.table\n",
    "import lsst.meas.algorithms\n",
    "import lsst.meas.deblender\n",
    "import lsst.pex.exceptions\n",
    "import lsst.meas.extensions.gaap\n",
    "\n",
    "from kuaizi.display import display_single\n",
    "from astropy.io import fits\n",
    "from astropy.table import Table, QTable, hstack"
   ]
  },
  {
   "cell_type": "markdown",
   "id": "35b40246",
   "metadata": {},
   "source": [
    "## Try gaap with reference catalog"
   ]
  },
  {
   "cell_type": "code",
   "execution_count": 134,
   "id": "5f05e6a0",
   "metadata": {},
   "outputs": [],
   "source": [
    "# Load Merian catalog as reference\n",
    "filt = 'N708'\n",
    "tract = 9813\n",
    "patch = 23\n",
    "patch_old = f'{patch % 9},{patch // 9}'\n",
    "\n",
    "import lsst.daf.butler as dafButler\n",
    "butler = dafButler.Butler('/projects/MERIAN/repo/')\n",
    "dataId = dict(tract=tract, patch=patch, band=filt)\n",
    "\n",
    "refCat = butler.get(\n",
    "    'deepCoadd_forced_src',\n",
    "    collections='DECam/runs/merian/dr1_wide',\n",
    "    dataId=dataId,\n",
    "    instrument='DECam',\n",
    "    skymap='hsc_rings_v1',\n",
    ")[:9000]\n",
    "\n",
    "childs = []\n",
    "for parent in refCat[:100]['id']:\n",
    "    childs += list(np.where(refCat['parent'] == parent)[0])\n",
    "    \n",
    "temp = refCat[0:1]\n",
    "for item in refCat[childs[0]:childs[-1]]:\n",
    "    temp.append(item)\n",
    "refCat = temp\n",
    "\n",
    "refExposure = butler.get(\n",
    "    'deepCoadd_calexp',\n",
    "    collections='DECam/runs/merian/dr1_wide',\n",
    "    dataId=dataId,\n",
    "    instrument='DECam',\n",
    "    skymap='hsc_rings_v1',\n",
    ")\n",
    "\n",
    "refCatInBand = butler.get(\n",
    "    'deepCoadd_ref',\n",
    "    collections='DECam/runs/merian/dr1_wide',\n",
    "    dataId=dataId,\n",
    "    instrument='DECam',\n",
    "    skymap='hsc_rings_v1',\n",
    ")[:9000]\n",
    "\n",
    "temp = refCatInBand[0:1]\n",
    "for item in refCatInBand[childs[0]:childs[-1]]:\n",
    "    temp.append(item)\n",
    "refCatInBand = temp\n",
    "\n",
    "# refCatInBand = lsst.afw.table.SourceCatalog.readFits(\n",
    "#     '/projects/MERIAN/repo/S20A/deepCoadd_calexp/9813/5,3/deblendedFlux-HSC-G-9813-5,3.fits')\n",
    "\n",
    "expID = dict(tract=tract, patch=patch, band=filt, skymap='hsc_rings_v1')"
   ]
  },
  {
   "cell_type": "code",
   "execution_count": 135,
   "id": "8123720f",
   "metadata": {},
   "outputs": [
    {
     "data": {
      "text/plain": [
       "515"
      ]
     },
     "execution_count": 135,
     "metadata": {},
     "output_type": "execute_result"
    }
   ],
   "source": [
    "len(refCat)"
   ]
  },
  {
   "cell_type": "code",
   "execution_count": null,
   "id": "8bf76dd0",
   "metadata": {},
   "outputs": [],
   "source": []
  },
  {
   "cell_type": "code",
   "execution_count": null,
   "id": "43d59dd0",
   "metadata": {},
   "outputs": [],
   "source": []
  },
  {
   "cell_type": "raw",
   "id": "33b798c2",
   "metadata": {},
   "source": [
    "# Load Merian catalog as reference\n",
    "filt = 'N708'\n",
    "tract = 9813\n",
    "patch = 23\n",
    "patch_old = f'{patch % 9},{patch // 9}'\n",
    "\n",
    "import lsst.daf.butler as dafButler\n",
    "butler = dafButler.Butler('/projects/MERIAN/repo/')\n",
    "dataId = dict(tract=tract, patch=patch, band=filt)\n",
    "expID = dict(tract=tract, patch=patch, band=filt, skymap='hsc_rings_v1')\n",
    "\n",
    "# Load Merian catalog as reference\n",
    "refCat = lsst.afw.table.SourceCatalog.readFits(\n",
    "    f'/scratch/arunj/deepCoadd_forced_src_9813_{patch}_i_hsc_rings_v1_HSC_runs_RC2_w_2022_40_DM-36356_20221006T193226Z.fits')\n",
    "refCatInBand = lsst.afw.table.SourceCatalog.readFits(\n",
    "    f'/scratch/arunj/deepCoadd_ref_9813_{patch}_hsc_rings_v1_HSC_runs_RC2_w_2022_40_DM-36356_20221006T193226Z.fits')\n",
    "\n",
    "refCat = refCat[:4000]\n",
    "refCatInBand = refCatInBand[:4000]\n",
    "\n",
    "refExposure = lsst.afw.image.ExposureF(\n",
    "    f'/scratch/arunj/deepCoadd_calexp_9813_{patch}_i_hsc_rings_v1_HSC_runs_RC2_w_2022_40_DM-36356_20221006T193226Z.fits'\n",
    ")"
   ]
  },
  {
   "cell_type": "code",
   "execution_count": 136,
   "id": "3cadd020",
   "metadata": {},
   "outputs": [],
   "source": [
    "hsc_type = 'w40'\n",
    "if hsc_type == 'w40':\n",
    "    exposure = lsst.afw.image.ExposureF(\n",
    "        f'/scratch/arunj/deepCoadd_calexp_9813_{patch}_i_hsc_rings_v1_HSC_runs_RC2_w_2022_40_DM-36356_20221006T193226Z.fits'\n",
    "    )\n",
    "elif hsc_type == 'w04':\n",
    "    exposure = lsst.afw.image.ExposureF(\n",
    "        f\"/projects/MERIAN/repo/HSC/runs/RC2/w_2022_04/DM-33402/20220128T212035Z/deepCoadd_calexp/9813/{patch}/i/deepCoadd_calexp_9813_{patch}_i_hsc_rings_v1_HSC_runs_RC2_w_2022_04_DM-33402_20220128T212035Z.fits\"\n",
    "    )\n",
    "elif hsc_type == 'S20A':\n",
    "    exposure = lsst.afw.image.ExposureF(\n",
    "        f\"/projects/MERIAN/repo/S20A/deepCoadd_calexp/9813/{patch_old}/calexp-HSC-I-{tract}-{patch_old}.fits\"\n",
    "    )"
   ]
  },
  {
   "cell_type": "raw",
   "id": "8a93fb9d",
   "metadata": {},
   "source": [
    "# Load Merian catalog as reference\n",
    "refCat = lsst.afw.table.SourceCatalog.readFits(\n",
    "    '/scratch/arunj/deepCoadd_forced_src_9813_1_i_hsc_rings_v1_HSC_runs_RC2_w_2022_40_DM-36356_20221006T193226Z.fits')\n",
    "# refCat = refCat[:1033]\n",
    "\n",
    "refExposure = lsst.afw.image.ExposureF(\n",
    "    \"/projects/MERIAN/repo/HSC/runs/RC2/w_2022_04/DM-33402/20220128T212035Z/deepCoadd_calexp/9813/1/i/deepCoadd_calexp_9813_1_i_hsc_rings_v1_HSC_runs_RC2_w_2022_04_DM-33402_20220128T212035Z.fits\")"
   ]
  },
  {
   "cell_type": "code",
   "execution_count": 137,
   "id": "835364a2",
   "metadata": {},
   "outputs": [],
   "source": [
    "# exposure = refExposure.clone()"
   ]
  },
  {
   "cell_type": "code",
   "execution_count": 138,
   "id": "deb42724",
   "metadata": {},
   "outputs": [],
   "source": [
    "# exposure = lsst.afw.image.ExposureF(\n",
    "#     f\"/projects/MERIAN/repo/S20A/deepCoadd_calexp/9813/{patch_old}/calexp-HSC-I-{tract}-{patch_old}.fits\")\n",
    "# exposure = lsst.afw.image.ExposureF(\n",
    "#     f'/scratch/arunj/deepCoadd_calexp_9813_{patch}_i_hsc_rings_v1_HSC_runs_RC2_w_2022_40_DM-36356_20221006T193226Z.fits'\n",
    "# )\n",
    "# exposure = lsst.afw.image.ExposureF(\n",
    "#     f\"/projects/MERIAN/repo/HSC/runs/RC2/w_2022_04/DM-33402/20220128T212035Z/deepCoadd_calexp/9813/{patch}/i/deepCoadd_calexp_9813_{patch}_i_hsc_rings_v1_HSC_runs_RC2_w_2022_04_DM-33402_20220128T212035Z.fits\")\n",
    "# exposure = lsst.afw.image.ExposureF(\n",
    "#     \"/projects/MERIAN/repo/DECam/runs/merian/dr1_wide/20220921T193246Z/deepCoadd_calexp/9813/79/N708/deepCoadd_calexp_9813_79_N708_hsc_rings_v1_DECam_runs_merian_dr1_wide_20220921T193246Z.fits\")"
   ]
  },
  {
   "cell_type": "markdown",
   "id": "d1d681d9",
   "metadata": {},
   "source": [
    "rsync -zva --progress jiaxuanl@tiger.princeton.edu://projects/MERIAN/repo/S20A/deepCoadd_calexp/9813/5,3/calexp-HSC-I-9813-5,3.fits ./"
   ]
  },
  {
   "cell_type": "code",
   "execution_count": 139,
   "id": "829b1cf8",
   "metadata": {},
   "outputs": [],
   "source": [
    "measureConfig = lsst.meas.base.ForcedPhotCoaddConfig()\n",
    "measureConfig.footprintDatasetName = 'DeblendedFlux'\n",
    "\n",
    "measureConfig.measurement.plugins.names.add(\"base_PsfFlux\")\n",
    "measureConfig.measurement.plugins.names.add(\"base_CircularApertureFlux\")\n",
    "measureConfig.measurement.plugins.names.add(\"base_SdssShape\")\n",
    "measureConfig.measurement.plugins.names.add(\"base_SdssCentroid\")\n",
    "measureConfig.measurement.plugins.names.add(\"ext_gaap_GaapFlux\")\n",
    "\n",
    "measureConfig.measurement.plugins[\"ext_gaap_GaapFlux\"].doMeasure = True  # Set it to False for timing comparison\n",
    "measureConfig.measurement.plugins[\"ext_gaap_GaapFlux\"].doPsfPhotometry = True\n",
    "measureConfig.measurement.plugins[\"ext_gaap_GaapFlux\"].doOptimalPhotometry = True\n",
    "measureConfig.measurement.plugins[\"ext_gaap_GaapFlux\"].sigmas = [0.5, 0.75, 1.0, 1.5, 2.0]\n",
    "\n",
    "photTask = lsst.meas.base.ForcedPhotCoaddTask(refSchema=refCat.schema, config=measureConfig)"
   ]
  },
  {
   "cell_type": "code",
   "execution_count": 140,
   "id": "48eb2e09",
   "metadata": {},
   "outputs": [],
   "source": [
    "measCat, exposureID = photTask.generateMeasCat(exposureDataId=butler.registry.expandDataId(expID), \n",
    "                                               exposure=exposure, \n",
    "                                               refCat=refCat, \n",
    "                                               refCatInBand=refCatInBand, \n",
    "                                               refWcs=refExposure.wcs, \n",
    "                                               idPackerName='tract_patch', \n",
    "                                               footprintData=refCatInBand)"
   ]
  },
  {
   "cell_type": "code",
   "execution_count": 141,
   "id": "df2bc38c",
   "metadata": {},
   "outputs": [
    {
     "name": "stdout",
     "output_type": "stream",
     "text": [
      "# Starting the measureTask at  Fri Nov 11 19:23:33 2022\n"
     ]
    },
    {
     "ename": "RuntimeError",
     "evalue": "Reference catalog contains a child for which at least one parent in its parent chain is not in the catalog.",
     "output_type": "error",
     "traceback": [
      "\u001b[0;31m---------------------------------------------------------------------------\u001b[0m",
      "\u001b[0;31mRuntimeError\u001b[0m                              Traceback (most recent call last)",
      "Input \u001b[0;32mIn [141]\u001b[0m, in \u001b[0;36m<cell line: 3>\u001b[0;34m()\u001b[0m\n\u001b[1;32m      1\u001b[0m \u001b[38;5;28mprint\u001b[39m(\u001b[38;5;124m\"\u001b[39m\u001b[38;5;124m# Starting the measureTask at \u001b[39m\u001b[38;5;124m\"\u001b[39m, time\u001b[38;5;241m.\u001b[39mctime())\n\u001b[1;32m      2\u001b[0m t1 \u001b[38;5;241m=\u001b[39m time\u001b[38;5;241m.\u001b[39mtime()\n\u001b[0;32m----> 3\u001b[0m \u001b[43mphotTask\u001b[49m\u001b[38;5;241;43m.\u001b[39;49m\u001b[43mrun\u001b[49m\u001b[43m(\u001b[49m\u001b[43mmeasCat\u001b[49m\u001b[43m,\u001b[49m\u001b[43m \u001b[49m\u001b[43mexposure\u001b[49m\u001b[43m,\u001b[49m\u001b[43m \u001b[49m\u001b[43mrefCat\u001b[49m\u001b[38;5;241;43m=\u001b[39;49m\u001b[43mrefCat\u001b[49m\u001b[43m,\u001b[49m\u001b[43m \u001b[49m\u001b[43mrefWcs\u001b[49m\u001b[38;5;241;43m=\u001b[39;49m\u001b[43mrefExposure\u001b[49m\u001b[38;5;241;43m.\u001b[39;49m\u001b[43mwcs\u001b[49m\u001b[43m,\u001b[49m\u001b[43m \u001b[49m\u001b[43mexposureId\u001b[49m\u001b[38;5;241;43m=\u001b[39;49m\u001b[43mexposureID\u001b[49m\u001b[43m)\u001b[49m\n\u001b[1;32m      4\u001b[0m t2 \u001b[38;5;241m=\u001b[39m time\u001b[38;5;241m.\u001b[39mtime()\n\u001b[1;32m      5\u001b[0m \u001b[38;5;28mprint\u001b[39m(\u001b[38;5;124m\"\u001b[39m\u001b[38;5;124m# Finished measureTask in \u001b[39m\u001b[38;5;132;01m%.2f\u001b[39;00m\u001b[38;5;124m seconds.\u001b[39m\u001b[38;5;124m\"\u001b[39m \u001b[38;5;241m%\u001b[39m (t2\u001b[38;5;241m-\u001b[39mt1))\n",
      "File \u001b[0;32m/projects/HSC/LSST/stack_20220527/conda/envs/lsst-scipipe-4.1.0/share/eups/Linux64/meas_base/ge79e97c755+d4d2369e8a/python/lsst/meas/base/forcedPhotCoadd.py:330\u001b[0m, in \u001b[0;36mForcedPhotCoaddTask.run\u001b[0;34m(self, measCat, exposure, refCat, refWcs, exposureId)\u001b[0m\n\u001b[1;32m    303\u001b[0m \u001b[38;5;28;01mdef\u001b[39;00m \u001b[38;5;21mrun\u001b[39m(\u001b[38;5;28mself\u001b[39m, measCat, exposure, refCat, refWcs, exposureId\u001b[38;5;241m=\u001b[39m\u001b[38;5;28;01mNone\u001b[39;00m):\n\u001b[1;32m    304\u001b[0m     \u001b[38;5;124;03m\"\"\"Perform forced measurement on a single exposure.\u001b[39;00m\n\u001b[1;32m    305\u001b[0m \n\u001b[1;32m    306\u001b[0m \u001b[38;5;124;03m    Parameters\u001b[39;00m\n\u001b[0;32m   (...)\u001b[0m\n\u001b[1;32m    328\u001b[0m \u001b[38;5;124;03m            (`lsst.afw.table.SourceCatalog`).\u001b[39;00m\n\u001b[1;32m    329\u001b[0m \u001b[38;5;124;03m    \"\"\"\u001b[39;00m\n\u001b[0;32m--> 330\u001b[0m     \u001b[38;5;28;43mself\u001b[39;49m\u001b[38;5;241;43m.\u001b[39;49m\u001b[43mmeasurement\u001b[49m\u001b[38;5;241;43m.\u001b[39;49m\u001b[43mrun\u001b[49m\u001b[43m(\u001b[49m\u001b[43mmeasCat\u001b[49m\u001b[43m,\u001b[49m\u001b[43m \u001b[49m\u001b[43mexposure\u001b[49m\u001b[43m,\u001b[49m\u001b[43m \u001b[49m\u001b[43mrefCat\u001b[49m\u001b[43m,\u001b[49m\u001b[43m \u001b[49m\u001b[43mrefWcs\u001b[49m\u001b[43m,\u001b[49m\u001b[43m \u001b[49m\u001b[43mexposureId\u001b[49m\u001b[38;5;241;43m=\u001b[39;49m\u001b[43mexposureId\u001b[49m\u001b[43m)\u001b[49m\n\u001b[1;32m    331\u001b[0m     \u001b[38;5;28;01mif\u001b[39;00m \u001b[38;5;28mself\u001b[39m\u001b[38;5;241m.\u001b[39mconfig\u001b[38;5;241m.\u001b[39mdoApCorr:\n\u001b[1;32m    332\u001b[0m         \u001b[38;5;28mself\u001b[39m\u001b[38;5;241m.\u001b[39mapplyApCorr\u001b[38;5;241m.\u001b[39mrun(\n\u001b[1;32m    333\u001b[0m             catalog\u001b[38;5;241m=\u001b[39mmeasCat,\n\u001b[1;32m    334\u001b[0m             apCorrMap\u001b[38;5;241m=\u001b[39mexposure\u001b[38;5;241m.\u001b[39mgetInfo()\u001b[38;5;241m.\u001b[39mgetApCorrMap()\n\u001b[1;32m    335\u001b[0m         )\n",
      "File \u001b[0;32m/projects/HSC/LSST/stack_20220527/conda/envs/lsst-scipipe-4.1.0/share/eups/Linux64/meas_base/ge79e97c755+d4d2369e8a/python/lsst/meas/base/forcedMeasurement.py:326\u001b[0m, in \u001b[0;36mForcedMeasurementTask.run\u001b[0;34m(self, measCat, exposure, refCat, refWcs, exposureId, beginOrder, endOrder)\u001b[0m\n\u001b[1;32m    324\u001b[0m     \u001b[38;5;28;01mwhile\u001b[39;00m(topId \u001b[38;5;241m>\u001b[39m \u001b[38;5;241m0\u001b[39m):\n\u001b[1;32m    325\u001b[0m         \u001b[38;5;28;01mif\u001b[39;00m topId \u001b[38;5;129;01mnot\u001b[39;00m \u001b[38;5;129;01min\u001b[39;00m refCatIdDict:\n\u001b[0;32m--> 326\u001b[0m             \u001b[38;5;28;01mraise\u001b[39;00m \u001b[38;5;167;01mRuntimeError\u001b[39;00m(\u001b[38;5;124m\"\u001b[39m\u001b[38;5;124mReference catalog contains a child for which at least \u001b[39m\u001b[38;5;124m\"\u001b[39m\n\u001b[1;32m    327\u001b[0m                                \u001b[38;5;124m\"\u001b[39m\u001b[38;5;124mone parent in its parent chain is not in the catalog.\u001b[39m\u001b[38;5;124m\"\u001b[39m)\n\u001b[1;32m    328\u001b[0m         topId \u001b[38;5;241m=\u001b[39m refCatIdDict[topId]\n\u001b[1;32m    330\u001b[0m \u001b[38;5;66;03m# Construct a footprints dict which looks like\u001b[39;00m\n\u001b[1;32m    331\u001b[0m \u001b[38;5;66;03m# {ref.getId(): (ref.getParent(), source.getFootprint())}\u001b[39;00m\n\u001b[1;32m    332\u001b[0m \u001b[38;5;66;03m# (i.e. getting the footprint from the transformed source footprint)\u001b[39;00m\n",
      "\u001b[0;31mRuntimeError\u001b[0m: Reference catalog contains a child for which at least one parent in its parent chain is not in the catalog."
     ]
    }
   ],
   "source": [
    "print(\"# Starting the measureTask at \", time.ctime())\n",
    "t1 = time.time()\n",
    "photTask.run(measCat, exposure, refCat=refCat, refWcs=refExposure.wcs, exposureId=exposureID)\n",
    "t2 = time.time()\n",
    "print(\"# Finished measureTask in %.2f seconds.\" % (t2-t1))\n",
    "cat2 = measCat.copy(deep=True).asAstropy()"
   ]
  },
  {
   "cell_type": "code",
   "execution_count": null,
   "id": "8f21c455",
   "metadata": {},
   "outputs": [],
   "source": []
  },
  {
   "cell_type": "code",
   "execution_count": null,
   "id": "4f1fa4d7",
   "metadata": {},
   "outputs": [],
   "source": []
  },
  {
   "cell_type": "code",
   "execution_count": null,
   "id": "a9881798",
   "metadata": {},
   "outputs": [],
   "source": []
  },
  {
   "cell_type": "code",
   "execution_count": 101,
   "id": "74c0f2cf",
   "metadata": {},
   "outputs": [],
   "source": [
    "def writeObjectTable(measCat, band='i', save=True):\n",
    "    import astropy.units as u\n",
    "    from astropy.table import QTable\n",
    "    \n",
    "    outCat = measCat.copy(deep=True).asAstropy()\n",
    "    outCat['coord_ra'] = outCat['coord_ra'].to(u.deg)\n",
    "    outCat['coord_dec'] = outCat['coord_dec'].to(u.deg)\n",
    "\n",
    "    old_gaap_cols = [\n",
    "        item for item in measCat.schema.getNames() if 'gaap' in item and 'apCorr' not in item]\n",
    "    outCat = outCat[['id', 'coord_ra', 'coord_dec'] + old_gaap_cols]\n",
    "    \n",
    "    # PhotCalib\n",
    "    for col in old_gaap_cols:\n",
    "        if 'instFlux' in col:\n",
    "            outCat[col] = outCat[col].value * \\\n",
    "                exposure.getPhotoCalib().instFluxToNanojansky(1) * u.nanomaggy\n",
    "\n",
    "    new_gaap_cols = []\n",
    "    for col in old_gaap_cols:\n",
    "        name = col.replace('ext_gaap_GaapFlux', f'{band}_gaap')\n",
    "        name = name.replace('_instFlux', 'Flux').replace('PsfFlux', 'Psf')\n",
    "        if 'Flux' in name:\n",
    "            aper = name.split(\n",
    "                \"x_\")[-1].replace('FluxErr', '').replace('Flux', '')\n",
    "            name = name.replace('_1_15x', '')\n",
    "            name = name.replace('_' + aper, aper.replace('_', 'p'))\n",
    "\n",
    "        if 'flag' in name:\n",
    "            aper = name.split(\n",
    "                \"x_\")[-1].replace('_flag_bigPsf', '').replace('_flag', '')\n",
    "            name = name.replace('_1_15x', '')\n",
    "            if not 'gauss' in name:\n",
    "                name = name.replace(\n",
    "                    '_' + aper, aper.replace('_', 'p') + 'Flux')\n",
    "        new_gaap_cols.append(name)\n",
    "    \n",
    "    outCat.rename_columns(old_gaap_cols, new_gaap_cols)\n",
    "    outCat = QTable(outCat)\n",
    "    return outCat"
   ]
  },
  {
   "cell_type": "code",
   "execution_count": 115,
   "id": "070ac01a",
   "metadata": {},
   "outputs": [],
   "source": [
    "cat2 = writeObjectTable(measCat, band='i')\n",
    "cat2.remove_columns(['id', 'coord_ra', 'coord_dec'])\n",
    "cat_ref = writeObjectTable(refCat, band='N708')"
   ]
  },
  {
   "cell_type": "code",
   "execution_count": 116,
   "id": "e103a01f",
   "metadata": {},
   "outputs": [],
   "source": [
    "cat = hstack([cat_ref, cat2])"
   ]
  },
  {
   "cell_type": "code",
   "execution_count": 142,
   "id": "cc7385bd",
   "metadata": {},
   "outputs": [
    {
     "data": {
      "text/plain": [
       "<matplotlib.collections.PathCollection at 0x2b747d8884f0>"
      ]
     },
     "execution_count": 142,
     "metadata": {},
     "output_type": "execute_result"
    },
    {
     "data": {
      "image/png": "[encoded data removed]",
      "text/plain": [
       "<Figure size 432x288 with 1 Axes>"
      ]
     },
     "metadata": {
      "needs_background": "light"
     },
     "output_type": "display_data"
    }
   ],
   "source": [
    "plt.scatter(30 - 2.5 * np.log10(cat['i_gaap1p0Flux'].data), \n",
    "            -2.5 * np.log10(cat['i_gaap1p0Flux'] / cat['N708_gaap1p0Flux']))"
   ]
  },
  {
   "cell_type": "code",
   "execution_count": null,
   "id": "f5df8c29",
   "metadata": {},
   "outputs": [],
   "source": []
  },
  {
   "cell_type": "code",
   "execution_count": null,
   "id": "03a37d98",
   "metadata": {},
   "outputs": [],
   "source": []
  },
  {
   "cell_type": "code",
   "execution_count": null,
   "id": "80cb4e22",
   "metadata": {},
   "outputs": [],
   "source": []
  },
  {
   "cell_type": "code",
   "execution_count": 56,
   "id": "6177b425",
   "metadata": {},
   "outputs": [],
   "source": [
    "cat = hstack([cat_ref, cat2])\n",
    "cat.write('/projects/MERIAN/repo/S20A/gaapTable/9813/gaap_9813_23_Merian_w04_i.fits')"
   ]
  },
  {
   "cell_type": "code",
   "execution_count": null,
   "id": "aa5b1be6",
   "metadata": {},
   "outputs": [],
   "source": []
  },
  {
   "cell_type": "code",
   "execution_count": null,
   "id": "f86f2ca6",
   "metadata": {},
   "outputs": [],
   "source": []
  },
  {
   "cell_type": "code",
   "execution_count": null,
   "id": "da84d817",
   "metadata": {},
   "outputs": [],
   "source": []
  },
  {
   "cell_type": "code",
   "execution_count": 49,
   "id": "92108fb3",
   "metadata": {},
   "outputs": [
    {
     "data": {
      "text/plain": [
       "57.543993733715425"
      ]
     },
     "execution_count": 49,
     "metadata": {},
     "output_type": "execute_result"
    }
   ],
   "source": [
    "photCalib = exposure.getPhotoCalib()\n",
    "photCalib.instFluxToNanojansky(1)"
   ]
  },
  {
   "cell_type": "code",
   "execution_count": null,
   "id": "8c8fe34c",
   "metadata": {},
   "outputs": [],
   "source": []
  },
  {
   "cell_type": "code",
   "execution_count": null,
   "id": "4aa34c58",
   "metadata": {},
   "outputs": [],
   "source": []
  },
  {
   "cell_type": "code",
   "execution_count": null,
   "id": "8cc95db9",
   "metadata": {},
   "outputs": [],
   "source": []
  },
  {
   "cell_type": "code",
   "execution_count": null,
   "id": "315da47a",
   "metadata": {},
   "outputs": [],
   "source": []
  },
  {
   "cell_type": "code",
   "execution_count": 12,
   "id": "1023a9d1",
   "metadata": {},
   "outputs": [
    {
     "data": {
      "text/plain": [
       "Text(0, 0.5, 'Delta(i), manual - RC2')"
      ]
     },
     "execution_count": 12,
     "metadata": {},
     "output_type": "execute_result"
    },
    {
     "data": {
      "image/png": "[encoded data removed]",
      "text/plain": [
       "<Figure size 432x288 with 1 Axes>"
      ]
     },
     "metadata": {
      "needs_background": "light"
     },
     "output_type": "display_data"
    }
   ],
   "source": [
    "fig, ax = plt.subplots(figsize=(6, 4))\n",
    "\n",
    "mag = 30 - 2.5 * np.log10(refCat.asAstropy()['ext_gaap_GaapFlux_1_15x_1_0_instFlux'].data * 57.543993733715425)\n",
    "diff = - 2.5 * np.log10(cat2['ext_gaap_GaapFlux_1_15x_1_0_instFlux'].data) + 2.5 * np.log10(refCat.asAstropy()['ext_gaap_GaapFlux_1_15x_1_0_instFlux'].data)\n",
    "plt.scatter(mag, \n",
    "            diff,\n",
    "            s=1)\n",
    "\n",
    "plt.xlim(16, 25)\n",
    "plt.ylim(-0.5, 0.5)\n",
    "\n",
    "plt.axhline(0, color='k', ls='--')\n",
    "\n",
    "plt.xlabel('i mag')\n",
    "plt.ylabel('Delta(i), manual - RC2')"
   ]
  },
  {
   "cell_type": "code",
   "execution_count": 9,
   "id": "2f9ba03b",
   "metadata": {},
   "outputs": [
    {
     "data": {
      "text/plain": [
       "Text(0, 0.5, 'Delta(i), manual - RC2')"
      ]
     },
     "execution_count": 9,
     "metadata": {},
     "output_type": "execute_result"
    },
    {
     "data": {
      "image/png": "[encoded data removed]",
      "text/plain": [
       "<Figure size 432x288 with 1 Axes>"
      ]
     },
     "metadata": {
      "needs_background": "light"
     },
     "output_type": "display_data"
    }
   ],
   "source": [
    "fig, ax = plt.subplots(figsize=(6, 4))\n",
    "\n",
    "mag = 30 - 2.5 * np.log10(refCat.asAstropy()['ext_gaap_GaapFlux_1_15x_1_0_instFlux'].data * 57.543993733715425)\n",
    "diff = - 2.5 * np.log10(cat2['ext_gaap_GaapFlux_1_15x_1_0_instFlux'].data) + 2.5 * np.log10(refCat.asAstropy()['ext_gaap_GaapFlux_1_15x_1_0_instFlux'].data)\n",
    "plt.scatter(mag, \n",
    "            diff,\n",
    "            s=1)\n",
    "\n",
    "# plt.xlim(20, 29)\n",
    "plt.ylim(-0.2, 0.2)\n",
    "\n",
    "plt.axhline(0, color='k', ls='--')\n",
    "\n",
    "plt.xlabel('i mag')\n",
    "plt.ylabel('Delta(i), manual - RC2')"
   ]
  },
  {
   "cell_type": "code",
   "execution_count": null,
   "id": "85d40e4a",
   "metadata": {},
   "outputs": [],
   "source": []
  },
  {
   "cell_type": "code",
   "execution_count": 25,
   "id": "89f3b71f",
   "metadata": {},
   "outputs": [
    {
     "data": {
      "text/plain": [
       "Text(0, 0.5, 'Delta(i), manual - RC2')"
      ]
     },
     "execution_count": 25,
     "metadata": {},
     "output_type": "execute_result"
    },
    {
     "data": {
      "image/png": "[encoded data removed]",
      "text/plain": [
       "<Figure size 432x288 with 1 Axes>"
      ]
     },
     "metadata": {
      "needs_background": "light"
     },
     "output_type": "display_data"
    }
   ],
   "source": [
    "fig, ax = plt.subplots(figsize=(6, 4))\n",
    "\n",
    "mag = 30 - 2.5 * np.log10(refCat.asAstropy()['ext_gaap_GaapFlux_1_15x_1_0_instFlux'].data * 57.543993733715425)\n",
    "diff = - 2.5 * np.log10(cat2['ext_gaap_GaapFlux_1_15x_1_0_instFlux'].data) + 2.5 * np.log10(refCat.asAstropy()['ext_gaap_GaapFlux_1_15x_1_0_instFlux'].data)\n",
    "plt.scatter(mag, \n",
    "            diff,\n",
    "            s=1)\n",
    "\n",
    "# plt.xlim(20, 29)\n",
    "plt.ylim(-0.1, 0.1)\n",
    "\n",
    "plt.axhline(0, color='k', ls='--')\n",
    "\n",
    "plt.xlabel('i mag')\n",
    "plt.ylabel('Delta(i), manual - RC2')"
   ]
  },
  {
   "cell_type": "code",
   "execution_count": null,
   "id": "d3ace57f",
   "metadata": {},
   "outputs": [],
   "source": []
  },
  {
   "cell_type": "code",
   "execution_count": 7,
   "id": "e96fb237",
   "metadata": {},
   "outputs": [],
   "source": [
    "import lsst.afw.display as afwDisplay\n",
    "import lsst.afw.geom as afwGeom"
   ]
  },
  {
   "cell_type": "code",
   "execution_count": 12,
   "id": "1cfa9ed5",
   "metadata": {},
   "outputs": [
    {
     "data": {
      "text/plain": [
       "Quadrupole(ixx=25.274688626204505, iyy=21.87229112267094, ixy=-7.246451166126677)"
      ]
     },
     "execution_count": 12,
     "metadata": {},
     "output_type": "execute_result"
    }
   ],
   "source": [
    "recordId = 3\n",
    "shape = refCat[recordId].getShape()\n",
    "shape"
   ]
  },
  {
   "cell_type": "code",
   "execution_count": 14,
   "id": "54e3d61d",
   "metadata": {},
   "outputs": [
    {
     "ename": "TypeError",
     "evalue": "%d format: a real number is required, not Figure",
     "output_type": "error",
     "traceback": [
      "\u001b[0;31m---------------------------------------------------------------------------\u001b[0m",
      "\u001b[0;31mTypeError\u001b[0m                                 Traceback (most recent call last)",
      "Input \u001b[0;32mIn [14]\u001b[0m, in \u001b[0;36m<cell line: 3>\u001b[0;34m()\u001b[0m\n\u001b[1;32m      1\u001b[0m \u001b[38;5;66;03m# afwDisplay.setDefaultBackend('matplotlib')\u001b[39;00m\n\u001b[1;32m      2\u001b[0m fig, ax \u001b[38;5;241m=\u001b[39m plt\u001b[38;5;241m.\u001b[39msubplots()\n\u001b[0;32m----> 3\u001b[0m display \u001b[38;5;241m=\u001b[39m \u001b[43mafwDisplay\u001b[49m\u001b[38;5;241;43m.\u001b[39;49m\u001b[43mDisplay\u001b[49m\u001b[43m(\u001b[49m\u001b[43mframe\u001b[49m\u001b[38;5;241;43m=\u001b[39;49m\u001b[43mfig\u001b[49m\u001b[43m)\u001b[49m\n\u001b[1;32m      4\u001b[0m display\u001b[38;5;241m.\u001b[39mscale(\u001b[38;5;124m\"\u001b[39m\u001b[38;5;124mlinear\u001b[39m\u001b[38;5;124m\"\u001b[39m, \u001b[38;5;124m\"\u001b[39m\u001b[38;5;124mzscale\u001b[39m\u001b[38;5;124m\"\u001b[39m)\n\u001b[1;32m      5\u001b[0m display\u001b[38;5;241m.\u001b[39msetMaskTransparency(\u001b[38;5;241m80\u001b[39m)\n",
      "File \u001b[0;32m/projects/HSC/LSST/stack_20220527/conda/envs/lsst-scipipe-4.0.1/share/eups/Linux64/afw/gba47b54d5d+94dc90c3ea/python/lsst/afw/display/interface.py:170\u001b[0m, in \u001b[0;36mDisplay.__init__\u001b[0;34m(self, frame, backend, *args, **kwargs)\u001b[0m\n\u001b[1;32m    167\u001b[0m \u001b[38;5;28mself\u001b[39m\u001b[38;5;241m.\u001b[39mname \u001b[38;5;241m=\u001b[39m backend\n\u001b[1;32m    169\u001b[0m \u001b[38;5;28mself\u001b[39m\u001b[38;5;241m.\u001b[39m_xy0 \u001b[38;5;241m=\u001b[39m \u001b[38;5;28;01mNone\u001b[39;00m                \u001b[38;5;66;03m# displayed data's XY0\u001b[39;00m\n\u001b[0;32m--> 170\u001b[0m \u001b[38;5;28;43mself\u001b[39;49m\u001b[38;5;241;43m.\u001b[39;49m\u001b[43msetMaskTransparency\u001b[49m\u001b[43m(\u001b[49m\u001b[43mDisplay\u001b[49m\u001b[38;5;241;43m.\u001b[39;49m\u001b[43m_defaultMaskTransparency\u001b[49m\u001b[43m)\u001b[49m\n\u001b[1;32m    171\u001b[0m \u001b[38;5;28mself\u001b[39m\u001b[38;5;241m.\u001b[39m_maskPlaneColors \u001b[38;5;241m=\u001b[39m {}\n\u001b[1;32m    172\u001b[0m \u001b[38;5;28mself\u001b[39m\u001b[38;5;241m.\u001b[39msetMaskPlaneColor(Display\u001b[38;5;241m.\u001b[39m_defaultMaskPlaneColor)\n",
      "File \u001b[0;32m/projects/HSC/LSST/stack_20220527/conda/envs/lsst-scipipe-4.0.1/share/eups/Linux64/afw/gba47b54d5d+94dc90c3ea/python/lsst/afw/display/interface.py:495\u001b[0m, in \u001b[0;36mDisplay.setMaskTransparency\u001b[0;34m(self, transparency, name)\u001b[0m\n\u001b[1;32m    492\u001b[0m         transparency \u001b[38;5;241m=\u001b[39m \u001b[38;5;241m100\u001b[39m\n\u001b[1;32m    494\u001b[0m \u001b[38;5;28;01mif\u001b[39;00m transparency \u001b[38;5;129;01mis\u001b[39;00m \u001b[38;5;129;01mnot\u001b[39;00m \u001b[38;5;28;01mNone\u001b[39;00m:\n\u001b[0;32m--> 495\u001b[0m     \u001b[38;5;28;43mself\u001b[39;49m\u001b[38;5;241;43m.\u001b[39;49m\u001b[43m_impl\u001b[49m\u001b[38;5;241;43m.\u001b[39;49m\u001b[43m_setMaskTransparency\u001b[49m\u001b[43m(\u001b[49m\u001b[43mtransparency\u001b[49m\u001b[43m,\u001b[49m\u001b[43m \u001b[49m\u001b[43mname\u001b[49m\u001b[43m)\u001b[49m\n",
      "File \u001b[0;32m/projects/HSC/LSST/stack_20220527/conda/envs/lsst-scipipe-4.0.1/share/eups/Linux64/display_ds9/gd01420fc67+06cf436103/python/lsst/display/ds9/ds9.py:371\u001b[0m, in \u001b[0;36mDisplayImpl._setMaskTransparency\u001b[0;34m(self, transparency, maskplane)\u001b[0m\n\u001b[1;32m    368\u001b[0m     \u001b[38;5;28mprint\u001b[39m(\u001b[38;5;124m\"\u001b[39m\u001b[38;5;124mds9 is unable to set transparency for individual maskplanes\u001b[39m\u001b[38;5;124m\"\u001b[39m \u001b[38;5;241m%\u001b[39m maskplane,\n\u001b[1;32m    369\u001b[0m           file\u001b[38;5;241m=\u001b[39msys\u001b[38;5;241m.\u001b[39mstderr)\n\u001b[1;32m    370\u001b[0m     \u001b[38;5;28;01mreturn\u001b[39;00m\n\u001b[0;32m--> 371\u001b[0m \u001b[43mds9Cmd\u001b[49m\u001b[43m(\u001b[49m\u001b[38;5;124;43m\"\u001b[39;49m\u001b[38;5;124;43mmask transparency \u001b[39;49m\u001b[38;5;132;43;01m%d\u001b[39;49;00m\u001b[38;5;124;43m\"\u001b[39;49m\u001b[43m \u001b[49m\u001b[38;5;241;43m%\u001b[39;49m\u001b[43m \u001b[49m\u001b[43mtransparency\u001b[49m\u001b[43m,\u001b[49m\u001b[43m \u001b[49m\u001b[43mframe\u001b[49m\u001b[38;5;241;43m=\u001b[39;49m\u001b[38;5;28;43mself\u001b[39;49m\u001b[38;5;241;43m.\u001b[39;49m\u001b[43mdisplay\u001b[49m\u001b[38;5;241;43m.\u001b[39;49m\u001b[43mframe\u001b[49m\u001b[43m)\u001b[49m\n",
      "File \u001b[0;32m/projects/HSC/LSST/stack_20220527/conda/envs/lsst-scipipe-4.0.1/share/eups/Linux64/display_ds9/gd01420fc67+06cf436103/python/lsst/display/ds9/ds9.py:247\u001b[0m, in \u001b[0;36mds9Cmd\u001b[0;34m(cmd, trap, flush, silent, frame, get)\u001b[0m\n\u001b[1;32m    245\u001b[0m \u001b[38;5;28;01mif\u001b[39;00m cmd:\n\u001b[1;32m    246\u001b[0m     \u001b[38;5;28;01mif\u001b[39;00m frame \u001b[38;5;129;01mis\u001b[39;00m \u001b[38;5;129;01mnot\u001b[39;00m \u001b[38;5;28;01mNone\u001b[39;00m:\n\u001b[0;32m--> 247\u001b[0m         cmd \u001b[38;5;241m=\u001b[39m \u001b[38;5;124m\"\u001b[39m\u001b[38;5;132;01m%s\u001b[39;00m\u001b[38;5;124m;\u001b[39m\u001b[38;5;124m\"\u001b[39m \u001b[38;5;241m%\u001b[39m \u001b[43mselectFrame\u001b[49m\u001b[43m(\u001b[49m\u001b[43mframe\u001b[49m\u001b[43m)\u001b[49m \u001b[38;5;241m+\u001b[39m cmd\n\u001b[1;32m    249\u001b[0m     \u001b[38;5;28;01mif\u001b[39;00m get:\n\u001b[1;32m    250\u001b[0m         \u001b[38;5;28;01mreturn\u001b[39;00m xpa\u001b[38;5;241m.\u001b[39mget(\u001b[38;5;28;01mNone\u001b[39;00m, getXpaAccessPoint(), cmd, \u001b[38;5;124m\"\u001b[39m\u001b[38;5;124m\"\u001b[39m)\u001b[38;5;241m.\u001b[39mstrip()\n",
      "File \u001b[0;32m/projects/HSC/LSST/stack_20220527/conda/envs/lsst-scipipe-4.0.1/share/eups/Linux64/display_ds9/gd01420fc67+06cf436103/python/lsst/display/ds9/ds9.py:222\u001b[0m, in \u001b[0;36mselectFrame\u001b[0;34m(frame)\u001b[0m\n\u001b[1;32m    210\u001b[0m \u001b[38;5;28;01mdef\u001b[39;00m \u001b[38;5;21mselectFrame\u001b[39m(frame):\n\u001b[1;32m    211\u001b[0m     \u001b[38;5;124;03m\"\"\"Convert integer frame number to DS9 command syntax.\u001b[39;00m\n\u001b[1;32m    212\u001b[0m \n\u001b[1;32m    213\u001b[0m \u001b[38;5;124;03m    Parameters\u001b[39;00m\n\u001b[0;32m   (...)\u001b[0m\n\u001b[1;32m    220\u001b[0m \u001b[38;5;124;03m    frameString : `str`\u001b[39;00m\n\u001b[1;32m    221\u001b[0m \u001b[38;5;124;03m    \"\"\"\u001b[39;00m\n\u001b[0;32m--> 222\u001b[0m     \u001b[38;5;28;01mreturn\u001b[39;00m \u001b[38;5;124;43m\"\u001b[39;49m\u001b[38;5;124;43mframe \u001b[39;49m\u001b[38;5;132;43;01m%d\u001b[39;49;00m\u001b[38;5;124;43m\"\u001b[39;49m\u001b[43m \u001b[49m\u001b[38;5;241;43m%\u001b[39;49m\u001b[43m \u001b[49m\u001b[43m(\u001b[49m\u001b[43mframe\u001b[49m\u001b[43m)\u001b[49m\n",
      "\u001b[0;31mTypeError\u001b[0m: %d format: a real number is required, not Figure"
     ]
    },
    {
     "data": {
      "image/png": "[encoded data removed]",
      "text/plain": [
       "<Figure size 432x288 with 1 Axes>"
      ]
     },
     "metadata": {
      "needs_background": "light"
     },
     "output_type": "display_data"
    }
   ],
   "source": [
    "afwDisplay.setDefaultBackend('matplotlib')\n",
    "fig, ax = plt.subplots()\n",
    "display = afwDisplay.Display(frame=fig)\n",
    "display.scale(\"linear\", \"zscale\")\n",
    "display.setMaskTransparency(80)\n",
    "\n",
    "obj = refCatInBand[recordId]\n",
    "footprint = obj.getFootprint()\n",
    "bbox = footprint.getBBox()\n",
    "cutout = exposure[bbox]\n",
    "display.mtv(cutout)\n",
    "display.dot(shape, *obj.getCentroid()) #*bbox.getCenter())\n",
    "# ax[1].set_title(f\"recordId = {recordId}\")"
   ]
  },
  {
   "cell_type": "code",
   "execution_count": null,
   "id": "7df002f7",
   "metadata": {},
   "outputs": [],
   "source": []
  }
 ],
 "metadata": {
  "kernelspec": {
   "display_name": "Python 3 (ipykernel)",
   "language": "python",
   "name": "python3"
  },
  "language_info": {
   "codemirror_mode": {
    "name": "ipython",
    "version": 3
   },
   "file_extension": ".py",
   "mimetype": "text/x-python",
   "name": "python",
   "nbconvert_exporter": "python",
   "pygments_lexer": "ipython3",
   "version": "3.10.5"
  }
 },
 "nbformat": 4,
 "nbformat_minor": 5
}
