{
 "cells": [
  {
   "cell_type": "markdown",
   "metadata": {},
   "source": [
    "### Process the real (raw) Merian data\n",
    "1. Scale the image to `ZP = 27.0` (same as HSC).\n",
    "2. Subtract background. **TODO: Have to consider the effect of background subtraction and image scaling on the weight map.**\n",
    "3. Extract PSF at a given position\n",
    "    \n",
    "    Download and install `psfex`: https://github.com/esheldon/psfex\n",
    "\n",
    "    Documentation: https://psfex.readthedocs.io/en/latest/GettingStarted.html"
   ]
  },
  {
   "cell_type": "code",
   "execution_count": 1,
   "metadata": {},
   "outputs": [],
   "source": [
    "%load_ext autoreload\n",
    "%autoreload 2"
   ]
  },
  {
   "cell_type": "code",
   "execution_count": 2,
   "metadata": {},
   "outputs": [
    {
     "name": "stderr",
     "output_type": "stream",
     "text": [
      "\n",
      "Bad key savefig.frameon in file /projects/HSC/LSST/stack_20200903/conda/miniconda3-py37_4.8.2/envs/lsst-scipipe-cb4e2dc/lib/python3.7/site-packages/matplotlib/mpl-data/stylelib/_classic_test.mplstyle, line 421 ('savefig.frameon : True')\n",
      "You probably need to get an updated matplotlibrc file from\n",
      "https://github.com/matplotlib/matplotlib/blob/v3.3.4/matplotlibrc.template\n",
      "or from the matplotlib source distribution\n",
      "\n",
      "Bad key verbose.level in file /projects/HSC/LSST/stack_20200903/conda/miniconda3-py37_4.8.2/envs/lsst-scipipe-cb4e2dc/lib/python3.7/site-packages/matplotlib/mpl-data/stylelib/_classic_test.mplstyle, line 472 ('verbose.level  : silent      # one of silent, helpful, debug, debug-annoying')\n",
      "You probably need to get an updated matplotlibrc file from\n",
      "https://github.com/matplotlib/matplotlib/blob/v3.3.4/matplotlibrc.template\n",
      "or from the matplotlib source distribution\n",
      "\n",
      "Bad key verbose.fileo in file /projects/HSC/LSST/stack_20200903/conda/miniconda3-py37_4.8.2/envs/lsst-scipipe-cb4e2dc/lib/python3.7/site-packages/matplotlib/mpl-data/stylelib/_classic_test.mplstyle, line 473 ('verbose.fileo  : sys.stdout  # a log filename, sys.stdout or sys.stderr')\n",
      "You probably need to get an updated matplotlibrc file from\n",
      "https://github.com/matplotlib/matplotlib/blob/v3.3.4/matplotlibrc.template\n",
      "or from the matplotlib source distribution\n",
      "In /projects/HSC/LSST/stack_20200903/conda/miniconda3-py37_4.8.2/envs/lsst-scipipe-cb4e2dc/lib/python3.7/site-packages/matplotlib/mpl-data/stylelib/_classic_test.mplstyle: \n",
      "The text.latex.preview rcparam was deprecated in Matplotlib 3.3 and will be removed two minor releases later.\n",
      "In /projects/HSC/LSST/stack_20200903/conda/miniconda3-py37_4.8.2/envs/lsst-scipipe-cb4e2dc/lib/python3.7/site-packages/matplotlib/mpl-data/stylelib/_classic_test.mplstyle: \n",
      "The mathtext.fallback_to_cm rcparam was deprecated in Matplotlib 3.3 and will be removed two minor releases later.\n",
      "In /projects/HSC/LSST/stack_20200903/conda/miniconda3-py37_4.8.2/envs/lsst-scipipe-cb4e2dc/lib/python3.7/site-packages/matplotlib/mpl-data/stylelib/_classic_test.mplstyle: Support for setting the 'mathtext.fallback_to_cm' rcParam is deprecated since 3.3 and will be removed two minor releases later; use 'mathtext.fallback : 'cm' instead.\n",
      "In /projects/HSC/LSST/stack_20200903/conda/miniconda3-py37_4.8.2/envs/lsst-scipipe-cb4e2dc/lib/python3.7/site-packages/matplotlib/mpl-data/stylelib/_classic_test.mplstyle: \n",
      "The validate_bool_maybe_none function was deprecated in Matplotlib 3.3 and will be removed two minor releases later.\n",
      "In /projects/HSC/LSST/stack_20200903/conda/miniconda3-py37_4.8.2/envs/lsst-scipipe-cb4e2dc/lib/python3.7/site-packages/matplotlib/mpl-data/stylelib/_classic_test.mplstyle: \n",
      "The savefig.jpeg_quality rcparam was deprecated in Matplotlib 3.3 and will be removed two minor releases later.\n",
      "In /projects/HSC/LSST/stack_20200903/conda/miniconda3-py37_4.8.2/envs/lsst-scipipe-cb4e2dc/lib/python3.7/site-packages/matplotlib/mpl-data/stylelib/_classic_test.mplstyle: \n",
      "The keymap.all_axes rcparam was deprecated in Matplotlib 3.3 and will be removed two minor releases later.\n",
      "In /projects/HSC/LSST/stack_20200903/conda/miniconda3-py37_4.8.2/envs/lsst-scipipe-cb4e2dc/lib/python3.7/site-packages/matplotlib/mpl-data/stylelib/_classic_test.mplstyle: \n",
      "The animation.avconv_path rcparam was deprecated in Matplotlib 3.3 and will be removed two minor releases later.\n",
      "In /projects/HSC/LSST/stack_20200903/conda/miniconda3-py37_4.8.2/envs/lsst-scipipe-cb4e2dc/lib/python3.7/site-packages/matplotlib/mpl-data/stylelib/_classic_test.mplstyle: \n",
      "The animation.avconv_args rcparam was deprecated in Matplotlib 3.3 and will be removed two minor releases later.\n"
     ]
    }
   ],
   "source": [
    "import numpy as np\n",
    "import matplotlib.pyplot as plt\n",
    "\n",
    "import astropy.units as u\n",
    "from astropy import wcs\n",
    "from astropy.io import fits\n",
    "from astropy.table import Table, Column, hstack, vstack\n",
    "from astropy.coordinates import SkyCoord\n",
    "from astropy.visualization import make_lupton_rgb\n",
    "from astropy.utils.data import download_file, clear_download_cache\n",
    "\n",
    "import kuaizi\n",
    "from kuaizi.display import display_single, SEG_CMAP\n",
    "from kuaizi.download import download_decals_cutout\n",
    "from kuaizi import DECaLS_pixel_scale, DECaLS_zeropoint\n",
    "\n",
    "import pickle\n",
    "from IPython.display import clear_output"
   ]
  },
  {
   "cell_type": "code",
   "execution_count": 3,
   "metadata": {},
   "outputs": [],
   "source": [
    "import sep\n",
    "from kuaizi.utils import save_to_fits\n",
    "import os\n",
    "import sys"
   ]
  },
  {
   "cell_type": "code",
   "execution_count": 30,
   "metadata": {
    "scrolled": false
   },
   "outputs": [],
   "source": [
    "yifei_cat = Table.read('/scratch/gpfs/jiaxuanl/Data/Merian/Catalogs/COSMOS_tractor_gaap.fits')\n",
    "song_cat = Table.read('/tigress/MERIAN/poststamps/g09_broadcut/g09_broadcut_cosmos-2022-03-21.fits')\n",
    "# Match the two\n",
    "yifei_ids = [int(name.replace('cosmos_', '').replace('_y', '')) for name in yifei_cat['name']]\n",
    "song_ids = song_cat['name']\n",
    "\n",
    "cutout_cat = song_cat[np.in1d(song_ids, yifei_ids)]\n",
    "cutout_cat.rename_column('name', 'ID')\n",
    "cutout_cat.rename_column('prefix', 'PREFIX')\n",
    "yifei_cat.rename_column(\"ID\", 'ID_yifei')\n",
    "yifei_cat.remove_column('DEC')\n",
    "\n",
    "cutout_cat = hstack([cutout_cat, yifei_cat])\n",
    "cutout_cat.write('/scratch/gpfs/jiaxuanl/Data/Merian/Catalogs/COSMOS_cutouts_tractor_gaap.fits', overwrite=True)"
   ]
  },
  {
   "cell_type": "code",
   "execution_count": 31,
   "metadata": {},
   "outputs": [],
   "source": [
    "cutout_cat[:200].write(\n",
    "    '/scratch/gpfs/jiaxuanl/Data/Merian/Catalogs/COSMOS_cutouts_tractor_gaap_test.fits', overwrite=True)"
   ]
  },
  {
   "cell_type": "code",
   "execution_count": 16,
   "metadata": {},
   "outputs": [],
   "source": [
    "iN708_gaap = (cutout_cat['i_gaap_mag'] - cutout_cat['N708_gaap_mag']).data\n",
    "iN708_tractor = 2.5 * (np.log10(cutout_cat['N708_tractor_flux']) - np.log10(cutout_cat['i_tractor_flux']))"
   ]
  },
  {
   "cell_type": "code",
   "execution_count": 27,
   "metadata": {
    "scrolled": true
   },
   "outputs": [
    {
     "data": {
      "text/plain": [
       "[<matplotlib.lines.Line2D at 0x2b09f729a3d0>]"
      ]
     },
     "execution_count": 27,
     "metadata": {},
     "output_type": "execute_result"
    },
    {
     "data": {
      "image/png": "[encoded data removed]",
      "text/plain": [
       "<Figure size 432x288 with 1 Axes>"
      ]
     },
     "metadata": {
      "needs_background": "light"
     },
     "output_type": "display_data"
    }
   ],
   "source": [
    "plt.scatter(iN708_gaap[:200], iN708_tractor[:200])\n",
    "x = plt.gca().get_xlim()\n",
    "x = np.linspace(*x, 100)\n",
    "plt.plot(x, x)"
   ]
  },
  {
   "cell_type": "code",
   "execution_count": null,
   "metadata": {},
   "outputs": [],
   "source": []
  },
  {
   "cell_type": "code",
   "execution_count": 17,
   "metadata": {},
   "outputs": [
    {
     "data": {
      "text/plain": [
       "(array([    0,     1,     2, ..., 10706, 10707, 10708]),)"
      ]
     },
     "execution_count": 17,
     "metadata": {},
     "output_type": "execute_result"
    }
   ],
   "source": [
    "np.where(np.abs(iN708_gaap - iN708_tractor) > 0.5)"
   ]
  },
  {
   "cell_type": "code",
   "execution_count": 80,
   "metadata": {},
   "outputs": [
    {
     "data": {
      "text/plain": [
       "[<matplotlib.lines.Line2D at 0x2ac16e86da90>]"
      ]
     },
     "execution_count": 80,
     "metadata": {},
     "output_type": "execute_result"
    },
    {
     "data": {
      "image/png": "[encoded data removed]",
      "text/plain": [
       "<Figure size 432x288 with 1 Axes>"
      ]
     },
     "metadata": {
      "needs_background": "light"
     },
     "output_type": "display_data"
    }
   ],
   "source": [
    "plt.scatter(cutout_cat['i_gaap_mag'], -2.5 * np.log10(cutout_cat['i_tractor_flux']) + 22.5)\n",
    "\n",
    "x = np.linspace(17, 24)\n",
    "plt.plot(x, x, lw=3, color='r')"
   ]
  },
  {
   "cell_type": "code",
   "execution_count": 73,
   "metadata": {},
   "outputs": [
    {
     "data": {
      "text/plain": [
       "[<matplotlib.lines.Line2D at 0x2ac16eb32b50>]"
      ]
     },
     "execution_count": 73,
     "metadata": {},
     "output_type": "execute_result"
    },
    {
     "data": {
      "image/png": "[encoded data removed]",
      "text/plain": [
       "<Figure size 432x288 with 1 Axes>"
      ]
     },
     "metadata": {
      "needs_background": "light"
     },
     "output_type": "display_data"
    }
   ],
   "source": [
    "plt.scatter(cutout_cat['N708_gaap_mag'], -2.5 * np.log10(cutout_cat['N708_tractor_flux']) + 22.5)\n",
    "\n",
    "x = np.linspace(17, 24)\n",
    "plt.plot(x, x, lw=3, color='r')"
   ]
  },
  {
   "cell_type": "markdown",
   "metadata": {},
   "source": [
    "---"
   ]
  },
  {
   "cell_type": "code",
   "execution_count": 5,
   "metadata": {},
   "outputs": [
    {
     "data": {
      "text/plain": [
       "'/scratch/gpfs/jiaxuanl/Data/Merian/'"
      ]
     },
     "execution_count": 5,
     "metadata": {},
     "output_type": "execute_result"
    }
   ],
   "source": [
    "kuaizi.set_env(project='Merian', name='', data_dir='/scratch/gpfs/jiaxuanl/Data')"
   ]
  },
  {
   "cell_type": "code",
   "execution_count": 6,
   "metadata": {},
   "outputs": [],
   "source": [
    "obj_cat = Table.read('./Catalogs/COSMOS_cutouts_tractor_gaap.fits')"
   ]
  },
  {
   "cell_type": "markdown",
   "metadata": {},
   "source": [
    "### Also need to generate HSC cutouts"
   ]
  },
  {
   "cell_type": "code",
   "execution_count": 7,
   "metadata": {},
   "outputs": [],
   "source": [
    "sys.path.append('/home/jiaxuanl/Research/Merian/merian_tractor/scripts')\n",
    "from s18a_batch_cutout import batch_cutout"
   ]
  },
  {
   "cell_type": "code",
   "execution_count": 8,
   "metadata": {},
   "outputs": [],
   "source": [
    "DATADIR=\"/scratch/gpfs/jiaxuanl/Data/\" # Directory of all data\n",
    "LSBGDIR=\"/scratch/gpfs/jiaxuanl/Data/Merian/\""
   ]
  },
  {
   "cell_type": "raw",
   "metadata": {},
   "source": [
    "batch_cutout(DATADIR, \n",
    "             LSBGDIR + \"Catalogs/COSMOS_cutouts_tractor_gaap_test.fits\", \n",
    "             low=50, high=200, size='half_size', unit='arcsec', \n",
    "             bands='grizy', name='ID', prefix='s18a_wide', njobs=8,\n",
    "             overwrite=True)"
   ]
  },
  {
   "cell_type": "raw",
   "metadata": {},
   "source": [
    "for obj in obj_cat[:200]:\n",
    "    file = os.path.join(obj['dir'], f'{obj[\"PREFIX\"]}_N708_deepCoadd.fits')\n",
    "    newfile = file.replace('/projects/MERIAN/poststamps/g09_broadcut', \n",
    "                           '/scratch/gpfs/jiaxuanl/Data/Merian/Cutout')\n",
    "    os.system(f'cp {file} {newfile}')\n",
    "    \n",
    "    file = os.path.join(obj['dir'], f'{obj[\"PREFIX\"]}_N708_psf.fits')\n",
    "    newfile = file.replace('/projects/MERIAN/poststamps/g09_broadcut', \n",
    "                           '/scratch/gpfs/jiaxuanl/Data/Merian/Cutout')\n",
    "    os.system(f'cp {file} {newfile}')"
   ]
  },
  {
   "cell_type": "code",
   "execution_count": 14,
   "metadata": {},
   "outputs": [],
   "source": [
    "for obj in obj_cat[:200]:\n",
    "    file = os.path.join(obj['dir'], f'{obj[\"PREFIX\"]}_n540_deepCoadd.fits')\n",
    "    newfile = file.replace('/projects/MERIAN/poststamps/g09_broadcut', \n",
    "                           '/scratch/gpfs/jiaxuanl/Data/Merian/Cutout')\n",
    "    newfile = newfile.replace('n540', 'N540')\n",
    "    os.system(f'cp {file} {newfile}')\n",
    "    \n",
    "    file = os.path.join(obj['dir'], f'{obj[\"PREFIX\"]}_n540_psf.fits')\n",
    "    newfile = file.replace('/projects/MERIAN/poststamps/g09_broadcut', \n",
    "                           '/scratch/gpfs/jiaxuanl/Data/Merian/Cutout')\n",
    "    newfile = newfile.replace('n540', 'N540')\n",
    "    os.system(f'cp {file} {newfile}')"
   ]
  },
  {
   "cell_type": "code",
   "execution_count": null,
   "metadata": {},
   "outputs": [],
   "source": []
  },
  {
   "cell_type": "code",
   "execution_count": 101,
   "metadata": {},
   "outputs": [],
   "source": [
    "# print('ZP=', merian_hdu[0].header['MAGZERO'])\n",
    "# skysub = merian_hdu[0].header['SKYSUB']\n",
    "# print('SKYSUB=', skysub)\n",
    "# img -= skysub"
   ]
  },
  {
   "cell_type": "code",
   "execution_count": 102,
   "metadata": {},
   "outputs": [],
   "source": [
    "# img *= 10**((27.0 - merian_hdu[0].header['MAGZERO']) / 2.5) # scale to ZP = 27.0"
   ]
  },
  {
   "cell_type": "code",
   "execution_count": 13,
   "metadata": {},
   "outputs": [],
   "source": [
    "# bkg = sep.Background(img, bw=256, bh=256)\n",
    "# bkg.globalback\n",
    "# display_single(bkg.back());"
   ]
  },
  {
   "cell_type": "code",
   "execution_count": 14,
   "metadata": {},
   "outputs": [],
   "source": [
    "# You can save background and bkg-subtracted image, if you like\n",
    "# save_to_fits(bkg.back(), '../merian_images/merian_cosmos_bkg256.fits')\n",
    "# save_to_fits(img - bkg.back(), '../merian_images/merian_cosmos_N708_bkgsub.fits', wcs=w_img)"
   ]
  },
  {
   "cell_type": "code",
   "execution_count": null,
   "metadata": {},
   "outputs": [],
   "source": []
  }
 ],
 "metadata": {
  "kernelspec": {
   "display_name": "Python 3",
   "language": "python",
   "name": "python3"
  },
  "language_info": {
   "codemirror_mode": {
    "name": "ipython",
    "version": 3
   },
   "file_extension": ".py",
   "mimetype": "text/x-python",
   "name": "python",
   "nbconvert_exporter": "python",
   "pygments_lexer": "ipython3",
   "version": "3.7.8"
  }
 },
 "nbformat": 4,
 "nbformat_minor": 2
}
