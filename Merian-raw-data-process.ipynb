{
 "cells": [
  {
   "cell_type": "markdown",
   "metadata": {},
   "source": [
    "### Process the real (raw) Merian data\n",
    "1. Scale the image to `ZP = 27.0` (same as HSC).\n",
    "2. Subtract background. **TODO: Have to consider the effect of background subtraction and image scaling on the weight map.**\n",
    "3. Extract PSF at a given position\n",
    "    \n",
    "    Download and install `psfex`: https://github.com/esheldon/psfex\n",
    "\n",
    "    Documentation: https://psfex.readthedocs.io/en/latest/GettingStarted.html"
   ]
  },
  {
   "cell_type": "code",
   "execution_count": 1,
   "metadata": {},
   "outputs": [],
   "source": [
    "%load_ext autoreload\n",
    "%autoreload 2"
   ]
  },
  {
   "cell_type": "code",
   "execution_count": 5,
   "metadata": {},
   "outputs": [],
   "source": [
    "import numpy as np\n",
    "import matplotlib.pyplot as plt\n",
    "\n",
    "import astropy.units as u\n",
    "from astropy import wcs\n",
    "from astropy.io import fits\n",
    "from astropy.table import Table, Column\n",
    "from astropy.coordinates import SkyCoord\n",
    "from astropy.visualization import make_lupton_rgb\n",
    "from astropy.utils.data import download_file, clear_download_cache\n",
    "\n",
    "import kuaizi\n",
    "from kuaizi.display import display_single, SEG_CMAP\n",
    "from kuaizi.download import download_decals_cutout\n",
    "from kuaizi import DECaLS_pixel_scale, DECaLS_zeropoint\n",
    "\n",
    "import pickle\n",
    "from IPython.display import clear_output"
   ]
  },
  {
   "cell_type": "code",
   "execution_count": 6,
   "metadata": {},
   "outputs": [],
   "source": [
    "import sep\n",
    "from kuaizi.utils import save_to_fits"
   ]
  },
  {
   "cell_type": "code",
   "execution_count": 7,
   "metadata": {},
   "outputs": [
    {
     "data": {
      "text/html": [
       "<i>Row index=0</i>\n",
       "<table id=\"table140194220453336\">\n",
       "<thead><tr><th>name</th><th>prefix</th><th>ra</th><th>dec</th><th>radius</th></tr></thead>\n",
       "<thead><tr><th></th><th></th><th></th><th></th><th>arcsec</th></tr></thead>\n",
       "<thead><tr><th>bytes18</th><th>bytes68</th><th>float64</th><th>float64</th><th>float64</th></tr></thead>\n",
       "<tr><td>s18a_wide_226984_y</td><td>/tigress/MERIAN/cutout/cosmos_test_1/1/226984/hsc/s18a_wide_226984_y</td><td>149.601282768496</td><td>1.6225202529022225</td><td>15.0</td></tr>\n",
       "</table>"
      ],
      "text/plain": [
       "<Row index=0>\n",
       "       name                                       prefix                                       ra               dec          radius\n",
       "                                                                                                                             arcsec\n",
       "     bytes18                                     bytes68                                    float64           float64       float64\n",
       "------------------ -------------------------------------------------------------------- ---------------- ------------------ -------\n",
       "s18a_wide_226984_y /tigress/MERIAN/cutout/cosmos_test_1/1/226984/hsc/s18a_wide_226984_y 149.601282768496 1.6225202529022225    15.0"
      ]
     },
     "execution_count": 7,
     "metadata": {},
     "output_type": "execute_result"
    }
   ],
   "source": [
    "obj_cat = Table.read('/Users/jiaxuanli/Research/Merian/cosmos_test_1/cosmos_test_1-2021-02-04.fits')\n",
    "obj = obj_cat[0]\n",
    "obj"
   ]
  },
  {
   "cell_type": "markdown",
   "metadata": {},
   "source": [
    "#### Image & Weight map"
   ]
  },
  {
   "cell_type": "code",
   "execution_count": 26,
   "metadata": {},
   "outputs": [],
   "source": [
    "# Load Image\n",
    "merian_hdu = fits.open('../merian_images/c4d_210307_021334_osj_N708_wide.fits.fz')\n",
    "w_img = wcs.WCS(merian_hdu[1].header)\n",
    "img = merian_hdu[1].data"
   ]
  },
  {
   "cell_type": "code",
   "execution_count": 27,
   "metadata": {},
   "outputs": [
    {
     "name": "stdout",
     "output_type": "stream",
     "text": [
      "ZP= 30.677\n",
      "SKYSUB= 337.0103\n"
     ]
    }
   ],
   "source": [
    "print('ZP=', merian_hdu[0].header['MAGZERO'])\n",
    "skysub = merian_hdu[0].header['SKYSUB']\n",
    "print('SKYSUB=', skysub)\n",
    "\n",
    "img -= skysub"
   ]
  },
  {
   "cell_type": "code",
   "execution_count": 28,
   "metadata": {},
   "outputs": [],
   "source": [
    "img *= 10**((27.0 - merian_hdu[0].header['MAGZERO']) / 2.5) # scale to ZP = 27.0"
   ]
  },
  {
   "cell_type": "code",
   "execution_count": 13,
   "metadata": {},
   "outputs": [],
   "source": [
    "# bkg = sep.Background(img, bw=256, bh=256)\n",
    "# bkg.globalback\n",
    "# display_single(bkg.back());"
   ]
  },
  {
   "cell_type": "code",
   "execution_count": 14,
   "metadata": {},
   "outputs": [],
   "source": [
    "# You can save background and bkg-subtracted image, if you like\n",
    "# save_to_fits(bkg.back(), '../merian_images/merian_cosmos_bkg256.fits')\n",
    "# save_to_fits(img - bkg.back(), '../merian_images/merian_cosmos_N708_bkgsub.fits', wcs=w_img)"
   ]
  },
  {
   "cell_type": "code",
   "execution_count": 29,
   "metadata": {},
   "outputs": [],
   "source": [
    "# Load weight\n",
    "weight_hdu = fits.open('../merian_images/c4d_210307_021334_osw_N708_wide.fits.fz')\n",
    "weight = weight_hdu[1].data\n",
    "w_weight = wcs.WCS(weight_hdu[1].header)"
   ]
  },
  {
   "cell_type": "code",
   "execution_count": 30,
   "metadata": {},
   "outputs": [],
   "source": [
    "# Load PSF\n",
    "import psfex\n",
    "pex = psfex.PSFEx('../merian_images/cosmos_deep_init_backup.psf')"
   ]
  },
  {
   "cell_type": "code",
   "execution_count": null,
   "metadata": {},
   "outputs": [],
   "source": []
  },
  {
   "cell_type": "markdown",
   "metadata": {},
   "source": [
    "### Make cutouts"
   ]
  },
  {
   "cell_type": "code",
   "execution_count": 31,
   "metadata": {},
   "outputs": [],
   "source": [
    "from kuaizi.utils import img_cutout\n",
    "import os\n",
    "filt = 'N708'"
   ]
  },
  {
   "cell_type": "code",
   "execution_count": 32,
   "metadata": {},
   "outputs": [],
   "source": [
    "for obj in obj_cat[0:3]:\n",
    "    obj_id = obj['name'].lstrip('s18a_wide').rstrip('_y')\n",
    "    \n",
    "    x, y = w_img.wcs_world2pix(obj['ra'], obj['dec'], 0)\n",
    "    \n",
    "    if not os.path.isdir(f'../cosmos_test_1/1/{obj_id}/merian/'):\n",
    "        os.mkdir(f'../cosmos_test_1/1/{obj_id}/merian/')\n",
    "\n",
    "    img_cut, [cen_pos, dx, dy], img_cut_header = img_cutout(\n",
    "        img, # bkg.globalback\n",
    "        w_img, obj['ra'], obj['dec'], # subtract a global bkg\n",
    "        size=[obj['radius'] * 2, obj['radius'] * 2],\n",
    "        pixel_scale=0.27,\n",
    "        save=False,)\n",
    "#     img_cele = Celestial(img_cut.data, header=img_cut_header, dataset='Merian',)\n",
    "#     img_cele.resize_Celestial(0.272 / 0.168)\n",
    "    \n",
    "    weight_cut, [cen_pos, dx, dy], weight_cut_header = img_cutout(\n",
    "        weight, w_weight, obj['ra'], obj['dec'],\n",
    "        size=[obj['radius'] * 2, obj['radius'] * 2],\n",
    "        pixel_scale=0.27,\n",
    "        save=False,)\n",
    "    \n",
    "    psf_array = pex.get_rec(y, x)\n",
    "    \n",
    "    hdu1 = fits.HDUList([\n",
    "        fits.PrimaryHDU(header=merian_hdu[0].header),  # header\n",
    "        fits.ImageHDU(data=img_cut.data, header=img_cut_header,\n",
    "                      name='IMAGE'),  # image\n",
    "        fits.ImageHDU(data=None, header=None,\n",
    "                      name='MASK'),  # mask, here mask is none\n",
    "        fits.ImageHDU(\n",
    "            data=weight_cut.data, header=weight_cut_header,\n",
    "            name='WEIGHT'),  # weight\n",
    "        fits.ImageHDU(\n",
    "            data=psf_array,\n",
    "            name='PSF'),  # PSF\n",
    "    ])\n",
    "        \n",
    "#     hdu1 = fits.HDUList([\n",
    "#         fits.PrimaryHDU(header=merian_hdu[0].header),  # header\n",
    "#         fits.ImageHDU(data=img_cut.data, header=img_cut_header,\n",
    "#                       name='IMAGE'),  # image\n",
    "#         fits.ImageHDU(data=None, header=None,\n",
    "#                       name='MASK'),  # mask, here mask is none\n",
    "#         fits.ImageHDU(\n",
    "#             data=weight_cut.data, header=weight_cut_header,\n",
    "#             name='WEIGHT'),  # weight\n",
    "#     ])\n",
    "    fits_file = f'merian_{obj_id}_{filt}' + '.fits'\n",
    "    fits_file = os.path.join(f'../cosmos_test_1/1/{obj_id}/merian/', fits_file)\n",
    "\n",
    "    hdu1.writeto(fits_file, overwrite=True)"
   ]
  },
  {
   "cell_type": "code",
   "execution_count": 19,
   "metadata": {},
   "outputs": [
    {
     "data": {
      "text/plain": [
       "'../cosmos_test_1/1/238189/merian/merian_238189_N708.fits'"
      ]
     },
     "execution_count": 19,
     "metadata": {},
     "output_type": "execute_result"
    }
   ],
   "source": [
    "fits_file"
   ]
  },
  {
   "cell_type": "raw",
   "metadata": {},
   "source": [
    "# DEPRECATED!\n",
    "_ = save_to_fits(\n",
    "    Gaussian2DKernel(0.88 / 2.355 / 0.27, x_size=43).array,\n",
    "    f'/Users/jiaxuanli/Research/Merian/cosmos_test_1/1/{obj_id}/merian/merian_{obj_id}_N708_psf_gauss.fits'\n",
    ")\n",
    "# This PSF might not be good. Maybe convolve the HSC PSF a bits??"
   ]
  },
  {
   "cell_type": "code",
   "execution_count": null,
   "metadata": {},
   "outputs": [],
   "source": []
  },
  {
   "cell_type": "code",
   "execution_count": null,
   "metadata": {},
   "outputs": [],
   "source": []
  },
  {
   "cell_type": "code",
   "execution_count": null,
   "metadata": {},
   "outputs": [],
   "source": []
  },
  {
   "cell_type": "code",
   "execution_count": null,
   "metadata": {},
   "outputs": [],
   "source": []
  },
  {
   "cell_type": "code",
   "execution_count": null,
   "metadata": {},
   "outputs": [],
   "source": []
  },
  {
   "cell_type": "code",
   "execution_count": 21,
   "metadata": {},
   "outputs": [],
   "source": [
    "diana_cat = Table.read('/Users/jiaxuanli/Downloads/ladybug_trac_opt_target.fits')\n",
    "obj = diana_cat[diana_cat['name'] == 'ladybug_1_y']"
   ]
  },
  {
   "cell_type": "code",
   "execution_count": 44,
   "metadata": {},
   "outputs": [],
   "source": [
    "for key in obj.keys():\n",
    "    if 'flux' in key:\n",
    "        obj[key] *= 10**-1.8"
   ]
  },
  {
   "cell_type": "code",
   "execution_count": 22,
   "metadata": {},
   "outputs": [
    {
     "data": {
      "text/html": [
       "<i>Table length=1</i>\n",
       "<table id=\"table140194719231280\" class=\"table-striped table-bordered table-condensed\">\n",
       "<thead><tr><th>name</th><th>N708_tractor_flux</th><th>g_tractor_flux</th><th>r_tractor_flux</th><th>i_tractor_flux</th><th>z_tractor_flux</th><th>y_tractor_flux</th><th>tractor_sersic_index</th><th>tractor_re</th></tr></thead>\n",
       "<thead><tr><th></th><th>nmgy</th><th>nmgy</th><th>nmgy</th><th>nmgy</th><th>nmgy</th><th>nmgy</th><th></th><th>arcsec</th></tr></thead>\n",
       "<thead><tr><th>bytes13</th><th>float64</th><th>float64</th><th>float64</th><th>float64</th><th>float64</th><th>float64</th><th>float64</th><th>float64</th></tr></thead>\n",
       "<tr><td>ladybug_1_y</td><td>1.642045245517708</td><td>282.45107546411583</td><td>343.8580458930526</td><td>413.07604336085524</td><td>428.70618606653426</td><td>476.0141937110944</td><td>0.7609951676224298</td><td>0.7145151799452341</td></tr>\n",
       "</table>"
      ],
      "text/plain": [
       "<Table length=1>\n",
       "    name    N708_tractor_flux ... tractor_sersic_index     tractor_re    \n",
       "                   nmgy       ...                            arcsec      \n",
       "  bytes13        float64      ...       float64             float64      \n",
       "----------- ----------------- ... -------------------- ------------------\n",
       "ladybug_1_y 1.642045245517708 ...   0.7609951676224298 0.7145151799452341"
      ]
     },
     "execution_count": 22,
     "metadata": {},
     "output_type": "execute_result"
    }
   ],
   "source": [
    "obj"
   ]
  },
  {
   "cell_type": "code",
   "execution_count": null,
   "metadata": {},
   "outputs": [],
   "source": []
  }
 ],
 "metadata": {
  "kernelspec": {
   "display_name": "Python 3",
   "language": "python",
   "name": "python3"
  },
  "language_info": {
   "codemirror_mode": {
    "name": "ipython",
    "version": 3
   },
   "file_extension": ".py",
   "mimetype": "text/x-python",
   "name": "python",
   "nbconvert_exporter": "python",
   "pygments_lexer": "ipython3",
   "version": "3.7.0"
  }
 },
 "nbformat": 4,
 "nbformat_minor": 2
}
