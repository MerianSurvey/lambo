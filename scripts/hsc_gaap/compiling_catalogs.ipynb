{
 "cells": [
  {
   "cell_type": "code",
   "execution_count": 1,
   "metadata": {},
   "outputs": [
    {
     "name": "stdout",
     "output_type": "stream",
     "text": [
      "Overriding default configuration file with /projects/HSC/LSST/stack_20220527/conda/envs/lsst-scipipe-4.1.0/share/eups/Linux64/dustmaps_cachedata/g41a3ec361e+62d12e78cb/config/.dustmapsrc\n"
     ]
    }
   ],
   "source": [
    "import os, sys\n",
    "import glob\n",
    "import numpy as np\n",
    "sys.path.append(os.path.join(os.getenv('LAMBO_HOME'), 'lambo/scripts/'))\n",
    "from astropy.table import Table, vstack, hstack\n",
    "\n",
    "from hsc_gaap.compile_catalogs import compileCatalogs\n"
   ]
  },
  {
   "cell_type": "code",
   "execution_count": 155,
   "metadata": {},
   "outputs": [],
   "source": [
    "# jiaxuan_table = Table.read(\"/projects/MERIAN/repo/S20A/gaapTable/9813/objectTable_S20A_Merian_9813_221224.fits\")\n",
    "# gaap_table  = Table.read('/scratch/gpfs/am2907/Merian/gaap/S20A/gaapTable/8280/1,8/objectTable_8280_1,8_S20A.fits')\n",
    "\n",
    "# keepColumns = jiaxuan_table.colnames[:5]\n",
    "# keepColumns += jiaxuan_table.colnames[83:]\n",
    "\n",
    "# keepColumns += [\"objectId\"]\n",
    "# keepColumns = np.array(keepColumns)\n",
    "# np.save(\"keep_table_columns\", keepColumns)"
   ]
  },
  {
   "cell_type": "code",
   "execution_count": 156,
   "metadata": {},
   "outputs": [],
   "source": [
    "# merian_cols = consolidateMerianCats([0], 9813).colnames\n",
    "# gaap_cols = Table.read('/scratch/gpfs/am2907/Merian/gaap/S20A/gaapTable/9318/0,0/objectTable_9318_0,0_S20A.fits').colnames  \n",
    "# keepColumns_merian = [col for col in merian_cols if (np.sum([k in col for k in keepColumns])>0)]\n",
    "# keepColumns_gaap   = [col for col in gaap_cols if (np.sum([k in col for k in keepColumns])>0)]"
   ]
  },
  {
   "cell_type": "code",
   "execution_count": 128,
   "metadata": {},
   "outputs": [],
   "source": [
    "# keepColumns = list(np.load(\"keep_table_columns.npy\"))"
   ]
  },
  {
   "cell_type": "code",
   "execution_count": 129,
   "metadata": {},
   "outputs": [],
   "source": [
    "keepColumns = open(\"keep_table_columns.txt\", \"r\").read().split('\\n')\n",
    "merian_cols = consolidateMerianCats([0], 9813).colnames\n",
    "gaap_cols = Table.read('/scratch/gpfs/am2907/Merian/gaap/S20A/gaapTable/9318/0,0/objectTable_9318_0,0_S20A.fits').colnames  \n",
    "keepColumns_merian = np.array([[f\"{filt}_\"+ col for col in keepColumns[6:-1]] for filt in ['N708', 'N540']]).flatten()\n",
    "keepColumns_merian = np.concatenate((keepColumns[:6], keepColumns_merian))\n",
    "keepColumns_gaap = np.array([[f\"{filt}_\"+ col for col in keepColumns[6:]] for filt in ['g', 'r', 'i', 'z', 'y']]).flatten()\n",
    "keepColumns_gaap = np.concatenate((keepColumns[:6], keepColumns_gaap))\n",
    "keepColumns_merian = [k for k in keepColumns_merian if k in merian_cols] \n",
    "keepColumns_gaap   = [k for k in keepColumns_gaap if k in gaap_cols] "
   ]
  },
  {
   "cell_type": "code",
   "execution_count": 152,
   "metadata": {},
   "outputs": [],
   "source": [
    "np.save(\"keep_table_columns_merian\", keepColumns_merian)\n",
    "np.save(\"keep_table_columns_gaap\", keepColumns_gaap)"
   ]
  },
  {
   "attachments": {},
   "cell_type": "markdown",
   "metadata": {},
   "source": [
    "---\n",
    "Try fewer columns"
   ]
  },
  {
   "cell_type": "code",
   "execution_count": 2,
   "metadata": {},
   "outputs": [
    {
     "name": "stdout",
     "output_type": "stream",
     "text": [
      "COMPILED TABLE OF 69666 ROWS and 69 COLUMNS\n",
      "WROTE TABLE TO /scratch/gpfs/am2907/Merian/gaap/S20A/gaapTable/8280/objectTable_8280_S20A.fits\n"
     ]
    }
   ],
   "source": [
    "compileCatalogs([8280])"
   ]
  },
  {
   "cell_type": "code",
   "execution_count": 145,
   "metadata": {},
   "outputs": [],
   "source": [
    "tract = 9326\n",
    "\n",
    "repo = \"/scratch/gpfs/am2907/Merian/gaap/\"\n",
    "\n",
    "patches = findReducedPatches(tract)\n",
    "patches.sort()\n",
    "catDir = os.path.join(repo, f\"S20A/gaapTable/{tract}/\")\n",
    "objectTables = np.array(glob.glob(catDir + \"*/objectTable*\"))\n",
    "\n",
    "ot_patches = np.array([ot.split(\"_\")[2] for ot in objectTables])\n",
    "ot_patches = np.array([int(otp[0]) + int(otp[2])*9 for otp in ot_patches])\n",
    "objectTables, ot_patches = objectTables[ot_patches.argsort()], ot_patches[ot_patches.argsort()]\n",
    "\n",
    "assert np.all(patches == ot_patches), \"Object tables do not match expected patches\"\n",
    "\n",
    "\n",
    "tableList = []\n",
    "for patchno, patchpath in zip(ot_patches, objectTables):\n",
    "    merian = consolidateMerianCats([patchno], tract)[keepColumns_merian]\n",
    "    gaapTable = Table.read(patchpath)[keepColumns_gaap]   \n",
    "\n",
    "    assert np.all(merian['objectId'] == gaapTable['objectId']) , \"GAaP table does not match Merian table!\"\n",
    "    gaapTable.remove_columns([\"objectId\", \"coord_ra\", \"coord_dec\", \"ebv\"])\n",
    "    tableList.append(hstack([merian, gaapTable]))\n",
    "    # tableList.append(gaapTable)\n",
    "fullTable = vstack(tableList)\n",
    "\n"
   ]
  },
  {
   "cell_type": "code",
   "execution_count": 146,
   "metadata": {},
   "outputs": [
    {
     "data": {
      "text/plain": [
       "(69, 2185323)"
      ]
     },
     "execution_count": 146,
     "metadata": {},
     "output_type": "execute_result"
    }
   ],
   "source": [
    "len(fullTable.colnames), len(fullTable)"
   ]
  },
  {
   "cell_type": "code",
   "execution_count": 141,
   "metadata": {},
   "outputs": [],
   "source": [
    "# for c in fullTable.colnames:\n",
    "#     try:\n",
    "#         if len(fullTable[~fullTable[c].mask])==0:\n",
    "#             print(c) \n",
    "#     except:\n",
    "#         pass"
   ]
  },
  {
   "cell_type": "code",
   "execution_count": 13,
   "metadata": {},
   "outputs": [
    {
     "ename": "",
     "evalue": "",
     "output_type": "error",
     "traceback": [
      "\u001b[1;31mThe Kernel crashed while executing code in the the current cell or a previous cell. Please review the code in the cell(s) to identify a possible cause of the failure. Click <a href='https://aka.ms/vscodeJupyterKernelCrash'>here</a> for more info. View Jupyter <a href='command:jupyter.viewOutput'>log</a> for further details."
     ]
    },
    {
     "ename": "",
     "evalue": "",
     "output_type": "error",
     "traceback": [
      "\u001b[1;31mCanceled future for execute_request message before replies were done"
     ]
    }
   ],
   "source": [
    "# outCatFile = os.path.join(catDir, f'objectTable_{tract}_S20A.h5')\n",
    "# cat = fullTable.to_pandas()\n",
    "# cat.to_hdf(outCatFile, key='df', mode='w')"
   ]
  },
  {
   "cell_type": "code",
   "execution_count": 149,
   "metadata": {},
   "outputs": [
    {
     "name": "stdout",
     "output_type": "stream",
     "text": [
      "WRITING TO /scratch/gpfs/am2907/Merian/gaap/S20A/gaapTable/9326/objectTable_9326_S20A.fits\n",
      "SUCCESS\n"
     ]
    }
   ],
   "source": [
    "outCatFile = os.path.join(catDir, f'objectTable_{tract}_S20A.fits')\n",
    "print(f\"WRITING TO {outCatFile}\")\n",
    "fullTable.write(outCatFile, overwrite=True)\n",
    "print(\"SUCCESS\")\n"
   ]
  },
  {
   "cell_type": "code",
   "execution_count": 150,
   "metadata": {},
   "outputs": [],
   "source": [
    "repo = \"/scratch/gpfs/am2907/Merian/gaap/\"\n",
    "catDir = os.path.join(repo, f\"S20A/gaapTable/{tract}/\")\n",
    "outCatFile = os.path.join(catDir, f'objectTable_{tract}_S20A.fits')\n",
    "testing = Table.read(outCatFile)"
   ]
  },
  {
   "cell_type": "code",
   "execution_count": 151,
   "metadata": {},
   "outputs": [
    {
     "data": {
      "text/plain": [
       "(69, 2185323)"
      ]
     },
     "execution_count": 151,
     "metadata": {},
     "output_type": "execute_result"
    }
   ],
   "source": [
    "len(testing.colnames), len(testing)"
   ]
  },
  {
   "cell_type": "code",
   "execution_count": null,
   "metadata": {},
   "outputs": [],
   "source": []
  }
 ],
 "metadata": {
  "kernelspec": {
   "display_name": "Python 3 (ipykernel)",
   "language": "python",
   "name": "python3"
  },
  "language_info": {
   "codemirror_mode": {
    "name": "ipython",
    "version": 3
   },
   "file_extension": ".py",
   "mimetype": "text/x-python",
   "name": "python",
   "nbconvert_exporter": "python",
   "pygments_lexer": "ipython3",
   "version": "3.10.5"
  },
  "orig_nbformat": 4
 },
 "nbformat": 4,
 "nbformat_minor": 2
}
